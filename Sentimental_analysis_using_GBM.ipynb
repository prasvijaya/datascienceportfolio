{
  "nbformat": 4,
  "nbformat_minor": 0,
  "metadata": {
    "colab": {
      "name": "Sentimental analysis using GBM.ipynb",
      "provenance": [],
      "collapsed_sections": [],
      "authorship_tag": "ABX9TyPpH85ONq3qGNiU+qwzvYZl",
      "include_colab_link": true
    },
    "kernelspec": {
      "name": "python3",
      "display_name": "Python 3"
    },
    "accelerator": "GPU",
    "widgets": {
      "application/vnd.jupyter.widget-state+json": {
        "63e6c8b5f613490ba636a3b4a7ae0e96": {
          "model_module": "@jupyter-widgets/controls",
          "model_name": "HBoxModel",
          "state": {
            "_view_name": "HBoxView",
            "_dom_classes": [],
            "_model_name": "HBoxModel",
            "_view_module": "@jupyter-widgets/controls",
            "_model_module_version": "1.5.0",
            "_view_count": null,
            "_view_module_version": "1.5.0",
            "box_style": "",
            "layout": "IPY_MODEL_6e7abe02226d46a4a2a69aafb4c72981",
            "_model_module": "@jupyter-widgets/controls",
            "children": [
              "IPY_MODEL_125d068fadb64c4294729fa9c134eae6",
              "IPY_MODEL_f8c9f35e69784993b18dfb2b7145d74f"
            ]
          }
        },
        "6e7abe02226d46a4a2a69aafb4c72981": {
          "model_module": "@jupyter-widgets/base",
          "model_name": "LayoutModel",
          "state": {
            "_view_name": "LayoutView",
            "grid_template_rows": null,
            "right": null,
            "justify_content": null,
            "_view_module": "@jupyter-widgets/base",
            "overflow": null,
            "_model_module_version": "1.2.0",
            "_view_count": null,
            "flex_flow": null,
            "width": null,
            "min_width": null,
            "border": null,
            "align_items": null,
            "bottom": null,
            "_model_module": "@jupyter-widgets/base",
            "top": null,
            "grid_column": null,
            "overflow_y": null,
            "overflow_x": null,
            "grid_auto_flow": null,
            "grid_area": null,
            "grid_template_columns": null,
            "flex": null,
            "_model_name": "LayoutModel",
            "justify_items": null,
            "grid_row": null,
            "max_height": null,
            "align_content": null,
            "visibility": null,
            "align_self": null,
            "height": null,
            "min_height": null,
            "padding": null,
            "grid_auto_rows": null,
            "grid_gap": null,
            "max_width": null,
            "order": null,
            "_view_module_version": "1.2.0",
            "grid_template_areas": null,
            "object_position": null,
            "object_fit": null,
            "grid_auto_columns": null,
            "margin": null,
            "display": null,
            "left": null
          }
        },
        "125d068fadb64c4294729fa9c134eae6": {
          "model_module": "@jupyter-widgets/controls",
          "model_name": "FloatProgressModel",
          "state": {
            "_view_name": "ProgressView",
            "style": "IPY_MODEL_31f24e6b06b24f26bbea6cbc3019e5a6",
            "_dom_classes": [],
            "description": "Dl Completed...: 100%",
            "_model_name": "FloatProgressModel",
            "bar_style": "success",
            "max": 1,
            "_view_module": "@jupyter-widgets/controls",
            "_model_module_version": "1.5.0",
            "value": 1,
            "_view_count": null,
            "_view_module_version": "1.5.0",
            "orientation": "horizontal",
            "min": 0,
            "description_tooltip": null,
            "_model_module": "@jupyter-widgets/controls",
            "layout": "IPY_MODEL_e9aa13f8a34d408bb3b304445f42e541"
          }
        },
        "f8c9f35e69784993b18dfb2b7145d74f": {
          "model_module": "@jupyter-widgets/controls",
          "model_name": "HTMLModel",
          "state": {
            "_view_name": "HTMLView",
            "style": "IPY_MODEL_9dcf8b36ce854fb69b9a948ee0f45c15",
            "_dom_classes": [],
            "description": "",
            "_model_name": "HTMLModel",
            "placeholder": "​",
            "_view_module": "@jupyter-widgets/controls",
            "_model_module_version": "1.5.0",
            "value": " 1/1 [00:01&lt;00:00,  1.77s/ url]",
            "_view_count": null,
            "_view_module_version": "1.5.0",
            "description_tooltip": null,
            "_model_module": "@jupyter-widgets/controls",
            "layout": "IPY_MODEL_c0dd17497b714526badaa99854eca75a"
          }
        },
        "31f24e6b06b24f26bbea6cbc3019e5a6": {
          "model_module": "@jupyter-widgets/controls",
          "model_name": "ProgressStyleModel",
          "state": {
            "_view_name": "StyleView",
            "_model_name": "ProgressStyleModel",
            "description_width": "initial",
            "_view_module": "@jupyter-widgets/base",
            "_model_module_version": "1.5.0",
            "_view_count": null,
            "_view_module_version": "1.2.0",
            "bar_color": null,
            "_model_module": "@jupyter-widgets/controls"
          }
        },
        "e9aa13f8a34d408bb3b304445f42e541": {
          "model_module": "@jupyter-widgets/base",
          "model_name": "LayoutModel",
          "state": {
            "_view_name": "LayoutView",
            "grid_template_rows": null,
            "right": null,
            "justify_content": null,
            "_view_module": "@jupyter-widgets/base",
            "overflow": null,
            "_model_module_version": "1.2.0",
            "_view_count": null,
            "flex_flow": null,
            "width": null,
            "min_width": null,
            "border": null,
            "align_items": null,
            "bottom": null,
            "_model_module": "@jupyter-widgets/base",
            "top": null,
            "grid_column": null,
            "overflow_y": null,
            "overflow_x": null,
            "grid_auto_flow": null,
            "grid_area": null,
            "grid_template_columns": null,
            "flex": null,
            "_model_name": "LayoutModel",
            "justify_items": null,
            "grid_row": null,
            "max_height": null,
            "align_content": null,
            "visibility": null,
            "align_self": null,
            "height": null,
            "min_height": null,
            "padding": null,
            "grid_auto_rows": null,
            "grid_gap": null,
            "max_width": null,
            "order": null,
            "_view_module_version": "1.2.0",
            "grid_template_areas": null,
            "object_position": null,
            "object_fit": null,
            "grid_auto_columns": null,
            "margin": null,
            "display": null,
            "left": null
          }
        },
        "9dcf8b36ce854fb69b9a948ee0f45c15": {
          "model_module": "@jupyter-widgets/controls",
          "model_name": "DescriptionStyleModel",
          "state": {
            "_view_name": "StyleView",
            "_model_name": "DescriptionStyleModel",
            "description_width": "",
            "_view_module": "@jupyter-widgets/base",
            "_model_module_version": "1.5.0",
            "_view_count": null,
            "_view_module_version": "1.2.0",
            "_model_module": "@jupyter-widgets/controls"
          }
        },
        "c0dd17497b714526badaa99854eca75a": {
          "model_module": "@jupyter-widgets/base",
          "model_name": "LayoutModel",
          "state": {
            "_view_name": "LayoutView",
            "grid_template_rows": null,
            "right": null,
            "justify_content": null,
            "_view_module": "@jupyter-widgets/base",
            "overflow": null,
            "_model_module_version": "1.2.0",
            "_view_count": null,
            "flex_flow": null,
            "width": null,
            "min_width": null,
            "border": null,
            "align_items": null,
            "bottom": null,
            "_model_module": "@jupyter-widgets/base",
            "top": null,
            "grid_column": null,
            "overflow_y": null,
            "overflow_x": null,
            "grid_auto_flow": null,
            "grid_area": null,
            "grid_template_columns": null,
            "flex": null,
            "_model_name": "LayoutModel",
            "justify_items": null,
            "grid_row": null,
            "max_height": null,
            "align_content": null,
            "visibility": null,
            "align_self": null,
            "height": null,
            "min_height": null,
            "padding": null,
            "grid_auto_rows": null,
            "grid_gap": null,
            "max_width": null,
            "order": null,
            "_view_module_version": "1.2.0",
            "grid_template_areas": null,
            "object_position": null,
            "object_fit": null,
            "grid_auto_columns": null,
            "margin": null,
            "display": null,
            "left": null
          }
        },
        "0cfa9468ab9d4dbe8eee701c7481558b": {
          "model_module": "@jupyter-widgets/controls",
          "model_name": "HBoxModel",
          "state": {
            "_view_name": "HBoxView",
            "_dom_classes": [],
            "_model_name": "HBoxModel",
            "_view_module": "@jupyter-widgets/controls",
            "_model_module_version": "1.5.0",
            "_view_count": null,
            "_view_module_version": "1.5.0",
            "box_style": "",
            "layout": "IPY_MODEL_637ab47fc8664ac6bf53a292e36c4ca6",
            "_model_module": "@jupyter-widgets/controls",
            "children": [
              "IPY_MODEL_fa513dfef6e74983b532b40c5f558006",
              "IPY_MODEL_b189926f82844073a4ee4fc40a33cb3a"
            ]
          }
        },
        "637ab47fc8664ac6bf53a292e36c4ca6": {
          "model_module": "@jupyter-widgets/base",
          "model_name": "LayoutModel",
          "state": {
            "_view_name": "LayoutView",
            "grid_template_rows": null,
            "right": null,
            "justify_content": null,
            "_view_module": "@jupyter-widgets/base",
            "overflow": null,
            "_model_module_version": "1.2.0",
            "_view_count": null,
            "flex_flow": null,
            "width": null,
            "min_width": null,
            "border": null,
            "align_items": null,
            "bottom": null,
            "_model_module": "@jupyter-widgets/base",
            "top": null,
            "grid_column": null,
            "overflow_y": null,
            "overflow_x": null,
            "grid_auto_flow": null,
            "grid_area": null,
            "grid_template_columns": null,
            "flex": null,
            "_model_name": "LayoutModel",
            "justify_items": null,
            "grid_row": null,
            "max_height": null,
            "align_content": null,
            "visibility": null,
            "align_self": null,
            "height": null,
            "min_height": null,
            "padding": null,
            "grid_auto_rows": null,
            "grid_gap": null,
            "max_width": null,
            "order": null,
            "_view_module_version": "1.2.0",
            "grid_template_areas": null,
            "object_position": null,
            "object_fit": null,
            "grid_auto_columns": null,
            "margin": null,
            "display": null,
            "left": null
          }
        },
        "fa513dfef6e74983b532b40c5f558006": {
          "model_module": "@jupyter-widgets/controls",
          "model_name": "FloatProgressModel",
          "state": {
            "_view_name": "ProgressView",
            "style": "IPY_MODEL_25f49c7948f842f89dc891b02cd34a47",
            "_dom_classes": [],
            "description": "Dl Size...: 100%",
            "_model_name": "FloatProgressModel",
            "bar_style": "success",
            "max": 1,
            "_view_module": "@jupyter-widgets/controls",
            "_model_module_version": "1.5.0",
            "value": 1,
            "_view_count": null,
            "_view_module_version": "1.5.0",
            "orientation": "horizontal",
            "min": 0,
            "description_tooltip": null,
            "_model_module": "@jupyter-widgets/controls",
            "layout": "IPY_MODEL_fadf240a988b4edab8f6954bfe68c662"
          }
        },
        "b189926f82844073a4ee4fc40a33cb3a": {
          "model_module": "@jupyter-widgets/controls",
          "model_name": "HTMLModel",
          "state": {
            "_view_name": "HTMLView",
            "style": "IPY_MODEL_d144f268c09041aaada474c737caf54c",
            "_dom_classes": [],
            "description": "",
            "_model_name": "HTMLModel",
            "placeholder": "​",
            "_view_module": "@jupyter-widgets/controls",
            "_model_module_version": "1.5.0",
            "value": " 16/16 [00:01&lt;00:00,  9.25 MiB/s]",
            "_view_count": null,
            "_view_module_version": "1.5.0",
            "description_tooltip": null,
            "_model_module": "@jupyter-widgets/controls",
            "layout": "IPY_MODEL_2784485920904d73a8014583771180c4"
          }
        },
        "25f49c7948f842f89dc891b02cd34a47": {
          "model_module": "@jupyter-widgets/controls",
          "model_name": "ProgressStyleModel",
          "state": {
            "_view_name": "StyleView",
            "_model_name": "ProgressStyleModel",
            "description_width": "initial",
            "_view_module": "@jupyter-widgets/base",
            "_model_module_version": "1.5.0",
            "_view_count": null,
            "_view_module_version": "1.2.0",
            "bar_color": null,
            "_model_module": "@jupyter-widgets/controls"
          }
        },
        "fadf240a988b4edab8f6954bfe68c662": {
          "model_module": "@jupyter-widgets/base",
          "model_name": "LayoutModel",
          "state": {
            "_view_name": "LayoutView",
            "grid_template_rows": null,
            "right": null,
            "justify_content": null,
            "_view_module": "@jupyter-widgets/base",
            "overflow": null,
            "_model_module_version": "1.2.0",
            "_view_count": null,
            "flex_flow": null,
            "width": null,
            "min_width": null,
            "border": null,
            "align_items": null,
            "bottom": null,
            "_model_module": "@jupyter-widgets/base",
            "top": null,
            "grid_column": null,
            "overflow_y": null,
            "overflow_x": null,
            "grid_auto_flow": null,
            "grid_area": null,
            "grid_template_columns": null,
            "flex": null,
            "_model_name": "LayoutModel",
            "justify_items": null,
            "grid_row": null,
            "max_height": null,
            "align_content": null,
            "visibility": null,
            "align_self": null,
            "height": null,
            "min_height": null,
            "padding": null,
            "grid_auto_rows": null,
            "grid_gap": null,
            "max_width": null,
            "order": null,
            "_view_module_version": "1.2.0",
            "grid_template_areas": null,
            "object_position": null,
            "object_fit": null,
            "grid_auto_columns": null,
            "margin": null,
            "display": null,
            "left": null
          }
        },
        "d144f268c09041aaada474c737caf54c": {
          "model_module": "@jupyter-widgets/controls",
          "model_name": "DescriptionStyleModel",
          "state": {
            "_view_name": "StyleView",
            "_model_name": "DescriptionStyleModel",
            "description_width": "",
            "_view_module": "@jupyter-widgets/base",
            "_model_module_version": "1.5.0",
            "_view_count": null,
            "_view_module_version": "1.2.0",
            "_model_module": "@jupyter-widgets/controls"
          }
        },
        "2784485920904d73a8014583771180c4": {
          "model_module": "@jupyter-widgets/base",
          "model_name": "LayoutModel",
          "state": {
            "_view_name": "LayoutView",
            "grid_template_rows": null,
            "right": null,
            "justify_content": null,
            "_view_module": "@jupyter-widgets/base",
            "overflow": null,
            "_model_module_version": "1.2.0",
            "_view_count": null,
            "flex_flow": null,
            "width": null,
            "min_width": null,
            "border": null,
            "align_items": null,
            "bottom": null,
            "_model_module": "@jupyter-widgets/base",
            "top": null,
            "grid_column": null,
            "overflow_y": null,
            "overflow_x": null,
            "grid_auto_flow": null,
            "grid_area": null,
            "grid_template_columns": null,
            "flex": null,
            "_model_name": "LayoutModel",
            "justify_items": null,
            "grid_row": null,
            "max_height": null,
            "align_content": null,
            "visibility": null,
            "align_self": null,
            "height": null,
            "min_height": null,
            "padding": null,
            "grid_auto_rows": null,
            "grid_gap": null,
            "max_width": null,
            "order": null,
            "_view_module_version": "1.2.0",
            "grid_template_areas": null,
            "object_position": null,
            "object_fit": null,
            "grid_auto_columns": null,
            "margin": null,
            "display": null,
            "left": null
          }
        },
        "8e3d1e139d66434d9d4cc6e04027aae4": {
          "model_module": "@jupyter-widgets/controls",
          "model_name": "HBoxModel",
          "state": {
            "_view_name": "HBoxView",
            "_dom_classes": [],
            "_model_name": "HBoxModel",
            "_view_module": "@jupyter-widgets/controls",
            "_model_module_version": "1.5.0",
            "_view_count": null,
            "_view_module_version": "1.5.0",
            "box_style": "",
            "layout": "IPY_MODEL_022bdff8c58c4598a38f82c30e2269b1",
            "_model_module": "@jupyter-widgets/controls",
            "children": [
              "IPY_MODEL_85172611854c4b16b53e30f6f5ba004e",
              "IPY_MODEL_a2a5f56884d74a0d9a123c840e9dbd43"
            ]
          }
        },
        "022bdff8c58c4598a38f82c30e2269b1": {
          "model_module": "@jupyter-widgets/base",
          "model_name": "LayoutModel",
          "state": {
            "_view_name": "LayoutView",
            "grid_template_rows": null,
            "right": null,
            "justify_content": null,
            "_view_module": "@jupyter-widgets/base",
            "overflow": null,
            "_model_module_version": "1.2.0",
            "_view_count": null,
            "flex_flow": null,
            "width": null,
            "min_width": null,
            "border": null,
            "align_items": null,
            "bottom": null,
            "_model_module": "@jupyter-widgets/base",
            "top": null,
            "grid_column": null,
            "overflow_y": null,
            "overflow_x": null,
            "grid_auto_flow": null,
            "grid_area": null,
            "grid_template_columns": null,
            "flex": null,
            "_model_name": "LayoutModel",
            "justify_items": null,
            "grid_row": null,
            "max_height": null,
            "align_content": null,
            "visibility": null,
            "align_self": null,
            "height": null,
            "min_height": null,
            "padding": null,
            "grid_auto_rows": null,
            "grid_gap": null,
            "max_width": null,
            "order": null,
            "_view_module_version": "1.2.0",
            "grid_template_areas": null,
            "object_position": null,
            "object_fit": null,
            "grid_auto_columns": null,
            "margin": null,
            "display": null,
            "left": null
          }
        },
        "85172611854c4b16b53e30f6f5ba004e": {
          "model_module": "@jupyter-widgets/controls",
          "model_name": "FloatProgressModel",
          "state": {
            "_view_name": "ProgressView",
            "style": "IPY_MODEL_06fe3f8bd4554984b46667b9aabd299c",
            "_dom_classes": [],
            "description": "Extraction completed...: 100%",
            "_model_name": "FloatProgressModel",
            "bar_style": "success",
            "max": 1,
            "_view_module": "@jupyter-widgets/controls",
            "_model_module_version": "1.5.0",
            "value": 1,
            "_view_count": null,
            "_view_module_version": "1.5.0",
            "orientation": "horizontal",
            "min": 0,
            "description_tooltip": null,
            "_model_module": "@jupyter-widgets/controls",
            "layout": "IPY_MODEL_ab30d29612b44314a801fc89a3e5d85a"
          }
        },
        "a2a5f56884d74a0d9a123c840e9dbd43": {
          "model_module": "@jupyter-widgets/controls",
          "model_name": "HTMLModel",
          "state": {
            "_view_name": "HTMLView",
            "style": "IPY_MODEL_ff996bea1a38425197a0169f22e13759",
            "_dom_classes": [],
            "description": "",
            "_model_name": "HTMLModel",
            "placeholder": "​",
            "_view_module": "@jupyter-widgets/controls",
            "_model_module_version": "1.5.0",
            "value": " 1/1 [00:01&lt;00:00,  1.70s/ file]",
            "_view_count": null,
            "_view_module_version": "1.5.0",
            "description_tooltip": null,
            "_model_module": "@jupyter-widgets/controls",
            "layout": "IPY_MODEL_41c7519337934861abe77f28830c0987"
          }
        },
        "06fe3f8bd4554984b46667b9aabd299c": {
          "model_module": "@jupyter-widgets/controls",
          "model_name": "ProgressStyleModel",
          "state": {
            "_view_name": "StyleView",
            "_model_name": "ProgressStyleModel",
            "description_width": "initial",
            "_view_module": "@jupyter-widgets/base",
            "_model_module_version": "1.5.0",
            "_view_count": null,
            "_view_module_version": "1.2.0",
            "bar_color": null,
            "_model_module": "@jupyter-widgets/controls"
          }
        },
        "ab30d29612b44314a801fc89a3e5d85a": {
          "model_module": "@jupyter-widgets/base",
          "model_name": "LayoutModel",
          "state": {
            "_view_name": "LayoutView",
            "grid_template_rows": null,
            "right": null,
            "justify_content": null,
            "_view_module": "@jupyter-widgets/base",
            "overflow": null,
            "_model_module_version": "1.2.0",
            "_view_count": null,
            "flex_flow": null,
            "width": null,
            "min_width": null,
            "border": null,
            "align_items": null,
            "bottom": null,
            "_model_module": "@jupyter-widgets/base",
            "top": null,
            "grid_column": null,
            "overflow_y": null,
            "overflow_x": null,
            "grid_auto_flow": null,
            "grid_area": null,
            "grid_template_columns": null,
            "flex": null,
            "_model_name": "LayoutModel",
            "justify_items": null,
            "grid_row": null,
            "max_height": null,
            "align_content": null,
            "visibility": null,
            "align_self": null,
            "height": null,
            "min_height": null,
            "padding": null,
            "grid_auto_rows": null,
            "grid_gap": null,
            "max_width": null,
            "order": null,
            "_view_module_version": "1.2.0",
            "grid_template_areas": null,
            "object_position": null,
            "object_fit": null,
            "grid_auto_columns": null,
            "margin": null,
            "display": null,
            "left": null
          }
        },
        "ff996bea1a38425197a0169f22e13759": {
          "model_module": "@jupyter-widgets/controls",
          "model_name": "DescriptionStyleModel",
          "state": {
            "_view_name": "StyleView",
            "_model_name": "DescriptionStyleModel",
            "description_width": "",
            "_view_module": "@jupyter-widgets/base",
            "_model_module_version": "1.5.0",
            "_view_count": null,
            "_view_module_version": "1.2.0",
            "_model_module": "@jupyter-widgets/controls"
          }
        },
        "41c7519337934861abe77f28830c0987": {
          "model_module": "@jupyter-widgets/base",
          "model_name": "LayoutModel",
          "state": {
            "_view_name": "LayoutView",
            "grid_template_rows": null,
            "right": null,
            "justify_content": null,
            "_view_module": "@jupyter-widgets/base",
            "overflow": null,
            "_model_module_version": "1.2.0",
            "_view_count": null,
            "flex_flow": null,
            "width": null,
            "min_width": null,
            "border": null,
            "align_items": null,
            "bottom": null,
            "_model_module": "@jupyter-widgets/base",
            "top": null,
            "grid_column": null,
            "overflow_y": null,
            "overflow_x": null,
            "grid_auto_flow": null,
            "grid_area": null,
            "grid_template_columns": null,
            "flex": null,
            "_model_name": "LayoutModel",
            "justify_items": null,
            "grid_row": null,
            "max_height": null,
            "align_content": null,
            "visibility": null,
            "align_self": null,
            "height": null,
            "min_height": null,
            "padding": null,
            "grid_auto_rows": null,
            "grid_gap": null,
            "max_width": null,
            "order": null,
            "_view_module_version": "1.2.0",
            "grid_template_areas": null,
            "object_position": null,
            "object_fit": null,
            "grid_auto_columns": null,
            "margin": null,
            "display": null,
            "left": null
          }
        },
        "062c76ea1795416a9eaa7d4cb4f05b00": {
          "model_module": "@jupyter-widgets/controls",
          "model_name": "HBoxModel",
          "state": {
            "_view_name": "HBoxView",
            "_dom_classes": [],
            "_model_name": "HBoxModel",
            "_view_module": "@jupyter-widgets/controls",
            "_model_module_version": "1.5.0",
            "_view_count": null,
            "_view_module_version": "1.5.0",
            "box_style": "",
            "layout": "IPY_MODEL_140854996bf34b4e82d1244e716b734c",
            "_model_module": "@jupyter-widgets/controls",
            "children": [
              "IPY_MODEL_c963a1e33d014be08042dfd58c28c87b",
              "IPY_MODEL_f28d4c260483498aa11fc8007f27eefa"
            ]
          }
        },
        "140854996bf34b4e82d1244e716b734c": {
          "model_module": "@jupyter-widgets/base",
          "model_name": "LayoutModel",
          "state": {
            "_view_name": "LayoutView",
            "grid_template_rows": null,
            "right": null,
            "justify_content": null,
            "_view_module": "@jupyter-widgets/base",
            "overflow": null,
            "_model_module_version": "1.2.0",
            "_view_count": null,
            "flex_flow": null,
            "width": null,
            "min_width": null,
            "border": null,
            "align_items": null,
            "bottom": null,
            "_model_module": "@jupyter-widgets/base",
            "top": null,
            "grid_column": null,
            "overflow_y": null,
            "overflow_x": null,
            "grid_auto_flow": null,
            "grid_area": null,
            "grid_template_columns": null,
            "flex": null,
            "_model_name": "LayoutModel",
            "justify_items": null,
            "grid_row": null,
            "max_height": null,
            "align_content": null,
            "visibility": null,
            "align_self": null,
            "height": null,
            "min_height": null,
            "padding": null,
            "grid_auto_rows": null,
            "grid_gap": null,
            "max_width": null,
            "order": null,
            "_view_module_version": "1.2.0",
            "grid_template_areas": null,
            "object_position": null,
            "object_fit": null,
            "grid_auto_columns": null,
            "margin": null,
            "display": null,
            "left": null
          }
        },
        "c963a1e33d014be08042dfd58c28c87b": {
          "model_module": "@jupyter-widgets/controls",
          "model_name": "FloatProgressModel",
          "state": {
            "_view_name": "ProgressView",
            "style": "IPY_MODEL_7a7af7239bd44faa874951e8c1c8fcb7",
            "_dom_classes": [],
            "description": "",
            "_model_name": "FloatProgressModel",
            "bar_style": "info",
            "max": 1,
            "_view_module": "@jupyter-widgets/controls",
            "_model_module_version": "1.5.0",
            "value": 1,
            "_view_count": null,
            "_view_module_version": "1.5.0",
            "orientation": "horizontal",
            "min": 0,
            "description_tooltip": null,
            "_model_module": "@jupyter-widgets/controls",
            "layout": "IPY_MODEL_c7aff788de334d148e2036b2f9865b39"
          }
        },
        "f28d4c260483498aa11fc8007f27eefa": {
          "model_module": "@jupyter-widgets/controls",
          "model_name": "HTMLModel",
          "state": {
            "_view_name": "HTMLView",
            "style": "IPY_MODEL_f26d8acb29994226a0d8a64241cc27cc",
            "_dom_classes": [],
            "description": "",
            "_model_name": "HTMLModel",
            "placeholder": "​",
            "_view_module": "@jupyter-widgets/controls",
            "_model_module_version": "1.5.0",
            "value": " 85981/0 [01:28&lt;00:00, 1045.11 examples/s]",
            "_view_count": null,
            "_view_module_version": "1.5.0",
            "description_tooltip": null,
            "_model_module": "@jupyter-widgets/controls",
            "layout": "IPY_MODEL_94135ea5f0ba499aa47a6364899632f8"
          }
        },
        "7a7af7239bd44faa874951e8c1c8fcb7": {
          "model_module": "@jupyter-widgets/controls",
          "model_name": "ProgressStyleModel",
          "state": {
            "_view_name": "StyleView",
            "_model_name": "ProgressStyleModel",
            "description_width": "initial",
            "_view_module": "@jupyter-widgets/base",
            "_model_module_version": "1.5.0",
            "_view_count": null,
            "_view_module_version": "1.2.0",
            "bar_color": null,
            "_model_module": "@jupyter-widgets/controls"
          }
        },
        "c7aff788de334d148e2036b2f9865b39": {
          "model_module": "@jupyter-widgets/base",
          "model_name": "LayoutModel",
          "state": {
            "_view_name": "LayoutView",
            "grid_template_rows": null,
            "right": null,
            "justify_content": null,
            "_view_module": "@jupyter-widgets/base",
            "overflow": null,
            "_model_module_version": "1.2.0",
            "_view_count": null,
            "flex_flow": null,
            "width": null,
            "min_width": null,
            "border": null,
            "align_items": null,
            "bottom": null,
            "_model_module": "@jupyter-widgets/base",
            "top": null,
            "grid_column": null,
            "overflow_y": null,
            "overflow_x": null,
            "grid_auto_flow": null,
            "grid_area": null,
            "grid_template_columns": null,
            "flex": null,
            "_model_name": "LayoutModel",
            "justify_items": null,
            "grid_row": null,
            "max_height": null,
            "align_content": null,
            "visibility": null,
            "align_self": null,
            "height": null,
            "min_height": null,
            "padding": null,
            "grid_auto_rows": null,
            "grid_gap": null,
            "max_width": null,
            "order": null,
            "_view_module_version": "1.2.0",
            "grid_template_areas": null,
            "object_position": null,
            "object_fit": null,
            "grid_auto_columns": null,
            "margin": null,
            "display": null,
            "left": null
          }
        },
        "f26d8acb29994226a0d8a64241cc27cc": {
          "model_module": "@jupyter-widgets/controls",
          "model_name": "DescriptionStyleModel",
          "state": {
            "_view_name": "StyleView",
            "_model_name": "DescriptionStyleModel",
            "description_width": "",
            "_view_module": "@jupyter-widgets/base",
            "_model_module_version": "1.5.0",
            "_view_count": null,
            "_view_module_version": "1.2.0",
            "_model_module": "@jupyter-widgets/controls"
          }
        },
        "94135ea5f0ba499aa47a6364899632f8": {
          "model_module": "@jupyter-widgets/base",
          "model_name": "LayoutModel",
          "state": {
            "_view_name": "LayoutView",
            "grid_template_rows": null,
            "right": null,
            "justify_content": null,
            "_view_module": "@jupyter-widgets/base",
            "overflow": null,
            "_model_module_version": "1.2.0",
            "_view_count": null,
            "flex_flow": null,
            "width": null,
            "min_width": null,
            "border": null,
            "align_items": null,
            "bottom": null,
            "_model_module": "@jupyter-widgets/base",
            "top": null,
            "grid_column": null,
            "overflow_y": null,
            "overflow_x": null,
            "grid_auto_flow": null,
            "grid_area": null,
            "grid_template_columns": null,
            "flex": null,
            "_model_name": "LayoutModel",
            "justify_items": null,
            "grid_row": null,
            "max_height": null,
            "align_content": null,
            "visibility": null,
            "align_self": null,
            "height": null,
            "min_height": null,
            "padding": null,
            "grid_auto_rows": null,
            "grid_gap": null,
            "max_width": null,
            "order": null,
            "_view_module_version": "1.2.0",
            "grid_template_areas": null,
            "object_position": null,
            "object_fit": null,
            "grid_auto_columns": null,
            "margin": null,
            "display": null,
            "left": null
          }
        },
        "033f3b0f953f4c3f9807833578ebd2ff": {
          "model_module": "@jupyter-widgets/controls",
          "model_name": "HBoxModel",
          "state": {
            "_view_name": "HBoxView",
            "_dom_classes": [],
            "_model_name": "HBoxModel",
            "_view_module": "@jupyter-widgets/controls",
            "_model_module_version": "1.5.0",
            "_view_count": null,
            "_view_module_version": "1.5.0",
            "box_style": "",
            "layout": "IPY_MODEL_8283926eede14ef89722d04683243f67",
            "_model_module": "@jupyter-widgets/controls",
            "children": [
              "IPY_MODEL_e1ececf518054f86ac51b56288f4e876",
              "IPY_MODEL_e0ac362d5eb84d11ad632791efad26c9"
            ]
          }
        },
        "8283926eede14ef89722d04683243f67": {
          "model_module": "@jupyter-widgets/base",
          "model_name": "LayoutModel",
          "state": {
            "_view_name": "LayoutView",
            "grid_template_rows": null,
            "right": null,
            "justify_content": null,
            "_view_module": "@jupyter-widgets/base",
            "overflow": null,
            "_model_module_version": "1.2.0",
            "_view_count": null,
            "flex_flow": null,
            "width": null,
            "min_width": null,
            "border": null,
            "align_items": null,
            "bottom": null,
            "_model_module": "@jupyter-widgets/base",
            "top": null,
            "grid_column": null,
            "overflow_y": null,
            "overflow_x": null,
            "grid_auto_flow": null,
            "grid_area": null,
            "grid_template_columns": null,
            "flex": null,
            "_model_name": "LayoutModel",
            "justify_items": null,
            "grid_row": null,
            "max_height": null,
            "align_content": null,
            "visibility": null,
            "align_self": null,
            "height": null,
            "min_height": null,
            "padding": null,
            "grid_auto_rows": null,
            "grid_gap": null,
            "max_width": null,
            "order": null,
            "_view_module_version": "1.2.0",
            "grid_template_areas": null,
            "object_position": null,
            "object_fit": null,
            "grid_auto_columns": null,
            "margin": null,
            "display": null,
            "left": null
          }
        },
        "e1ececf518054f86ac51b56288f4e876": {
          "model_module": "@jupyter-widgets/controls",
          "model_name": "FloatProgressModel",
          "state": {
            "_view_name": "ProgressView",
            "style": "IPY_MODEL_ea61a8ac0d41440887419175fc69524d",
            "_dom_classes": [],
            "description": " 75%",
            "_model_name": "FloatProgressModel",
            "bar_style": "danger",
            "max": 85981,
            "_view_module": "@jupyter-widgets/controls",
            "_model_module_version": "1.5.0",
            "value": 64837,
            "_view_count": null,
            "_view_module_version": "1.5.0",
            "orientation": "horizontal",
            "min": 0,
            "description_tooltip": null,
            "_model_module": "@jupyter-widgets/controls",
            "layout": "IPY_MODEL_f49eb3d56ce54108a5720ef6b3e923da"
          }
        },
        "e0ac362d5eb84d11ad632791efad26c9": {
          "model_module": "@jupyter-widgets/controls",
          "model_name": "HTMLModel",
          "state": {
            "_view_name": "HTMLView",
            "style": "IPY_MODEL_08a35f6d6a7b42b083c472af851159de",
            "_dom_classes": [],
            "description": "",
            "_model_name": "HTMLModel",
            "placeholder": "​",
            "_view_module": "@jupyter-widgets/controls",
            "_model_module_version": "1.5.0",
            "value": " 64837/85981 [00:00&lt;19:15, 18.30 examples/s]",
            "_view_count": null,
            "_view_module_version": "1.5.0",
            "description_tooltip": null,
            "_model_module": "@jupyter-widgets/controls",
            "layout": "IPY_MODEL_2c07e1424fbd4e89a8318181482d3564"
          }
        },
        "ea61a8ac0d41440887419175fc69524d": {
          "model_module": "@jupyter-widgets/controls",
          "model_name": "ProgressStyleModel",
          "state": {
            "_view_name": "StyleView",
            "_model_name": "ProgressStyleModel",
            "description_width": "initial",
            "_view_module": "@jupyter-widgets/base",
            "_model_module_version": "1.5.0",
            "_view_count": null,
            "_view_module_version": "1.2.0",
            "bar_color": null,
            "_model_module": "@jupyter-widgets/controls"
          }
        },
        "f49eb3d56ce54108a5720ef6b3e923da": {
          "model_module": "@jupyter-widgets/base",
          "model_name": "LayoutModel",
          "state": {
            "_view_name": "LayoutView",
            "grid_template_rows": null,
            "right": null,
            "justify_content": null,
            "_view_module": "@jupyter-widgets/base",
            "overflow": null,
            "_model_module_version": "1.2.0",
            "_view_count": null,
            "flex_flow": null,
            "width": null,
            "min_width": null,
            "border": null,
            "align_items": null,
            "bottom": null,
            "_model_module": "@jupyter-widgets/base",
            "top": null,
            "grid_column": null,
            "overflow_y": null,
            "overflow_x": null,
            "grid_auto_flow": null,
            "grid_area": null,
            "grid_template_columns": null,
            "flex": null,
            "_model_name": "LayoutModel",
            "justify_items": null,
            "grid_row": null,
            "max_height": null,
            "align_content": null,
            "visibility": null,
            "align_self": null,
            "height": null,
            "min_height": null,
            "padding": null,
            "grid_auto_rows": null,
            "grid_gap": null,
            "max_width": null,
            "order": null,
            "_view_module_version": "1.2.0",
            "grid_template_areas": null,
            "object_position": null,
            "object_fit": null,
            "grid_auto_columns": null,
            "margin": null,
            "display": null,
            "left": null
          }
        },
        "08a35f6d6a7b42b083c472af851159de": {
          "model_module": "@jupyter-widgets/controls",
          "model_name": "DescriptionStyleModel",
          "state": {
            "_view_name": "StyleView",
            "_model_name": "DescriptionStyleModel",
            "description_width": "",
            "_view_module": "@jupyter-widgets/base",
            "_model_module_version": "1.5.0",
            "_view_count": null,
            "_view_module_version": "1.2.0",
            "_model_module": "@jupyter-widgets/controls"
          }
        },
        "2c07e1424fbd4e89a8318181482d3564": {
          "model_module": "@jupyter-widgets/base",
          "model_name": "LayoutModel",
          "state": {
            "_view_name": "LayoutView",
            "grid_template_rows": null,
            "right": null,
            "justify_content": null,
            "_view_module": "@jupyter-widgets/base",
            "overflow": null,
            "_model_module_version": "1.2.0",
            "_view_count": null,
            "flex_flow": null,
            "width": null,
            "min_width": null,
            "border": null,
            "align_items": null,
            "bottom": null,
            "_model_module": "@jupyter-widgets/base",
            "top": null,
            "grid_column": null,
            "overflow_y": null,
            "overflow_x": null,
            "grid_auto_flow": null,
            "grid_area": null,
            "grid_template_columns": null,
            "flex": null,
            "_model_name": "LayoutModel",
            "justify_items": null,
            "grid_row": null,
            "max_height": null,
            "align_content": null,
            "visibility": null,
            "align_self": null,
            "height": null,
            "min_height": null,
            "padding": null,
            "grid_auto_rows": null,
            "grid_gap": null,
            "max_width": null,
            "order": null,
            "_view_module_version": "1.2.0",
            "grid_template_areas": null,
            "object_position": null,
            "object_fit": null,
            "grid_auto_columns": null,
            "margin": null,
            "display": null,
            "left": null
          }
        },
        "19890b22da7e45d9ac820f864c2b1319": {
          "model_module": "@jupyter-widgets/controls",
          "model_name": "HBoxModel",
          "state": {
            "_view_name": "HBoxView",
            "_dom_classes": [],
            "_model_name": "HBoxModel",
            "_view_module": "@jupyter-widgets/controls",
            "_model_module_version": "1.5.0",
            "_view_count": null,
            "_view_module_version": "1.5.0",
            "box_style": "",
            "layout": "IPY_MODEL_28f09702b0cb414289b764b051416d1e",
            "_model_module": "@jupyter-widgets/controls",
            "children": [
              "IPY_MODEL_ba22a57701a54d9e9ead32899020a98e",
              "IPY_MODEL_11856252852d4fc58da4379f5cd7a889"
            ]
          }
        },
        "28f09702b0cb414289b764b051416d1e": {
          "model_module": "@jupyter-widgets/base",
          "model_name": "LayoutModel",
          "state": {
            "_view_name": "LayoutView",
            "grid_template_rows": null,
            "right": null,
            "justify_content": null,
            "_view_module": "@jupyter-widgets/base",
            "overflow": null,
            "_model_module_version": "1.2.0",
            "_view_count": null,
            "flex_flow": null,
            "width": null,
            "min_width": null,
            "border": null,
            "align_items": null,
            "bottom": null,
            "_model_module": "@jupyter-widgets/base",
            "top": null,
            "grid_column": null,
            "overflow_y": null,
            "overflow_x": null,
            "grid_auto_flow": null,
            "grid_area": null,
            "grid_template_columns": null,
            "flex": null,
            "_model_name": "LayoutModel",
            "justify_items": null,
            "grid_row": null,
            "max_height": null,
            "align_content": null,
            "visibility": null,
            "align_self": null,
            "height": null,
            "min_height": null,
            "padding": null,
            "grid_auto_rows": null,
            "grid_gap": null,
            "max_width": null,
            "order": null,
            "_view_module_version": "1.2.0",
            "grid_template_areas": null,
            "object_position": null,
            "object_fit": null,
            "grid_auto_columns": null,
            "margin": null,
            "display": null,
            "left": null
          }
        },
        "ba22a57701a54d9e9ead32899020a98e": {
          "model_module": "@jupyter-widgets/controls",
          "model_name": "FloatProgressModel",
          "state": {
            "_view_name": "ProgressView",
            "style": "IPY_MODEL_259c920c5ebf4e1c9a31ce65a227760a",
            "_dom_classes": [],
            "description": "Computing statistics...: 100%",
            "_model_name": "FloatProgressModel",
            "bar_style": "success",
            "max": 1,
            "_view_module": "@jupyter-widgets/controls",
            "_model_module_version": "1.5.0",
            "value": 1,
            "_view_count": null,
            "_view_module_version": "1.5.0",
            "orientation": "horizontal",
            "min": 0,
            "description_tooltip": null,
            "_model_module": "@jupyter-widgets/controls",
            "layout": "IPY_MODEL_be1c89cfd6a44c83bd4ba7c12f5d689e"
          }
        },
        "11856252852d4fc58da4379f5cd7a889": {
          "model_module": "@jupyter-widgets/controls",
          "model_name": "HTMLModel",
          "state": {
            "_view_name": "HTMLView",
            "style": "IPY_MODEL_df5e2a6b81a7423395641c1da8594dfc",
            "_dom_classes": [],
            "description": "",
            "_model_name": "HTMLModel",
            "placeholder": "​",
            "_view_module": "@jupyter-widgets/controls",
            "_model_module_version": "1.5.0",
            "value": " 1/1 [00:47&lt;00:00, 47.80s/ split]",
            "_view_count": null,
            "_view_module_version": "1.5.0",
            "description_tooltip": null,
            "_model_module": "@jupyter-widgets/controls",
            "layout": "IPY_MODEL_253d1fb5923a4cb39672f51ead44b6ff"
          }
        },
        "259c920c5ebf4e1c9a31ce65a227760a": {
          "model_module": "@jupyter-widgets/controls",
          "model_name": "ProgressStyleModel",
          "state": {
            "_view_name": "StyleView",
            "_model_name": "ProgressStyleModel",
            "description_width": "initial",
            "_view_module": "@jupyter-widgets/base",
            "_model_module_version": "1.5.0",
            "_view_count": null,
            "_view_module_version": "1.2.0",
            "bar_color": null,
            "_model_module": "@jupyter-widgets/controls"
          }
        },
        "be1c89cfd6a44c83bd4ba7c12f5d689e": {
          "model_module": "@jupyter-widgets/base",
          "model_name": "LayoutModel",
          "state": {
            "_view_name": "LayoutView",
            "grid_template_rows": null,
            "right": null,
            "justify_content": null,
            "_view_module": "@jupyter-widgets/base",
            "overflow": null,
            "_model_module_version": "1.2.0",
            "_view_count": null,
            "flex_flow": null,
            "width": null,
            "min_width": null,
            "border": null,
            "align_items": null,
            "bottom": null,
            "_model_module": "@jupyter-widgets/base",
            "top": null,
            "grid_column": null,
            "overflow_y": null,
            "overflow_x": null,
            "grid_auto_flow": null,
            "grid_area": null,
            "grid_template_columns": null,
            "flex": null,
            "_model_name": "LayoutModel",
            "justify_items": null,
            "grid_row": null,
            "max_height": null,
            "align_content": null,
            "visibility": null,
            "align_self": null,
            "height": null,
            "min_height": null,
            "padding": null,
            "grid_auto_rows": null,
            "grid_gap": null,
            "max_width": null,
            "order": null,
            "_view_module_version": "1.2.0",
            "grid_template_areas": null,
            "object_position": null,
            "object_fit": null,
            "grid_auto_columns": null,
            "margin": null,
            "display": null,
            "left": null
          }
        },
        "df5e2a6b81a7423395641c1da8594dfc": {
          "model_module": "@jupyter-widgets/controls",
          "model_name": "DescriptionStyleModel",
          "state": {
            "_view_name": "StyleView",
            "_model_name": "DescriptionStyleModel",
            "description_width": "",
            "_view_module": "@jupyter-widgets/base",
            "_model_module_version": "1.5.0",
            "_view_count": null,
            "_view_module_version": "1.2.0",
            "_model_module": "@jupyter-widgets/controls"
          }
        },
        "253d1fb5923a4cb39672f51ead44b6ff": {
          "model_module": "@jupyter-widgets/base",
          "model_name": "LayoutModel",
          "state": {
            "_view_name": "LayoutView",
            "grid_template_rows": null,
            "right": null,
            "justify_content": null,
            "_view_module": "@jupyter-widgets/base",
            "overflow": null,
            "_model_module_version": "1.2.0",
            "_view_count": null,
            "flex_flow": null,
            "width": null,
            "min_width": null,
            "border": null,
            "align_items": null,
            "bottom": null,
            "_model_module": "@jupyter-widgets/base",
            "top": null,
            "grid_column": null,
            "overflow_y": null,
            "overflow_x": null,
            "grid_auto_flow": null,
            "grid_area": null,
            "grid_template_columns": null,
            "flex": null,
            "_model_name": "LayoutModel",
            "justify_items": null,
            "grid_row": null,
            "max_height": null,
            "align_content": null,
            "visibility": null,
            "align_self": null,
            "height": null,
            "min_height": null,
            "padding": null,
            "grid_auto_rows": null,
            "grid_gap": null,
            "max_width": null,
            "order": null,
            "_view_module_version": "1.2.0",
            "grid_template_areas": null,
            "object_position": null,
            "object_fit": null,
            "grid_auto_columns": null,
            "margin": null,
            "display": null,
            "left": null
          }
        },
        "c0060c21ed1f415b9ab3cef2f422fdf5": {
          "model_module": "@jupyter-widgets/controls",
          "model_name": "HBoxModel",
          "state": {
            "_view_name": "HBoxView",
            "_dom_classes": [],
            "_model_name": "HBoxModel",
            "_view_module": "@jupyter-widgets/controls",
            "_model_module_version": "1.5.0",
            "_view_count": null,
            "_view_module_version": "1.5.0",
            "box_style": "",
            "layout": "IPY_MODEL_66d71dcfd9e34b86a2e0c9b68315d91c",
            "_model_module": "@jupyter-widgets/controls",
            "children": [
              "IPY_MODEL_a9a1ecca7e9d43559c23b290358695f5",
              "IPY_MODEL_0fd6b36f9f8a4fbc9c3f62e4584e1ce3"
            ]
          }
        },
        "66d71dcfd9e34b86a2e0c9b68315d91c": {
          "model_module": "@jupyter-widgets/base",
          "model_name": "LayoutModel",
          "state": {
            "_view_name": "LayoutView",
            "grid_template_rows": null,
            "right": null,
            "justify_content": null,
            "_view_module": "@jupyter-widgets/base",
            "overflow": null,
            "_model_module_version": "1.2.0",
            "_view_count": null,
            "flex_flow": null,
            "width": null,
            "min_width": null,
            "border": null,
            "align_items": null,
            "bottom": null,
            "_model_module": "@jupyter-widgets/base",
            "top": null,
            "grid_column": null,
            "overflow_y": null,
            "overflow_x": null,
            "grid_auto_flow": null,
            "grid_area": null,
            "grid_template_columns": null,
            "flex": null,
            "_model_name": "LayoutModel",
            "justify_items": null,
            "grid_row": null,
            "max_height": null,
            "align_content": null,
            "visibility": null,
            "align_self": null,
            "height": null,
            "min_height": null,
            "padding": null,
            "grid_auto_rows": null,
            "grid_gap": null,
            "max_width": null,
            "order": null,
            "_view_module_version": "1.2.0",
            "grid_template_areas": null,
            "object_position": null,
            "object_fit": null,
            "grid_auto_columns": null,
            "margin": null,
            "display": null,
            "left": null
          }
        },
        "a9a1ecca7e9d43559c23b290358695f5": {
          "model_module": "@jupyter-widgets/controls",
          "model_name": "FloatProgressModel",
          "state": {
            "_view_name": "ProgressView",
            "style": "IPY_MODEL_d37e5e2db7324d46817341fed2f8fdb5",
            "_dom_classes": [],
            "description": "",
            "_model_name": "FloatProgressModel",
            "bar_style": "info",
            "max": 1,
            "_view_module": "@jupyter-widgets/controls",
            "_model_module_version": "1.5.0",
            "value": 1,
            "_view_count": null,
            "_view_module_version": "1.5.0",
            "orientation": "horizontal",
            "min": 0,
            "description_tooltip": null,
            "_model_module": "@jupyter-widgets/controls",
            "layout": "IPY_MODEL_b4faccac150f4026a9707cff90621d7d"
          }
        },
        "0fd6b36f9f8a4fbc9c3f62e4584e1ce3": {
          "model_module": "@jupyter-widgets/controls",
          "model_name": "HTMLModel",
          "state": {
            "_view_name": "HTMLView",
            "style": "IPY_MODEL_e92ce5b0db834d7ea23029335c979500",
            "_dom_classes": [],
            "description": "",
            "_model_name": "HTMLModel",
            "placeholder": "​",
            "_view_module": "@jupyter-widgets/controls",
            "_model_module_version": "1.5.0",
            "value": " 85981/? [00:38&lt;00:00, 2316.51 examples/s]",
            "_view_count": null,
            "_view_module_version": "1.5.0",
            "description_tooltip": null,
            "_model_module": "@jupyter-widgets/controls",
            "layout": "IPY_MODEL_f49649af0226458aa9ecb3b9ef1a30ba"
          }
        },
        "d37e5e2db7324d46817341fed2f8fdb5": {
          "model_module": "@jupyter-widgets/controls",
          "model_name": "ProgressStyleModel",
          "state": {
            "_view_name": "StyleView",
            "_model_name": "ProgressStyleModel",
            "description_width": "initial",
            "_view_module": "@jupyter-widgets/base",
            "_model_module_version": "1.5.0",
            "_view_count": null,
            "_view_module_version": "1.2.0",
            "bar_color": null,
            "_model_module": "@jupyter-widgets/controls"
          }
        },
        "b4faccac150f4026a9707cff90621d7d": {
          "model_module": "@jupyter-widgets/base",
          "model_name": "LayoutModel",
          "state": {
            "_view_name": "LayoutView",
            "grid_template_rows": null,
            "right": null,
            "justify_content": null,
            "_view_module": "@jupyter-widgets/base",
            "overflow": null,
            "_model_module_version": "1.2.0",
            "_view_count": null,
            "flex_flow": null,
            "width": null,
            "min_width": null,
            "border": null,
            "align_items": null,
            "bottom": null,
            "_model_module": "@jupyter-widgets/base",
            "top": null,
            "grid_column": null,
            "overflow_y": null,
            "overflow_x": null,
            "grid_auto_flow": null,
            "grid_area": null,
            "grid_template_columns": null,
            "flex": null,
            "_model_name": "LayoutModel",
            "justify_items": null,
            "grid_row": null,
            "max_height": null,
            "align_content": null,
            "visibility": null,
            "align_self": null,
            "height": null,
            "min_height": null,
            "padding": null,
            "grid_auto_rows": null,
            "grid_gap": null,
            "max_width": null,
            "order": null,
            "_view_module_version": "1.2.0",
            "grid_template_areas": null,
            "object_position": null,
            "object_fit": null,
            "grid_auto_columns": null,
            "margin": null,
            "display": null,
            "left": null
          }
        },
        "e92ce5b0db834d7ea23029335c979500": {
          "model_module": "@jupyter-widgets/controls",
          "model_name": "DescriptionStyleModel",
          "state": {
            "_view_name": "StyleView",
            "_model_name": "DescriptionStyleModel",
            "description_width": "",
            "_view_module": "@jupyter-widgets/base",
            "_model_module_version": "1.5.0",
            "_view_count": null,
            "_view_module_version": "1.2.0",
            "_model_module": "@jupyter-widgets/controls"
          }
        },
        "f49649af0226458aa9ecb3b9ef1a30ba": {
          "model_module": "@jupyter-widgets/base",
          "model_name": "LayoutModel",
          "state": {
            "_view_name": "LayoutView",
            "grid_template_rows": null,
            "right": null,
            "justify_content": null,
            "_view_module": "@jupyter-widgets/base",
            "overflow": null,
            "_model_module_version": "1.2.0",
            "_view_count": null,
            "flex_flow": null,
            "width": null,
            "min_width": null,
            "border": null,
            "align_items": null,
            "bottom": null,
            "_model_module": "@jupyter-widgets/base",
            "top": null,
            "grid_column": null,
            "overflow_y": null,
            "overflow_x": null,
            "grid_auto_flow": null,
            "grid_area": null,
            "grid_template_columns": null,
            "flex": null,
            "_model_name": "LayoutModel",
            "justify_items": null,
            "grid_row": null,
            "max_height": null,
            "align_content": null,
            "visibility": null,
            "align_self": null,
            "height": null,
            "min_height": null,
            "padding": null,
            "grid_auto_rows": null,
            "grid_gap": null,
            "max_width": null,
            "order": null,
            "_view_module_version": "1.2.0",
            "grid_template_areas": null,
            "object_position": null,
            "object_fit": null,
            "grid_auto_columns": null,
            "margin": null,
            "display": null,
            "left": null
          }
        }
      }
    }
  },
  "cells": [
    {
      "cell_type": "markdown",
      "metadata": {
        "id": "view-in-github",
        "colab_type": "text"
      },
      "source": [
        "<a href=\"https://colab.research.google.com/github/prasvijaya/datascienceportfolio/blob/master/Sentimental_analysis_using_GBM.ipynb\" target=\"_parent\"><img src=\"https://colab.research.google.com/assets/colab-badge.svg\" alt=\"Open In Colab\"/></a>"
      ]
    },
    {
      "cell_type": "code",
      "metadata": {
        "id": "AHq2aUpRZpTH",
        "colab_type": "code",
        "colab": {
          "base_uri": "https://localhost:8080/",
          "height": 201
        },
        "outputId": "3092202c-9c90-40a2-f006-af7558dde4cf"
      },
      "source": [
        "!apt-get install default-jre\n",
        "!java-version "
      ],
      "execution_count": 1,
      "outputs": [
        {
          "output_type": "stream",
          "text": [
            "Reading package lists... Done\n",
            "Building dependency tree       \n",
            "Reading state information... Done\n",
            "default-jre is already the newest version (2:1.11-68ubuntu1~18.04.1).\n",
            "default-jre set to manually installed.\n",
            "The following package was automatically installed and is no longer required:\n",
            "  libnvidia-common-440\n",
            "Use 'apt autoremove' to remove it.\n",
            "0 upgraded, 0 newly installed, 0 to remove and 39 not upgraded.\n",
            "/bin/bash: java-version: command not found\n"
          ],
          "name": "stdout"
        }
      ]
    },
    {
      "cell_type": "code",
      "metadata": {
        "id": "oWYmsVc3ZxX9",
        "colab_type": "code",
        "colab": {
          "base_uri": "https://localhost:8080/",
          "height": 366
        },
        "outputId": "2e22ec58-55a6-4051-9032-1c0e16d549e9"
      },
      "source": [
        "!pip install h2o"
      ],
      "execution_count": 2,
      "outputs": [
        {
          "output_type": "stream",
          "text": [
            "Collecting h2o\n",
            "\u001b[?25l  Downloading https://files.pythonhosted.org/packages/b0/e7/b7057e4a6832f3bec0cb36fda4913bf84a6dc610c92a2d3543442f4154a1/h2o-3.30.1.1.tar.gz (129.3MB)\n",
            "\u001b[K     |████████████████████████████████| 129.3MB 93kB/s \n",
            "\u001b[?25hRequirement already satisfied: requests in /usr/local/lib/python3.6/dist-packages (from h2o) (2.23.0)\n",
            "Requirement already satisfied: tabulate in /usr/local/lib/python3.6/dist-packages (from h2o) (0.8.7)\n",
            "Requirement already satisfied: future in /usr/local/lib/python3.6/dist-packages (from h2o) (0.16.0)\n",
            "Collecting colorama>=0.3.8\n",
            "  Downloading https://files.pythonhosted.org/packages/c9/dc/45cdef1b4d119eb96316b3117e6d5708a08029992b2fee2c143c7a0a5cc5/colorama-0.4.3-py2.py3-none-any.whl\n",
            "Requirement already satisfied: idna<3,>=2.5 in /usr/local/lib/python3.6/dist-packages (from requests->h2o) (2.10)\n",
            "Requirement already satisfied: chardet<4,>=3.0.2 in /usr/local/lib/python3.6/dist-packages (from requests->h2o) (3.0.4)\n",
            "Requirement already satisfied: urllib3!=1.25.0,!=1.25.1,<1.26,>=1.21.1 in /usr/local/lib/python3.6/dist-packages (from requests->h2o) (1.24.3)\n",
            "Requirement already satisfied: certifi>=2017.4.17 in /usr/local/lib/python3.6/dist-packages (from requests->h2o) (2020.6.20)\n",
            "Building wheels for collected packages: h2o\n",
            "  Building wheel for h2o (setup.py) ... \u001b[?25l\u001b[?25hdone\n",
            "  Created wheel for h2o: filename=h2o-3.30.1.1-py2.py3-none-any.whl size=129358602 sha256=7c675c190d07303bf5f0dcc48e9ba60702dd264ef26dbab447f373b5c6c91a26\n",
            "  Stored in directory: /root/.cache/pip/wheels/33/ac/52/165c35d747abdb629c3c9fb7e087f360c662d8cb58824caed8\n",
            "Successfully built h2o\n",
            "Installing collected packages: colorama, h2o\n",
            "Successfully installed colorama-0.4.3 h2o-3.30.1.1\n"
          ],
          "name": "stdout"
        }
      ]
    },
    {
      "cell_type": "code",
      "metadata": {
        "id": "IVSj0nnraCR6",
        "colab_type": "code",
        "colab": {}
      },
      "source": [
        "import tensorflow_datasets as tfds\n",
        "import numpy as np\n",
        "import pandas as pd\n",
        "import matplotlib.pyplot as plt\n",
        "import h2o\n",
        "import nltk\n",
        "import spacy\n",
        "import re\n",
        "from nltk.stem.porter import PorterStemmer\n",
        "from sklearn.model_selection import train_test_split\n",
        "from sklearn.feature_extraction.text import TfidfVectorizer\n",
        "from h2o.automl import H2OAutoML"
      ],
      "execution_count": 3,
      "outputs": []
    },
    {
      "cell_type": "code",
      "metadata": {
        "id": "LmI-rXw9aPiK",
        "colab_type": "code",
        "colab": {
          "base_uri": "https://localhost:8080/",
          "height": 546
        },
        "outputId": "68d99602-832c-48ec-e283-729f8220cebf"
      },
      "source": [
        "h2o.init()"
      ],
      "execution_count": 4,
      "outputs": [
        {
          "output_type": "stream",
          "text": [
            "Checking whether there is an H2O instance running at http://localhost:54321 ..... not found.\n",
            "Attempting to start a local H2O server...\n",
            "  Java Version: openjdk version \"11.0.8\" 2020-07-14; OpenJDK Runtime Environment (build 11.0.8+10-post-Ubuntu-0ubuntu118.04.1); OpenJDK 64-Bit Server VM (build 11.0.8+10-post-Ubuntu-0ubuntu118.04.1, mixed mode, sharing)\n",
            "  Starting server from /usr/local/lib/python3.6/dist-packages/h2o/backend/bin/h2o.jar\n",
            "  Ice root: /tmp/tmp3078o4ke\n",
            "  JVM stdout: /tmp/tmp3078o4ke/h2o_unknownUser_started_from_python.out\n",
            "  JVM stderr: /tmp/tmp3078o4ke/h2o_unknownUser_started_from_python.err\n",
            "  Server is running at http://127.0.0.1:54321\n",
            "Connecting to H2O server at http://127.0.0.1:54321 ... successful.\n"
          ],
          "name": "stdout"
        },
        {
          "output_type": "display_data",
          "data": {
            "text/html": [
              "<div style=\"overflow:auto\"><table style=\"width:50%\"><tr><td>H2O_cluster_uptime:</td>\n",
              "<td>02 secs</td></tr>\n",
              "<tr><td>H2O_cluster_timezone:</td>\n",
              "<td>Etc/UTC</td></tr>\n",
              "<tr><td>H2O_data_parsing_timezone:</td>\n",
              "<td>UTC</td></tr>\n",
              "<tr><td>H2O_cluster_version:</td>\n",
              "<td>3.30.1.1</td></tr>\n",
              "<tr><td>H2O_cluster_version_age:</td>\n",
              "<td>21 days, 20 hours and 21 minutes </td></tr>\n",
              "<tr><td>H2O_cluster_name:</td>\n",
              "<td>H2O_from_python_unknownUser_ehe5aa</td></tr>\n",
              "<tr><td>H2O_cluster_total_nodes:</td>\n",
              "<td>1</td></tr>\n",
              "<tr><td>H2O_cluster_free_memory:</td>\n",
              "<td>3.180 Gb</td></tr>\n",
              "<tr><td>H2O_cluster_total_cores:</td>\n",
              "<td>2</td></tr>\n",
              "<tr><td>H2O_cluster_allowed_cores:</td>\n",
              "<td>2</td></tr>\n",
              "<tr><td>H2O_cluster_status:</td>\n",
              "<td>accepting new members, healthy</td></tr>\n",
              "<tr><td>H2O_connection_url:</td>\n",
              "<td>http://127.0.0.1:54321</td></tr>\n",
              "<tr><td>H2O_connection_proxy:</td>\n",
              "<td>{\"http\": null, \"https\": null}</td></tr>\n",
              "<tr><td>H2O_internal_security:</td>\n",
              "<td>False</td></tr>\n",
              "<tr><td>H2O_API_Extensions:</td>\n",
              "<td>Amazon S3, XGBoost, Algos, AutoML, Core V3, TargetEncoder, Core V4</td></tr>\n",
              "<tr><td>Python_version:</td>\n",
              "<td>3.6.9 final</td></tr></table></div>"
            ],
            "text/plain": [
              "--------------------------  ------------------------------------------------------------------\n",
              "H2O_cluster_uptime:         02 secs\n",
              "H2O_cluster_timezone:       Etc/UTC\n",
              "H2O_data_parsing_timezone:  UTC\n",
              "H2O_cluster_version:        3.30.1.1\n",
              "H2O_cluster_version_age:    21 days, 20 hours and 21 minutes\n",
              "H2O_cluster_name:           H2O_from_python_unknownUser_ehe5aa\n",
              "H2O_cluster_total_nodes:    1\n",
              "H2O_cluster_free_memory:    3.180 Gb\n",
              "H2O_cluster_total_cores:    2\n",
              "H2O_cluster_allowed_cores:  2\n",
              "H2O_cluster_status:         accepting new members, healthy\n",
              "H2O_connection_url:         http://127.0.0.1:54321\n",
              "H2O_connection_proxy:       {\"http\": null, \"https\": null}\n",
              "H2O_internal_security:      False\n",
              "H2O_API_Extensions:         Amazon S3, XGBoost, Algos, AutoML, Core V3, TargetEncoder, Core V4\n",
              "Python_version:             3.6.9 final\n",
              "--------------------------  ------------------------------------------------------------------"
            ]
          },
          "metadata": {
            "tags": []
          }
        }
      ]
    },
    {
      "cell_type": "code",
      "metadata": {
        "id": "eeqVxJ-3abq2",
        "colab_type": "code",
        "colab": {
          "base_uri": "https://localhost:8080/",
          "height": 436,
          "referenced_widgets": [
            "63e6c8b5f613490ba636a3b4a7ae0e96",
            "6e7abe02226d46a4a2a69aafb4c72981",
            "125d068fadb64c4294729fa9c134eae6",
            "f8c9f35e69784993b18dfb2b7145d74f",
            "31f24e6b06b24f26bbea6cbc3019e5a6",
            "e9aa13f8a34d408bb3b304445f42e541",
            "9dcf8b36ce854fb69b9a948ee0f45c15",
            "c0dd17497b714526badaa99854eca75a",
            "0cfa9468ab9d4dbe8eee701c7481558b",
            "637ab47fc8664ac6bf53a292e36c4ca6",
            "fa513dfef6e74983b532b40c5f558006",
            "b189926f82844073a4ee4fc40a33cb3a",
            "25f49c7948f842f89dc891b02cd34a47",
            "fadf240a988b4edab8f6954bfe68c662",
            "d144f268c09041aaada474c737caf54c",
            "2784485920904d73a8014583771180c4",
            "8e3d1e139d66434d9d4cc6e04027aae4",
            "022bdff8c58c4598a38f82c30e2269b1",
            "85172611854c4b16b53e30f6f5ba004e",
            "a2a5f56884d74a0d9a123c840e9dbd43",
            "06fe3f8bd4554984b46667b9aabd299c",
            "ab30d29612b44314a801fc89a3e5d85a",
            "ff996bea1a38425197a0169f22e13759",
            "41c7519337934861abe77f28830c0987",
            "062c76ea1795416a9eaa7d4cb4f05b00",
            "140854996bf34b4e82d1244e716b734c",
            "c963a1e33d014be08042dfd58c28c87b",
            "f28d4c260483498aa11fc8007f27eefa",
            "7a7af7239bd44faa874951e8c1c8fcb7",
            "c7aff788de334d148e2036b2f9865b39",
            "f26d8acb29994226a0d8a64241cc27cc",
            "94135ea5f0ba499aa47a6364899632f8",
            "033f3b0f953f4c3f9807833578ebd2ff",
            "8283926eede14ef89722d04683243f67",
            "e1ececf518054f86ac51b56288f4e876",
            "e0ac362d5eb84d11ad632791efad26c9",
            "ea61a8ac0d41440887419175fc69524d",
            "f49eb3d56ce54108a5720ef6b3e923da",
            "08a35f6d6a7b42b083c472af851159de",
            "2c07e1424fbd4e89a8318181482d3564",
            "19890b22da7e45d9ac820f864c2b1319",
            "28f09702b0cb414289b764b051416d1e",
            "ba22a57701a54d9e9ead32899020a98e",
            "11856252852d4fc58da4379f5cd7a889",
            "259c920c5ebf4e1c9a31ce65a227760a",
            "be1c89cfd6a44c83bd4ba7c12f5d689e",
            "df5e2a6b81a7423395641c1da8594dfc",
            "253d1fb5923a4cb39672f51ead44b6ff",
            "c0060c21ed1f415b9ab3cef2f422fdf5",
            "66d71dcfd9e34b86a2e0c9b68315d91c",
            "a9a1ecca7e9d43559c23b290358695f5",
            "0fd6b36f9f8a4fbc9c3f62e4584e1ce3",
            "d37e5e2db7324d46817341fed2f8fdb5",
            "b4faccac150f4026a9707cff90621d7d",
            "e92ce5b0db834d7ea23029335c979500",
            "f49649af0226458aa9ecb3b9ef1a30ba"
          ]
        },
        "outputId": "7216663f-2944-4cbc-b87e-75357538df01"
      },
      "source": [
        "dataset, info = tfds.load('amazon_us_reviews/Personal_Care_Appliances_v1_00', with_info=True, batch_size=-1)\n",
        "train_dataset= dataset['train']"
      ],
      "execution_count": 5,
      "outputs": [
        {
          "output_type": "stream",
          "text": [
            "Downloading and preparing dataset amazon_us_reviews/Personal_Care_Appliances_v1_00/0.1.0 (download: 16.82 MiB, generated: Unknown size, total: 16.82 MiB) to /root/tensorflow_datasets/amazon_us_reviews/Personal_Care_Appliances_v1_00/0.1.0...\n"
          ],
          "name": "stdout"
        },
        {
          "output_type": "display_data",
          "data": {
            "application/vnd.jupyter.widget-view+json": {
              "model_id": "63e6c8b5f613490ba636a3b4a7ae0e96",
              "version_minor": 0,
              "version_major": 2
            },
            "text/plain": [
              "HBox(children=(FloatProgress(value=1.0, bar_style='info', description='Dl Completed...', max=1.0, style=Progre…"
            ]
          },
          "metadata": {
            "tags": []
          }
        },
        {
          "output_type": "display_data",
          "data": {
            "application/vnd.jupyter.widget-view+json": {
              "model_id": "0cfa9468ab9d4dbe8eee701c7481558b",
              "version_minor": 0,
              "version_major": 2
            },
            "text/plain": [
              "HBox(children=(FloatProgress(value=1.0, bar_style='info', description='Dl Size...', max=1.0, style=ProgressSty…"
            ]
          },
          "metadata": {
            "tags": []
          }
        },
        {
          "output_type": "display_data",
          "data": {
            "application/vnd.jupyter.widget-view+json": {
              "model_id": "8e3d1e139d66434d9d4cc6e04027aae4",
              "version_minor": 0,
              "version_major": 2
            },
            "text/plain": [
              "HBox(children=(FloatProgress(value=1.0, bar_style='info', description='Extraction completed...', max=1.0, styl…"
            ]
          },
          "metadata": {
            "tags": []
          }
        },
        {
          "output_type": "stream",
          "text": [
            "/usr/local/lib/python3.6/dist-packages/urllib3/connectionpool.py:847: InsecureRequestWarning: Unverified HTTPS request is being made. Adding certificate verification is strongly advised. See: https://urllib3.readthedocs.io/en/latest/advanced-usage.html#ssl-warnings\n",
            "  InsecureRequestWarning)\n"
          ],
          "name": "stderr"
        },
        {
          "output_type": "stream",
          "text": [
            "\n",
            "\n",
            "\n",
            "\n",
            "\n",
            "\n"
          ],
          "name": "stdout"
        },
        {
          "output_type": "display_data",
          "data": {
            "application/vnd.jupyter.widget-view+json": {
              "model_id": "062c76ea1795416a9eaa7d4cb4f05b00",
              "version_minor": 0,
              "version_major": 2
            },
            "text/plain": [
              "HBox(children=(FloatProgress(value=1.0, bar_style='info', max=1.0), HTML(value='')))"
            ]
          },
          "metadata": {
            "tags": []
          }
        },
        {
          "output_type": "stream",
          "text": [
            "\rShuffling and writing examples to /root/tensorflow_datasets/amazon_us_reviews/Personal_Care_Appliances_v1_00/0.1.0.incompleteXQR34L/amazon_us_reviews-train.tfrecord\n"
          ],
          "name": "stdout"
        },
        {
          "output_type": "display_data",
          "data": {
            "application/vnd.jupyter.widget-view+json": {
              "model_id": "033f3b0f953f4c3f9807833578ebd2ff",
              "version_minor": 0,
              "version_major": 2
            },
            "text/plain": [
              "HBox(children=(FloatProgress(value=0.0, max=85981.0), HTML(value='')))"
            ]
          },
          "metadata": {
            "tags": []
          }
        },
        {
          "output_type": "display_data",
          "data": {
            "application/vnd.jupyter.widget-view+json": {
              "model_id": "19890b22da7e45d9ac820f864c2b1319",
              "version_minor": 0,
              "version_major": 2
            },
            "text/plain": [
              "HBox(children=(FloatProgress(value=0.0, description='Computing statistics...', max=1.0, style=ProgressStyle(de…"
            ]
          },
          "metadata": {
            "tags": []
          }
        },
        {
          "output_type": "stream",
          "text": [
            "\r"
          ],
          "name": "stdout"
        },
        {
          "output_type": "display_data",
          "data": {
            "application/vnd.jupyter.widget-view+json": {
              "model_id": "c0060c21ed1f415b9ab3cef2f422fdf5",
              "version_minor": 0,
              "version_major": 2
            },
            "text/plain": [
              "HBox(children=(FloatProgress(value=1.0, bar_style='info', max=1.0), HTML(value='')))"
            ]
          },
          "metadata": {
            "tags": []
          }
        },
        {
          "output_type": "stream",
          "text": [
            "\r"
          ],
          "name": "stdout"
        },
        {
          "output_type": "stream",
          "text": [
            "ERROR:absl:Statistics generation doesn't work for nested structures yet\n"
          ],
          "name": "stderr"
        },
        {
          "output_type": "stream",
          "text": [
            "\n",
            "Dataset amazon_us_reviews downloaded and prepared to /root/tensorflow_datasets/amazon_us_reviews/Personal_Care_Appliances_v1_00/0.1.0. Subsequent calls will reuse this data.\n"
          ],
          "name": "stdout"
        }
      ]
    },
    {
      "cell_type": "code",
      "metadata": {
        "id": "-0jaC0AscHcS",
        "colab_type": "code",
        "colab": {
          "base_uri": "https://localhost:8080/",
          "height": 1000
        },
        "outputId": "d8f84a9a-b628-40e7-93f4-b7048a4f106c"
      },
      "source": [
        "info"
      ],
      "execution_count": 6,
      "outputs": [
        {
          "output_type": "execute_result",
          "data": {
            "text/plain": [
              "tfds.core.DatasetInfo(\n",
              "    name='amazon_us_reviews',\n",
              "    version=0.1.0,\n",
              "    description='Amazon Customer Reviews (a.k.a. Product Reviews) is one of Amazons iconic products. In a period of over two decades since the first review in 1995, millions of Amazon customers have contributed over a hundred million reviews to express opinions and describe their experiences regarding products on the Amazon.com website. This makes Amazon Customer Reviews a rich source of information for academic researchers in the fields of Natural Language Processing (NLP), Information Retrieval (IR), and Machine Learning (ML), amongst others. Accordingly, we are releasing this data to further research in multiple disciplines related to understanding customer product experiences. Specifically, this dataset was constructed to represent a sample of customer evaluations and opinions, variation in the perception of a product across geographical regions, and promotional intent or bias in reviews.\n",
              "\n",
              "Over 130+ million customer reviews are available to researchers as part of this release. The data is available in TSV files in the amazon-reviews-pds S3 bucket in AWS US East Region. Each line in the data files corresponds to an individual review (tab delimited, with no quote and escape characters).\n",
              "\n",
              "Each Dataset contains the following columns : \n",
              "  marketplace       - 2 letter country code of the marketplace where the review was written.\n",
              "  customer_id       - Random identifier that can be used to aggregate reviews written by a single author.\n",
              "  review_id         - The unique ID of the review.\n",
              "  product_id        - The unique Product ID the review pertains to. In the multilingual dataset the reviews\n",
              "                      for the same product in different countries can be grouped by the same product_id.\n",
              "  product_parent    - Random identifier that can be used to aggregate reviews for the same product.\n",
              "  product_title     - Title of the product.\n",
              "  product_category  - Broad product category that can be used to group reviews \n",
              "                      (also used to group the dataset into coherent parts).\n",
              "  star_rating       - The 1-5 star rating of the review.\n",
              "  helpful_votes     - Number of helpful votes.\n",
              "  total_votes       - Number of total votes the review received.\n",
              "  vine              - Review was written as part of the Vine program.\n",
              "  verified_purchase - The review is on a verified purchase.\n",
              "  review_headline   - The title of the review.\n",
              "  review_body       - The review text.\n",
              "  review_date       - The date the review was written.\n",
              "',\n",
              "    homepage='https://s3.amazonaws.com/amazon-reviews-pds/readme.html',\n",
              "    features=FeaturesDict({\n",
              "        'data': FeaturesDict({\n",
              "            'customer_id': tf.string,\n",
              "            'helpful_votes': tf.int32,\n",
              "            'marketplace': tf.string,\n",
              "            'product_category': tf.string,\n",
              "            'product_id': tf.string,\n",
              "            'product_parent': tf.string,\n",
              "            'product_title': tf.string,\n",
              "            'review_body': tf.string,\n",
              "            'review_date': tf.string,\n",
              "            'review_headline': tf.string,\n",
              "            'review_id': tf.string,\n",
              "            'star_rating': tf.int32,\n",
              "            'total_votes': tf.int32,\n",
              "            'verified_purchase': ClassLabel(shape=(), dtype=tf.int64, num_classes=2),\n",
              "            'vine': ClassLabel(shape=(), dtype=tf.int64, num_classes=2),\n",
              "        }),\n",
              "    }),\n",
              "    total_num_examples=85981,\n",
              "    splits={\n",
              "        'train': 85981,\n",
              "    },\n",
              "    supervised_keys=None,\n",
              "    citation=\"\"\"\"\"\",\n",
              "    redistribution_info=,\n",
              ")"
            ]
          },
          "metadata": {
            "tags": []
          },
          "execution_count": 6
        }
      ]
    },
    {
      "cell_type": "code",
      "metadata": {
        "id": "lV_ayUuacP4p",
        "colab_type": "code",
        "colab": {
          "base_uri": "https://localhost:8080/",
          "height": 790
        },
        "outputId": "550f3188-c704-4b6f-96cf-920e1eb8f43f"
      },
      "source": [
        "dataset= tfds.as_numpy(train_dataset)\n",
        "dataset"
      ],
      "execution_count": 7,
      "outputs": [
        {
          "output_type": "execute_result",
          "data": {
            "text/plain": [
              "{'data': {'customer_id': array([b'13986323', b'50574716', b'50593972', ..., b'40719682',\n",
              "         b'35596948', b'29430209'], dtype=object),\n",
              "  'helpful_votes': array([0, 3, 0, ..., 0, 0, 0], dtype=int32),\n",
              "  'marketplace': array([b'US', b'US', b'US', ..., b'US', b'US', b'US'], dtype=object),\n",
              "  'product_category': array([b'Personal_Care_Appliances', b'Personal_Care_Appliances',\n",
              "         b'Personal_Care_Appliances', ..., b'Personal_Care_Appliances',\n",
              "         b'Personal_Care_Appliances', b'Personal_Care_Appliances'],\n",
              "        dtype=object),\n",
              "  'product_id': array([b'B00847JQZ6', b'B00N5HD340', b'B0077L1X24', ..., b'B000UZ8X2W',\n",
              "         b'B000NURPPK', b'B001EY5GNW'], dtype=object),\n",
              "  'product_parent': array([b'997683625', b'955577225', b'120764066', ..., b'96066145',\n",
              "         b'58591097', b'986877728'], dtype=object),\n",
              "  'product_title': array([b'SE - Reading Glass - Spring Loaded Hinges, 4.0x - RTS62400',\n",
              "         b'Straight Razor',\n",
              "         b'Philips Sonicare Flexcare & Healthy White Plastic Travel Handle Case New Bulk Package',\n",
              "         ...,\n",
              "         b'Remington R-9200 Microflex Ultra TCT Shaver [Health and Beauty]',\n",
              "         b'SUNBEAM Cool Mist HUMIDIFIER with PermaFilter # 1120 \\xe2\\x80\\x93 1 Ea',\n",
              "         b'Andis Blade Set for T-Outliner Trimmer'], dtype=object),\n",
              "  'review_body': array([b\"These glasses are an excellent value.  The fit is good and they are very comfortable.  Because of my legal blindness, there aren't a lot of options to try to see better, but I believe these help with my other visual aids, and because they are reasonably priced I can have more than one pair available.\",\n",
              "         b\"Always wanted to try straight razor shaving (as a DE safety razor user), and this was a cheap way for me to determine I was not into it.<br /><br />Because the blades are disposable and always sharp, I could put a new one in and reasonably rely upon that fact that cuts were probably due to my technique and not the blade.<br /><br />It's very hard to do straight razor shaving on yourself because the ANGLE is difficult to control without switching hands. Being very right-handed, I really couldn't do that. I bet I could shave someone else's face with it though.<br /><br />An immediate upside? Using a DE safety razor (slant edged even) seems SUPER safe now! I'm increased my speed with the DE due to that confidence, and I'd been using it for years now.\",\n",
              "         b'I usually either throw my toothbrush in a plastic bag with spare head so this product is very convenient for keeping all the parts apart, dry and undamaged, and i now keep it in my travel bag all the time ready to go.',\n",
              "         ...,\n",
              "         b\"I have had a Remington before but needed a new one when the batteries died and the cutters were all but gone.  It was cheaper to buy a new one.  The new one has a nice charge level but the trimmer didn't work when I got it.\",\n",
              "         b\"I was surprised that it really didn't do much compared to the 1950s version that I'd inherited. Keeping a wet wash cloth next to my bed for when I start coughing in the middle of the night works better.\",\n",
              "         b'The blades were an excellent fit for my T-line trimmers.  Within five minutes I had my trimmers cleaned, the blades installed, and was putting them to use.  I saw the blades in several locations for almost twice the price I paid, so this worked out to be an awesome deal.'],\n",
              "        dtype=object),\n",
              "  'review_date': array([b'2015-01-04', b'2015-08-05', b'2012-11-17', ..., b'2008-02-08',\n",
              "         b'2007-09-07', b'2012-07-26'], dtype=object),\n",
              "  'review_headline': array([b'These glasses are an excellent value. The fit is good and they are ...',\n",
              "         b'A fantastic way to cheaply try straight razor shaving.',\n",
              "         b'Great for travel', ..., b'Trimmer Not Working',\n",
              "         b'Loud and ineffectual', b'Excellent product, awesomoe price'],\n",
              "        dtype=object),\n",
              "  'review_id': array([b'R3VEUFVA9QJY55', b'R2DTQV5SMJ0CK7', b'R3OJ06NK99WLNJ', ...,\n",
              "         b'R1ZQ0XZXOD9N18', b'R1FJ9OU429X00Y', b'RI28R1W94N1R6'],\n",
              "        dtype=object),\n",
              "  'star_rating': array([4, 5, 4, ..., 3, 2, 5], dtype=int32),\n",
              "  'total_votes': array([0, 3, 0, ..., 0, 0, 0], dtype=int32),\n",
              "  'verified_purchase': array([0, 0, 0, ..., 1, 0, 0]),\n",
              "  'vine': array([1, 1, 1, ..., 1, 1, 1])}}"
            ]
          },
          "metadata": {
            "tags": []
          },
          "execution_count": 7
        }
      ]
    },
    {
      "cell_type": "markdown",
      "metadata": {
        "id": "1sR5bq73AEYP",
        "colab_type": "text"
      },
      "source": [
        "We have review_body, review_headline consists of unstructured Text data. We will use these two columns for our building. Based on our baseline performance we will add new features based on weightage. star_rating will consists of rating ranges from 1-5 where 5 is highest rating. We need to perform sentiment analysis based on star_rating. We can either consider this target class as it to build multiclassification or transform to have 2 class labels for Binary Classification. For now, we will build it binary clasification"
      ]
    },
    {
      "cell_type": "code",
      "metadata": {
        "id": "Ss0NbdNuACby",
        "colab_type": "code",
        "colab": {}
      },
      "source": [
        "review_headline= dataset['data']['review_headline']\n",
        "review_body= dataset['data']['review_body']\n",
        "rating= dataset['data']['star_rating']"
      ],
      "execution_count": 8,
      "outputs": []
    },
    {
      "cell_type": "markdown",
      "metadata": {
        "id": "JxFkf69VC_yk",
        "colab_type": "text"
      },
      "source": [
        "based on above 3 variables, we will create H20 dataframe like we create pandas dataframe."
      ]
    },
    {
      "cell_type": "code",
      "metadata": {
        "id": "8ZGNPM37_9c-",
        "colab_type": "code",
        "colab": {
          "base_uri": "https://localhost:8080/",
          "height": 35
        },
        "outputId": "5212b263-c636-4611-83ce-12b21234c1c1"
      },
      "source": [
        "h2o_df=h2o.H2OFrame(np.hstack((review_headline[:,None],review_body[:,None],rating[:,None])),column_names=['headline','reviews','rating'],column_types=['string','string','numeric'])"
      ],
      "execution_count": 9,
      "outputs": [
        {
          "output_type": "stream",
          "text": [
            "Parse progress: |█████████████████████████████████████████████████████████| 100%\n"
          ],
          "name": "stdout"
        }
      ]
    },
    {
      "cell_type": "code",
      "metadata": {
        "id": "iBVRbiinGxs4",
        "colab_type": "code",
        "colab": {
          "base_uri": "https://localhost:8080/",
          "height": 688
        },
        "outputId": "142fb11d-3b98-4df0-9057-2b2c619a0597"
      },
      "source": [
        "h2o_df.head()"
      ],
      "execution_count": 10,
      "outputs": [
        {
          "output_type": "display_data",
          "data": {
            "text/html": [
              "<table>\n",
              "<thead>\n",
              "<tr><th>headline                                                                 </th><th>reviews                                                                                                                                                                                                                                                                                                                                                                                                                                                                                                                                                                                                                                                                                                                                                                                                                                                                                                                                                                                                                                                                                                                           </th><th style=\"text-align: right;\">  rating</th></tr>\n",
              "</thead>\n",
              "<tbody>\n",
              "<tr><td>b&#x27;These glasses are an excellent value. The fit is good and they are ...&#x27;</td><td>b&quot;These glasses are an excellent value.  The fit is good and they are very comfortable.  Because of my legal blindness, there aren&#x27;t a lot of options to try to see better, but I believe these help with my other visual aids, and because they are reasonably priced I can have more than one pair available.&quot;                                                                                                                                                                                                                                                                                                                                                                                                                                                                                                                                                                                                                                                                                                                                                                                                                  </td><td style=\"text-align: right;\">       4</td></tr>\n",
              "<tr><td>b&#x27;A fantastic way to cheaply try straight razor shaving.&#x27;                </td><td>b&quot;Always wanted to try straight razor shaving (as a DE safety razor user), and this was a cheap way for me to determine I was not into it.&lt;br /&gt;&lt;br /&gt;Because the blades are disposable and always sharp, I could put a new one in and reasonably rely upon that fact that cuts were probably due to my technique and not the blade.&lt;br /&gt;&lt;br /&gt;It&#x27;s very hard to do straight razor shaving on yourself because the ANGLE is difficult to control without switching hands. Being very right-handed, I really couldn&#x27;t do that. I bet I could shave someone else&#x27;s face with it though.&lt;br /&gt;&lt;br /&gt;An immediate upside? Using a DE safety razor (slant edged even) seems SUPER safe now! I&#x27;m increased my speed with the DE due to that confidence, and I&#x27;d been using it for years now.&quot;                                                                                                                                                                                                                                                                                                                                          </td><td style=\"text-align: right;\">       5</td></tr>\n",
              "<tr><td>b&#x27;Great for travel&#x27;                                                      </td><td>b&#x27;I usually either throw my toothbrush in a plastic bag with spare head so this product is very convenient for keeping all the parts apart, dry and undamaged, and i now keep it in my travel bag all the time ready to go.&#x27;                                                                                                                                                                                                                                                                                                                                                                                                                                                                                                                                                                                                                                                                                                                                                                                                                                                                                                      </td><td style=\"text-align: right;\">       4</td></tr>\n",
              "<tr><td>b&#x27;Five Stars&#x27;                                                            </td><td>b&#x27;Top quality.&#x27;                                                                                                                                                                                                                                                                                                                                                                                                                                                                                                                                                                                                                                                                                                                                                                                                                                                                                                                                                                                                                                                                                                                   </td><td style=\"text-align: right;\">       5</td></tr>\n",
              "<tr><td>b&#x27;*Product sent not as shown&#x27;                                            </td><td>b&#x27;Today I received  1 Fl. Oz, Natures Balance AlkaMAX alkaline booster liquid unflavored (formally TriMedica) a glass brown bottle with eye dropper.&lt;br /&gt;Supplement Facts; Serving Size: 10 Drops (Approx. 0.5 mL). Servings per Container: Approx. 60&lt;br /&gt;Amount Per Serving % Daily Value&lt;br /&gt;Magnesium (as Magnesium Chloride) 40 mg 10%&lt;br /&gt;Chloride (as Magnesium Chloride) 64 mg 2%&lt;br /&gt;Other Ingredients: Deionized water and trace mineral complex.&lt;br /&gt;Directions: Add 10 drops to 8 oz. of water or other beverage daily as needed or as directed by your health care practitioner. Store in a cool, dry place.&lt;br /&gt;&lt;br /&gt;I have not used product as of yet with changed ingredients of original/as shown in AlkaMax alkaline support white squeeze bottle.&lt;br /&gt;but had to rate to post...heck this new may be better for all I know.&#x27;                                                                                                                                                                                                                                                                          </td><td style=\"text-align: right;\">       3</td></tr>\n",
              "<tr><td>b&#x27;Seems to work well!&#x27;                                                   </td><td>b&#x27;I recently picked this unit up at Bed and Bath where it was $99.00. With a 20% coupon the price was $80 (so comparison shop!) It\\&#x27;s easy to use and seems to work well. I agree with other reviewers about the noise level (loud like a tea kettle boiling), but I use this unit in the living room area so sleeping is not an issue. Having the 2 separate water reservoirs to fill is much easier, weight-wise, as I previously had another humidifier which had one large water reservoir and it was very heavy when full. The unit comes apart quite easily for cleaning and since frequent cleaning is recommended (I usually do it 1x per week, not daily) this is a definite plus. Additionally, one only needs to use vinegar to clean the inside reservoir, which is a lot cheaper than having to buy some kind of \\\\\\\\&quot;special\\\\\\\\&quot; cleaning solution. My one complaint is that it doesn\\&#x27;t, but should, have an automatic shut off when both tanks are empty.I have to remember to turn the unit off when I leave the house. My previous humidifiers all had this auto turn off; seems like every humidifier should.&#x27;</td><td style=\"text-align: right;\">       4</td></tr>\n",
              "<tr><td>b&#x27;deep heat?????&#x27;                                                        </td><td>b&#x27;Not sure what previous reviewer was talking about. The product uses ULTRASOUND waves for pain relief NOT heat.  After repeated use, the pain in my knee and shoulder was feeling great. I think you should re-read the description and reconsider your opinion. Great product sold by a great company.&#x27;                                                                                                                                                                                                                                                                                                                                                                                                                                                                                                                                                                                                                                                                                                                                                                                                                         </td><td style=\"text-align: right;\">       5</td></tr>\n",
              "<tr><td>b&#x27;Thermometer for a toddler&#x27;                                             </td><td>b&quot;The shippers were great....willing to consider speedier shipping options, but in the end the standard shipping arrived quickly enough. The thermometer is fun and easy to use, but with an inquisitive toddler, it would be nice to have the plastic cap attached to the body so that it doesn&#x27;t disappear.  Would buy it again from these sellers.&quot;                                                                                                                                                                                                                                                                                                                                                                                                                                                                                                                                                                                                                                                                                                                                                                            </td><td style=\"text-align: right;\">       4</td></tr>\n",
              "<tr><td>b&#x27;Wow!&#x27;                                                                  </td><td>b&quot;Man, for all you who know what I&#x27;m talking about, this is the best thing I&#x27;ve ever had on my back.  I suffer from back pain constantly and find myself waking up in the middle of the night pushing parts of my back and neck on the edges of walls on the corners of doors and sometimes lying down on tennis or racket balls to get pressure on those dang trigger points.  I opted for the body sticks package not knowing what they would do and it was a good thing.  They are like have racket balls on the ends of sticks to beat your muscle spasms and to lie down on them rolling around on your back. It is worth the money.  They use a device similar to this in physical therapy so if you get your doctor to write you a script for it, insurance may very well pay for it like mine did.  Even so, paid or not, buy this sucker.  Buy two, I thought, just in case it breaks and they for some reason stop manufacturing this thing.  Good stuff.&quot;                                                                                                                                                              </td><td style=\"text-align: right;\">       5</td></tr>\n",
              "<tr><td>b&#x27;Great cane for people with hand and wrist issues&#x27;                      </td><td>b&quot;I purchased this cane to assist me when I have to walk long distances.  I have rheumatoid arthritis that has particularly affected my low back and hips, and it sometimes makes walking difficult.  The problem with using a cane when you have RA is that RA doesn&#x27;t just affect your lower extremities.  My hands, wrists, and shoulders are also affected.  When I tried a normal cane, it was agonizingly painful for my hand and wrist in particular.  That made it not worth using, even though it did help my hip and back.  A friend with similar issues recommended this one, and the difference was amazing.  It is still a bit hard on my hand after awhile, but not to the point that would make it not worth using.  There really is no perfect solution for this circumstance short of a wheelchair, and I&#x27;m nowhere near ready for that yet!  The forearm rest makes it bearable to use this cane, and it does really help me to walk longer distances when I need to!  It is a great product, and I&#x27;m happy that I purchased it!&quot;                                                                               </td><td style=\"text-align: right;\">       4</td></tr>\n",
              "</tbody>\n",
              "</table>"
            ]
          },
          "metadata": {
            "tags": []
          }
        },
        {
          "output_type": "execute_result",
          "data": {
            "text/plain": [
              ""
            ]
          },
          "metadata": {
            "tags": []
          },
          "execution_count": 10
        }
      ]
    },
    {
      "cell_type": "code",
      "metadata": {
        "id": "gPF1FwUfGn08",
        "colab_type": "code",
        "colab": {
          "base_uri": "https://localhost:8080/",
          "height": 35
        },
        "outputId": "82e59a26-03e5-4082-9867-3045a54e1493"
      },
      "source": [
        "h2o_df.shape"
      ],
      "execution_count": 11,
      "outputs": [
        {
          "output_type": "execute_result",
          "data": {
            "text/plain": [
              "(85981, 3)"
            ]
          },
          "metadata": {
            "tags": []
          },
          "execution_count": 11
        }
      ]
    },
    {
      "cell_type": "code",
      "metadata": {
        "id": "5yRpN5HBGqH2",
        "colab_type": "code",
        "colab": {
          "base_uri": "https://localhost:8080/",
          "height": 981
        },
        "outputId": "16cc0309-a15c-41fa-b642-1a019c4e06c5"
      },
      "source": [
        "h2o_df.describe()"
      ],
      "execution_count": 12,
      "outputs": [
        {
          "output_type": "stream",
          "text": [
            "Rows:85981\n",
            "Cols:3\n",
            "\n",
            "\n"
          ],
          "name": "stdout"
        },
        {
          "output_type": "display_data",
          "data": {
            "text/html": [
              "<table>\n",
              "<thead>\n",
              "<tr><th>       </th><th>headline                                                                 </th><th>reviews                                                                                                                                                                                                                                                                                                                                                                                                                                                                                                                                                                                                                                                                                                                                                                                                                                                                                                                                                                                                                                                                                                                           </th><th>rating            </th></tr>\n",
              "</thead>\n",
              "<tbody>\n",
              "<tr><td>type   </td><td>string                                                                   </td><td>string                                                                                                                                                                                                                                                                                                                                                                                                                                                                                                                                                                                                                                                                                                                                                                                                                                                                                                                                                                                                                                                                                                                            </td><td>int               </td></tr>\n",
              "<tr><td>mins   </td><td>NaN                                                                      </td><td>NaN                                                                                                                                                                                                                                                                                                                                                                                                                                                                                                                                                                                                                                                                                                                                                                                                                                                                                                                                                                                                                                                                                                                               </td><td>1.0               </td></tr>\n",
              "<tr><td>mean   </td><td>NaN                                                                      </td><td>NaN                                                                                                                                                                                                                                                                                                                                                                                                                                                                                                                                                                                                                                                                                                                                                                                                                                                                                                                                                                                                                                                                                                                               </td><td>3.9774019841592847</td></tr>\n",
              "<tr><td>maxs   </td><td>NaN                                                                      </td><td>NaN                                                                                                                                                                                                                                                                                                                                                                                                                                                                                                                                                                                                                                                                                                                                                                                                                                                                                                                                                                                                                                                                                                                               </td><td>5.0               </td></tr>\n",
              "<tr><td>sigma  </td><td>NaN                                                                      </td><td>NaN                                                                                                                                                                                                                                                                                                                                                                                                                                                                                                                                                                                                                                                                                                                                                                                                                                                                                                                                                                                                                                                                                                                               </td><td>1.4331302919714732</td></tr>\n",
              "<tr><td>zeros  </td><td>0                                                                        </td><td>0                                                                                                                                                                                                                                                                                                                                                                                                                                                                                                                                                                                                                                                                                                                                                                                                                                                                                                                                                                                                                                                                                                                                 </td><td>0                 </td></tr>\n",
              "<tr><td>missing</td><td>0                                                                        </td><td>0                                                                                                                                                                                                                                                                                                                                                                                                                                                                                                                                                                                                                                                                                                                                                                                                                                                                                                                                                                                                                                                                                                                                 </td><td>0                 </td></tr>\n",
              "<tr><td>0      </td><td>b&#x27;These glasses are an excellent value. The fit is good and they are ...&#x27;</td><td>b&quot;These glasses are an excellent value.  The fit is good and they are very comfortable.  Because of my legal blindness, there aren&#x27;t a lot of options to try to see better, but I believe these help with my other visual aids, and because they are reasonably priced I can have more than one pair available.&quot;                                                                                                                                                                                                                                                                                                                                                                                                                                                                                                                                                                                                                                                                                                                                                                                                                  </td><td>4.0               </td></tr>\n",
              "<tr><td>1      </td><td>b&#x27;A fantastic way to cheaply try straight razor shaving.&#x27;                </td><td>b&quot;Always wanted to try straight razor shaving (as a DE safety razor user), and this was a cheap way for me to determine I was not into it.&lt;br /&gt;&lt;br /&gt;Because the blades are disposable and always sharp, I could put a new one in and reasonably rely upon that fact that cuts were probably due to my technique and not the blade.&lt;br /&gt;&lt;br /&gt;It&#x27;s very hard to do straight razor shaving on yourself because the ANGLE is difficult to control without switching hands. Being very right-handed, I really couldn&#x27;t do that. I bet I could shave someone else&#x27;s face with it though.&lt;br /&gt;&lt;br /&gt;An immediate upside? Using a DE safety razor (slant edged even) seems SUPER safe now! I&#x27;m increased my speed with the DE due to that confidence, and I&#x27;d been using it for years now.&quot;                                                                                                                                                                                                                                                                                                                                          </td><td>5.0               </td></tr>\n",
              "<tr><td>2      </td><td>b&#x27;Great for travel&#x27;                                                      </td><td>b&#x27;I usually either throw my toothbrush in a plastic bag with spare head so this product is very convenient for keeping all the parts apart, dry and undamaged, and i now keep it in my travel bag all the time ready to go.&#x27;                                                                                                                                                                                                                                                                                                                                                                                                                                                                                                                                                                                                                                                                                                                                                                                                                                                                                                      </td><td>4.0               </td></tr>\n",
              "<tr><td>3      </td><td>b&#x27;Five Stars&#x27;                                                            </td><td>b&#x27;Top quality.&#x27;                                                                                                                                                                                                                                                                                                                                                                                                                                                                                                                                                                                                                                                                                                                                                                                                                                                                                                                                                                                                                                                                                                                   </td><td>5.0               </td></tr>\n",
              "<tr><td>4      </td><td>b&#x27;*Product sent not as shown&#x27;                                            </td><td>b&#x27;Today I received  1 Fl. Oz, Natures Balance AlkaMAX alkaline booster liquid unflavored (formally TriMedica) a glass brown bottle with eye dropper.&lt;br /&gt;Supplement Facts; Serving Size: 10 Drops (Approx. 0.5 mL). Servings per Container: Approx. 60&lt;br /&gt;Amount Per Serving % Daily Value&lt;br /&gt;Magnesium (as Magnesium Chloride) 40 mg 10%&lt;br /&gt;Chloride (as Magnesium Chloride) 64 mg 2%&lt;br /&gt;Other Ingredients: Deionized water and trace mineral complex.&lt;br /&gt;Directions: Add 10 drops to 8 oz. of water or other beverage daily as needed or as directed by your health care practitioner. Store in a cool, dry place.&lt;br /&gt;&lt;br /&gt;I have not used product as of yet with changed ingredients of original/as shown in AlkaMax alkaline support white squeeze bottle.&lt;br /&gt;but had to rate to post...heck this new may be better for all I know.&#x27;                                                                                                                                                                                                                                                                          </td><td>3.0               </td></tr>\n",
              "<tr><td>5      </td><td>b&#x27;Seems to work well!&#x27;                                                   </td><td>b&#x27;I recently picked this unit up at Bed and Bath where it was $99.00. With a 20% coupon the price was $80 (so comparison shop!) It\\&#x27;s easy to use and seems to work well. I agree with other reviewers about the noise level (loud like a tea kettle boiling), but I use this unit in the living room area so sleeping is not an issue. Having the 2 separate water reservoirs to fill is much easier, weight-wise, as I previously had another humidifier which had one large water reservoir and it was very heavy when full. The unit comes apart quite easily for cleaning and since frequent cleaning is recommended (I usually do it 1x per week, not daily) this is a definite plus. Additionally, one only needs to use vinegar to clean the inside reservoir, which is a lot cheaper than having to buy some kind of \\\\\\\\&quot;special\\\\\\\\&quot; cleaning solution. My one complaint is that it doesn\\&#x27;t, but should, have an automatic shut off when both tanks are empty.I have to remember to turn the unit off when I leave the house. My previous humidifiers all had this auto turn off; seems like every humidifier should.&#x27;</td><td>4.0               </td></tr>\n",
              "<tr><td>6      </td><td>b&#x27;deep heat?????&#x27;                                                        </td><td>b&#x27;Not sure what previous reviewer was talking about. The product uses ULTRASOUND waves for pain relief NOT heat.  After repeated use, the pain in my knee and shoulder was feeling great. I think you should re-read the description and reconsider your opinion. Great product sold by a great company.&#x27;                                                                                                                                                                                                                                                                                                                                                                                                                                                                                                                                                                                                                                                                                                                                                                                                                         </td><td>5.0               </td></tr>\n",
              "<tr><td>7      </td><td>b&#x27;Thermometer for a toddler&#x27;                                             </td><td>b&quot;The shippers were great....willing to consider speedier shipping options, but in the end the standard shipping arrived quickly enough. The thermometer is fun and easy to use, but with an inquisitive toddler, it would be nice to have the plastic cap attached to the body so that it doesn&#x27;t disappear.  Would buy it again from these sellers.&quot;                                                                                                                                                                                                                                                                                                                                                                                                                                                                                                                                                                                                                                                                                                                                                                            </td><td>4.0               </td></tr>\n",
              "<tr><td>8      </td><td>b&#x27;Wow!&#x27;                                                                  </td><td>b&quot;Man, for all you who know what I&#x27;m talking about, this is the best thing I&#x27;ve ever had on my back.  I suffer from back pain constantly and find myself waking up in the middle of the night pushing parts of my back and neck on the edges of walls on the corners of doors and sometimes lying down on tennis or racket balls to get pressure on those dang trigger points.  I opted for the body sticks package not knowing what they would do and it was a good thing.  They are like have racket balls on the ends of sticks to beat your muscle spasms and to lie down on them rolling around on your back. It is worth the money.  They use a device similar to this in physical therapy so if you get your doctor to write you a script for it, insurance may very well pay for it like mine did.  Even so, paid or not, buy this sucker.  Buy two, I thought, just in case it breaks and they for some reason stop manufacturing this thing.  Good stuff.&quot;                                                                                                                                                              </td><td>5.0               </td></tr>\n",
              "<tr><td>9      </td><td>b&#x27;Great cane for people with hand and wrist issues&#x27;                      </td><td>b&quot;I purchased this cane to assist me when I have to walk long distances.  I have rheumatoid arthritis that has particularly affected my low back and hips, and it sometimes makes walking difficult.  The problem with using a cane when you have RA is that RA doesn&#x27;t just affect your lower extremities.  My hands, wrists, and shoulders are also affected.  When I tried a normal cane, it was agonizingly painful for my hand and wrist in particular.  That made it not worth using, even though it did help my hip and back.  A friend with similar issues recommended this one, and the difference was amazing.  It is still a bit hard on my hand after awhile, but not to the point that would make it not worth using.  There really is no perfect solution for this circumstance short of a wheelchair, and I&#x27;m nowhere near ready for that yet!  The forearm rest makes it bearable to use this cane, and it does really help me to walk longer distances when I need to!  It is a great product, and I&#x27;m happy that I purchased it!&quot;                                                                               </td><td>4.0               </td></tr>\n",
              "</tbody>\n",
              "</table>"
            ]
          },
          "metadata": {
            "tags": []
          }
        }
      ]
    },
    {
      "cell_type": "code",
      "metadata": {
        "id": "HXPykHDtG7AE",
        "colab_type": "code",
        "colab": {
          "base_uri": "https://localhost:8080/",
          "height": 147
        },
        "outputId": "d855a53d-f1aa-407a-cc13-1abb66896617"
      },
      "source": [
        "h2o_df['rating'].table()"
      ],
      "execution_count": 13,
      "outputs": [
        {
          "output_type": "display_data",
          "data": {
            "text/html": [
              "<table>\n",
              "<thead>\n",
              "<tr><th style=\"text-align: right;\">  rating</th><th style=\"text-align: right;\">  Count</th></tr>\n",
              "</thead>\n",
              "<tbody>\n",
              "<tr><td style=\"text-align: right;\">       1</td><td style=\"text-align: right;\">  11036</td></tr>\n",
              "<tr><td style=\"text-align: right;\">       2</td><td style=\"text-align: right;\">   5341</td></tr>\n",
              "<tr><td style=\"text-align: right;\">       3</td><td style=\"text-align: right;\">   7050</td></tr>\n",
              "<tr><td style=\"text-align: right;\">       4</td><td style=\"text-align: right;\">  13657</td></tr>\n",
              "<tr><td style=\"text-align: right;\">       5</td><td style=\"text-align: right;\">  48897</td></tr>\n",
              "</tbody>\n",
              "</table>"
            ]
          },
          "metadata": {
            "tags": []
          }
        },
        {
          "output_type": "execute_result",
          "data": {
            "text/plain": [
              ""
            ]
          },
          "metadata": {
            "tags": []
          },
          "execution_count": 13
        }
      ]
    },
    {
      "cell_type": "markdown",
      "metadata": {
        "id": "4qKmp1YxHAKp",
        "colab_type": "text"
      },
      "source": [
        "As you see, rating classes are imbalanced and labels ranging from 1-5. we can create new target column to make this rating into Binary values"
      ]
    },
    {
      "cell_type": "code",
      "metadata": {
        "id": "cGbgU0PhG_hP",
        "colab_type": "code",
        "colab": {}
      },
      "source": [
        "h2o_df['target'] = (h2o_df['rating'] >= 4).ifelse(\"1\", \"0\")"
      ],
      "execution_count": 14,
      "outputs": []
    },
    {
      "cell_type": "code",
      "metadata": {
        "id": "ux_B19LVHkIr",
        "colab_type": "code",
        "colab": {
          "base_uri": "https://localhost:8080/",
          "height": 83
        },
        "outputId": "a5a15b13-0ea1-4df8-a2d1-6f388d718183"
      },
      "source": [
        "h2o_df['target'].table()"
      ],
      "execution_count": 15,
      "outputs": [
        {
          "output_type": "display_data",
          "data": {
            "text/html": [
              "<table>\n",
              "<thead>\n",
              "<tr><th style=\"text-align: right;\">  target</th><th style=\"text-align: right;\">  Count</th></tr>\n",
              "</thead>\n",
              "<tbody>\n",
              "<tr><td style=\"text-align: right;\">       0</td><td style=\"text-align: right;\">  23427</td></tr>\n",
              "<tr><td style=\"text-align: right;\">       1</td><td style=\"text-align: right;\">  62554</td></tr>\n",
              "</tbody>\n",
              "</table>"
            ]
          },
          "metadata": {
            "tags": []
          }
        },
        {
          "output_type": "execute_result",
          "data": {
            "text/plain": [
              ""
            ]
          },
          "metadata": {
            "tags": []
          },
          "execution_count": 15
        }
      ]
    },
    {
      "cell_type": "markdown",
      "metadata": {
        "id": "Nu1OtSadHpiY",
        "colab_type": "text"
      },
      "source": [
        "You could see target labels are changed to Binary. Class Labels are imbalanced as minor class is very low compared to major class"
      ]
    },
    {
      "cell_type": "code",
      "metadata": {
        "id": "cCZzH8_KH6GB",
        "colab_type": "code",
        "colab": {
          "base_uri": "https://localhost:8080/",
          "height": 54
        },
        "outputId": "9beedf53-54a5-4172-a30c-a7e295465618"
      },
      "source": [
        "from nltk.corpus import stopwords\n",
        "nltk.download('stopwords')\n",
        "stop_words = set(stopwords.words('english'))"
      ],
      "execution_count": 16,
      "outputs": [
        {
          "output_type": "stream",
          "text": [
            "[nltk_data] Downloading package stopwords to /root/nltk_data...\n",
            "[nltk_data]   Unzipping corpora/stopwords.zip.\n"
          ],
          "name": "stdout"
        }
      ]
    },
    {
      "cell_type": "code",
      "metadata": {
        "id": "tan8UKyjHox1",
        "colab_type": "code",
        "colab": {}
      },
      "source": [
        "def tokenize(line):\n",
        "  tokenized = line.tokenize(\"\\\\W+\")\n",
        "  tokenized = tokenized.tolower()\n",
        "  tokenized = tokenized[(tokenized.nchar() >= 2) | (tokenized.isna()),:]\n",
        "  tokenized_filter = tokenized[(tokenized.isna()) | (~ tokenized.isin(stop_words)),:]\n",
        "  return tokenized_filter"
      ],
      "execution_count": 17,
      "outputs": []
    },
    {
      "cell_type": "code",
      "metadata": {
        "id": "HgHiwK5_IOZT",
        "colab_type": "code",
        "colab": {}
      },
      "source": [
        "words_reviews = tokenize(h2o_df[\"reviews\"])"
      ],
      "execution_count": 18,
      "outputs": []
    },
    {
      "cell_type": "code",
      "metadata": {
        "id": "1GzRWb4rIPDb",
        "colab_type": "code",
        "colab": {}
      },
      "source": [
        "words_headline = tokenize(h2o_df[\"headline\"])"
      ],
      "execution_count": 19,
      "outputs": []
    },
    {
      "cell_type": "code",
      "metadata": {
        "id": "drt9Y5TfJ1xZ",
        "colab_type": "code",
        "colab": {
          "base_uri": "https://localhost:8080/",
          "height": 254
        },
        "outputId": "a8c2566f-1b80-496c-e12b-bc1607511615"
      },
      "source": [
        "words_reviews.head()"
      ],
      "execution_count": 20,
      "outputs": [
        {
          "output_type": "display_data",
          "data": {
            "text/html": [
              "<table>\n",
              "<thead>\n",
              "<tr><th>C1         </th></tr>\n",
              "</thead>\n",
              "<tbody>\n",
              "<tr><td>glasses    </td></tr>\n",
              "<tr><td>excellent  </td></tr>\n",
              "<tr><td>value      </td></tr>\n",
              "<tr><td>fit        </td></tr>\n",
              "<tr><td>good       </td></tr>\n",
              "<tr><td>comfortable</td></tr>\n",
              "<tr><td>legal      </td></tr>\n",
              "<tr><td>blindness  </td></tr>\n",
              "<tr><td>lot        </td></tr>\n",
              "<tr><td>options    </td></tr>\n",
              "</tbody>\n",
              "</table>"
            ]
          },
          "metadata": {
            "tags": []
          }
        },
        {
          "output_type": "execute_result",
          "data": {
            "text/plain": [
              ""
            ]
          },
          "metadata": {
            "tags": []
          },
          "execution_count": 20
        }
      ]
    },
    {
      "cell_type": "code",
      "metadata": {
        "id": "c9CR1RslJ-Wv",
        "colab_type": "code",
        "colab": {
          "base_uri": "https://localhost:8080/",
          "height": 237
        },
        "outputId": "771f1322-9ffb-45a8-fd28-381f19c873c0"
      },
      "source": [
        "words_headline.head()"
      ],
      "execution_count": 21,
      "outputs": [
        {
          "output_type": "display_data",
          "data": {
            "text/html": [
              "<table>\n",
              "<thead>\n",
              "<tr><th>C1       </th></tr>\n",
              "</thead>\n",
              "<tbody>\n",
              "<tr><td>glasses  </td></tr>\n",
              "<tr><td>excellent</td></tr>\n",
              "<tr><td>value    </td></tr>\n",
              "<tr><td>fit      </td></tr>\n",
              "<tr><td>good     </td></tr>\n",
              "<tr><td>         </td></tr>\n",
              "<tr><td>fantastic</td></tr>\n",
              "<tr><td>way      </td></tr>\n",
              "<tr><td>cheaply  </td></tr>\n",
              "<tr><td>try      </td></tr>\n",
              "</tbody>\n",
              "</table>"
            ]
          },
          "metadata": {
            "tags": []
          }
        },
        {
          "output_type": "execute_result",
          "data": {
            "text/plain": [
              ""
            ]
          },
          "metadata": {
            "tags": []
          },
          "execution_count": 21
        }
      ]
    },
    {
      "cell_type": "markdown",
      "metadata": {
        "id": "m7jQXnnBKVaD",
        "colab_type": "text"
      },
      "source": [
        "Above two cells shows the first few tokens of words_reviews and words_headline."
      ]
    },
    {
      "cell_type": "code",
      "metadata": {
        "id": "aLIrIH0pKdJn",
        "colab_type": "code",
        "colab": {
          "base_uri": "https://localhost:8080/",
          "height": 35
        },
        "outputId": "46afdd99-3f31-413f-8ae3-d360368941d9"
      },
      "source": [
        "print(words_reviews.shape, words_headline.shape)"
      ],
      "execution_count": 22,
      "outputs": [
        {
          "output_type": "stream",
          "text": [
            "(2797601, 1) (319384, 1)\n"
          ],
          "name": "stdout"
        }
      ]
    },
    {
      "cell_type": "code",
      "metadata": {
        "id": "g27SWxWRKoCw",
        "colab_type": "code",
        "colab": {}
      },
      "source": [
        "from h2o.estimators.word2vec import H2OWord2vecEstimator\n",
        "from h2o.estimators import H2OGradientBoostingEstimator, H2OXGBoostEstimator"
      ],
      "execution_count": 23,
      "outputs": []
    },
    {
      "cell_type": "markdown",
      "metadata": {
        "id": "Be16gsgPK7VT",
        "colab_type": "text"
      },
      "source": [
        "To create word embedding H2OWord2vec package is imported."
      ]
    },
    {
      "cell_type": "code",
      "metadata": {
        "id": "VbB6rwBQK63U",
        "colab_type": "code",
        "colab": {
          "base_uri": "https://localhost:8080/",
          "height": 35
        },
        "outputId": "d80253cd-e2b7-4f04-fab9-1692eb2329c4"
      },
      "source": [
        "vec_model = H2OWord2vecEstimator(vec_size= 100, model_id='w2v_amazon.model')\n",
        "vec_model.train(training_frame=words_reviews)"
      ],
      "execution_count": 24,
      "outputs": [
        {
          "output_type": "stream",
          "text": [
            "word2vec Model Build progress: |██████████████████████████████████████████| 100%\n"
          ],
          "name": "stdout"
        }
      ]
    },
    {
      "cell_type": "code",
      "metadata": {
        "id": "Zik3mcnAMFZi",
        "colab_type": "code",
        "colab": {
          "base_uri": "https://localhost:8080/",
          "height": 36
        },
        "outputId": "8016fcfc-9f26-4d71-e5f0-369276683945"
      },
      "source": [
        "h2o.save_model(vec_model, path='./')"
      ],
      "execution_count": 25,
      "outputs": [
        {
          "output_type": "execute_result",
          "data": {
            "application/vnd.google.colaboratory.intrinsic+json": {
              "type": "string"
            },
            "text/plain": [
              "'/content/w2v_amazon.model'"
            ]
          },
          "metadata": {
            "tags": []
          },
          "execution_count": 25
        }
      ]
    },
    {
      "cell_type": "code",
      "metadata": {
        "id": "np-6W-KRMiEv",
        "colab_type": "code",
        "colab": {}
      },
      "source": [
        "vec_model=h2o.load_model('w2v_amazon.model')"
      ],
      "execution_count": 26,
      "outputs": []
    },
    {
      "cell_type": "code",
      "metadata": {
        "id": "-vK23zBoMvL5",
        "colab_type": "code",
        "colab": {
          "base_uri": "https://localhost:8080/",
          "height": 109
        },
        "outputId": "4bebfe8d-d855-4572-e1d6-b56535416850"
      },
      "source": [
        "vec_model.find_synonyms('razor', count=5)"
      ],
      "execution_count": 27,
      "outputs": [
        {
          "output_type": "execute_result",
          "data": {
            "text/plain": [
              "OrderedDict([('razors', 0.8695286512374878),\n",
              "             ('blade', 0.7956125736236572),\n",
              "             ('shaving', 0.782518208026886),\n",
              "             ('futur', 0.7597213387489319),\n",
              "             ('edwin', 0.7541027069091797)])"
            ]
          },
          "metadata": {
            "tags": []
          },
          "execution_count": 27
        }
      ]
    },
    {
      "cell_type": "code",
      "metadata": {
        "id": "_1KgpB7GNCvP",
        "colab_type": "code",
        "colab": {
          "base_uri": "https://localhost:8080/",
          "height": 201
        },
        "outputId": "b1e1ab68-c9b4-4d29-8cfb-f955c7f9c1b4"
      },
      "source": [
        "vec_model.find_synonyms('soap', count=10)"
      ],
      "execution_count": 28,
      "outputs": [
        {
          "output_type": "execute_result",
          "data": {
            "text/plain": [
              "OrderedDict([('castile', 0.7090892195701599),\n",
              "             ('detergent', 0.687648355960846),\n",
              "             ('lather', 0.6834412217140198),\n",
              "             ('dishwashing', 0.6822304129600525),\n",
              "             ('soaps', 0.6732694506645203),\n",
              "             ('proraso', 0.6726395487785339),\n",
              "             ('conk', 0.6712385416030884),\n",
              "             ('scum', 0.6599320769309998),\n",
              "             ('foaming', 0.6588039398193359),\n",
              "             ('maggie', 0.6586300730705261)])"
            ]
          },
          "metadata": {
            "tags": []
          },
          "execution_count": 28
        }
      ]
    },
    {
      "cell_type": "code",
      "metadata": {
        "id": "7EB3_jwmNNmH",
        "colab_type": "code",
        "colab": {
          "base_uri": "https://localhost:8080/",
          "height": 109
        },
        "outputId": "5304df1e-1191-4647-bced-ec667e3a5539"
      },
      "source": [
        "vec_model.find_synonyms('glasses', count=5)"
      ],
      "execution_count": 29,
      "outputs": [
        {
          "output_type": "execute_result",
          "data": {
            "text/plain": [
              "OrderedDict([('sunglasses', 0.8813431859016418),\n",
              "             ('readers', 0.8495980501174927),\n",
              "             ('lenses', 0.805550754070282),\n",
              "             ('bifocal', 0.7997276782989502),\n",
              "             ('bifocals', 0.7985571026802063)])"
            ]
          },
          "metadata": {
            "tags": []
          },
          "execution_count": 29
        }
      ]
    },
    {
      "cell_type": "markdown",
      "metadata": {
        "id": "kaL-peLdOK6X",
        "colab_type": "text"
      },
      "source": [
        "Vocabulary is created from training text data. So, what word2vec do it actually creates vector representation of vocabulary and place the similar words close to eachother. As you see in above example, sunglasses, readers, bifocal, lenses are closer words to 'glasses'. Since the similar words are closed to eachother we dont lose context."
      ]
    },
    {
      "cell_type": "code",
      "metadata": {
        "id": "Atw-G8IqOKC4",
        "colab_type": "code",
        "colab": {
          "base_uri": "https://localhost:8080/",
          "height": 35
        },
        "outputId": "cd361afb-5fe0-4a70-82e5-3348ec74ee11"
      },
      "source": [
        "review_vecs= vec_model.transform(words_reviews, aggregate_method='AVERAGE')\n",
        "review_vecs.shape"
      ],
      "execution_count": 30,
      "outputs": [
        {
          "output_type": "execute_result",
          "data": {
            "text/plain": [
              "(85981, 100)"
            ]
          },
          "metadata": {
            "tags": []
          },
          "execution_count": 30
        }
      ]
    },
    {
      "cell_type": "code",
      "metadata": {
        "id": "kyN4sciEPWAP",
        "colab_type": "code",
        "colab": {
          "base_uri": "https://localhost:8080/",
          "height": 274
        },
        "outputId": "c24d70a7-d80d-4bdf-e665-8686061a2d6c"
      },
      "source": [
        "review_vecs.head()"
      ],
      "execution_count": 31,
      "outputs": [
        {
          "output_type": "display_data",
          "data": {
            "text/html": [
              "<table>\n",
              "<thead>\n",
              "<tr><th style=\"text-align: right;\">        C1</th><th style=\"text-align: right;\">         C2</th><th style=\"text-align: right;\">       C3</th><th style=\"text-align: right;\">         C4</th><th style=\"text-align: right;\">        C5</th><th style=\"text-align: right;\">        C6</th><th style=\"text-align: right;\">          C7</th><th style=\"text-align: right;\">          C8</th><th style=\"text-align: right;\">        C9</th><th style=\"text-align: right;\">       C10</th><th style=\"text-align: right;\">       C11</th><th style=\"text-align: right;\">       C12</th><th style=\"text-align: right;\">       C13</th><th style=\"text-align: right;\">         C14</th><th style=\"text-align: right;\">        C15</th><th style=\"text-align: right;\">       C16</th><th style=\"text-align: right;\">       C17</th><th style=\"text-align: right;\">        C18</th><th style=\"text-align: right;\">       C19</th><th style=\"text-align: right;\">         C20</th><th style=\"text-align: right;\">       C21</th><th style=\"text-align: right;\">         C22</th><th style=\"text-align: right;\">        C23</th><th style=\"text-align: right;\">       C24</th><th style=\"text-align: right;\">        C25</th><th style=\"text-align: right;\">       C26</th><th style=\"text-align: right;\">        C27</th><th style=\"text-align: right;\">       C28</th><th style=\"text-align: right;\">       C29</th><th style=\"text-align: right;\">        C30</th><th style=\"text-align: right;\">        C31</th><th style=\"text-align: right;\">       C32</th><th style=\"text-align: right;\">       C33</th><th style=\"text-align: right;\">        C34</th><th style=\"text-align: right;\">        C35</th><th style=\"text-align: right;\">        C36</th><th style=\"text-align: right;\">       C37</th><th style=\"text-align: right;\">       C38</th><th style=\"text-align: right;\">        C39</th><th style=\"text-align: right;\">       C40</th><th style=\"text-align: right;\">        C41</th><th style=\"text-align: right;\">        C42</th><th style=\"text-align: right;\">        C43</th><th style=\"text-align: right;\">       C44</th><th style=\"text-align: right;\">       C45</th><th style=\"text-align: right;\">        C46</th><th style=\"text-align: right;\">        C47</th><th style=\"text-align: right;\">        C48</th><th style=\"text-align: right;\">       C49</th><th style=\"text-align: right;\">       C50</th><th style=\"text-align: right;\">         C51</th><th style=\"text-align: right;\">        C52</th><th style=\"text-align: right;\">       C53</th><th style=\"text-align: right;\">       C54</th><th style=\"text-align: right;\">        C55</th><th style=\"text-align: right;\">       C56</th><th style=\"text-align: right;\">       C57</th><th style=\"text-align: right;\">        C58</th><th style=\"text-align: right;\">       C59</th><th style=\"text-align: right;\">        C60</th><th style=\"text-align: right;\">       C61</th><th style=\"text-align: right;\">       C62</th><th style=\"text-align: right;\">        C63</th><th style=\"text-align: right;\">        C64</th><th style=\"text-align: right;\">       C65</th><th style=\"text-align: right;\">       C66</th><th style=\"text-align: right;\">      C67</th><th style=\"text-align: right;\">        C68</th><th style=\"text-align: right;\">       C69</th><th style=\"text-align: right;\">       C70</th><th style=\"text-align: right;\">        C71</th><th style=\"text-align: right;\">        C72</th><th style=\"text-align: right;\">        C73</th><th style=\"text-align: right;\">       C74</th><th style=\"text-align: right;\">       C75</th><th style=\"text-align: right;\">        C76</th><th style=\"text-align: right;\">      C77</th><th style=\"text-align: right;\">       C78</th><th style=\"text-align: right;\">        C79</th><th style=\"text-align: right;\">      C80</th><th style=\"text-align: right;\">       C81</th><th style=\"text-align: right;\">        C82</th><th style=\"text-align: right;\">        C83</th><th style=\"text-align: right;\">        C84</th><th style=\"text-align: right;\">       C85</th><th style=\"text-align: right;\">       C86</th><th style=\"text-align: right;\">        C87</th><th style=\"text-align: right;\">       C88</th><th style=\"text-align: right;\">      C89</th><th style=\"text-align: right;\">      C90</th><th style=\"text-align: right;\">        C91</th><th style=\"text-align: right;\">       C92</th><th style=\"text-align: right;\">        C93</th><th style=\"text-align: right;\">        C94</th><th style=\"text-align: right;\">       C95</th><th style=\"text-align: right;\">         C96</th><th style=\"text-align: right;\">      C97</th><th style=\"text-align: right;\">        C98</th><th style=\"text-align: right;\">        C99</th><th style=\"text-align: right;\">      C100</th></tr>\n",
              "</thead>\n",
              "<tbody>\n",
              "<tr><td style=\"text-align: right;\">-0.0511896</td><td style=\"text-align: right;\"> 0.0299508 </td><td style=\"text-align: right;\">0.126391 </td><td style=\"text-align: right;\">-0.0675805 </td><td style=\"text-align: right;\">-0.0164273</td><td style=\"text-align: right;\">-0.228967 </td><td style=\"text-align: right;\"> 0.155622   </td><td style=\"text-align: right;\"> 3.85919e-05</td><td style=\"text-align: right;\"> 0.112404 </td><td style=\"text-align: right;\">-0.145765 </td><td style=\"text-align: right;\"> 0.0591166</td><td style=\"text-align: right;\">-0.0978328</td><td style=\"text-align: right;\">-0.10828  </td><td style=\"text-align: right;\">-0.000688654</td><td style=\"text-align: right;\">-0.00697865</td><td style=\"text-align: right;\">-0.111709 </td><td style=\"text-align: right;\"> 0.116749 </td><td style=\"text-align: right;\">-0.170377  </td><td style=\"text-align: right;\"> 0.0286809</td><td style=\"text-align: right;\">-0.0314706  </td><td style=\"text-align: right;\"> 0.109107 </td><td style=\"text-align: right;\">-0.106371   </td><td style=\"text-align: right;\"> 0.0323253 </td><td style=\"text-align: right;\">-0.0859966</td><td style=\"text-align: right;\"> 0.0217327 </td><td style=\"text-align: right;\">-0.092409 </td><td style=\"text-align: right;\">-0.0105098 </td><td style=\"text-align: right;\">-0.06584  </td><td style=\"text-align: right;\">-0.043531 </td><td style=\"text-align: right;\"> 0.0122957 </td><td style=\"text-align: right;\">-0.130001  </td><td style=\"text-align: right;\"> 0.0985166</td><td style=\"text-align: right;\">-0.13576  </td><td style=\"text-align: right;\">-0.00347105</td><td style=\"text-align: right;\"> 0.0803827 </td><td style=\"text-align: right;\"> 0.0401277 </td><td style=\"text-align: right;\">-0.134853 </td><td style=\"text-align: right;\">-0.0334912</td><td style=\"text-align: right;\"> 0.123391  </td><td style=\"text-align: right;\"> 0.116569 </td><td style=\"text-align: right;\">-0.0618038 </td><td style=\"text-align: right;\"> 0.0849669 </td><td style=\"text-align: right;\">-0.159731  </td><td style=\"text-align: right;\"> 0.0472459</td><td style=\"text-align: right;\">-0.179378 </td><td style=\"text-align: right;\"> 0.00737013</td><td style=\"text-align: right;\"> 0.0266034 </td><td style=\"text-align: right;\"> 0.105609  </td><td style=\"text-align: right;\">-0.130451 </td><td style=\"text-align: right;\">-0.087824 </td><td style=\"text-align: right;\"> 0.0550813  </td><td style=\"text-align: right;\"> 0.0354782 </td><td style=\"text-align: right;\">-0.063383 </td><td style=\"text-align: right;\">-0.169385 </td><td style=\"text-align: right;\"> 0.0814695 </td><td style=\"text-align: right;\">-0.103736 </td><td style=\"text-align: right;\">-0.0125004</td><td style=\"text-align: right;\">-0.0562721 </td><td style=\"text-align: right;\"> 0.0116979</td><td style=\"text-align: right;\"> 0.0342669 </td><td style=\"text-align: right;\"> 0.0517047</td><td style=\"text-align: right;\">-0.109623 </td><td style=\"text-align: right;\">-0.0139884 </td><td style=\"text-align: right;\"> 0.044057  </td><td style=\"text-align: right;\"> 0.0432424</td><td style=\"text-align: right;\"> 0.0584874</td><td style=\"text-align: right;\">0.0747539</td><td style=\"text-align: right;\"> 0.0702659 </td><td style=\"text-align: right;\">-0.172516 </td><td style=\"text-align: right;\">-0.14131  </td><td style=\"text-align: right;\">-0.0385631 </td><td style=\"text-align: right;\">-0.0123551 </td><td style=\"text-align: right;\">-0.0670607 </td><td style=\"text-align: right;\"> 0.0209957</td><td style=\"text-align: right;\">-0.099904 </td><td style=\"text-align: right;\">-0.116468  </td><td style=\"text-align: right;\">0.0645085</td><td style=\"text-align: right;\"> 0.131878 </td><td style=\"text-align: right;\">-0.0129902 </td><td style=\"text-align: right;\">0.101157 </td><td style=\"text-align: right;\"> 0.0984974</td><td style=\"text-align: right;\"> 0.00988512</td><td style=\"text-align: right;\"> 0.0658149 </td><td style=\"text-align: right;\"> 0.0091733 </td><td style=\"text-align: right;\">-0.0907954</td><td style=\"text-align: right;\">-0.0560416</td><td style=\"text-align: right;\">-0.0217973 </td><td style=\"text-align: right;\"> 0.140744 </td><td style=\"text-align: right;\">0.068624 </td><td style=\"text-align: right;\">0.154377 </td><td style=\"text-align: right;\">-0.151697  </td><td style=\"text-align: right;\"> 0.0632573</td><td style=\"text-align: right;\">-0.0682926 </td><td style=\"text-align: right;\"> 0.114512  </td><td style=\"text-align: right;\">-0.173487 </td><td style=\"text-align: right;\">-0.174618   </td><td style=\"text-align: right;\">0.0840024</td><td style=\"text-align: right;\">-0.0123008 </td><td style=\"text-align: right;\"> 0.0117929 </td><td style=\"text-align: right;\"> 0.164213 </td></tr>\n",
              "<tr><td style=\"text-align: right;\">-0.196293 </td><td style=\"text-align: right;\"> 0.0551981 </td><td style=\"text-align: right;\">0.20274  </td><td style=\"text-align: right;\">-0.0650637 </td><td style=\"text-align: right;\">-0.116755 </td><td style=\"text-align: right;\">-0.261565 </td><td style=\"text-align: right;\"> 0.0176258  </td><td style=\"text-align: right;\"> 0.0290493  </td><td style=\"text-align: right;\"> 0.0527718</td><td style=\"text-align: right;\">-0.0344957</td><td style=\"text-align: right;\"> 0.047323 </td><td style=\"text-align: right;\">-0.0250231</td><td style=\"text-align: right;\">-0.0303271</td><td style=\"text-align: right;\">-0.0208216  </td><td style=\"text-align: right;\">-0.0449099 </td><td style=\"text-align: right;\">-0.132262 </td><td style=\"text-align: right;\">-0.0145288</td><td style=\"text-align: right;\"> 0.0443549 </td><td style=\"text-align: right;\"> 0.0199206</td><td style=\"text-align: right;\">-0.018369   </td><td style=\"text-align: right;\"> 0.213693 </td><td style=\"text-align: right;\">-0.000609369</td><td style=\"text-align: right;\"> 0.0280481 </td><td style=\"text-align: right;\">-0.0276106</td><td style=\"text-align: right;\"> 0.0152697 </td><td style=\"text-align: right;\">-0.117923 </td><td style=\"text-align: right;\">-0.0651725 </td><td style=\"text-align: right;\">-0.0632168</td><td style=\"text-align: right;\">-0.176826 </td><td style=\"text-align: right;\">-0.051896  </td><td style=\"text-align: right;\">-0.0393574 </td><td style=\"text-align: right;\"> 0.0992547</td><td style=\"text-align: right;\">-0.0381559</td><td style=\"text-align: right;\">-0.0232297 </td><td style=\"text-align: right;\"> 0.00455036</td><td style=\"text-align: right;\"> 0.0805437 </td><td style=\"text-align: right;\">-0.0136045</td><td style=\"text-align: right;\"> 0.0052868</td><td style=\"text-align: right;\">-0.0632596 </td><td style=\"text-align: right;\"> 0.110516 </td><td style=\"text-align: right;\">-0.106007  </td><td style=\"text-align: right;\"> 0.0303536 </td><td style=\"text-align: right;\">-0.119156  </td><td style=\"text-align: right;\"> 0.147153 </td><td style=\"text-align: right;\">-0.0319299</td><td style=\"text-align: right;\">-0.00289312</td><td style=\"text-align: right;\"> 0.0131948 </td><td style=\"text-align: right;\"> 0.0029848 </td><td style=\"text-align: right;\">-0.143061 </td><td style=\"text-align: right;\"> 0.049781 </td><td style=\"text-align: right;\">-0.000535893</td><td style=\"text-align: right;\">-0.14607   </td><td style=\"text-align: right;\">-0.0289474</td><td style=\"text-align: right;\">-0.0966708</td><td style=\"text-align: right;\">-0.0139196 </td><td style=\"text-align: right;\">-0.0517464</td><td style=\"text-align: right;\">-0.152584 </td><td style=\"text-align: right;\"> 0.0280148 </td><td style=\"text-align: right;\">-0.0114717</td><td style=\"text-align: right;\"> 0.00263248</td><td style=\"text-align: right;\"> 0.0183663</td><td style=\"text-align: right;\">-0.0708962</td><td style=\"text-align: right;\"> 0.0619607 </td><td style=\"text-align: right;\">-0.00308765</td><td style=\"text-align: right;\"> 0.0257128</td><td style=\"text-align: right;\"> 0.118359 </td><td style=\"text-align: right;\">0.0598589</td><td style=\"text-align: right;\">-0.118825  </td><td style=\"text-align: right;\">-0.0773111</td><td style=\"text-align: right;\">-0.0998009</td><td style=\"text-align: right;\">-0.0889587 </td><td style=\"text-align: right;\">-0.00501381</td><td style=\"text-align: right;\">-0.217564  </td><td style=\"text-align: right;\">-0.0501961</td><td style=\"text-align: right;\">-0.0849217</td><td style=\"text-align: right;\">-0.00443497</td><td style=\"text-align: right;\">0.138553 </td><td style=\"text-align: right;\"> 0.072961 </td><td style=\"text-align: right;\"> 0.022505  </td><td style=\"text-align: right;\">0.334018 </td><td style=\"text-align: right;\">-0.0535057</td><td style=\"text-align: right;\"> 0.0864085 </td><td style=\"text-align: right;\"> 0.0732138 </td><td style=\"text-align: right;\"> 0.107512  </td><td style=\"text-align: right;\">-0.111255 </td><td style=\"text-align: right;\">-0.0312396</td><td style=\"text-align: right;\">-0.0619426 </td><td style=\"text-align: right;\"> 0.141221 </td><td style=\"text-align: right;\">0.177457 </td><td style=\"text-align: right;\">0.0755518</td><td style=\"text-align: right;\">-0.0871471 </td><td style=\"text-align: right;\"> 0.0397867</td><td style=\"text-align: right;\"> 0.0701517 </td><td style=\"text-align: right;\">-0.112535  </td><td style=\"text-align: right;\">-0.0335642</td><td style=\"text-align: right;\">-0.0362797  </td><td style=\"text-align: right;\">0.112126 </td><td style=\"text-align: right;\">-0.00947922</td><td style=\"text-align: right;\">-0.0334399 </td><td style=\"text-align: right;\"> 0.145761 </td></tr>\n",
              "<tr><td style=\"text-align: right;\">-0.0553382</td><td style=\"text-align: right;\">-0.0897252 </td><td style=\"text-align: right;\">0.192908 </td><td style=\"text-align: right;\"> 0.079003  </td><td style=\"text-align: right;\">-0.0248984</td><td style=\"text-align: right;\">-0.0629197</td><td style=\"text-align: right;\"> 0.132165   </td><td style=\"text-align: right;\"> 0.0734693  </td><td style=\"text-align: right;\"> 0.15314  </td><td style=\"text-align: right;\">-0.0800657</td><td style=\"text-align: right;\"> 0.0291493</td><td style=\"text-align: right;\">-0.01546  </td><td style=\"text-align: right;\"> 0.0277111</td><td style=\"text-align: right;\"> 0.0312599  </td><td style=\"text-align: right;\">-0.240466  </td><td style=\"text-align: right;\">-0.0235932</td><td style=\"text-align: right;\"> 0.0736387</td><td style=\"text-align: right;\">-0.0868268 </td><td style=\"text-align: right;\"> 0.106744 </td><td style=\"text-align: right;\">-0.176117   </td><td style=\"text-align: right;\"> 0.020599 </td><td style=\"text-align: right;\">-0.0599805  </td><td style=\"text-align: right;\">-0.0393835 </td><td style=\"text-align: right;\">-0.0890827</td><td style=\"text-align: right;\">-0.0412003 </td><td style=\"text-align: right;\">-0.103568 </td><td style=\"text-align: right;\">-0.00160529</td><td style=\"text-align: right;\">-0.0478498</td><td style=\"text-align: right;\">-0.134611 </td><td style=\"text-align: right;\">-0.137338  </td><td style=\"text-align: right;\"> 0.187338  </td><td style=\"text-align: right;\"> 0.0937661</td><td style=\"text-align: right;\">-0.211765 </td><td style=\"text-align: right;\">-0.0287482 </td><td style=\"text-align: right;\">-0.0528376 </td><td style=\"text-align: right;\"> 0.12348   </td><td style=\"text-align: right;\"> 0.0392604</td><td style=\"text-align: right;\">-0.0770122</td><td style=\"text-align: right;\">-0.124008  </td><td style=\"text-align: right;\"> 0.0409963</td><td style=\"text-align: right;\">-0.113952  </td><td style=\"text-align: right;\">-0.0796844 </td><td style=\"text-align: right;\"> 0.0594401 </td><td style=\"text-align: right;\"> 0.0953961</td><td style=\"text-align: right;\">-0.148287 </td><td style=\"text-align: right;\">-0.0523423 </td><td style=\"text-align: right;\">-0.124809  </td><td style=\"text-align: right;\">-0.0342811 </td><td style=\"text-align: right;\">-0.0494626</td><td style=\"text-align: right;\">-0.0619407</td><td style=\"text-align: right;\"> 0.11978    </td><td style=\"text-align: right;\">-0.0458567 </td><td style=\"text-align: right;\">-0.0987307</td><td style=\"text-align: right;\">-0.0660287</td><td style=\"text-align: right;\"> 0.0251682 </td><td style=\"text-align: right;\">-0.0849418</td><td style=\"text-align: right;\">-0.15283  </td><td style=\"text-align: right;\">-0.12371   </td><td style=\"text-align: right;\"> 0.0538778</td><td style=\"text-align: right;\">-0.169358  </td><td style=\"text-align: right;\">-0.0591496</td><td style=\"text-align: right;\">-0.0916872</td><td style=\"text-align: right;\"> 0.082574  </td><td style=\"text-align: right;\">-0.0217308 </td><td style=\"text-align: right;\"> 0.0245663</td><td style=\"text-align: right;\"> 0.143015 </td><td style=\"text-align: right;\">0.054786 </td><td style=\"text-align: right;\"> 0.0871034 </td><td style=\"text-align: right;\">-0.119773 </td><td style=\"text-align: right;\">-0.190402 </td><td style=\"text-align: right;\">-0.0307119 </td><td style=\"text-align: right;\">-0.151466  </td><td style=\"text-align: right;\"> 0.00122462</td><td style=\"text-align: right;\">-0.102801 </td><td style=\"text-align: right;\">-0.168521 </td><td style=\"text-align: right;\"> 0.0265748 </td><td style=\"text-align: right;\">0.102053 </td><td style=\"text-align: right;\"> 0.0323326</td><td style=\"text-align: right;\"> 0.0419358 </td><td style=\"text-align: right;\">0.200684 </td><td style=\"text-align: right;\">-0.0323162</td><td style=\"text-align: right;\"> 0.0486471 </td><td style=\"text-align: right;\"> 0.0933496 </td><td style=\"text-align: right;\">-0.00299967</td><td style=\"text-align: right;\">-0.159289 </td><td style=\"text-align: right;\">-0.0615486</td><td style=\"text-align: right;\">-0.0897102 </td><td style=\"text-align: right;\"> 0.0504537</td><td style=\"text-align: right;\">0.0636164</td><td style=\"text-align: right;\">0.109537 </td><td style=\"text-align: right;\">-0.0491258 </td><td style=\"text-align: right;\"> 0.0428369</td><td style=\"text-align: right;\"> 0.0185457 </td><td style=\"text-align: right;\">-0.00300432</td><td style=\"text-align: right;\">-0.139387 </td><td style=\"text-align: right;\">-0.07346    </td><td style=\"text-align: right;\">0.109109 </td><td style=\"text-align: right;\">-0.126047  </td><td style=\"text-align: right;\"> 0.00330767</td><td style=\"text-align: right;\"> 0.0362333</td></tr>\n",
              "<tr><td style=\"text-align: right;\">-0.231253 </td><td style=\"text-align: right;\"> 0.0165758 </td><td style=\"text-align: right;\">0.0120862</td><td style=\"text-align: right;\">-0.115426  </td><td style=\"text-align: right;\"> 0.0196979</td><td style=\"text-align: right;\">-0.10242  </td><td style=\"text-align: right;\"> 0.0123785  </td><td style=\"text-align: right;\">-0.00990184 </td><td style=\"text-align: right;\"> 0.116403 </td><td style=\"text-align: right;\">-0.19316  </td><td style=\"text-align: right;\"> 0.264922 </td><td style=\"text-align: right;\">-0.0363492</td><td style=\"text-align: right;\">-0.082231 </td><td style=\"text-align: right;\"> 0.0478557  </td><td style=\"text-align: right;\">-0.351875  </td><td style=\"text-align: right;\"> 0.0638953</td><td style=\"text-align: right;\"> 0.107647 </td><td style=\"text-align: right;\">-0.138462  </td><td style=\"text-align: right;\">-0.024968 </td><td style=\"text-align: right;\">-0.259369   </td><td style=\"text-align: right;\">-0.0143316</td><td style=\"text-align: right;\">-0.0928111  </td><td style=\"text-align: right;\"> 0.063788  </td><td style=\"text-align: right;\">-0.0541175</td><td style=\"text-align: right;\">-0.155084  </td><td style=\"text-align: right;\"> 0.100527 </td><td style=\"text-align: right;\">-0.104803  </td><td style=\"text-align: right;\">-0.0438098</td><td style=\"text-align: right;\">-0.117194 </td><td style=\"text-align: right;\"> 0.0255069 </td><td style=\"text-align: right;\">-0.0101238 </td><td style=\"text-align: right;\"> 0.196445 </td><td style=\"text-align: right;\">-0.222197 </td><td style=\"text-align: right;\">-0.0718638 </td><td style=\"text-align: right;\">-0.0978732 </td><td style=\"text-align: right;\"> 0.181507  </td><td style=\"text-align: right;\">-0.108192 </td><td style=\"text-align: right;\"> 0.0477414</td><td style=\"text-align: right;\">-0.0410037 </td><td style=\"text-align: right;\">-0.0313217</td><td style=\"text-align: right;\">-0.0326782 </td><td style=\"text-align: right;\"> 0.00664479</td><td style=\"text-align: right;\">-0.0499244 </td><td style=\"text-align: right;\">-0.0379531</td><td style=\"text-align: right;\"> 0.0233889</td><td style=\"text-align: right;\">-0.193403  </td><td style=\"text-align: right;\">-0.208033  </td><td style=\"text-align: right;\">-0.120854  </td><td style=\"text-align: right;\">-0.247387 </td><td style=\"text-align: right;\">-0.0228511</td><td style=\"text-align: right;\">-0.00565045 </td><td style=\"text-align: right;\"> 0.134868  </td><td style=\"text-align: right;\">-0.0618916</td><td style=\"text-align: right;\">-0.169705 </td><td style=\"text-align: right;\">-0.053852  </td><td style=\"text-align: right;\">-0.121241 </td><td style=\"text-align: right;\"> 0.203224 </td><td style=\"text-align: right;\">-0.0179348 </td><td style=\"text-align: right;\"> 0.112063 </td><td style=\"text-align: right;\">-0.0302976 </td><td style=\"text-align: right;\"> 0.233624 </td><td style=\"text-align: right;\">-0.0287605</td><td style=\"text-align: right;\"> 0.0486504 </td><td style=\"text-align: right;\"> 0.0527056 </td><td style=\"text-align: right;\">-0.0177652</td><td style=\"text-align: right;\"> 0.0325228</td><td style=\"text-align: right;\">0.332065 </td><td style=\"text-align: right;\">-0.164952  </td><td style=\"text-align: right;\">-0.266832 </td><td style=\"text-align: right;\">-0.0444791</td><td style=\"text-align: right;\">-0.330854  </td><td style=\"text-align: right;\">-0.0205944 </td><td style=\"text-align: right;\">-0.0575294 </td><td style=\"text-align: right;\"> 0.16327  </td><td style=\"text-align: right;\">-0.257293 </td><td style=\"text-align: right;\">-0.095251  </td><td style=\"text-align: right;\">0.270282 </td><td style=\"text-align: right;\">-0.0167037</td><td style=\"text-align: right;\"> 0.0834849 </td><td style=\"text-align: right;\">0.204782 </td><td style=\"text-align: right;\">-0.145725 </td><td style=\"text-align: right;\"> 0.0180369 </td><td style=\"text-align: right;\">-0.0392915 </td><td style=\"text-align: right;\"> 0.186769  </td><td style=\"text-align: right;\">-0.0281003</td><td style=\"text-align: right;\"> 0.120965 </td><td style=\"text-align: right;\">-0.141298  </td><td style=\"text-align: right;\"> 0.18016  </td><td style=\"text-align: right;\">0.208115 </td><td style=\"text-align: right;\">0.186395 </td><td style=\"text-align: right;\">-0.207693  </td><td style=\"text-align: right;\">-0.178964 </td><td style=\"text-align: right;\">-0.069837  </td><td style=\"text-align: right;\"> 0.0444293 </td><td style=\"text-align: right;\">-0.179551 </td><td style=\"text-align: right;\"> 0.0675167  </td><td style=\"text-align: right;\">0.39317  </td><td style=\"text-align: right;\"> 0.125403  </td><td style=\"text-align: right;\"> 0.176866  </td><td style=\"text-align: right;\">-0.0761925</td></tr>\n",
              "<tr><td style=\"text-align: right;\"> 0.0707658</td><td style=\"text-align: right;\"> 0.0471015 </td><td style=\"text-align: right;\">0.252262 </td><td style=\"text-align: right;\"> 0.214955  </td><td style=\"text-align: right;\"> 0.0450074</td><td style=\"text-align: right;\">-0.183986 </td><td style=\"text-align: right;\"> 0.0395331  </td><td style=\"text-align: right;\">-0.0445628  </td><td style=\"text-align: right;\"> 0.071082 </td><td style=\"text-align: right;\">-0.0553954</td><td style=\"text-align: right;\">-0.0959517</td><td style=\"text-align: right;\">-0.158414 </td><td style=\"text-align: right;\">-0.184874 </td><td style=\"text-align: right;\">-0.12678    </td><td style=\"text-align: right;\">-0.165682  </td><td style=\"text-align: right;\">-0.0766751</td><td style=\"text-align: right;\"> 0.0899062</td><td style=\"text-align: right;\">-0.00496499</td><td style=\"text-align: right;\"> 0.114077 </td><td style=\"text-align: right;\">-0.0325443  </td><td style=\"text-align: right;\"> 0.0120804</td><td style=\"text-align: right;\">-0.179656   </td><td style=\"text-align: right;\">-0.0196727 </td><td style=\"text-align: right;\">-0.014824 </td><td style=\"text-align: right;\">-0.00861483</td><td style=\"text-align: right;\">-0.161112 </td><td style=\"text-align: right;\">-0.0388758 </td><td style=\"text-align: right;\">-0.174877 </td><td style=\"text-align: right;\">-0.0519183</td><td style=\"text-align: right;\">-0.044264  </td><td style=\"text-align: right;\"> 0.0740815 </td><td style=\"text-align: right;\"> 0.233513 </td><td style=\"text-align: right;\">-0.102483 </td><td style=\"text-align: right;\"> 0.0920213 </td><td style=\"text-align: right;\">-0.18026   </td><td style=\"text-align: right;\"> 0.0112027 </td><td style=\"text-align: right;\">-0.0337247</td><td style=\"text-align: right;\"> 0.0689745</td><td style=\"text-align: right;\"> 0.0407887 </td><td style=\"text-align: right;\"> 0.179816 </td><td style=\"text-align: right;\">-0.155856  </td><td style=\"text-align: right;\">-0.0352609 </td><td style=\"text-align: right;\">-0.146878  </td><td style=\"text-align: right;\"> 0.0262838</td><td style=\"text-align: right;\">-0.0828857</td><td style=\"text-align: right;\">-0.0259221 </td><td style=\"text-align: right;\">-0.0828626 </td><td style=\"text-align: right;\"> 0.0770809 </td><td style=\"text-align: right;\">-0.0558597</td><td style=\"text-align: right;\">-0.0982584</td><td style=\"text-align: right;\">-0.0580682  </td><td style=\"text-align: right;\">-0.0306752 </td><td style=\"text-align: right;\">-0.0666542</td><td style=\"text-align: right;\">-0.0937905</td><td style=\"text-align: right;\"> 0.145376  </td><td style=\"text-align: right;\">-0.0306526</td><td style=\"text-align: right;\">-0.0691823</td><td style=\"text-align: right;\">-0.029751  </td><td style=\"text-align: right;\"> 0.222695 </td><td style=\"text-align: right;\"> 0.11623   </td><td style=\"text-align: right;\">-0.075838 </td><td style=\"text-align: right;\"> 0.0366668</td><td style=\"text-align: right;\">-0.185761  </td><td style=\"text-align: right;\">-0.0487265 </td><td style=\"text-align: right;\">-0.012388 </td><td style=\"text-align: right;\">-0.162054 </td><td style=\"text-align: right;\">0.065103 </td><td style=\"text-align: right;\"> 0.0488689 </td><td style=\"text-align: right;\">-0.0731031</td><td style=\"text-align: right;\">-0.177509 </td><td style=\"text-align: right;\">-0.269304  </td><td style=\"text-align: right;\">-0.0962535 </td><td style=\"text-align: right;\"> 0.156569  </td><td style=\"text-align: right;\">-0.0418298</td><td style=\"text-align: right;\"> 0.0103301</td><td style=\"text-align: right;\"> 0.00333354</td><td style=\"text-align: right;\">0.0197062</td><td style=\"text-align: right;\"> 0.0560651</td><td style=\"text-align: right;\"> 0.0409551 </td><td style=\"text-align: right;\">0.0604471</td><td style=\"text-align: right;\"> 0.0572891</td><td style=\"text-align: right;\"> 0.0157624 </td><td style=\"text-align: right;\">-0.0183398 </td><td style=\"text-align: right;\"> 0.163561  </td><td style=\"text-align: right;\">-0.163929 </td><td style=\"text-align: right;\">-0.0498169</td><td style=\"text-align: right;\">-0.011324  </td><td style=\"text-align: right;\"> 0.0722791</td><td style=\"text-align: right;\">0.0879279</td><td style=\"text-align: right;\">0.0745954</td><td style=\"text-align: right;\">-0.241677  </td><td style=\"text-align: right;\">-0.0196119</td><td style=\"text-align: right;\"> 0.0553353 </td><td style=\"text-align: right;\">-0.0451126 </td><td style=\"text-align: right;\"> 0.0177911</td><td style=\"text-align: right;\">-0.0898291  </td><td style=\"text-align: right;\">0.0150969</td><td style=\"text-align: right;\"> 0.0277789 </td><td style=\"text-align: right;\">-0.0931521 </td><td style=\"text-align: right;\"> 0.0438362</td></tr>\n",
              "<tr><td style=\"text-align: right;\">-0.0594523</td><td style=\"text-align: right;\"> 0.00637322</td><td style=\"text-align: right;\">0.229652 </td><td style=\"text-align: right;\"> 0.169818  </td><td style=\"text-align: right;\">-0.0490111</td><td style=\"text-align: right;\">-0.142328 </td><td style=\"text-align: right;\">-0.0504145  </td><td style=\"text-align: right;\">-0.00761513 </td><td style=\"text-align: right;\"> 0.0812705</td><td style=\"text-align: right;\">-0.0946575</td><td style=\"text-align: right;\"> 0.0659309</td><td style=\"text-align: right;\">-0.0297118</td><td style=\"text-align: right;\">-0.103173 </td><td style=\"text-align: right;\">-0.0568759  </td><td style=\"text-align: right;\">-0.122563  </td><td style=\"text-align: right;\">-0.10984  </td><td style=\"text-align: right;\"> 0.0691233</td><td style=\"text-align: right;\">-0.0242983 </td><td style=\"text-align: right;\"> 0.0754816</td><td style=\"text-align: right;\">-0.0730352  </td><td style=\"text-align: right;\"> 0.0792273</td><td style=\"text-align: right;\">-0.0232817  </td><td style=\"text-align: right;\">-0.0182444 </td><td style=\"text-align: right;\">-0.065657 </td><td style=\"text-align: right;\"> 0.0633174 </td><td style=\"text-align: right;\">-0.035218 </td><td style=\"text-align: right;\">-0.039603  </td><td style=\"text-align: right;\">-0.222214 </td><td style=\"text-align: right;\">-0.0504143</td><td style=\"text-align: right;\">-0.0970536 </td><td style=\"text-align: right;\"> 0.0352433 </td><td style=\"text-align: right;\"> 0.234657 </td><td style=\"text-align: right;\">-0.102345 </td><td style=\"text-align: right;\">-0.0421155 </td><td style=\"text-align: right;\">-0.101813  </td><td style=\"text-align: right;\">-0.0126273 </td><td style=\"text-align: right;\">-0.0422066</td><td style=\"text-align: right;\">-0.0803917</td><td style=\"text-align: right;\">-0.052236  </td><td style=\"text-align: right;\"> 0.146865 </td><td style=\"text-align: right;\">-0.00520541</td><td style=\"text-align: right;\">-0.0396139 </td><td style=\"text-align: right;\">-0.00516378</td><td style=\"text-align: right;\"> 0.105955 </td><td style=\"text-align: right;\">-0.105524 </td><td style=\"text-align: right;\">-0.121111  </td><td style=\"text-align: right;\">-0.0274364 </td><td style=\"text-align: right;\">-0.00735124</td><td style=\"text-align: right;\">-0.0688543</td><td style=\"text-align: right;\">-0.0965579</td><td style=\"text-align: right;\"> 0.0792044  </td><td style=\"text-align: right;\">-0.0134907 </td><td style=\"text-align: right;\">-0.0764084</td><td style=\"text-align: right;\">-0.17259  </td><td style=\"text-align: right;\"> 0.101313  </td><td style=\"text-align: right;\"> 0.0121917</td><td style=\"text-align: right;\">-0.114034 </td><td style=\"text-align: right;\">-0.129879  </td><td style=\"text-align: right;\"> 0.0273272</td><td style=\"text-align: right;\">-0.075162  </td><td style=\"text-align: right;\">-0.0639239</td><td style=\"text-align: right;\">-0.0398646</td><td style=\"text-align: right;\">-0.00813769</td><td style=\"text-align: right;\"> 0.00698715</td><td style=\"text-align: right;\"> 0.0555684</td><td style=\"text-align: right;\"> 0.0516447</td><td style=\"text-align: right;\">0.0753656</td><td style=\"text-align: right;\"> 0.016529  </td><td style=\"text-align: right;\">-0.153666 </td><td style=\"text-align: right;\">-0.0647149</td><td style=\"text-align: right;\">-0.127832  </td><td style=\"text-align: right;\">-0.121974  </td><td style=\"text-align: right;\"> 0.00520562</td><td style=\"text-align: right;\">-0.111367 </td><td style=\"text-align: right;\">-0.109766 </td><td style=\"text-align: right;\">-0.0403477 </td><td style=\"text-align: right;\">0.0653964</td><td style=\"text-align: right;\"> 0.0874158</td><td style=\"text-align: right;\"> 0.0541746 </td><td style=\"text-align: right;\">0.0413687</td><td style=\"text-align: right;\">-0.0183621</td><td style=\"text-align: right;\"> 0.0795642 </td><td style=\"text-align: right;\">-0.0110428 </td><td style=\"text-align: right;\"> 0.0484885 </td><td style=\"text-align: right;\">-0.104294 </td><td style=\"text-align: right;\">-0.0307905</td><td style=\"text-align: right;\">-0.0161108 </td><td style=\"text-align: right;\"> 0.0597264</td><td style=\"text-align: right;\">0.103227 </td><td style=\"text-align: right;\">0.0674087</td><td style=\"text-align: right;\">-0.109573  </td><td style=\"text-align: right;\"> 0.0311035</td><td style=\"text-align: right;\"> 0.00730242</td><td style=\"text-align: right;\">-0.0113344 </td><td style=\"text-align: right;\">-0.125166 </td><td style=\"text-align: right;\"> 0.000707083</td><td style=\"text-align: right;\">0.0976717</td><td style=\"text-align: right;\">-0.0217816 </td><td style=\"text-align: right;\"> 0.0149249 </td><td style=\"text-align: right;\"> 0.0172233</td></tr>\n",
              "<tr><td style=\"text-align: right;\">-0.0765057</td><td style=\"text-align: right;\"> 0.0825    </td><td style=\"text-align: right;\">0.176377 </td><td style=\"text-align: right;\"> 0.098304  </td><td style=\"text-align: right;\"> 0.0391936</td><td style=\"text-align: right;\">-0.117876 </td><td style=\"text-align: right;\"> 0.0698618  </td><td style=\"text-align: right;\">-0.0112483  </td><td style=\"text-align: right;\"> 0.129014 </td><td style=\"text-align: right;\">-0.190531 </td><td style=\"text-align: right;\">-0.0793386</td><td style=\"text-align: right;\">-0.16188  </td><td style=\"text-align: right;\">-0.0739352</td><td style=\"text-align: right;\"> 0.0273279  </td><td style=\"text-align: right;\">-0.0490565 </td><td style=\"text-align: right;\">-0.130452 </td><td style=\"text-align: right;\"> 0.0255449</td><td style=\"text-align: right;\">-0.00841596</td><td style=\"text-align: right;\"> 0.0382257</td><td style=\"text-align: right;\">-0.0427803  </td><td style=\"text-align: right;\"> 0.117215 </td><td style=\"text-align: right;\"> 0.0597542  </td><td style=\"text-align: right;\"> 0.00100023</td><td style=\"text-align: right;\">-0.0295615</td><td style=\"text-align: right;\"> 0.0732129 </td><td style=\"text-align: right;\">-0.143801 </td><td style=\"text-align: right;\">-0.0239781 </td><td style=\"text-align: right;\">-0.0609671</td><td style=\"text-align: right;\">-0.154744 </td><td style=\"text-align: right;\">-0.061932  </td><td style=\"text-align: right;\">-0.129423  </td><td style=\"text-align: right;\"> 0.088984 </td><td style=\"text-align: right;\">-0.027443 </td><td style=\"text-align: right;\"> 0.0325814 </td><td style=\"text-align: right;\">-0.0914171 </td><td style=\"text-align: right;\"> 0.00763771</td><td style=\"text-align: right;\">-0.181778 </td><td style=\"text-align: right;\">-0.0494609</td><td style=\"text-align: right;\"> 0.00534295</td><td style=\"text-align: right;\"> 0.170529 </td><td style=\"text-align: right;\">-0.00866036</td><td style=\"text-align: right;\"> 0.134189  </td><td style=\"text-align: right;\">-0.012247  </td><td style=\"text-align: right;\"> 0.0883829</td><td style=\"text-align: right;\"> 0.0521399</td><td style=\"text-align: right;\">-0.00825191</td><td style=\"text-align: right;\"> 0.0944217 </td><td style=\"text-align: right;\">-0.0117692 </td><td style=\"text-align: right;\">-0.0359303</td><td style=\"text-align: right;\">-0.0676244</td><td style=\"text-align: right;\"> 0.181937   </td><td style=\"text-align: right;\"> 0.120545  </td><td style=\"text-align: right;\">-0.170668 </td><td style=\"text-align: right;\">-0.141194 </td><td style=\"text-align: right;\"> 0.0385304 </td><td style=\"text-align: right;\">-0.0651608</td><td style=\"text-align: right;\">-0.122037 </td><td style=\"text-align: right;\">-0.0296456 </td><td style=\"text-align: right;\"> 0.019767 </td><td style=\"text-align: right;\">-0.0657103 </td><td style=\"text-align: right;\">-0.0501731</td><td style=\"text-align: right;\"> 0.0578047</td><td style=\"text-align: right;\">-0.0769328 </td><td style=\"text-align: right;\"> 0.0880876 </td><td style=\"text-align: right;\"> 0.0568021</td><td style=\"text-align: right;\"> 0.0674169</td><td style=\"text-align: right;\">0.0669435</td><td style=\"text-align: right;\">-0.0129122 </td><td style=\"text-align: right;\">-0.145268 </td><td style=\"text-align: right;\">-0.0878823</td><td style=\"text-align: right;\">-0.0988181 </td><td style=\"text-align: right;\">-0.0411335 </td><td style=\"text-align: right;\">-0.0347974 </td><td style=\"text-align: right;\"> 0.0222942</td><td style=\"text-align: right;\">-0.071842 </td><td style=\"text-align: right;\">-0.0486689 </td><td style=\"text-align: right;\">0.0406694</td><td style=\"text-align: right;\">-0.0280389</td><td style=\"text-align: right;\"> 0.00691143</td><td style=\"text-align: right;\">0.0725419</td><td style=\"text-align: right;\"> 0.0903946</td><td style=\"text-align: right;\"> 0.0617888 </td><td style=\"text-align: right;\"> 0.00924383</td><td style=\"text-align: right;\">-0.0339286 </td><td style=\"text-align: right;\">-0.0943939</td><td style=\"text-align: right;\">-0.0621286</td><td style=\"text-align: right;\"> 0.00252273</td><td style=\"text-align: right;\"> 0.0999585</td><td style=\"text-align: right;\">0.198508 </td><td style=\"text-align: right;\">0.0780358</td><td style=\"text-align: right;\">-0.00570064</td><td style=\"text-align: right;\">-0.0127949</td><td style=\"text-align: right;\">-0.0773379 </td><td style=\"text-align: right;\">-0.0371216 </td><td style=\"text-align: right;\">-0.0167394</td><td style=\"text-align: right;\">-0.0630672  </td><td style=\"text-align: right;\">0.0233197</td><td style=\"text-align: right;\">-0.0520732 </td><td style=\"text-align: right;\"> 0.09695   </td><td style=\"text-align: right;\"> 0.159699 </td></tr>\n",
              "<tr><td style=\"text-align: right;\">-0.0914825</td><td style=\"text-align: right;\"> 0.0224499 </td><td style=\"text-align: right;\">0.0895418</td><td style=\"text-align: right;\"> 0.0427951 </td><td style=\"text-align: right;\"> 0.0281129</td><td style=\"text-align: right;\">-0.234103 </td><td style=\"text-align: right;\"> 0.0948741  </td><td style=\"text-align: right;\">-0.0596721  </td><td style=\"text-align: right;\"> 0.0748981</td><td style=\"text-align: right;\">-0.108984 </td><td style=\"text-align: right;\">-0.0368466</td><td style=\"text-align: right;\">-0.0435615</td><td style=\"text-align: right;\">-0.0467052</td><td style=\"text-align: right;\">-0.0275946  </td><td style=\"text-align: right;\">-0.211411  </td><td style=\"text-align: right;\">-0.0111821</td><td style=\"text-align: right;\"> 0.151881 </td><td style=\"text-align: right;\"> 0.0170451 </td><td style=\"text-align: right;\"> 0.0712336</td><td style=\"text-align: right;\">-0.0617772  </td><td style=\"text-align: right;\"> 0.0151437</td><td style=\"text-align: right;\">-0.0315986  </td><td style=\"text-align: right;\"> 0.0642339 </td><td style=\"text-align: right;\">-0.0717097</td><td style=\"text-align: right;\"> 0.0184192 </td><td style=\"text-align: right;\">-0.0478688</td><td style=\"text-align: right;\">-0.0643567 </td><td style=\"text-align: right;\">-0.0382943</td><td style=\"text-align: right;\">-0.185983 </td><td style=\"text-align: right;\">-0.00807045</td><td style=\"text-align: right;\"> 0.00928017</td><td style=\"text-align: right;\"> 0.149193 </td><td style=\"text-align: right;\">-0.167513 </td><td style=\"text-align: right;\"> 0.0132685 </td><td style=\"text-align: right;\">-0.0824151 </td><td style=\"text-align: right;\"> 0.0960437 </td><td style=\"text-align: right;\">-0.0882997</td><td style=\"text-align: right;\">-0.16338  </td><td style=\"text-align: right;\">-0.0288636 </td><td style=\"text-align: right;\"> 0.157025 </td><td style=\"text-align: right;\">-0.0247046 </td><td style=\"text-align: right;\"> 0.0292644 </td><td style=\"text-align: right;\"> 0.00849137</td><td style=\"text-align: right;\"> 0.0999931</td><td style=\"text-align: right;\">-0.104246 </td><td style=\"text-align: right;\"> 0.0356498 </td><td style=\"text-align: right;\">-0.00880726</td><td style=\"text-align: right;\">-0.0403096 </td><td style=\"text-align: right;\">-0.0913179</td><td style=\"text-align: right;\">-0.0248301</td><td style=\"text-align: right;\"> 0.122835   </td><td style=\"text-align: right;\">-0.0123464 </td><td style=\"text-align: right;\">-0.0220879</td><td style=\"text-align: right;\">-0.0901992</td><td style=\"text-align: right;\"> 0.0860015 </td><td style=\"text-align: right;\">-0.134784 </td><td style=\"text-align: right;\">-0.0222496</td><td style=\"text-align: right;\">-0.0837232 </td><td style=\"text-align: right;\"> 0.0152641</td><td style=\"text-align: right;\">-0.101463  </td><td style=\"text-align: right;\"> 0.0436001</td><td style=\"text-align: right;\"> 0.0674335</td><td style=\"text-align: right;\">-0.046423  </td><td style=\"text-align: right;\"> 0.102774  </td><td style=\"text-align: right;\"> 0.0704918</td><td style=\"text-align: right;\"> 0.11788  </td><td style=\"text-align: right;\">0.0848256</td><td style=\"text-align: right;\"> 0.0129551 </td><td style=\"text-align: right;\">-0.130638 </td><td style=\"text-align: right;\">-0.236747 </td><td style=\"text-align: right;\">-0.0376655 </td><td style=\"text-align: right;\">-0.0518152 </td><td style=\"text-align: right;\">-0.0668735 </td><td style=\"text-align: right;\">-0.0411439</td><td style=\"text-align: right;\">-0.128346 </td><td style=\"text-align: right;\">-0.0306517 </td><td style=\"text-align: right;\">0.0608734</td><td style=\"text-align: right;\"> 0.0797293</td><td style=\"text-align: right;\"> 0.0226236 </td><td style=\"text-align: right;\">0.0938376</td><td style=\"text-align: right;\"> 0.0352093</td><td style=\"text-align: right;\">-0.0287251 </td><td style=\"text-align: right;\"> 0.0648492 </td><td style=\"text-align: right;\"> 0.0530874 </td><td style=\"text-align: right;\">-0.0679022</td><td style=\"text-align: right;\"> 0.0129475</td><td style=\"text-align: right;\">-0.0559988 </td><td style=\"text-align: right;\"> 0.0743348</td><td style=\"text-align: right;\">0.0853351</td><td style=\"text-align: right;\">0.0720865</td><td style=\"text-align: right;\">-0.0572988 </td><td style=\"text-align: right;\">-0.0339265</td><td style=\"text-align: right;\">-0.0167318 </td><td style=\"text-align: right;\"> 0.0237573 </td><td style=\"text-align: right;\">-0.135393 </td><td style=\"text-align: right;\">-0.0627428  </td><td style=\"text-align: right;\">0.0615838</td><td style=\"text-align: right;\">-0.0596458 </td><td style=\"text-align: right;\">-0.00840202</td><td style=\"text-align: right;\"> 0.134111 </td></tr>\n",
              "<tr><td style=\"text-align: right;\">-0.130638 </td><td style=\"text-align: right;\"> 0.058188  </td><td style=\"text-align: right;\">0.199379 </td><td style=\"text-align: right;\">-0.0214396 </td><td style=\"text-align: right;\"> 0.0199889</td><td style=\"text-align: right;\">-0.114175 </td><td style=\"text-align: right;\"> 0.000525364</td><td style=\"text-align: right;\"> 0.0297281  </td><td style=\"text-align: right;\"> 0.0178159</td><td style=\"text-align: right;\">-0.127153 </td><td style=\"text-align: right;\">-0.0475004</td><td style=\"text-align: right;\">-0.143593 </td><td style=\"text-align: right;\">-0.0504083</td><td style=\"text-align: right;\">-0.00776302 </td><td style=\"text-align: right;\">-0.220838  </td><td style=\"text-align: right;\">-0.0984676</td><td style=\"text-align: right;\"> 0.097493 </td><td style=\"text-align: right;\">-0.0512846 </td><td style=\"text-align: right;\"> 0.110937 </td><td style=\"text-align: right;\">-0.000872892</td><td style=\"text-align: right;\"> 0.0411415</td><td style=\"text-align: right;\"> 0.0443247  </td><td style=\"text-align: right;\"> 0.00606493</td><td style=\"text-align: right;\">-0.132368 </td><td style=\"text-align: right;\"> 0.044223  </td><td style=\"text-align: right;\">-0.0680586</td><td style=\"text-align: right;\"> 0.0340696 </td><td style=\"text-align: right;\">-0.0668236</td><td style=\"text-align: right;\">-0.200308 </td><td style=\"text-align: right;\">-0.0331106 </td><td style=\"text-align: right;\">-0.0252954 </td><td style=\"text-align: right;\"> 0.107074 </td><td style=\"text-align: right;\">-0.0961284</td><td style=\"text-align: right;\"> 0.0369708 </td><td style=\"text-align: right;\">-0.10651   </td><td style=\"text-align: right;\">-0.0426468 </td><td style=\"text-align: right;\">-0.169428 </td><td style=\"text-align: right;\"> 0.0871121</td><td style=\"text-align: right;\">-0.010957  </td><td style=\"text-align: right;\"> 0.0404327</td><td style=\"text-align: right;\">-0.0956629 </td><td style=\"text-align: right;\">-0.0402374 </td><td style=\"text-align: right;\">-0.0550493 </td><td style=\"text-align: right;\"> 0.128002 </td><td style=\"text-align: right;\">-0.0328137</td><td style=\"text-align: right;\"> 0.0325509 </td><td style=\"text-align: right;\"> 0.0598347 </td><td style=\"text-align: right;\">-0.0480615 </td><td style=\"text-align: right;\">-0.060965 </td><td style=\"text-align: right;\">-0.066607 </td><td style=\"text-align: right;\"> 0.111216   </td><td style=\"text-align: right;\"> 0.0123873 </td><td style=\"text-align: right;\">-0.0523177</td><td style=\"text-align: right;\">-0.0950898</td><td style=\"text-align: right;\"> 0.096766  </td><td style=\"text-align: right;\">-0.0766537</td><td style=\"text-align: right;\">-0.0862213</td><td style=\"text-align: right;\">-0.0808422 </td><td style=\"text-align: right;\">-0.0127573</td><td style=\"text-align: right;\">-0.0653287 </td><td style=\"text-align: right;\">-0.0618221</td><td style=\"text-align: right;\"> 0.0618209</td><td style=\"text-align: right;\">-0.0448247 </td><td style=\"text-align: right;\"> 0.14917   </td><td style=\"text-align: right;\"> 0.0201939</td><td style=\"text-align: right;\"> 0.133544 </td><td style=\"text-align: right;\">0.0263564</td><td style=\"text-align: right;\"> 0.0129674 </td><td style=\"text-align: right;\">-0.113287 </td><td style=\"text-align: right;\">-0.0299347</td><td style=\"text-align: right;\">-0.00305272</td><td style=\"text-align: right;\">-0.00166544</td><td style=\"text-align: right;\">-0.0592262 </td><td style=\"text-align: right;\">-0.0418277</td><td style=\"text-align: right;\">-0.132437 </td><td style=\"text-align: right;\">-0.0472337 </td><td style=\"text-align: right;\">0.0553954</td><td style=\"text-align: right;\"> 0.0586769</td><td style=\"text-align: right;\">-0.0138897 </td><td style=\"text-align: right;\">0.120557 </td><td style=\"text-align: right;\">-0.0284274</td><td style=\"text-align: right;\"> 0.066117  </td><td style=\"text-align: right;\"> 0.028139  </td><td style=\"text-align: right;\"> 0.0407861 </td><td style=\"text-align: right;\">-0.120121 </td><td style=\"text-align: right;\">-0.0677548</td><td style=\"text-align: right;\">-0.00160146</td><td style=\"text-align: right;\"> 0.0489472</td><td style=\"text-align: right;\">0.197557 </td><td style=\"text-align: right;\">0.018124 </td><td style=\"text-align: right;\"> 0.0716056 </td><td style=\"text-align: right;\">-0.0501248</td><td style=\"text-align: right;\">-0.028659  </td><td style=\"text-align: right;\">-0.00322774</td><td style=\"text-align: right;\">-0.0932816</td><td style=\"text-align: right;\">-0.0840186  </td><td style=\"text-align: right;\">0.0998221</td><td style=\"text-align: right;\">-0.0363549 </td><td style=\"text-align: right;\"> 0.102059  </td><td style=\"text-align: right;\"> 0.110538 </td></tr>\n",
              "<tr><td style=\"text-align: right;\">-0.0590755</td><td style=\"text-align: right;\"> 0.136117  </td><td style=\"text-align: right;\">0.220087 </td><td style=\"text-align: right;\">-0.00229463</td><td style=\"text-align: right;\">-0.0580382</td><td style=\"text-align: right;\">-0.153187 </td><td style=\"text-align: right;\"> 0.0336352  </td><td style=\"text-align: right;\">-0.0460938  </td><td style=\"text-align: right;\">-0.0545964</td><td style=\"text-align: right;\">-0.197809 </td><td style=\"text-align: right;\">-0.11703  </td><td style=\"text-align: right;\">-0.151226 </td><td style=\"text-align: right;\">-0.1062   </td><td style=\"text-align: right;\"> 0.0249667  </td><td style=\"text-align: right;\">-0.0774822 </td><td style=\"text-align: right;\">-0.0823876</td><td style=\"text-align: right;\"> 0.0371472</td><td style=\"text-align: right;\">-0.0150453 </td><td style=\"text-align: right;\"> 0.0644273</td><td style=\"text-align: right;\">-0.0548576  </td><td style=\"text-align: right;\"> 0.0588197</td><td style=\"text-align: right;\"> 0.00962528 </td><td style=\"text-align: right;\">-0.00880131</td><td style=\"text-align: right;\">-0.0523267</td><td style=\"text-align: right;\"> 0.107731  </td><td style=\"text-align: right;\">-0.088438 </td><td style=\"text-align: right;\">-0.0831783 </td><td style=\"text-align: right;\">-0.0648926</td><td style=\"text-align: right;\">-0.197611 </td><td style=\"text-align: right;\">-0.0816922 </td><td style=\"text-align: right;\">-0.0983886 </td><td style=\"text-align: right;\">-0.0066846</td><td style=\"text-align: right;\">-0.0778475</td><td style=\"text-align: right;\"> 0.0699202 </td><td style=\"text-align: right;\">-0.0349864 </td><td style=\"text-align: right;\">-0.0908092 </td><td style=\"text-align: right;\">-0.190636 </td><td style=\"text-align: right;\"> 0.0201603</td><td style=\"text-align: right;\">-0.0159903 </td><td style=\"text-align: right;\"> 0.0677167</td><td style=\"text-align: right;\">-0.0659948 </td><td style=\"text-align: right;\"> 0.0173532 </td><td style=\"text-align: right;\">-0.0256605 </td><td style=\"text-align: right;\"> 0.0796101</td><td style=\"text-align: right;\">-0.0467176</td><td style=\"text-align: right;\"> 0.0543597 </td><td style=\"text-align: right;\">-0.00299184</td><td style=\"text-align: right;\"> 0.010388  </td><td style=\"text-align: right;\">-0.157755 </td><td style=\"text-align: right;\">-0.18452  </td><td style=\"text-align: right;\"> 0.181304   </td><td style=\"text-align: right;\">-0.00714682</td><td style=\"text-align: right;\">-0.027796 </td><td style=\"text-align: right;\">-0.0897711</td><td style=\"text-align: right;\">-0.00842095</td><td style=\"text-align: right;\">-0.0587589</td><td style=\"text-align: right;\">-0.120719 </td><td style=\"text-align: right;\">-0.00818363</td><td style=\"text-align: right;\">-0.0891782</td><td style=\"text-align: right;\">-0.0988736 </td><td style=\"text-align: right;\">-0.0244524</td><td style=\"text-align: right;\">-0.0639841</td><td style=\"text-align: right;\">-0.0370541 </td><td style=\"text-align: right;\"> 0.0895447 </td><td style=\"text-align: right;\"> 0.0193389</td><td style=\"text-align: right;\"> 0.0856875</td><td style=\"text-align: right;\">0.0359324</td><td style=\"text-align: right;\"> 0.00542572</td><td style=\"text-align: right;\">-0.105255 </td><td style=\"text-align: right;\">-0.0573116</td><td style=\"text-align: right;\">-0.0837977 </td><td style=\"text-align: right;\">-0.123899  </td><td style=\"text-align: right;\">-0.0820181 </td><td style=\"text-align: right;\">-0.0316819</td><td style=\"text-align: right;\">-0.0569881</td><td style=\"text-align: right;\">-0.0460766 </td><td style=\"text-align: right;\">0.0735629</td><td style=\"text-align: right;\"> 0.0673165</td><td style=\"text-align: right;\"> 0.0535045 </td><td style=\"text-align: right;\">0.108309 </td><td style=\"text-align: right;\">-0.0259302</td><td style=\"text-align: right;\"> 0.0885436 </td><td style=\"text-align: right;\"> 0.0639322 </td><td style=\"text-align: right;\"> 0.024902  </td><td style=\"text-align: right;\">-0.0532238</td><td style=\"text-align: right;\">-0.091877 </td><td style=\"text-align: right;\"> 0.00847197</td><td style=\"text-align: right;\">-0.0172071</td><td style=\"text-align: right;\">0.14333  </td><td style=\"text-align: right;\">0.0345357</td><td style=\"text-align: right;\">-0.0172952 </td><td style=\"text-align: right;\">-0.0195826</td><td style=\"text-align: right;\">-0.104699  </td><td style=\"text-align: right;\">-0.0204315 </td><td style=\"text-align: right;\">-0.141217 </td><td style=\"text-align: right;\">-0.0688925  </td><td style=\"text-align: right;\">0.0078495</td><td style=\"text-align: right;\">-0.0170721 </td><td style=\"text-align: right;\"> 0.0699203 </td><td style=\"text-align: right;\"> 0.170226 </td></tr>\n",
              "</tbody>\n",
              "</table>"
            ]
          },
          "metadata": {
            "tags": []
          }
        },
        {
          "output_type": "execute_result",
          "data": {
            "text/plain": [
              ""
            ]
          },
          "metadata": {
            "tags": []
          },
          "execution_count": 31
        }
      ]
    },
    {
      "cell_type": "code",
      "metadata": {
        "id": "n8YS59-tR7Yd",
        "colab_type": "code",
        "colab": {}
      },
      "source": [
        "h2o_df_ext=h2o_df.cbind(review_vecs)"
      ],
      "execution_count": 32,
      "outputs": []
    },
    {
      "cell_type": "code",
      "metadata": {
        "id": "1lthMDDjR8JX",
        "colab_type": "code",
        "colab": {}
      },
      "source": [
        "h2o_train,h2o_valid = h2o_df_ext.split_frame(ratios=[.8])"
      ],
      "execution_count": 33,
      "outputs": []
    },
    {
      "cell_type": "code",
      "metadata": {
        "id": "xEl-qxGZR_YL",
        "colab_type": "code",
        "colab": {
          "base_uri": "https://localhost:8080/",
          "height": 83
        },
        "outputId": "0f1d9a21-bad8-4f0a-dd1d-86a798e0f35a"
      },
      "source": [
        "h2o_valid['target'].table()"
      ],
      "execution_count": 34,
      "outputs": [
        {
          "output_type": "display_data",
          "data": {
            "text/html": [
              "<table>\n",
              "<thead>\n",
              "<tr><th style=\"text-align: right;\">  target</th><th style=\"text-align: right;\">  Count</th></tr>\n",
              "</thead>\n",
              "<tbody>\n",
              "<tr><td style=\"text-align: right;\">       0</td><td style=\"text-align: right;\">   4680</td></tr>\n",
              "<tr><td style=\"text-align: right;\">       1</td><td style=\"text-align: right;\">  12285</td></tr>\n",
              "</tbody>\n",
              "</table>"
            ]
          },
          "metadata": {
            "tags": []
          }
        },
        {
          "output_type": "execute_result",
          "data": {
            "text/plain": [
              ""
            ]
          },
          "metadata": {
            "tags": []
          },
          "execution_count": 34
        }
      ]
    },
    {
      "cell_type": "code",
      "metadata": {
        "id": "yGNpbXf6SCcB",
        "colab_type": "code",
        "colab": {}
      },
      "source": [
        "gbm_baseline = H2OGradientBoostingEstimator(stopping_metric = \"AUC\", stopping_tolerance = 0.001,\n",
        "                                              stopping_rounds = 5, score_tree_interval = 10                                             \n",
        "                                             )"
      ],
      "execution_count": 35,
      "outputs": []
    },
    {
      "cell_type": "code",
      "metadata": {
        "id": "J2dlj7FZSF8y",
        "colab_type": "code",
        "colab": {
          "base_uri": "https://localhost:8080/",
          "height": 54
        },
        "outputId": "1dcc9f8d-5bd1-46d2-a688-b10ddbb6e4ad"
      },
      "source": [
        "gbm_baseline.train(x=review_vecs.names, y='target', training_frame = h2o_train, validation_frame=h2o_valid)\n",
        "print(\"Baseline AUC: \" + str(round(gbm_baseline.auc(valid = True), 3)))"
      ],
      "execution_count": 36,
      "outputs": [
        {
          "output_type": "stream",
          "text": [
            "gbm Model Build progress: |███████████████████████████████████████████████| 100%\n",
            "Baseline AUC: 0.876\n"
          ],
          "name": "stdout"
        }
      ]
    },
    {
      "cell_type": "code",
      "metadata": {
        "id": "TL7oa8I6SPpc",
        "colab_type": "code",
        "colab": {
          "base_uri": "https://localhost:8080/",
          "height": 180
        },
        "outputId": "9a071fe8-1bbd-4fa2-a1c3-a2bafdf84b22"
      },
      "source": [
        "gbm_baseline.confusion_matrix(valid=True)"
      ],
      "execution_count": 37,
      "outputs": [
        {
          "output_type": "stream",
          "text": [
            "\n",
            "Confusion Matrix (Act/Pred) for max f1 @ threshold = 0.49508655363934456: \n"
          ],
          "name": "stdout"
        },
        {
          "output_type": "display_data",
          "data": {
            "text/html": [
              "<div>\n",
              "<style scoped>\n",
              "    .dataframe tbody tr th:only-of-type {\n",
              "        vertical-align: middle;\n",
              "    }\n",
              "\n",
              "    .dataframe tbody tr th {\n",
              "        vertical-align: top;\n",
              "    }\n",
              "\n",
              "    .dataframe thead th {\n",
              "        text-align: right;\n",
              "    }\n",
              "</style>\n",
              "<table border=\"1\" class=\"dataframe\">\n",
              "  <thead>\n",
              "    <tr style=\"text-align: right;\">\n",
              "      <th></th>\n",
              "      <th></th>\n",
              "      <th>0</th>\n",
              "      <th>1</th>\n",
              "      <th>Error</th>\n",
              "      <th>Rate</th>\n",
              "    </tr>\n",
              "  </thead>\n",
              "  <tbody>\n",
              "    <tr>\n",
              "      <th>0</th>\n",
              "      <td>0</td>\n",
              "      <td>2345.0</td>\n",
              "      <td>2335.0</td>\n",
              "      <td>0.4989</td>\n",
              "      <td>(2335.0/4680.0)</td>\n",
              "    </tr>\n",
              "    <tr>\n",
              "      <th>1</th>\n",
              "      <td>1</td>\n",
              "      <td>629.0</td>\n",
              "      <td>11656.0</td>\n",
              "      <td>0.0512</td>\n",
              "      <td>(629.0/12285.0)</td>\n",
              "    </tr>\n",
              "    <tr>\n",
              "      <th>2</th>\n",
              "      <td>Total</td>\n",
              "      <td>2974.0</td>\n",
              "      <td>13991.0</td>\n",
              "      <td>0.1747</td>\n",
              "      <td>(2964.0/16965.0)</td>\n",
              "    </tr>\n",
              "  </tbody>\n",
              "</table>\n",
              "</div>"
            ],
            "text/plain": [
              "               0        1   Error               Rate\n",
              "0      0  2345.0   2335.0  0.4989    (2335.0/4680.0)\n",
              "1      1   629.0  11656.0  0.0512    (629.0/12285.0)\n",
              "2  Total  2974.0  13991.0  0.1747   (2964.0/16965.0)"
            ]
          },
          "metadata": {
            "tags": []
          }
        },
        {
          "output_type": "execute_result",
          "data": {
            "text/plain": [
              ""
            ]
          },
          "metadata": {
            "tags": []
          },
          "execution_count": 37
        }
      ]
    },
    {
      "cell_type": "markdown",
      "metadata": {
        "id": "fP2w_WK-Zgf_",
        "colab_type": "text"
      },
      "source": [
        "Notice that Error on minor classes is high because of imbalanced target classes. We will revise the model by passing Balance_classes parameter."
      ]
    },
    {
      "cell_type": "code",
      "metadata": {
        "id": "et0bkB-GSQc_",
        "colab_type": "code",
        "colab": {}
      },
      "source": [
        "gbm_balanced = H2OGradientBoostingEstimator(stopping_metric = \"AUC\", stopping_tolerance = 0.001,\n",
        "                                              stopping_rounds = 5, score_tree_interval = 10,\n",
        "                                              balance_classes= True\n",
        "                                             )"
      ],
      "execution_count": 38,
      "outputs": []
    },
    {
      "cell_type": "code",
      "metadata": {
        "id": "NaU_FrOmSVnW",
        "colab_type": "code",
        "colab": {
          "base_uri": "https://localhost:8080/",
          "height": 54
        },
        "outputId": "4593589d-a819-4491-b894-61a4b1f887f9"
      },
      "source": [
        "gbm_balanced.train(x=review_vecs.names, y='target', training_frame = h2o_train, validation_frame=h2o_valid)\n",
        "print(\" Balanced AUC: \" + str(round(gbm_balanced.auc(valid = True), 3)))"
      ],
      "execution_count": 39,
      "outputs": [
        {
          "output_type": "stream",
          "text": [
            "gbm Model Build progress: |███████████████████████████████████████████████| 100%\n",
            " Balanced AUC: 0.876\n"
          ],
          "name": "stdout"
        }
      ]
    },
    {
      "cell_type": "code",
      "metadata": {
        "id": "gQo3VuktSqPa",
        "colab_type": "code",
        "colab": {
          "base_uri": "https://localhost:8080/",
          "height": 180
        },
        "outputId": "f08dd348-116e-4bd9-a9d0-46c3b418b014"
      },
      "source": [
        "gbm_balanced.confusion_matrix(valid=True)"
      ],
      "execution_count": 40,
      "outputs": [
        {
          "output_type": "stream",
          "text": [
            "\n",
            "Confusion Matrix (Act/Pred) for max f1 @ threshold = 0.525217860944284: \n"
          ],
          "name": "stdout"
        },
        {
          "output_type": "display_data",
          "data": {
            "text/html": [
              "<div>\n",
              "<style scoped>\n",
              "    .dataframe tbody tr th:only-of-type {\n",
              "        vertical-align: middle;\n",
              "    }\n",
              "\n",
              "    .dataframe tbody tr th {\n",
              "        vertical-align: top;\n",
              "    }\n",
              "\n",
              "    .dataframe thead th {\n",
              "        text-align: right;\n",
              "    }\n",
              "</style>\n",
              "<table border=\"1\" class=\"dataframe\">\n",
              "  <thead>\n",
              "    <tr style=\"text-align: right;\">\n",
              "      <th></th>\n",
              "      <th></th>\n",
              "      <th>0</th>\n",
              "      <th>1</th>\n",
              "      <th>Error</th>\n",
              "      <th>Rate</th>\n",
              "    </tr>\n",
              "  </thead>\n",
              "  <tbody>\n",
              "    <tr>\n",
              "      <th>0</th>\n",
              "      <td>0</td>\n",
              "      <td>2421.0</td>\n",
              "      <td>2259.0</td>\n",
              "      <td>0.4827</td>\n",
              "      <td>(2259.0/4680.0)</td>\n",
              "    </tr>\n",
              "    <tr>\n",
              "      <th>1</th>\n",
              "      <td>1</td>\n",
              "      <td>679.0</td>\n",
              "      <td>11606.0</td>\n",
              "      <td>0.0553</td>\n",
              "      <td>(679.0/12285.0)</td>\n",
              "    </tr>\n",
              "    <tr>\n",
              "      <th>2</th>\n",
              "      <td>Total</td>\n",
              "      <td>3100.0</td>\n",
              "      <td>13865.0</td>\n",
              "      <td>0.1732</td>\n",
              "      <td>(2938.0/16965.0)</td>\n",
              "    </tr>\n",
              "  </tbody>\n",
              "</table>\n",
              "</div>"
            ],
            "text/plain": [
              "               0        1   Error               Rate\n",
              "0      0  2421.0   2259.0  0.4827    (2259.0/4680.0)\n",
              "1      1   679.0  11606.0  0.0553    (679.0/12285.0)\n",
              "2  Total  3100.0  13865.0  0.1732   (2938.0/16965.0)"
            ]
          },
          "metadata": {
            "tags": []
          }
        },
        {
          "output_type": "execute_result",
          "data": {
            "text/plain": [
              ""
            ]
          },
          "metadata": {
            "tags": []
          },
          "execution_count": 40
        }
      ]
    },
    {
      "cell_type": "markdown",
      "metadata": {
        "id": "dta2tIrIZxx8",
        "colab_type": "text"
      },
      "source": [
        "Looks like model doesnt improve much after balancing target labels.Lets evalaute if the model performance improve tuning few hyperparameters."
      ]
    },
    {
      "cell_type": "code",
      "metadata": {
        "id": "2Wz-ECSRdpSI",
        "colab_type": "code",
        "colab": {
          "base_uri": "https://localhost:8080/",
          "height": 612
        },
        "outputId": "5ec9cf7f-1033-47f5-b392-58a6f22f7d4b"
      },
      "source": [
        "gbm_balanced.varimp_plot()"
      ],
      "execution_count": 46,
      "outputs": [
        {
          "output_type": "display_data",
          "data": {
            "image/png": "[encoded data removed]",
            "text/plain": [
              "<Figure size 1008x720 with 1 Axes>"
            ]
          },
          "metadata": {
            "tags": [],
            "needs_background": "light"
          }
        }
      ]
    },
    {
      "cell_type": "markdown",
      "metadata": {
        "id": "OSE2kS4Taaav",
        "colab_type": "text"
      },
      "source": [
        "C50 is important feature for target label."
      ]
    },
    {
      "cell_type": "markdown",
      "metadata": {
        "id": "ZiTHqBPUewBn",
        "colab_type": "text"
      },
      "source": [
        "Headlines column will have text data We will add another feature 'headlines' to our existing trainingset and interpret the performance. "
      ]
    },
    {
      "cell_type": "code",
      "metadata": {
        "id": "SlkfPOzUeuxX",
        "colab_type": "code",
        "colab": {}
      },
      "source": [
        "headline_vecs = vec_model.transform(words_headline, aggregate_method = \"AVERAGE\")\n",
        "headline_vecs.names = [\"headline_\" + s for s in headline_vecs.names]"
      ],
      "execution_count": 49,
      "outputs": []
    },
    {
      "cell_type": "code",
      "metadata": {
        "id": "DZ2-G1DSfXuI",
        "colab_type": "code",
        "colab": {
          "base_uri": "https://localhost:8080/",
          "height": 274
        },
        "outputId": "3b02ba8e-f2c1-4bb1-dc9f-1d3b871bf264"
      },
      "source": [
        "headline_vecs.head()"
      ],
      "execution_count": 50,
      "outputs": [
        {
          "output_type": "display_data",
          "data": {
            "text/html": [
              "<table>\n",
              "<thead>\n",
              "<tr><th style=\"text-align: right;\">  headline_C1</th><th style=\"text-align: right;\">  headline_C2</th><th style=\"text-align: right;\">  headline_C3</th><th style=\"text-align: right;\">  headline_C4</th><th style=\"text-align: right;\">  headline_C5</th><th style=\"text-align: right;\">  headline_C6</th><th style=\"text-align: right;\">  headline_C7</th><th style=\"text-align: right;\">  headline_C8</th><th style=\"text-align: right;\">  headline_C9</th><th style=\"text-align: right;\">  headline_C10</th><th style=\"text-align: right;\">  headline_C11</th><th style=\"text-align: right;\">  headline_C12</th><th style=\"text-align: right;\">  headline_C13</th><th style=\"text-align: right;\">  headline_C14</th><th style=\"text-align: right;\">  headline_C15</th><th style=\"text-align: right;\">  headline_C16</th><th style=\"text-align: right;\">  headline_C17</th><th style=\"text-align: right;\">  headline_C18</th><th style=\"text-align: right;\">  headline_C19</th><th style=\"text-align: right;\">  headline_C20</th><th style=\"text-align: right;\">  headline_C21</th><th style=\"text-align: right;\">  headline_C22</th><th style=\"text-align: right;\">  headline_C23</th><th style=\"text-align: right;\">  headline_C24</th><th style=\"text-align: right;\">  headline_C25</th><th style=\"text-align: right;\">  headline_C26</th><th style=\"text-align: right;\">  headline_C27</th><th style=\"text-align: right;\">  headline_C28</th><th style=\"text-align: right;\">  headline_C29</th><th style=\"text-align: right;\">  headline_C30</th><th style=\"text-align: right;\">  headline_C31</th><th style=\"text-align: right;\">  headline_C32</th><th style=\"text-align: right;\">  headline_C33</th><th style=\"text-align: right;\">  headline_C34</th><th style=\"text-align: right;\">  headline_C35</th><th style=\"text-align: right;\">  headline_C36</th><th style=\"text-align: right;\">  headline_C37</th><th style=\"text-align: right;\">  headline_C38</th><th style=\"text-align: right;\">  headline_C39</th><th style=\"text-align: right;\">  headline_C40</th><th style=\"text-align: right;\">  headline_C41</th><th style=\"text-align: right;\">  headline_C42</th><th style=\"text-align: right;\">  headline_C43</th><th style=\"text-align: right;\">  headline_C44</th><th style=\"text-align: right;\">  headline_C45</th><th style=\"text-align: right;\">  headline_C46</th><th style=\"text-align: right;\">  headline_C47</th><th style=\"text-align: right;\">  headline_C48</th><th style=\"text-align: right;\">  headline_C49</th><th style=\"text-align: right;\">  headline_C50</th><th style=\"text-align: right;\">  headline_C51</th><th style=\"text-align: right;\">  headline_C52</th><th style=\"text-align: right;\">  headline_C53</th><th style=\"text-align: right;\">  headline_C54</th><th style=\"text-align: right;\">  headline_C55</th><th style=\"text-align: right;\">  headline_C56</th><th style=\"text-align: right;\">  headline_C57</th><th style=\"text-align: right;\">  headline_C58</th><th style=\"text-align: right;\">  headline_C59</th><th style=\"text-align: right;\">  headline_C60</th><th style=\"text-align: right;\">  headline_C61</th><th style=\"text-align: right;\">  headline_C62</th><th style=\"text-align: right;\">  headline_C63</th><th style=\"text-align: right;\">  headline_C64</th><th style=\"text-align: right;\">  headline_C65</th><th style=\"text-align: right;\">  headline_C66</th><th style=\"text-align: right;\">  headline_C67</th><th style=\"text-align: right;\">  headline_C68</th><th style=\"text-align: right;\">  headline_C69</th><th style=\"text-align: right;\">  headline_C70</th><th style=\"text-align: right;\">  headline_C71</th><th style=\"text-align: right;\">  headline_C72</th><th style=\"text-align: right;\">  headline_C73</th><th style=\"text-align: right;\">  headline_C74</th><th style=\"text-align: right;\">  headline_C75</th><th style=\"text-align: right;\">  headline_C76</th><th style=\"text-align: right;\">  headline_C77</th><th style=\"text-align: right;\">  headline_C78</th><th style=\"text-align: right;\">  headline_C79</th><th style=\"text-align: right;\">  headline_C80</th><th style=\"text-align: right;\">  headline_C81</th><th style=\"text-align: right;\">  headline_C82</th><th style=\"text-align: right;\">  headline_C83</th><th style=\"text-align: right;\">  headline_C84</th><th style=\"text-align: right;\">  headline_C85</th><th style=\"text-align: right;\">  headline_C86</th><th style=\"text-align: right;\">  headline_C87</th><th style=\"text-align: right;\">  headline_C88</th><th style=\"text-align: right;\">  headline_C89</th><th style=\"text-align: right;\">  headline_C90</th><th style=\"text-align: right;\">  headline_C91</th><th style=\"text-align: right;\">  headline_C92</th><th style=\"text-align: right;\">  headline_C93</th><th style=\"text-align: right;\">  headline_C94</th><th style=\"text-align: right;\">  headline_C95</th><th style=\"text-align: right;\">  headline_C96</th><th style=\"text-align: right;\">  headline_C97</th><th style=\"text-align: right;\">  headline_C98</th><th style=\"text-align: right;\">  headline_C99</th><th style=\"text-align: right;\">  headline_C100</th></tr>\n",
              "</thead>\n",
              "<tbody>\n",
              "<tr><td style=\"text-align: right;\">   0.0185162 </td><td style=\"text-align: right;\">   -0.115488 </td><td style=\"text-align: right;\">    0.104139 </td><td style=\"text-align: right;\">  -0.143702  </td><td style=\"text-align: right;\">    0.0839418</td><td style=\"text-align: right;\">   -0.210495 </td><td style=\"text-align: right;\">    0.165548 </td><td style=\"text-align: right;\">  -0.0237721 </td><td style=\"text-align: right;\">    0.0677472</td><td style=\"text-align: right;\">    -0.210758 </td><td style=\"text-align: right;\">    0.146332  </td><td style=\"text-align: right;\">    -0.02706  </td><td style=\"text-align: right;\">   -0.0851666 </td><td style=\"text-align: right;\">     0.175646 </td><td style=\"text-align: right;\">    -0.0303567</td><td style=\"text-align: right;\">    -0.0231346</td><td style=\"text-align: right;\">     0.127572 </td><td style=\"text-align: right;\">   -0.257409  </td><td style=\"text-align: right;\">   -0.0396139 </td><td style=\"text-align: right;\">    -0.202641 </td><td style=\"text-align: right;\">      0.112528</td><td style=\"text-align: right;\">    -0.234912 </td><td style=\"text-align: right;\">    -0.0518952</td><td style=\"text-align: right;\">    0.0509555 </td><td style=\"text-align: right;\">     0.01597  </td><td style=\"text-align: right;\">    -0.0443076</td><td style=\"text-align: right;\">    -0.0639574</td><td style=\"text-align: right;\">   -0.00946881</td><td style=\"text-align: right;\">    -0.0257915</td><td style=\"text-align: right;\">    0.0813862 </td><td style=\"text-align: right;\">    -0.130616 </td><td style=\"text-align: right;\">     0.0773915</td><td style=\"text-align: right;\">   -0.187354  </td><td style=\"text-align: right;\">     0.0549268</td><td style=\"text-align: right;\">     0.0793182</td><td style=\"text-align: right;\">     0.133722 </td><td style=\"text-align: right;\">    -0.219832 </td><td style=\"text-align: right;\">    -0.0862507</td><td style=\"text-align: right;\">     0.161767 </td><td style=\"text-align: right;\">    -0.0155789</td><td style=\"text-align: right;\">    -0.0518723</td><td style=\"text-align: right;\">     0.0675367</td><td style=\"text-align: right;\">    -0.250918 </td><td style=\"text-align: right;\">     0.054737 </td><td style=\"text-align: right;\">   -0.123754  </td><td style=\"text-align: right;\">   -0.052881  </td><td style=\"text-align: right;\">   -0.0826705 </td><td style=\"text-align: right;\">    0.0799488 </td><td style=\"text-align: right;\">    -0.0752862</td><td style=\"text-align: right;\">    -0.216457 </td><td style=\"text-align: right;\">     0.0382488</td><td style=\"text-align: right;\">     0.0408937</td><td style=\"text-align: right;\">    -0.0222427</td><td style=\"text-align: right;\">    -0.104879 </td><td style=\"text-align: right;\">     0.139049 </td><td style=\"text-align: right;\">   -0.226703  </td><td style=\"text-align: right;\">    0.131152  </td><td style=\"text-align: right;\">   -0.087457  </td><td style=\"text-align: right;\">    -0.127004 </td><td style=\"text-align: right;\">    0.0465224 </td><td style=\"text-align: right;\">    0.11279   </td><td style=\"text-align: right;\">    -0.101605 </td><td style=\"text-align: right;\">    0.0482036 </td><td style=\"text-align: right;\">     0.0300451</td><td style=\"text-align: right;\">     0.0378511</td><td style=\"text-align: right;\">     0.0933368</td><td style=\"text-align: right;\">    0.136996  </td><td style=\"text-align: right;\">    0.00659768</td><td style=\"text-align: right;\">    -0.177429 </td><td style=\"text-align: right;\">    -0.166329 </td><td style=\"text-align: right;\">    -0.160486 </td><td style=\"text-align: right;\">   -0.00917747</td><td style=\"text-align: right;\">   -0.259657  </td><td style=\"text-align: right;\">   -0.0388705 </td><td style=\"text-align: right;\">    -0.0649821</td><td style=\"text-align: right;\">     0.0293493</td><td style=\"text-align: right;\">     0.119786 </td><td style=\"text-align: right;\">     0.0895976</td><td style=\"text-align: right;\">     0.0853393</td><td style=\"text-align: right;\">    0.177161  </td><td style=\"text-align: right;\">     0.173283 </td><td style=\"text-align: right;\">    -0.146074 </td><td style=\"text-align: right;\">     0.148514 </td><td style=\"text-align: right;\">     0.116958 </td><td style=\"text-align: right;\">  -0.124322   </td><td style=\"text-align: right;\">     0.0521574</td><td style=\"text-align: right;\">   -0.16806   </td><td style=\"text-align: right;\">     0.343714 </td><td style=\"text-align: right;\">     0.0893526</td><td style=\"text-align: right;\">     0.177749 </td><td style=\"text-align: right;\">   -0.177944  </td><td style=\"text-align: right;\">   -0.00289423</td><td style=\"text-align: right;\">   -0.0617061 </td><td style=\"text-align: right;\">     0.200867 </td><td style=\"text-align: right;\">   -0.195197  </td><td style=\"text-align: right;\">    -0.397215 </td><td style=\"text-align: right;\">     0.114615 </td><td style=\"text-align: right;\">    -0.0197639</td><td style=\"text-align: right;\">   -0.101276  </td><td style=\"text-align: right;\">       0.134045</td></tr>\n",
              "<tr><td style=\"text-align: right;\">  -0.256141  </td><td style=\"text-align: right;\">    0.128054 </td><td style=\"text-align: right;\">    0.049158 </td><td style=\"text-align: right;\">  -0.0522741 </td><td style=\"text-align: right;\">   -0.129329 </td><td style=\"text-align: right;\">   -0.276798 </td><td style=\"text-align: right;\">    0.0497648</td><td style=\"text-align: right;\">   0.0845352 </td><td style=\"text-align: right;\">    0.0658422</td><td style=\"text-align: right;\">     0.0267137</td><td style=\"text-align: right;\">    0.0488741 </td><td style=\"text-align: right;\">    -0.0813229</td><td style=\"text-align: right;\">   -0.029332  </td><td style=\"text-align: right;\">     0.128893 </td><td style=\"text-align: right;\">    -0.100631 </td><td style=\"text-align: right;\">    -0.147874 </td><td style=\"text-align: right;\">    -0.102969 </td><td style=\"text-align: right;\">    0.00460807</td><td style=\"text-align: right;\">   -0.00449172</td><td style=\"text-align: right;\">    -0.0953896</td><td style=\"text-align: right;\">      0.292078</td><td style=\"text-align: right;\">    -0.0615605</td><td style=\"text-align: right;\">    -0.023682 </td><td style=\"text-align: right;\">    0.0850246 </td><td style=\"text-align: right;\">    -0.110983 </td><td style=\"text-align: right;\">    -0.128311 </td><td style=\"text-align: right;\">    -0.0457309</td><td style=\"text-align: right;\">    0.00132376</td><td style=\"text-align: right;\">    -0.163682 </td><td style=\"text-align: right;\">    0.0272578 </td><td style=\"text-align: right;\">    -0.0782772</td><td style=\"text-align: right;\">     0.0868949</td><td style=\"text-align: right;\">   -0.0172827 </td><td style=\"text-align: right;\">    -0.122709 </td><td style=\"text-align: right;\">    -0.117107 </td><td style=\"text-align: right;\">     0.256438 </td><td style=\"text-align: right;\">    -0.0138599</td><td style=\"text-align: right;\">    -0.0286985</td><td style=\"text-align: right;\">    -0.110689 </td><td style=\"text-align: right;\">     0.143452 </td><td style=\"text-align: right;\">    -0.170705 </td><td style=\"text-align: right;\">    -0.045254 </td><td style=\"text-align: right;\">    -0.144815 </td><td style=\"text-align: right;\">     0.245165 </td><td style=\"text-align: right;\">    0.00465773</td><td style=\"text-align: right;\">    0.0196495 </td><td style=\"text-align: right;\">   -0.00527802</td><td style=\"text-align: right;\">   -0.0856837 </td><td style=\"text-align: right;\">    -0.0902815</td><td style=\"text-align: right;\">     0.0621373</td><td style=\"text-align: right;\">    -0.151406 </td><td style=\"text-align: right;\">    -0.0711627</td><td style=\"text-align: right;\">    -0.0477809</td><td style=\"text-align: right;\">    -0.0650607</td><td style=\"text-align: right;\">     0.0192818</td><td style=\"text-align: right;\">   -0.137271  </td><td style=\"text-align: right;\">   -0.197174  </td><td style=\"text-align: right;\">    0.00565172</td><td style=\"text-align: right;\">     0.0117367</td><td style=\"text-align: right;\">   -0.0110454 </td><td style=\"text-align: right;\">    0.00913789</td><td style=\"text-align: right;\">    -0.0531534</td><td style=\"text-align: right;\">    0.0428788 </td><td style=\"text-align: right;\">    -0.0575339</td><td style=\"text-align: right;\">     0.0237326</td><td style=\"text-align: right;\">     0.0871162</td><td style=\"text-align: right;\">    0.0692664 </td><td style=\"text-align: right;\">   -0.128538  </td><td style=\"text-align: right;\">    -0.0959218</td><td style=\"text-align: right;\">    -0.149638 </td><td style=\"text-align: right;\">     0.0496946</td><td style=\"text-align: right;\">    0.0128069 </td><td style=\"text-align: right;\">   -0.215921  </td><td style=\"text-align: right;\">   -0.0111231 </td><td style=\"text-align: right;\">    -0.194461 </td><td style=\"text-align: right;\">    -0.050032 </td><td style=\"text-align: right;\">     0.174148 </td><td style=\"text-align: right;\">     0.0786157</td><td style=\"text-align: right;\">     0.0214978</td><td style=\"text-align: right;\">    0.388848  </td><td style=\"text-align: right;\">    -0.178781 </td><td style=\"text-align: right;\">     0.208238 </td><td style=\"text-align: right;\">     0.0825747</td><td style=\"text-align: right;\">     0.0376197</td><td style=\"text-align: right;\">  -0.0933068  </td><td style=\"text-align: right;\">    -0.056378 </td><td style=\"text-align: right;\">   -0.0259837 </td><td style=\"text-align: right;\">     0.223453 </td><td style=\"text-align: right;\">     0.150982 </td><td style=\"text-align: right;\">     0.112689 </td><td style=\"text-align: right;\">   -0.0494502 </td><td style=\"text-align: right;\">   -0.0065696 </td><td style=\"text-align: right;\">    0.102585  </td><td style=\"text-align: right;\">    -0.128599 </td><td style=\"text-align: right;\">   -0.107048  </td><td style=\"text-align: right;\">    -0.143228 </td><td style=\"text-align: right;\">     0.170052 </td><td style=\"text-align: right;\">    -0.0355595</td><td style=\"text-align: right;\">   -0.0351138 </td><td style=\"text-align: right;\">       0.116025</td></tr>\n",
              "<tr><td style=\"text-align: right;\">   0.00677117</td><td style=\"text-align: right;\">   -0.253411 </td><td style=\"text-align: right;\">    0.151693 </td><td style=\"text-align: right;\">   0.134665  </td><td style=\"text-align: right;\">   -0.144862 </td><td style=\"text-align: right;\">   -0.0301804</td><td style=\"text-align: right;\">    0.268653 </td><td style=\"text-align: right;\">   0.0946106 </td><td style=\"text-align: right;\">    0.15983  </td><td style=\"text-align: right;\">    -0.117185 </td><td style=\"text-align: right;\">   -0.0843863 </td><td style=\"text-align: right;\">     0.0415231</td><td style=\"text-align: right;\">    0.0798375 </td><td style=\"text-align: right;\">     0.0334479</td><td style=\"text-align: right;\">    -0.173112 </td><td style=\"text-align: right;\">     0.0607931</td><td style=\"text-align: right;\">     0.0663527</td><td style=\"text-align: right;\">   -0.327167  </td><td style=\"text-align: right;\">    0.0146205 </td><td style=\"text-align: right;\">    -0.270798 </td><td style=\"text-align: right;\">      0.179474</td><td style=\"text-align: right;\">    -0.0317777</td><td style=\"text-align: right;\">    -0.247896 </td><td style=\"text-align: right;\">   -0.0369141 </td><td style=\"text-align: right;\">     0.0873388</td><td style=\"text-align: right;\">     0.0256046</td><td style=\"text-align: right;\">     0.117235 </td><td style=\"text-align: right;\">   -0.00999106</td><td style=\"text-align: right;\">    -0.0946028</td><td style=\"text-align: right;\">   -0.0251317 </td><td style=\"text-align: right;\">     0.038455 </td><td style=\"text-align: right;\">     0.0846743</td><td style=\"text-align: right;\">   -0.20361   </td><td style=\"text-align: right;\">    -0.0450722</td><td style=\"text-align: right;\">    -0.0161956</td><td style=\"text-align: right;\">     0.213831 </td><td style=\"text-align: right;\">    -0.0283599</td><td style=\"text-align: right;\">    -0.16818  </td><td style=\"text-align: right;\">    -0.137063 </td><td style=\"text-align: right;\">     0.0389218</td><td style=\"text-align: right;\">    -0.166388 </td><td style=\"text-align: right;\">    -0.0718722</td><td style=\"text-align: right;\">     0.0896883</td><td style=\"text-align: right;\">     0.325054 </td><td style=\"text-align: right;\">   -0.340046  </td><td style=\"text-align: right;\">   -0.210007  </td><td style=\"text-align: right;\">   -0.0169523 </td><td style=\"text-align: right;\">   -0.0686789 </td><td style=\"text-align: right;\">     0.0114041</td><td style=\"text-align: right;\">    -0.208002 </td><td style=\"text-align: right;\">     0.187957 </td><td style=\"text-align: right;\">    -0.0166331</td><td style=\"text-align: right;\">    -0.132881 </td><td style=\"text-align: right;\">    -0.128075 </td><td style=\"text-align: right;\">    -0.0443474</td><td style=\"text-align: right;\">   -0.305538  </td><td style=\"text-align: right;\">   -0.190487  </td><td style=\"text-align: right;\">   -0.154193  </td><td style=\"text-align: right;\">     0.0518813</td><td style=\"text-align: right;\">   -0.208101  </td><td style=\"text-align: right;\">    0.152121  </td><td style=\"text-align: right;\">    -0.226284 </td><td style=\"text-align: right;\">   -0.00527288</td><td style=\"text-align: right;\">    -0.183437 </td><td style=\"text-align: right;\">     0.223585 </td><td style=\"text-align: right;\">     0.144358 </td><td style=\"text-align: right;\">   -0.0625074 </td><td style=\"text-align: right;\">    0.0391924 </td><td style=\"text-align: right;\">     0.0477634</td><td style=\"text-align: right;\">    -0.188968 </td><td style=\"text-align: right;\">    -0.312384 </td><td style=\"text-align: right;\">   -0.264686  </td><td style=\"text-align: right;\">   -0.0309763 </td><td style=\"text-align: right;\">   -0.0717967 </td><td style=\"text-align: right;\">    -0.0107755</td><td style=\"text-align: right;\">    -0.0442657</td><td style=\"text-align: right;\">    -0.0804706</td><td style=\"text-align: right;\">    -0.129702 </td><td style=\"text-align: right;\">     0.108366 </td><td style=\"text-align: right;\">   -0.0192178 </td><td style=\"text-align: right;\">     0.0896354</td><td style=\"text-align: right;\">     0.0796073</td><td style=\"text-align: right;\">     0.0799174</td><td style=\"text-align: right;\">    -0.0660251</td><td style=\"text-align: right;\">  -0.31549    </td><td style=\"text-align: right;\">    -0.0743644</td><td style=\"text-align: right;\">    0.00925528</td><td style=\"text-align: right;\">     0.283678 </td><td style=\"text-align: right;\">     0.115738 </td><td style=\"text-align: right;\">     0.0724861</td><td style=\"text-align: right;\">   -0.00250511</td><td style=\"text-align: right;\">   -0.00781483</td><td style=\"text-align: right;\">   -0.295087  </td><td style=\"text-align: right;\">     0.147874 </td><td style=\"text-align: right;\">    0.00811409</td><td style=\"text-align: right;\">    -0.199877 </td><td style=\"text-align: right;\">     0.186678 </td><td style=\"text-align: right;\">    -0.123653 </td><td style=\"text-align: right;\">   -0.196463  </td><td style=\"text-align: right;\">       0.132746</td></tr>\n",
              "<tr><td style=\"text-align: right;\">   0.149783  </td><td style=\"text-align: right;\">    0.0386222</td><td style=\"text-align: right;\">    0.339089 </td><td style=\"text-align: right;\">  -0.0804783 </td><td style=\"text-align: right;\">    0.141013 </td><td style=\"text-align: right;\">   -0.407058 </td><td style=\"text-align: right;\">    0.248671 </td><td style=\"text-align: right;\">  -0.191011  </td><td style=\"text-align: right;\">    0.323519 </td><td style=\"text-align: right;\">    -0.0299345</td><td style=\"text-align: right;\">   -0.0385738 </td><td style=\"text-align: right;\">    -0.0476472</td><td style=\"text-align: right;\">   -0.395712  </td><td style=\"text-align: right;\">    -0.140777 </td><td style=\"text-align: right;\">    -0.217735 </td><td style=\"text-align: right;\">    -0.32954  </td><td style=\"text-align: right;\">     0.0553981</td><td style=\"text-align: right;\">   -0.341968  </td><td style=\"text-align: right;\">    0.233562  </td><td style=\"text-align: right;\">    -0.342864 </td><td style=\"text-align: right;\">      0.22572 </td><td style=\"text-align: right;\">     0.314593 </td><td style=\"text-align: right;\">    -0.38987  </td><td style=\"text-align: right;\">   -0.0626959 </td><td style=\"text-align: right;\">    -0.287291 </td><td style=\"text-align: right;\">    -0.194967 </td><td style=\"text-align: right;\">    -0.416758 </td><td style=\"text-align: right;\">    0.122919  </td><td style=\"text-align: right;\">    -0.0231982</td><td style=\"text-align: right;\">    0.0548354 </td><td style=\"text-align: right;\">     0.0401364</td><td style=\"text-align: right;\">     0.128547 </td><td style=\"text-align: right;\">   -0.00410709</td><td style=\"text-align: right;\">     0.26495  </td><td style=\"text-align: right;\">    -0.17594  </td><td style=\"text-align: right;\">     0.393364 </td><td style=\"text-align: right;\">    -0.298026 </td><td style=\"text-align: right;\">    -0.246955 </td><td style=\"text-align: right;\">     0.13263  </td><td style=\"text-align: right;\">     0.138842 </td><td style=\"text-align: right;\">     0.119595 </td><td style=\"text-align: right;\">     0.656128 </td><td style=\"text-align: right;\">    -0.380808 </td><td style=\"text-align: right;\">    -0.0251965</td><td style=\"text-align: right;\">    0.163655  </td><td style=\"text-align: right;\">   -0.0530023 </td><td style=\"text-align: right;\">   -0.0167365 </td><td style=\"text-align: right;\">   -0.0692728 </td><td style=\"text-align: right;\">    -0.0403315</td><td style=\"text-align: right;\">     0.241277 </td><td style=\"text-align: right;\">    -0.182211 </td><td style=\"text-align: right;\">    -0.298251 </td><td style=\"text-align: right;\">     0.206026 </td><td style=\"text-align: right;\">     0.0828432</td><td style=\"text-align: right;\">     0.367803 </td><td style=\"text-align: right;\">    0.330085  </td><td style=\"text-align: right;\">    0.189266  </td><td style=\"text-align: right;\">   -0.228533  </td><td style=\"text-align: right;\">    -0.018335 </td><td style=\"text-align: right;\">   -0.0998182 </td><td style=\"text-align: right;\">   -0.399326  </td><td style=\"text-align: right;\">     0.0422389</td><td style=\"text-align: right;\">    0.100557  </td><td style=\"text-align: right;\">    -0.057847 </td><td style=\"text-align: right;\">     0.150086 </td><td style=\"text-align: right;\">    -0.0102728</td><td style=\"text-align: right;\">   -0.00622387</td><td style=\"text-align: right;\">   -0.102803  </td><td style=\"text-align: right;\">    -0.261605 </td><td style=\"text-align: right;\">    -0.103865 </td><td style=\"text-align: right;\">     0.152847 </td><td style=\"text-align: right;\">   -0.317245  </td><td style=\"text-align: right;\">    0.299129  </td><td style=\"text-align: right;\">    0.0975763 </td><td style=\"text-align: right;\">    -0.290776 </td><td style=\"text-align: right;\">    -0.312153 </td><td style=\"text-align: right;\">     0.0229401</td><td style=\"text-align: right;\">    -0.486664 </td><td style=\"text-align: right;\">     0.162609 </td><td style=\"text-align: right;\">    0.156691  </td><td style=\"text-align: right;\">    -0.109981 </td><td style=\"text-align: right;\">     0.289191 </td><td style=\"text-align: right;\">     0.139946 </td><td style=\"text-align: right;\">     0.165029 </td><td style=\"text-align: right;\">  -0.400591   </td><td style=\"text-align: right;\">     0.659926 </td><td style=\"text-align: right;\">    0.265103  </td><td style=\"text-align: right;\">    -0.21251  </td><td style=\"text-align: right;\">    -0.216571 </td><td style=\"text-align: right;\">     0.112787 </td><td style=\"text-align: right;\">    0.134466  </td><td style=\"text-align: right;\">    0.0323541 </td><td style=\"text-align: right;\">    0.0740668 </td><td style=\"text-align: right;\">    -0.0843005</td><td style=\"text-align: right;\">   -0.00920507</td><td style=\"text-align: right;\">    -0.157265 </td><td style=\"text-align: right;\">     0.0831361</td><td style=\"text-align: right;\">     0.182413 </td><td style=\"text-align: right;\">    0.0267507 </td><td style=\"text-align: right;\">       0.402578</td></tr>\n",
              "<tr><td style=\"text-align: right;\">  -0.0348165 </td><td style=\"text-align: right;\">    0.0185396</td><td style=\"text-align: right;\">    0.0124412</td><td style=\"text-align: right;\">   0.203391  </td><td style=\"text-align: right;\">    0.138956 </td><td style=\"text-align: right;\">   -0.0376232</td><td style=\"text-align: right;\">    0.0836133</td><td style=\"text-align: right;\">  -0.0910894 </td><td style=\"text-align: right;\">    0.143497 </td><td style=\"text-align: right;\">    -0.144757 </td><td style=\"text-align: right;\">   -0.054996  </td><td style=\"text-align: right;\">    -0.252545 </td><td style=\"text-align: right;\">   -0.156703  </td><td style=\"text-align: right;\">     0.0393777</td><td style=\"text-align: right;\">    -0.139358 </td><td style=\"text-align: right;\">     0.0301236</td><td style=\"text-align: right;\">     0.173623 </td><td style=\"text-align: right;\">   -0.0215066 </td><td style=\"text-align: right;\">    0.209576  </td><td style=\"text-align: right;\">     0.0775961</td><td style=\"text-align: right;\">      0.139841</td><td style=\"text-align: right;\">    -0.11492  </td><td style=\"text-align: right;\">    -0.117287 </td><td style=\"text-align: right;\">   -0.0882384 </td><td style=\"text-align: right;\">    -0.104509 </td><td style=\"text-align: right;\">    -0.0559564</td><td style=\"text-align: right;\">    -0.0531869</td><td style=\"text-align: right;\">   -0.0575578 </td><td style=\"text-align: right;\">    -0.106945 </td><td style=\"text-align: right;\">   -0.01089   </td><td style=\"text-align: right;\">    -0.10959  </td><td style=\"text-align: right;\">     0.0958507</td><td style=\"text-align: right;\">   -0.168756  </td><td style=\"text-align: right;\">    -0.0312404</td><td style=\"text-align: right;\">    -0.036461 </td><td style=\"text-align: right;\">    -0.0202594</td><td style=\"text-align: right;\">    -0.296405 </td><td style=\"text-align: right;\">    -0.226689 </td><td style=\"text-align: right;\">     0.0831813</td><td style=\"text-align: right;\">     0.12987  </td><td style=\"text-align: right;\">    -0.0339285</td><td style=\"text-align: right;\">     0.0600179</td><td style=\"text-align: right;\">     0.0682928</td><td style=\"text-align: right;\">    -0.118784 </td><td style=\"text-align: right;\">    0.250484  </td><td style=\"text-align: right;\">    0.0506741 </td><td style=\"text-align: right;\">    0.0463154 </td><td style=\"text-align: right;\">   -0.032169  </td><td style=\"text-align: right;\">    -0.132733 </td><td style=\"text-align: right;\">     0.105652 </td><td style=\"text-align: right;\">    -0.0364557</td><td style=\"text-align: right;\">     0.10834  </td><td style=\"text-align: right;\">    -0.208925 </td><td style=\"text-align: right;\">     0.112406 </td><td style=\"text-align: right;\">     0.2143   </td><td style=\"text-align: right;\">   -0.140983  </td><td style=\"text-align: right;\">    0.0359884 </td><td style=\"text-align: right;\">   -0.238169  </td><td style=\"text-align: right;\">    -0.0554506</td><td style=\"text-align: right;\">   -0.229846  </td><td style=\"text-align: right;\">    0.0277297 </td><td style=\"text-align: right;\">     0.0608799</td><td style=\"text-align: right;\">   -0.173069  </td><td style=\"text-align: right;\">     0.285496 </td><td style=\"text-align: right;\">     0.0430818</td><td style=\"text-align: right;\">    -0.0953431</td><td style=\"text-align: right;\">    0.198742  </td><td style=\"text-align: right;\">   -0.235879  </td><td style=\"text-align: right;\">    -0.245325 </td><td style=\"text-align: right;\">    -0.212047 </td><td style=\"text-align: right;\">    -0.0720241</td><td style=\"text-align: right;\">   -0.0424276 </td><td style=\"text-align: right;\">   -0.0981098 </td><td style=\"text-align: right;\">    0.224394  </td><td style=\"text-align: right;\">     0.0114637</td><td style=\"text-align: right;\">    -0.164963 </td><td style=\"text-align: right;\">     0.0450038</td><td style=\"text-align: right;\">    -0.0283456</td><td style=\"text-align: right;\">    -0.242109 </td><td style=\"text-align: right;\">    0.118293  </td><td style=\"text-align: right;\">     0.206254 </td><td style=\"text-align: right;\">    -0.0791535</td><td style=\"text-align: right;\">     0.20235  </td><td style=\"text-align: right;\">    -0.266764 </td><td style=\"text-align: right;\">  -0.259145   </td><td style=\"text-align: right;\">    -0.042653 </td><td style=\"text-align: right;\">   -0.139437  </td><td style=\"text-align: right;\">     0.0537181</td><td style=\"text-align: right;\">    -0.0093489</td><td style=\"text-align: right;\">     0.102812 </td><td style=\"text-align: right;\">   -0.336012  </td><td style=\"text-align: right;\">    0.115523  </td><td style=\"text-align: right;\">   -0.0104913 </td><td style=\"text-align: right;\">    -0.147739 </td><td style=\"text-align: right;\">   -0.0574049 </td><td style=\"text-align: right;\">    -0.154884 </td><td style=\"text-align: right;\">    -0.0261245</td><td style=\"text-align: right;\">    -0.0865673</td><td style=\"text-align: right;\">    0.0724392 </td><td style=\"text-align: right;\">       0.231989</td></tr>\n",
              "<tr><td style=\"text-align: right;\">  -0.0467751 </td><td style=\"text-align: right;\">   -0.136463 </td><td style=\"text-align: right;\">    0.0494155</td><td style=\"text-align: right;\">   0.12911   </td><td style=\"text-align: right;\">    0.109196 </td><td style=\"text-align: right;\">   -0.0214123</td><td style=\"text-align: right;\">   -0.137824 </td><td style=\"text-align: right;\">  -0.00989569</td><td style=\"text-align: right;\">    0.0955714</td><td style=\"text-align: right;\">    -0.283828 </td><td style=\"text-align: right;\">    0.0616195 </td><td style=\"text-align: right;\">    -0.231621 </td><td style=\"text-align: right;\">    0.0223286 </td><td style=\"text-align: right;\">    -0.0472841</td><td style=\"text-align: right;\">    -0.162585 </td><td style=\"text-align: right;\">    -0.0576881</td><td style=\"text-align: right;\">    -0.0232894</td><td style=\"text-align: right;\">   -0.0443869 </td><td style=\"text-align: right;\">    0.0572003 </td><td style=\"text-align: right;\">    -0.0117386</td><td style=\"text-align: right;\">      0.11975 </td><td style=\"text-align: right;\">    -0.185637 </td><td style=\"text-align: right;\">    -0.0931029</td><td style=\"text-align: right;\">   -0.08826   </td><td style=\"text-align: right;\">     0.0551587</td><td style=\"text-align: right;\">    -0.0705608</td><td style=\"text-align: right;\">     0.0345777</td><td style=\"text-align: right;\">   -0.151054  </td><td style=\"text-align: right;\">     0.0663361</td><td style=\"text-align: right;\">    0.00765032</td><td style=\"text-align: right;\">    -0.0689941</td><td style=\"text-align: right;\">     0.135521 </td><td style=\"text-align: right;\">    0.072583  </td><td style=\"text-align: right;\">    -0.0316162</td><td style=\"text-align: right;\">    -0.0623777</td><td style=\"text-align: right;\">     0.147523 </td><td style=\"text-align: right;\">    -0.231331 </td><td style=\"text-align: right;\">    -0.0180258</td><td style=\"text-align: right;\">     0.0242378</td><td style=\"text-align: right;\">     0.0426534</td><td style=\"text-align: right;\">    -0.195422 </td><td style=\"text-align: right;\">     0.132947 </td><td style=\"text-align: right;\">    -0.172627 </td><td style=\"text-align: right;\">     0.0770731</td><td style=\"text-align: right;\">    0.0610146 </td><td style=\"text-align: right;\">    0.03044   </td><td style=\"text-align: right;\">    0.0632517 </td><td style=\"text-align: right;\">    0.00767632</td><td style=\"text-align: right;\">    -0.13932  </td><td style=\"text-align: right;\">    -0.0593193</td><td style=\"text-align: right;\">     0.0827848</td><td style=\"text-align: right;\">     0.162601 </td><td style=\"text-align: right;\">     0.137021 </td><td style=\"text-align: right;\">    -0.159254 </td><td style=\"text-align: right;\">    -0.0183301</td><td style=\"text-align: right;\">   -0.194768  </td><td style=\"text-align: right;\">   -0.0719659 </td><td style=\"text-align: right;\">   -0.190701  </td><td style=\"text-align: right;\">    -0.0382366</td><td style=\"text-align: right;\">   -0.114849  </td><td style=\"text-align: right;\">   -0.0337881 </td><td style=\"text-align: right;\">    -0.132349 </td><td style=\"text-align: right;\">    0.0792934 </td><td style=\"text-align: right;\">    -0.0203471</td><td style=\"text-align: right;\">     0.0396279</td><td style=\"text-align: right;\">     0.172685 </td><td style=\"text-align: right;\">    0.0419894 </td><td style=\"text-align: right;\">   -0.0211851 </td><td style=\"text-align: right;\">    -0.177717 </td><td style=\"text-align: right;\">    -0.0616091</td><td style=\"text-align: right;\">    -0.0436112</td><td style=\"text-align: right;\">   -0.139759  </td><td style=\"text-align: right;\">    0.0659197 </td><td style=\"text-align: right;\">   -0.0185919 </td><td style=\"text-align: right;\">    -0.0703021</td><td style=\"text-align: right;\">    -0.127261 </td><td style=\"text-align: right;\">     0.194076 </td><td style=\"text-align: right;\">     0.16129  </td><td style=\"text-align: right;\">     0.179576 </td><td style=\"text-align: right;\">    0.190028  </td><td style=\"text-align: right;\">    -0.0386067</td><td style=\"text-align: right;\">    -0.0439353</td><td style=\"text-align: right;\">     0.0240773</td><td style=\"text-align: right;\">     0.0312015</td><td style=\"text-align: right;\">  -0.0031151  </td><td style=\"text-align: right;\">    -0.0778423</td><td style=\"text-align: right;\">   -0.0525562 </td><td style=\"text-align: right;\">     0.169536 </td><td style=\"text-align: right;\">     0.161655 </td><td style=\"text-align: right;\">     0.146355 </td><td style=\"text-align: right;\">    0.0325414 </td><td style=\"text-align: right;\">    0.0568222 </td><td style=\"text-align: right;\">   -0.0780419 </td><td style=\"text-align: right;\">     0.143761 </td><td style=\"text-align: right;\">   -0.185585  </td><td style=\"text-align: right;\">    -0.073738 </td><td style=\"text-align: right;\">     0.0984877</td><td style=\"text-align: right;\">    -0.0590483</td><td style=\"text-align: right;\">   -0.00892323</td><td style=\"text-align: right;\">       0.171943</td></tr>\n",
              "<tr><td style=\"text-align: right;\">   0.0714365 </td><td style=\"text-align: right;\">    0.182572 </td><td style=\"text-align: right;\">    0.41233  </td><td style=\"text-align: right;\">   0.230115  </td><td style=\"text-align: right;\">   -0.0735216</td><td style=\"text-align: right;\">   -0.092819 </td><td style=\"text-align: right;\">   -0.0741937</td><td style=\"text-align: right;\">   0.308591  </td><td style=\"text-align: right;\">    0.219339 </td><td style=\"text-align: right;\">    -0.31032  </td><td style=\"text-align: right;\">   -0.00599692</td><td style=\"text-align: right;\">    -0.0984765</td><td style=\"text-align: right;\">    0.0930874 </td><td style=\"text-align: right;\">     0.136864 </td><td style=\"text-align: right;\">    -0.459375 </td><td style=\"text-align: right;\">    -0.0603706</td><td style=\"text-align: right;\">     0.077722 </td><td style=\"text-align: right;\">    0.0121323 </td><td style=\"text-align: right;\">    0.195221  </td><td style=\"text-align: right;\">    -0.0572991</td><td style=\"text-align: right;\">     -0.130274</td><td style=\"text-align: right;\">    -0.0224831</td><td style=\"text-align: right;\">    -0.114027 </td><td style=\"text-align: right;\">   -0.37861   </td><td style=\"text-align: right;\">     0.592124 </td><td style=\"text-align: right;\">    -0.0532035</td><td style=\"text-align: right;\">     0.215962 </td><td style=\"text-align: right;\">    0.0432369 </td><td style=\"text-align: right;\">    -0.215131 </td><td style=\"text-align: right;\">   -0.0784469 </td><td style=\"text-align: right;\">    -0.156573 </td><td style=\"text-align: right;\">    -0.0074947</td><td style=\"text-align: right;\">    0.00578068</td><td style=\"text-align: right;\">     0.11593  </td><td style=\"text-align: right;\">    -0.209615 </td><td style=\"text-align: right;\">    -0.0300841</td><td style=\"text-align: right;\">    -0.160645 </td><td style=\"text-align: right;\">     0.0812134</td><td style=\"text-align: right;\">     0.170458 </td><td style=\"text-align: right;\">    -0.112399 </td><td style=\"text-align: right;\">     0.102964 </td><td style=\"text-align: right;\">     0.137193 </td><td style=\"text-align: right;\">    -0.172501 </td><td style=\"text-align: right;\">     0.12631  </td><td style=\"text-align: right;\">   -0.0573614 </td><td style=\"text-align: right;\">   -0.28164   </td><td style=\"text-align: right;\">    0.0359168 </td><td style=\"text-align: right;\">   -0.0274511 </td><td style=\"text-align: right;\">     0.045377 </td><td style=\"text-align: right;\">     0.0422419</td><td style=\"text-align: right;\">     0.424188 </td><td style=\"text-align: right;\">     0.218588 </td><td style=\"text-align: right;\">    -0.453768 </td><td style=\"text-align: right;\">    -0.388977 </td><td style=\"text-align: right;\">     0.204128 </td><td style=\"text-align: right;\">    0.118952  </td><td style=\"text-align: right;\">   -0.0984847 </td><td style=\"text-align: right;\">    0.0671398 </td><td style=\"text-align: right;\">    -0.0934103</td><td style=\"text-align: right;\">    0.0683246 </td><td style=\"text-align: right;\">   -0.335171  </td><td style=\"text-align: right;\">     0.19878  </td><td style=\"text-align: right;\">   -0.161185  </td><td style=\"text-align: right;\">    -0.0923299</td><td style=\"text-align: right;\">     0.0411946</td><td style=\"text-align: right;\">     0.0588806</td><td style=\"text-align: right;\">    0.0895604 </td><td style=\"text-align: right;\">    0.0452975 </td><td style=\"text-align: right;\">    -0.0126785</td><td style=\"text-align: right;\">     0.0949267</td><td style=\"text-align: right;\">     0.019431 </td><td style=\"text-align: right;\">    0.148627  </td><td style=\"text-align: right;\">   -0.0536344 </td><td style=\"text-align: right;\">    0.00417052</td><td style=\"text-align: right;\">    -0.156406 </td><td style=\"text-align: right;\">     0.0613277</td><td style=\"text-align: right;\">     0.22376  </td><td style=\"text-align: right;\">     0.141264 </td><td style=\"text-align: right;\">     0.358658 </td><td style=\"text-align: right;\">   -0.0149128 </td><td style=\"text-align: right;\">    -0.332176 </td><td style=\"text-align: right;\">     0.193292 </td><td style=\"text-align: right;\">     0.263342 </td><td style=\"text-align: right;\">     0.0571465</td><td style=\"text-align: right;\">  -0.000483949</td><td style=\"text-align: right;\">     0.292646 </td><td style=\"text-align: right;\">   -0.116292  </td><td style=\"text-align: right;\">     0.165958 </td><td style=\"text-align: right;\">     0.16572  </td><td style=\"text-align: right;\">     0.27662  </td><td style=\"text-align: right;\">   -0.0250672 </td><td style=\"text-align: right;\">   -0.191416  </td><td style=\"text-align: right;\">    0.00498435</td><td style=\"text-align: right;\">    -0.166316 </td><td style=\"text-align: right;\">    0.288502  </td><td style=\"text-align: right;\">    -0.143356 </td><td style=\"text-align: right;\">    -0.0599361</td><td style=\"text-align: right;\">     0.133269 </td><td style=\"text-align: right;\">    0.182011  </td><td style=\"text-align: right;\">       0.210165</td></tr>\n",
              "<tr><td style=\"text-align: right;\">  -0.1813    </td><td style=\"text-align: right;\">   -0.0417225</td><td style=\"text-align: right;\">   -0.151389 </td><td style=\"text-align: right;\">  -0.00485583</td><td style=\"text-align: right;\">    0.0596708</td><td style=\"text-align: right;\">   -0.355674 </td><td style=\"text-align: right;\">    0.314269 </td><td style=\"text-align: right;\">   0.130408  </td><td style=\"text-align: right;\">    0.359678 </td><td style=\"text-align: right;\">     0.350005 </td><td style=\"text-align: right;\">   -0.0636425 </td><td style=\"text-align: right;\">    -0.0565866</td><td style=\"text-align: right;\">    0.23153   </td><td style=\"text-align: right;\">    -0.3693   </td><td style=\"text-align: right;\">    -0.196129 </td><td style=\"text-align: right;\">     0.348119 </td><td style=\"text-align: right;\">     0.591403 </td><td style=\"text-align: right;\">    0.190146  </td><td style=\"text-align: right;\">   -0.273591  </td><td style=\"text-align: right;\">     0.135959 </td><td style=\"text-align: right;\">      0.357416</td><td style=\"text-align: right;\">     0.197171 </td><td style=\"text-align: right;\">    -0.0433207</td><td style=\"text-align: right;\">   -0.201948  </td><td style=\"text-align: right;\">     0.281792 </td><td style=\"text-align: right;\">    -0.213083 </td><td style=\"text-align: right;\">    -0.430371 </td><td style=\"text-align: right;\">    0.0404448 </td><td style=\"text-align: right;\">    -0.195883 </td><td style=\"text-align: right;\">   -0.0734425 </td><td style=\"text-align: right;\">    -0.443158 </td><td style=\"text-align: right;\">     0.300444 </td><td style=\"text-align: right;\">   -0.25834   </td><td style=\"text-align: right;\">    -0.0842111</td><td style=\"text-align: right;\">     0.354645 </td><td style=\"text-align: right;\">     0.0464658</td><td style=\"text-align: right;\">    -0.32057  </td><td style=\"text-align: right;\">    -0.161311 </td><td style=\"text-align: right;\">     0.0157703</td><td style=\"text-align: right;\">     0.579805 </td><td style=\"text-align: right;\">    -0.312132 </td><td style=\"text-align: right;\">    -0.191183 </td><td style=\"text-align: right;\">     0.340837 </td><td style=\"text-align: right;\">     0.25412  </td><td style=\"text-align: right;\">    0.0537844 </td><td style=\"text-align: right;\">   -0.132027  </td><td style=\"text-align: right;\">    0.0271549 </td><td style=\"text-align: right;\">   -0.0342314 </td><td style=\"text-align: right;\">     0.15792  </td><td style=\"text-align: right;\">    -0.11695  </td><td style=\"text-align: right;\">     0.384711 </td><td style=\"text-align: right;\">    -0.141921 </td><td style=\"text-align: right;\">     0.149133 </td><td style=\"text-align: right;\">    -0.142466 </td><td style=\"text-align: right;\">     0.385691 </td><td style=\"text-align: right;\">    0.00942607</td><td style=\"text-align: right;\">   -0.0209985 </td><td style=\"text-align: right;\">    0.14884   </td><td style=\"text-align: right;\">    -0.174637 </td><td style=\"text-align: right;\">   -0.211501  </td><td style=\"text-align: right;\">   -0.199246  </td><td style=\"text-align: right;\">     0.208313 </td><td style=\"text-align: right;\">    0.12177   </td><td style=\"text-align: right;\">     0.155241 </td><td style=\"text-align: right;\">    -0.0241286</td><td style=\"text-align: right;\">     0.137202 </td><td style=\"text-align: right;\">   -0.346798  </td><td style=\"text-align: right;\">    0.278314  </td><td style=\"text-align: right;\">    -0.146034 </td><td style=\"text-align: right;\">    -0.544789 </td><td style=\"text-align: right;\">    -0.01535  </td><td style=\"text-align: right;\">   -0.12899   </td><td style=\"text-align: right;\">   -0.178165  </td><td style=\"text-align: right;\">   -0.540607  </td><td style=\"text-align: right;\">    -0.158673 </td><td style=\"text-align: right;\">     0.313899 </td><td style=\"text-align: right;\">     0.102129 </td><td style=\"text-align: right;\">     0.341033 </td><td style=\"text-align: right;\">    -0.15149  </td><td style=\"text-align: right;\">   -0.153783  </td><td style=\"text-align: right;\">     0.219196 </td><td style=\"text-align: right;\">    -0.433856 </td><td style=\"text-align: right;\">    -0.255537 </td><td style=\"text-align: right;\">     0.406226 </td><td style=\"text-align: right;\">   0.0906233  </td><td style=\"text-align: right;\">     0.246181 </td><td style=\"text-align: right;\">   -0.13868   </td><td style=\"text-align: right;\">    -0.446702 </td><td style=\"text-align: right;\">     0.0797004</td><td style=\"text-align: right;\">     0.296206 </td><td style=\"text-align: right;\">    0.0371944 </td><td style=\"text-align: right;\">   -0.322683  </td><td style=\"text-align: right;\">    0.34228   </td><td style=\"text-align: right;\">    -0.144249 </td><td style=\"text-align: right;\">   -0.360346  </td><td style=\"text-align: right;\">     0.0671969</td><td style=\"text-align: right;\">    -0.0102177</td><td style=\"text-align: right;\">    -0.313841 </td><td style=\"text-align: right;\">   -0.476467  </td><td style=\"text-align: right;\">       0.361602</td></tr>\n",
              "<tr><td style=\"text-align: right;\">  -0.22597   </td><td style=\"text-align: right;\">    0.388985 </td><td style=\"text-align: right;\">    0.100361 </td><td style=\"text-align: right;\">  -0.154843  </td><td style=\"text-align: right;\">   -0.124671 </td><td style=\"text-align: right;\">   -0.312871 </td><td style=\"text-align: right;\">   -0.40344  </td><td style=\"text-align: right;\">   0.0234986 </td><td style=\"text-align: right;\">   -0.0225536</td><td style=\"text-align: right;\">     0.256565 </td><td style=\"text-align: right;\">   -0.228686  </td><td style=\"text-align: right;\">    -0.327306 </td><td style=\"text-align: right;\">    0.00797798</td><td style=\"text-align: right;\">     0.181315 </td><td style=\"text-align: right;\">    -0.0472116</td><td style=\"text-align: right;\">     0.0935651</td><td style=\"text-align: right;\">     0.0287056</td><td style=\"text-align: right;\">   -0.20349   </td><td style=\"text-align: right;\">   -0.115414  </td><td style=\"text-align: right;\">    -0.255576 </td><td style=\"text-align: right;\">      0.205593</td><td style=\"text-align: right;\">    -0.0885836</td><td style=\"text-align: right;\">     0.330519 </td><td style=\"text-align: right;\">   -0.110947  </td><td style=\"text-align: right;\">    -0.139802 </td><td style=\"text-align: right;\">     0.0112971</td><td style=\"text-align: right;\">     0.316682 </td><td style=\"text-align: right;\">    0.0904279 </td><td style=\"text-align: right;\">    -0.184272 </td><td style=\"text-align: right;\">    0.237057  </td><td style=\"text-align: right;\">    -0.322164 </td><td style=\"text-align: right;\">     0.293137 </td><td style=\"text-align: right;\">   -0.200836  </td><td style=\"text-align: right;\">     0.0319204</td><td style=\"text-align: right;\">    -0.351028 </td><td style=\"text-align: right;\">    -0.259236 </td><td style=\"text-align: right;\">    -0.128009 </td><td style=\"text-align: right;\">    -0.0902381</td><td style=\"text-align: right;\">    -0.0361599</td><td style=\"text-align: right;\">     0.148015 </td><td style=\"text-align: right;\">    -0.227691 </td><td style=\"text-align: right;\">     0.135895 </td><td style=\"text-align: right;\">    -0.0890563</td><td style=\"text-align: right;\">     0.224342 </td><td style=\"text-align: right;\">   -0.117078  </td><td style=\"text-align: right;\">    0.0589153 </td><td style=\"text-align: right;\">    0.0659901 </td><td style=\"text-align: right;\">   -0.183656  </td><td style=\"text-align: right;\">     0.255393 </td><td style=\"text-align: right;\">     0.186655 </td><td style=\"text-align: right;\">     0.0537541</td><td style=\"text-align: right;\">     0.280853 </td><td style=\"text-align: right;\">     0.0300612</td><td style=\"text-align: right;\">    -0.348275 </td><td style=\"text-align: right;\">    -0.111506 </td><td style=\"text-align: right;\">   -0.259189  </td><td style=\"text-align: right;\">   -0.267848  </td><td style=\"text-align: right;\">   -0.137439  </td><td style=\"text-align: right;\">     0.0890714</td><td style=\"text-align: right;\">   -0.00777901</td><td style=\"text-align: right;\">   -0.0479119 </td><td style=\"text-align: right;\">     0.204942 </td><td style=\"text-align: right;\">    0.164264  </td><td style=\"text-align: right;\">    -0.0284578</td><td style=\"text-align: right;\">     0.0307532</td><td style=\"text-align: right;\">    -0.14047  </td><td style=\"text-align: right;\">   -0.0333728 </td><td style=\"text-align: right;\">   -0.101457  </td><td style=\"text-align: right;\">    -0.34383  </td><td style=\"text-align: right;\">    -0.227124 </td><td style=\"text-align: right;\">    -0.283705 </td><td style=\"text-align: right;\">    0.213748  </td><td style=\"text-align: right;\">    0.00234288</td><td style=\"text-align: right;\">    0.144059  </td><td style=\"text-align: right;\">     0.140639 </td><td style=\"text-align: right;\">    -0.0666682</td><td style=\"text-align: right;\">    -0.0187579</td><td style=\"text-align: right;\">     0.0207428</td><td style=\"text-align: right;\">     0.205991 </td><td style=\"text-align: right;\">    0.224246  </td><td style=\"text-align: right;\">    -0.0588791</td><td style=\"text-align: right;\">     0.293047 </td><td style=\"text-align: right;\">     0.244084 </td><td style=\"text-align: right;\">     0.112676 </td><td style=\"text-align: right;\">  -0.113849   </td><td style=\"text-align: right;\">    -0.0652369</td><td style=\"text-align: right;\">   -0.223902  </td><td style=\"text-align: right;\">     0.0221765</td><td style=\"text-align: right;\">    -0.139073 </td><td style=\"text-align: right;\">     0.0120526</td><td style=\"text-align: right;\">    0.0635014 </td><td style=\"text-align: right;\">    0.114099  </td><td style=\"text-align: right;\">   -0.0944966 </td><td style=\"text-align: right;\">    -0.267687 </td><td style=\"text-align: right;\">   -0.0654065 </td><td style=\"text-align: right;\">     0.0260386</td><td style=\"text-align: right;\">    -0.152117 </td><td style=\"text-align: right;\">     0.203411 </td><td style=\"text-align: right;\">    0.0668062 </td><td style=\"text-align: right;\">       0.18216 </td></tr>\n",
              "<tr><td style=\"text-align: right;\">   0.0289875 </td><td style=\"text-align: right;\">    0.0757398</td><td style=\"text-align: right;\">    0.212502 </td><td style=\"text-align: right;\">  -0.0583624 </td><td style=\"text-align: right;\">   -0.0149073</td><td style=\"text-align: right;\">   -0.159584 </td><td style=\"text-align: right;\">    0.0637899</td><td style=\"text-align: right;\">  -0.0596585 </td><td style=\"text-align: right;\">   -0.0705566</td><td style=\"text-align: right;\">    -0.186869 </td><td style=\"text-align: right;\">   -0.115627  </td><td style=\"text-align: right;\">     0.0096977</td><td style=\"text-align: right;\">   -0.0459929 </td><td style=\"text-align: right;\">     0.183853 </td><td style=\"text-align: right;\">    -0.101917 </td><td style=\"text-align: right;\">    -0.0557769</td><td style=\"text-align: right;\">    -0.0313808</td><td style=\"text-align: right;\">   -0.0487387 </td><td style=\"text-align: right;\">    0.0727693 </td><td style=\"text-align: right;\">     0.057171 </td><td style=\"text-align: right;\">      0.102531</td><td style=\"text-align: right;\">    -0.0404223</td><td style=\"text-align: right;\">    -0.0250793</td><td style=\"text-align: right;\">   -0.00258959</td><td style=\"text-align: right;\">     0.0618201</td><td style=\"text-align: right;\">    -0.23486  </td><td style=\"text-align: right;\">    -0.289419 </td><td style=\"text-align: right;\">   -0.0453558 </td><td style=\"text-align: right;\">    -0.185668 </td><td style=\"text-align: right;\">   -0.0462658 </td><td style=\"text-align: right;\">    -0.160837 </td><td style=\"text-align: right;\">    -0.0549551</td><td style=\"text-align: right;\">   -0.148824  </td><td style=\"text-align: right;\">    -0.0344675</td><td style=\"text-align: right;\">    -0.0314008</td><td style=\"text-align: right;\">    -0.162526 </td><td style=\"text-align: right;\">    -0.197089 </td><td style=\"text-align: right;\">    -0.0544698</td><td style=\"text-align: right;\">    -0.0184587</td><td style=\"text-align: right;\">     0.058937 </td><td style=\"text-align: right;\">    -0.10011  </td><td style=\"text-align: right;\">    -0.0601801</td><td style=\"text-align: right;\">     0.0126618</td><td style=\"text-align: right;\">     0.0502607</td><td style=\"text-align: right;\">   -0.00797485</td><td style=\"text-align: right;\">    0.00575465</td><td style=\"text-align: right;\">   -0.00390662</td><td style=\"text-align: right;\">   -0.0725012 </td><td style=\"text-align: right;\">    -0.162829 </td><td style=\"text-align: right;\">    -0.253667 </td><td style=\"text-align: right;\">     0.158465 </td><td style=\"text-align: right;\">     0.0135834</td><td style=\"text-align: right;\">    -0.0740859</td><td style=\"text-align: right;\">    -0.0507644</td><td style=\"text-align: right;\">     0.0349286</td><td style=\"text-align: right;\">   -0.197178  </td><td style=\"text-align: right;\">    0.00686826</td><td style=\"text-align: right;\">    0.0931045 </td><td style=\"text-align: right;\">    -0.100609 </td><td style=\"text-align: right;\">   -0.203482  </td><td style=\"text-align: right;\">   -0.0546897 </td><td style=\"text-align: right;\">    -0.0979038</td><td style=\"text-align: right;\">   -0.0510867 </td><td style=\"text-align: right;\">     0.07827  </td><td style=\"text-align: right;\">     0.02747  </td><td style=\"text-align: right;\">     0.169591 </td><td style=\"text-align: right;\">    0.0497121 </td><td style=\"text-align: right;\">   -0.0397072 </td><td style=\"text-align: right;\">    -0.0900075</td><td style=\"text-align: right;\">    -0.114063 </td><td style=\"text-align: right;\">    -0.209527 </td><td style=\"text-align: right;\">   -0.0818802 </td><td style=\"text-align: right;\">   -0.163847  </td><td style=\"text-align: right;\">   -0.0189043 </td><td style=\"text-align: right;\">    -0.0632166</td><td style=\"text-align: right;\">    -0.0961844</td><td style=\"text-align: right;\">     0.0421804</td><td style=\"text-align: right;\">     0.0702492</td><td style=\"text-align: right;\">     0.126656 </td><td style=\"text-align: right;\">    0.00642083</td><td style=\"text-align: right;\">     0.0311592</td><td style=\"text-align: right;\">     0.130685 </td><td style=\"text-align: right;\">     0.0803238</td><td style=\"text-align: right;\">     0.0934248</td><td style=\"text-align: right;\">  -0.0559871  </td><td style=\"text-align: right;\">    -0.106162 </td><td style=\"text-align: right;\">    0.109575  </td><td style=\"text-align: right;\">    -0.0580274</td><td style=\"text-align: right;\">     0.235885 </td><td style=\"text-align: right;\">     0.0095137</td><td style=\"text-align: right;\">    0.0580601 </td><td style=\"text-align: right;\">   -0.0171218 </td><td style=\"text-align: right;\">   -0.0698692 </td><td style=\"text-align: right;\">    -0.0319305</td><td style=\"text-align: right;\">   -0.139067  </td><td style=\"text-align: right;\">    -0.0537678</td><td style=\"text-align: right;\">    -0.0248277</td><td style=\"text-align: right;\">    -0.0233462</td><td style=\"text-align: right;\">    0.160442  </td><td style=\"text-align: right;\">       0.359334</td></tr>\n",
              "</tbody>\n",
              "</table>"
            ]
          },
          "metadata": {
            "tags": []
          }
        },
        {
          "output_type": "execute_result",
          "data": {
            "text/plain": [
              ""
            ]
          },
          "metadata": {
            "tags": []
          },
          "execution_count": 50
        }
      ]
    },
    {
      "cell_type": "code",
      "metadata": {
        "id": "ciMb0TSQfds0",
        "colab_type": "code",
        "colab": {}
      },
      "source": [
        "h2o_df_ext = h2o_df_ext.cbind(headline_vecs)"
      ],
      "execution_count": 51,
      "outputs": []
    },
    {
      "cell_type": "code",
      "metadata": {
        "id": "FTCksfR3fknD",
        "colab_type": "code",
        "colab": {}
      },
      "source": [
        "h2o_train,h2o_valid = h2o_df_ext.split_frame(ratios=[.8])\n",
        "gbm_two_cols = H2OGradientBoostingEstimator(stopping_metric = \"AUC\", stopping_tolerance = 0.001,\n",
        "                                              stopping_rounds = 5, score_tree_interval = 10\n",
        "                                             )"
      ],
      "execution_count": 52,
      "outputs": []
    },
    {
      "cell_type": "code",
      "metadata": {
        "id": "9QUmoTF9fulS",
        "colab_type": "code",
        "colab": {
          "base_uri": "https://localhost:8080/",
          "height": 35
        },
        "outputId": "e5efe613-8603-4157-f85f-7a2b574da3fd"
      },
      "source": [
        "gbm_two_cols.train(x=headline_vecs.names+review_vecs.names, y='target', training_frame = h2o_train, validation_frame=h2o_valid)"
      ],
      "execution_count": 53,
      "outputs": [
        {
          "output_type": "stream",
          "text": [
            "gbm Model Build progress: |███████████████████████████████████████████████| 100%\n"
          ],
          "name": "stdout"
        }
      ]
    },
    {
      "cell_type": "code",
      "metadata": {
        "id": "dribi5PBf2Nu",
        "colab_type": "code",
        "colab": {
          "base_uri": "https://localhost:8080/",
          "height": 35
        },
        "outputId": "eb771f0a-7cf8-48e9-d301-8659844de8a8"
      },
      "source": [
        "print(\" Two Columns AUC: \" + str(round(gbm_two_cols.auc(valid = True), 3)))"
      ],
      "execution_count": 55,
      "outputs": [
        {
          "output_type": "stream",
          "text": [
            " Two Columns AUC: 0.919\n"
          ],
          "name": "stdout"
        }
      ]
    },
    {
      "cell_type": "code",
      "metadata": {
        "id": "WS1Bg39df8yf",
        "colab_type": "code",
        "colab": {
          "base_uri": "https://localhost:8080/",
          "height": 180
        },
        "outputId": "0e63e1eb-ce1f-4cde-9932-5ab59591d213"
      },
      "source": [
        "gbm_two_cols.confusion_matrix(valid=True)"
      ],
      "execution_count": 56,
      "outputs": [
        {
          "output_type": "stream",
          "text": [
            "\n",
            "Confusion Matrix (Act/Pred) for max f1 @ threshold = 0.5403767312006856: \n"
          ],
          "name": "stdout"
        },
        {
          "output_type": "display_data",
          "data": {
            "text/html": [
              "<div>\n",
              "<style scoped>\n",
              "    .dataframe tbody tr th:only-of-type {\n",
              "        vertical-align: middle;\n",
              "    }\n",
              "\n",
              "    .dataframe tbody tr th {\n",
              "        vertical-align: top;\n",
              "    }\n",
              "\n",
              "    .dataframe thead th {\n",
              "        text-align: right;\n",
              "    }\n",
              "</style>\n",
              "<table border=\"1\" class=\"dataframe\">\n",
              "  <thead>\n",
              "    <tr style=\"text-align: right;\">\n",
              "      <th></th>\n",
              "      <th></th>\n",
              "      <th>0</th>\n",
              "      <th>1</th>\n",
              "      <th>Error</th>\n",
              "      <th>Rate</th>\n",
              "    </tr>\n",
              "  </thead>\n",
              "  <tbody>\n",
              "    <tr>\n",
              "      <th>0</th>\n",
              "      <td>0</td>\n",
              "      <td>3092.0</td>\n",
              "      <td>1654.0</td>\n",
              "      <td>0.3485</td>\n",
              "      <td>(1654.0/4746.0)</td>\n",
              "    </tr>\n",
              "    <tr>\n",
              "      <th>1</th>\n",
              "      <td>1</td>\n",
              "      <td>675.0</td>\n",
              "      <td>11838.0</td>\n",
              "      <td>0.0539</td>\n",
              "      <td>(675.0/12513.0)</td>\n",
              "    </tr>\n",
              "    <tr>\n",
              "      <th>2</th>\n",
              "      <td>Total</td>\n",
              "      <td>3767.0</td>\n",
              "      <td>13492.0</td>\n",
              "      <td>0.1349</td>\n",
              "      <td>(2329.0/17259.0)</td>\n",
              "    </tr>\n",
              "  </tbody>\n",
              "</table>\n",
              "</div>"
            ],
            "text/plain": [
              "               0        1   Error               Rate\n",
              "0      0  3092.0   1654.0  0.3485    (1654.0/4746.0)\n",
              "1      1   675.0  11838.0  0.0539    (675.0/12513.0)\n",
              "2  Total  3767.0  13492.0  0.1349   (2329.0/17259.0)"
            ]
          },
          "metadata": {
            "tags": []
          }
        },
        {
          "output_type": "execute_result",
          "data": {
            "text/plain": [
              ""
            ]
          },
          "metadata": {
            "tags": []
          },
          "execution_count": 56
        }
      ]
    },
    {
      "cell_type": "code",
      "metadata": {
        "id": "5yp7rw6OgLuz",
        "colab_type": "code",
        "colab": {
          "base_uri": "https://localhost:8080/",
          "height": 362
        },
        "outputId": "d451bf6a-a4b0-4ccb-8c78-183ecffa9b69"
      },
      "source": [
        "gbm_two_cols.score_history()"
      ],
      "execution_count": 57,
      "outputs": [
        {
          "output_type": "execute_result",
          "data": {
            "text/html": [
              "<div>\n",
              "<style scoped>\n",
              "    .dataframe tbody tr th:only-of-type {\n",
              "        vertical-align: middle;\n",
              "    }\n",
              "\n",
              "    .dataframe tbody tr th {\n",
              "        vertical-align: top;\n",
              "    }\n",
              "\n",
              "    .dataframe thead th {\n",
              "        text-align: right;\n",
              "    }\n",
              "</style>\n",
              "<table border=\"1\" class=\"dataframe\">\n",
              "  <thead>\n",
              "    <tr style=\"text-align: right;\">\n",
              "      <th></th>\n",
              "      <th></th>\n",
              "      <th>timestamp</th>\n",
              "      <th>duration</th>\n",
              "      <th>number_of_trees</th>\n",
              "      <th>training_rmse</th>\n",
              "      <th>training_logloss</th>\n",
              "      <th>training_auc</th>\n",
              "      <th>training_pr_auc</th>\n",
              "      <th>training_lift</th>\n",
              "      <th>training_classification_error</th>\n",
              "      <th>validation_rmse</th>\n",
              "      <th>validation_logloss</th>\n",
              "      <th>validation_auc</th>\n",
              "      <th>validation_pr_auc</th>\n",
              "      <th>validation_lift</th>\n",
              "      <th>validation_classification_error</th>\n",
              "    </tr>\n",
              "  </thead>\n",
              "  <tbody>\n",
              "    <tr>\n",
              "      <th>0</th>\n",
              "      <td></td>\n",
              "      <td>2020-09-01 11:48:25</td>\n",
              "      <td>0.012 sec</td>\n",
              "      <td>0.0</td>\n",
              "      <td>0.444905</td>\n",
              "      <td>0.585075</td>\n",
              "      <td>0.500000</td>\n",
              "      <td>0.728166</td>\n",
              "      <td>1.000000</td>\n",
              "      <td>0.271834</td>\n",
              "      <td>0.446519</td>\n",
              "      <td>0.588181</td>\n",
              "      <td>0.500000</td>\n",
              "      <td>0.725013</td>\n",
              "      <td>1.000000</td>\n",
              "      <td>0.274987</td>\n",
              "    </tr>\n",
              "    <tr>\n",
              "      <th>1</th>\n",
              "      <td></td>\n",
              "      <td>2020-09-01 11:48:35</td>\n",
              "      <td>10.027 sec</td>\n",
              "      <td>10.0</td>\n",
              "      <td>0.367218</td>\n",
              "      <td>0.432364</td>\n",
              "      <td>0.893406</td>\n",
              "      <td>0.954506</td>\n",
              "      <td>1.371284</td>\n",
              "      <td>0.157562</td>\n",
              "      <td>0.372169</td>\n",
              "      <td>0.440855</td>\n",
              "      <td>0.882401</td>\n",
              "      <td>0.948953</td>\n",
              "      <td>1.379286</td>\n",
              "      <td>0.166927</td>\n",
              "    </tr>\n",
              "    <tr>\n",
              "      <th>2</th>\n",
              "      <td></td>\n",
              "      <td>2020-09-01 11:48:43</td>\n",
              "      <td>18.116 sec</td>\n",
              "      <td>20.0</td>\n",
              "      <td>0.336962</td>\n",
              "      <td>0.373389</td>\n",
              "      <td>0.911361</td>\n",
              "      <td>0.962595</td>\n",
              "      <td>1.369972</td>\n",
              "      <td>0.143273</td>\n",
              "      <td>0.344579</td>\n",
              "      <td>0.385881</td>\n",
              "      <td>0.898932</td>\n",
              "      <td>0.956727</td>\n",
              "      <td>1.379286</td>\n",
              "      <td>0.152732</td>\n",
              "    </tr>\n",
              "    <tr>\n",
              "      <th>3</th>\n",
              "      <td></td>\n",
              "      <td>2020-09-01 11:48:51</td>\n",
              "      <td>25.964 sec</td>\n",
              "      <td>30.0</td>\n",
              "      <td>0.319923</td>\n",
              "      <td>0.339626</td>\n",
              "      <td>0.922404</td>\n",
              "      <td>0.967419</td>\n",
              "      <td>1.371318</td>\n",
              "      <td>0.133101</td>\n",
              "      <td>0.330221</td>\n",
              "      <td>0.356066</td>\n",
              "      <td>0.908609</td>\n",
              "      <td>0.961094</td>\n",
              "      <td>1.379286</td>\n",
              "      <td>0.144794</td>\n",
              "    </tr>\n",
              "    <tr>\n",
              "      <th>4</th>\n",
              "      <td></td>\n",
              "      <td>2020-09-01 11:48:58</td>\n",
              "      <td>33.896 sec</td>\n",
              "      <td>40.0</td>\n",
              "      <td>0.308862</td>\n",
              "      <td>0.317598</td>\n",
              "      <td>0.929944</td>\n",
              "      <td>0.970789</td>\n",
              "      <td>1.373314</td>\n",
              "      <td>0.126379</td>\n",
              "      <td>0.321622</td>\n",
              "      <td>0.337831</td>\n",
              "      <td>0.914636</td>\n",
              "      <td>0.963829</td>\n",
              "      <td>1.379286</td>\n",
              "      <td>0.138305</td>\n",
              "    </tr>\n",
              "    <tr>\n",
              "      <th>5</th>\n",
              "      <td></td>\n",
              "      <td>2020-09-01 11:49:06</td>\n",
              "      <td>41.704 sec</td>\n",
              "      <td>50.0</td>\n",
              "      <td>0.300598</td>\n",
              "      <td>0.301505</td>\n",
              "      <td>0.935907</td>\n",
              "      <td>0.973458</td>\n",
              "      <td>1.373314</td>\n",
              "      <td>0.120325</td>\n",
              "      <td>0.315632</td>\n",
              "      <td>0.325165</td>\n",
              "      <td>0.919159</td>\n",
              "      <td>0.965851</td>\n",
              "      <td>1.379286</td>\n",
              "      <td>0.134944</td>\n",
              "    </tr>\n",
              "  </tbody>\n",
              "</table>\n",
              "</div>"
            ],
            "text/plain": [
              "               timestamp  ... validation_lift  validation_classification_error\n",
              "0    2020-09-01 11:48:25  ...        1.000000                         0.274987\n",
              "1    2020-09-01 11:48:35  ...        1.379286                         0.166927\n",
              "2    2020-09-01 11:48:43  ...        1.379286                         0.152732\n",
              "3    2020-09-01 11:48:51  ...        1.379286                         0.144794\n",
              "4    2020-09-01 11:48:58  ...        1.379286                         0.138305\n",
              "5    2020-09-01 11:49:06  ...        1.379286                         0.134944\n",
              "\n",
              "[6 rows x 16 columns]"
            ]
          },
          "metadata": {
            "tags": []
          },
          "execution_count": 57
        }
      ]
    },
    {
      "cell_type": "code",
      "metadata": {
        "id": "Sf7_pg-0gWun",
        "colab_type": "code",
        "colab": {
          "base_uri": "https://localhost:8080/",
          "height": 612
        },
        "outputId": "4bb246dc-a8fe-479a-c1cd-cbc5f9357958"
      },
      "source": [
        "gbm_two_cols.varimp_plot()"
      ],
      "execution_count": 58,
      "outputs": [
        {
          "output_type": "display_data",
          "data": {
            "image/png": "[encoded data removed]",
            "text/plain": [
              "<Figure size 1008x720 with 1 Axes>"
            ]
          },
          "metadata": {
            "tags": [],
            "needs_background": "light"
          }
        }
      ]
    },
    {
      "cell_type": "code",
      "metadata": {
        "id": "-c8utHx_akpg",
        "colab_type": "code",
        "colab": {}
      },
      "source": [
        "ntrees_opt = [100, 200, 250, 300]\n",
        "max_depth_opt = [6, 7, 8]\n",
        "learn_rate_opt = [0.01, 0.1]\n",
        "\n",
        "hyper_parameters = {\"ntrees\": ntrees_opt,\"max_depth\":max_depth_opt, \"learn_rate\":learn_rate_opt}\n",
        "search_criteria = {\"strategy\":\"RandomDiscrete\",\"max_models\":4}"
      ],
      "execution_count": 41,
      "outputs": []
    },
    {
      "cell_type": "code",
      "metadata": {
        "id": "q1A4M44Ba9SL",
        "colab_type": "code",
        "colab": {}
      },
      "source": [
        "from h2o.grid.grid_search import H2OGridSearch\n",
        "gs = H2OGridSearch(H2OGradientBoostingEstimator,hyper_params=hyper_parameters, search_criteria=search_criteria)"
      ],
      "execution_count": 59,
      "outputs": []
    },
    {
      "cell_type": "code",
      "metadata": {
        "id": "DEQESxxha-wN",
        "colab_type": "code",
        "colab": {
          "base_uri": "https://localhost:8080/",
          "height": 35
        },
        "outputId": "8b53b84d-8fe2-4f7d-b5d9-e37b9914b5fd"
      },
      "source": [
        "gs.train(x=review_vecs.names+headline_vecs.names, y='target', training_frame = h2o_train, validation_frame=h2o_valid)"
      ],
      "execution_count": 60,
      "outputs": [
        {
          "output_type": "stream",
          "text": [
            "gbm Grid Build progress: |████████████████████████████████████████████████| 100%\n"
          ],
          "name": "stdout"
        }
      ]
    },
    {
      "cell_type": "code",
      "metadata": {
        "id": "SSz_O9UXZfGF",
        "colab_type": "code",
        "colab": {
          "base_uri": "https://localhost:8080/",
          "height": 164
        },
        "outputId": "e4bb2c50-41ad-4c8f-c9b8-2954f20abb67"
      },
      "source": [
        "print(gs.get_grid(sort_by='auc', decreasing=True))"
      ],
      "execution_count": 61,
      "outputs": [
        {
          "output_type": "stream",
          "text": [
            "     ...                 auc\n",
            "0    ...  0.9388272269321996\n",
            "1    ...  0.9386107474774906\n",
            "2    ...   0.924302054982077\n",
            "3    ...  0.8944977880400085\n",
            "\n",
            "[4 rows x 6 columns]\n",
            "\n"
          ],
          "name": "stdout"
        }
      ]
    },
    {
      "cell_type": "markdown",
      "metadata": {
        "id": "wbT2m_AIeme5",
        "colab_type": "text"
      },
      "source": [
        "Maximum AUC score using our hyperparameter range resulted in 94%."
      ]
    },
    {
      "cell_type": "code",
      "metadata": {
        "id": "zLZnWf7knXtP",
        "colab_type": "code",
        "colab": {
          "base_uri": "https://localhost:8080/",
          "height": 1000
        },
        "outputId": "e6dcf20a-245c-4bdb-ce2d-2e196b0516f3"
      },
      "source": [
        "# Grab the top GBM model, chosen by validation AUC\n",
        "best_gbm = gs.models[0]\n",
        "print(best_gbm)"
      ],
      "execution_count": 67,
      "outputs": [
        {
          "output_type": "stream",
          "text": [
            "Model Details\n",
            "=============\n",
            "H2OGradientBoostingEstimator :  Gradient Boosting Machine\n",
            "Model Key:  Grid_GBM_py_389_sid_b439_model_python_1598957704201_325_model_2\n",
            "\n",
            "\n",
            "Model Summary: \n"
          ],
          "name": "stdout"
        },
        {
          "output_type": "display_data",
          "data": {
            "text/html": [
              "<div>\n",
              "<style scoped>\n",
              "    .dataframe tbody tr th:only-of-type {\n",
              "        vertical-align: middle;\n",
              "    }\n",
              "\n",
              "    .dataframe tbody tr th {\n",
              "        vertical-align: top;\n",
              "    }\n",
              "\n",
              "    .dataframe thead th {\n",
              "        text-align: right;\n",
              "    }\n",
              "</style>\n",
              "<table border=\"1\" class=\"dataframe\">\n",
              "  <thead>\n",
              "    <tr style=\"text-align: right;\">\n",
              "      <th></th>\n",
              "      <th></th>\n",
              "      <th>number_of_trees</th>\n",
              "      <th>number_of_internal_trees</th>\n",
              "      <th>model_size_in_bytes</th>\n",
              "      <th>min_depth</th>\n",
              "      <th>max_depth</th>\n",
              "      <th>mean_depth</th>\n",
              "      <th>min_leaves</th>\n",
              "      <th>max_leaves</th>\n",
              "      <th>mean_leaves</th>\n",
              "    </tr>\n",
              "  </thead>\n",
              "  <tbody>\n",
              "    <tr>\n",
              "      <th>0</th>\n",
              "      <td></td>\n",
              "      <td>200.0</td>\n",
              "      <td>200.0</td>\n",
              "      <td>159059.0</td>\n",
              "      <td>6.0</td>\n",
              "      <td>6.0</td>\n",
              "      <td>6.0</td>\n",
              "      <td>45.0</td>\n",
              "      <td>64.0</td>\n",
              "      <td>58.635</td>\n",
              "    </tr>\n",
              "  </tbody>\n",
              "</table>\n",
              "</div>"
            ],
            "text/plain": [
              "     number_of_trees  ...  max_leaves  mean_leaves\n",
              "0              200.0  ...        64.0       58.635\n",
              "\n",
              "[1 rows x 10 columns]"
            ]
          },
          "metadata": {
            "tags": []
          }
        },
        {
          "output_type": "stream",
          "text": [
            "\n",
            "\n",
            "ModelMetricsBinomial: gbm\n",
            "** Reported on train data. **\n",
            "\n",
            "MSE: 0.045413736895079354\n",
            "RMSE: 0.21310499031012708\n",
            "LogLoss: 0.16701256895298922\n",
            "Mean Per-Class Error: 0.06107120152481871\n",
            "AUC: 0.9845441426751224\n",
            "AUCPR: 0.9938369694895844\n",
            "Gini: 0.9690882853502447\n",
            "\n",
            "Confusion Matrix (Act/Pred) for max f1 @ threshold = 0.5901255526178099: \n"
          ],
          "name": "stdout"
        },
        {
          "output_type": "display_data",
          "data": {
            "text/html": [
              "<div>\n",
              "<style scoped>\n",
              "    .dataframe tbody tr th:only-of-type {\n",
              "        vertical-align: middle;\n",
              "    }\n",
              "\n",
              "    .dataframe tbody tr th {\n",
              "        vertical-align: top;\n",
              "    }\n",
              "\n",
              "    .dataframe thead th {\n",
              "        text-align: right;\n",
              "    }\n",
              "</style>\n",
              "<table border=\"1\" class=\"dataframe\">\n",
              "  <thead>\n",
              "    <tr style=\"text-align: right;\">\n",
              "      <th></th>\n",
              "      <th></th>\n",
              "      <th>0</th>\n",
              "      <th>1</th>\n",
              "      <th>Error</th>\n",
              "      <th>Rate</th>\n",
              "    </tr>\n",
              "  </thead>\n",
              "  <tbody>\n",
              "    <tr>\n",
              "      <th>0</th>\n",
              "      <td>0</td>\n",
              "      <td>16781.0</td>\n",
              "      <td>1900.0</td>\n",
              "      <td>0.1017</td>\n",
              "      <td>(1900.0/18681.0)</td>\n",
              "    </tr>\n",
              "    <tr>\n",
              "      <th>1</th>\n",
              "      <td>1</td>\n",
              "      <td>1694.0</td>\n",
              "      <td>48347.0</td>\n",
              "      <td>0.0339</td>\n",
              "      <td>(1694.0/50041.0)</td>\n",
              "    </tr>\n",
              "    <tr>\n",
              "      <th>2</th>\n",
              "      <td>Total</td>\n",
              "      <td>18475.0</td>\n",
              "      <td>50247.0</td>\n",
              "      <td>0.0523</td>\n",
              "      <td>(3594.0/68722.0)</td>\n",
              "    </tr>\n",
              "  </tbody>\n",
              "</table>\n",
              "</div>"
            ],
            "text/plain": [
              "                0        1   Error               Rate\n",
              "0      0  16781.0   1900.0  0.1017   (1900.0/18681.0)\n",
              "1      1   1694.0  48347.0  0.0339   (1694.0/50041.0)\n",
              "2  Total  18475.0  50247.0  0.0523   (3594.0/68722.0)"
            ]
          },
          "metadata": {
            "tags": []
          }
        },
        {
          "output_type": "stream",
          "text": [
            "\n",
            "Maximum Metrics: Maximum metrics at their respective thresholds\n"
          ],
          "name": "stdout"
        },
        {
          "output_type": "display_data",
          "data": {
            "text/html": [
              "<div>\n",
              "<style scoped>\n",
              "    .dataframe tbody tr th:only-of-type {\n",
              "        vertical-align: middle;\n",
              "    }\n",
              "\n",
              "    .dataframe tbody tr th {\n",
              "        vertical-align: top;\n",
              "    }\n",
              "\n",
              "    .dataframe thead th {\n",
              "        text-align: right;\n",
              "    }\n",
              "</style>\n",
              "<table border=\"1\" class=\"dataframe\">\n",
              "  <thead>\n",
              "    <tr style=\"text-align: right;\">\n",
              "      <th></th>\n",
              "      <th>metric</th>\n",
              "      <th>threshold</th>\n",
              "      <th>value</th>\n",
              "      <th>idx</th>\n",
              "    </tr>\n",
              "  </thead>\n",
              "  <tbody>\n",
              "    <tr>\n",
              "      <th>0</th>\n",
              "      <td>max f1</td>\n",
              "      <td>0.590126</td>\n",
              "      <td>0.964163</td>\n",
              "      <td>202.0</td>\n",
              "    </tr>\n",
              "    <tr>\n",
              "      <th>1</th>\n",
              "      <td>max f2</td>\n",
              "      <td>0.385543</td>\n",
              "      <td>0.975332</td>\n",
              "      <td>260.0</td>\n",
              "    </tr>\n",
              "    <tr>\n",
              "      <th>2</th>\n",
              "      <td>max f0point5</td>\n",
              "      <td>0.704810</td>\n",
              "      <td>0.968795</td>\n",
              "      <td>165.0</td>\n",
              "    </tr>\n",
              "    <tr>\n",
              "      <th>3</th>\n",
              "      <td>max accuracy</td>\n",
              "      <td>0.593359</td>\n",
              "      <td>0.947717</td>\n",
              "      <td>201.0</td>\n",
              "    </tr>\n",
              "    <tr>\n",
              "      <th>4</th>\n",
              "      <td>max precision</td>\n",
              "      <td>0.998046</td>\n",
              "      <td>1.000000</td>\n",
              "      <td>0.0</td>\n",
              "    </tr>\n",
              "    <tr>\n",
              "      <th>5</th>\n",
              "      <td>max recall</td>\n",
              "      <td>0.019593</td>\n",
              "      <td>1.000000</td>\n",
              "      <td>388.0</td>\n",
              "    </tr>\n",
              "    <tr>\n",
              "      <th>6</th>\n",
              "      <td>max specificity</td>\n",
              "      <td>0.998046</td>\n",
              "      <td>1.000000</td>\n",
              "      <td>0.0</td>\n",
              "    </tr>\n",
              "    <tr>\n",
              "      <th>7</th>\n",
              "      <td>max absolute_mcc</td>\n",
              "      <td>0.593359</td>\n",
              "      <td>0.867610</td>\n",
              "      <td>201.0</td>\n",
              "    </tr>\n",
              "    <tr>\n",
              "      <th>8</th>\n",
              "      <td>max min_per_class_accuracy</td>\n",
              "      <td>0.690005</td>\n",
              "      <td>0.938708</td>\n",
              "      <td>170.0</td>\n",
              "    </tr>\n",
              "    <tr>\n",
              "      <th>9</th>\n",
              "      <td>max mean_per_class_accuracy</td>\n",
              "      <td>0.684434</td>\n",
              "      <td>0.938929</td>\n",
              "      <td>172.0</td>\n",
              "    </tr>\n",
              "    <tr>\n",
              "      <th>10</th>\n",
              "      <td>max tns</td>\n",
              "      <td>0.998046</td>\n",
              "      <td>18681.000000</td>\n",
              "      <td>0.0</td>\n",
              "    </tr>\n",
              "    <tr>\n",
              "      <th>11</th>\n",
              "      <td>max fns</td>\n",
              "      <td>0.998046</td>\n",
              "      <td>48418.000000</td>\n",
              "      <td>0.0</td>\n",
              "    </tr>\n",
              "    <tr>\n",
              "      <th>12</th>\n",
              "      <td>max fps</td>\n",
              "      <td>0.001522</td>\n",
              "      <td>18681.000000</td>\n",
              "      <td>399.0</td>\n",
              "    </tr>\n",
              "    <tr>\n",
              "      <th>13</th>\n",
              "      <td>max tps</td>\n",
              "      <td>0.019593</td>\n",
              "      <td>50041.000000</td>\n",
              "      <td>388.0</td>\n",
              "    </tr>\n",
              "    <tr>\n",
              "      <th>14</th>\n",
              "      <td>max tnr</td>\n",
              "      <td>0.998046</td>\n",
              "      <td>1.000000</td>\n",
              "      <td>0.0</td>\n",
              "    </tr>\n",
              "    <tr>\n",
              "      <th>15</th>\n",
              "      <td>max fnr</td>\n",
              "      <td>0.998046</td>\n",
              "      <td>0.967567</td>\n",
              "      <td>0.0</td>\n",
              "    </tr>\n",
              "    <tr>\n",
              "      <th>16</th>\n",
              "      <td>max fpr</td>\n",
              "      <td>0.001522</td>\n",
              "      <td>1.000000</td>\n",
              "      <td>399.0</td>\n",
              "    </tr>\n",
              "    <tr>\n",
              "      <th>17</th>\n",
              "      <td>max tpr</td>\n",
              "      <td>0.019593</td>\n",
              "      <td>1.000000</td>\n",
              "      <td>388.0</td>\n",
              "    </tr>\n",
              "  </tbody>\n",
              "</table>\n",
              "</div>"
            ],
            "text/plain": [
              "                         metric  threshold         value    idx\n",
              "0                        max f1   0.590126      0.964163  202.0\n",
              "1                        max f2   0.385543      0.975332  260.0\n",
              "2                  max f0point5   0.704810      0.968795  165.0\n",
              "3                  max accuracy   0.593359      0.947717  201.0\n",
              "4                 max precision   0.998046      1.000000    0.0\n",
              "5                    max recall   0.019593      1.000000  388.0\n",
              "6               max specificity   0.998046      1.000000    0.0\n",
              "7              max absolute_mcc   0.593359      0.867610  201.0\n",
              "8    max min_per_class_accuracy   0.690005      0.938708  170.0\n",
              "9   max mean_per_class_accuracy   0.684434      0.938929  172.0\n",
              "10                      max tns   0.998046  18681.000000    0.0\n",
              "11                      max fns   0.998046  48418.000000    0.0\n",
              "12                      max fps   0.001522  18681.000000  399.0\n",
              "13                      max tps   0.019593  50041.000000  388.0\n",
              "14                      max tnr   0.998046      1.000000    0.0\n",
              "15                      max fnr   0.998046      0.967567    0.0\n",
              "16                      max fpr   0.001522      1.000000  399.0\n",
              "17                      max tpr   0.019593      1.000000  388.0"
            ]
          },
          "metadata": {
            "tags": []
          }
        },
        {
          "output_type": "stream",
          "text": [
            "\n",
            "Gains/Lift Table: Avg response rate: 72.82 %, avg score: 72.81 %\n"
          ],
          "name": "stdout"
        },
        {
          "output_type": "display_data",
          "data": {
            "text/html": [
              "<div>\n",
              "<style scoped>\n",
              "    .dataframe tbody tr th:only-of-type {\n",
              "        vertical-align: middle;\n",
              "    }\n",
              "\n",
              "    .dataframe tbody tr th {\n",
              "        vertical-align: top;\n",
              "    }\n",
              "\n",
              "    .dataframe thead th {\n",
              "        text-align: right;\n",
              "    }\n",
              "</style>\n",
              "<table border=\"1\" class=\"dataframe\">\n",
              "  <thead>\n",
              "    <tr style=\"text-align: right;\">\n",
              "      <th></th>\n",
              "      <th>group</th>\n",
              "      <th>cumulative_data_fraction</th>\n",
              "      <th>lower_threshold</th>\n",
              "      <th>lift</th>\n",
              "      <th>cumulative_lift</th>\n",
              "      <th>response_rate</th>\n",
              "      <th>score</th>\n",
              "      <th>cumulative_response_rate</th>\n",
              "      <th>cumulative_score</th>\n",
              "      <th>capture_rate</th>\n",
              "      <th>cumulative_capture_rate</th>\n",
              "      <th>gain</th>\n",
              "      <th>cumulative_gain</th>\n",
              "      <th>kolmogorov_smirnov</th>\n",
              "    </tr>\n",
              "  </thead>\n",
              "  <tbody>\n",
              "    <tr>\n",
              "      <th>0</th>\n",
              "      <td>1</td>\n",
              "      <td>0.010186</td>\n",
              "      <td>0.998127</td>\n",
              "      <td>1.373314</td>\n",
              "      <td>1.373314</td>\n",
              "      <td>1.000000</td>\n",
              "      <td>0.998345</td>\n",
              "      <td>1.000000</td>\n",
              "      <td>0.998345</td>\n",
              "      <td>0.013989</td>\n",
              "      <td>0.013989</td>\n",
              "      <td>37.331388</td>\n",
              "      <td>37.331388</td>\n",
              "      <td>0.013989</td>\n",
              "    </tr>\n",
              "    <tr>\n",
              "      <th>1</th>\n",
              "      <td>2</td>\n",
              "      <td>0.020095</td>\n",
              "      <td>0.997809</td>\n",
              "      <td>1.373314</td>\n",
              "      <td>1.373314</td>\n",
              "      <td>1.000000</td>\n",
              "      <td>0.997946</td>\n",
              "      <td>1.000000</td>\n",
              "      <td>0.998148</td>\n",
              "      <td>0.013609</td>\n",
              "      <td>0.027597</td>\n",
              "      <td>37.331388</td>\n",
              "      <td>37.331388</td>\n",
              "      <td>0.027597</td>\n",
              "    </tr>\n",
              "    <tr>\n",
              "      <th>2</th>\n",
              "      <td>3</td>\n",
              "      <td>0.032115</td>\n",
              "      <td>0.997441</td>\n",
              "      <td>1.373314</td>\n",
              "      <td>1.373314</td>\n",
              "      <td>1.000000</td>\n",
              "      <td>0.997598</td>\n",
              "      <td>1.000000</td>\n",
              "      <td>0.997942</td>\n",
              "      <td>0.016506</td>\n",
              "      <td>0.044104</td>\n",
              "      <td>37.331388</td>\n",
              "      <td>37.331388</td>\n",
              "      <td>0.044104</td>\n",
              "    </tr>\n",
              "    <tr>\n",
              "      <th>3</th>\n",
              "      <td>4</td>\n",
              "      <td>0.040220</td>\n",
              "      <td>0.997106</td>\n",
              "      <td>1.373314</td>\n",
              "      <td>1.373314</td>\n",
              "      <td>1.000000</td>\n",
              "      <td>0.997258</td>\n",
              "      <td>1.000000</td>\n",
              "      <td>0.997804</td>\n",
              "      <td>0.011131</td>\n",
              "      <td>0.055235</td>\n",
              "      <td>37.331388</td>\n",
              "      <td>37.331388</td>\n",
              "      <td>0.055235</td>\n",
              "    </tr>\n",
              "    <tr>\n",
              "      <th>4</th>\n",
              "      <td>5</td>\n",
              "      <td>0.050013</td>\n",
              "      <td>0.996686</td>\n",
              "      <td>1.373314</td>\n",
              "      <td>1.373314</td>\n",
              "      <td>1.000000</td>\n",
              "      <td>0.996899</td>\n",
              "      <td>1.000000</td>\n",
              "      <td>0.997627</td>\n",
              "      <td>0.013449</td>\n",
              "      <td>0.068684</td>\n",
              "      <td>37.331388</td>\n",
              "      <td>37.331388</td>\n",
              "      <td>0.068684</td>\n",
              "    </tr>\n",
              "    <tr>\n",
              "      <th>5</th>\n",
              "      <td>6</td>\n",
              "      <td>0.100012</td>\n",
              "      <td>0.994313</td>\n",
              "      <td>1.372914</td>\n",
              "      <td>1.373114</td>\n",
              "      <td>0.999709</td>\n",
              "      <td>0.995562</td>\n",
              "      <td>0.999855</td>\n",
              "      <td>0.996595</td>\n",
              "      <td>0.068644</td>\n",
              "      <td>0.137327</td>\n",
              "      <td>37.291420</td>\n",
              "      <td>37.311407</td>\n",
              "      <td>0.137274</td>\n",
              "    </tr>\n",
              "    <tr>\n",
              "      <th>6</th>\n",
              "      <td>7</td>\n",
              "      <td>0.150010</td>\n",
              "      <td>0.991105</td>\n",
              "      <td>1.372914</td>\n",
              "      <td>1.373047</td>\n",
              "      <td>0.999709</td>\n",
              "      <td>0.992766</td>\n",
              "      <td>0.999806</td>\n",
              "      <td>0.995319</td>\n",
              "      <td>0.068644</td>\n",
              "      <td>0.205971</td>\n",
              "      <td>37.291420</td>\n",
              "      <td>37.304745</td>\n",
              "      <td>0.205864</td>\n",
              "    </tr>\n",
              "    <tr>\n",
              "      <th>7</th>\n",
              "      <td>8</td>\n",
              "      <td>0.200009</td>\n",
              "      <td>0.986977</td>\n",
              "      <td>1.372115</td>\n",
              "      <td>1.372814</td>\n",
              "      <td>0.999127</td>\n",
              "      <td>0.989126</td>\n",
              "      <td>0.999636</td>\n",
              "      <td>0.993771</td>\n",
              "      <td>0.068604</td>\n",
              "      <td>0.274575</td>\n",
              "      <td>37.211483</td>\n",
              "      <td>37.281431</td>\n",
              "      <td>0.274307</td>\n",
              "    </tr>\n",
              "    <tr>\n",
              "      <th>8</th>\n",
              "      <td>9</td>\n",
              "      <td>0.300006</td>\n",
              "      <td>0.975500</td>\n",
              "      <td>1.371915</td>\n",
              "      <td>1.372515</td>\n",
              "      <td>0.998981</td>\n",
              "      <td>0.981671</td>\n",
              "      <td>0.999418</td>\n",
              "      <td>0.989738</td>\n",
              "      <td>0.137188</td>\n",
              "      <td>0.411762</td>\n",
              "      <td>37.191499</td>\n",
              "      <td>37.251455</td>\n",
              "      <td>0.411120</td>\n",
              "    </tr>\n",
              "    <tr>\n",
              "      <th>9</th>\n",
              "      <td>10</td>\n",
              "      <td>0.400003</td>\n",
              "      <td>0.956282</td>\n",
              "      <td>1.365320</td>\n",
              "      <td>1.370716</td>\n",
              "      <td>0.994179</td>\n",
              "      <td>0.966769</td>\n",
              "      <td>0.998108</td>\n",
              "      <td>0.983996</td>\n",
              "      <td>0.136528</td>\n",
              "      <td>0.548290</td>\n",
              "      <td>36.532020</td>\n",
              "      <td>37.071603</td>\n",
              "      <td>0.545507</td>\n",
              "    </tr>\n",
              "    <tr>\n",
              "      <th>10</th>\n",
              "      <td>11</td>\n",
              "      <td>0.500000</td>\n",
              "      <td>0.922964</td>\n",
              "      <td>1.360724</td>\n",
              "      <td>1.368718</td>\n",
              "      <td>0.990832</td>\n",
              "      <td>0.941332</td>\n",
              "      <td>0.996653</td>\n",
              "      <td>0.975463</td>\n",
              "      <td>0.136068</td>\n",
              "      <td>0.684359</td>\n",
              "      <td>36.072384</td>\n",
              "      <td>36.871765</td>\n",
              "      <td>0.678203</td>\n",
              "    </tr>\n",
              "    <tr>\n",
              "      <th>11</th>\n",
              "      <td>12</td>\n",
              "      <td>0.599997</td>\n",
              "      <td>0.857098</td>\n",
              "      <td>1.334145</td>\n",
              "      <td>1.362956</td>\n",
              "      <td>0.971478</td>\n",
              "      <td>0.894290</td>\n",
              "      <td>0.992457</td>\n",
              "      <td>0.961935</td>\n",
              "      <td>0.133411</td>\n",
              "      <td>0.817769</td>\n",
              "      <td>33.414486</td>\n",
              "      <td>36.295566</td>\n",
              "      <td>0.801121</td>\n",
              "    </tr>\n",
              "    <tr>\n",
              "      <th>12</th>\n",
              "      <td>13</td>\n",
              "      <td>0.699994</td>\n",
              "      <td>0.689047</td>\n",
              "      <td>1.208045</td>\n",
              "      <td>1.340826</td>\n",
              "      <td>0.879657</td>\n",
              "      <td>0.788369</td>\n",
              "      <td>0.976343</td>\n",
              "      <td>0.937140</td>\n",
              "      <td>0.120801</td>\n",
              "      <td>0.938570</td>\n",
              "      <td>20.804459</td>\n",
              "      <td>34.082597</td>\n",
              "      <td>0.877653</td>\n",
              "    </tr>\n",
              "    <tr>\n",
              "      <th>13</th>\n",
              "      <td>14</td>\n",
              "      <td>0.799991</td>\n",
              "      <td>0.322070</td>\n",
              "      <td>0.549366</td>\n",
              "      <td>1.241895</td>\n",
              "      <td>0.400029</td>\n",
              "      <td>0.511046</td>\n",
              "      <td>0.904305</td>\n",
              "      <td>0.883879</td>\n",
              "      <td>0.054935</td>\n",
              "      <td>0.993505</td>\n",
              "      <td>-45.063448</td>\n",
              "      <td>24.189521</td>\n",
              "      <td>0.711882</td>\n",
              "    </tr>\n",
              "    <tr>\n",
              "      <th>14</th>\n",
              "      <td>15</td>\n",
              "      <td>0.899988</td>\n",
              "      <td>0.075821</td>\n",
              "      <td>0.061551</td>\n",
              "      <td>1.110748</td>\n",
              "      <td>0.044820</td>\n",
              "      <td>0.181985</td>\n",
              "      <td>0.808809</td>\n",
              "      <td>0.805892</td>\n",
              "      <td>0.006155</td>\n",
              "      <td>0.999660</td>\n",
              "      <td>-93.844868</td>\n",
              "      <td>11.074801</td>\n",
              "      <td>0.366664</td>\n",
              "    </tr>\n",
              "    <tr>\n",
              "      <th>15</th>\n",
              "      <td>16</td>\n",
              "      <td>1.000000</td>\n",
              "      <td>0.000284</td>\n",
              "      <td>0.003397</td>\n",
              "      <td>1.000000</td>\n",
              "      <td>0.002473</td>\n",
              "      <td>0.028317</td>\n",
              "      <td>0.728166</td>\n",
              "      <td>0.728126</td>\n",
              "      <td>0.000340</td>\n",
              "      <td>1.000000</td>\n",
              "      <td>-99.660318</td>\n",
              "      <td>0.000000</td>\n",
              "      <td>0.000000</td>\n",
              "    </tr>\n",
              "  </tbody>\n",
              "</table>\n",
              "</div>"
            ],
            "text/plain": [
              "    group  cumulative_data_fraction  ...  cumulative_gain  kolmogorov_smirnov\n",
              "0       1                  0.010186  ...        37.331388            0.013989\n",
              "1       2                  0.020095  ...        37.331388            0.027597\n",
              "2       3                  0.032115  ...        37.331388            0.044104\n",
              "3       4                  0.040220  ...        37.331388            0.055235\n",
              "4       5                  0.050013  ...        37.331388            0.068684\n",
              "5       6                  0.100012  ...        37.311407            0.137274\n",
              "6       7                  0.150010  ...        37.304745            0.205864\n",
              "7       8                  0.200009  ...        37.281431            0.274307\n",
              "8       9                  0.300006  ...        37.251455            0.411120\n",
              "9      10                  0.400003  ...        37.071603            0.545507\n",
              "10     11                  0.500000  ...        36.871765            0.678203\n",
              "11     12                  0.599997  ...        36.295566            0.801121\n",
              "12     13                  0.699994  ...        34.082597            0.877653\n",
              "13     14                  0.799991  ...        24.189521            0.711882\n",
              "14     15                  0.899988  ...        11.074801            0.366664\n",
              "15     16                  1.000000  ...         0.000000            0.000000\n",
              "\n",
              "[16 rows x 14 columns]"
            ]
          },
          "metadata": {
            "tags": []
          }
        },
        {
          "output_type": "stream",
          "text": [
            "\n",
            "\n",
            "ModelMetricsBinomial: gbm\n",
            "** Reported on validation data. **\n",
            "\n",
            "MSE: 0.08352402480366504\n",
            "RMSE: 0.2890052331769531\n",
            "LogLoss: 0.2714556504026696\n",
            "Mean Per-Class Error: 0.14079281693688372\n",
            "AUC: 0.9388272269321996\n",
            "AUCPR: 0.9742607971865564\n",
            "Gini: 0.8776544538643991\n",
            "\n",
            "Confusion Matrix (Act/Pred) for max f1 @ threshold = 0.48550214455117363: \n"
          ],
          "name": "stdout"
        },
        {
          "output_type": "display_data",
          "data": {
            "text/html": [
              "<div>\n",
              "<style scoped>\n",
              "    .dataframe tbody tr th:only-of-type {\n",
              "        vertical-align: middle;\n",
              "    }\n",
              "\n",
              "    .dataframe tbody tr th {\n",
              "        vertical-align: top;\n",
              "    }\n",
              "\n",
              "    .dataframe thead th {\n",
              "        text-align: right;\n",
              "    }\n",
              "</style>\n",
              "<table border=\"1\" class=\"dataframe\">\n",
              "  <thead>\n",
              "    <tr style=\"text-align: right;\">\n",
              "      <th></th>\n",
              "      <th></th>\n",
              "      <th>0</th>\n",
              "      <th>1</th>\n",
              "      <th>Error</th>\n",
              "      <th>Rate</th>\n",
              "    </tr>\n",
              "  </thead>\n",
              "  <tbody>\n",
              "    <tr>\n",
              "      <th>0</th>\n",
              "      <td>0</td>\n",
              "      <td>3325.0</td>\n",
              "      <td>1421.0</td>\n",
              "      <td>0.2994</td>\n",
              "      <td>(1421.0/4746.0)</td>\n",
              "    </tr>\n",
              "    <tr>\n",
              "      <th>1</th>\n",
              "      <td>1</td>\n",
              "      <td>589.0</td>\n",
              "      <td>11924.0</td>\n",
              "      <td>0.0471</td>\n",
              "      <td>(589.0/12513.0)</td>\n",
              "    </tr>\n",
              "    <tr>\n",
              "      <th>2</th>\n",
              "      <td>Total</td>\n",
              "      <td>3914.0</td>\n",
              "      <td>13345.0</td>\n",
              "      <td>0.1165</td>\n",
              "      <td>(2010.0/17259.0)</td>\n",
              "    </tr>\n",
              "  </tbody>\n",
              "</table>\n",
              "</div>"
            ],
            "text/plain": [
              "               0        1   Error               Rate\n",
              "0      0  3325.0   1421.0  0.2994    (1421.0/4746.0)\n",
              "1      1   589.0  11924.0  0.0471    (589.0/12513.0)\n",
              "2  Total  3914.0  13345.0  0.1165   (2010.0/17259.0)"
            ]
          },
          "metadata": {
            "tags": []
          }
        },
        {
          "output_type": "stream",
          "text": [
            "\n",
            "Maximum Metrics: Maximum metrics at their respective thresholds\n"
          ],
          "name": "stdout"
        },
        {
          "output_type": "display_data",
          "data": {
            "text/html": [
              "<div>\n",
              "<style scoped>\n",
              "    .dataframe tbody tr th:only-of-type {\n",
              "        vertical-align: middle;\n",
              "    }\n",
              "\n",
              "    .dataframe tbody tr th {\n",
              "        vertical-align: top;\n",
              "    }\n",
              "\n",
              "    .dataframe thead th {\n",
              "        text-align: right;\n",
              "    }\n",
              "</style>\n",
              "<table border=\"1\" class=\"dataframe\">\n",
              "  <thead>\n",
              "    <tr style=\"text-align: right;\">\n",
              "      <th></th>\n",
              "      <th>metric</th>\n",
              "      <th>threshold</th>\n",
              "      <th>value</th>\n",
              "      <th>idx</th>\n",
              "    </tr>\n",
              "  </thead>\n",
              "  <tbody>\n",
              "    <tr>\n",
              "      <th>0</th>\n",
              "      <td>max f1</td>\n",
              "      <td>0.485502</td>\n",
              "      <td>0.922268</td>\n",
              "      <td>236.0</td>\n",
              "    </tr>\n",
              "    <tr>\n",
              "      <th>1</th>\n",
              "      <td>max f2</td>\n",
              "      <td>0.237258</td>\n",
              "      <td>0.956901</td>\n",
              "      <td>309.0</td>\n",
              "    </tr>\n",
              "    <tr>\n",
              "      <th>2</th>\n",
              "      <td>max f0point5</td>\n",
              "      <td>0.749172</td>\n",
              "      <td>0.923737</td>\n",
              "      <td>146.0</td>\n",
              "    </tr>\n",
              "    <tr>\n",
              "      <th>3</th>\n",
              "      <td>max accuracy</td>\n",
              "      <td>0.560868</td>\n",
              "      <td>0.884350</td>\n",
              "      <td>213.0</td>\n",
              "    </tr>\n",
              "    <tr>\n",
              "      <th>4</th>\n",
              "      <td>max precision</td>\n",
              "      <td>0.998160</td>\n",
              "      <td>1.000000</td>\n",
              "      <td>0.0</td>\n",
              "    </tr>\n",
              "    <tr>\n",
              "      <th>5</th>\n",
              "      <td>max recall</td>\n",
              "      <td>0.008742</td>\n",
              "      <td>1.000000</td>\n",
              "      <td>394.0</td>\n",
              "    </tr>\n",
              "    <tr>\n",
              "      <th>6</th>\n",
              "      <td>max specificity</td>\n",
              "      <td>0.998160</td>\n",
              "      <td>1.000000</td>\n",
              "      <td>0.0</td>\n",
              "    </tr>\n",
              "    <tr>\n",
              "      <th>7</th>\n",
              "      <td>max absolute_mcc</td>\n",
              "      <td>0.594501</td>\n",
              "      <td>0.704950</td>\n",
              "      <td>203.0</td>\n",
              "    </tr>\n",
              "    <tr>\n",
              "      <th>8</th>\n",
              "      <td>max min_per_class_accuracy</td>\n",
              "      <td>0.754597</td>\n",
              "      <td>0.858196</td>\n",
              "      <td>144.0</td>\n",
              "    </tr>\n",
              "    <tr>\n",
              "      <th>9</th>\n",
              "      <td>max mean_per_class_accuracy</td>\n",
              "      <td>0.749172</td>\n",
              "      <td>0.859207</td>\n",
              "      <td>146.0</td>\n",
              "    </tr>\n",
              "    <tr>\n",
              "      <th>10</th>\n",
              "      <td>max tns</td>\n",
              "      <td>0.998160</td>\n",
              "      <td>4746.000000</td>\n",
              "      <td>0.0</td>\n",
              "    </tr>\n",
              "    <tr>\n",
              "      <th>11</th>\n",
              "      <td>max fns</td>\n",
              "      <td>0.998160</td>\n",
              "      <td>12268.000000</td>\n",
              "      <td>0.0</td>\n",
              "    </tr>\n",
              "    <tr>\n",
              "      <th>12</th>\n",
              "      <td>max fps</td>\n",
              "      <td>0.001344</td>\n",
              "      <td>4746.000000</td>\n",
              "      <td>399.0</td>\n",
              "    </tr>\n",
              "    <tr>\n",
              "      <th>13</th>\n",
              "      <td>max tps</td>\n",
              "      <td>0.008742</td>\n",
              "      <td>12513.000000</td>\n",
              "      <td>394.0</td>\n",
              "    </tr>\n",
              "    <tr>\n",
              "      <th>14</th>\n",
              "      <td>max tnr</td>\n",
              "      <td>0.998160</td>\n",
              "      <td>1.000000</td>\n",
              "      <td>0.0</td>\n",
              "    </tr>\n",
              "    <tr>\n",
              "      <th>15</th>\n",
              "      <td>max fnr</td>\n",
              "      <td>0.998160</td>\n",
              "      <td>0.980420</td>\n",
              "      <td>0.0</td>\n",
              "    </tr>\n",
              "    <tr>\n",
              "      <th>16</th>\n",
              "      <td>max fpr</td>\n",
              "      <td>0.001344</td>\n",
              "      <td>1.000000</td>\n",
              "      <td>399.0</td>\n",
              "    </tr>\n",
              "    <tr>\n",
              "      <th>17</th>\n",
              "      <td>max tpr</td>\n",
              "      <td>0.008742</td>\n",
              "      <td>1.000000</td>\n",
              "      <td>394.0</td>\n",
              "    </tr>\n",
              "  </tbody>\n",
              "</table>\n",
              "</div>"
            ],
            "text/plain": [
              "                         metric  threshold         value    idx\n",
              "0                        max f1   0.485502      0.922268  236.0\n",
              "1                        max f2   0.237258      0.956901  309.0\n",
              "2                  max f0point5   0.749172      0.923737  146.0\n",
              "3                  max accuracy   0.560868      0.884350  213.0\n",
              "4                 max precision   0.998160      1.000000    0.0\n",
              "5                    max recall   0.008742      1.000000  394.0\n",
              "6               max specificity   0.998160      1.000000    0.0\n",
              "7              max absolute_mcc   0.594501      0.704950  203.0\n",
              "8    max min_per_class_accuracy   0.754597      0.858196  144.0\n",
              "9   max mean_per_class_accuracy   0.749172      0.859207  146.0\n",
              "10                      max tns   0.998160   4746.000000    0.0\n",
              "11                      max fns   0.998160  12268.000000    0.0\n",
              "12                      max fps   0.001344   4746.000000  399.0\n",
              "13                      max tps   0.008742  12513.000000  394.0\n",
              "14                      max tnr   0.998160      1.000000    0.0\n",
              "15                      max fnr   0.998160      0.980420    0.0\n",
              "16                      max fpr   0.001344      1.000000  399.0\n",
              "17                      max tpr   0.008742      1.000000  394.0"
            ]
          },
          "metadata": {
            "tags": []
          }
        },
        {
          "output_type": "stream",
          "text": [
            "\n",
            "Gains/Lift Table: Avg response rate: 72.50 %, avg score: 73.27 %\n"
          ],
          "name": "stdout"
        },
        {
          "output_type": "display_data",
          "data": {
            "text/html": [
              "<div>\n",
              "<style scoped>\n",
              "    .dataframe tbody tr th:only-of-type {\n",
              "        vertical-align: middle;\n",
              "    }\n",
              "\n",
              "    .dataframe tbody tr th {\n",
              "        vertical-align: top;\n",
              "    }\n",
              "\n",
              "    .dataframe thead th {\n",
              "        text-align: right;\n",
              "    }\n",
              "</style>\n",
              "<table border=\"1\" class=\"dataframe\">\n",
              "  <thead>\n",
              "    <tr style=\"text-align: right;\">\n",
              "      <th></th>\n",
              "      <th>group</th>\n",
              "      <th>cumulative_data_fraction</th>\n",
              "      <th>lower_threshold</th>\n",
              "      <th>lift</th>\n",
              "      <th>cumulative_lift</th>\n",
              "      <th>response_rate</th>\n",
              "      <th>score</th>\n",
              "      <th>cumulative_response_rate</th>\n",
              "      <th>cumulative_score</th>\n",
              "      <th>capture_rate</th>\n",
              "      <th>cumulative_capture_rate</th>\n",
              "      <th>gain</th>\n",
              "      <th>cumulative_gain</th>\n",
              "      <th>kolmogorov_smirnov</th>\n",
              "    </tr>\n",
              "  </thead>\n",
              "  <tbody>\n",
              "    <tr>\n",
              "      <th>0</th>\n",
              "      <td>1</td>\n",
              "      <td>0.010082</td>\n",
              "      <td>0.998042</td>\n",
              "      <td>1.379286</td>\n",
              "      <td>1.379286</td>\n",
              "      <td>1.000000</td>\n",
              "      <td>0.998316</td>\n",
              "      <td>1.000000</td>\n",
              "      <td>0.998316</td>\n",
              "      <td>0.013906</td>\n",
              "      <td>0.013906</td>\n",
              "      <td>37.928554</td>\n",
              "      <td>37.928554</td>\n",
              "      <td>0.013906</td>\n",
              "    </tr>\n",
              "    <tr>\n",
              "      <th>1</th>\n",
              "      <td>2</td>\n",
              "      <td>0.020511</td>\n",
              "      <td>0.997752</td>\n",
              "      <td>1.379286</td>\n",
              "      <td>1.379286</td>\n",
              "      <td>1.000000</td>\n",
              "      <td>0.997894</td>\n",
              "      <td>1.000000</td>\n",
              "      <td>0.998102</td>\n",
              "      <td>0.014385</td>\n",
              "      <td>0.028291</td>\n",
              "      <td>37.928554</td>\n",
              "      <td>37.928554</td>\n",
              "      <td>0.028291</td>\n",
              "    </tr>\n",
              "    <tr>\n",
              "      <th>2</th>\n",
              "      <td>3</td>\n",
              "      <td>0.030419</td>\n",
              "      <td>0.997441</td>\n",
              "      <td>1.379286</td>\n",
              "      <td>1.379286</td>\n",
              "      <td>1.000000</td>\n",
              "      <td>0.997568</td>\n",
              "      <td>1.000000</td>\n",
              "      <td>0.997928</td>\n",
              "      <td>0.013666</td>\n",
              "      <td>0.041956</td>\n",
              "      <td>37.928554</td>\n",
              "      <td>37.928554</td>\n",
              "      <td>0.041956</td>\n",
              "    </tr>\n",
              "    <tr>\n",
              "      <th>3</th>\n",
              "      <td>4</td>\n",
              "      <td>0.040037</td>\n",
              "      <td>0.997091</td>\n",
              "      <td>1.379286</td>\n",
              "      <td>1.379286</td>\n",
              "      <td>1.000000</td>\n",
              "      <td>0.997249</td>\n",
              "      <td>1.000000</td>\n",
              "      <td>0.997765</td>\n",
              "      <td>0.013266</td>\n",
              "      <td>0.055223</td>\n",
              "      <td>37.928554</td>\n",
              "      <td>37.928554</td>\n",
              "      <td>0.055223</td>\n",
              "    </tr>\n",
              "    <tr>\n",
              "      <th>4</th>\n",
              "      <td>5</td>\n",
              "      <td>0.050408</td>\n",
              "      <td>0.996626</td>\n",
              "      <td>1.379286</td>\n",
              "      <td>1.379286</td>\n",
              "      <td>1.000000</td>\n",
              "      <td>0.996849</td>\n",
              "      <td>1.000000</td>\n",
              "      <td>0.997576</td>\n",
              "      <td>0.014305</td>\n",
              "      <td>0.069528</td>\n",
              "      <td>37.928554</td>\n",
              "      <td>37.928554</td>\n",
              "      <td>0.069528</td>\n",
              "    </tr>\n",
              "    <tr>\n",
              "      <th>5</th>\n",
              "      <td>6</td>\n",
              "      <td>0.100006</td>\n",
              "      <td>0.993979</td>\n",
              "      <td>1.376063</td>\n",
              "      <td>1.377687</td>\n",
              "      <td>0.997664</td>\n",
              "      <td>0.995387</td>\n",
              "      <td>0.998841</td>\n",
              "      <td>0.996491</td>\n",
              "      <td>0.068249</td>\n",
              "      <td>0.137777</td>\n",
              "      <td>37.606291</td>\n",
              "      <td>37.768730</td>\n",
              "      <td>0.137355</td>\n",
              "    </tr>\n",
              "    <tr>\n",
              "      <th>6</th>\n",
              "      <td>7</td>\n",
              "      <td>0.150009</td>\n",
              "      <td>0.990799</td>\n",
              "      <td>1.376089</td>\n",
              "      <td>1.377155</td>\n",
              "      <td>0.997683</td>\n",
              "      <td>0.992507</td>\n",
              "      <td>0.998455</td>\n",
              "      <td>0.995163</td>\n",
              "      <td>0.068808</td>\n",
              "      <td>0.206585</td>\n",
              "      <td>37.608905</td>\n",
              "      <td>37.715455</td>\n",
              "      <td>0.205742</td>\n",
              "    </tr>\n",
              "    <tr>\n",
              "      <th>7</th>\n",
              "      <td>8</td>\n",
              "      <td>0.200012</td>\n",
              "      <td>0.986523</td>\n",
              "      <td>1.368098</td>\n",
              "      <td>1.374890</td>\n",
              "      <td>0.991889</td>\n",
              "      <td>0.988760</td>\n",
              "      <td>0.996813</td>\n",
              "      <td>0.993562</td>\n",
              "      <td>0.068409</td>\n",
              "      <td>0.274994</td>\n",
              "      <td>36.809783</td>\n",
              "      <td>37.489037</td>\n",
              "      <td>0.272676</td>\n",
              "    </tr>\n",
              "    <tr>\n",
              "      <th>8</th>\n",
              "      <td>9</td>\n",
              "      <td>0.300017</td>\n",
              "      <td>0.973337</td>\n",
              "      <td>1.362504</td>\n",
              "      <td>1.370762</td>\n",
              "      <td>0.987833</td>\n",
              "      <td>0.980537</td>\n",
              "      <td>0.993820</td>\n",
              "      <td>0.989220</td>\n",
              "      <td>0.136258</td>\n",
              "      <td>0.411252</td>\n",
              "      <td>36.250397</td>\n",
              "      <td>37.076157</td>\n",
              "      <td>0.404510</td>\n",
              "    </tr>\n",
              "    <tr>\n",
              "      <th>9</th>\n",
              "      <td>10</td>\n",
              "      <td>0.400023</td>\n",
              "      <td>0.951270</td>\n",
              "      <td>1.328142</td>\n",
              "      <td>1.360107</td>\n",
              "      <td>0.962920</td>\n",
              "      <td>0.963469</td>\n",
              "      <td>0.986095</td>\n",
              "      <td>0.982782</td>\n",
              "      <td>0.132822</td>\n",
              "      <td>0.544074</td>\n",
              "      <td>32.814170</td>\n",
              "      <td>36.010660</td>\n",
              "      <td>0.523847</td>\n",
              "    </tr>\n",
              "    <tr>\n",
              "      <th>10</th>\n",
              "      <td>11</td>\n",
              "      <td>0.500029</td>\n",
              "      <td>0.912717</td>\n",
              "      <td>1.294579</td>\n",
              "      <td>1.347001</td>\n",
              "      <td>0.938586</td>\n",
              "      <td>0.933544</td>\n",
              "      <td>0.976593</td>\n",
              "      <td>0.972935</td>\n",
              "      <td>0.129465</td>\n",
              "      <td>0.673540</td>\n",
              "      <td>29.457855</td>\n",
              "      <td>34.700099</td>\n",
              "      <td>0.630977</td>\n",
              "    </tr>\n",
              "    <tr>\n",
              "      <th>11</th>\n",
              "      <td>12</td>\n",
              "      <td>0.599977</td>\n",
              "      <td>0.834270</td>\n",
              "      <td>1.184187</td>\n",
              "      <td>1.319878</td>\n",
              "      <td>0.858551</td>\n",
              "      <td>0.879369</td>\n",
              "      <td>0.956929</td>\n",
              "      <td>0.957348</td>\n",
              "      <td>0.118357</td>\n",
              "      <td>0.791896</td>\n",
              "      <td>18.418660</td>\n",
              "      <td>31.987836</td>\n",
              "      <td>0.697923</td>\n",
              "    </tr>\n",
              "    <tr>\n",
              "      <th>12</th>\n",
              "      <td>13</td>\n",
              "      <td>0.699983</td>\n",
              "      <td>0.679794</td>\n",
              "      <td>1.034864</td>\n",
              "      <td>1.279159</td>\n",
              "      <td>0.750290</td>\n",
              "      <td>0.765876</td>\n",
              "      <td>0.927407</td>\n",
              "      <td>0.929993</td>\n",
              "      <td>0.103492</td>\n",
              "      <td>0.895389</td>\n",
              "      <td>3.486372</td>\n",
              "      <td>27.915861</td>\n",
              "      <td>0.710602</td>\n",
              "    </tr>\n",
              "    <tr>\n",
              "      <th>13</th>\n",
              "      <td>14</td>\n",
              "      <td>0.799988</td>\n",
              "      <td>0.398781</td>\n",
              "      <td>0.734394</td>\n",
              "      <td>1.211058</td>\n",
              "      <td>0.532445</td>\n",
              "      <td>0.549734</td>\n",
              "      <td>0.878033</td>\n",
              "      <td>0.882457</td>\n",
              "      <td>0.073444</td>\n",
              "      <td>0.968832</td>\n",
              "      <td>-26.560636</td>\n",
              "      <td>21.105806</td>\n",
              "      <td>0.614007</td>\n",
              "    </tr>\n",
              "    <tr>\n",
              "      <th>14</th>\n",
              "      <td>15</td>\n",
              "      <td>0.899994</td>\n",
              "      <td>0.095255</td>\n",
              "      <td>0.282889</td>\n",
              "      <td>1.107922</td>\n",
              "      <td>0.205098</td>\n",
              "      <td>0.235361</td>\n",
              "      <td>0.803258</td>\n",
              "      <td>0.810553</td>\n",
              "      <td>0.028291</td>\n",
              "      <td>0.997123</td>\n",
              "      <td>-71.711061</td>\n",
              "      <td>10.792157</td>\n",
              "      <td>0.353212</td>\n",
              "    </tr>\n",
              "    <tr>\n",
              "      <th>15</th>\n",
              "      <td>16</td>\n",
              "      <td>1.000000</td>\n",
              "      <td>0.000479</td>\n",
              "      <td>0.028768</td>\n",
              "      <td>1.000000</td>\n",
              "      <td>0.020857</td>\n",
              "      <td>0.032074</td>\n",
              "      <td>0.725013</td>\n",
              "      <td>0.732700</td>\n",
              "      <td>0.002877</td>\n",
              "      <td>1.000000</td>\n",
              "      <td>-97.123159</td>\n",
              "      <td>0.000000</td>\n",
              "      <td>0.000000</td>\n",
              "    </tr>\n",
              "  </tbody>\n",
              "</table>\n",
              "</div>"
            ],
            "text/plain": [
              "    group  cumulative_data_fraction  ...  cumulative_gain  kolmogorov_smirnov\n",
              "0       1                  0.010082  ...        37.928554            0.013906\n",
              "1       2                  0.020511  ...        37.928554            0.028291\n",
              "2       3                  0.030419  ...        37.928554            0.041956\n",
              "3       4                  0.040037  ...        37.928554            0.055223\n",
              "4       5                  0.050408  ...        37.928554            0.069528\n",
              "5       6                  0.100006  ...        37.768730            0.137355\n",
              "6       7                  0.150009  ...        37.715455            0.205742\n",
              "7       8                  0.200012  ...        37.489037            0.272676\n",
              "8       9                  0.300017  ...        37.076157            0.404510\n",
              "9      10                  0.400023  ...        36.010660            0.523847\n",
              "10     11                  0.500029  ...        34.700099            0.630977\n",
              "11     12                  0.599977  ...        31.987836            0.697923\n",
              "12     13                  0.699983  ...        27.915861            0.710602\n",
              "13     14                  0.799988  ...        21.105806            0.614007\n",
              "14     15                  0.899994  ...        10.792157            0.353212\n",
              "15     16                  1.000000  ...         0.000000            0.000000\n",
              "\n",
              "[16 rows x 14 columns]"
            ]
          },
          "metadata": {
            "tags": []
          }
        },
        {
          "output_type": "stream",
          "text": [
            "\n",
            "\n",
            "Scoring History: \n"
          ],
          "name": "stdout"
        },
        {
          "output_type": "display_data",
          "data": {
            "text/html": [
              "<div>\n",
              "<style scoped>\n",
              "    .dataframe tbody tr th:only-of-type {\n",
              "        vertical-align: middle;\n",
              "    }\n",
              "\n",
              "    .dataframe tbody tr th {\n",
              "        vertical-align: top;\n",
              "    }\n",
              "\n",
              "    .dataframe thead th {\n",
              "        text-align: right;\n",
              "    }\n",
              "</style>\n",
              "<table border=\"1\" class=\"dataframe\">\n",
              "  <thead>\n",
              "    <tr style=\"text-align: right;\">\n",
              "      <th></th>\n",
              "      <th></th>\n",
              "      <th>timestamp</th>\n",
              "      <th>duration</th>\n",
              "      <th>number_of_trees</th>\n",
              "      <th>training_rmse</th>\n",
              "      <th>training_logloss</th>\n",
              "      <th>training_auc</th>\n",
              "      <th>training_pr_auc</th>\n",
              "      <th>training_lift</th>\n",
              "      <th>training_classification_error</th>\n",
              "      <th>validation_rmse</th>\n",
              "      <th>validation_logloss</th>\n",
              "      <th>validation_auc</th>\n",
              "      <th>validation_pr_auc</th>\n",
              "      <th>validation_lift</th>\n",
              "      <th>validation_classification_error</th>\n",
              "    </tr>\n",
              "  </thead>\n",
              "  <tbody>\n",
              "    <tr>\n",
              "      <th>0</th>\n",
              "      <td></td>\n",
              "      <td>2020-09-01 11:55:40</td>\n",
              "      <td>1 min 35.072 sec</td>\n",
              "      <td>0.0</td>\n",
              "      <td>0.444905</td>\n",
              "      <td>0.585075</td>\n",
              "      <td>0.500000</td>\n",
              "      <td>0.728166</td>\n",
              "      <td>1.000000</td>\n",
              "      <td>0.271834</td>\n",
              "      <td>0.446519</td>\n",
              "      <td>0.588181</td>\n",
              "      <td>0.500000</td>\n",
              "      <td>0.725013</td>\n",
              "      <td>1.000000</td>\n",
              "      <td>0.274987</td>\n",
              "    </tr>\n",
              "    <tr>\n",
              "      <th>1</th>\n",
              "      <td></td>\n",
              "      <td>2020-09-01 11:55:41</td>\n",
              "      <td>1 min 36.222 sec</td>\n",
              "      <td>1.0</td>\n",
              "      <td>0.430678</td>\n",
              "      <td>0.554668</td>\n",
              "      <td>0.831678</td>\n",
              "      <td>0.921404</td>\n",
              "      <td>1.353337</td>\n",
              "      <td>0.188208</td>\n",
              "      <td>0.432779</td>\n",
              "      <td>0.558690</td>\n",
              "      <td>0.822749</td>\n",
              "      <td>0.915541</td>\n",
              "      <td>1.358801</td>\n",
              "      <td>0.195260</td>\n",
              "    </tr>\n",
              "    <tr>\n",
              "      <th>2</th>\n",
              "      <td></td>\n",
              "      <td>2020-09-01 11:55:42</td>\n",
              "      <td>1 min 37.129 sec</td>\n",
              "      <td>2.0</td>\n",
              "      <td>0.418469</td>\n",
              "      <td>0.530173</td>\n",
              "      <td>0.859607</td>\n",
              "      <td>0.937366</td>\n",
              "      <td>1.364183</td>\n",
              "      <td>0.176421</td>\n",
              "      <td>0.420995</td>\n",
              "      <td>0.534883</td>\n",
              "      <td>0.852156</td>\n",
              "      <td>0.933613</td>\n",
              "      <td>1.370649</td>\n",
              "      <td>0.183093</td>\n",
              "    </tr>\n",
              "    <tr>\n",
              "      <th>3</th>\n",
              "      <td></td>\n",
              "      <td>2020-09-01 11:55:43</td>\n",
              "      <td>1 min 38.113 sec</td>\n",
              "      <td>3.0</td>\n",
              "      <td>0.407832</td>\n",
              "      <td>0.509463</td>\n",
              "      <td>0.871962</td>\n",
              "      <td>0.944254</td>\n",
              "      <td>1.369775</td>\n",
              "      <td>0.171852</td>\n",
              "      <td>0.410785</td>\n",
              "      <td>0.514840</td>\n",
              "      <td>0.863741</td>\n",
              "      <td>0.940313</td>\n",
              "      <td>1.377265</td>\n",
              "      <td>0.177820</td>\n",
              "    </tr>\n",
              "    <tr>\n",
              "      <th>4</th>\n",
              "      <td></td>\n",
              "      <td>2020-09-01 11:55:48</td>\n",
              "      <td>1 min 42.713 sec</td>\n",
              "      <td>8.0</td>\n",
              "      <td>0.369094</td>\n",
              "      <td>0.436678</td>\n",
              "      <td>0.900474</td>\n",
              "      <td>0.957661</td>\n",
              "      <td>1.372521</td>\n",
              "      <td>0.150141</td>\n",
              "      <td>0.374520</td>\n",
              "      <td>0.445843</td>\n",
              "      <td>0.888882</td>\n",
              "      <td>0.952228</td>\n",
              "      <td>1.379286</td>\n",
              "      <td>0.163103</td>\n",
              "    </tr>\n",
              "    <tr>\n",
              "      <th>5</th>\n",
              "      <td></td>\n",
              "      <td>2020-09-01 11:55:52</td>\n",
              "      <td>1 min 47.132 sec</td>\n",
              "      <td>13.0</td>\n",
              "      <td>0.346110</td>\n",
              "      <td>0.393175</td>\n",
              "      <td>0.910912</td>\n",
              "      <td>0.962230</td>\n",
              "      <td>1.372047</td>\n",
              "      <td>0.141832</td>\n",
              "      <td>0.354392</td>\n",
              "      <td>0.406721</td>\n",
              "      <td>0.896054</td>\n",
              "      <td>0.955285</td>\n",
              "      <td>1.379286</td>\n",
              "      <td>0.158352</td>\n",
              "    </tr>\n",
              "    <tr>\n",
              "      <th>6</th>\n",
              "      <td></td>\n",
              "      <td>2020-09-01 11:55:57</td>\n",
              "      <td>1 min 51.582 sec</td>\n",
              "      <td>18.0</td>\n",
              "      <td>0.330018</td>\n",
              "      <td>0.362168</td>\n",
              "      <td>0.920457</td>\n",
              "      <td>0.966405</td>\n",
              "      <td>1.372015</td>\n",
              "      <td>0.134324</td>\n",
              "      <td>0.340605</td>\n",
              "      <td>0.379065</td>\n",
              "      <td>0.903984</td>\n",
              "      <td>0.958837</td>\n",
              "      <td>1.379286</td>\n",
              "      <td>0.150820</td>\n",
              "    </tr>\n",
              "    <tr>\n",
              "      <th>7</th>\n",
              "      <td></td>\n",
              "      <td>2020-09-01 11:56:01</td>\n",
              "      <td>1 min 55.942 sec</td>\n",
              "      <td>23.0</td>\n",
              "      <td>0.319006</td>\n",
              "      <td>0.340510</td>\n",
              "      <td>0.927538</td>\n",
              "      <td>0.969613</td>\n",
              "      <td>1.371380</td>\n",
              "      <td>0.128983</td>\n",
              "      <td>0.331637</td>\n",
              "      <td>0.360453</td>\n",
              "      <td>0.909727</td>\n",
              "      <td>0.961470</td>\n",
              "      <td>1.379286</td>\n",
              "      <td>0.144388</td>\n",
              "    </tr>\n",
              "    <tr>\n",
              "      <th>8</th>\n",
              "      <td></td>\n",
              "      <td>2020-09-01 11:56:06</td>\n",
              "      <td>2 min  0.322 sec</td>\n",
              "      <td>28.0</td>\n",
              "      <td>0.310349</td>\n",
              "      <td>0.323623</td>\n",
              "      <td>0.932881</td>\n",
              "      <td>0.971992</td>\n",
              "      <td>1.371338</td>\n",
              "      <td>0.122872</td>\n",
              "      <td>0.325179</td>\n",
              "      <td>0.346894</td>\n",
              "      <td>0.913712</td>\n",
              "      <td>0.963199</td>\n",
              "      <td>1.379286</td>\n",
              "      <td>0.142245</td>\n",
              "    </tr>\n",
              "    <tr>\n",
              "      <th>9</th>\n",
              "      <td></td>\n",
              "      <td>2020-09-01 11:56:10</td>\n",
              "      <td>2 min  4.662 sec</td>\n",
              "      <td>33.0</td>\n",
              "      <td>0.303160</td>\n",
              "      <td>0.309705</td>\n",
              "      <td>0.937198</td>\n",
              "      <td>0.973855</td>\n",
              "      <td>1.373314</td>\n",
              "      <td>0.118739</td>\n",
              "      <td>0.320229</td>\n",
              "      <td>0.336218</td>\n",
              "      <td>0.916709</td>\n",
              "      <td>0.964559</td>\n",
              "      <td>1.379286</td>\n",
              "      <td>0.137493</td>\n",
              "    </tr>\n",
              "    <tr>\n",
              "      <th>10</th>\n",
              "      <td></td>\n",
              "      <td>2020-09-01 11:56:14</td>\n",
              "      <td>2 min  9.058 sec</td>\n",
              "      <td>38.0</td>\n",
              "      <td>0.296865</td>\n",
              "      <td>0.297796</td>\n",
              "      <td>0.941205</td>\n",
              "      <td>0.975593</td>\n",
              "      <td>1.373314</td>\n",
              "      <td>0.112831</td>\n",
              "      <td>0.315835</td>\n",
              "      <td>0.327043</td>\n",
              "      <td>0.919887</td>\n",
              "      <td>0.965981</td>\n",
              "      <td>1.379286</td>\n",
              "      <td>0.134133</td>\n",
              "    </tr>\n",
              "    <tr>\n",
              "      <th>11</th>\n",
              "      <td></td>\n",
              "      <td>2020-09-01 11:56:19</td>\n",
              "      <td>2 min 13.632 sec</td>\n",
              "      <td>43.0</td>\n",
              "      <td>0.291484</td>\n",
              "      <td>0.287743</td>\n",
              "      <td>0.944743</td>\n",
              "      <td>0.977158</td>\n",
              "      <td>1.373314</td>\n",
              "      <td>0.109441</td>\n",
              "      <td>0.312740</td>\n",
              "      <td>0.320381</td>\n",
              "      <td>0.921899</td>\n",
              "      <td>0.966874</td>\n",
              "      <td>1.379286</td>\n",
              "      <td>0.132626</td>\n",
              "    </tr>\n",
              "    <tr>\n",
              "      <th>12</th>\n",
              "      <td></td>\n",
              "      <td>2020-09-01 11:56:23</td>\n",
              "      <td>2 min 17.963 sec</td>\n",
              "      <td>48.0</td>\n",
              "      <td>0.286823</td>\n",
              "      <td>0.279102</td>\n",
              "      <td>0.947747</td>\n",
              "      <td>0.978484</td>\n",
              "      <td>1.373314</td>\n",
              "      <td>0.105439</td>\n",
              "      <td>0.310363</td>\n",
              "      <td>0.315059</td>\n",
              "      <td>0.923502</td>\n",
              "      <td>0.967584</td>\n",
              "      <td>1.379286</td>\n",
              "      <td>0.130599</td>\n",
              "    </tr>\n",
              "    <tr>\n",
              "      <th>13</th>\n",
              "      <td></td>\n",
              "      <td>2020-09-01 11:56:28</td>\n",
              "      <td>2 min 22.312 sec</td>\n",
              "      <td>53.0</td>\n",
              "      <td>0.282500</td>\n",
              "      <td>0.271200</td>\n",
              "      <td>0.950535</td>\n",
              "      <td>0.979710</td>\n",
              "      <td>1.373314</td>\n",
              "      <td>0.102806</td>\n",
              "      <td>0.308091</td>\n",
              "      <td>0.310164</td>\n",
              "      <td>0.925032</td>\n",
              "      <td>0.968312</td>\n",
              "      <td>1.379286</td>\n",
              "      <td>0.130483</td>\n",
              "    </tr>\n",
              "    <tr>\n",
              "      <th>14</th>\n",
              "      <td></td>\n",
              "      <td>2020-09-01 11:56:32</td>\n",
              "      <td>2 min 26.749 sec</td>\n",
              "      <td>58.0</td>\n",
              "      <td>0.278251</td>\n",
              "      <td>0.263808</td>\n",
              "      <td>0.953243</td>\n",
              "      <td>0.980845</td>\n",
              "      <td>1.373314</td>\n",
              "      <td>0.099473</td>\n",
              "      <td>0.305883</td>\n",
              "      <td>0.305662</td>\n",
              "      <td>0.926727</td>\n",
              "      <td>0.969058</td>\n",
              "      <td>1.379286</td>\n",
              "      <td>0.127933</td>\n",
              "    </tr>\n",
              "    <tr>\n",
              "      <th>15</th>\n",
              "      <td></td>\n",
              "      <td>2020-09-01 11:56:36</td>\n",
              "      <td>2 min 31.084 sec</td>\n",
              "      <td>63.0</td>\n",
              "      <td>0.274487</td>\n",
              "      <td>0.257313</td>\n",
              "      <td>0.955650</td>\n",
              "      <td>0.981888</td>\n",
              "      <td>1.373314</td>\n",
              "      <td>0.096054</td>\n",
              "      <td>0.304133</td>\n",
              "      <td>0.301983</td>\n",
              "      <td>0.928067</td>\n",
              "      <td>0.969647</td>\n",
              "      <td>1.379286</td>\n",
              "      <td>0.127238</td>\n",
              "    </tr>\n",
              "    <tr>\n",
              "      <th>16</th>\n",
              "      <td></td>\n",
              "      <td>2020-09-01 11:56:41</td>\n",
              "      <td>2 min 35.510 sec</td>\n",
              "      <td>68.0</td>\n",
              "      <td>0.271034</td>\n",
              "      <td>0.251501</td>\n",
              "      <td>0.957776</td>\n",
              "      <td>0.982756</td>\n",
              "      <td>1.373314</td>\n",
              "      <td>0.094046</td>\n",
              "      <td>0.302648</td>\n",
              "      <td>0.298881</td>\n",
              "      <td>0.929175</td>\n",
              "      <td>0.970141</td>\n",
              "      <td>1.379286</td>\n",
              "      <td>0.125036</td>\n",
              "    </tr>\n",
              "    <tr>\n",
              "      <th>17</th>\n",
              "      <td></td>\n",
              "      <td>2020-09-01 11:56:45</td>\n",
              "      <td>2 min 39.913 sec</td>\n",
              "      <td>73.0</td>\n",
              "      <td>0.267754</td>\n",
              "      <td>0.245880</td>\n",
              "      <td>0.959744</td>\n",
              "      <td>0.983615</td>\n",
              "      <td>1.373314</td>\n",
              "      <td>0.091586</td>\n",
              "      <td>0.301419</td>\n",
              "      <td>0.296148</td>\n",
              "      <td>0.930092</td>\n",
              "      <td>0.970561</td>\n",
              "      <td>1.379286</td>\n",
              "      <td>0.125210</td>\n",
              "    </tr>\n",
              "    <tr>\n",
              "      <th>18</th>\n",
              "      <td></td>\n",
              "      <td>2020-09-01 11:56:49</td>\n",
              "      <td>2 min 44.261 sec</td>\n",
              "      <td>78.0</td>\n",
              "      <td>0.264736</td>\n",
              "      <td>0.240902</td>\n",
              "      <td>0.961484</td>\n",
              "      <td>0.984330</td>\n",
              "      <td>1.373314</td>\n",
              "      <td>0.089593</td>\n",
              "      <td>0.300269</td>\n",
              "      <td>0.293712</td>\n",
              "      <td>0.931033</td>\n",
              "      <td>0.970946</td>\n",
              "      <td>1.379286</td>\n",
              "      <td>0.123762</td>\n",
              "    </tr>\n",
              "    <tr>\n",
              "      <th>19</th>\n",
              "      <td></td>\n",
              "      <td>2020-09-01 11:56:54</td>\n",
              "      <td>2 min 48.657 sec</td>\n",
              "      <td>83.0</td>\n",
              "      <td>0.261837</td>\n",
              "      <td>0.236247</td>\n",
              "      <td>0.963127</td>\n",
              "      <td>0.985014</td>\n",
              "      <td>1.373314</td>\n",
              "      <td>0.087308</td>\n",
              "      <td>0.298995</td>\n",
              "      <td>0.291285</td>\n",
              "      <td>0.931981</td>\n",
              "      <td>0.971356</td>\n",
              "      <td>1.379286</td>\n",
              "      <td>0.123182</td>\n",
              "    </tr>\n",
              "  </tbody>\n",
              "</table>\n",
              "</div>"
            ],
            "text/plain": [
              "                timestamp  ... validation_lift  validation_classification_error\n",
              "0     2020-09-01 11:55:40  ...        1.000000                         0.274987\n",
              "1     2020-09-01 11:55:41  ...        1.358801                         0.195260\n",
              "2     2020-09-01 11:55:42  ...        1.370649                         0.183093\n",
              "3     2020-09-01 11:55:43  ...        1.377265                         0.177820\n",
              "4     2020-09-01 11:55:48  ...        1.379286                         0.163103\n",
              "5     2020-09-01 11:55:52  ...        1.379286                         0.158352\n",
              "6     2020-09-01 11:55:57  ...        1.379286                         0.150820\n",
              "7     2020-09-01 11:56:01  ...        1.379286                         0.144388\n",
              "8     2020-09-01 11:56:06  ...        1.379286                         0.142245\n",
              "9     2020-09-01 11:56:10  ...        1.379286                         0.137493\n",
              "10    2020-09-01 11:56:14  ...        1.379286                         0.134133\n",
              "11    2020-09-01 11:56:19  ...        1.379286                         0.132626\n",
              "12    2020-09-01 11:56:23  ...        1.379286                         0.130599\n",
              "13    2020-09-01 11:56:28  ...        1.379286                         0.130483\n",
              "14    2020-09-01 11:56:32  ...        1.379286                         0.127933\n",
              "15    2020-09-01 11:56:36  ...        1.379286                         0.127238\n",
              "16    2020-09-01 11:56:41  ...        1.379286                         0.125036\n",
              "17    2020-09-01 11:56:45  ...        1.379286                         0.125210\n",
              "18    2020-09-01 11:56:49  ...        1.379286                         0.123762\n",
              "19    2020-09-01 11:56:54  ...        1.379286                         0.123182\n",
              "\n",
              "[20 rows x 16 columns]"
            ]
          },
          "metadata": {
            "tags": []
          }
        },
        {
          "output_type": "stream",
          "text": [
            "\n",
            "See the whole table with table.as_data_frame()\n",
            "\n",
            "Variable Importances: \n"
          ],
          "name": "stdout"
        },
        {
          "output_type": "display_data",
          "data": {
            "text/html": [
              "<div>\n",
              "<style scoped>\n",
              "    .dataframe tbody tr th:only-of-type {\n",
              "        vertical-align: middle;\n",
              "    }\n",
              "\n",
              "    .dataframe tbody tr th {\n",
              "        vertical-align: top;\n",
              "    }\n",
              "\n",
              "    .dataframe thead th {\n",
              "        text-align: right;\n",
              "    }\n",
              "</style>\n",
              "<table border=\"1\" class=\"dataframe\">\n",
              "  <thead>\n",
              "    <tr style=\"text-align: right;\">\n",
              "      <th></th>\n",
              "      <th>variable</th>\n",
              "      <th>relative_importance</th>\n",
              "      <th>scaled_importance</th>\n",
              "      <th>percentage</th>\n",
              "    </tr>\n",
              "  </thead>\n",
              "  <tbody>\n",
              "    <tr>\n",
              "      <th>0</th>\n",
              "      <td>headline_C71</td>\n",
              "      <td>3412.558105</td>\n",
              "      <td>1.000000</td>\n",
              "      <td>0.068320</td>\n",
              "    </tr>\n",
              "    <tr>\n",
              "      <th>1</th>\n",
              "      <td>C50</td>\n",
              "      <td>3262.759766</td>\n",
              "      <td>0.956104</td>\n",
              "      <td>0.065321</td>\n",
              "    </tr>\n",
              "    <tr>\n",
              "      <th>2</th>\n",
              "      <td>C71</td>\n",
              "      <td>2651.550293</td>\n",
              "      <td>0.776998</td>\n",
              "      <td>0.053085</td>\n",
              "    </tr>\n",
              "    <tr>\n",
              "      <th>3</th>\n",
              "      <td>headline_C88</td>\n",
              "      <td>2089.722412</td>\n",
              "      <td>0.612362</td>\n",
              "      <td>0.041837</td>\n",
              "    </tr>\n",
              "    <tr>\n",
              "      <th>4</th>\n",
              "      <td>headline_C50</td>\n",
              "      <td>1949.924072</td>\n",
              "      <td>0.571397</td>\n",
              "      <td>0.039038</td>\n",
              "    </tr>\n",
              "    <tr>\n",
              "      <th>5</th>\n",
              "      <td>C55</td>\n",
              "      <td>1447.333618</td>\n",
              "      <td>0.424120</td>\n",
              "      <td>0.028976</td>\n",
              "    </tr>\n",
              "    <tr>\n",
              "      <th>6</th>\n",
              "      <td>headline_C28</td>\n",
              "      <td>1443.504150</td>\n",
              "      <td>0.422998</td>\n",
              "      <td>0.028899</td>\n",
              "    </tr>\n",
              "    <tr>\n",
              "      <th>7</th>\n",
              "      <td>headline_C64</td>\n",
              "      <td>1441.554321</td>\n",
              "      <td>0.422426</td>\n",
              "      <td>0.028860</td>\n",
              "    </tr>\n",
              "    <tr>\n",
              "      <th>8</th>\n",
              "      <td>C88</td>\n",
              "      <td>1401.110840</td>\n",
              "      <td>0.410575</td>\n",
              "      <td>0.028051</td>\n",
              "    </tr>\n",
              "    <tr>\n",
              "      <th>9</th>\n",
              "      <td>C12</td>\n",
              "      <td>1130.285767</td>\n",
              "      <td>0.331214</td>\n",
              "      <td>0.022629</td>\n",
              "    </tr>\n",
              "    <tr>\n",
              "      <th>10</th>\n",
              "      <td>C54</td>\n",
              "      <td>1053.841675</td>\n",
              "      <td>0.308813</td>\n",
              "      <td>0.021098</td>\n",
              "    </tr>\n",
              "    <tr>\n",
              "      <th>11</th>\n",
              "      <td>headline_C5</td>\n",
              "      <td>826.056458</td>\n",
              "      <td>0.242064</td>\n",
              "      <td>0.016538</td>\n",
              "    </tr>\n",
              "    <tr>\n",
              "      <th>12</th>\n",
              "      <td>headline_C89</td>\n",
              "      <td>807.075195</td>\n",
              "      <td>0.236502</td>\n",
              "      <td>0.016158</td>\n",
              "    </tr>\n",
              "    <tr>\n",
              "      <th>13</th>\n",
              "      <td>C64</td>\n",
              "      <td>778.447693</td>\n",
              "      <td>0.228113</td>\n",
              "      <td>0.015585</td>\n",
              "    </tr>\n",
              "    <tr>\n",
              "      <th>14</th>\n",
              "      <td>headline_C38</td>\n",
              "      <td>758.553772</td>\n",
              "      <td>0.222283</td>\n",
              "      <td>0.015186</td>\n",
              "    </tr>\n",
              "    <tr>\n",
              "      <th>15</th>\n",
              "      <td>headline_C13</td>\n",
              "      <td>705.245483</td>\n",
              "      <td>0.206662</td>\n",
              "      <td>0.014119</td>\n",
              "    </tr>\n",
              "    <tr>\n",
              "      <th>16</th>\n",
              "      <td>headline_C25</td>\n",
              "      <td>698.951477</td>\n",
              "      <td>0.204817</td>\n",
              "      <td>0.013993</td>\n",
              "    </tr>\n",
              "    <tr>\n",
              "      <th>17</th>\n",
              "      <td>headline_C32</td>\n",
              "      <td>691.898621</td>\n",
              "      <td>0.202751</td>\n",
              "      <td>0.013852</td>\n",
              "    </tr>\n",
              "    <tr>\n",
              "      <th>18</th>\n",
              "      <td>headline_C82</td>\n",
              "      <td>587.221863</td>\n",
              "      <td>0.172077</td>\n",
              "      <td>0.011756</td>\n",
              "    </tr>\n",
              "    <tr>\n",
              "      <th>19</th>\n",
              "      <td>C52</td>\n",
              "      <td>579.174194</td>\n",
              "      <td>0.169718</td>\n",
              "      <td>0.011595</td>\n",
              "    </tr>\n",
              "  </tbody>\n",
              "</table>\n",
              "</div>"
            ],
            "text/plain": [
              "        variable  relative_importance  scaled_importance  percentage\n",
              "0   headline_C71          3412.558105           1.000000    0.068320\n",
              "1            C50          3262.759766           0.956104    0.065321\n",
              "2            C71          2651.550293           0.776998    0.053085\n",
              "3   headline_C88          2089.722412           0.612362    0.041837\n",
              "4   headline_C50          1949.924072           0.571397    0.039038\n",
              "5            C55          1447.333618           0.424120    0.028976\n",
              "6   headline_C28          1443.504150           0.422998    0.028899\n",
              "7   headline_C64          1441.554321           0.422426    0.028860\n",
              "8            C88          1401.110840           0.410575    0.028051\n",
              "9            C12          1130.285767           0.331214    0.022629\n",
              "10           C54          1053.841675           0.308813    0.021098\n",
              "11   headline_C5           826.056458           0.242064    0.016538\n",
              "12  headline_C89           807.075195           0.236502    0.016158\n",
              "13           C64           778.447693           0.228113    0.015585\n",
              "14  headline_C38           758.553772           0.222283    0.015186\n",
              "15  headline_C13           705.245483           0.206662    0.014119\n",
              "16  headline_C25           698.951477           0.204817    0.013993\n",
              "17  headline_C32           691.898621           0.202751    0.013852\n",
              "18  headline_C82           587.221863           0.172077    0.011756\n",
              "19           C52           579.174194           0.169718    0.011595"
            ]
          },
          "metadata": {
            "tags": []
          }
        },
        {
          "output_type": "stream",
          "text": [
            "\n",
            "See the whole table with table.as_data_frame()\n",
            "\n"
          ],
          "name": "stdout"
        }
      ]
    }
  ]
}
