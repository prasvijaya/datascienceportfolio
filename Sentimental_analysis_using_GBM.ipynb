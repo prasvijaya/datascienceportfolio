{
  "nbformat": 4,
  "nbformat_minor": 0,
  "metadata": {
    "colab": {
      "name": "Sentimental analysis using GBM.ipynb",
      "provenance": [],
      "collapsed_sections": [],
      "authorship_tag": "ABX9TyMYdcSfZ//tKW9SKEb/bNHJ",
      "include_colab_link": true
    },
    "kernelspec": {
      "name": "python3",
      "display_name": "Python 3"
    },
    "accelerator": "GPU",
    "widgets": {
      "application/vnd.jupyter.widget-state+json": {
        "3e2188bf0ee1480dbdd8a5b4fa3efa31": {
          "model_module": "@jupyter-widgets/controls",
          "model_name": "HBoxModel",
          "state": {
            "_view_name": "HBoxView",
            "_dom_classes": [],
            "_model_name": "HBoxModel",
            "_view_module": "@jupyter-widgets/controls",
            "_model_module_version": "1.5.0",
            "_view_count": null,
            "_view_module_version": "1.5.0",
            "box_style": "",
            "layout": "IPY_MODEL_a0e1957ba45342d3b4e7ba4eb8d17581",
            "_model_module": "@jupyter-widgets/controls",
            "children": [
              "IPY_MODEL_ad48e9306b1c4d029126ecf15916296f",
              "IPY_MODEL_bbbf7ba7f41a48bcaaa3fc5b38f6db75"
            ]
          }
        },
        "a0e1957ba45342d3b4e7ba4eb8d17581": {
          "model_module": "@jupyter-widgets/base",
          "model_name": "LayoutModel",
          "state": {
            "_view_name": "LayoutView",
            "grid_template_rows": null,
            "right": null,
            "justify_content": null,
            "_view_module": "@jupyter-widgets/base",
            "overflow": null,
            "_model_module_version": "1.2.0",
            "_view_count": null,
            "flex_flow": null,
            "width": null,
            "min_width": null,
            "border": null,
            "align_items": null,
            "bottom": null,
            "_model_module": "@jupyter-widgets/base",
            "top": null,
            "grid_column": null,
            "overflow_y": null,
            "overflow_x": null,
            "grid_auto_flow": null,
            "grid_area": null,
            "grid_template_columns": null,
            "flex": null,
            "_model_name": "LayoutModel",
            "justify_items": null,
            "grid_row": null,
            "max_height": null,
            "align_content": null,
            "visibility": null,
            "align_self": null,
            "height": null,
            "min_height": null,
            "padding": null,
            "grid_auto_rows": null,
            "grid_gap": null,
            "max_width": null,
            "order": null,
            "_view_module_version": "1.2.0",
            "grid_template_areas": null,
            "object_position": null,
            "object_fit": null,
            "grid_auto_columns": null,
            "margin": null,
            "display": null,
            "left": null
          }
        },
        "ad48e9306b1c4d029126ecf15916296f": {
          "model_module": "@jupyter-widgets/controls",
          "model_name": "FloatProgressModel",
          "state": {
            "_view_name": "ProgressView",
            "style": "IPY_MODEL_cb138484054b41cca5a4a050ed5d3d78",
            "_dom_classes": [],
            "description": "Dl Completed...: 100%",
            "_model_name": "FloatProgressModel",
            "bar_style": "success",
            "max": 1,
            "_view_module": "@jupyter-widgets/controls",
            "_model_module_version": "1.5.0",
            "value": 1,
            "_view_count": null,
            "_view_module_version": "1.5.0",
            "orientation": "horizontal",
            "min": 0,
            "description_tooltip": null,
            "_model_module": "@jupyter-widgets/controls",
            "layout": "IPY_MODEL_1455963e010243dab1a5d035ff316e24"
          }
        },
        "bbbf7ba7f41a48bcaaa3fc5b38f6db75": {
          "model_module": "@jupyter-widgets/controls",
          "model_name": "HTMLModel",
          "state": {
            "_view_name": "HTMLView",
            "style": "IPY_MODEL_dbbd04354cea4fb2a62c617a9cd14c0e",
            "_dom_classes": [],
            "description": "",
            "_model_name": "HTMLModel",
            "placeholder": "​",
            "_view_module": "@jupyter-widgets/controls",
            "_model_module_version": "1.5.0",
            "value": " 1/1 [00:01&lt;00:00,  1.82s/ url]",
            "_view_count": null,
            "_view_module_version": "1.5.0",
            "description_tooltip": null,
            "_model_module": "@jupyter-widgets/controls",
            "layout": "IPY_MODEL_0e2ce8d0c525402c978241fb9b70e4b7"
          }
        },
        "cb138484054b41cca5a4a050ed5d3d78": {
          "model_module": "@jupyter-widgets/controls",
          "model_name": "ProgressStyleModel",
          "state": {
            "_view_name": "StyleView",
            "_model_name": "ProgressStyleModel",
            "description_width": "initial",
            "_view_module": "@jupyter-widgets/base",
            "_model_module_version": "1.5.0",
            "_view_count": null,
            "_view_module_version": "1.2.0",
            "bar_color": null,
            "_model_module": "@jupyter-widgets/controls"
          }
        },
        "1455963e010243dab1a5d035ff316e24": {
          "model_module": "@jupyter-widgets/base",
          "model_name": "LayoutModel",
          "state": {
            "_view_name": "LayoutView",
            "grid_template_rows": null,
            "right": null,
            "justify_content": null,
            "_view_module": "@jupyter-widgets/base",
            "overflow": null,
            "_model_module_version": "1.2.0",
            "_view_count": null,
            "flex_flow": null,
            "width": null,
            "min_width": null,
            "border": null,
            "align_items": null,
            "bottom": null,
            "_model_module": "@jupyter-widgets/base",
            "top": null,
            "grid_column": null,
            "overflow_y": null,
            "overflow_x": null,
            "grid_auto_flow": null,
            "grid_area": null,
            "grid_template_columns": null,
            "flex": null,
            "_model_name": "LayoutModel",
            "justify_items": null,
            "grid_row": null,
            "max_height": null,
            "align_content": null,
            "visibility": null,
            "align_self": null,
            "height": null,
            "min_height": null,
            "padding": null,
            "grid_auto_rows": null,
            "grid_gap": null,
            "max_width": null,
            "order": null,
            "_view_module_version": "1.2.0",
            "grid_template_areas": null,
            "object_position": null,
            "object_fit": null,
            "grid_auto_columns": null,
            "margin": null,
            "display": null,
            "left": null
          }
        },
        "dbbd04354cea4fb2a62c617a9cd14c0e": {
          "model_module": "@jupyter-widgets/controls",
          "model_name": "DescriptionStyleModel",
          "state": {
            "_view_name": "StyleView",
            "_model_name": "DescriptionStyleModel",
            "description_width": "",
            "_view_module": "@jupyter-widgets/base",
            "_model_module_version": "1.5.0",
            "_view_count": null,
            "_view_module_version": "1.2.0",
            "_model_module": "@jupyter-widgets/controls"
          }
        },
        "0e2ce8d0c525402c978241fb9b70e4b7": {
          "model_module": "@jupyter-widgets/base",
          "model_name": "LayoutModel",
          "state": {
            "_view_name": "LayoutView",
            "grid_template_rows": null,
            "right": null,
            "justify_content": null,
            "_view_module": "@jupyter-widgets/base",
            "overflow": null,
            "_model_module_version": "1.2.0",
            "_view_count": null,
            "flex_flow": null,
            "width": null,
            "min_width": null,
            "border": null,
            "align_items": null,
            "bottom": null,
            "_model_module": "@jupyter-widgets/base",
            "top": null,
            "grid_column": null,
            "overflow_y": null,
            "overflow_x": null,
            "grid_auto_flow": null,
            "grid_area": null,
            "grid_template_columns": null,
            "flex": null,
            "_model_name": "LayoutModel",
            "justify_items": null,
            "grid_row": null,
            "max_height": null,
            "align_content": null,
            "visibility": null,
            "align_self": null,
            "height": null,
            "min_height": null,
            "padding": null,
            "grid_auto_rows": null,
            "grid_gap": null,
            "max_width": null,
            "order": null,
            "_view_module_version": "1.2.0",
            "grid_template_areas": null,
            "object_position": null,
            "object_fit": null,
            "grid_auto_columns": null,
            "margin": null,
            "display": null,
            "left": null
          }
        },
        "150bd807e2334bc88fdc7028107a2c53": {
          "model_module": "@jupyter-widgets/controls",
          "model_name": "HBoxModel",
          "state": {
            "_view_name": "HBoxView",
            "_dom_classes": [],
            "_model_name": "HBoxModel",
            "_view_module": "@jupyter-widgets/controls",
            "_model_module_version": "1.5.0",
            "_view_count": null,
            "_view_module_version": "1.5.0",
            "box_style": "",
            "layout": "IPY_MODEL_59ebc0444b6741de9f9612b64800cd75",
            "_model_module": "@jupyter-widgets/controls",
            "children": [
              "IPY_MODEL_baae8a1be114491994a22720c27b6b1e",
              "IPY_MODEL_90355519f5504f0c99bbff6252dda920"
            ]
          }
        },
        "59ebc0444b6741de9f9612b64800cd75": {
          "model_module": "@jupyter-widgets/base",
          "model_name": "LayoutModel",
          "state": {
            "_view_name": "LayoutView",
            "grid_template_rows": null,
            "right": null,
            "justify_content": null,
            "_view_module": "@jupyter-widgets/base",
            "overflow": null,
            "_model_module_version": "1.2.0",
            "_view_count": null,
            "flex_flow": null,
            "width": null,
            "min_width": null,
            "border": null,
            "align_items": null,
            "bottom": null,
            "_model_module": "@jupyter-widgets/base",
            "top": null,
            "grid_column": null,
            "overflow_y": null,
            "overflow_x": null,
            "grid_auto_flow": null,
            "grid_area": null,
            "grid_template_columns": null,
            "flex": null,
            "_model_name": "LayoutModel",
            "justify_items": null,
            "grid_row": null,
            "max_height": null,
            "align_content": null,
            "visibility": null,
            "align_self": null,
            "height": null,
            "min_height": null,
            "padding": null,
            "grid_auto_rows": null,
            "grid_gap": null,
            "max_width": null,
            "order": null,
            "_view_module_version": "1.2.0",
            "grid_template_areas": null,
            "object_position": null,
            "object_fit": null,
            "grid_auto_columns": null,
            "margin": null,
            "display": null,
            "left": null
          }
        },
        "baae8a1be114491994a22720c27b6b1e": {
          "model_module": "@jupyter-widgets/controls",
          "model_name": "FloatProgressModel",
          "state": {
            "_view_name": "ProgressView",
            "style": "IPY_MODEL_b4c088566de1418e827f95883e147c33",
            "_dom_classes": [],
            "description": "Dl Size...: 100%",
            "_model_name": "FloatProgressModel",
            "bar_style": "success",
            "max": 1,
            "_view_module": "@jupyter-widgets/controls",
            "_model_module_version": "1.5.0",
            "value": 1,
            "_view_count": null,
            "_view_module_version": "1.5.0",
            "orientation": "horizontal",
            "min": 0,
            "description_tooltip": null,
            "_model_module": "@jupyter-widgets/controls",
            "layout": "IPY_MODEL_3892058e66f845fbac76cab41abc8da9"
          }
        },
        "90355519f5504f0c99bbff6252dda920": {
          "model_module": "@jupyter-widgets/controls",
          "model_name": "HTMLModel",
          "state": {
            "_view_name": "HTMLView",
            "style": "IPY_MODEL_f60bf24cc1b24578878e4ca593bead45",
            "_dom_classes": [],
            "description": "",
            "_model_name": "HTMLModel",
            "placeholder": "​",
            "_view_module": "@jupyter-widgets/controls",
            "_model_module_version": "1.5.0",
            "value": " 16/16 [00:01&lt;00:00,  8.91 MiB/s]",
            "_view_count": null,
            "_view_module_version": "1.5.0",
            "description_tooltip": null,
            "_model_module": "@jupyter-widgets/controls",
            "layout": "IPY_MODEL_cce83b5c40dc431bb3e2d4b806cd9210"
          }
        },
        "b4c088566de1418e827f95883e147c33": {
          "model_module": "@jupyter-widgets/controls",
          "model_name": "ProgressStyleModel",
          "state": {
            "_view_name": "StyleView",
            "_model_name": "ProgressStyleModel",
            "description_width": "initial",
            "_view_module": "@jupyter-widgets/base",
            "_model_module_version": "1.5.0",
            "_view_count": null,
            "_view_module_version": "1.2.0",
            "bar_color": null,
            "_model_module": "@jupyter-widgets/controls"
          }
        },
        "3892058e66f845fbac76cab41abc8da9": {
          "model_module": "@jupyter-widgets/base",
          "model_name": "LayoutModel",
          "state": {
            "_view_name": "LayoutView",
            "grid_template_rows": null,
            "right": null,
            "justify_content": null,
            "_view_module": "@jupyter-widgets/base",
            "overflow": null,
            "_model_module_version": "1.2.0",
            "_view_count": null,
            "flex_flow": null,
            "width": null,
            "min_width": null,
            "border": null,
            "align_items": null,
            "bottom": null,
            "_model_module": "@jupyter-widgets/base",
            "top": null,
            "grid_column": null,
            "overflow_y": null,
            "overflow_x": null,
            "grid_auto_flow": null,
            "grid_area": null,
            "grid_template_columns": null,
            "flex": null,
            "_model_name": "LayoutModel",
            "justify_items": null,
            "grid_row": null,
            "max_height": null,
            "align_content": null,
            "visibility": null,
            "align_self": null,
            "height": null,
            "min_height": null,
            "padding": null,
            "grid_auto_rows": null,
            "grid_gap": null,
            "max_width": null,
            "order": null,
            "_view_module_version": "1.2.0",
            "grid_template_areas": null,
            "object_position": null,
            "object_fit": null,
            "grid_auto_columns": null,
            "margin": null,
            "display": null,
            "left": null
          }
        },
        "f60bf24cc1b24578878e4ca593bead45": {
          "model_module": "@jupyter-widgets/controls",
          "model_name": "DescriptionStyleModel",
          "state": {
            "_view_name": "StyleView",
            "_model_name": "DescriptionStyleModel",
            "description_width": "",
            "_view_module": "@jupyter-widgets/base",
            "_model_module_version": "1.5.0",
            "_view_count": null,
            "_view_module_version": "1.2.0",
            "_model_module": "@jupyter-widgets/controls"
          }
        },
        "cce83b5c40dc431bb3e2d4b806cd9210": {
          "model_module": "@jupyter-widgets/base",
          "model_name": "LayoutModel",
          "state": {
            "_view_name": "LayoutView",
            "grid_template_rows": null,
            "right": null,
            "justify_content": null,
            "_view_module": "@jupyter-widgets/base",
            "overflow": null,
            "_model_module_version": "1.2.0",
            "_view_count": null,
            "flex_flow": null,
            "width": null,
            "min_width": null,
            "border": null,
            "align_items": null,
            "bottom": null,
            "_model_module": "@jupyter-widgets/base",
            "top": null,
            "grid_column": null,
            "overflow_y": null,
            "overflow_x": null,
            "grid_auto_flow": null,
            "grid_area": null,
            "grid_template_columns": null,
            "flex": null,
            "_model_name": "LayoutModel",
            "justify_items": null,
            "grid_row": null,
            "max_height": null,
            "align_content": null,
            "visibility": null,
            "align_self": null,
            "height": null,
            "min_height": null,
            "padding": null,
            "grid_auto_rows": null,
            "grid_gap": null,
            "max_width": null,
            "order": null,
            "_view_module_version": "1.2.0",
            "grid_template_areas": null,
            "object_position": null,
            "object_fit": null,
            "grid_auto_columns": null,
            "margin": null,
            "display": null,
            "left": null
          }
        },
        "70cd8d6609f742aa9f7390f9841d31cc": {
          "model_module": "@jupyter-widgets/controls",
          "model_name": "HBoxModel",
          "state": {
            "_view_name": "HBoxView",
            "_dom_classes": [],
            "_model_name": "HBoxModel",
            "_view_module": "@jupyter-widgets/controls",
            "_model_module_version": "1.5.0",
            "_view_count": null,
            "_view_module_version": "1.5.0",
            "box_style": "",
            "layout": "IPY_MODEL_e09328a3baaf46dda20123d7f320af7c",
            "_model_module": "@jupyter-widgets/controls",
            "children": [
              "IPY_MODEL_a7dcc8a083b94b88b52e5c8e8bad73bb",
              "IPY_MODEL_b3f80252fdb84fe3b03945c49aece43b"
            ]
          }
        },
        "e09328a3baaf46dda20123d7f320af7c": {
          "model_module": "@jupyter-widgets/base",
          "model_name": "LayoutModel",
          "state": {
            "_view_name": "LayoutView",
            "grid_template_rows": null,
            "right": null,
            "justify_content": null,
            "_view_module": "@jupyter-widgets/base",
            "overflow": null,
            "_model_module_version": "1.2.0",
            "_view_count": null,
            "flex_flow": null,
            "width": null,
            "min_width": null,
            "border": null,
            "align_items": null,
            "bottom": null,
            "_model_module": "@jupyter-widgets/base",
            "top": null,
            "grid_column": null,
            "overflow_y": null,
            "overflow_x": null,
            "grid_auto_flow": null,
            "grid_area": null,
            "grid_template_columns": null,
            "flex": null,
            "_model_name": "LayoutModel",
            "justify_items": null,
            "grid_row": null,
            "max_height": null,
            "align_content": null,
            "visibility": null,
            "align_self": null,
            "height": null,
            "min_height": null,
            "padding": null,
            "grid_auto_rows": null,
            "grid_gap": null,
            "max_width": null,
            "order": null,
            "_view_module_version": "1.2.0",
            "grid_template_areas": null,
            "object_position": null,
            "object_fit": null,
            "grid_auto_columns": null,
            "margin": null,
            "display": null,
            "left": null
          }
        },
        "a7dcc8a083b94b88b52e5c8e8bad73bb": {
          "model_module": "@jupyter-widgets/controls",
          "model_name": "FloatProgressModel",
          "state": {
            "_view_name": "ProgressView",
            "style": "IPY_MODEL_46fa88fca3634a3c9e569efe9549ee84",
            "_dom_classes": [],
            "description": "Extraction completed...: 100%",
            "_model_name": "FloatProgressModel",
            "bar_style": "success",
            "max": 1,
            "_view_module": "@jupyter-widgets/controls",
            "_model_module_version": "1.5.0",
            "value": 1,
            "_view_count": null,
            "_view_module_version": "1.5.0",
            "orientation": "horizontal",
            "min": 0,
            "description_tooltip": null,
            "_model_module": "@jupyter-widgets/controls",
            "layout": "IPY_MODEL_74e19a24f5a34f95ae617905a6da30bc"
          }
        },
        "b3f80252fdb84fe3b03945c49aece43b": {
          "model_module": "@jupyter-widgets/controls",
          "model_name": "HTMLModel",
          "state": {
            "_view_name": "HTMLView",
            "style": "IPY_MODEL_9d93eb3cda9042e999246a4d7b0db90f",
            "_dom_classes": [],
            "description": "",
            "_model_name": "HTMLModel",
            "placeholder": "​",
            "_view_module": "@jupyter-widgets/controls",
            "_model_module_version": "1.5.0",
            "value": " 1/1 [00:01&lt;00:00,  1.76s/ file]",
            "_view_count": null,
            "_view_module_version": "1.5.0",
            "description_tooltip": null,
            "_model_module": "@jupyter-widgets/controls",
            "layout": "IPY_MODEL_14f1c56c2fdb4b6d8ed64e87b778d6c1"
          }
        },
        "46fa88fca3634a3c9e569efe9549ee84": {
          "model_module": "@jupyter-widgets/controls",
          "model_name": "ProgressStyleModel",
          "state": {
            "_view_name": "StyleView",
            "_model_name": "ProgressStyleModel",
            "description_width": "initial",
            "_view_module": "@jupyter-widgets/base",
            "_model_module_version": "1.5.0",
            "_view_count": null,
            "_view_module_version": "1.2.0",
            "bar_color": null,
            "_model_module": "@jupyter-widgets/controls"
          }
        },
        "74e19a24f5a34f95ae617905a6da30bc": {
          "model_module": "@jupyter-widgets/base",
          "model_name": "LayoutModel",
          "state": {
            "_view_name": "LayoutView",
            "grid_template_rows": null,
            "right": null,
            "justify_content": null,
            "_view_module": "@jupyter-widgets/base",
            "overflow": null,
            "_model_module_version": "1.2.0",
            "_view_count": null,
            "flex_flow": null,
            "width": null,
            "min_width": null,
            "border": null,
            "align_items": null,
            "bottom": null,
            "_model_module": "@jupyter-widgets/base",
            "top": null,
            "grid_column": null,
            "overflow_y": null,
            "overflow_x": null,
            "grid_auto_flow": null,
            "grid_area": null,
            "grid_template_columns": null,
            "flex": null,
            "_model_name": "LayoutModel",
            "justify_items": null,
            "grid_row": null,
            "max_height": null,
            "align_content": null,
            "visibility": null,
            "align_self": null,
            "height": null,
            "min_height": null,
            "padding": null,
            "grid_auto_rows": null,
            "grid_gap": null,
            "max_width": null,
            "order": null,
            "_view_module_version": "1.2.0",
            "grid_template_areas": null,
            "object_position": null,
            "object_fit": null,
            "grid_auto_columns": null,
            "margin": null,
            "display": null,
            "left": null
          }
        },
        "9d93eb3cda9042e999246a4d7b0db90f": {
          "model_module": "@jupyter-widgets/controls",
          "model_name": "DescriptionStyleModel",
          "state": {
            "_view_name": "StyleView",
            "_model_name": "DescriptionStyleModel",
            "description_width": "",
            "_view_module": "@jupyter-widgets/base",
            "_model_module_version": "1.5.0",
            "_view_count": null,
            "_view_module_version": "1.2.0",
            "_model_module": "@jupyter-widgets/controls"
          }
        },
        "14f1c56c2fdb4b6d8ed64e87b778d6c1": {
          "model_module": "@jupyter-widgets/base",
          "model_name": "LayoutModel",
          "state": {
            "_view_name": "LayoutView",
            "grid_template_rows": null,
            "right": null,
            "justify_content": null,
            "_view_module": "@jupyter-widgets/base",
            "overflow": null,
            "_model_module_version": "1.2.0",
            "_view_count": null,
            "flex_flow": null,
            "width": null,
            "min_width": null,
            "border": null,
            "align_items": null,
            "bottom": null,
            "_model_module": "@jupyter-widgets/base",
            "top": null,
            "grid_column": null,
            "overflow_y": null,
            "overflow_x": null,
            "grid_auto_flow": null,
            "grid_area": null,
            "grid_template_columns": null,
            "flex": null,
            "_model_name": "LayoutModel",
            "justify_items": null,
            "grid_row": null,
            "max_height": null,
            "align_content": null,
            "visibility": null,
            "align_self": null,
            "height": null,
            "min_height": null,
            "padding": null,
            "grid_auto_rows": null,
            "grid_gap": null,
            "max_width": null,
            "order": null,
            "_view_module_version": "1.2.0",
            "grid_template_areas": null,
            "object_position": null,
            "object_fit": null,
            "grid_auto_columns": null,
            "margin": null,
            "display": null,
            "left": null
          }
        },
        "e4c7cc91f2054e9296d87f232f8d543c": {
          "model_module": "@jupyter-widgets/controls",
          "model_name": "HBoxModel",
          "state": {
            "_view_name": "HBoxView",
            "_dom_classes": [],
            "_model_name": "HBoxModel",
            "_view_module": "@jupyter-widgets/controls",
            "_model_module_version": "1.5.0",
            "_view_count": null,
            "_view_module_version": "1.5.0",
            "box_style": "",
            "layout": "IPY_MODEL_a77844ea758b42689e4241434a52151a",
            "_model_module": "@jupyter-widgets/controls",
            "children": [
              "IPY_MODEL_7543442c5d3d4f5fbb0db356db30575b",
              "IPY_MODEL_e19f489bb0bd475a8f773339ed7baf00"
            ]
          }
        },
        "a77844ea758b42689e4241434a52151a": {
          "model_module": "@jupyter-widgets/base",
          "model_name": "LayoutModel",
          "state": {
            "_view_name": "LayoutView",
            "grid_template_rows": null,
            "right": null,
            "justify_content": null,
            "_view_module": "@jupyter-widgets/base",
            "overflow": null,
            "_model_module_version": "1.2.0",
            "_view_count": null,
            "flex_flow": null,
            "width": null,
            "min_width": null,
            "border": null,
            "align_items": null,
            "bottom": null,
            "_model_module": "@jupyter-widgets/base",
            "top": null,
            "grid_column": null,
            "overflow_y": null,
            "overflow_x": null,
            "grid_auto_flow": null,
            "grid_area": null,
            "grid_template_columns": null,
            "flex": null,
            "_model_name": "LayoutModel",
            "justify_items": null,
            "grid_row": null,
            "max_height": null,
            "align_content": null,
            "visibility": null,
            "align_self": null,
            "height": null,
            "min_height": null,
            "padding": null,
            "grid_auto_rows": null,
            "grid_gap": null,
            "max_width": null,
            "order": null,
            "_view_module_version": "1.2.0",
            "grid_template_areas": null,
            "object_position": null,
            "object_fit": null,
            "grid_auto_columns": null,
            "margin": null,
            "display": null,
            "left": null
          }
        },
        "7543442c5d3d4f5fbb0db356db30575b": {
          "model_module": "@jupyter-widgets/controls",
          "model_name": "FloatProgressModel",
          "state": {
            "_view_name": "ProgressView",
            "style": "IPY_MODEL_20336e2b6240431091a491a69abaa5f2",
            "_dom_classes": [],
            "description": "",
            "_model_name": "FloatProgressModel",
            "bar_style": "info",
            "max": 1,
            "_view_module": "@jupyter-widgets/controls",
            "_model_module_version": "1.5.0",
            "value": 1,
            "_view_count": null,
            "_view_module_version": "1.5.0",
            "orientation": "horizontal",
            "min": 0,
            "description_tooltip": null,
            "_model_module": "@jupyter-widgets/controls",
            "layout": "IPY_MODEL_f6877db56dd44c9294a0dff640c6c62c"
          }
        },
        "e19f489bb0bd475a8f773339ed7baf00": {
          "model_module": "@jupyter-widgets/controls",
          "model_name": "HTMLModel",
          "state": {
            "_view_name": "HTMLView",
            "style": "IPY_MODEL_ed4e6398e1ce49c0aa4c5b475c6d4cff",
            "_dom_classes": [],
            "description": "",
            "_model_name": "HTMLModel",
            "placeholder": "​",
            "_view_module": "@jupyter-widgets/controls",
            "_model_module_version": "1.5.0",
            "value": " 85981/0 [01:30&lt;00:00, 1043.05 examples/s]",
            "_view_count": null,
            "_view_module_version": "1.5.0",
            "description_tooltip": null,
            "_model_module": "@jupyter-widgets/controls",
            "layout": "IPY_MODEL_7ab41aa992de4b7a83565ee0b5fe25af"
          }
        },
        "20336e2b6240431091a491a69abaa5f2": {
          "model_module": "@jupyter-widgets/controls",
          "model_name": "ProgressStyleModel",
          "state": {
            "_view_name": "StyleView",
            "_model_name": "ProgressStyleModel",
            "description_width": "initial",
            "_view_module": "@jupyter-widgets/base",
            "_model_module_version": "1.5.0",
            "_view_count": null,
            "_view_module_version": "1.2.0",
            "bar_color": null,
            "_model_module": "@jupyter-widgets/controls"
          }
        },
        "f6877db56dd44c9294a0dff640c6c62c": {
          "model_module": "@jupyter-widgets/base",
          "model_name": "LayoutModel",
          "state": {
            "_view_name": "LayoutView",
            "grid_template_rows": null,
            "right": null,
            "justify_content": null,
            "_view_module": "@jupyter-widgets/base",
            "overflow": null,
            "_model_module_version": "1.2.0",
            "_view_count": null,
            "flex_flow": null,
            "width": null,
            "min_width": null,
            "border": null,
            "align_items": null,
            "bottom": null,
            "_model_module": "@jupyter-widgets/base",
            "top": null,
            "grid_column": null,
            "overflow_y": null,
            "overflow_x": null,
            "grid_auto_flow": null,
            "grid_area": null,
            "grid_template_columns": null,
            "flex": null,
            "_model_name": "LayoutModel",
            "justify_items": null,
            "grid_row": null,
            "max_height": null,
            "align_content": null,
            "visibility": null,
            "align_self": null,
            "height": null,
            "min_height": null,
            "padding": null,
            "grid_auto_rows": null,
            "grid_gap": null,
            "max_width": null,
            "order": null,
            "_view_module_version": "1.2.0",
            "grid_template_areas": null,
            "object_position": null,
            "object_fit": null,
            "grid_auto_columns": null,
            "margin": null,
            "display": null,
            "left": null
          }
        },
        "ed4e6398e1ce49c0aa4c5b475c6d4cff": {
          "model_module": "@jupyter-widgets/controls",
          "model_name": "DescriptionStyleModel",
          "state": {
            "_view_name": "StyleView",
            "_model_name": "DescriptionStyleModel",
            "description_width": "",
            "_view_module": "@jupyter-widgets/base",
            "_model_module_version": "1.5.0",
            "_view_count": null,
            "_view_module_version": "1.2.0",
            "_model_module": "@jupyter-widgets/controls"
          }
        },
        "7ab41aa992de4b7a83565ee0b5fe25af": {
          "model_module": "@jupyter-widgets/base",
          "model_name": "LayoutModel",
          "state": {
            "_view_name": "LayoutView",
            "grid_template_rows": null,
            "right": null,
            "justify_content": null,
            "_view_module": "@jupyter-widgets/base",
            "overflow": null,
            "_model_module_version": "1.2.0",
            "_view_count": null,
            "flex_flow": null,
            "width": null,
            "min_width": null,
            "border": null,
            "align_items": null,
            "bottom": null,
            "_model_module": "@jupyter-widgets/base",
            "top": null,
            "grid_column": null,
            "overflow_y": null,
            "overflow_x": null,
            "grid_auto_flow": null,
            "grid_area": null,
            "grid_template_columns": null,
            "flex": null,
            "_model_name": "LayoutModel",
            "justify_items": null,
            "grid_row": null,
            "max_height": null,
            "align_content": null,
            "visibility": null,
            "align_self": null,
            "height": null,
            "min_height": null,
            "padding": null,
            "grid_auto_rows": null,
            "grid_gap": null,
            "max_width": null,
            "order": null,
            "_view_module_version": "1.2.0",
            "grid_template_areas": null,
            "object_position": null,
            "object_fit": null,
            "grid_auto_columns": null,
            "margin": null,
            "display": null,
            "left": null
          }
        },
        "2d4eb37f876e40d8b56f59628280c73f": {
          "model_module": "@jupyter-widgets/controls",
          "model_name": "HBoxModel",
          "state": {
            "_view_name": "HBoxView",
            "_dom_classes": [],
            "_model_name": "HBoxModel",
            "_view_module": "@jupyter-widgets/controls",
            "_model_module_version": "1.5.0",
            "_view_count": null,
            "_view_module_version": "1.5.0",
            "box_style": "",
            "layout": "IPY_MODEL_b62e481d808148f48a272ad8676c1f7a",
            "_model_module": "@jupyter-widgets/controls",
            "children": [
              "IPY_MODEL_0012ddb6eee541c0a07379d7d121fbc3",
              "IPY_MODEL_7c918358d1a94c41bdd31603a6846b6d"
            ]
          }
        },
        "b62e481d808148f48a272ad8676c1f7a": {
          "model_module": "@jupyter-widgets/base",
          "model_name": "LayoutModel",
          "state": {
            "_view_name": "LayoutView",
            "grid_template_rows": null,
            "right": null,
            "justify_content": null,
            "_view_module": "@jupyter-widgets/base",
            "overflow": null,
            "_model_module_version": "1.2.0",
            "_view_count": null,
            "flex_flow": null,
            "width": null,
            "min_width": null,
            "border": null,
            "align_items": null,
            "bottom": null,
            "_model_module": "@jupyter-widgets/base",
            "top": null,
            "grid_column": null,
            "overflow_y": null,
            "overflow_x": null,
            "grid_auto_flow": null,
            "grid_area": null,
            "grid_template_columns": null,
            "flex": null,
            "_model_name": "LayoutModel",
            "justify_items": null,
            "grid_row": null,
            "max_height": null,
            "align_content": null,
            "visibility": null,
            "align_self": null,
            "height": null,
            "min_height": null,
            "padding": null,
            "grid_auto_rows": null,
            "grid_gap": null,
            "max_width": null,
            "order": null,
            "_view_module_version": "1.2.0",
            "grid_template_areas": null,
            "object_position": null,
            "object_fit": null,
            "grid_auto_columns": null,
            "margin": null,
            "display": null,
            "left": null
          }
        },
        "0012ddb6eee541c0a07379d7d121fbc3": {
          "model_module": "@jupyter-widgets/controls",
          "model_name": "FloatProgressModel",
          "state": {
            "_view_name": "ProgressView",
            "style": "IPY_MODEL_a6f84f3de66c42d795e596752d0f9952",
            "_dom_classes": [],
            "description": " 93%",
            "_model_name": "FloatProgressModel",
            "bar_style": "danger",
            "max": 85981,
            "_view_module": "@jupyter-widgets/controls",
            "_model_module_version": "1.5.0",
            "value": 80374,
            "_view_count": null,
            "_view_module_version": "1.5.0",
            "orientation": "horizontal",
            "min": 0,
            "description_tooltip": null,
            "_model_module": "@jupyter-widgets/controls",
            "layout": "IPY_MODEL_5945592e1da84131a13320fc0f7c0c4b"
          }
        },
        "7c918358d1a94c41bdd31603a6846b6d": {
          "model_module": "@jupyter-widgets/controls",
          "model_name": "HTMLModel",
          "state": {
            "_view_name": "HTMLView",
            "style": "IPY_MODEL_d7c4e6468ac74c7c9a143a54f1fdeb0a",
            "_dom_classes": [],
            "description": "",
            "_model_name": "HTMLModel",
            "placeholder": "​",
            "_view_module": "@jupyter-widgets/controls",
            "_model_module_version": "1.5.0",
            "value": " 80374/85981 [00:00&lt;03:57, 23.61 examples/s]",
            "_view_count": null,
            "_view_module_version": "1.5.0",
            "description_tooltip": null,
            "_model_module": "@jupyter-widgets/controls",
            "layout": "IPY_MODEL_1aa9fa679c294345b65ff31e5ccca13c"
          }
        },
        "a6f84f3de66c42d795e596752d0f9952": {
          "model_module": "@jupyter-widgets/controls",
          "model_name": "ProgressStyleModel",
          "state": {
            "_view_name": "StyleView",
            "_model_name": "ProgressStyleModel",
            "description_width": "initial",
            "_view_module": "@jupyter-widgets/base",
            "_model_module_version": "1.5.0",
            "_view_count": null,
            "_view_module_version": "1.2.0",
            "bar_color": null,
            "_model_module": "@jupyter-widgets/controls"
          }
        },
        "5945592e1da84131a13320fc0f7c0c4b": {
          "model_module": "@jupyter-widgets/base",
          "model_name": "LayoutModel",
          "state": {
            "_view_name": "LayoutView",
            "grid_template_rows": null,
            "right": null,
            "justify_content": null,
            "_view_module": "@jupyter-widgets/base",
            "overflow": null,
            "_model_module_version": "1.2.0",
            "_view_count": null,
            "flex_flow": null,
            "width": null,
            "min_width": null,
            "border": null,
            "align_items": null,
            "bottom": null,
            "_model_module": "@jupyter-widgets/base",
            "top": null,
            "grid_column": null,
            "overflow_y": null,
            "overflow_x": null,
            "grid_auto_flow": null,
            "grid_area": null,
            "grid_template_columns": null,
            "flex": null,
            "_model_name": "LayoutModel",
            "justify_items": null,
            "grid_row": null,
            "max_height": null,
            "align_content": null,
            "visibility": null,
            "align_self": null,
            "height": null,
            "min_height": null,
            "padding": null,
            "grid_auto_rows": null,
            "grid_gap": null,
            "max_width": null,
            "order": null,
            "_view_module_version": "1.2.0",
            "grid_template_areas": null,
            "object_position": null,
            "object_fit": null,
            "grid_auto_columns": null,
            "margin": null,
            "display": null,
            "left": null
          }
        },
        "d7c4e6468ac74c7c9a143a54f1fdeb0a": {
          "model_module": "@jupyter-widgets/controls",
          "model_name": "DescriptionStyleModel",
          "state": {
            "_view_name": "StyleView",
            "_model_name": "DescriptionStyleModel",
            "description_width": "",
            "_view_module": "@jupyter-widgets/base",
            "_model_module_version": "1.5.0",
            "_view_count": null,
            "_view_module_version": "1.2.0",
            "_model_module": "@jupyter-widgets/controls"
          }
        },
        "1aa9fa679c294345b65ff31e5ccca13c": {
          "model_module": "@jupyter-widgets/base",
          "model_name": "LayoutModel",
          "state": {
            "_view_name": "LayoutView",
            "grid_template_rows": null,
            "right": null,
            "justify_content": null,
            "_view_module": "@jupyter-widgets/base",
            "overflow": null,
            "_model_module_version": "1.2.0",
            "_view_count": null,
            "flex_flow": null,
            "width": null,
            "min_width": null,
            "border": null,
            "align_items": null,
            "bottom": null,
            "_model_module": "@jupyter-widgets/base",
            "top": null,
            "grid_column": null,
            "overflow_y": null,
            "overflow_x": null,
            "grid_auto_flow": null,
            "grid_area": null,
            "grid_template_columns": null,
            "flex": null,
            "_model_name": "LayoutModel",
            "justify_items": null,
            "grid_row": null,
            "max_height": null,
            "align_content": null,
            "visibility": null,
            "align_self": null,
            "height": null,
            "min_height": null,
            "padding": null,
            "grid_auto_rows": null,
            "grid_gap": null,
            "max_width": null,
            "order": null,
            "_view_module_version": "1.2.0",
            "grid_template_areas": null,
            "object_position": null,
            "object_fit": null,
            "grid_auto_columns": null,
            "margin": null,
            "display": null,
            "left": null
          }
        },
        "dcfd30f9d5b94d34b10c932aab0bdb39": {
          "model_module": "@jupyter-widgets/controls",
          "model_name": "HBoxModel",
          "state": {
            "_view_name": "HBoxView",
            "_dom_classes": [],
            "_model_name": "HBoxModel",
            "_view_module": "@jupyter-widgets/controls",
            "_model_module_version": "1.5.0",
            "_view_count": null,
            "_view_module_version": "1.5.0",
            "box_style": "",
            "layout": "IPY_MODEL_b8e617946eef4fa1beff4e98fed7495f",
            "_model_module": "@jupyter-widgets/controls",
            "children": [
              "IPY_MODEL_348abaa59c4242d08162677c19bedce5",
              "IPY_MODEL_4e3c193d8d7045efaa1296803f2e0a12"
            ]
          }
        },
        "b8e617946eef4fa1beff4e98fed7495f": {
          "model_module": "@jupyter-widgets/base",
          "model_name": "LayoutModel",
          "state": {
            "_view_name": "LayoutView",
            "grid_template_rows": null,
            "right": null,
            "justify_content": null,
            "_view_module": "@jupyter-widgets/base",
            "overflow": null,
            "_model_module_version": "1.2.0",
            "_view_count": null,
            "flex_flow": null,
            "width": null,
            "min_width": null,
            "border": null,
            "align_items": null,
            "bottom": null,
            "_model_module": "@jupyter-widgets/base",
            "top": null,
            "grid_column": null,
            "overflow_y": null,
            "overflow_x": null,
            "grid_auto_flow": null,
            "grid_area": null,
            "grid_template_columns": null,
            "flex": null,
            "_model_name": "LayoutModel",
            "justify_items": null,
            "grid_row": null,
            "max_height": null,
            "align_content": null,
            "visibility": null,
            "align_self": null,
            "height": null,
            "min_height": null,
            "padding": null,
            "grid_auto_rows": null,
            "grid_gap": null,
            "max_width": null,
            "order": null,
            "_view_module_version": "1.2.0",
            "grid_template_areas": null,
            "object_position": null,
            "object_fit": null,
            "grid_auto_columns": null,
            "margin": null,
            "display": null,
            "left": null
          }
        },
        "348abaa59c4242d08162677c19bedce5": {
          "model_module": "@jupyter-widgets/controls",
          "model_name": "FloatProgressModel",
          "state": {
            "_view_name": "ProgressView",
            "style": "IPY_MODEL_d9e76dd6ee7b4a58882c48da10a018be",
            "_dom_classes": [],
            "description": "Computing statistics...: 100%",
            "_model_name": "FloatProgressModel",
            "bar_style": "success",
            "max": 1,
            "_view_module": "@jupyter-widgets/controls",
            "_model_module_version": "1.5.0",
            "value": 1,
            "_view_count": null,
            "_view_module_version": "1.5.0",
            "orientation": "horizontal",
            "min": 0,
            "description_tooltip": null,
            "_model_module": "@jupyter-widgets/controls",
            "layout": "IPY_MODEL_d48d2472c72f4986bd863c20d62da277"
          }
        },
        "4e3c193d8d7045efaa1296803f2e0a12": {
          "model_module": "@jupyter-widgets/controls",
          "model_name": "HTMLModel",
          "state": {
            "_view_name": "HTMLView",
            "style": "IPY_MODEL_40c734bc0e6748d7b450023bf5605951",
            "_dom_classes": [],
            "description": "",
            "_model_name": "HTMLModel",
            "placeholder": "​",
            "_view_module": "@jupyter-widgets/controls",
            "_model_module_version": "1.5.0",
            "value": " 1/1 [00:50&lt;00:00, 50.16s/ split]",
            "_view_count": null,
            "_view_module_version": "1.5.0",
            "description_tooltip": null,
            "_model_module": "@jupyter-widgets/controls",
            "layout": "IPY_MODEL_3b01163c0a4147b6a479f1a0fdfea87a"
          }
        },
        "d9e76dd6ee7b4a58882c48da10a018be": {
          "model_module": "@jupyter-widgets/controls",
          "model_name": "ProgressStyleModel",
          "state": {
            "_view_name": "StyleView",
            "_model_name": "ProgressStyleModel",
            "description_width": "initial",
            "_view_module": "@jupyter-widgets/base",
            "_model_module_version": "1.5.0",
            "_view_count": null,
            "_view_module_version": "1.2.0",
            "bar_color": null,
            "_model_module": "@jupyter-widgets/controls"
          }
        },
        "d48d2472c72f4986bd863c20d62da277": {
          "model_module": "@jupyter-widgets/base",
          "model_name": "LayoutModel",
          "state": {
            "_view_name": "LayoutView",
            "grid_template_rows": null,
            "right": null,
            "justify_content": null,
            "_view_module": "@jupyter-widgets/base",
            "overflow": null,
            "_model_module_version": "1.2.0",
            "_view_count": null,
            "flex_flow": null,
            "width": null,
            "min_width": null,
            "border": null,
            "align_items": null,
            "bottom": null,
            "_model_module": "@jupyter-widgets/base",
            "top": null,
            "grid_column": null,
            "overflow_y": null,
            "overflow_x": null,
            "grid_auto_flow": null,
            "grid_area": null,
            "grid_template_columns": null,
            "flex": null,
            "_model_name": "LayoutModel",
            "justify_items": null,
            "grid_row": null,
            "max_height": null,
            "align_content": null,
            "visibility": null,
            "align_self": null,
            "height": null,
            "min_height": null,
            "padding": null,
            "grid_auto_rows": null,
            "grid_gap": null,
            "max_width": null,
            "order": null,
            "_view_module_version": "1.2.0",
            "grid_template_areas": null,
            "object_position": null,
            "object_fit": null,
            "grid_auto_columns": null,
            "margin": null,
            "display": null,
            "left": null
          }
        },
        "40c734bc0e6748d7b450023bf5605951": {
          "model_module": "@jupyter-widgets/controls",
          "model_name": "DescriptionStyleModel",
          "state": {
            "_view_name": "StyleView",
            "_model_name": "DescriptionStyleModel",
            "description_width": "",
            "_view_module": "@jupyter-widgets/base",
            "_model_module_version": "1.5.0",
            "_view_count": null,
            "_view_module_version": "1.2.0",
            "_model_module": "@jupyter-widgets/controls"
          }
        },
        "3b01163c0a4147b6a479f1a0fdfea87a": {
          "model_module": "@jupyter-widgets/base",
          "model_name": "LayoutModel",
          "state": {
            "_view_name": "LayoutView",
            "grid_template_rows": null,
            "right": null,
            "justify_content": null,
            "_view_module": "@jupyter-widgets/base",
            "overflow": null,
            "_model_module_version": "1.2.0",
            "_view_count": null,
            "flex_flow": null,
            "width": null,
            "min_width": null,
            "border": null,
            "align_items": null,
            "bottom": null,
            "_model_module": "@jupyter-widgets/base",
            "top": null,
            "grid_column": null,
            "overflow_y": null,
            "overflow_x": null,
            "grid_auto_flow": null,
            "grid_area": null,
            "grid_template_columns": null,
            "flex": null,
            "_model_name": "LayoutModel",
            "justify_items": null,
            "grid_row": null,
            "max_height": null,
            "align_content": null,
            "visibility": null,
            "align_self": null,
            "height": null,
            "min_height": null,
            "padding": null,
            "grid_auto_rows": null,
            "grid_gap": null,
            "max_width": null,
            "order": null,
            "_view_module_version": "1.2.0",
            "grid_template_areas": null,
            "object_position": null,
            "object_fit": null,
            "grid_auto_columns": null,
            "margin": null,
            "display": null,
            "left": null
          }
        },
        "e3b5f50ced2a4f54b3bbc90f7bcd5437": {
          "model_module": "@jupyter-widgets/controls",
          "model_name": "HBoxModel",
          "state": {
            "_view_name": "HBoxView",
            "_dom_classes": [],
            "_model_name": "HBoxModel",
            "_view_module": "@jupyter-widgets/controls",
            "_model_module_version": "1.5.0",
            "_view_count": null,
            "_view_module_version": "1.5.0",
            "box_style": "",
            "layout": "IPY_MODEL_6879a716328f4d96bc5fce9e59465b95",
            "_model_module": "@jupyter-widgets/controls",
            "children": [
              "IPY_MODEL_2ffcfb41823244fa9f01dedabdf35390",
              "IPY_MODEL_0f6cfbb9d4c54f31869bbfd6365820d8"
            ]
          }
        },
        "6879a716328f4d96bc5fce9e59465b95": {
          "model_module": "@jupyter-widgets/base",
          "model_name": "LayoutModel",
          "state": {
            "_view_name": "LayoutView",
            "grid_template_rows": null,
            "right": null,
            "justify_content": null,
            "_view_module": "@jupyter-widgets/base",
            "overflow": null,
            "_model_module_version": "1.2.0",
            "_view_count": null,
            "flex_flow": null,
            "width": null,
            "min_width": null,
            "border": null,
            "align_items": null,
            "bottom": null,
            "_model_module": "@jupyter-widgets/base",
            "top": null,
            "grid_column": null,
            "overflow_y": null,
            "overflow_x": null,
            "grid_auto_flow": null,
            "grid_area": null,
            "grid_template_columns": null,
            "flex": null,
            "_model_name": "LayoutModel",
            "justify_items": null,
            "grid_row": null,
            "max_height": null,
            "align_content": null,
            "visibility": null,
            "align_self": null,
            "height": null,
            "min_height": null,
            "padding": null,
            "grid_auto_rows": null,
            "grid_gap": null,
            "max_width": null,
            "order": null,
            "_view_module_version": "1.2.0",
            "grid_template_areas": null,
            "object_position": null,
            "object_fit": null,
            "grid_auto_columns": null,
            "margin": null,
            "display": null,
            "left": null
          }
        },
        "2ffcfb41823244fa9f01dedabdf35390": {
          "model_module": "@jupyter-widgets/controls",
          "model_name": "FloatProgressModel",
          "state": {
            "_view_name": "ProgressView",
            "style": "IPY_MODEL_4a4ea58d041a42c9bee6c0a5939f3531",
            "_dom_classes": [],
            "description": "",
            "_model_name": "FloatProgressModel",
            "bar_style": "info",
            "max": 1,
            "_view_module": "@jupyter-widgets/controls",
            "_model_module_version": "1.5.0",
            "value": 1,
            "_view_count": null,
            "_view_module_version": "1.5.0",
            "orientation": "horizontal",
            "min": 0,
            "description_tooltip": null,
            "_model_module": "@jupyter-widgets/controls",
            "layout": "IPY_MODEL_1ce28575c25140c38af404b4ffcaf4e9"
          }
        },
        "0f6cfbb9d4c54f31869bbfd6365820d8": {
          "model_module": "@jupyter-widgets/controls",
          "model_name": "HTMLModel",
          "state": {
            "_view_name": "HTMLView",
            "style": "IPY_MODEL_f1e2166f1f4b45a5ab24f01dcd55223b",
            "_dom_classes": [],
            "description": "",
            "_model_name": "HTMLModel",
            "placeholder": "​",
            "_view_module": "@jupyter-widgets/controls",
            "_model_module_version": "1.5.0",
            "value": " 85981/? [00:40&lt;00:00, 1908.75 examples/s]",
            "_view_count": null,
            "_view_module_version": "1.5.0",
            "description_tooltip": null,
            "_model_module": "@jupyter-widgets/controls",
            "layout": "IPY_MODEL_78910676a78d428c8caf770f853dd906"
          }
        },
        "4a4ea58d041a42c9bee6c0a5939f3531": {
          "model_module": "@jupyter-widgets/controls",
          "model_name": "ProgressStyleModel",
          "state": {
            "_view_name": "StyleView",
            "_model_name": "ProgressStyleModel",
            "description_width": "initial",
            "_view_module": "@jupyter-widgets/base",
            "_model_module_version": "1.5.0",
            "_view_count": null,
            "_view_module_version": "1.2.0",
            "bar_color": null,
            "_model_module": "@jupyter-widgets/controls"
          }
        },
        "1ce28575c25140c38af404b4ffcaf4e9": {
          "model_module": "@jupyter-widgets/base",
          "model_name": "LayoutModel",
          "state": {
            "_view_name": "LayoutView",
            "grid_template_rows": null,
            "right": null,
            "justify_content": null,
            "_view_module": "@jupyter-widgets/base",
            "overflow": null,
            "_model_module_version": "1.2.0",
            "_view_count": null,
            "flex_flow": null,
            "width": null,
            "min_width": null,
            "border": null,
            "align_items": null,
            "bottom": null,
            "_model_module": "@jupyter-widgets/base",
            "top": null,
            "grid_column": null,
            "overflow_y": null,
            "overflow_x": null,
            "grid_auto_flow": null,
            "grid_area": null,
            "grid_template_columns": null,
            "flex": null,
            "_model_name": "LayoutModel",
            "justify_items": null,
            "grid_row": null,
            "max_height": null,
            "align_content": null,
            "visibility": null,
            "align_self": null,
            "height": null,
            "min_height": null,
            "padding": null,
            "grid_auto_rows": null,
            "grid_gap": null,
            "max_width": null,
            "order": null,
            "_view_module_version": "1.2.0",
            "grid_template_areas": null,
            "object_position": null,
            "object_fit": null,
            "grid_auto_columns": null,
            "margin": null,
            "display": null,
            "left": null
          }
        },
        "f1e2166f1f4b45a5ab24f01dcd55223b": {
          "model_module": "@jupyter-widgets/controls",
          "model_name": "DescriptionStyleModel",
          "state": {
            "_view_name": "StyleView",
            "_model_name": "DescriptionStyleModel",
            "description_width": "",
            "_view_module": "@jupyter-widgets/base",
            "_model_module_version": "1.5.0",
            "_view_count": null,
            "_view_module_version": "1.2.0",
            "_model_module": "@jupyter-widgets/controls"
          }
        },
        "78910676a78d428c8caf770f853dd906": {
          "model_module": "@jupyter-widgets/base",
          "model_name": "LayoutModel",
          "state": {
            "_view_name": "LayoutView",
            "grid_template_rows": null,
            "right": null,
            "justify_content": null,
            "_view_module": "@jupyter-widgets/base",
            "overflow": null,
            "_model_module_version": "1.2.0",
            "_view_count": null,
            "flex_flow": null,
            "width": null,
            "min_width": null,
            "border": null,
            "align_items": null,
            "bottom": null,
            "_model_module": "@jupyter-widgets/base",
            "top": null,
            "grid_column": null,
            "overflow_y": null,
            "overflow_x": null,
            "grid_auto_flow": null,
            "grid_area": null,
            "grid_template_columns": null,
            "flex": null,
            "_model_name": "LayoutModel",
            "justify_items": null,
            "grid_row": null,
            "max_height": null,
            "align_content": null,
            "visibility": null,
            "align_self": null,
            "height": null,
            "min_height": null,
            "padding": null,
            "grid_auto_rows": null,
            "grid_gap": null,
            "max_width": null,
            "order": null,
            "_view_module_version": "1.2.0",
            "grid_template_areas": null,
            "object_position": null,
            "object_fit": null,
            "grid_auto_columns": null,
            "margin": null,
            "display": null,
            "left": null
          }
        }
      }
    }
  },
  "cells": [
    {
      "cell_type": "markdown",
      "metadata": {
        "id": "view-in-github",
        "colab_type": "text"
      },
      "source": [
        "<a href=\"https://colab.research.google.com/github/prasvijaya/datascienceportfolio/blob/master/Sentimental_analysis_using_GBM.ipynb\" target=\"_parent\"><img src=\"https://colab.research.google.com/assets/colab-badge.svg\" alt=\"Open In Colab\"/></a>"
      ]
    },
    {
      "cell_type": "code",
      "metadata": {
        "id": "AHq2aUpRZpTH",
        "colab_type": "code",
        "colab": {
          "base_uri": "https://localhost:8080/",
          "height": 201
        },
        "outputId": "df6c9e5b-7115-460d-ff63-4840d39c2ade"
      },
      "source": [
        "!apt-get install default-jre\n",
        "!java-version "
      ],
      "execution_count": 3,
      "outputs": [
        {
          "output_type": "stream",
          "text": [
            "Reading package lists... Done\n",
            "Building dependency tree       \n",
            "Reading state information... Done\n",
            "default-jre is already the newest version (2:1.11-68ubuntu1~18.04.1).\n",
            "default-jre set to manually installed.\n",
            "The following package was automatically installed and is no longer required:\n",
            "  libnvidia-common-440\n",
            "Use 'apt autoremove' to remove it.\n",
            "0 upgraded, 0 newly installed, 0 to remove and 39 not upgraded.\n",
            "/bin/bash: java-version: command not found\n"
          ],
          "name": "stdout"
        }
      ]
    },
    {
      "cell_type": "markdown",
      "metadata": {
        "id": "MvrWLZqHl588",
        "colab_type": "text"
      },
      "source": [
        "# New Section"
      ]
    },
    {
      "cell_type": "code",
      "metadata": {
        "id": "oWYmsVc3ZxX9",
        "colab_type": "code",
        "colab": {
          "base_uri": "https://localhost:8080/",
          "height": 386
        },
        "outputId": "0d57c7dd-d350-4232-f8a9-ac6aabe826f0"
      },
      "source": [
        "!pip install h2o"
      ],
      "execution_count": 4,
      "outputs": [
        {
          "output_type": "stream",
          "text": [
            "Collecting h2o\n",
            "\u001b[?25l  Downloading https://files.pythonhosted.org/packages/b0/e7/b7057e4a6832f3bec0cb36fda4913bf84a6dc610c92a2d3543442f4154a1/h2o-3.30.1.1.tar.gz (129.3MB)\n",
            "\u001b[K     |████████████████████████████████| 129.3MB 103kB/s \n",
            "\u001b[?25hRequirement already satisfied: requests in /usr/local/lib/python3.6/dist-packages (from h2o) (2.23.0)\n",
            "Requirement already satisfied: tabulate in /usr/local/lib/python3.6/dist-packages (from h2o) (0.8.7)\n",
            "Requirement already satisfied: future in /usr/local/lib/python3.6/dist-packages (from h2o) (0.16.0)\n",
            "Collecting colorama>=0.3.8\n",
            "  Downloading https://files.pythonhosted.org/packages/c9/dc/45cdef1b4d119eb96316b3117e6d5708a08029992b2fee2c143c7a0a5cc5/colorama-0.4.3-py2.py3-none-any.whl\n",
            "Requirement already satisfied: urllib3!=1.25.0,!=1.25.1,<1.26,>=1.21.1 in /usr/local/lib/python3.6/dist-packages (from requests->h2o) (1.24.3)\n",
            "Requirement already satisfied: idna<3,>=2.5 in /usr/local/lib/python3.6/dist-packages (from requests->h2o) (2.10)\n",
            "Requirement already satisfied: certifi>=2017.4.17 in /usr/local/lib/python3.6/dist-packages (from requests->h2o) (2020.6.20)\n",
            "Requirement already satisfied: chardet<4,>=3.0.2 in /usr/local/lib/python3.6/dist-packages (from requests->h2o) (3.0.4)\n",
            "Building wheels for collected packages: h2o\n",
            "  Building wheel for h2o (setup.py) ... \u001b[?25l\u001b[?25hdone\n",
            "  Created wheel for h2o: filename=h2o-3.30.1.1-py2.py3-none-any.whl size=129358602 sha256=d6bcc0497de12481d3093c2a6d3ce50b4b90c3711888a0d429a0856f4b0e2cdd\n",
            "  Stored in directory: /root/.cache/pip/wheels/33/ac/52/165c35d747abdb629c3c9fb7e087f360c662d8cb58824caed8\n",
            "Successfully built h2o\n",
            "Installing collected packages: colorama, h2o\n",
            "Successfully installed colorama-0.4.3 h2o-3.30.1.1\n"
          ],
          "name": "stdout"
        }
      ]
    },
    {
      "cell_type": "code",
      "metadata": {
        "id": "IVSj0nnraCR6",
        "colab_type": "code",
        "colab": {}
      },
      "source": [
        "import tensorflow_datasets as tfds\n",
        "import numpy as np\n",
        "import pandas as pd\n",
        "import matplotlib.pyplot as plt\n",
        "import h2o\n",
        "import nltk\n",
        "import spacy\n",
        "import re\n",
        "from nltk.stem.porter import PorterStemmer\n",
        "from sklearn.model_selection import train_test_split\n",
        "from sklearn.feature_extraction.text import TfidfVectorizer\n",
        "from h2o.automl import H2OAutoML"
      ],
      "execution_count": 5,
      "outputs": []
    },
    {
      "cell_type": "code",
      "metadata": {
        "id": "LmI-rXw9aPiK",
        "colab_type": "code",
        "colab": {
          "base_uri": "https://localhost:8080/",
          "height": 564
        },
        "outputId": "022e1f69-bf27-46ff-f00e-7a6eafd4258e"
      },
      "source": [
        "h2o.init()"
      ],
      "execution_count": 6,
      "outputs": [
        {
          "output_type": "stream",
          "text": [
            "Checking whether there is an H2O instance running at http://localhost:54321 ..... not found.\n",
            "Attempting to start a local H2O server...\n",
            "  Java Version: openjdk version \"11.0.8\" 2020-07-14; OpenJDK Runtime Environment (build 11.0.8+10-post-Ubuntu-0ubuntu118.04.1); OpenJDK 64-Bit Server VM (build 11.0.8+10-post-Ubuntu-0ubuntu118.04.1, mixed mode, sharing)\n",
            "  Starting server from /usr/local/lib/python3.6/dist-packages/h2o/backend/bin/h2o.jar\n",
            "  Ice root: /tmp/tmp3i17ca17\n",
            "  JVM stdout: /tmp/tmp3i17ca17/h2o_unknownUser_started_from_python.out\n",
            "  JVM stderr: /tmp/tmp3i17ca17/h2o_unknownUser_started_from_python.err\n",
            "  Server is running at http://127.0.0.1:54321\n",
            "Connecting to H2O server at http://127.0.0.1:54321 ... successful.\n"
          ],
          "name": "stdout"
        },
        {
          "output_type": "display_data",
          "data": {
            "text/html": [
              "<div style=\"overflow:auto\"><table style=\"width:50%\"><tr><td>H2O_cluster_uptime:</td>\n",
              "<td>02 secs</td></tr>\n",
              "<tr><td>H2O_cluster_timezone:</td>\n",
              "<td>Etc/UTC</td></tr>\n",
              "<tr><td>H2O_data_parsing_timezone:</td>\n",
              "<td>UTC</td></tr>\n",
              "<tr><td>H2O_cluster_version:</td>\n",
              "<td>3.30.1.1</td></tr>\n",
              "<tr><td>H2O_cluster_version_age:</td>\n",
              "<td>22 days </td></tr>\n",
              "<tr><td>H2O_cluster_name:</td>\n",
              "<td>H2O_from_python_unknownUser_ouka7d</td></tr>\n",
              "<tr><td>H2O_cluster_total_nodes:</td>\n",
              "<td>1</td></tr>\n",
              "<tr><td>H2O_cluster_free_memory:</td>\n",
              "<td>3.180 Gb</td></tr>\n",
              "<tr><td>H2O_cluster_total_cores:</td>\n",
              "<td>2</td></tr>\n",
              "<tr><td>H2O_cluster_allowed_cores:</td>\n",
              "<td>2</td></tr>\n",
              "<tr><td>H2O_cluster_status:</td>\n",
              "<td>accepting new members, healthy</td></tr>\n",
              "<tr><td>H2O_connection_url:</td>\n",
              "<td>http://127.0.0.1:54321</td></tr>\n",
              "<tr><td>H2O_connection_proxy:</td>\n",
              "<td>{\"http\": null, \"https\": null}</td></tr>\n",
              "<tr><td>H2O_internal_security:</td>\n",
              "<td>False</td></tr>\n",
              "<tr><td>H2O_API_Extensions:</td>\n",
              "<td>Amazon S3, XGBoost, Algos, AutoML, Core V3, TargetEncoder, Core V4</td></tr>\n",
              "<tr><td>Python_version:</td>\n",
              "<td>3.6.9 final</td></tr></table></div>"
            ],
            "text/plain": [
              "--------------------------  ------------------------------------------------------------------\n",
              "H2O_cluster_uptime:         02 secs\n",
              "H2O_cluster_timezone:       Etc/UTC\n",
              "H2O_data_parsing_timezone:  UTC\n",
              "H2O_cluster_version:        3.30.1.1\n",
              "H2O_cluster_version_age:    22 days\n",
              "H2O_cluster_name:           H2O_from_python_unknownUser_ouka7d\n",
              "H2O_cluster_total_nodes:    1\n",
              "H2O_cluster_free_memory:    3.180 Gb\n",
              "H2O_cluster_total_cores:    2\n",
              "H2O_cluster_allowed_cores:  2\n",
              "H2O_cluster_status:         accepting new members, healthy\n",
              "H2O_connection_url:         http://127.0.0.1:54321\n",
              "H2O_connection_proxy:       {\"http\": null, \"https\": null}\n",
              "H2O_internal_security:      False\n",
              "H2O_API_Extensions:         Amazon S3, XGBoost, Algos, AutoML, Core V3, TargetEncoder, Core V4\n",
              "Python_version:             3.6.9 final\n",
              "--------------------------  ------------------------------------------------------------------"
            ]
          },
          "metadata": {
            "tags": []
          }
        }
      ]
    },
    {
      "cell_type": "code",
      "metadata": {
        "id": "eeqVxJ-3abq2",
        "colab_type": "code",
        "colab": {
          "base_uri": "https://localhost:8080/",
          "height": 436,
          "referenced_widgets": [
            "3e2188bf0ee1480dbdd8a5b4fa3efa31",
            "a0e1957ba45342d3b4e7ba4eb8d17581",
            "ad48e9306b1c4d029126ecf15916296f",
            "bbbf7ba7f41a48bcaaa3fc5b38f6db75",
            "cb138484054b41cca5a4a050ed5d3d78",
            "1455963e010243dab1a5d035ff316e24",
            "dbbd04354cea4fb2a62c617a9cd14c0e",
            "0e2ce8d0c525402c978241fb9b70e4b7",
            "150bd807e2334bc88fdc7028107a2c53",
            "59ebc0444b6741de9f9612b64800cd75",
            "baae8a1be114491994a22720c27b6b1e",
            "90355519f5504f0c99bbff6252dda920",
            "b4c088566de1418e827f95883e147c33",
            "3892058e66f845fbac76cab41abc8da9",
            "f60bf24cc1b24578878e4ca593bead45",
            "cce83b5c40dc431bb3e2d4b806cd9210",
            "70cd8d6609f742aa9f7390f9841d31cc",
            "e09328a3baaf46dda20123d7f320af7c",
            "a7dcc8a083b94b88b52e5c8e8bad73bb",
            "b3f80252fdb84fe3b03945c49aece43b",
            "46fa88fca3634a3c9e569efe9549ee84",
            "74e19a24f5a34f95ae617905a6da30bc",
            "9d93eb3cda9042e999246a4d7b0db90f",
            "14f1c56c2fdb4b6d8ed64e87b778d6c1",
            "e4c7cc91f2054e9296d87f232f8d543c",
            "a77844ea758b42689e4241434a52151a",
            "7543442c5d3d4f5fbb0db356db30575b",
            "e19f489bb0bd475a8f773339ed7baf00",
            "20336e2b6240431091a491a69abaa5f2",
            "f6877db56dd44c9294a0dff640c6c62c",
            "ed4e6398e1ce49c0aa4c5b475c6d4cff",
            "7ab41aa992de4b7a83565ee0b5fe25af",
            "2d4eb37f876e40d8b56f59628280c73f",
            "b62e481d808148f48a272ad8676c1f7a",
            "0012ddb6eee541c0a07379d7d121fbc3",
            "7c918358d1a94c41bdd31603a6846b6d",
            "a6f84f3de66c42d795e596752d0f9952",
            "5945592e1da84131a13320fc0f7c0c4b",
            "d7c4e6468ac74c7c9a143a54f1fdeb0a",
            "1aa9fa679c294345b65ff31e5ccca13c",
            "dcfd30f9d5b94d34b10c932aab0bdb39",
            "b8e617946eef4fa1beff4e98fed7495f",
            "348abaa59c4242d08162677c19bedce5",
            "4e3c193d8d7045efaa1296803f2e0a12",
            "d9e76dd6ee7b4a58882c48da10a018be",
            "d48d2472c72f4986bd863c20d62da277",
            "40c734bc0e6748d7b450023bf5605951",
            "3b01163c0a4147b6a479f1a0fdfea87a",
            "e3b5f50ced2a4f54b3bbc90f7bcd5437",
            "6879a716328f4d96bc5fce9e59465b95",
            "2ffcfb41823244fa9f01dedabdf35390",
            "0f6cfbb9d4c54f31869bbfd6365820d8",
            "4a4ea58d041a42c9bee6c0a5939f3531",
            "1ce28575c25140c38af404b4ffcaf4e9",
            "f1e2166f1f4b45a5ab24f01dcd55223b",
            "78910676a78d428c8caf770f853dd906"
          ]
        },
        "outputId": "b5ec1ba8-ebf3-44ef-bb7d-b99983745eb2"
      },
      "source": [
        "dataset, info = tfds.load('amazon_us_reviews/Personal_Care_Appliances_v1_00', with_info=True, batch_size=-1)\n",
        "train_dataset= dataset['train']"
      ],
      "execution_count": 7,
      "outputs": [
        {
          "output_type": "stream",
          "text": [
            "Downloading and preparing dataset amazon_us_reviews/Personal_Care_Appliances_v1_00/0.1.0 (download: 16.82 MiB, generated: Unknown size, total: 16.82 MiB) to /root/tensorflow_datasets/amazon_us_reviews/Personal_Care_Appliances_v1_00/0.1.0...\n"
          ],
          "name": "stdout"
        },
        {
          "output_type": "display_data",
          "data": {
            "application/vnd.jupyter.widget-view+json": {
              "model_id": "3e2188bf0ee1480dbdd8a5b4fa3efa31",
              "version_minor": 0,
              "version_major": 2
            },
            "text/plain": [
              "HBox(children=(FloatProgress(value=1.0, bar_style='info', description='Dl Completed...', max=1.0, style=Progre…"
            ]
          },
          "metadata": {
            "tags": []
          }
        },
        {
          "output_type": "display_data",
          "data": {
            "application/vnd.jupyter.widget-view+json": {
              "model_id": "150bd807e2334bc88fdc7028107a2c53",
              "version_minor": 0,
              "version_major": 2
            },
            "text/plain": [
              "HBox(children=(FloatProgress(value=1.0, bar_style='info', description='Dl Size...', max=1.0, style=ProgressSty…"
            ]
          },
          "metadata": {
            "tags": []
          }
        },
        {
          "output_type": "display_data",
          "data": {
            "application/vnd.jupyter.widget-view+json": {
              "model_id": "70cd8d6609f742aa9f7390f9841d31cc",
              "version_minor": 0,
              "version_major": 2
            },
            "text/plain": [
              "HBox(children=(FloatProgress(value=1.0, bar_style='info', description='Extraction completed...', max=1.0, styl…"
            ]
          },
          "metadata": {
            "tags": []
          }
        },
        {
          "output_type": "stream",
          "text": [
            "/usr/local/lib/python3.6/dist-packages/urllib3/connectionpool.py:847: InsecureRequestWarning: Unverified HTTPS request is being made. Adding certificate verification is strongly advised. See: https://urllib3.readthedocs.io/en/latest/advanced-usage.html#ssl-warnings\n",
            "  InsecureRequestWarning)\n"
          ],
          "name": "stderr"
        },
        {
          "output_type": "stream",
          "text": [
            "\n",
            "\n",
            "\n",
            "\n",
            "\n",
            "\n"
          ],
          "name": "stdout"
        },
        {
          "output_type": "display_data",
          "data": {
            "application/vnd.jupyter.widget-view+json": {
              "model_id": "e4c7cc91f2054e9296d87f232f8d543c",
              "version_minor": 0,
              "version_major": 2
            },
            "text/plain": [
              "HBox(children=(FloatProgress(value=1.0, bar_style='info', max=1.0), HTML(value='')))"
            ]
          },
          "metadata": {
            "tags": []
          }
        },
        {
          "output_type": "stream",
          "text": [
            "\rShuffling and writing examples to /root/tensorflow_datasets/amazon_us_reviews/Personal_Care_Appliances_v1_00/0.1.0.incompleteL06B9B/amazon_us_reviews-train.tfrecord\n"
          ],
          "name": "stdout"
        },
        {
          "output_type": "display_data",
          "data": {
            "application/vnd.jupyter.widget-view+json": {
              "model_id": "2d4eb37f876e40d8b56f59628280c73f",
              "version_minor": 0,
              "version_major": 2
            },
            "text/plain": [
              "HBox(children=(FloatProgress(value=0.0, max=85981.0), HTML(value='')))"
            ]
          },
          "metadata": {
            "tags": []
          }
        },
        {
          "output_type": "display_data",
          "data": {
            "application/vnd.jupyter.widget-view+json": {
              "model_id": "dcfd30f9d5b94d34b10c932aab0bdb39",
              "version_minor": 0,
              "version_major": 2
            },
            "text/plain": [
              "HBox(children=(FloatProgress(value=0.0, description='Computing statistics...', max=1.0, style=ProgressStyle(de…"
            ]
          },
          "metadata": {
            "tags": []
          }
        },
        {
          "output_type": "stream",
          "text": [
            "\r"
          ],
          "name": "stdout"
        },
        {
          "output_type": "display_data",
          "data": {
            "application/vnd.jupyter.widget-view+json": {
              "model_id": "e3b5f50ced2a4f54b3bbc90f7bcd5437",
              "version_minor": 0,
              "version_major": 2
            },
            "text/plain": [
              "HBox(children=(FloatProgress(value=1.0, bar_style='info', max=1.0), HTML(value='')))"
            ]
          },
          "metadata": {
            "tags": []
          }
        },
        {
          "output_type": "stream",
          "text": [
            "\r"
          ],
          "name": "stdout"
        },
        {
          "output_type": "stream",
          "text": [
            "ERROR:absl:Statistics generation doesn't work for nested structures yet\n"
          ],
          "name": "stderr"
        },
        {
          "output_type": "stream",
          "text": [
            "\n",
            "Dataset amazon_us_reviews downloaded and prepared to /root/tensorflow_datasets/amazon_us_reviews/Personal_Care_Appliances_v1_00/0.1.0. Subsequent calls will reuse this data.\n"
          ],
          "name": "stdout"
        }
      ]
    },
    {
      "cell_type": "code",
      "metadata": {
        "id": "-0jaC0AscHcS",
        "colab_type": "code",
        "colab": {
          "base_uri": "https://localhost:8080/",
          "height": 1000
        },
        "outputId": "4aee62f3-5e8a-4f20-ba39-97b105786d9c"
      },
      "source": [
        "info"
      ],
      "execution_count": 8,
      "outputs": [
        {
          "output_type": "execute_result",
          "data": {
            "text/plain": [
              "tfds.core.DatasetInfo(\n",
              "    name='amazon_us_reviews',\n",
              "    version=0.1.0,\n",
              "    description='Amazon Customer Reviews (a.k.a. Product Reviews) is one of Amazons iconic products. In a period of over two decades since the first review in 1995, millions of Amazon customers have contributed over a hundred million reviews to express opinions and describe their experiences regarding products on the Amazon.com website. This makes Amazon Customer Reviews a rich source of information for academic researchers in the fields of Natural Language Processing (NLP), Information Retrieval (IR), and Machine Learning (ML), amongst others. Accordingly, we are releasing this data to further research in multiple disciplines related to understanding customer product experiences. Specifically, this dataset was constructed to represent a sample of customer evaluations and opinions, variation in the perception of a product across geographical regions, and promotional intent or bias in reviews.\n",
              "\n",
              "Over 130+ million customer reviews are available to researchers as part of this release. The data is available in TSV files in the amazon-reviews-pds S3 bucket in AWS US East Region. Each line in the data files corresponds to an individual review (tab delimited, with no quote and escape characters).\n",
              "\n",
              "Each Dataset contains the following columns : \n",
              "  marketplace       - 2 letter country code of the marketplace where the review was written.\n",
              "  customer_id       - Random identifier that can be used to aggregate reviews written by a single author.\n",
              "  review_id         - The unique ID of the review.\n",
              "  product_id        - The unique Product ID the review pertains to. In the multilingual dataset the reviews\n",
              "                      for the same product in different countries can be grouped by the same product_id.\n",
              "  product_parent    - Random identifier that can be used to aggregate reviews for the same product.\n",
              "  product_title     - Title of the product.\n",
              "  product_category  - Broad product category that can be used to group reviews \n",
              "                      (also used to group the dataset into coherent parts).\n",
              "  star_rating       - The 1-5 star rating of the review.\n",
              "  helpful_votes     - Number of helpful votes.\n",
              "  total_votes       - Number of total votes the review received.\n",
              "  vine              - Review was written as part of the Vine program.\n",
              "  verified_purchase - The review is on a verified purchase.\n",
              "  review_headline   - The title of the review.\n",
              "  review_body       - The review text.\n",
              "  review_date       - The date the review was written.\n",
              "',\n",
              "    homepage='https://s3.amazonaws.com/amazon-reviews-pds/readme.html',\n",
              "    features=FeaturesDict({\n",
              "        'data': FeaturesDict({\n",
              "            'customer_id': tf.string,\n",
              "            'helpful_votes': tf.int32,\n",
              "            'marketplace': tf.string,\n",
              "            'product_category': tf.string,\n",
              "            'product_id': tf.string,\n",
              "            'product_parent': tf.string,\n",
              "            'product_title': tf.string,\n",
              "            'review_body': tf.string,\n",
              "            'review_date': tf.string,\n",
              "            'review_headline': tf.string,\n",
              "            'review_id': tf.string,\n",
              "            'star_rating': tf.int32,\n",
              "            'total_votes': tf.int32,\n",
              "            'verified_purchase': ClassLabel(shape=(), dtype=tf.int64, num_classes=2),\n",
              "            'vine': ClassLabel(shape=(), dtype=tf.int64, num_classes=2),\n",
              "        }),\n",
              "    }),\n",
              "    total_num_examples=85981,\n",
              "    splits={\n",
              "        'train': 85981,\n",
              "    },\n",
              "    supervised_keys=None,\n",
              "    citation=\"\"\"\"\"\",\n",
              "    redistribution_info=,\n",
              ")"
            ]
          },
          "metadata": {
            "tags": []
          },
          "execution_count": 8
        }
      ]
    },
    {
      "cell_type": "code",
      "metadata": {
        "id": "lV_ayUuacP4p",
        "colab_type": "code",
        "colab": {
          "base_uri": "https://localhost:8080/",
          "height": 790
        },
        "outputId": "6d10b009-b027-4ff6-82aa-288648f48517"
      },
      "source": [
        "dataset= tfds.as_numpy(train_dataset)\n",
        "dataset"
      ],
      "execution_count": 9,
      "outputs": [
        {
          "output_type": "execute_result",
          "data": {
            "text/plain": [
              "{'data': {'customer_id': array([b'13986323', b'50574716', b'50593972', ..., b'40719682',\n",
              "         b'35596948', b'29430209'], dtype=object),\n",
              "  'helpful_votes': array([0, 3, 0, ..., 0, 0, 0], dtype=int32),\n",
              "  'marketplace': array([b'US', b'US', b'US', ..., b'US', b'US', b'US'], dtype=object),\n",
              "  'product_category': array([b'Personal_Care_Appliances', b'Personal_Care_Appliances',\n",
              "         b'Personal_Care_Appliances', ..., b'Personal_Care_Appliances',\n",
              "         b'Personal_Care_Appliances', b'Personal_Care_Appliances'],\n",
              "        dtype=object),\n",
              "  'product_id': array([b'B00847JQZ6', b'B00N5HD340', b'B0077L1X24', ..., b'B000UZ8X2W',\n",
              "         b'B000NURPPK', b'B001EY5GNW'], dtype=object),\n",
              "  'product_parent': array([b'997683625', b'955577225', b'120764066', ..., b'96066145',\n",
              "         b'58591097', b'986877728'], dtype=object),\n",
              "  'product_title': array([b'SE - Reading Glass - Spring Loaded Hinges, 4.0x - RTS62400',\n",
              "         b'Straight Razor',\n",
              "         b'Philips Sonicare Flexcare & Healthy White Plastic Travel Handle Case New Bulk Package',\n",
              "         ...,\n",
              "         b'Remington R-9200 Microflex Ultra TCT Shaver [Health and Beauty]',\n",
              "         b'SUNBEAM Cool Mist HUMIDIFIER with PermaFilter # 1120 \\xe2\\x80\\x93 1 Ea',\n",
              "         b'Andis Blade Set for T-Outliner Trimmer'], dtype=object),\n",
              "  'review_body': array([b\"These glasses are an excellent value.  The fit is good and they are very comfortable.  Because of my legal blindness, there aren't a lot of options to try to see better, but I believe these help with my other visual aids, and because they are reasonably priced I can have more than one pair available.\",\n",
              "         b\"Always wanted to try straight razor shaving (as a DE safety razor user), and this was a cheap way for me to determine I was not into it.<br /><br />Because the blades are disposable and always sharp, I could put a new one in and reasonably rely upon that fact that cuts were probably due to my technique and not the blade.<br /><br />It's very hard to do straight razor shaving on yourself because the ANGLE is difficult to control without switching hands. Being very right-handed, I really couldn't do that. I bet I could shave someone else's face with it though.<br /><br />An immediate upside? Using a DE safety razor (slant edged even) seems SUPER safe now! I'm increased my speed with the DE due to that confidence, and I'd been using it for years now.\",\n",
              "         b'I usually either throw my toothbrush in a plastic bag with spare head so this product is very convenient for keeping all the parts apart, dry and undamaged, and i now keep it in my travel bag all the time ready to go.',\n",
              "         ...,\n",
              "         b\"I have had a Remington before but needed a new one when the batteries died and the cutters were all but gone.  It was cheaper to buy a new one.  The new one has a nice charge level but the trimmer didn't work when I got it.\",\n",
              "         b\"I was surprised that it really didn't do much compared to the 1950s version that I'd inherited. Keeping a wet wash cloth next to my bed for when I start coughing in the middle of the night works better.\",\n",
              "         b'The blades were an excellent fit for my T-line trimmers.  Within five minutes I had my trimmers cleaned, the blades installed, and was putting them to use.  I saw the blades in several locations for almost twice the price I paid, so this worked out to be an awesome deal.'],\n",
              "        dtype=object),\n",
              "  'review_date': array([b'2015-01-04', b'2015-08-05', b'2012-11-17', ..., b'2008-02-08',\n",
              "         b'2007-09-07', b'2012-07-26'], dtype=object),\n",
              "  'review_headline': array([b'These glasses are an excellent value. The fit is good and they are ...',\n",
              "         b'A fantastic way to cheaply try straight razor shaving.',\n",
              "         b'Great for travel', ..., b'Trimmer Not Working',\n",
              "         b'Loud and ineffectual', b'Excellent product, awesomoe price'],\n",
              "        dtype=object),\n",
              "  'review_id': array([b'R3VEUFVA9QJY55', b'R2DTQV5SMJ0CK7', b'R3OJ06NK99WLNJ', ...,\n",
              "         b'R1ZQ0XZXOD9N18', b'R1FJ9OU429X00Y', b'RI28R1W94N1R6'],\n",
              "        dtype=object),\n",
              "  'star_rating': array([4, 5, 4, ..., 3, 2, 5], dtype=int32),\n",
              "  'total_votes': array([0, 3, 0, ..., 0, 0, 0], dtype=int32),\n",
              "  'verified_purchase': array([0, 0, 0, ..., 1, 0, 0]),\n",
              "  'vine': array([1, 1, 1, ..., 1, 1, 1])}}"
            ]
          },
          "metadata": {
            "tags": []
          },
          "execution_count": 9
        }
      ]
    },
    {
      "cell_type": "markdown",
      "metadata": {
        "id": "1sR5bq73AEYP",
        "colab_type": "text"
      },
      "source": [
        "We have review_body, review_headline consists of unstructured Text data. We will use these two columns for our building. Based on our baseline performance we will add new features based on weightage. star_rating will consists of rating ranges from 1-5 where 5 is highest rating. We need to perform sentiment analysis based on star_rating. We can either consider this target class as it to build multiclassification or transform to have 2 class labels for Binary Classification. For now, we will build it binary clasification"
      ]
    },
    {
      "cell_type": "code",
      "metadata": {
        "id": "Ss0NbdNuACby",
        "colab_type": "code",
        "colab": {}
      },
      "source": [
        "review_headline= dataset['data']['review_headline']\n",
        "review_body= dataset['data']['review_body']\n",
        "rating= dataset['data']['star_rating']"
      ],
      "execution_count": 10,
      "outputs": []
    },
    {
      "cell_type": "markdown",
      "metadata": {
        "id": "JxFkf69VC_yk",
        "colab_type": "text"
      },
      "source": [
        "based on above 3 variables, we will create H20 dataframe like we create pandas dataframe."
      ]
    },
    {
      "cell_type": "code",
      "metadata": {
        "id": "8ZGNPM37_9c-",
        "colab_type": "code",
        "colab": {
          "base_uri": "https://localhost:8080/",
          "height": 35
        },
        "outputId": "3c2d644b-ca29-4425-ab1d-f1b5f78aeba2"
      },
      "source": [
        "h2o_df=h2o.H2OFrame(np.hstack((review_headline[:,None],review_body[:,None],rating[:,None])),column_names=['headline','reviews','rating'],column_types=['string','string','numeric'])"
      ],
      "execution_count": 11,
      "outputs": [
        {
          "output_type": "stream",
          "text": [
            "Parse progress: |█████████████████████████████████████████████████████████| 100%\n"
          ],
          "name": "stdout"
        }
      ]
    },
    {
      "cell_type": "code",
      "metadata": {
        "id": "iBVRbiinGxs4",
        "colab_type": "code",
        "colab": {
          "base_uri": "https://localhost:8080/",
          "height": 845
        },
        "outputId": "ca127a2f-0596-4aef-d19f-61ae375c8642"
      },
      "source": [
        "h2o_df.head()"
      ],
      "execution_count": 12,
      "outputs": [
        {
          "output_type": "display_data",
          "data": {
            "text/html": [
              "<table>\n",
              "<thead>\n",
              "<tr><th>headline                                                                 </th><th>reviews                                                                                                                                                                                                                                                                                                                                                                                                                                                                                                                                                                                                                                                                                                                                                                                                                                                                                                                                                                                                                                                                                                                           </th><th style=\"text-align: right;\">  rating</th></tr>\n",
              "</thead>\n",
              "<tbody>\n",
              "<tr><td>b&#x27;These glasses are an excellent value. The fit is good and they are ...&#x27;</td><td>b&quot;These glasses are an excellent value.  The fit is good and they are very comfortable.  Because of my legal blindness, there aren&#x27;t a lot of options to try to see better, but I believe these help with my other visual aids, and because they are reasonably priced I can have more than one pair available.&quot;                                                                                                                                                                                                                                                                                                                                                                                                                                                                                                                                                                                                                                                                                                                                                                                                                  </td><td style=\"text-align: right;\">       4</td></tr>\n",
              "<tr><td>b&#x27;A fantastic way to cheaply try straight razor shaving.&#x27;                </td><td>b&quot;Always wanted to try straight razor shaving (as a DE safety razor user), and this was a cheap way for me to determine I was not into it.&lt;br /&gt;&lt;br /&gt;Because the blades are disposable and always sharp, I could put a new one in and reasonably rely upon that fact that cuts were probably due to my technique and not the blade.&lt;br /&gt;&lt;br /&gt;It&#x27;s very hard to do straight razor shaving on yourself because the ANGLE is difficult to control without switching hands. Being very right-handed, I really couldn&#x27;t do that. I bet I could shave someone else&#x27;s face with it though.&lt;br /&gt;&lt;br /&gt;An immediate upside? Using a DE safety razor (slant edged even) seems SUPER safe now! I&#x27;m increased my speed with the DE due to that confidence, and I&#x27;d been using it for years now.&quot;                                                                                                                                                                                                                                                                                                                                          </td><td style=\"text-align: right;\">       5</td></tr>\n",
              "<tr><td>b&#x27;Great for travel&#x27;                                                      </td><td>b&#x27;I usually either throw my toothbrush in a plastic bag with spare head so this product is very convenient for keeping all the parts apart, dry and undamaged, and i now keep it in my travel bag all the time ready to go.&#x27;                                                                                                                                                                                                                                                                                                                                                                                                                                                                                                                                                                                                                                                                                                                                                                                                                                                                                                      </td><td style=\"text-align: right;\">       4</td></tr>\n",
              "<tr><td>b&#x27;Five Stars&#x27;                                                            </td><td>b&#x27;Top quality.&#x27;                                                                                                                                                                                                                                                                                                                                                                                                                                                                                                                                                                                                                                                                                                                                                                                                                                                                                                                                                                                                                                                                                                                   </td><td style=\"text-align: right;\">       5</td></tr>\n",
              "<tr><td>b&#x27;*Product sent not as shown&#x27;                                            </td><td>b&#x27;Today I received  1 Fl. Oz, Natures Balance AlkaMAX alkaline booster liquid unflavored (formally TriMedica) a glass brown bottle with eye dropper.&lt;br /&gt;Supplement Facts; Serving Size: 10 Drops (Approx. 0.5 mL). Servings per Container: Approx. 60&lt;br /&gt;Amount Per Serving % Daily Value&lt;br /&gt;Magnesium (as Magnesium Chloride) 40 mg 10%&lt;br /&gt;Chloride (as Magnesium Chloride) 64 mg 2%&lt;br /&gt;Other Ingredients: Deionized water and trace mineral complex.&lt;br /&gt;Directions: Add 10 drops to 8 oz. of water or other beverage daily as needed or as directed by your health care practitioner. Store in a cool, dry place.&lt;br /&gt;&lt;br /&gt;I have not used product as of yet with changed ingredients of original/as shown in AlkaMax alkaline support white squeeze bottle.&lt;br /&gt;but had to rate to post...heck this new may be better for all I know.&#x27;                                                                                                                                                                                                                                                                          </td><td style=\"text-align: right;\">       3</td></tr>\n",
              "<tr><td>b&#x27;Seems to work well!&#x27;                                                   </td><td>b&#x27;I recently picked this unit up at Bed and Bath where it was $99.00. With a 20% coupon the price was $80 (so comparison shop!) It\\&#x27;s easy to use and seems to work well. I agree with other reviewers about the noise level (loud like a tea kettle boiling), but I use this unit in the living room area so sleeping is not an issue. Having the 2 separate water reservoirs to fill is much easier, weight-wise, as I previously had another humidifier which had one large water reservoir and it was very heavy when full. The unit comes apart quite easily for cleaning and since frequent cleaning is recommended (I usually do it 1x per week, not daily) this is a definite plus. Additionally, one only needs to use vinegar to clean the inside reservoir, which is a lot cheaper than having to buy some kind of \\\\\\\\&quot;special\\\\\\\\&quot; cleaning solution. My one complaint is that it doesn\\&#x27;t, but should, have an automatic shut off when both tanks are empty.I have to remember to turn the unit off when I leave the house. My previous humidifiers all had this auto turn off; seems like every humidifier should.&#x27;</td><td style=\"text-align: right;\">       4</td></tr>\n",
              "<tr><td>b&#x27;deep heat?????&#x27;                                                        </td><td>b&#x27;Not sure what previous reviewer was talking about. The product uses ULTRASOUND waves for pain relief NOT heat.  After repeated use, the pain in my knee and shoulder was feeling great. I think you should re-read the description and reconsider your opinion. Great product sold by a great company.&#x27;                                                                                                                                                                                                                                                                                                                                                                                                                                                                                                                                                                                                                                                                                                                                                                                                                         </td><td style=\"text-align: right;\">       5</td></tr>\n",
              "<tr><td>b&#x27;Thermometer for a toddler&#x27;                                             </td><td>b&quot;The shippers were great....willing to consider speedier shipping options, but in the end the standard shipping arrived quickly enough. The thermometer is fun and easy to use, but with an inquisitive toddler, it would be nice to have the plastic cap attached to the body so that it doesn&#x27;t disappear.  Would buy it again from these sellers.&quot;                                                                                                                                                                                                                                                                                                                                                                                                                                                                                                                                                                                                                                                                                                                                                                            </td><td style=\"text-align: right;\">       4</td></tr>\n",
              "<tr><td>b&#x27;Wow!&#x27;                                                                  </td><td>b&quot;Man, for all you who know what I&#x27;m talking about, this is the best thing I&#x27;ve ever had on my back.  I suffer from back pain constantly and find myself waking up in the middle of the night pushing parts of my back and neck on the edges of walls on the corners of doors and sometimes lying down on tennis or racket balls to get pressure on those dang trigger points.  I opted for the body sticks package not knowing what they would do and it was a good thing.  They are like have racket balls on the ends of sticks to beat your muscle spasms and to lie down on them rolling around on your back. It is worth the money.  They use a device similar to this in physical therapy so if you get your doctor to write you a script for it, insurance may very well pay for it like mine did.  Even so, paid or not, buy this sucker.  Buy two, I thought, just in case it breaks and they for some reason stop manufacturing this thing.  Good stuff.&quot;                                                                                                                                                              </td><td style=\"text-align: right;\">       5</td></tr>\n",
              "<tr><td>b&#x27;Great cane for people with hand and wrist issues&#x27;                      </td><td>b&quot;I purchased this cane to assist me when I have to walk long distances.  I have rheumatoid arthritis that has particularly affected my low back and hips, and it sometimes makes walking difficult.  The problem with using a cane when you have RA is that RA doesn&#x27;t just affect your lower extremities.  My hands, wrists, and shoulders are also affected.  When I tried a normal cane, it was agonizingly painful for my hand and wrist in particular.  That made it not worth using, even though it did help my hip and back.  A friend with similar issues recommended this one, and the difference was amazing.  It is still a bit hard on my hand after awhile, but not to the point that would make it not worth using.  There really is no perfect solution for this circumstance short of a wheelchair, and I&#x27;m nowhere near ready for that yet!  The forearm rest makes it bearable to use this cane, and it does really help me to walk longer distances when I need to!  It is a great product, and I&#x27;m happy that I purchased it!&quot;                                                                               </td><td style=\"text-align: right;\">       4</td></tr>\n",
              "</tbody>\n",
              "</table>"
            ]
          },
          "metadata": {
            "tags": []
          }
        },
        {
          "output_type": "execute_result",
          "data": {
            "text/plain": [
              ""
            ]
          },
          "metadata": {
            "tags": []
          },
          "execution_count": 12
        }
      ]
    },
    {
      "cell_type": "code",
      "metadata": {
        "id": "gPF1FwUfGn08",
        "colab_type": "code",
        "colab": {
          "base_uri": "https://localhost:8080/",
          "height": 35
        },
        "outputId": "9b05c270-d80f-48d1-a55c-a4dcc8911f88"
      },
      "source": [
        "h2o_df.shape"
      ],
      "execution_count": 13,
      "outputs": [
        {
          "output_type": "execute_result",
          "data": {
            "text/plain": [
              "(85981, 3)"
            ]
          },
          "metadata": {
            "tags": []
          },
          "execution_count": 13
        }
      ]
    },
    {
      "cell_type": "code",
      "metadata": {
        "id": "5yRpN5HBGqH2",
        "colab_type": "code",
        "colab": {
          "base_uri": "https://localhost:8080/",
          "height": 1000
        },
        "outputId": "1709c307-6bde-4bf2-a340-d0653ae540a8"
      },
      "source": [
        "h2o_df.describe()"
      ],
      "execution_count": 14,
      "outputs": [
        {
          "output_type": "stream",
          "text": [
            "Rows:85981\n",
            "Cols:3\n",
            "\n",
            "\n"
          ],
          "name": "stdout"
        },
        {
          "output_type": "display_data",
          "data": {
            "text/html": [
              "<table>\n",
              "<thead>\n",
              "<tr><th>       </th><th>headline                                                                 </th><th>reviews                                                                                                                                                                                                                                                                                                                                                                                                                                                                                                                                                                                                                                                                                                                                                                                                                                                                                                                                                                                                                                                                                                                           </th><th>rating            </th></tr>\n",
              "</thead>\n",
              "<tbody>\n",
              "<tr><td>type   </td><td>string                                                                   </td><td>string                                                                                                                                                                                                                                                                                                                                                                                                                                                                                                                                                                                                                                                                                                                                                                                                                                                                                                                                                                                                                                                                                                                            </td><td>int               </td></tr>\n",
              "<tr><td>mins   </td><td>NaN                                                                      </td><td>NaN                                                                                                                                                                                                                                                                                                                                                                                                                                                                                                                                                                                                                                                                                                                                                                                                                                                                                                                                                                                                                                                                                                                               </td><td>1.0               </td></tr>\n",
              "<tr><td>mean   </td><td>NaN                                                                      </td><td>NaN                                                                                                                                                                                                                                                                                                                                                                                                                                                                                                                                                                                                                                                                                                                                                                                                                                                                                                                                                                                                                                                                                                                               </td><td>3.9774019841592847</td></tr>\n",
              "<tr><td>maxs   </td><td>NaN                                                                      </td><td>NaN                                                                                                                                                                                                                                                                                                                                                                                                                                                                                                                                                                                                                                                                                                                                                                                                                                                                                                                                                                                                                                                                                                                               </td><td>5.0               </td></tr>\n",
              "<tr><td>sigma  </td><td>NaN                                                                      </td><td>NaN                                                                                                                                                                                                                                                                                                                                                                                                                                                                                                                                                                                                                                                                                                                                                                                                                                                                                                                                                                                                                                                                                                                               </td><td>1.4331302919714732</td></tr>\n",
              "<tr><td>zeros  </td><td>0                                                                        </td><td>0                                                                                                                                                                                                                                                                                                                                                                                                                                                                                                                                                                                                                                                                                                                                                                                                                                                                                                                                                                                                                                                                                                                                 </td><td>0                 </td></tr>\n",
              "<tr><td>missing</td><td>0                                                                        </td><td>0                                                                                                                                                                                                                                                                                                                                                                                                                                                                                                                                                                                                                                                                                                                                                                                                                                                                                                                                                                                                                                                                                                                                 </td><td>0                 </td></tr>\n",
              "<tr><td>0      </td><td>b&#x27;These glasses are an excellent value. The fit is good and they are ...&#x27;</td><td>b&quot;These glasses are an excellent value.  The fit is good and they are very comfortable.  Because of my legal blindness, there aren&#x27;t a lot of options to try to see better, but I believe these help with my other visual aids, and because they are reasonably priced I can have more than one pair available.&quot;                                                                                                                                                                                                                                                                                                                                                                                                                                                                                                                                                                                                                                                                                                                                                                                                                  </td><td>4.0               </td></tr>\n",
              "<tr><td>1      </td><td>b&#x27;A fantastic way to cheaply try straight razor shaving.&#x27;                </td><td>b&quot;Always wanted to try straight razor shaving (as a DE safety razor user), and this was a cheap way for me to determine I was not into it.&lt;br /&gt;&lt;br /&gt;Because the blades are disposable and always sharp, I could put a new one in and reasonably rely upon that fact that cuts were probably due to my technique and not the blade.&lt;br /&gt;&lt;br /&gt;It&#x27;s very hard to do straight razor shaving on yourself because the ANGLE is difficult to control without switching hands. Being very right-handed, I really couldn&#x27;t do that. I bet I could shave someone else&#x27;s face with it though.&lt;br /&gt;&lt;br /&gt;An immediate upside? Using a DE safety razor (slant edged even) seems SUPER safe now! I&#x27;m increased my speed with the DE due to that confidence, and I&#x27;d been using it for years now.&quot;                                                                                                                                                                                                                                                                                                                                          </td><td>5.0               </td></tr>\n",
              "<tr><td>2      </td><td>b&#x27;Great for travel&#x27;                                                      </td><td>b&#x27;I usually either throw my toothbrush in a plastic bag with spare head so this product is very convenient for keeping all the parts apart, dry and undamaged, and i now keep it in my travel bag all the time ready to go.&#x27;                                                                                                                                                                                                                                                                                                                                                                                                                                                                                                                                                                                                                                                                                                                                                                                                                                                                                                      </td><td>4.0               </td></tr>\n",
              "<tr><td>3      </td><td>b&#x27;Five Stars&#x27;                                                            </td><td>b&#x27;Top quality.&#x27;                                                                                                                                                                                                                                                                                                                                                                                                                                                                                                                                                                                                                                                                                                                                                                                                                                                                                                                                                                                                                                                                                                                   </td><td>5.0               </td></tr>\n",
              "<tr><td>4      </td><td>b&#x27;*Product sent not as shown&#x27;                                            </td><td>b&#x27;Today I received  1 Fl. Oz, Natures Balance AlkaMAX alkaline booster liquid unflavored (formally TriMedica) a glass brown bottle with eye dropper.&lt;br /&gt;Supplement Facts; Serving Size: 10 Drops (Approx. 0.5 mL). Servings per Container: Approx. 60&lt;br /&gt;Amount Per Serving % Daily Value&lt;br /&gt;Magnesium (as Magnesium Chloride) 40 mg 10%&lt;br /&gt;Chloride (as Magnesium Chloride) 64 mg 2%&lt;br /&gt;Other Ingredients: Deionized water and trace mineral complex.&lt;br /&gt;Directions: Add 10 drops to 8 oz. of water or other beverage daily as needed or as directed by your health care practitioner. Store in a cool, dry place.&lt;br /&gt;&lt;br /&gt;I have not used product as of yet with changed ingredients of original/as shown in AlkaMax alkaline support white squeeze bottle.&lt;br /&gt;but had to rate to post...heck this new may be better for all I know.&#x27;                                                                                                                                                                                                                                                                          </td><td>3.0               </td></tr>\n",
              "<tr><td>5      </td><td>b&#x27;Seems to work well!&#x27;                                                   </td><td>b&#x27;I recently picked this unit up at Bed and Bath where it was $99.00. With a 20% coupon the price was $80 (so comparison shop!) It\\&#x27;s easy to use and seems to work well. I agree with other reviewers about the noise level (loud like a tea kettle boiling), but I use this unit in the living room area so sleeping is not an issue. Having the 2 separate water reservoirs to fill is much easier, weight-wise, as I previously had another humidifier which had one large water reservoir and it was very heavy when full. The unit comes apart quite easily for cleaning and since frequent cleaning is recommended (I usually do it 1x per week, not daily) this is a definite plus. Additionally, one only needs to use vinegar to clean the inside reservoir, which is a lot cheaper than having to buy some kind of \\\\\\\\&quot;special\\\\\\\\&quot; cleaning solution. My one complaint is that it doesn\\&#x27;t, but should, have an automatic shut off when both tanks are empty.I have to remember to turn the unit off when I leave the house. My previous humidifiers all had this auto turn off; seems like every humidifier should.&#x27;</td><td>4.0               </td></tr>\n",
              "<tr><td>6      </td><td>b&#x27;deep heat?????&#x27;                                                        </td><td>b&#x27;Not sure what previous reviewer was talking about. The product uses ULTRASOUND waves for pain relief NOT heat.  After repeated use, the pain in my knee and shoulder was feeling great. I think you should re-read the description and reconsider your opinion. Great product sold by a great company.&#x27;                                                                                                                                                                                                                                                                                                                                                                                                                                                                                                                                                                                                                                                                                                                                                                                                                         </td><td>5.0               </td></tr>\n",
              "<tr><td>7      </td><td>b&#x27;Thermometer for a toddler&#x27;                                             </td><td>b&quot;The shippers were great....willing to consider speedier shipping options, but in the end the standard shipping arrived quickly enough. The thermometer is fun and easy to use, but with an inquisitive toddler, it would be nice to have the plastic cap attached to the body so that it doesn&#x27;t disappear.  Would buy it again from these sellers.&quot;                                                                                                                                                                                                                                                                                                                                                                                                                                                                                                                                                                                                                                                                                                                                                                            </td><td>4.0               </td></tr>\n",
              "<tr><td>8      </td><td>b&#x27;Wow!&#x27;                                                                  </td><td>b&quot;Man, for all you who know what I&#x27;m talking about, this is the best thing I&#x27;ve ever had on my back.  I suffer from back pain constantly and find myself waking up in the middle of the night pushing parts of my back and neck on the edges of walls on the corners of doors and sometimes lying down on tennis or racket balls to get pressure on those dang trigger points.  I opted for the body sticks package not knowing what they would do and it was a good thing.  They are like have racket balls on the ends of sticks to beat your muscle spasms and to lie down on them rolling around on your back. It is worth the money.  They use a device similar to this in physical therapy so if you get your doctor to write you a script for it, insurance may very well pay for it like mine did.  Even so, paid or not, buy this sucker.  Buy two, I thought, just in case it breaks and they for some reason stop manufacturing this thing.  Good stuff.&quot;                                                                                                                                                              </td><td>5.0               </td></tr>\n",
              "<tr><td>9      </td><td>b&#x27;Great cane for people with hand and wrist issues&#x27;                      </td><td>b&quot;I purchased this cane to assist me when I have to walk long distances.  I have rheumatoid arthritis that has particularly affected my low back and hips, and it sometimes makes walking difficult.  The problem with using a cane when you have RA is that RA doesn&#x27;t just affect your lower extremities.  My hands, wrists, and shoulders are also affected.  When I tried a normal cane, it was agonizingly painful for my hand and wrist in particular.  That made it not worth using, even though it did help my hip and back.  A friend with similar issues recommended this one, and the difference was amazing.  It is still a bit hard on my hand after awhile, but not to the point that would make it not worth using.  There really is no perfect solution for this circumstance short of a wheelchair, and I&#x27;m nowhere near ready for that yet!  The forearm rest makes it bearable to use this cane, and it does really help me to walk longer distances when I need to!  It is a great product, and I&#x27;m happy that I purchased it!&quot;                                                                               </td><td>4.0               </td></tr>\n",
              "</tbody>\n",
              "</table>"
            ]
          },
          "metadata": {
            "tags": []
          }
        }
      ]
    },
    {
      "cell_type": "code",
      "metadata": {
        "id": "HXPykHDtG7AE",
        "colab_type": "code",
        "colab": {
          "base_uri": "https://localhost:8080/",
          "height": 147
        },
        "outputId": "4ff32c1e-003f-4caa-def6-d281ec323d99"
      },
      "source": [
        "h2o_df['rating'].table()"
      ],
      "execution_count": 15,
      "outputs": [
        {
          "output_type": "display_data",
          "data": {
            "text/html": [
              "<table>\n",
              "<thead>\n",
              "<tr><th style=\"text-align: right;\">  rating</th><th style=\"text-align: right;\">  Count</th></tr>\n",
              "</thead>\n",
              "<tbody>\n",
              "<tr><td style=\"text-align: right;\">       1</td><td style=\"text-align: right;\">  11036</td></tr>\n",
              "<tr><td style=\"text-align: right;\">       2</td><td style=\"text-align: right;\">   5341</td></tr>\n",
              "<tr><td style=\"text-align: right;\">       3</td><td style=\"text-align: right;\">   7050</td></tr>\n",
              "<tr><td style=\"text-align: right;\">       4</td><td style=\"text-align: right;\">  13657</td></tr>\n",
              "<tr><td style=\"text-align: right;\">       5</td><td style=\"text-align: right;\">  48897</td></tr>\n",
              "</tbody>\n",
              "</table>"
            ]
          },
          "metadata": {
            "tags": []
          }
        },
        {
          "output_type": "execute_result",
          "data": {
            "text/plain": [
              ""
            ]
          },
          "metadata": {
            "tags": []
          },
          "execution_count": 15
        }
      ]
    },
    {
      "cell_type": "markdown",
      "metadata": {
        "id": "4qKmp1YxHAKp",
        "colab_type": "text"
      },
      "source": [
        "As you see, rating classes are imbalanced and labels ranging from 1-5. we can create new target column to make this rating into Binary values"
      ]
    },
    {
      "cell_type": "code",
      "metadata": {
        "id": "cGbgU0PhG_hP",
        "colab_type": "code",
        "colab": {}
      },
      "source": [
        "h2o_df['target'] = (h2o_df['rating'] >= 4).ifelse(\"1\", \"0\")"
      ],
      "execution_count": 16,
      "outputs": []
    },
    {
      "cell_type": "code",
      "metadata": {
        "id": "ux_B19LVHkIr",
        "colab_type": "code",
        "colab": {
          "base_uri": "https://localhost:8080/",
          "height": 83
        },
        "outputId": "0d20226c-181a-490a-dcf2-024d222e24ad"
      },
      "source": [
        "h2o_df['target'].table()"
      ],
      "execution_count": 17,
      "outputs": [
        {
          "output_type": "display_data",
          "data": {
            "text/html": [
              "<table>\n",
              "<thead>\n",
              "<tr><th style=\"text-align: right;\">  target</th><th style=\"text-align: right;\">  Count</th></tr>\n",
              "</thead>\n",
              "<tbody>\n",
              "<tr><td style=\"text-align: right;\">       0</td><td style=\"text-align: right;\">  23427</td></tr>\n",
              "<tr><td style=\"text-align: right;\">       1</td><td style=\"text-align: right;\">  62554</td></tr>\n",
              "</tbody>\n",
              "</table>"
            ]
          },
          "metadata": {
            "tags": []
          }
        },
        {
          "output_type": "execute_result",
          "data": {
            "text/plain": [
              ""
            ]
          },
          "metadata": {
            "tags": []
          },
          "execution_count": 17
        }
      ]
    },
    {
      "cell_type": "markdown",
      "metadata": {
        "id": "Nu1OtSadHpiY",
        "colab_type": "text"
      },
      "source": [
        "You could see target labels are changed to Binary. Class Labels are imbalanced as minor class is very low compared to major class"
      ]
    },
    {
      "cell_type": "code",
      "metadata": {
        "id": "cCZzH8_KH6GB",
        "colab_type": "code",
        "colab": {
          "base_uri": "https://localhost:8080/",
          "height": 54
        },
        "outputId": "16a754fd-be6f-46d9-bfc8-794833b9a0a2"
      },
      "source": [
        "from nltk.corpus import stopwords\n",
        "nltk.download('stopwords')\n",
        "stop_words = set(stopwords.words('english'))"
      ],
      "execution_count": 18,
      "outputs": [
        {
          "output_type": "stream",
          "text": [
            "[nltk_data] Downloading package stopwords to /root/nltk_data...\n",
            "[nltk_data]   Unzipping corpora/stopwords.zip.\n"
          ],
          "name": "stdout"
        }
      ]
    },
    {
      "cell_type": "code",
      "metadata": {
        "id": "tan8UKyjHox1",
        "colab_type": "code",
        "colab": {}
      },
      "source": [
        "def tokenize(line):\n",
        "  tokenized = line.tokenize(\"\\\\W+\")\n",
        "  tokenized = tokenized.tolower()\n",
        "  tokenized = tokenized[(tokenized.nchar() >= 2) | (tokenized.isna()),:]\n",
        "  tokenized_filter = tokenized[(tokenized.isna()) | (~ tokenized.isin(stop_words)),:]\n",
        "  return tokenized_filter"
      ],
      "execution_count": 19,
      "outputs": []
    },
    {
      "cell_type": "code",
      "metadata": {
        "id": "HgHiwK5_IOZT",
        "colab_type": "code",
        "colab": {}
      },
      "source": [
        "words_reviews = tokenize(h2o_df[\"reviews\"])"
      ],
      "execution_count": 20,
      "outputs": []
    },
    {
      "cell_type": "code",
      "metadata": {
        "id": "1GzRWb4rIPDb",
        "colab_type": "code",
        "colab": {}
      },
      "source": [
        "words_headline = tokenize(h2o_df[\"headline\"])"
      ],
      "execution_count": 21,
      "outputs": []
    },
    {
      "cell_type": "code",
      "metadata": {
        "id": "drt9Y5TfJ1xZ",
        "colab_type": "code",
        "colab": {
          "base_uri": "https://localhost:8080/",
          "height": 254
        },
        "outputId": "921fc320-20e3-4a82-d547-5b40ada50b4b"
      },
      "source": [
        "words_reviews.head()"
      ],
      "execution_count": 22,
      "outputs": [
        {
          "output_type": "display_data",
          "data": {
            "text/html": [
              "<table>\n",
              "<thead>\n",
              "<tr><th>C1         </th></tr>\n",
              "</thead>\n",
              "<tbody>\n",
              "<tr><td>glasses    </td></tr>\n",
              "<tr><td>excellent  </td></tr>\n",
              "<tr><td>value      </td></tr>\n",
              "<tr><td>fit        </td></tr>\n",
              "<tr><td>good       </td></tr>\n",
              "<tr><td>comfortable</td></tr>\n",
              "<tr><td>legal      </td></tr>\n",
              "<tr><td>blindness  </td></tr>\n",
              "<tr><td>lot        </td></tr>\n",
              "<tr><td>options    </td></tr>\n",
              "</tbody>\n",
              "</table>"
            ]
          },
          "metadata": {
            "tags": []
          }
        },
        {
          "output_type": "execute_result",
          "data": {
            "text/plain": [
              ""
            ]
          },
          "metadata": {
            "tags": []
          },
          "execution_count": 22
        }
      ]
    },
    {
      "cell_type": "code",
      "metadata": {
        "id": "c9CR1RslJ-Wv",
        "colab_type": "code",
        "colab": {
          "base_uri": "https://localhost:8080/",
          "height": 237
        },
        "outputId": "62681f9b-b4ec-436f-97ed-47de971c0090"
      },
      "source": [
        "words_headline.head()"
      ],
      "execution_count": 23,
      "outputs": [
        {
          "output_type": "display_data",
          "data": {
            "text/html": [
              "<table>\n",
              "<thead>\n",
              "<tr><th>C1       </th></tr>\n",
              "</thead>\n",
              "<tbody>\n",
              "<tr><td>glasses  </td></tr>\n",
              "<tr><td>excellent</td></tr>\n",
              "<tr><td>value    </td></tr>\n",
              "<tr><td>fit      </td></tr>\n",
              "<tr><td>good     </td></tr>\n",
              "<tr><td>         </td></tr>\n",
              "<tr><td>fantastic</td></tr>\n",
              "<tr><td>way      </td></tr>\n",
              "<tr><td>cheaply  </td></tr>\n",
              "<tr><td>try      </td></tr>\n",
              "</tbody>\n",
              "</table>"
            ]
          },
          "metadata": {
            "tags": []
          }
        },
        {
          "output_type": "execute_result",
          "data": {
            "text/plain": [
              ""
            ]
          },
          "metadata": {
            "tags": []
          },
          "execution_count": 23
        }
      ]
    },
    {
      "cell_type": "markdown",
      "metadata": {
        "id": "m7jQXnnBKVaD",
        "colab_type": "text"
      },
      "source": [
        "Above two cells shows the first few tokens of words_reviews and words_headline."
      ]
    },
    {
      "cell_type": "code",
      "metadata": {
        "id": "aLIrIH0pKdJn",
        "colab_type": "code",
        "colab": {
          "base_uri": "https://localhost:8080/",
          "height": 35
        },
        "outputId": "cc0350ed-3788-44be-bcf3-3030665011f1"
      },
      "source": [
        "print(words_reviews.shape, words_headline.shape)"
      ],
      "execution_count": 24,
      "outputs": [
        {
          "output_type": "stream",
          "text": [
            "(2797601, 1) (319384, 1)\n"
          ],
          "name": "stdout"
        }
      ]
    },
    {
      "cell_type": "code",
      "metadata": {
        "id": "g27SWxWRKoCw",
        "colab_type": "code",
        "colab": {}
      },
      "source": [
        "from h2o.estimators.word2vec import H2OWord2vecEstimator\n",
        "from h2o.estimators import H2OGradientBoostingEstimator, H2OXGBoostEstimator"
      ],
      "execution_count": 25,
      "outputs": []
    },
    {
      "cell_type": "markdown",
      "metadata": {
        "id": "Be16gsgPK7VT",
        "colab_type": "text"
      },
      "source": [
        "To create word embedding H2OWord2vec package is imported."
      ]
    },
    {
      "cell_type": "code",
      "metadata": {
        "id": "VbB6rwBQK63U",
        "colab_type": "code",
        "colab": {
          "base_uri": "https://localhost:8080/",
          "height": 35
        },
        "outputId": "34b27023-9914-4b26-ed71-b790a1c4aad6"
      },
      "source": [
        "vec_model = H2OWord2vecEstimator(vec_size= 100, model_id='w2v_amazon.model')\n",
        "vec_model.train(training_frame=words_reviews)"
      ],
      "execution_count": 26,
      "outputs": [
        {
          "output_type": "stream",
          "text": [
            "word2vec Model Build progress: |██████████████████████████████████████████| 100%\n"
          ],
          "name": "stdout"
        }
      ]
    },
    {
      "cell_type": "code",
      "metadata": {
        "id": "Zik3mcnAMFZi",
        "colab_type": "code",
        "colab": {
          "base_uri": "https://localhost:8080/",
          "height": 36
        },
        "outputId": "e74908e0-58e1-4ef7-b714-d101273e25ef"
      },
      "source": [
        "h2o.save_model(vec_model, path='./')"
      ],
      "execution_count": 27,
      "outputs": [
        {
          "output_type": "execute_result",
          "data": {
            "application/vnd.google.colaboratory.intrinsic+json": {
              "type": "string"
            },
            "text/plain": [
              "'/content/w2v_amazon.model'"
            ]
          },
          "metadata": {
            "tags": []
          },
          "execution_count": 27
        }
      ]
    },
    {
      "cell_type": "code",
      "metadata": {
        "id": "np-6W-KRMiEv",
        "colab_type": "code",
        "colab": {}
      },
      "source": [
        "vec_model=h2o.load_model('w2v_amazon.model')"
      ],
      "execution_count": 28,
      "outputs": []
    },
    {
      "cell_type": "code",
      "metadata": {
        "id": "-vK23zBoMvL5",
        "colab_type": "code",
        "colab": {
          "base_uri": "https://localhost:8080/",
          "height": 109
        },
        "outputId": "cd5081b1-0da2-47f3-e2b0-44c80945523f"
      },
      "source": [
        "vec_model.find_synonyms('razor', count=5)"
      ],
      "execution_count": 29,
      "outputs": [
        {
          "output_type": "execute_result",
          "data": {
            "text/plain": [
              "OrderedDict([('razors', 0.8614895343780518),\n",
              "             ('blade', 0.789276659488678),\n",
              "             ('shaving', 0.7648120522499084),\n",
              "             ('parker', 0.7562313675880432),\n",
              "             ('futur', 0.7501994371414185)])"
            ]
          },
          "metadata": {
            "tags": []
          },
          "execution_count": 29
        }
      ]
    },
    {
      "cell_type": "code",
      "metadata": {
        "id": "_1KgpB7GNCvP",
        "colab_type": "code",
        "colab": {
          "base_uri": "https://localhost:8080/",
          "height": 201
        },
        "outputId": "1c0a8bbf-18d5-44a4-bf23-6f0c767013bf"
      },
      "source": [
        "vec_model.find_synonyms('soap', count=10)"
      ],
      "execution_count": 30,
      "outputs": [
        {
          "output_type": "execute_result",
          "data": {
            "text/plain": [
              "OrderedDict([('castile', 0.7319657802581787),\n",
              "             ('lather', 0.6907471418380737),\n",
              "             ('maggie', 0.6898291110992432),\n",
              "             ('conk', 0.6733875274658203),\n",
              "             ('soaps', 0.6679428219795227),\n",
              "             ('detergent', 0.6678946018218994),\n",
              "             ('foaming', 0.664849579334259),\n",
              "             ('proraso', 0.650361955165863),\n",
              "             ('scum', 0.6401647329330444),\n",
              "             ('col', 0.6398206949234009)])"
            ]
          },
          "metadata": {
            "tags": []
          },
          "execution_count": 30
        }
      ]
    },
    {
      "cell_type": "code",
      "metadata": {
        "id": "7EB3_jwmNNmH",
        "colab_type": "code",
        "colab": {
          "base_uri": "https://localhost:8080/",
          "height": 109
        },
        "outputId": "67cc30b5-0631-40d1-f5e7-543a82922a36"
      },
      "source": [
        "vec_model.find_synonyms('glasses', count=5)"
      ],
      "execution_count": 31,
      "outputs": [
        {
          "output_type": "execute_result",
          "data": {
            "text/plain": [
              "OrderedDict([('sunglasses', 0.8896998763084412),\n",
              "             ('readers', 0.858310878276825),\n",
              "             ('lenses', 0.8136168718338013),\n",
              "             ('bifocal', 0.8060529232025146),\n",
              "             ('bifocals', 0.7831657528877258)])"
            ]
          },
          "metadata": {
            "tags": []
          },
          "execution_count": 31
        }
      ]
    },
    {
      "cell_type": "markdown",
      "metadata": {
        "id": "kaL-peLdOK6X",
        "colab_type": "text"
      },
      "source": [
        "Vocabulary is created from training text data. So, what word2vec do it actually creates vector representation of vocabulary and place the similar words close to eachother. As you see in above example, sunglasses, readers, bifocal, lenses are closer words to 'glasses'. Since the similar words are closed to eachother we dont lose context."
      ]
    },
    {
      "cell_type": "code",
      "metadata": {
        "id": "Atw-G8IqOKC4",
        "colab_type": "code",
        "colab": {
          "base_uri": "https://localhost:8080/",
          "height": 35
        },
        "outputId": "698456f2-3336-4e75-d441-21c507df96ff"
      },
      "source": [
        "review_vecs= vec_model.transform(words_reviews, aggregate_method='AVERAGE')\n",
        "review_vecs.shape"
      ],
      "execution_count": 32,
      "outputs": [
        {
          "output_type": "execute_result",
          "data": {
            "text/plain": [
              "(85981, 100)"
            ]
          },
          "metadata": {
            "tags": []
          },
          "execution_count": 32
        }
      ]
    },
    {
      "cell_type": "code",
      "metadata": {
        "id": "kyN4sciEPWAP",
        "colab_type": "code",
        "colab": {
          "base_uri": "https://localhost:8080/",
          "height": 274
        },
        "outputId": "8b9d950a-debf-4a71-abbc-69abbdfe2019"
      },
      "source": [
        "review_vecs.head()"
      ],
      "execution_count": 33,
      "outputs": [
        {
          "output_type": "display_data",
          "data": {
            "text/html": [
              "<table>\n",
              "<thead>\n",
              "<tr><th style=\"text-align: right;\">        C1</th><th style=\"text-align: right;\">        C2</th><th style=\"text-align: right;\">        C3</th><th style=\"text-align: right;\">         C4</th><th style=\"text-align: right;\">        C5</th><th style=\"text-align: right;\">        C6</th><th style=\"text-align: right;\">         C7</th><th style=\"text-align: right;\">        C8</th><th style=\"text-align: right;\">         C9</th><th style=\"text-align: right;\">       C10</th><th style=\"text-align: right;\">        C11</th><th style=\"text-align: right;\">       C12</th><th style=\"text-align: right;\">       C13</th><th style=\"text-align: right;\">        C14</th><th style=\"text-align: right;\">       C15</th><th style=\"text-align: right;\">        C16</th><th style=\"text-align: right;\">        C17</th><th style=\"text-align: right;\">        C18</th><th style=\"text-align: right;\">         C19</th><th style=\"text-align: right;\">       C20</th><th style=\"text-align: right;\">        C21</th><th style=\"text-align: right;\">        C22</th><th style=\"text-align: right;\">       C23</th><th style=\"text-align: right;\">       C24</th><th style=\"text-align: right;\">        C25</th><th style=\"text-align: right;\">        C26</th><th style=\"text-align: right;\">        C27</th><th style=\"text-align: right;\">       C28</th><th style=\"text-align: right;\">       C29</th><th style=\"text-align: right;\">         C30</th><th style=\"text-align: right;\">       C31</th><th style=\"text-align: right;\">        C32</th><th style=\"text-align: right;\">       C33</th><th style=\"text-align: right;\">       C34</th><th style=\"text-align: right;\">       C35</th><th style=\"text-align: right;\">        C36</th><th style=\"text-align: right;\">        C37</th><th style=\"text-align: right;\">       C38</th><th style=\"text-align: right;\">       C39</th><th style=\"text-align: right;\">       C40</th><th style=\"text-align: right;\">       C41</th><th style=\"text-align: right;\">        C42</th><th style=\"text-align: right;\">         C43</th><th style=\"text-align: right;\">        C44</th><th style=\"text-align: right;\">         C45</th><th style=\"text-align: right;\">        C46</th><th style=\"text-align: right;\">        C47</th><th style=\"text-align: right;\">         C48</th><th style=\"text-align: right;\">        C49</th><th style=\"text-align: right;\">        C50</th><th style=\"text-align: right;\">       C51</th><th style=\"text-align: right;\">        C52</th><th style=\"text-align: right;\">       C53</th><th style=\"text-align: right;\">        C54</th><th style=\"text-align: right;\">        C55</th><th style=\"text-align: right;\">        C56</th><th style=\"text-align: right;\">       C57</th><th style=\"text-align: right;\">       C58</th><th style=\"text-align: right;\">      C59</th><th style=\"text-align: right;\">       C60</th><th style=\"text-align: right;\">        C61</th><th style=\"text-align: right;\">         C62</th><th style=\"text-align: right;\">       C63</th><th style=\"text-align: right;\">       C64</th><th style=\"text-align: right;\">        C65</th><th style=\"text-align: right;\">       C66</th><th style=\"text-align: right;\">       C67</th><th style=\"text-align: right;\">        C68</th><th style=\"text-align: right;\">      C69</th><th style=\"text-align: right;\">        C70</th><th style=\"text-align: right;\">       C71</th><th style=\"text-align: right;\">        C72</th><th style=\"text-align: right;\">        C73</th><th style=\"text-align: right;\">       C74</th><th style=\"text-align: right;\">        C75</th><th style=\"text-align: right;\">       C76</th><th style=\"text-align: right;\">        C77</th><th style=\"text-align: right;\">       C78</th><th style=\"text-align: right;\">        C79</th><th style=\"text-align: right;\">      C80</th><th style=\"text-align: right;\">       C81</th><th style=\"text-align: right;\">      C82</th><th style=\"text-align: right;\">       C83</th><th style=\"text-align: right;\">        C84</th><th style=\"text-align: right;\">       C85</th><th style=\"text-align: right;\">       C86</th><th style=\"text-align: right;\">       C87</th><th style=\"text-align: right;\">        C88</th><th style=\"text-align: right;\">        C89</th><th style=\"text-align: right;\">       C90</th><th style=\"text-align: right;\">       C91</th><th style=\"text-align: right;\">        C92</th><th style=\"text-align: right;\">        C93</th><th style=\"text-align: right;\">        C94</th><th style=\"text-align: right;\">       C95</th><th style=\"text-align: right;\">        C96</th><th style=\"text-align: right;\">        C97</th><th style=\"text-align: right;\">       C98</th><th style=\"text-align: right;\">       C99</th><th style=\"text-align: right;\">       C100</th></tr>\n",
              "</thead>\n",
              "<tbody>\n",
              "<tr><td style=\"text-align: right;\">-0.1003   </td><td style=\"text-align: right;\">-0.0740767</td><td style=\"text-align: right;\">-0.0589185</td><td style=\"text-align: right;\">-0.00645441</td><td style=\"text-align: right;\"> 0.0583679</td><td style=\"text-align: right;\">-0.152467 </td><td style=\"text-align: right;\"> 0.0322643 </td><td style=\"text-align: right;\">-0.0940401</td><td style=\"text-align: right;\"> 0.126928  </td><td style=\"text-align: right;\">-0.0713192</td><td style=\"text-align: right;\"> 0.12213   </td><td style=\"text-align: right;\">-0.116903 </td><td style=\"text-align: right;\">-0.0754373</td><td style=\"text-align: right;\">-0.0902056 </td><td style=\"text-align: right;\"> 0.0386389</td><td style=\"text-align: right;\">-0.0937174 </td><td style=\"text-align: right;\"> 0.101485  </td><td style=\"text-align: right;\">-0.0405968 </td><td style=\"text-align: right;\">-0.000471398</td><td style=\"text-align: right;\"> 0.041765 </td><td style=\"text-align: right;\"> 0.0991444 </td><td style=\"text-align: right;\">-0.0915442 </td><td style=\"text-align: right;\"> 0.0450429</td><td style=\"text-align: right;\">-0.130821 </td><td style=\"text-align: right;\"> 0.15619   </td><td style=\"text-align: right;\">-0.0990996 </td><td style=\"text-align: right;\"> 0.0455004 </td><td style=\"text-align: right;\">-0.264614 </td><td style=\"text-align: right;\">-0.0693596</td><td style=\"text-align: right;\"> 0.0382526  </td><td style=\"text-align: right;\">-0.0484659</td><td style=\"text-align: right;\"> 0.0173552 </td><td style=\"text-align: right;\">-0.0341113</td><td style=\"text-align: right;\"> 0.145514 </td><td style=\"text-align: right;\">-0.0608501</td><td style=\"text-align: right;\">-0.00584735</td><td style=\"text-align: right;\"> 0.0310851 </td><td style=\"text-align: right;\"> 0.0168693</td><td style=\"text-align: right;\"> 0.0510612</td><td style=\"text-align: right;\">-0.0577526</td><td style=\"text-align: right;\">-0.0071127</td><td style=\"text-align: right;\"> 0.167798  </td><td style=\"text-align: right;\">-0.0460585  </td><td style=\"text-align: right;\">-0.00996371</td><td style=\"text-align: right;\">-0.0925639  </td><td style=\"text-align: right;\">-0.0137503 </td><td style=\"text-align: right;\"> 0.0874063 </td><td style=\"text-align: right;\"> 0.179076   </td><td style=\"text-align: right;\">-0.0245744 </td><td style=\"text-align: right;\">-0.064321  </td><td style=\"text-align: right;\"> 0.113734 </td><td style=\"text-align: right;\"> 0.104508  </td><td style=\"text-align: right;\">-0.115508 </td><td style=\"text-align: right;\">-0.0235825 </td><td style=\"text-align: right;\">-0.0163045 </td><td style=\"text-align: right;\">-0.012442  </td><td style=\"text-align: right;\">-0.0781248</td><td style=\"text-align: right;\"> 0.0525585</td><td style=\"text-align: right;\">0.150511 </td><td style=\"text-align: right;\"> 0.166604 </td><td style=\"text-align: right;\"> 0.0936263 </td><td style=\"text-align: right;\">-0.0263717  </td><td style=\"text-align: right;\"> 0.0234751</td><td style=\"text-align: right;\"> 0.105238 </td><td style=\"text-align: right;\">-0.077532  </td><td style=\"text-align: right;\"> 0.0258729</td><td style=\"text-align: right;\"> 0.105224 </td><td style=\"text-align: right;\">-0.0539444 </td><td style=\"text-align: right;\">-0.24804 </td><td style=\"text-align: right;\">-0.0338293 </td><td style=\"text-align: right;\">-0.195155 </td><td style=\"text-align: right;\"> 0.00778051</td><td style=\"text-align: right;\">-0.0870494 </td><td style=\"text-align: right;\"> 0.0343088</td><td style=\"text-align: right;\"> 0.0186728 </td><td style=\"text-align: right;\">-0.0370511</td><td style=\"text-align: right;\"> 0.0328129 </td><td style=\"text-align: right;\">0.0475649 </td><td style=\"text-align: right;\">-0.0617477 </td><td style=\"text-align: right;\">0.0781281</td><td style=\"text-align: right;\">-0.0509943</td><td style=\"text-align: right;\">0.13807  </td><td style=\"text-align: right;\"> 0.258548 </td><td style=\"text-align: right;\">-0.116738  </td><td style=\"text-align: right;\">-0.0346098</td><td style=\"text-align: right;\">-0.132376 </td><td style=\"text-align: right;\">0.00611246</td><td style=\"text-align: right;\">-0.00451291</td><td style=\"text-align: right;\"> 0.0759903 </td><td style=\"text-align: right;\">0.0561289 </td><td style=\"text-align: right;\">-0.0529933</td><td style=\"text-align: right;\"> 0.0563907 </td><td style=\"text-align: right;\"> 0.0596531 </td><td style=\"text-align: right;\"> 0.109968  </td><td style=\"text-align: right;\">-0.150571 </td><td style=\"text-align: right;\"> 0.0730948 </td><td style=\"text-align: right;\"> 0.00931207</td><td style=\"text-align: right;\">-0.14708  </td><td style=\"text-align: right;\">-0.0914785</td><td style=\"text-align: right;\"> 0.0955909 </td></tr>\n",
              "<tr><td style=\"text-align: right;\">-0.236805 </td><td style=\"text-align: right;\"> 0.0422084</td><td style=\"text-align: right;\"> 0.0582135</td><td style=\"text-align: right;\">-0.108786  </td><td style=\"text-align: right;\">-0.042472 </td><td style=\"text-align: right;\">-0.0792547</td><td style=\"text-align: right;\">-0.0764314 </td><td style=\"text-align: right;\"> 0.0899386</td><td style=\"text-align: right;\"> 0.021155  </td><td style=\"text-align: right;\">-0.208143 </td><td style=\"text-align: right;\">-0.00353729</td><td style=\"text-align: right;\">-0.0593108</td><td style=\"text-align: right;\">-0.0568543</td><td style=\"text-align: right;\">-0.127824  </td><td style=\"text-align: right;\">-0.078967 </td><td style=\"text-align: right;\">-0.123655  </td><td style=\"text-align: right;\"> 0.0352026 </td><td style=\"text-align: right;\">-0.0140152 </td><td style=\"text-align: right;\"> 0.0778296  </td><td style=\"text-align: right;\"> 0.0236705</td><td style=\"text-align: right;\"> 0.0258442 </td><td style=\"text-align: right;\">-0.109434  </td><td style=\"text-align: right;\"> 0.0276542</td><td style=\"text-align: right;\">-0.0184024</td><td style=\"text-align: right;\">-0.00864454</td><td style=\"text-align: right;\">-0.230355  </td><td style=\"text-align: right;\"> 0.00741834</td><td style=\"text-align: right;\">-0.0641111</td><td style=\"text-align: right;\">-0.108985 </td><td style=\"text-align: right;\"> 0.0261069  </td><td style=\"text-align: right;\">-0.088387 </td><td style=\"text-align: right;\">-0.0143454 </td><td style=\"text-align: right;\">-0.0296011</td><td style=\"text-align: right;\"> 0.0731853</td><td style=\"text-align: right;\"> 0.0592262</td><td style=\"text-align: right;\"> 0.021405  </td><td style=\"text-align: right;\"> 0.0662868 </td><td style=\"text-align: right;\">-0.0267602</td><td style=\"text-align: right;\"> 0.165784 </td><td style=\"text-align: right;\">-0.0920269</td><td style=\"text-align: right;\">-0.113093 </td><td style=\"text-align: right;\"> 0.0049437 </td><td style=\"text-align: right;\"> 0.0103884  </td><td style=\"text-align: right;\">-0.00403317</td><td style=\"text-align: right;\"> 0.000577605</td><td style=\"text-align: right;\"> 0.0841984 </td><td style=\"text-align: right;\"> 0.0169247 </td><td style=\"text-align: right;\">-0.0159667  </td><td style=\"text-align: right;\">-0.13485   </td><td style=\"text-align: right;\">-0.0591668 </td><td style=\"text-align: right;\"> 0.0893438</td><td style=\"text-align: right;\"> 0.0146279 </td><td style=\"text-align: right;\">-0.0143344</td><td style=\"text-align: right;\">-0.0871875 </td><td style=\"text-align: right;\">-0.0602565 </td><td style=\"text-align: right;\"> 0.0220546 </td><td style=\"text-align: right;\">-0.10187  </td><td style=\"text-align: right;\"> 0.0560048</td><td style=\"text-align: right;\">0.0811003</td><td style=\"text-align: right;\"> 0.0913386</td><td style=\"text-align: right;\"> 0.138744  </td><td style=\"text-align: right;\"> 0.0871924  </td><td style=\"text-align: right;\"> 0.104298 </td><td style=\"text-align: right;\"> 0.115418 </td><td style=\"text-align: right;\">-0.0871156 </td><td style=\"text-align: right;\"> 0.102883 </td><td style=\"text-align: right;\"> 0.158251 </td><td style=\"text-align: right;\">-0.197958  </td><td style=\"text-align: right;\">-0.187902</td><td style=\"text-align: right;\">-0.0267537 </td><td style=\"text-align: right;\">-0.167254 </td><td style=\"text-align: right;\"> 0.0655464 </td><td style=\"text-align: right;\">-0.149903  </td><td style=\"text-align: right;\"> 0.113101 </td><td style=\"text-align: right;\">-0.0790175 </td><td style=\"text-align: right;\">-0.154423 </td><td style=\"text-align: right;\">-0.0119827 </td><td style=\"text-align: right;\">0.0775877 </td><td style=\"text-align: right;\">-0.142368  </td><td style=\"text-align: right;\">0.185602 </td><td style=\"text-align: right;\">-0.0885894</td><td style=\"text-align: right;\">0.126225 </td><td style=\"text-align: right;\"> 0.124744 </td><td style=\"text-align: right;\"> 0.0376885 </td><td style=\"text-align: right;\">-0.0859967</td><td style=\"text-align: right;\">-0.0541085</td><td style=\"text-align: right;\">0.0571068 </td><td style=\"text-align: right;\"> 0.211031  </td><td style=\"text-align: right;\">-0.00389827</td><td style=\"text-align: right;\">0.00695194</td><td style=\"text-align: right;\"> 0.0234488</td><td style=\"text-align: right;\">-0.0319585 </td><td style=\"text-align: right;\"> 0.0480784 </td><td style=\"text-align: right;\">-0.0466856 </td><td style=\"text-align: right;\">-0.0651851</td><td style=\"text-align: right;\"> 0.0635051 </td><td style=\"text-align: right;\"> 0.131566  </td><td style=\"text-align: right;\">-0.0334726</td><td style=\"text-align: right;\"> 0.0420334</td><td style=\"text-align: right;\"> 0.0435945 </td></tr>\n",
              "<tr><td style=\"text-align: right;\">-0.17633  </td><td style=\"text-align: right;\">-0.0467321</td><td style=\"text-align: right;\"> 0.0268293</td><td style=\"text-align: right;\"> 0.0837271 </td><td style=\"text-align: right;\"> 0.104515 </td><td style=\"text-align: right;\">-0.111925 </td><td style=\"text-align: right;\">-0.00363233</td><td style=\"text-align: right;\"> 0.0199516</td><td style=\"text-align: right;\"> 0.090061  </td><td style=\"text-align: right;\">-0.195221 </td><td style=\"text-align: right;\"> 0.137537  </td><td style=\"text-align: right;\">-0.0693945</td><td style=\"text-align: right;\">-0.0304246</td><td style=\"text-align: right;\">-0.0338968 </td><td style=\"text-align: right;\">-0.113866 </td><td style=\"text-align: right;\">-0.0224842 </td><td style=\"text-align: right;\">-0.0351742 </td><td style=\"text-align: right;\">-0.016937  </td><td style=\"text-align: right;\"> 0.0779065  </td><td style=\"text-align: right;\">-0.0226214</td><td style=\"text-align: right;\"> 0.0154926 </td><td style=\"text-align: right;\">-0.0867587 </td><td style=\"text-align: right;\">-0.0433514</td><td style=\"text-align: right;\">-0.0837825</td><td style=\"text-align: right;\"> 0.0433824 </td><td style=\"text-align: right;\">-0.10528   </td><td style=\"text-align: right;\">-0.010603  </td><td style=\"text-align: right;\">-0.0968659</td><td style=\"text-align: right;\">-0.0938677</td><td style=\"text-align: right;\">-0.0293553  </td><td style=\"text-align: right;\">-0.0157682</td><td style=\"text-align: right;\">-0.0929144 </td><td style=\"text-align: right;\">-0.153665 </td><td style=\"text-align: right;\"> 0.0283888</td><td style=\"text-align: right;\">-0.180907 </td><td style=\"text-align: right;\"> 0.129469  </td><td style=\"text-align: right;\"> 0.0735308 </td><td style=\"text-align: right;\">-0.181987 </td><td style=\"text-align: right;\">-0.0551718</td><td style=\"text-align: right;\">-0.118772 </td><td style=\"text-align: right;\">-0.256024 </td><td style=\"text-align: right;\">-0.0722046 </td><td style=\"text-align: right;\"> 0.0965124  </td><td style=\"text-align: right;\">-0.0384235 </td><td style=\"text-align: right;\">-0.0663726  </td><td style=\"text-align: right;\"> 0.00810138</td><td style=\"text-align: right;\"> 0.00537439</td><td style=\"text-align: right;\"> 0.081873   </td><td style=\"text-align: right;\">-0.078971  </td><td style=\"text-align: right;\">-0.0023824 </td><td style=\"text-align: right;\"> 0.0874371</td><td style=\"text-align: right;\">-0.00111545</td><td style=\"text-align: right;\">-0.0447037</td><td style=\"text-align: right;\"> 0.0209585 </td><td style=\"text-align: right;\">-0.00152608</td><td style=\"text-align: right;\">-0.164855  </td><td style=\"text-align: right;\">-0.0254805</td><td style=\"text-align: right;\">-0.195889 </td><td style=\"text-align: right;\">0.174977 </td><td style=\"text-align: right;\">-0.0466018</td><td style=\"text-align: right;\"> 0.00066827</td><td style=\"text-align: right;\">-0.113325   </td><td style=\"text-align: right;\"> 0.0993397</td><td style=\"text-align: right;\"> 0.153712 </td><td style=\"text-align: right;\"> 0.0539584 </td><td style=\"text-align: right;\"> 0.137974 </td><td style=\"text-align: right;\"> 0.078032 </td><td style=\"text-align: right;\">-0.00248599</td><td style=\"text-align: right;\">-0.194943</td><td style=\"text-align: right;\"> 0.00178502</td><td style=\"text-align: right;\">-0.134639 </td><td style=\"text-align: right;\">-0.121943  </td><td style=\"text-align: right;\">-0.0454421 </td><td style=\"text-align: right;\">-0.0440803</td><td style=\"text-align: right;\">-0.0681508 </td><td style=\"text-align: right;\">-0.127944 </td><td style=\"text-align: right;\"> 0.0439705 </td><td style=\"text-align: right;\">0.0711003 </td><td style=\"text-align: right;\">-0.0255307 </td><td style=\"text-align: right;\">0.112716 </td><td style=\"text-align: right;\">-0.0883054</td><td style=\"text-align: right;\">0.194283 </td><td style=\"text-align: right;\"> 0.158546 </td><td style=\"text-align: right;\"> 0.0629691 </td><td style=\"text-align: right;\">-0.0980434</td><td style=\"text-align: right;\">-0.123666 </td><td style=\"text-align: right;\">0.0718893 </td><td style=\"text-align: right;\"> 0.180508  </td><td style=\"text-align: right;\">-0.0738938 </td><td style=\"text-align: right;\">0.0989444 </td><td style=\"text-align: right;\"> 0.0488632</td><td style=\"text-align: right;\"> 0.00712964</td><td style=\"text-align: right;\"> 0.0603674 </td><td style=\"text-align: right;\"> 0.145551  </td><td style=\"text-align: right;\">-0.0122307</td><td style=\"text-align: right;\"> 0.00709954</td><td style=\"text-align: right;\"> 0.12946   </td><td style=\"text-align: right;\">-0.015144 </td><td style=\"text-align: right;\">-0.0108204</td><td style=\"text-align: right;\"> 0.0466032 </td></tr>\n",
              "<tr><td style=\"text-align: right;\">-0.0376053</td><td style=\"text-align: right;\">-0.143202 </td><td style=\"text-align: right;\"> 0.116908 </td><td style=\"text-align: right;\">-0.00323416</td><td style=\"text-align: right;\"> 0.121516 </td><td style=\"text-align: right;\">-0.139342 </td><td style=\"text-align: right;\">-0.0272286 </td><td style=\"text-align: right;\">-0.140334 </td><td style=\"text-align: right;\">-0.0512219 </td><td style=\"text-align: right;\">-0.150421 </td><td style=\"text-align: right;\"> 0.0306547 </td><td style=\"text-align: right;\"> 0.0830965</td><td style=\"text-align: right;\">-0.187074 </td><td style=\"text-align: right;\"> 0.120759  </td><td style=\"text-align: right;\">-0.128115 </td><td style=\"text-align: right;\"> 0.00329179</td><td style=\"text-align: right;\"> 0.0431139 </td><td style=\"text-align: right;\">-0.133742  </td><td style=\"text-align: right;\"> 0.118487   </td><td style=\"text-align: right;\"> 0.021805 </td><td style=\"text-align: right;\"> 0.107054  </td><td style=\"text-align: right;\"> 0.0167067 </td><td style=\"text-align: right;\">-0.0725586</td><td style=\"text-align: right;\">-0.0723338</td><td style=\"text-align: right;\"> 0.150457  </td><td style=\"text-align: right;\">-0.0733505 </td><td style=\"text-align: right;\">-0.267515  </td><td style=\"text-align: right;\">-0.151474 </td><td style=\"text-align: right;\">-0.137714 </td><td style=\"text-align: right;\">-0.00830865 </td><td style=\"text-align: right;\"> 0.161689 </td><td style=\"text-align: right;\"> 0.169271  </td><td style=\"text-align: right;\">-0.0428715</td><td style=\"text-align: right;\">-0.125219 </td><td style=\"text-align: right;\">-0.0161866</td><td style=\"text-align: right;\"> 0.147401  </td><td style=\"text-align: right;\">-0.0494214 </td><td style=\"text-align: right;\"> 0.0405794</td><td style=\"text-align: right;\">-0.018707 </td><td style=\"text-align: right;\">-0.250978 </td><td style=\"text-align: right;\">-0.0993693</td><td style=\"text-align: right;\"> 0.166907  </td><td style=\"text-align: right;\"> 0.106336   </td><td style=\"text-align: right;\">-0.0409989 </td><td style=\"text-align: right;\">-0.26461    </td><td style=\"text-align: right;\">-0.0379175 </td><td style=\"text-align: right;\">-0.18984   </td><td style=\"text-align: right;\"> 0.0022511  </td><td style=\"text-align: right;\">-0.127886  </td><td style=\"text-align: right;\"> 0.0991723 </td><td style=\"text-align: right;\">-0.0271503</td><td style=\"text-align: right;\"> 0.266974  </td><td style=\"text-align: right;\">-0.177914 </td><td style=\"text-align: right;\">-0.0748357 </td><td style=\"text-align: right;\">-0.354141  </td><td style=\"text-align: right;\"> 0.0281115 </td><td style=\"text-align: right;\"> 0.0215967</td><td style=\"text-align: right;\"> 0.13591  </td><td style=\"text-align: right;\">0.0780425</td><td style=\"text-align: right;\"> 0.256892 </td><td style=\"text-align: right;\"> 0.0829344 </td><td style=\"text-align: right;\">-0.202696   </td><td style=\"text-align: right;\"> 0.266917 </td><td style=\"text-align: right;\"> 0.236547 </td><td style=\"text-align: right;\">-0.111458  </td><td style=\"text-align: right;\"> 0.0459414</td><td style=\"text-align: right;\"> 0.18894  </td><td style=\"text-align: right;\">-0.125722  </td><td style=\"text-align: right;\">-0.239134</td><td style=\"text-align: right;\"> 0.139396  </td><td style=\"text-align: right;\">-0.0179424</td><td style=\"text-align: right;\">-0.0445201 </td><td style=\"text-align: right;\">-0.19165   </td><td style=\"text-align: right;\"> 0.199298 </td><td style=\"text-align: right;\">-0.24443   </td><td style=\"text-align: right;\">-0.154728 </td><td style=\"text-align: right;\"> 0.292811  </td><td style=\"text-align: right;\">0.00693712</td><td style=\"text-align: right;\">-0.00491393</td><td style=\"text-align: right;\">0.0676055</td><td style=\"text-align: right;\">-0.114016 </td><td style=\"text-align: right;\">0.171956 </td><td style=\"text-align: right;\"> 0.0985077</td><td style=\"text-align: right;\">-0.00132152</td><td style=\"text-align: right;\">-0.160112 </td><td style=\"text-align: right;\">-0.24787  </td><td style=\"text-align: right;\">0.0728071 </td><td style=\"text-align: right;\"> 0.149183  </td><td style=\"text-align: right;\"> 0.16402   </td><td style=\"text-align: right;\">0.0643658 </td><td style=\"text-align: right;\">-0.246701 </td><td style=\"text-align: right;\"> 0.00244989</td><td style=\"text-align: right;\"> 0.10171   </td><td style=\"text-align: right;\"> 0.0352149 </td><td style=\"text-align: right;\">-0.105489 </td><td style=\"text-align: right;\">-0.0594014 </td><td style=\"text-align: right;\"> 0.238988  </td><td style=\"text-align: right;\">-0.052193 </td><td style=\"text-align: right;\">-0.0620792</td><td style=\"text-align: right;\"> 0.0106666 </td></tr>\n",
              "<tr><td style=\"text-align: right;\">-0.0254467</td><td style=\"text-align: right;\">-0.0851193</td><td style=\"text-align: right;\"> 0.367451 </td><td style=\"text-align: right;\"> 0.0375135 </td><td style=\"text-align: right;\">-0.117794 </td><td style=\"text-align: right;\">-0.167921 </td><td style=\"text-align: right;\">-0.00543258</td><td style=\"text-align: right;\"> 0.0231815</td><td style=\"text-align: right;\"> 0.0598502 </td><td style=\"text-align: right;\">-0.159931 </td><td style=\"text-align: right;\">-0.0504491 </td><td style=\"text-align: right;\">-0.082023 </td><td style=\"text-align: right;\">-0.0953671</td><td style=\"text-align: right;\">-0.0499254 </td><td style=\"text-align: right;\">-0.0826434</td><td style=\"text-align: right;\">-0.0964592 </td><td style=\"text-align: right;\"> 0.0806752 </td><td style=\"text-align: right;\">-0.0211524 </td><td style=\"text-align: right;\"> 0.156767   </td><td style=\"text-align: right;\"> 0.0600779</td><td style=\"text-align: right;\">-0.0879609 </td><td style=\"text-align: right;\">-0.077977  </td><td style=\"text-align: right;\">-0.0629035</td><td style=\"text-align: right;\">-0.0262466</td><td style=\"text-align: right;\"> 0.130285  </td><td style=\"text-align: right;\">-0.132017  </td><td style=\"text-align: right;\">-0.0513268 </td><td style=\"text-align: right;\">-0.17388  </td><td style=\"text-align: right;\">-0.179262 </td><td style=\"text-align: right;\">-0.107128   </td><td style=\"text-align: right;\"> 0.0715757</td><td style=\"text-align: right;\"> 0.063059  </td><td style=\"text-align: right;\">-0.0550623</td><td style=\"text-align: right;\"> 0.176559 </td><td style=\"text-align: right;\">-0.133441 </td><td style=\"text-align: right;\"> 0.0495614 </td><td style=\"text-align: right;\">-0.0116185 </td><td style=\"text-align: right;\">-0.0708525</td><td style=\"text-align: right;\"> 0.0241746</td><td style=\"text-align: right;\"> 0.0348134</td><td style=\"text-align: right;\">-0.140345 </td><td style=\"text-align: right;\"> 0.0973508 </td><td style=\"text-align: right;\">-0.0621162  </td><td style=\"text-align: right;\"> 0.0958875 </td><td style=\"text-align: right;\">-0.0632472  </td><td style=\"text-align: right;\"> 0.0602012 </td><td style=\"text-align: right;\">-0.204054  </td><td style=\"text-align: right;\"> 0.178651   </td><td style=\"text-align: right;\"> 0.00169575</td><td style=\"text-align: right;\">-0.0178389 </td><td style=\"text-align: right;\">-0.0079444</td><td style=\"text-align: right;\">-0.0461326 </td><td style=\"text-align: right;\"> 0.0417079</td><td style=\"text-align: right;\">-0.0550875 </td><td style=\"text-align: right;\"> 0.152805  </td><td style=\"text-align: right;\">-0.0269261 </td><td style=\"text-align: right;\">-0.169305 </td><td style=\"text-align: right;\">-0.081893 </td><td style=\"text-align: right;\">0.215955 </td><td style=\"text-align: right;\"> 0.0979926</td><td style=\"text-align: right;\">-0.0155404 </td><td style=\"text-align: right;\">-0.00628173 </td><td style=\"text-align: right;\"> 0.0146233</td><td style=\"text-align: right;\">-0.0480516</td><td style=\"text-align: right;\"> 0.0508872 </td><td style=\"text-align: right;\">-0.135231 </td><td style=\"text-align: right;\">-0.0534096</td><td style=\"text-align: right;\">-0.0932602 </td><td style=\"text-align: right;\">-0.213404</td><td style=\"text-align: right;\">-0.173756  </td><td style=\"text-align: right;\">-0.27457  </td><td style=\"text-align: right;\">-0.0583747 </td><td style=\"text-align: right;\"> 0.0074182 </td><td style=\"text-align: right;\"> 0.0132656</td><td style=\"text-align: right;\">-0.00910385</td><td style=\"text-align: right;\"> 0.040055 </td><td style=\"text-align: right;\">-0.020359  </td><td style=\"text-align: right;\">0.0825526 </td><td style=\"text-align: right;\">-0.0230158 </td><td style=\"text-align: right;\">0.04377  </td><td style=\"text-align: right;\">-0.0691019</td><td style=\"text-align: right;\">0.109386 </td><td style=\"text-align: right;\">-0.0065757</td><td style=\"text-align: right;\"> 0.0661013 </td><td style=\"text-align: right;\">-0.139168 </td><td style=\"text-align: right;\">-0.113895 </td><td style=\"text-align: right;\">0.102123  </td><td style=\"text-align: right;\">-0.0032554 </td><td style=\"text-align: right;\"> 0.11438   </td><td style=\"text-align: right;\">0.0857298 </td><td style=\"text-align: right;\">-0.172221 </td><td style=\"text-align: right;\">-0.0194437 </td><td style=\"text-align: right;\"> 0.0453329 </td><td style=\"text-align: right;\"> 0.0796477 </td><td style=\"text-align: right;\">-0.0317118</td><td style=\"text-align: right;\">-0.181632  </td><td style=\"text-align: right;\"> 0.00763796</td><td style=\"text-align: right;\">-0.0503312</td><td style=\"text-align: right;\">-0.081832 </td><td style=\"text-align: right;\"> 0.148835  </td></tr>\n",
              "<tr><td style=\"text-align: right;\">-0.163559 </td><td style=\"text-align: right;\"> 0.0443418</td><td style=\"text-align: right;\"> 0.102061 </td><td style=\"text-align: right;\"> 0.112031  </td><td style=\"text-align: right;\">-0.077452 </td><td style=\"text-align: right;\">-0.162763 </td><td style=\"text-align: right;\">-0.0331013 </td><td style=\"text-align: right;\"> 0.0424072</td><td style=\"text-align: right;\">-0.0269988 </td><td style=\"text-align: right;\">-0.115045 </td><td style=\"text-align: right;\"> 0.0279066 </td><td style=\"text-align: right;\">-0.095681 </td><td style=\"text-align: right;\">-0.120359 </td><td style=\"text-align: right;\">-0.00735033</td><td style=\"text-align: right;\">-0.0956888</td><td style=\"text-align: right;\">-0.0468007 </td><td style=\"text-align: right;\"> 0.00915413</td><td style=\"text-align: right;\"> 0.00270054</td><td style=\"text-align: right;\"> 0.126566   </td><td style=\"text-align: right;\">-0.0387318</td><td style=\"text-align: right;\"> 0.101965  </td><td style=\"text-align: right;\"> 0.00282946</td><td style=\"text-align: right;\"> 0.0189043</td><td style=\"text-align: right;\">-0.0844297</td><td style=\"text-align: right;\"> 0.100792  </td><td style=\"text-align: right;\">-0.0915385 </td><td style=\"text-align: right;\">-0.0648874 </td><td style=\"text-align: right;\">-0.209394 </td><td style=\"text-align: right;\">-0.0950712</td><td style=\"text-align: right;\">-0.139197   </td><td style=\"text-align: right;\"> 0.0343383</td><td style=\"text-align: right;\"> 0.0503518 </td><td style=\"text-align: right;\">-0.0639964</td><td style=\"text-align: right;\"> 0.0844929</td><td style=\"text-align: right;\">-0.0884097</td><td style=\"text-align: right;\">-0.00535539</td><td style=\"text-align: right;\"> 0.00526196</td><td style=\"text-align: right;\">-0.0825288</td><td style=\"text-align: right;\"> 0.0442407</td><td style=\"text-align: right;\">-0.0368823</td><td style=\"text-align: right;\">-0.103202 </td><td style=\"text-align: right;\">-0.00201342</td><td style=\"text-align: right;\"> 0.00977283 </td><td style=\"text-align: right;\">-0.00401056</td><td style=\"text-align: right;\">-0.0467009  </td><td style=\"text-align: right;\">-0.0111367 </td><td style=\"text-align: right;\">-0.0439181 </td><td style=\"text-align: right;\"> 0.0556574  </td><td style=\"text-align: right;\">-0.071482  </td><td style=\"text-align: right;\">-0.0667029 </td><td style=\"text-align: right;\"> 0.105646 </td><td style=\"text-align: right;\"> 0.019337  </td><td style=\"text-align: right;\"> 0.040145 </td><td style=\"text-align: right;\">-0.114463  </td><td style=\"text-align: right;\"> 0.0323501 </td><td style=\"text-align: right;\">-0.108356  </td><td style=\"text-align: right;\">-0.0599454</td><td style=\"text-align: right;\">-0.172452 </td><td style=\"text-align: right;\">0.180313 </td><td style=\"text-align: right;\"> 0.0885366</td><td style=\"text-align: right;\">-0.00540092</td><td style=\"text-align: right;\">-0.000180772</td><td style=\"text-align: right;\"> 0.0679902</td><td style=\"text-align: right;\"> 0.0548168</td><td style=\"text-align: right;\">-0.00294246</td><td style=\"text-align: right;\"> 0.100574 </td><td style=\"text-align: right;\">-0.0246968</td><td style=\"text-align: right;\">-0.0631994 </td><td style=\"text-align: right;\">-0.220315</td><td style=\"text-align: right;\">-0.00656787</td><td style=\"text-align: right;\">-0.137086 </td><td style=\"text-align: right;\">-0.0717958 </td><td style=\"text-align: right;\">-0.0174804 </td><td style=\"text-align: right;\">-0.0555823</td><td style=\"text-align: right;\">-0.0862482 </td><td style=\"text-align: right;\">-0.0551712</td><td style=\"text-align: right;\"> 0.00335211</td><td style=\"text-align: right;\">0.110091  </td><td style=\"text-align: right;\">-0.0425555 </td><td style=\"text-align: right;\">0.0978746</td><td style=\"text-align: right;\">-0.0606277</td><td style=\"text-align: right;\">0.122071 </td><td style=\"text-align: right;\"> 0.14062  </td><td style=\"text-align: right;\"> 0.0446694 </td><td style=\"text-align: right;\">-0.0881419</td><td style=\"text-align: right;\">-0.0745321</td><td style=\"text-align: right;\">0.111703  </td><td style=\"text-align: right;\"> 0.104209  </td><td style=\"text-align: right;\"> 0.0917129 </td><td style=\"text-align: right;\">0.152775  </td><td style=\"text-align: right;\">-0.115626 </td><td style=\"text-align: right;\">-0.0497322 </td><td style=\"text-align: right;\"> 0.0049737 </td><td style=\"text-align: right;\"> 0.0354745 </td><td style=\"text-align: right;\">-0.0757991</td><td style=\"text-align: right;\"> 0.0602499 </td><td style=\"text-align: right;\"> 0.0405914 </td><td style=\"text-align: right;\">-0.0540498</td><td style=\"text-align: right;\"> 0.0270283</td><td style=\"text-align: right;\">-0.00855604</td></tr>\n",
              "<tr><td style=\"text-align: right;\">-0.0840731</td><td style=\"text-align: right;\"> 0.0911621</td><td style=\"text-align: right;\">-0.0119357</td><td style=\"text-align: right;\">-0.0182196 </td><td style=\"text-align: right;\"> 0.122109 </td><td style=\"text-align: right;\">-0.0792796</td><td style=\"text-align: right;\"> 0.0023091 </td><td style=\"text-align: right;\">-0.0153511</td><td style=\"text-align: right;\"> 0.054906  </td><td style=\"text-align: right;\">-0.142402 </td><td style=\"text-align: right;\">-0.0425543 </td><td style=\"text-align: right;\">-0.137477 </td><td style=\"text-align: right;\">-0.0535364</td><td style=\"text-align: right;\">-0.0371167 </td><td style=\"text-align: right;\">-0.141392 </td><td style=\"text-align: right;\">-0.128241  </td><td style=\"text-align: right;\">-0.0215647 </td><td style=\"text-align: right;\"> 0.0343675 </td><td style=\"text-align: right;\"> 0.219786   </td><td style=\"text-align: right;\"> 0.0122868</td><td style=\"text-align: right;\"> 0.0298882 </td><td style=\"text-align: right;\"> 0.116954  </td><td style=\"text-align: right;\">-0.036654 </td><td style=\"text-align: right;\">-0.0308525</td><td style=\"text-align: right;\"> 0.073521  </td><td style=\"text-align: right;\">-0.0570843 </td><td style=\"text-align: right;\"> 0.0187838 </td><td style=\"text-align: right;\">-0.170333 </td><td style=\"text-align: right;\">-0.183967 </td><td style=\"text-align: right;\">-0.100666   </td><td style=\"text-align: right;\">-0.0852766</td><td style=\"text-align: right;\">-0.042572  </td><td style=\"text-align: right;\">-0.0456312</td><td style=\"text-align: right;\"> 0.101145 </td><td style=\"text-align: right;\">-0.0539001</td><td style=\"text-align: right;\">-0.0573518 </td><td style=\"text-align: right;\">-0.119338  </td><td style=\"text-align: right;\"> 0.0655704</td><td style=\"text-align: right;\"> 0.0962698</td><td style=\"text-align: right;\">-0.0723824</td><td style=\"text-align: right;\">-0.0378105</td><td style=\"text-align: right;\"> 0.0397114 </td><td style=\"text-align: right;\">-0.00980891 </td><td style=\"text-align: right;\"> 0.0216742 </td><td style=\"text-align: right;\">-0.00270625 </td><td style=\"text-align: right;\">-0.0253585 </td><td style=\"text-align: right;\"> 0.059803  </td><td style=\"text-align: right;\"> 0.115502   </td><td style=\"text-align: right;\"> 0.0267822 </td><td style=\"text-align: right;\">-0.0343837 </td><td style=\"text-align: right;\"> 0.162309 </td><td style=\"text-align: right;\"> 0.154299  </td><td style=\"text-align: right;\"> 0.0020798</td><td style=\"text-align: right;\">-0.0784902 </td><td style=\"text-align: right;\"> 0.0592209 </td><td style=\"text-align: right;\"> 0.0456039 </td><td style=\"text-align: right;\">-0.065493 </td><td style=\"text-align: right;\"> 0.0109573</td><td style=\"text-align: right;\">0.131807 </td><td style=\"text-align: right;\"> 0.110692 </td><td style=\"text-align: right;\"> 0.084301  </td><td style=\"text-align: right;\"> 0.0796598  </td><td style=\"text-align: right;\">-0.0562606</td><td style=\"text-align: right;\"> 0.0523035</td><td style=\"text-align: right;\">-0.050434  </td><td style=\"text-align: right;\"> 0.0694921</td><td style=\"text-align: right;\">-0.0492707</td><td style=\"text-align: right;\">-0.0427789 </td><td style=\"text-align: right;\">-0.27446 </td><td style=\"text-align: right;\">-0.111886  </td><td style=\"text-align: right;\">-0.0950352</td><td style=\"text-align: right;\">-0.138092  </td><td style=\"text-align: right;\">-0.0222632 </td><td style=\"text-align: right;\"> 0.0452595</td><td style=\"text-align: right;\"> 0.0540677 </td><td style=\"text-align: right;\">-0.128208 </td><td style=\"text-align: right;\">-0.0306558 </td><td style=\"text-align: right;\">0.00217164</td><td style=\"text-align: right;\">-0.0942408 </td><td style=\"text-align: right;\">0.0862202</td><td style=\"text-align: right;\"> 0.0737129</td><td style=\"text-align: right;\">0.0900545</td><td style=\"text-align: right;\"> 0.17941  </td><td style=\"text-align: right;\">-0.0424211 </td><td style=\"text-align: right;\">-0.0705069</td><td style=\"text-align: right;\">-0.0517287</td><td style=\"text-align: right;\">0.133956  </td><td style=\"text-align: right;\"> 0.0206343 </td><td style=\"text-align: right;\"> 0.075577  </td><td style=\"text-align: right;\">0.0864156 </td><td style=\"text-align: right;\"> 0.0259854</td><td style=\"text-align: right;\">-0.0320914 </td><td style=\"text-align: right;\"> 0.0187499 </td><td style=\"text-align: right;\"> 0.00783983</td><td style=\"text-align: right;\">-0.0708394</td><td style=\"text-align: right;\"> 0.00831215</td><td style=\"text-align: right;\"> 0.0250782 </td><td style=\"text-align: right;\">-0.0132522</td><td style=\"text-align: right;\"> 0.0906075</td><td style=\"text-align: right;\"> 0.130191  </td></tr>\n",
              "<tr><td style=\"text-align: right;\">-0.135731 </td><td style=\"text-align: right;\"> 0.0495961</td><td style=\"text-align: right;\">-0.0123044</td><td style=\"text-align: right;\">-0.0668539 </td><td style=\"text-align: right;\"> 0.051068 </td><td style=\"text-align: right;\">-0.128542 </td><td style=\"text-align: right;\">-0.015028  </td><td style=\"text-align: right;\">-0.0548421</td><td style=\"text-align: right;\">-0.00784014</td><td style=\"text-align: right;\">-0.104016 </td><td style=\"text-align: right;\"> 0.12199   </td><td style=\"text-align: right;\">-0.124871 </td><td style=\"text-align: right;\">-0.0905928</td><td style=\"text-align: right;\">-0.012379  </td><td style=\"text-align: right;\">-0.17988  </td><td style=\"text-align: right;\">-0.0993112 </td><td style=\"text-align: right;\"> 0.00991118</td><td style=\"text-align: right;\">-0.00857509</td><td style=\"text-align: right;\"> 0.0375266  </td><td style=\"text-align: right;\">-0.0388197</td><td style=\"text-align: right;\">-0.0284057 </td><td style=\"text-align: right;\">-0.0353005 </td><td style=\"text-align: right;\"> 0.0700715</td><td style=\"text-align: right;\">-0.0963542</td><td style=\"text-align: right;\"> 0.048704  </td><td style=\"text-align: right;\"> 0.00561959</td><td style=\"text-align: right;\">-0.0830488 </td><td style=\"text-align: right;\">-0.17847  </td><td style=\"text-align: right;\">-0.104238 </td><td style=\"text-align: right;\"> 0.000572786</td><td style=\"text-align: right;\"> 0.085965 </td><td style=\"text-align: right;\"> 0.00157238</td><td style=\"text-align: right;\">-0.077564 </td><td style=\"text-align: right;\"> 0.0839911</td><td style=\"text-align: right;\">-0.0830939</td><td style=\"text-align: right;\"> 0.0200425 </td><td style=\"text-align: right;\">-0.0132337 </td><td style=\"text-align: right;\">-0.0445972</td><td style=\"text-align: right;\"> 0.022185 </td><td style=\"text-align: right;\">-0.073135 </td><td style=\"text-align: right;\">-0.0756761</td><td style=\"text-align: right;\"> 0.0323605 </td><td style=\"text-align: right;\">-0.000443962</td><td style=\"text-align: right;\">-0.0557853 </td><td style=\"text-align: right;\">-0.130366   </td><td style=\"text-align: right;\">-0.00486745</td><td style=\"text-align: right;\">-0.00802349</td><td style=\"text-align: right;\"> 0.0842607  </td><td style=\"text-align: right;\">-0.072355  </td><td style=\"text-align: right;\">-0.00337972</td><td style=\"text-align: right;\"> 0.0685471</td><td style=\"text-align: right;\">-0.033861  </td><td style=\"text-align: right;\">-0.0872314</td><td style=\"text-align: right;\">-0.010452  </td><td style=\"text-align: right;\">-0.112812  </td><td style=\"text-align: right;\">-0.0483597 </td><td style=\"text-align: right;\">-0.0839118</td><td style=\"text-align: right;\">-0.0253065</td><td style=\"text-align: right;\">0.21152  </td><td style=\"text-align: right;\"> 0.10498  </td><td style=\"text-align: right;\"> 0.0681777 </td><td style=\"text-align: right;\">-0.0796399  </td><td style=\"text-align: right;\"> 0.0504175</td><td style=\"text-align: right;\"> 0.138939 </td><td style=\"text-align: right;\"> 0.0648952 </td><td style=\"text-align: right;\"> 0.0118774</td><td style=\"text-align: right;\"> 0.0414264</td><td style=\"text-align: right;\">-0.0216662 </td><td style=\"text-align: right;\">-0.256055</td><td style=\"text-align: right;\">-0.155368  </td><td style=\"text-align: right;\">-0.121654 </td><td style=\"text-align: right;\">-0.0753156 </td><td style=\"text-align: right;\"> 0.00146183</td><td style=\"text-align: right;\"> 0.110445 </td><td style=\"text-align: right;\"> 0.00875414</td><td style=\"text-align: right;\">-0.0962617</td><td style=\"text-align: right;\"> 0.0206949 </td><td style=\"text-align: right;\">0.0656127 </td><td style=\"text-align: right;\">-0.0631773 </td><td style=\"text-align: right;\">0.088553 </td><td style=\"text-align: right;\">-0.0603023</td><td style=\"text-align: right;\">0.0558643</td><td style=\"text-align: right;\"> 0.218091 </td><td style=\"text-align: right;\"> 0.0498352 </td><td style=\"text-align: right;\">-0.0865893</td><td style=\"text-align: right;\">-0.0328176</td><td style=\"text-align: right;\">0.093543  </td><td style=\"text-align: right;\"> 0.103663  </td><td style=\"text-align: right;\"> 0.0441056 </td><td style=\"text-align: right;\">0.0490299 </td><td style=\"text-align: right;\"> 0.0463936</td><td style=\"text-align: right;\">-0.0376937 </td><td style=\"text-align: right;\"> 0.0363769 </td><td style=\"text-align: right;\"> 0.0614023 </td><td style=\"text-align: right;\">-0.182562 </td><td style=\"text-align: right;\">-0.0244594 </td><td style=\"text-align: right;\"> 0.0985218 </td><td style=\"text-align: right;\">-0.0375488</td><td style=\"text-align: right;\"> 0.0334702</td><td style=\"text-align: right;\"> 0.0977256 </td></tr>\n",
              "<tr><td style=\"text-align: right;\">-0.111522 </td><td style=\"text-align: right;\"> 0.0548591</td><td style=\"text-align: right;\"> 0.0193272</td><td style=\"text-align: right;\">-0.0987004 </td><td style=\"text-align: right;\"> 0.0455748</td><td style=\"text-align: right;\">-0.0700782</td><td style=\"text-align: right;\"> 0.0418926 </td><td style=\"text-align: right;\"> 0.0234194</td><td style=\"text-align: right;\"> 0.0828465 </td><td style=\"text-align: right;\">-0.14534  </td><td style=\"text-align: right;\"> 0.024452  </td><td style=\"text-align: right;\">-0.0897312</td><td style=\"text-align: right;\">-0.0964792</td><td style=\"text-align: right;\">-0.0016232 </td><td style=\"text-align: right;\">-0.153627 </td><td style=\"text-align: right;\">-0.217377  </td><td style=\"text-align: right;\">-0.00769956</td><td style=\"text-align: right;\">-0.0473419 </td><td style=\"text-align: right;\"> 0.0771978  </td><td style=\"text-align: right;\">-0.0432942</td><td style=\"text-align: right;\"> 0.0712127 </td><td style=\"text-align: right;\"> 0.0939189 </td><td style=\"text-align: right;\"> 0.0527812</td><td style=\"text-align: right;\">-0.165514 </td><td style=\"text-align: right;\"> 0.16192   </td><td style=\"text-align: right;\">-0.0853159 </td><td style=\"text-align: right;\"> 0.00866945</td><td style=\"text-align: right;\">-0.0845316</td><td style=\"text-align: right;\">-0.147622 </td><td style=\"text-align: right;\">-0.0598889  </td><td style=\"text-align: right;\">-0.101728 </td><td style=\"text-align: right;\">-0.0699559 </td><td style=\"text-align: right;\">-0.0695998</td><td style=\"text-align: right;\"> 0.0711922</td><td style=\"text-align: right;\">-0.078077 </td><td style=\"text-align: right;\">-0.0250252 </td><td style=\"text-align: right;\">-0.0422308 </td><td style=\"text-align: right;\"> 0.0453987</td><td style=\"text-align: right;\"> 0.0888328</td><td style=\"text-align: right;\">-0.166419 </td><td style=\"text-align: right;\">-0.100364 </td><td style=\"text-align: right;\"> 0.075298  </td><td style=\"text-align: right;\"> 0.00728237 </td><td style=\"text-align: right;\">-0.0129348 </td><td style=\"text-align: right;\">-0.0254453  </td><td style=\"text-align: right;\"> 0.0185167 </td><td style=\"text-align: right;\"> 0.0108991 </td><td style=\"text-align: right;\">-0.000342828</td><td style=\"text-align: right;\">-0.0107084 </td><td style=\"text-align: right;\"> 0.0313125 </td><td style=\"text-align: right;\"> 0.19039  </td><td style=\"text-align: right;\"> 0.0897858 </td><td style=\"text-align: right;\">-0.0438991</td><td style=\"text-align: right;\">-0.056077  </td><td style=\"text-align: right;\"> 0.0258415 </td><td style=\"text-align: right;\"> 0.00500803</td><td style=\"text-align: right;\">-0.160229 </td><td style=\"text-align: right;\">-0.0623622</td><td style=\"text-align: right;\">0.113845 </td><td style=\"text-align: right;\"> 0.0259074</td><td style=\"text-align: right;\">-0.0177379 </td><td style=\"text-align: right;\">-0.00555328 </td><td style=\"text-align: right;\">-0.014618 </td><td style=\"text-align: right;\"> 0.169481 </td><td style=\"text-align: right;\"> 0.0723475 </td><td style=\"text-align: right;\"> 0.0447158</td><td style=\"text-align: right;\">-0.0310656</td><td style=\"text-align: right;\">-0.0291338 </td><td style=\"text-align: right;\">-0.206515</td><td style=\"text-align: right;\">-0.0266079 </td><td style=\"text-align: right;\">-0.039824 </td><td style=\"text-align: right;\">-0.0311099 </td><td style=\"text-align: right;\">-0.0652208 </td><td style=\"text-align: right;\"> 0.0185308</td><td style=\"text-align: right;\">-0.112979  </td><td style=\"text-align: right;\">-0.0871064</td><td style=\"text-align: right;\"> 0.00641214</td><td style=\"text-align: right;\">0.02513   </td><td style=\"text-align: right;\">-0.0822539 </td><td style=\"text-align: right;\">0.0685617</td><td style=\"text-align: right;\">-0.0926298</td><td style=\"text-align: right;\">0.103623 </td><td style=\"text-align: right;\"> 0.12731  </td><td style=\"text-align: right;\"> 0.0476567 </td><td style=\"text-align: right;\">-0.134205 </td><td style=\"text-align: right;\">-0.066134 </td><td style=\"text-align: right;\">0.109189  </td><td style=\"text-align: right;\"> 0.0158167 </td><td style=\"text-align: right;\"> 0.0250831 </td><td style=\"text-align: right;\">0.0294651 </td><td style=\"text-align: right;\"> 0.0779643</td><td style=\"text-align: right;\">-0.0761117 </td><td style=\"text-align: right;\">-0.00911031</td><td style=\"text-align: right;\"> 0.0199132 </td><td style=\"text-align: right;\">-0.145582 </td><td style=\"text-align: right;\">-0.00759721</td><td style=\"text-align: right;\"> 0.0218245 </td><td style=\"text-align: right;\">-0.0136415</td><td style=\"text-align: right;\"> 0.0909093</td><td style=\"text-align: right;\"> 0.0699299 </td></tr>\n",
              "<tr><td style=\"text-align: right;\">-0.107427 </td><td style=\"text-align: right;\"> 0.107211 </td><td style=\"text-align: right;\"> 0.0465205</td><td style=\"text-align: right;\">-0.0752503 </td><td style=\"text-align: right;\"> 0.0383706</td><td style=\"text-align: right;\">-0.0656089</td><td style=\"text-align: right;\"> 0.0624808 </td><td style=\"text-align: right;\">-0.0883091</td><td style=\"text-align: right;\"> 0.0887633 </td><td style=\"text-align: right;\">-0.125599 </td><td style=\"text-align: right;\"> 0.0124568 </td><td style=\"text-align: right;\">-0.151132 </td><td style=\"text-align: right;\">-0.0738361</td><td style=\"text-align: right;\"> 0.0156225 </td><td style=\"text-align: right;\">-0.0824705</td><td style=\"text-align: right;\">-0.102867  </td><td style=\"text-align: right;\"> 0.0241326 </td><td style=\"text-align: right;\"> 0.00613772</td><td style=\"text-align: right;\"> 0.074559   </td><td style=\"text-align: right;\">-0.0588216</td><td style=\"text-align: right;\"> 0.00182131</td><td style=\"text-align: right;\"> 0.0616672 </td><td style=\"text-align: right;\"> 0.0391584</td><td style=\"text-align: right;\">-0.0438107</td><td style=\"text-align: right;\"> 0.169068  </td><td style=\"text-align: right;\">-0.0559042 </td><td style=\"text-align: right;\"> 0.00281209</td><td style=\"text-align: right;\">-0.124248 </td><td style=\"text-align: right;\">-0.134494 </td><td style=\"text-align: right;\">-0.147707   </td><td style=\"text-align: right;\">-0.142567 </td><td style=\"text-align: right;\">-0.0606652 </td><td style=\"text-align: right;\">-0.0270774</td><td style=\"text-align: right;\"> 0.156878 </td><td style=\"text-align: right;\">-0.0144383</td><td style=\"text-align: right;\"> 0.0217819 </td><td style=\"text-align: right;\">-0.110182  </td><td style=\"text-align: right;\"> 0.0703944</td><td style=\"text-align: right;\"> 0.0934393</td><td style=\"text-align: right;\">-0.0910405</td><td style=\"text-align: right;\">-0.0661256</td><td style=\"text-align: right;\"> 0.0174665 </td><td style=\"text-align: right;\"> 0.00808763 </td><td style=\"text-align: right;\"> 0.0286414 </td><td style=\"text-align: right;\">-0.0240172  </td><td style=\"text-align: right;\"> 0.106628  </td><td style=\"text-align: right;\"> 0.0496279 </td><td style=\"text-align: right;\"> 0.0628362  </td><td style=\"text-align: right;\">-0.076515  </td><td style=\"text-align: right;\">-0.199846  </td><td style=\"text-align: right;\"> 0.251474 </td><td style=\"text-align: right;\"> 0.0354035 </td><td style=\"text-align: right;\"> 0.0647589</td><td style=\"text-align: right;\">-0.00518765</td><td style=\"text-align: right;\"> 0.0104829 </td><td style=\"text-align: right;\">-0.0225887 </td><td style=\"text-align: right;\">-0.0989696</td><td style=\"text-align: right;\"> 0.0140624</td><td style=\"text-align: right;\">0.0547251</td><td style=\"text-align: right;\"> 0.0370294</td><td style=\"text-align: right;\"> 0.0530087 </td><td style=\"text-align: right;\"> 0.02442    </td><td style=\"text-align: right;\"> 0.0416981</td><td style=\"text-align: right;\"> 0.108474 </td><td style=\"text-align: right;\">-0.0259904 </td><td style=\"text-align: right;\"> 0.0660233</td><td style=\"text-align: right;\">-0.0271967</td><td style=\"text-align: right;\">-0.00730246</td><td style=\"text-align: right;\">-0.228149</td><td style=\"text-align: right;\">-0.0101759 </td><td style=\"text-align: right;\">-0.051112 </td><td style=\"text-align: right;\">-0.0841798 </td><td style=\"text-align: right;\">-0.115071  </td><td style=\"text-align: right;\"> 0.0905445</td><td style=\"text-align: right;\">-0.113089  </td><td style=\"text-align: right;\">-0.0772094</td><td style=\"text-align: right;\"> 0.0166301 </td><td style=\"text-align: right;\">0.116557  </td><td style=\"text-align: right;\">-0.0830343 </td><td style=\"text-align: right;\">0.125834 </td><td style=\"text-align: right;\">-0.0843942</td><td style=\"text-align: right;\">0.0810401</td><td style=\"text-align: right;\"> 0.192795 </td><td style=\"text-align: right;\">-0.0473819 </td><td style=\"text-align: right;\">-0.053009 </td><td style=\"text-align: right;\">-0.102688 </td><td style=\"text-align: right;\">0.0317313 </td><td style=\"text-align: right;\"> 0.0225992 </td><td style=\"text-align: right;\"> 0.0339738 </td><td style=\"text-align: right;\">0.0266105 </td><td style=\"text-align: right;\"> 0.0967075</td><td style=\"text-align: right;\">-0.0395564 </td><td style=\"text-align: right;\">-0.0415577 </td><td style=\"text-align: right;\"> 0.0391922 </td><td style=\"text-align: right;\">-0.087335 </td><td style=\"text-align: right;\"> 0.00298681</td><td style=\"text-align: right;\">-0.0423898 </td><td style=\"text-align: right;\"> 0.0112255</td><td style=\"text-align: right;\"> 0.0526252</td><td style=\"text-align: right;\"> 0.139861  </td></tr>\n",
              "</tbody>\n",
              "</table>"
            ]
          },
          "metadata": {
            "tags": []
          }
        },
        {
          "output_type": "execute_result",
          "data": {
            "text/plain": [
              ""
            ]
          },
          "metadata": {
            "tags": []
          },
          "execution_count": 33
        }
      ]
    },
    {
      "cell_type": "code",
      "metadata": {
        "id": "n8YS59-tR7Yd",
        "colab_type": "code",
        "colab": {}
      },
      "source": [
        "h2o_df_ext=h2o_df.cbind(review_vecs)"
      ],
      "execution_count": 34,
      "outputs": []
    },
    {
      "cell_type": "code",
      "metadata": {
        "id": "1lthMDDjR8JX",
        "colab_type": "code",
        "colab": {}
      },
      "source": [
        "h2o_train,h2o_valid = h2o_df_ext.split_frame(ratios=[.8])"
      ],
      "execution_count": 35,
      "outputs": []
    },
    {
      "cell_type": "code",
      "metadata": {
        "id": "xEl-qxGZR_YL",
        "colab_type": "code",
        "colab": {
          "base_uri": "https://localhost:8080/",
          "height": 83
        },
        "outputId": "74fa8de2-b08f-48ae-b2c6-83a6eeeefa31"
      },
      "source": [
        "h2o_valid['target'].table()"
      ],
      "execution_count": 36,
      "outputs": [
        {
          "output_type": "display_data",
          "data": {
            "text/html": [
              "<table>\n",
              "<thead>\n",
              "<tr><th style=\"text-align: right;\">  target</th><th style=\"text-align: right;\">  Count</th></tr>\n",
              "</thead>\n",
              "<tbody>\n",
              "<tr><td style=\"text-align: right;\">       0</td><td style=\"text-align: right;\">   4644</td></tr>\n",
              "<tr><td style=\"text-align: right;\">       1</td><td style=\"text-align: right;\">  12428</td></tr>\n",
              "</tbody>\n",
              "</table>"
            ]
          },
          "metadata": {
            "tags": []
          }
        },
        {
          "output_type": "execute_result",
          "data": {
            "text/plain": [
              ""
            ]
          },
          "metadata": {
            "tags": []
          },
          "execution_count": 36
        }
      ]
    },
    {
      "cell_type": "code",
      "metadata": {
        "id": "yGNpbXf6SCcB",
        "colab_type": "code",
        "colab": {}
      },
      "source": [
        "gbm_baseline = H2OGradientBoostingEstimator(stopping_metric = \"AUC\", stopping_tolerance = 0.001,\n",
        "                                              stopping_rounds = 5, score_tree_interval = 10                                             \n",
        "                                             )"
      ],
      "execution_count": 37,
      "outputs": []
    },
    {
      "cell_type": "code",
      "metadata": {
        "id": "J2dlj7FZSF8y",
        "colab_type": "code",
        "colab": {
          "base_uri": "https://localhost:8080/",
          "height": 54
        },
        "outputId": "f0707c26-2851-4137-d9ca-8d8cd50546db"
      },
      "source": [
        "gbm_baseline.train(x=review_vecs.names, y='target', training_frame = h2o_train, validation_frame=h2o_valid)\n",
        "print(\"Baseline AUC: \" + str(round(gbm_baseline.auc(valid = True), 3)))"
      ],
      "execution_count": 38,
      "outputs": [
        {
          "output_type": "stream",
          "text": [
            "gbm Model Build progress: |███████████████████████████████████████████████| 100%\n",
            "Baseline AUC: 0.876\n"
          ],
          "name": "stdout"
        }
      ]
    },
    {
      "cell_type": "code",
      "metadata": {
        "id": "TL7oa8I6SPpc",
        "colab_type": "code",
        "colab": {
          "base_uri": "https://localhost:8080/",
          "height": 180
        },
        "outputId": "815bf3ec-ef48-41b9-f947-d7f3ff8fff39"
      },
      "source": [
        "gbm_baseline.confusion_matrix(valid=True)"
      ],
      "execution_count": 39,
      "outputs": [
        {
          "output_type": "stream",
          "text": [
            "\n",
            "Confusion Matrix (Act/Pred) for max f1 @ threshold = 0.5024480552849915: \n"
          ],
          "name": "stdout"
        },
        {
          "output_type": "display_data",
          "data": {
            "text/html": [
              "<div>\n",
              "<style scoped>\n",
              "    .dataframe tbody tr th:only-of-type {\n",
              "        vertical-align: middle;\n",
              "    }\n",
              "\n",
              "    .dataframe tbody tr th {\n",
              "        vertical-align: top;\n",
              "    }\n",
              "\n",
              "    .dataframe thead th {\n",
              "        text-align: right;\n",
              "    }\n",
              "</style>\n",
              "<table border=\"1\" class=\"dataframe\">\n",
              "  <thead>\n",
              "    <tr style=\"text-align: right;\">\n",
              "      <th></th>\n",
              "      <th></th>\n",
              "      <th>0</th>\n",
              "      <th>1</th>\n",
              "      <th>Error</th>\n",
              "      <th>Rate</th>\n",
              "    </tr>\n",
              "  </thead>\n",
              "  <tbody>\n",
              "    <tr>\n",
              "      <th>0</th>\n",
              "      <td>0</td>\n",
              "      <td>2380.0</td>\n",
              "      <td>2264.0</td>\n",
              "      <td>0.4875</td>\n",
              "      <td>(2264.0/4644.0)</td>\n",
              "    </tr>\n",
              "    <tr>\n",
              "      <th>1</th>\n",
              "      <td>1</td>\n",
              "      <td>596.0</td>\n",
              "      <td>11832.0</td>\n",
              "      <td>0.048</td>\n",
              "      <td>(596.0/12428.0)</td>\n",
              "    </tr>\n",
              "    <tr>\n",
              "      <th>2</th>\n",
              "      <td>Total</td>\n",
              "      <td>2976.0</td>\n",
              "      <td>14096.0</td>\n",
              "      <td>0.1675</td>\n",
              "      <td>(2860.0/17072.0)</td>\n",
              "    </tr>\n",
              "  </tbody>\n",
              "</table>\n",
              "</div>"
            ],
            "text/plain": [
              "               0        1   Error               Rate\n",
              "0      0  2380.0   2264.0  0.4875    (2264.0/4644.0)\n",
              "1      1   596.0  11832.0   0.048    (596.0/12428.0)\n",
              "2  Total  2976.0  14096.0  0.1675   (2860.0/17072.0)"
            ]
          },
          "metadata": {
            "tags": []
          }
        },
        {
          "output_type": "execute_result",
          "data": {
            "text/plain": [
              ""
            ]
          },
          "metadata": {
            "tags": []
          },
          "execution_count": 39
        }
      ]
    },
    {
      "cell_type": "markdown",
      "metadata": {
        "id": "fP2w_WK-Zgf_",
        "colab_type": "text"
      },
      "source": [
        "Notice that Error on minor classes is high that results because of imbalanced target classes. We will revise the model by passing Balance_classes parameter."
      ]
    },
    {
      "cell_type": "code",
      "metadata": {
        "id": "et0bkB-GSQc_",
        "colab_type": "code",
        "colab": {}
      },
      "source": [
        "gbm_balanced = H2OGradientBoostingEstimator(stopping_metric = \"AUC\", stopping_tolerance = 0.001,\n",
        "                                              stopping_rounds = 5, score_tree_interval = 10,\n",
        "                                              balance_classes= True\n",
        "                                             )"
      ],
      "execution_count": 40,
      "outputs": []
    },
    {
      "cell_type": "code",
      "metadata": {
        "id": "NaU_FrOmSVnW",
        "colab_type": "code",
        "colab": {
          "base_uri": "https://localhost:8080/",
          "height": 54
        },
        "outputId": "6ed0abb6-26c4-4e94-b1ea-c19ddcd4807e"
      },
      "source": [
        "gbm_balanced.train(x=review_vecs.names, y='target', training_frame = h2o_train, validation_frame=h2o_valid)\n",
        "print(\" Balanced AUC: \" + str(round(gbm_balanced.auc(valid = True), 3)))"
      ],
      "execution_count": 41,
      "outputs": [
        {
          "output_type": "stream",
          "text": [
            "gbm Model Build progress: |███████████████████████████████████████████████| 100%\n",
            " Balanced AUC: 0.875\n"
          ],
          "name": "stdout"
        }
      ]
    },
    {
      "cell_type": "code",
      "metadata": {
        "id": "gQo3VuktSqPa",
        "colab_type": "code",
        "colab": {
          "base_uri": "https://localhost:8080/",
          "height": 180
        },
        "outputId": "3ab4b1bb-e630-4055-da94-737c464df0af"
      },
      "source": [
        "gbm_balanced.confusion_matrix(valid=True)"
      ],
      "execution_count": 42,
      "outputs": [
        {
          "output_type": "stream",
          "text": [
            "\n",
            "Confusion Matrix (Act/Pred) for max f1 @ threshold = 0.5200179329698041: \n"
          ],
          "name": "stdout"
        },
        {
          "output_type": "display_data",
          "data": {
            "text/html": [
              "<div>\n",
              "<style scoped>\n",
              "    .dataframe tbody tr th:only-of-type {\n",
              "        vertical-align: middle;\n",
              "    }\n",
              "\n",
              "    .dataframe tbody tr th {\n",
              "        vertical-align: top;\n",
              "    }\n",
              "\n",
              "    .dataframe thead th {\n",
              "        text-align: right;\n",
              "    }\n",
              "</style>\n",
              "<table border=\"1\" class=\"dataframe\">\n",
              "  <thead>\n",
              "    <tr style=\"text-align: right;\">\n",
              "      <th></th>\n",
              "      <th></th>\n",
              "      <th>0</th>\n",
              "      <th>1</th>\n",
              "      <th>Error</th>\n",
              "      <th>Rate</th>\n",
              "    </tr>\n",
              "  </thead>\n",
              "  <tbody>\n",
              "    <tr>\n",
              "      <th>0</th>\n",
              "      <td>0</td>\n",
              "      <td>2338.0</td>\n",
              "      <td>2306.0</td>\n",
              "      <td>0.4966</td>\n",
              "      <td>(2306.0/4644.0)</td>\n",
              "    </tr>\n",
              "    <tr>\n",
              "      <th>1</th>\n",
              "      <td>1</td>\n",
              "      <td>593.0</td>\n",
              "      <td>11835.0</td>\n",
              "      <td>0.0477</td>\n",
              "      <td>(593.0/12428.0)</td>\n",
              "    </tr>\n",
              "    <tr>\n",
              "      <th>2</th>\n",
              "      <td>Total</td>\n",
              "      <td>2931.0</td>\n",
              "      <td>14141.0</td>\n",
              "      <td>0.1698</td>\n",
              "      <td>(2899.0/17072.0)</td>\n",
              "    </tr>\n",
              "  </tbody>\n",
              "</table>\n",
              "</div>"
            ],
            "text/plain": [
              "               0        1   Error               Rate\n",
              "0      0  2338.0   2306.0  0.4966    (2306.0/4644.0)\n",
              "1      1   593.0  11835.0  0.0477    (593.0/12428.0)\n",
              "2  Total  2931.0  14141.0  0.1698   (2899.0/17072.0)"
            ]
          },
          "metadata": {
            "tags": []
          }
        },
        {
          "output_type": "execute_result",
          "data": {
            "text/plain": [
              ""
            ]
          },
          "metadata": {
            "tags": []
          },
          "execution_count": 42
        }
      ]
    },
    {
      "cell_type": "markdown",
      "metadata": {
        "id": "dta2tIrIZxx8",
        "colab_type": "text"
      },
      "source": [
        "Looks like model doesnt improve much after balancing target labels.Lets evalaute if the model performance improve tuning few hyperparameters."
      ]
    },
    {
      "cell_type": "code",
      "metadata": {
        "id": "2Wz-ECSRdpSI",
        "colab_type": "code",
        "colab": {
          "base_uri": "https://localhost:8080/",
          "height": 612
        },
        "outputId": "bda8f8df-4dae-4ee1-a50b-8fc4704cde1d"
      },
      "source": [
        "gbm_balanced.varimp_plot()"
      ],
      "execution_count": 43,
      "outputs": [
        {
          "output_type": "display_data",
          "data": {
            "image/png": "[encoded data removed]",
            "text/plain": [
              "<Figure size 1008x720 with 1 Axes>"
            ]
          },
          "metadata": {
            "tags": [],
            "needs_background": "light"
          }
        }
      ]
    },
    {
      "cell_type": "markdown",
      "metadata": {
        "id": "OSE2kS4Taaav",
        "colab_type": "text"
      },
      "source": [
        "C50 is important feature for target label."
      ]
    },
    {
      "cell_type": "markdown",
      "metadata": {
        "id": "ZiTHqBPUewBn",
        "colab_type": "text"
      },
      "source": [
        "Headlines column will have text data We will add another feature 'headlines' to our existing trainingset and interpret the performance. "
      ]
    },
    {
      "cell_type": "code",
      "metadata": {
        "id": "SlkfPOzUeuxX",
        "colab_type": "code",
        "colab": {}
      },
      "source": [
        "headline_vecs = vec_model.transform(words_headline, aggregate_method = \"AVERAGE\")\n",
        "headline_vecs.names = [\"headline_\" + s for s in headline_vecs.names]"
      ],
      "execution_count": 44,
      "outputs": []
    },
    {
      "cell_type": "code",
      "metadata": {
        "id": "DZ2-G1DSfXuI",
        "colab_type": "code",
        "colab": {
          "base_uri": "https://localhost:8080/",
          "height": 274
        },
        "outputId": "491d5c7d-2bf4-4cb4-c6e3-2cec1560929d"
      },
      "source": [
        "headline_vecs.head()"
      ],
      "execution_count": 45,
      "outputs": [
        {
          "output_type": "display_data",
          "data": {
            "text/html": [
              "<table>\n",
              "<thead>\n",
              "<tr><th style=\"text-align: right;\">  headline_C1</th><th style=\"text-align: right;\">  headline_C2</th><th style=\"text-align: right;\">  headline_C3</th><th style=\"text-align: right;\">  headline_C4</th><th style=\"text-align: right;\">  headline_C5</th><th style=\"text-align: right;\">  headline_C6</th><th style=\"text-align: right;\">  headline_C7</th><th style=\"text-align: right;\">  headline_C8</th><th style=\"text-align: right;\">  headline_C9</th><th style=\"text-align: right;\">  headline_C10</th><th style=\"text-align: right;\">  headline_C11</th><th style=\"text-align: right;\">  headline_C12</th><th style=\"text-align: right;\">  headline_C13</th><th style=\"text-align: right;\">  headline_C14</th><th style=\"text-align: right;\">  headline_C15</th><th style=\"text-align: right;\">  headline_C16</th><th style=\"text-align: right;\">  headline_C17</th><th style=\"text-align: right;\">  headline_C18</th><th style=\"text-align: right;\">  headline_C19</th><th style=\"text-align: right;\">  headline_C20</th><th style=\"text-align: right;\">  headline_C21</th><th style=\"text-align: right;\">  headline_C22</th><th style=\"text-align: right;\">  headline_C23</th><th style=\"text-align: right;\">  headline_C24</th><th style=\"text-align: right;\">  headline_C25</th><th style=\"text-align: right;\">  headline_C26</th><th style=\"text-align: right;\">  headline_C27</th><th style=\"text-align: right;\">  headline_C28</th><th style=\"text-align: right;\">  headline_C29</th><th style=\"text-align: right;\">  headline_C30</th><th style=\"text-align: right;\">  headline_C31</th><th style=\"text-align: right;\">  headline_C32</th><th style=\"text-align: right;\">  headline_C33</th><th style=\"text-align: right;\">  headline_C34</th><th style=\"text-align: right;\">  headline_C35</th><th style=\"text-align: right;\">  headline_C36</th><th style=\"text-align: right;\">  headline_C37</th><th style=\"text-align: right;\">  headline_C38</th><th style=\"text-align: right;\">  headline_C39</th><th style=\"text-align: right;\">  headline_C40</th><th style=\"text-align: right;\">  headline_C41</th><th style=\"text-align: right;\">  headline_C42</th><th style=\"text-align: right;\">  headline_C43</th><th style=\"text-align: right;\">  headline_C44</th><th style=\"text-align: right;\">  headline_C45</th><th style=\"text-align: right;\">  headline_C46</th><th style=\"text-align: right;\">  headline_C47</th><th style=\"text-align: right;\">  headline_C48</th><th style=\"text-align: right;\">  headline_C49</th><th style=\"text-align: right;\">  headline_C50</th><th style=\"text-align: right;\">  headline_C51</th><th style=\"text-align: right;\">  headline_C52</th><th style=\"text-align: right;\">  headline_C53</th><th style=\"text-align: right;\">  headline_C54</th><th style=\"text-align: right;\">  headline_C55</th><th style=\"text-align: right;\">  headline_C56</th><th style=\"text-align: right;\">  headline_C57</th><th style=\"text-align: right;\">  headline_C58</th><th style=\"text-align: right;\">  headline_C59</th><th style=\"text-align: right;\">  headline_C60</th><th style=\"text-align: right;\">  headline_C61</th><th style=\"text-align: right;\">  headline_C62</th><th style=\"text-align: right;\">  headline_C63</th><th style=\"text-align: right;\">  headline_C64</th><th style=\"text-align: right;\">  headline_C65</th><th style=\"text-align: right;\">  headline_C66</th><th style=\"text-align: right;\">  headline_C67</th><th style=\"text-align: right;\">  headline_C68</th><th style=\"text-align: right;\">  headline_C69</th><th style=\"text-align: right;\">  headline_C70</th><th style=\"text-align: right;\">  headline_C71</th><th style=\"text-align: right;\">  headline_C72</th><th style=\"text-align: right;\">  headline_C73</th><th style=\"text-align: right;\">  headline_C74</th><th style=\"text-align: right;\">  headline_C75</th><th style=\"text-align: right;\">  headline_C76</th><th style=\"text-align: right;\">  headline_C77</th><th style=\"text-align: right;\">  headline_C78</th><th style=\"text-align: right;\">  headline_C79</th><th style=\"text-align: right;\">  headline_C80</th><th style=\"text-align: right;\">  headline_C81</th><th style=\"text-align: right;\">  headline_C82</th><th style=\"text-align: right;\">  headline_C83</th><th style=\"text-align: right;\">  headline_C84</th><th style=\"text-align: right;\">  headline_C85</th><th style=\"text-align: right;\">  headline_C86</th><th style=\"text-align: right;\">  headline_C87</th><th style=\"text-align: right;\">  headline_C88</th><th style=\"text-align: right;\">  headline_C89</th><th style=\"text-align: right;\">  headline_C90</th><th style=\"text-align: right;\">  headline_C91</th><th style=\"text-align: right;\">  headline_C92</th><th style=\"text-align: right;\">  headline_C93</th><th style=\"text-align: right;\">  headline_C94</th><th style=\"text-align: right;\">  headline_C95</th><th style=\"text-align: right;\">  headline_C96</th><th style=\"text-align: right;\">  headline_C97</th><th style=\"text-align: right;\">  headline_C98</th><th style=\"text-align: right;\">  headline_C99</th><th style=\"text-align: right;\">  headline_C100</th></tr>\n",
              "</thead>\n",
              "<tbody>\n",
              "<tr><td style=\"text-align: right;\">   -0.105602 </td><td style=\"text-align: right;\">  -0.328054  </td><td style=\"text-align: right;\">   -0.112324 </td><td style=\"text-align: right;\">   -0.0253121</td><td style=\"text-align: right;\">    0.1729   </td><td style=\"text-align: right;\">   -0.0869874</td><td style=\"text-align: right;\">   0.00680927</td><td style=\"text-align: right;\">  -0.0845275 </td><td style=\"text-align: right;\">   0.0516046 </td><td style=\"text-align: right;\">    -0.158925 </td><td style=\"text-align: right;\">    0.16158   </td><td style=\"text-align: right;\">    -0.065333 </td><td style=\"text-align: right;\">   -0.00534703</td><td style=\"text-align: right;\">    0.0198024 </td><td style=\"text-align: right;\">     0.171115 </td><td style=\"text-align: right;\">   -0.0678068 </td><td style=\"text-align: right;\">   -0.0242358 </td><td style=\"text-align: right;\">   -0.0792547 </td><td style=\"text-align: right;\">    -0.0492161</td><td style=\"text-align: right;\">    0.0592144 </td><td style=\"text-align: right;\">     0.0217273</td><td style=\"text-align: right;\">   -0.115894  </td><td style=\"text-align: right;\">   -0.163839  </td><td style=\"text-align: right;\">    -0.177782 </td><td style=\"text-align: right;\">     0.260756 </td><td style=\"text-align: right;\">   -0.00180721</td><td style=\"text-align: right;\">    -0.0638511</td><td style=\"text-align: right;\">    -0.249128 </td><td style=\"text-align: right;\">    -0.0703273</td><td style=\"text-align: right;\">     0.206365 </td><td style=\"text-align: right;\">     0.0425415</td><td style=\"text-align: right;\">    0.00254193</td><td style=\"text-align: right;\">   1.46627e-05</td><td style=\"text-align: right;\">     0.0684066</td><td style=\"text-align: right;\">   -0.125784  </td><td style=\"text-align: right;\">     0.123859 </td><td style=\"text-align: right;\">     0.0526515</td><td style=\"text-align: right;\">   -0.0561838 </td><td style=\"text-align: right;\">     0.067258 </td><td style=\"text-align: right;\">   -0.113028  </td><td style=\"text-align: right;\">    -0.0501009</td><td style=\"text-align: right;\">     0.211503 </td><td style=\"text-align: right;\">    -0.0673861</td><td style=\"text-align: right;\">    0.0267889 </td><td style=\"text-align: right;\">    -0.0360204</td><td style=\"text-align: right;\">    -0.0946724</td><td style=\"text-align: right;\">    0.0891744 </td><td style=\"text-align: right;\">     0.217747 </td><td style=\"text-align: right;\">    -0.0882616</td><td style=\"text-align: right;\">    -0.217938 </td><td style=\"text-align: right;\">    0.0801429 </td><td style=\"text-align: right;\">     0.248751 </td><td style=\"text-align: right;\">    -0.197214 </td><td style=\"text-align: right;\">     0.0340949</td><td style=\"text-align: right;\">   -0.184538  </td><td style=\"text-align: right;\">     0.0006603</td><td style=\"text-align: right;\">    -0.0970123</td><td style=\"text-align: right;\">    0.146329  </td><td style=\"text-align: right;\">     0.147554 </td><td style=\"text-align: right;\">     0.18224  </td><td style=\"text-align: right;\">     0.122027 </td><td style=\"text-align: right;\">   -0.125292  </td><td style=\"text-align: right;\">     0.127735 </td><td style=\"text-align: right;\">     0.0888674</td><td style=\"text-align: right;\">  -0.180743   </td><td style=\"text-align: right;\">     0.0884998</td><td style=\"text-align: right;\">     0.0762026</td><td style=\"text-align: right;\">   -0.0196716 </td><td style=\"text-align: right;\">    -0.325197 </td><td style=\"text-align: right;\">   -0.112397  </td><td style=\"text-align: right;\">    -0.208096 </td><td style=\"text-align: right;\">     0.0683762</td><td style=\"text-align: right;\">    -0.192196 </td><td style=\"text-align: right;\">     0.0998402</td><td style=\"text-align: right;\">    0.100275  </td><td style=\"text-align: right;\">    -0.0376627</td><td style=\"text-align: right;\">    0.134213  </td><td style=\"text-align: right;\">     0.0596961</td><td style=\"text-align: right;\">   -0.0161603 </td><td style=\"text-align: right;\">   0.000954804</td><td style=\"text-align: right;\">   -0.218178  </td><td style=\"text-align: right;\">     0.0225384</td><td style=\"text-align: right;\">      0.362016</td><td style=\"text-align: right;\">    -0.0956107</td><td style=\"text-align: right;\">    -0.0467081</td><td style=\"text-align: right;\">    -0.126719 </td><td style=\"text-align: right;\">    -0.0150141</td><td style=\"text-align: right;\">    0.178586  </td><td style=\"text-align: right;\">    0.0258339 </td><td style=\"text-align: right;\">     0.0344777</td><td style=\"text-align: right;\">    -0.118883 </td><td style=\"text-align: right;\">    -0.0103178</td><td style=\"text-align: right;\">     0.0455266</td><td style=\"text-align: right;\">     0.12315  </td><td style=\"text-align: right;\">    -0.174194 </td><td style=\"text-align: right;\">    -0.0319825</td><td style=\"text-align: right;\">    -0.0432474</td><td style=\"text-align: right;\">    -0.232297 </td><td style=\"text-align: right;\">    -0.21424  </td><td style=\"text-align: right;\">      0.0613975</td></tr>\n",
              "<tr><td style=\"text-align: right;\">   -0.323755 </td><td style=\"text-align: right;\">  -0.0214788 </td><td style=\"text-align: right;\">   -0.0265393</td><td style=\"text-align: right;\">   -0.023732 </td><td style=\"text-align: right;\">    0.074015 </td><td style=\"text-align: right;\">   -0.0878253</td><td style=\"text-align: right;\">  -0.114146  </td><td style=\"text-align: right;\">   0.00972323</td><td style=\"text-align: right;\">   0.0940257 </td><td style=\"text-align: right;\">    -0.222923 </td><td style=\"text-align: right;\">   -0.02835   </td><td style=\"text-align: right;\">    -0.106361 </td><td style=\"text-align: right;\">    0.0050534 </td><td style=\"text-align: right;\">   -0.144219  </td><td style=\"text-align: right;\">    -0.125922 </td><td style=\"text-align: right;\">   -0.0961963 </td><td style=\"text-align: right;\">   -0.185872  </td><td style=\"text-align: right;\">   -0.113117  </td><td style=\"text-align: right;\">     0.0677055</td><td style=\"text-align: right;\">   -0.0820835 </td><td style=\"text-align: right;\">     0.0835124</td><td style=\"text-align: right;\">   -0.189333  </td><td style=\"text-align: right;\">    0.00445894</td><td style=\"text-align: right;\">     0.0237188</td><td style=\"text-align: right;\">    -0.0801471</td><td style=\"text-align: right;\">   -0.324096  </td><td style=\"text-align: right;\">     0.0191151</td><td style=\"text-align: right;\">     0.0489571</td><td style=\"text-align: right;\">    -0.180211 </td><td style=\"text-align: right;\">     0.0544831</td><td style=\"text-align: right;\">    -0.0539992</td><td style=\"text-align: right;\">   -0.0413986 </td><td style=\"text-align: right;\">  -0.0666822  </td><td style=\"text-align: right;\">     0.058961 </td><td style=\"text-align: right;\">    0.117693  </td><td style=\"text-align: right;\">     0.0589091</td><td style=\"text-align: right;\">     0.14423  </td><td style=\"text-align: right;\">    0.0220138 </td><td style=\"text-align: right;\">     0.174635 </td><td style=\"text-align: right;\">   -0.0532536 </td><td style=\"text-align: right;\">    -0.116862 </td><td style=\"text-align: right;\">     0.0227773</td><td style=\"text-align: right;\">     0.0483375</td><td style=\"text-align: right;\">    0.0357225 </td><td style=\"text-align: right;\">     0.0584756</td><td style=\"text-align: right;\">     0.0868885</td><td style=\"text-align: right;\">    0.0155859 </td><td style=\"text-align: right;\">    -0.12958  </td><td style=\"text-align: right;\">    -0.164614 </td><td style=\"text-align: right;\">     0.079812 </td><td style=\"text-align: right;\">   -0.0610178 </td><td style=\"text-align: right;\">     0.0664872</td><td style=\"text-align: right;\">    -0.0601594</td><td style=\"text-align: right;\">    -0.0215888</td><td style=\"text-align: right;\">   -0.0613494 </td><td style=\"text-align: right;\">     0.0531643</td><td style=\"text-align: right;\">    -0.111894 </td><td style=\"text-align: right;\">    0.0696821 </td><td style=\"text-align: right;\">     0.197013 </td><td style=\"text-align: right;\">     0.116674 </td><td style=\"text-align: right;\">     0.126421 </td><td style=\"text-align: right;\">   -0.0170416 </td><td style=\"text-align: right;\">     0.0950132</td><td style=\"text-align: right;\">     0.09398  </td><td style=\"text-align: right;\">  -0.147911   </td><td style=\"text-align: right;\">     0.0811506</td><td style=\"text-align: right;\">     0.20932  </td><td style=\"text-align: right;\">   -0.342059  </td><td style=\"text-align: right;\">    -0.231516 </td><td style=\"text-align: right;\">   -0.0996702 </td><td style=\"text-align: right;\">    -0.101782 </td><td style=\"text-align: right;\">     0.0506227</td><td style=\"text-align: right;\">    -0.164408 </td><td style=\"text-align: right;\">     0.1454   </td><td style=\"text-align: right;\">   -0.0491618 </td><td style=\"text-align: right;\">    -0.112007 </td><td style=\"text-align: right;\">   -0.0104642 </td><td style=\"text-align: right;\">     0.0113865</td><td style=\"text-align: right;\">   -0.162786  </td><td style=\"text-align: right;\">   0.214296   </td><td style=\"text-align: right;\">   -0.174304  </td><td style=\"text-align: right;\">     0.213907 </td><td style=\"text-align: right;\">      0.154198</td><td style=\"text-align: right;\">    -0.0134722</td><td style=\"text-align: right;\">    -0.175201 </td><td style=\"text-align: right;\">    -0.112382 </td><td style=\"text-align: right;\">     0.165767 </td><td style=\"text-align: right;\">    0.183569  </td><td style=\"text-align: right;\">   -0.0424013 </td><td style=\"text-align: right;\">    -0.0428745</td><td style=\"text-align: right;\">     0.0182356</td><td style=\"text-align: right;\">    -0.0183405</td><td style=\"text-align: right;\">     0.0499591</td><td style=\"text-align: right;\">    -0.0274805</td><td style=\"text-align: right;\">    -0.0305212</td><td style=\"text-align: right;\">     0.0320411</td><td style=\"text-align: right;\">     0.16195  </td><td style=\"text-align: right;\">    -0.0819155</td><td style=\"text-align: right;\">     0.029313 </td><td style=\"text-align: right;\">     -0.0213744</td></tr>\n",
              "<tr><td style=\"text-align: right;\">   -0.167555 </td><td style=\"text-align: right;\">  -0.0556319 </td><td style=\"text-align: right;\">   -0.197222 </td><td style=\"text-align: right;\">   -0.0425217</td><td style=\"text-align: right;\">    0.118573 </td><td style=\"text-align: right;\">   -0.131173 </td><td style=\"text-align: right;\">   0.0968758 </td><td style=\"text-align: right;\">  -0.10138   </td><td style=\"text-align: right;\">   0.0923252 </td><td style=\"text-align: right;\">    -0.133861 </td><td style=\"text-align: right;\">    0.177402  </td><td style=\"text-align: right;\">    -0.0227283</td><td style=\"text-align: right;\">   -0.0381382 </td><td style=\"text-align: right;\">   -0.0059253 </td><td style=\"text-align: right;\">    -0.0605872</td><td style=\"text-align: right;\">    0.218547  </td><td style=\"text-align: right;\">   -0.182531  </td><td style=\"text-align: right;\">    0.00843527</td><td style=\"text-align: right;\">     0.213057 </td><td style=\"text-align: right;\">   -0.0575837 </td><td style=\"text-align: right;\">     0.0209008</td><td style=\"text-align: right;\">   -0.0270239 </td><td style=\"text-align: right;\">   -0.27514   </td><td style=\"text-align: right;\">    -0.181281 </td><td style=\"text-align: right;\">     0.177839 </td><td style=\"text-align: right;\">    0.0275707 </td><td style=\"text-align: right;\">     0.0437503</td><td style=\"text-align: right;\">    -0.0864234</td><td style=\"text-align: right;\">    -0.0944459</td><td style=\"text-align: right;\">    -0.0480956</td><td style=\"text-align: right;\">    -0.15682  </td><td style=\"text-align: right;\">   -0.196731  </td><td style=\"text-align: right;\">  -0.0256261  </td><td style=\"text-align: right;\">     0.0835841</td><td style=\"text-align: right;\">   -0.154437  </td><td style=\"text-align: right;\">     0.182552 </td><td style=\"text-align: right;\">     0.149058 </td><td style=\"text-align: right;\">   -0.312695  </td><td style=\"text-align: right;\">    -0.0609326</td><td style=\"text-align: right;\">    0.0752443 </td><td style=\"text-align: right;\">    -0.233623 </td><td style=\"text-align: right;\">    -0.0560755</td><td style=\"text-align: right;\">     0.0271478</td><td style=\"text-align: right;\">    0.156188  </td><td style=\"text-align: right;\">    -0.16788  </td><td style=\"text-align: right;\">    -0.205136 </td><td style=\"text-align: right;\">    0.243779  </td><td style=\"text-align: right;\">    -0.17163  </td><td style=\"text-align: right;\">    -0.021051 </td><td style=\"text-align: right;\">    -0.0882941</td><td style=\"text-align: right;\">    0.204042  </td><td style=\"text-align: right;\">     0.0195495</td><td style=\"text-align: right;\">    -0.106757 </td><td style=\"text-align: right;\">    -0.0988268</td><td style=\"text-align: right;\">   -0.0334742 </td><td style=\"text-align: right;\">    -0.184784 </td><td style=\"text-align: right;\">    -0.222292 </td><td style=\"text-align: right;\">   -0.00555257</td><td style=\"text-align: right;\">     0.372638 </td><td style=\"text-align: right;\">     0.217034 </td><td style=\"text-align: right;\">     0.0751041</td><td style=\"text-align: right;\">   -0.198622  </td><td style=\"text-align: right;\">     0.128798 </td><td style=\"text-align: right;\">     0.15907  </td><td style=\"text-align: right;\">  -0.000770155</td><td style=\"text-align: right;\">    -0.0385072</td><td style=\"text-align: right;\">    -0.0693511</td><td style=\"text-align: right;\">   -0.00316574</td><td style=\"text-align: right;\">    -0.167431 </td><td style=\"text-align: right;\">   -0.0221419 </td><td style=\"text-align: right;\">    -0.32133  </td><td style=\"text-align: right;\">    -0.177798 </td><td style=\"text-align: right;\">    -0.0400844</td><td style=\"text-align: right;\">    -0.108874 </td><td style=\"text-align: right;\">    0.17175   </td><td style=\"text-align: right;\">     0.0830453</td><td style=\"text-align: right;\">    0.157006  </td><td style=\"text-align: right;\">     0.21427  </td><td style=\"text-align: right;\">   -0.0199801 </td><td style=\"text-align: right;\">   0.0875757  </td><td style=\"text-align: right;\">    0.0285419 </td><td style=\"text-align: right;\">     0.195453 </td><td style=\"text-align: right;\">      0.265565</td><td style=\"text-align: right;\">     0.0659571</td><td style=\"text-align: right;\">    -0.139777 </td><td style=\"text-align: right;\">    -0.152035 </td><td style=\"text-align: right;\">     0.230321 </td><td style=\"text-align: right;\">    0.309691  </td><td style=\"text-align: right;\">   -0.250158  </td><td style=\"text-align: right;\">     0.176836 </td><td style=\"text-align: right;\">    -0.0294287</td><td style=\"text-align: right;\">    -0.0184913</td><td style=\"text-align: right;\">    -0.13219  </td><td style=\"text-align: right;\">     0.20874  </td><td style=\"text-align: right;\">     0.110654 </td><td style=\"text-align: right;\">     0.157849 </td><td style=\"text-align: right;\">     0.0878768</td><td style=\"text-align: right;\">    -0.102295 </td><td style=\"text-align: right;\">    -0.153793 </td><td style=\"text-align: right;\">     -0.036326 </td></tr>\n",
              "<tr><td style=\"text-align: right;\">   -0.189053 </td><td style=\"text-align: right;\">   0.312265  </td><td style=\"text-align: right;\">    0.500199 </td><td style=\"text-align: right;\">    0.158073 </td><td style=\"text-align: right;\">   -0.0441977</td><td style=\"text-align: right;\">   -0.353926 </td><td style=\"text-align: right;\">   0.286969  </td><td style=\"text-align: right;\">  -0.217181  </td><td style=\"text-align: right;\">   0.109576  </td><td style=\"text-align: right;\">     0.203146 </td><td style=\"text-align: right;\">   -0.272443  </td><td style=\"text-align: right;\">     0.129001 </td><td style=\"text-align: right;\">   -0.232935  </td><td style=\"text-align: right;\">   -0.592676  </td><td style=\"text-align: right;\">     0.133783 </td><td style=\"text-align: right;\">    0.0216459 </td><td style=\"text-align: right;\">   -0.536645  </td><td style=\"text-align: right;\">    0.0596272 </td><td style=\"text-align: right;\">    -0.0592751</td><td style=\"text-align: right;\">    0.208665  </td><td style=\"text-align: right;\">    -0.234584 </td><td style=\"text-align: right;\">   -0.0944128 </td><td style=\"text-align: right;\">   -0.265538  </td><td style=\"text-align: right;\">    -0.236723 </td><td style=\"text-align: right;\">    -0.129308 </td><td style=\"text-align: right;\">   -0.173691  </td><td style=\"text-align: right;\">    -0.146823 </td><td style=\"text-align: right;\">    -0.231576 </td><td style=\"text-align: right;\">    -0.209392 </td><td style=\"text-align: right;\">     0.013695 </td><td style=\"text-align: right;\">     0.171868 </td><td style=\"text-align: right;\">   -0.141596  </td><td style=\"text-align: right;\">   0.429069   </td><td style=\"text-align: right;\">     0.187227 </td><td style=\"text-align: right;\">   -0.0234364 </td><td style=\"text-align: right;\">    -0.0118266</td><td style=\"text-align: right;\">    -0.0406385</td><td style=\"text-align: right;\">   -0.0673341 </td><td style=\"text-align: right;\">     0.0208775</td><td style=\"text-align: right;\">    0.24287   </td><td style=\"text-align: right;\">     0.0960232</td><td style=\"text-align: right;\">     0.514993 </td><td style=\"text-align: right;\">    -0.129178 </td><td style=\"text-align: right;\">   -0.239727  </td><td style=\"text-align: right;\">     0.0873811</td><td style=\"text-align: right;\">     0.0462224</td><td style=\"text-align: right;\">    0.0191804 </td><td style=\"text-align: right;\">    -0.0484188</td><td style=\"text-align: right;\">     0.408335 </td><td style=\"text-align: right;\">     0.215579 </td><td style=\"text-align: right;\">   -0.055337  </td><td style=\"text-align: right;\">     0.149429 </td><td style=\"text-align: right;\">    -0.180784 </td><td style=\"text-align: right;\">     0.261202 </td><td style=\"text-align: right;\">    0.181308  </td><td style=\"text-align: right;\">     0.0639365</td><td style=\"text-align: right;\">     0.0322889</td><td style=\"text-align: right;\">    0.118271  </td><td style=\"text-align: right;\">     0.291894 </td><td style=\"text-align: right;\">    -0.453403 </td><td style=\"text-align: right;\">     0.0882592</td><td style=\"text-align: right;\">    0.381356  </td><td style=\"text-align: right;\">    -0.0656918</td><td style=\"text-align: right;\">     0.313224 </td><td style=\"text-align: right;\">   0.118546   </td><td style=\"text-align: right;\">     0.280228 </td><td style=\"text-align: right;\">     0.235631 </td><td style=\"text-align: right;\">   -0.252019  </td><td style=\"text-align: right;\">    -0.527175 </td><td style=\"text-align: right;\">   -0.176563  </td><td style=\"text-align: right;\">    -0.0849118</td><td style=\"text-align: right;\">    -0.0747499</td><td style=\"text-align: right;\">    -0.188289 </td><td style=\"text-align: right;\">    -0.0851146</td><td style=\"text-align: right;\">   -0.181016  </td><td style=\"text-align: right;\">    -0.55902  </td><td style=\"text-align: right;\">    0.0815443 </td><td style=\"text-align: right;\">     0.0407   </td><td style=\"text-align: right;\">   -0.143177  </td><td style=\"text-align: right;\">   0.108041   </td><td style=\"text-align: right;\">    0.00396895</td><td style=\"text-align: right;\">    -0.289434 </td><td style=\"text-align: right;\">      0.537007</td><td style=\"text-align: right;\">     0.111286 </td><td style=\"text-align: right;\">    -0.14976  </td><td style=\"text-align: right;\">     0.0971124</td><td style=\"text-align: right;\">     0.23284  </td><td style=\"text-align: right;\">   -0.0860226 </td><td style=\"text-align: right;\">    0.0411613 </td><td style=\"text-align: right;\">     0.3145   </td><td style=\"text-align: right;\">    -0.189707 </td><td style=\"text-align: right;\">    -0.120023 </td><td style=\"text-align: right;\">    -0.100254 </td><td style=\"text-align: right;\">     0.379021 </td><td style=\"text-align: right;\">    -0.152181 </td><td style=\"text-align: right;\">    -0.0844268</td><td style=\"text-align: right;\">     0.368543 </td><td style=\"text-align: right;\">     0.0750021</td><td style=\"text-align: right;\">    -0.0731933</td><td style=\"text-align: right;\">      0.218956 </td></tr>\n",
              "<tr><td style=\"text-align: right;\">   -0.0799304</td><td style=\"text-align: right;\">   0.00264943</td><td style=\"text-align: right;\">   -0.0633719</td><td style=\"text-align: right;\">   -0.0443998</td><td style=\"text-align: right;\">    0.389826 </td><td style=\"text-align: right;\">    0.123822 </td><td style=\"text-align: right;\">   0.106187  </td><td style=\"text-align: right;\">   0.00552079</td><td style=\"text-align: right;\">  -0.00797904</td><td style=\"text-align: right;\">     0.0058053</td><td style=\"text-align: right;\">   -0.186134  </td><td style=\"text-align: right;\">    -0.276558 </td><td style=\"text-align: right;\">   -0.109077  </td><td style=\"text-align: right;\">    0.0756567 </td><td style=\"text-align: right;\">    -0.154111 </td><td style=\"text-align: right;\">   -0.125969  </td><td style=\"text-align: right;\">    0.0226353 </td><td style=\"text-align: right;\">    0.0715065 </td><td style=\"text-align: right;\">     0.16581  </td><td style=\"text-align: right;\">    0.00262811</td><td style=\"text-align: right;\">    -0.119521 </td><td style=\"text-align: right;\">    0.00486828</td><td style=\"text-align: right;\">    0.109723  </td><td style=\"text-align: right;\">    -0.0447425</td><td style=\"text-align: right;\">     0.227649 </td><td style=\"text-align: right;\">    0.0359659 </td><td style=\"text-align: right;\">    -0.0325185</td><td style=\"text-align: right;\">    -0.330793 </td><td style=\"text-align: right;\">    -0.154392 </td><td style=\"text-align: right;\">     0.0243333</td><td style=\"text-align: right;\">     0.137209 </td><td style=\"text-align: right;\">    0.0966626 </td><td style=\"text-align: right;\">   0.0916558  </td><td style=\"text-align: right;\">    -0.0487707</td><td style=\"text-align: right;\">   -0.159039  </td><td style=\"text-align: right;\">    -0.205761 </td><td style=\"text-align: right;\">    -0.0477699</td><td style=\"text-align: right;\">    0.0112227 </td><td style=\"text-align: right;\">    -0.0403139</td><td style=\"text-align: right;\">   -0.128492  </td><td style=\"text-align: right;\">    -0.123441 </td><td style=\"text-align: right;\">     0.0111166</td><td style=\"text-align: right;\">     0.0758679</td><td style=\"text-align: right;\">    0.0418761 </td><td style=\"text-align: right;\">    -0.0226517</td><td style=\"text-align: right;\">    -0.0490658</td><td style=\"text-align: right;\">   -0.00889943</td><td style=\"text-align: right;\">     0.21884  </td><td style=\"text-align: right;\">     0.120408 </td><td style=\"text-align: right;\">     0.222025 </td><td style=\"text-align: right;\">   -0.00531892</td><td style=\"text-align: right;\">     0.011953 </td><td style=\"text-align: right;\">     0.0997769</td><td style=\"text-align: right;\">     0.0138687</td><td style=\"text-align: right;\">    0.0725489 </td><td style=\"text-align: right;\">    -0.110418 </td><td style=\"text-align: right;\">    -0.0358746</td><td style=\"text-align: right;\">   -0.135552  </td><td style=\"text-align: right;\">     0.118291 </td><td style=\"text-align: right;\">    -0.0271384</td><td style=\"text-align: right;\">     0.0834422</td><td style=\"text-align: right;\">    0.117537  </td><td style=\"text-align: right;\">     0.07288  </td><td style=\"text-align: right;\">     0.136048 </td><td style=\"text-align: right;\">  -0.0746727  </td><td style=\"text-align: right;\">    -0.254983 </td><td style=\"text-align: right;\">     0.0370293</td><td style=\"text-align: right;\">   -0.199893  </td><td style=\"text-align: right;\">    -0.185635 </td><td style=\"text-align: right;\">   -0.218727  </td><td style=\"text-align: right;\">    -0.127688 </td><td style=\"text-align: right;\">    -0.05176  </td><td style=\"text-align: right;\">    -0.158013 </td><td style=\"text-align: right;\">     0.250653 </td><td style=\"text-align: right;\">    0.241601  </td><td style=\"text-align: right;\">    -0.181489 </td><td style=\"text-align: right;\">    0.0311208 </td><td style=\"text-align: right;\">    -0.100226 </td><td style=\"text-align: right;\">   -0.283237  </td><td style=\"text-align: right;\">   0.0194334  </td><td style=\"text-align: right;\">    0.0445035 </td><td style=\"text-align: right;\">     0.0242596</td><td style=\"text-align: right;\">      0.420458</td><td style=\"text-align: right;\">    -0.0634193</td><td style=\"text-align: right;\">    -0.145763 </td><td style=\"text-align: right;\">    -0.135308 </td><td style=\"text-align: right;\">    -0.150675 </td><td style=\"text-align: right;\">   -0.0888729 </td><td style=\"text-align: right;\">    0.0371351 </td><td style=\"text-align: right;\">     0.0399294</td><td style=\"text-align: right;\">    -0.22795  </td><td style=\"text-align: right;\">     0.0604333</td><td style=\"text-align: right;\">     0.152005 </td><td style=\"text-align: right;\">     0.162284 </td><td style=\"text-align: right;\">    -0.18657  </td><td style=\"text-align: right;\">    -0.0623372</td><td style=\"text-align: right;\">    -0.0279588</td><td style=\"text-align: right;\">     0.0145588</td><td style=\"text-align: right;\">     0.19991  </td><td style=\"text-align: right;\">      0.272871 </td></tr>\n",
              "<tr><td style=\"text-align: right;\">   -0.11516  </td><td style=\"text-align: right;\">  -0.278594  </td><td style=\"text-align: right;\">   -0.0375823</td><td style=\"text-align: right;\">    0.140421 </td><td style=\"text-align: right;\">    0.158438 </td><td style=\"text-align: right;\">   -0.155127 </td><td style=\"text-align: right;\">  -0.0132586 </td><td style=\"text-align: right;\">  -0.179127  </td><td style=\"text-align: right;\">   0.158297  </td><td style=\"text-align: right;\">    -0.165205 </td><td style=\"text-align: right;\">    0.0773871 </td><td style=\"text-align: right;\">    -0.179122 </td><td style=\"text-align: right;\">    0.0443616 </td><td style=\"text-align: right;\">   -0.0550334 </td><td style=\"text-align: right;\">    -0.137193 </td><td style=\"text-align: right;\">   -0.0567676 </td><td style=\"text-align: right;\">   -0.00694772</td><td style=\"text-align: right;\">    0.118751  </td><td style=\"text-align: right;\">    -0.138712 </td><td style=\"text-align: right;\">    0.0251062 </td><td style=\"text-align: right;\">     0.164875 </td><td style=\"text-align: right;\">   -0.00275666</td><td style=\"text-align: right;\">   -0.0694194 </td><td style=\"text-align: right;\">    -0.108406 </td><td style=\"text-align: right;\">     0.220586 </td><td style=\"text-align: right;\">    0.0268534 </td><td style=\"text-align: right;\">    -0.0404749</td><td style=\"text-align: right;\">    -0.0701728</td><td style=\"text-align: right;\">    -0.0983185</td><td style=\"text-align: right;\">    -0.0556505</td><td style=\"text-align: right;\">     0.017342 </td><td style=\"text-align: right;\">   -0.0270828 </td><td style=\"text-align: right;\">   0.0375163  </td><td style=\"text-align: right;\">     0.145927 </td><td style=\"text-align: right;\">   -0.13825   </td><td style=\"text-align: right;\">     0.0163033</td><td style=\"text-align: right;\">    -0.128509 </td><td style=\"text-align: right;\">    0.128046  </td><td style=\"text-align: right;\">     0.0401182</td><td style=\"text-align: right;\">   -0.0553328 </td><td style=\"text-align: right;\">    -0.115799 </td><td style=\"text-align: right;\">     0.168384 </td><td style=\"text-align: right;\">    -0.152838 </td><td style=\"text-align: right;\">   -0.00361266</td><td style=\"text-align: right;\">     0.0686689</td><td style=\"text-align: right;\">     0.0580849</td><td style=\"text-align: right;\">    0.02994   </td><td style=\"text-align: right;\">    -0.0879644</td><td style=\"text-align: right;\">    -0.027643 </td><td style=\"text-align: right;\">    -0.137481 </td><td style=\"text-align: right;\">   -0.0105831 </td><td style=\"text-align: right;\">     0.0457705</td><td style=\"text-align: right;\">     0.164772 </td><td style=\"text-align: right;\">    -0.260895 </td><td style=\"text-align: right;\">   -0.0432771 </td><td style=\"text-align: right;\">     0.0272551</td><td style=\"text-align: right;\">    -0.194599 </td><td style=\"text-align: right;\">   -0.0265854 </td><td style=\"text-align: right;\">     0.22122  </td><td style=\"text-align: right;\">     0.139974 </td><td style=\"text-align: right;\">     0.0229905</td><td style=\"text-align: right;\">   -0.00379984</td><td style=\"text-align: right;\">     0.0888069</td><td style=\"text-align: right;\">     0.130459 </td><td style=\"text-align: right;\">  -0.0829798  </td><td style=\"text-align: right;\">     0.0938966</td><td style=\"text-align: right;\">    -0.0962805</td><td style=\"text-align: right;\">   -0.143688  </td><td style=\"text-align: right;\">    -0.305747 </td><td style=\"text-align: right;\">   -0.00356572</td><td style=\"text-align: right;\">    -0.0937605</td><td style=\"text-align: right;\">     0.0134317</td><td style=\"text-align: right;\">    -0.0821218</td><td style=\"text-align: right;\">     0.0181501</td><td style=\"text-align: right;\">   -0.00539338</td><td style=\"text-align: right;\">    -0.153627 </td><td style=\"text-align: right;\">    0.135817  </td><td style=\"text-align: right;\">     0.02666  </td><td style=\"text-align: right;\">   -0.101849  </td><td style=\"text-align: right;\">   0.0942555  </td><td style=\"text-align: right;\">   -0.00199733</td><td style=\"text-align: right;\">     0.112871 </td><td style=\"text-align: right;\">      0.139402</td><td style=\"text-align: right;\">     0.0482582</td><td style=\"text-align: right;\">    -0.0495296</td><td style=\"text-align: right;\">    -0.102848 </td><td style=\"text-align: right;\">     0.0415977</td><td style=\"text-align: right;\">    0.0944186 </td><td style=\"text-align: right;\">    0.0631744 </td><td style=\"text-align: right;\">     0.0334424</td><td style=\"text-align: right;\">     0.0384325</td><td style=\"text-align: right;\">    -0.0123334</td><td style=\"text-align: right;\">     0.091696 </td><td style=\"text-align: right;\">     0.158167 </td><td style=\"text-align: right;\">    -0.152114 </td><td style=\"text-align: right;\">     0.0921733</td><td style=\"text-align: right;\">    -0.0524384</td><td style=\"text-align: right;\">    -0.0760467</td><td style=\"text-align: right;\">     0.0568093</td><td style=\"text-align: right;\">     -0.0304273</td></tr>\n",
              "<tr><td style=\"text-align: right;\">    0.0759983</td><td style=\"text-align: right;\">   0.133517  </td><td style=\"text-align: right;\">    0.149944 </td><td style=\"text-align: right;\">   -0.0219501</td><td style=\"text-align: right;\">   -0.0726045</td><td style=\"text-align: right;\">   -0.0960003</td><td style=\"text-align: right;\">  -0.285302  </td><td style=\"text-align: right;\">   0.162412  </td><td style=\"text-align: right;\">  -0.165766  </td><td style=\"text-align: right;\">    -0.267722 </td><td style=\"text-align: right;\">    0.00553844</td><td style=\"text-align: right;\">    -0.0129102</td><td style=\"text-align: right;\">    0.103963  </td><td style=\"text-align: right;\">   -0.0363407 </td><td style=\"text-align: right;\">    -0.0678484</td><td style=\"text-align: right;\">   -0.231962  </td><td style=\"text-align: right;\">    0.063649  </td><td style=\"text-align: right;\">   -0.149481  </td><td style=\"text-align: right;\">     0.284942 </td><td style=\"text-align: right;\">    0.140481  </td><td style=\"text-align: right;\">     0.104229 </td><td style=\"text-align: right;\">    0.547234  </td><td style=\"text-align: right;\">   -0.216493  </td><td style=\"text-align: right;\">    -0.193668 </td><td style=\"text-align: right;\">     0.45789  </td><td style=\"text-align: right;\">   -0.297038  </td><td style=\"text-align: right;\">     0.0891294</td><td style=\"text-align: right;\">     0.0187176</td><td style=\"text-align: right;\">    -0.10754  </td><td style=\"text-align: right;\">    -0.071699 </td><td style=\"text-align: right;\">     0.165375 </td><td style=\"text-align: right;\">   -0.180698  </td><td style=\"text-align: right;\">  -0.0329135  </td><td style=\"text-align: right;\">     0.364058 </td><td style=\"text-align: right;\">   -0.17102   </td><td style=\"text-align: right;\">     0.117471 </td><td style=\"text-align: right;\">    -0.232964 </td><td style=\"text-align: right;\">   -0.0899952 </td><td style=\"text-align: right;\">     0.0931063</td><td style=\"text-align: right;\">   -0.107789  </td><td style=\"text-align: right;\">     0.0660553</td><td style=\"text-align: right;\">    -0.103926 </td><td style=\"text-align: right;\">     0.170849 </td><td style=\"text-align: right;\">   -0.0991809 </td><td style=\"text-align: right;\">    -0.171843 </td><td style=\"text-align: right;\">     0.0231469</td><td style=\"text-align: right;\">   -0.136301  </td><td style=\"text-align: right;\">    -0.0266282</td><td style=\"text-align: right;\">    -0.108957 </td><td style=\"text-align: right;\">    -0.0404756</td><td style=\"text-align: right;\">    0.460811  </td><td style=\"text-align: right;\">     0.285491 </td><td style=\"text-align: right;\">    -0.0222415</td><td style=\"text-align: right;\">    -0.318186 </td><td style=\"text-align: right;\">    0.134536  </td><td style=\"text-align: right;\">     0.301457 </td><td style=\"text-align: right;\">    -0.128539 </td><td style=\"text-align: right;\">   -0.012254  </td><td style=\"text-align: right;\">     0.162695 </td><td style=\"text-align: right;\">    -0.0440096</td><td style=\"text-align: right;\">     0.0223475</td><td style=\"text-align: right;\">    0.0874104 </td><td style=\"text-align: right;\">    -0.308341 </td><td style=\"text-align: right;\">    -0.0553227</td><td style=\"text-align: right;\">  -0.0483721  </td><td style=\"text-align: right;\">     0.0851474</td><td style=\"text-align: right;\">    -0.166073 </td><td style=\"text-align: right;\">   -0.0714921 </td><td style=\"text-align: right;\">    -0.0193907</td><td style=\"text-align: right;\">   -0.0494226 </td><td style=\"text-align: right;\">     0.010343 </td><td style=\"text-align: right;\">    -0.317694 </td><td style=\"text-align: right;\">     0.190409 </td><td style=\"text-align: right;\">     0.0109236</td><td style=\"text-align: right;\">   -0.14327   </td><td style=\"text-align: right;\">    -0.221557 </td><td style=\"text-align: right;\">    0.366098  </td><td style=\"text-align: right;\">    -0.16874  </td><td style=\"text-align: right;\">    0.161075  </td><td style=\"text-align: right;\">  -0.0166495  </td><td style=\"text-align: right;\">   -0.135413  </td><td style=\"text-align: right;\">     0.255096 </td><td style=\"text-align: right;\">      0.567477</td><td style=\"text-align: right;\">    -0.200116 </td><td style=\"text-align: right;\">    -0.206993 </td><td style=\"text-align: right;\">     0.211271 </td><td style=\"text-align: right;\">     0.263737 </td><td style=\"text-align: right;\">    0.0472923 </td><td style=\"text-align: right;\">    0.104399  </td><td style=\"text-align: right;\">     0.0240187</td><td style=\"text-align: right;\">     0.120916 </td><td style=\"text-align: right;\">    -0.215952 </td><td style=\"text-align: right;\">     0.121689 </td><td style=\"text-align: right;\">     0.232269 </td><td style=\"text-align: right;\">    -0.0608451</td><td style=\"text-align: right;\">    -0.211241 </td><td style=\"text-align: right;\">     0.149186 </td><td style=\"text-align: right;\">     0.193558 </td><td style=\"text-align: right;\">     0.159288 </td><td style=\"text-align: right;\">     -0.0368146</td></tr>\n",
              "<tr><td style=\"text-align: right;\">   -0.245756 </td><td style=\"text-align: right;\">   0.275125  </td><td style=\"text-align: right;\">   -0.327944 </td><td style=\"text-align: right;\">    0.218848 </td><td style=\"text-align: right;\">   -0.135183 </td><td style=\"text-align: right;\">    0.310859 </td><td style=\"text-align: right;\">  -0.442212  </td><td style=\"text-align: right;\">   0.216134  </td><td style=\"text-align: right;\">  -0.0503068 </td><td style=\"text-align: right;\">     0.0271855</td><td style=\"text-align: right;\">    0.572246  </td><td style=\"text-align: right;\">    -0.193218 </td><td style=\"text-align: right;\">   -0.0222769 </td><td style=\"text-align: right;\">   -0.39189   </td><td style=\"text-align: right;\">    -0.169856 </td><td style=\"text-align: right;\">    0.0402044 </td><td style=\"text-align: right;\">   -0.0185531 </td><td style=\"text-align: right;\">    0.341164  </td><td style=\"text-align: right;\">    -0.0707533</td><td style=\"text-align: right;\">    0.12524   </td><td style=\"text-align: right;\">    -0.161305 </td><td style=\"text-align: right;\">   -0.0834678 </td><td style=\"text-align: right;\">    0.534789  </td><td style=\"text-align: right;\">    -0.561705 </td><td style=\"text-align: right;\">    -0.0458098</td><td style=\"text-align: right;\">    0.0139591 </td><td style=\"text-align: right;\">    -0.257231 </td><td style=\"text-align: right;\">    -0.0294167</td><td style=\"text-align: right;\">     0.0874828</td><td style=\"text-align: right;\">    -0.178956 </td><td style=\"text-align: right;\">    -0.124591 </td><td style=\"text-align: right;\">    0.191464  </td><td style=\"text-align: right;\">  -0.12       </td><td style=\"text-align: right;\">     0.19548  </td><td style=\"text-align: right;\">   -0.0501698 </td><td style=\"text-align: right;\">     0.156367 </td><td style=\"text-align: right;\">    -0.0337953</td><td style=\"text-align: right;\">   -0.00683908</td><td style=\"text-align: right;\">    -0.0602871</td><td style=\"text-align: right;\">    0.40422   </td><td style=\"text-align: right;\">    -0.114145 </td><td style=\"text-align: right;\">    -0.241052 </td><td style=\"text-align: right;\">    -0.42889  </td><td style=\"text-align: right;\">   -0.141083  </td><td style=\"text-align: right;\">    -0.1477   </td><td style=\"text-align: right;\">    -0.327823 </td><td style=\"text-align: right;\">   -0.281209  </td><td style=\"text-align: right;\">     0.534409 </td><td style=\"text-align: right;\">    -0.0280292</td><td style=\"text-align: right;\">    -0.232866 </td><td style=\"text-align: right;\">    0.0115135 </td><td style=\"text-align: right;\">    -0.388946 </td><td style=\"text-align: right;\">    -0.420247 </td><td style=\"text-align: right;\">     0.0031934</td><td style=\"text-align: right;\">   -0.209948  </td><td style=\"text-align: right;\">    -0.0878181</td><td style=\"text-align: right;\">    -0.202688 </td><td style=\"text-align: right;\">    0.269831  </td><td style=\"text-align: right;\">    -0.0773907</td><td style=\"text-align: right;\">    -0.206144 </td><td style=\"text-align: right;\">     0.118016 </td><td style=\"text-align: right;\">    0.0143313 </td><td style=\"text-align: right;\">     0.443787 </td><td style=\"text-align: right;\">     0.211026 </td><td style=\"text-align: right;\">   0.118947   </td><td style=\"text-align: right;\">     0.134504 </td><td style=\"text-align: right;\">    -0.379141 </td><td style=\"text-align: right;\">    0.0206143 </td><td style=\"text-align: right;\">    -0.440608 </td><td style=\"text-align: right;\">   -0.108381  </td><td style=\"text-align: right;\">    -0.0390657</td><td style=\"text-align: right;\">    -0.381008 </td><td style=\"text-align: right;\">     0.373574 </td><td style=\"text-align: right;\">     0.169309 </td><td style=\"text-align: right;\">    0.106512  </td><td style=\"text-align: right;\">    -0.105249 </td><td style=\"text-align: right;\">   -0.470005  </td><td style=\"text-align: right;\">     0.322833 </td><td style=\"text-align: right;\">   -0.3476    </td><td style=\"text-align: right;\">   0.182722   </td><td style=\"text-align: right;\">   -0.0593829 </td><td style=\"text-align: right;\">     0.347365 </td><td style=\"text-align: right;\">      0.142044</td><td style=\"text-align: right;\">    -0.0757676</td><td style=\"text-align: right;\">    -0.307078 </td><td style=\"text-align: right;\">     0.396543 </td><td style=\"text-align: right;\">     0.29445  </td><td style=\"text-align: right;\">    0.0601016 </td><td style=\"text-align: right;\">   -0.188725  </td><td style=\"text-align: right;\">    -0.209015 </td><td style=\"text-align: right;\">     0.232564 </td><td style=\"text-align: right;\">    -0.542855 </td><td style=\"text-align: right;\">     0.345816 </td><td style=\"text-align: right;\">     0.14231  </td><td style=\"text-align: right;\">    -0.75973  </td><td style=\"text-align: right;\">    -0.0804008</td><td style=\"text-align: right;\">     0.227492 </td><td style=\"text-align: right;\">    -0.157209 </td><td style=\"text-align: right;\">    -0.231392 </td><td style=\"text-align: right;\">     -0.0172155</td></tr>\n",
              "<tr><td style=\"text-align: right;\">    0.11187  </td><td style=\"text-align: right;\">   0.203071  </td><td style=\"text-align: right;\">   -0.301859 </td><td style=\"text-align: right;\">   -0.0664367</td><td style=\"text-align: right;\">   -0.053174 </td><td style=\"text-align: right;\">   -0.223393 </td><td style=\"text-align: right;\">  -0.410157  </td><td style=\"text-align: right;\">   0.163291  </td><td style=\"text-align: right;\">  -0.073178  </td><td style=\"text-align: right;\">     0.294652 </td><td style=\"text-align: right;\">   -0.129269  </td><td style=\"text-align: right;\">     0.0801697</td><td style=\"text-align: right;\">    0.135994  </td><td style=\"text-align: right;\">   -0.00459954</td><td style=\"text-align: right;\">    -0.0822039</td><td style=\"text-align: right;\">   -0.00874908</td><td style=\"text-align: right;\">   -0.273281  </td><td style=\"text-align: right;\">   -0.143981  </td><td style=\"text-align: right;\">     0.0850601</td><td style=\"text-align: right;\">   -0.139309  </td><td style=\"text-align: right;\">     0.0840541</td><td style=\"text-align: right;\">    0.139572  </td><td style=\"text-align: right;\">   -0.0569766 </td><td style=\"text-align: right;\">    -0.325454 </td><td style=\"text-align: right;\">    -0.0968554</td><td style=\"text-align: right;\">   -0.171452  </td><td style=\"text-align: right;\">     0.0566083</td><td style=\"text-align: right;\">    -0.201865 </td><td style=\"text-align: right;\">    -0.439691 </td><td style=\"text-align: right;\">    -0.203482 </td><td style=\"text-align: right;\">    -0.0954956</td><td style=\"text-align: right;\">    0.0249565 </td><td style=\"text-align: right;\">  -0.165114   </td><td style=\"text-align: right;\">     0.168388 </td><td style=\"text-align: right;\">    0.22462   </td><td style=\"text-align: right;\">    -0.180108 </td><td style=\"text-align: right;\">    -0.0916844</td><td style=\"text-align: right;\">    0.16987   </td><td style=\"text-align: right;\">     0.0679951</td><td style=\"text-align: right;\">   -0.344257  </td><td style=\"text-align: right;\">    -0.0167348</td><td style=\"text-align: right;\">     0.275667 </td><td style=\"text-align: right;\">     0.0469384</td><td style=\"text-align: right;\">   -0.0448245 </td><td style=\"text-align: right;\">     0.115522 </td><td style=\"text-align: right;\">     0.0447994</td><td style=\"text-align: right;\">   -0.186468  </td><td style=\"text-align: right;\">    -0.0286489</td><td style=\"text-align: right;\">     0.149546 </td><td style=\"text-align: right;\">     0.0515344</td><td style=\"text-align: right;\">    0.0632374 </td><td style=\"text-align: right;\">    -0.0274241</td><td style=\"text-align: right;\">     0.214804 </td><td style=\"text-align: right;\">    -0.0181515</td><td style=\"text-align: right;\">   -0.00730493</td><td style=\"text-align: right;\">     0.292824 </td><td style=\"text-align: right;\">    -0.32943  </td><td style=\"text-align: right;\">    0.131714  </td><td style=\"text-align: right;\">     0.177665 </td><td style=\"text-align: right;\">     0.129717 </td><td style=\"text-align: right;\">    -0.120715 </td><td style=\"text-align: right;\">   -0.084161  </td><td style=\"text-align: right;\">     0.275289 </td><td style=\"text-align: right;\">    -0.13043  </td><td style=\"text-align: right;\">   0.219732   </td><td style=\"text-align: right;\">    -0.0840581</td><td style=\"text-align: right;\">     0.369818 </td><td style=\"text-align: right;\">   -0.0758401 </td><td style=\"text-align: right;\">    -0.186371 </td><td style=\"text-align: right;\">   -0.370894  </td><td style=\"text-align: right;\">    -0.488598 </td><td style=\"text-align: right;\">    -0.0887723</td><td style=\"text-align: right;\">    -0.0274225</td><td style=\"text-align: right;\">     0.308148 </td><td style=\"text-align: right;\">   -0.033868  </td><td style=\"text-align: right;\">     0.0987769</td><td style=\"text-align: right;\">    0.157771  </td><td style=\"text-align: right;\">     0.139152 </td><td style=\"text-align: right;\">   -0.240348  </td><td style=\"text-align: right;\">  -0.00223765 </td><td style=\"text-align: right;\">    0.0587464 </td><td style=\"text-align: right;\">     0.148307 </td><td style=\"text-align: right;\">      0.283862</td><td style=\"text-align: right;\">     0.0920483</td><td style=\"text-align: right;\">    -0.0512641</td><td style=\"text-align: right;\">    -0.269092 </td><td style=\"text-align: right;\">    -0.0268346</td><td style=\"text-align: right;\">    0.120044  </td><td style=\"text-align: right;\">    0.0305958 </td><td style=\"text-align: right;\">    -0.101763 </td><td style=\"text-align: right;\">     0.34155  </td><td style=\"text-align: right;\">    -0.0762307</td><td style=\"text-align: right;\">    -0.0256138</td><td style=\"text-align: right;\">    -0.304977 </td><td style=\"text-align: right;\">     0.0703852</td><td style=\"text-align: right;\">    -0.0477228</td><td style=\"text-align: right;\">     0.206156 </td><td style=\"text-align: right;\">    -0.0329327</td><td style=\"text-align: right;\">     0.0932852</td><td style=\"text-align: right;\">      0.0978992</td></tr>\n",
              "<tr><td style=\"text-align: right;\">   -0.118408 </td><td style=\"text-align: right;\">   0.0565776 </td><td style=\"text-align: right;\">   -0.016128 </td><td style=\"text-align: right;\">   -0.135821 </td><td style=\"text-align: right;\">    0.153336 </td><td style=\"text-align: right;\">    0.134023 </td><td style=\"text-align: right;\">   0.0757403 </td><td style=\"text-align: right;\">  -0.0765497 </td><td style=\"text-align: right;\">   0.121836  </td><td style=\"text-align: right;\">    -0.106533 </td><td style=\"text-align: right;\">   -0.0608273 </td><td style=\"text-align: right;\">    -0.116635 </td><td style=\"text-align: right;\">   -0.0497348 </td><td style=\"text-align: right;\">   -0.0142549 </td><td style=\"text-align: right;\">    -0.180252 </td><td style=\"text-align: right;\">   -0.156775  </td><td style=\"text-align: right;\">   -0.00623152</td><td style=\"text-align: right;\">   -0.061685  </td><td style=\"text-align: right;\">     0.0734079</td><td style=\"text-align: right;\">   -0.0145736 </td><td style=\"text-align: right;\">     0.0238311</td><td style=\"text-align: right;\">    0.0129585 </td><td style=\"text-align: right;\">    0.0618141 </td><td style=\"text-align: right;\">     0.025726 </td><td style=\"text-align: right;\">     0.269949 </td><td style=\"text-align: right;\">   -0.0391151 </td><td style=\"text-align: right;\">    -0.0765628</td><td style=\"text-align: right;\">    -0.128278 </td><td style=\"text-align: right;\">    -0.0425992</td><td style=\"text-align: right;\">    -0.163824 </td><td style=\"text-align: right;\">    -0.188963 </td><td style=\"text-align: right;\">   -0.061099  </td><td style=\"text-align: right;\">  -0.0808312  </td><td style=\"text-align: right;\">     0.164618 </td><td style=\"text-align: right;\">    0.00930885</td><td style=\"text-align: right;\">    -0.0545035</td><td style=\"text-align: right;\">    -0.169775 </td><td style=\"text-align: right;\">    0.0666705 </td><td style=\"text-align: right;\">     0.10049  </td><td style=\"text-align: right;\">   -0.00989731</td><td style=\"text-align: right;\">    -0.0457767</td><td style=\"text-align: right;\">    -0.0596102</td><td style=\"text-align: right;\">    -0.0741521</td><td style=\"text-align: right;\">    0.0613258 </td><td style=\"text-align: right;\">    -0.0476515</td><td style=\"text-align: right;\">    -0.0259078</td><td style=\"text-align: right;\">    0.0145379 </td><td style=\"text-align: right;\">    -0.022092 </td><td style=\"text-align: right;\">    -0.0773931</td><td style=\"text-align: right;\">    -0.389423 </td><td style=\"text-align: right;\">    0.249537  </td><td style=\"text-align: right;\">     0.0635185</td><td style=\"text-align: right;\">    -0.0280526</td><td style=\"text-align: right;\">     0.0890379</td><td style=\"text-align: right;\">   -0.0217863 </td><td style=\"text-align: right;\">    -0.0137851</td><td style=\"text-align: right;\">    -0.0208147</td><td style=\"text-align: right;\">    0.159477  </td><td style=\"text-align: right;\">     0.194807 </td><td style=\"text-align: right;\">    -0.0427377</td><td style=\"text-align: right;\">     0.0706898</td><td style=\"text-align: right;\">    0.0180149 </td><td style=\"text-align: right;\">     0.0802712</td><td style=\"text-align: right;\">     0.115834 </td><td style=\"text-align: right;\">  -0.0311926  </td><td style=\"text-align: right;\">     0.0464808</td><td style=\"text-align: right;\">     0.0399734</td><td style=\"text-align: right;\">   -2.7592e-05</td><td style=\"text-align: right;\">    -0.303711 </td><td style=\"text-align: right;\">    0.00823486</td><td style=\"text-align: right;\">    -0.120664 </td><td style=\"text-align: right;\">    -0.163689 </td><td style=\"text-align: right;\">    -0.191266 </td><td style=\"text-align: right;\">     0.181939 </td><td style=\"text-align: right;\">   -0.0833148 </td><td style=\"text-align: right;\">    -0.0776721</td><td style=\"text-align: right;\">   -0.00415612</td><td style=\"text-align: right;\">     0.191438 </td><td style=\"text-align: right;\">   -0.00252307</td><td style=\"text-align: right;\">   0.00228746 </td><td style=\"text-align: right;\">   -0.143356  </td><td style=\"text-align: right;\">     0.0205472</td><td style=\"text-align: right;\">      0.212323</td><td style=\"text-align: right;\">    -0.0396876</td><td style=\"text-align: right;\">     0.106046 </td><td style=\"text-align: right;\">    -0.141207 </td><td style=\"text-align: right;\">     0.0694112</td><td style=\"text-align: right;\">    0.00482741</td><td style=\"text-align: right;\">   -0.00611274</td><td style=\"text-align: right;\">     0.0541943</td><td style=\"text-align: right;\">     0.0606869</td><td style=\"text-align: right;\">    -0.112565 </td><td style=\"text-align: right;\">    -0.0537051</td><td style=\"text-align: right;\">    -0.0402866</td><td style=\"text-align: right;\">    -0.188258 </td><td style=\"text-align: right;\">     0.0137304</td><td style=\"text-align: right;\">     0.0145307</td><td style=\"text-align: right;\">     0.0934611</td><td style=\"text-align: right;\">     0.0534107</td><td style=\"text-align: right;\">      0.107619 </td></tr>\n",
              "</tbody>\n",
              "</table>"
            ]
          },
          "metadata": {
            "tags": []
          }
        },
        {
          "output_type": "execute_result",
          "data": {
            "text/plain": [
              ""
            ]
          },
          "metadata": {
            "tags": []
          },
          "execution_count": 45
        }
      ]
    },
    {
      "cell_type": "code",
      "metadata": {
        "id": "ciMb0TSQfds0",
        "colab_type": "code",
        "colab": {}
      },
      "source": [
        "h2o_df_ext = h2o_df_ext.cbind(headline_vecs)"
      ],
      "execution_count": 46,
      "outputs": []
    },
    {
      "cell_type": "code",
      "metadata": {
        "id": "FTCksfR3fknD",
        "colab_type": "code",
        "colab": {}
      },
      "source": [
        "h2o_train,h2o_valid = h2o_df_ext.split_frame(ratios=[.8])\n",
        "gbm_two_cols = H2OGradientBoostingEstimator(stopping_metric = \"AUC\", stopping_tolerance = 0.001,\n",
        "                                              stopping_rounds = 5, score_tree_interval = 10\n",
        "                                             )"
      ],
      "execution_count": 47,
      "outputs": []
    },
    {
      "cell_type": "code",
      "metadata": {
        "id": "9QUmoTF9fulS",
        "colab_type": "code",
        "colab": {
          "base_uri": "https://localhost:8080/",
          "height": 35
        },
        "outputId": "2dc98ef4-2d1b-4cd5-c7de-ef2942554f2e"
      },
      "source": [
        "gbm_two_cols.train(x=headline_vecs.names+review_vecs.names, y='target', training_frame = h2o_train, validation_frame=h2o_valid)"
      ],
      "execution_count": 48,
      "outputs": [
        {
          "output_type": "stream",
          "text": [
            "gbm Model Build progress: |███████████████████████████████████████████████| 100%\n"
          ],
          "name": "stdout"
        }
      ]
    },
    {
      "cell_type": "code",
      "metadata": {
        "id": "dribi5PBf2Nu",
        "colab_type": "code",
        "colab": {
          "base_uri": "https://localhost:8080/",
          "height": 35
        },
        "outputId": "3c71f007-494c-4d98-e832-76c15c98e4b1"
      },
      "source": [
        "print(\" Two Columns AUC: \" + str(round(gbm_two_cols.auc(valid = True), 3)))"
      ],
      "execution_count": 49,
      "outputs": [
        {
          "output_type": "stream",
          "text": [
            " Two Columns AUC: 0.926\n"
          ],
          "name": "stdout"
        }
      ]
    },
    {
      "cell_type": "code",
      "metadata": {
        "id": "WS1Bg39df8yf",
        "colab_type": "code",
        "colab": {
          "base_uri": "https://localhost:8080/",
          "height": 180
        },
        "outputId": "97383bf1-502e-448d-ce74-264e5932ff57"
      },
      "source": [
        "gbm_two_cols.confusion_matrix(valid=True)"
      ],
      "execution_count": 50,
      "outputs": [
        {
          "output_type": "stream",
          "text": [
            "\n",
            "Confusion Matrix (Act/Pred) for max f1 @ threshold = 0.5377683827386119: \n"
          ],
          "name": "stdout"
        },
        {
          "output_type": "display_data",
          "data": {
            "text/html": [
              "<div>\n",
              "<style scoped>\n",
              "    .dataframe tbody tr th:only-of-type {\n",
              "        vertical-align: middle;\n",
              "    }\n",
              "\n",
              "    .dataframe tbody tr th {\n",
              "        vertical-align: top;\n",
              "    }\n",
              "\n",
              "    .dataframe thead th {\n",
              "        text-align: right;\n",
              "    }\n",
              "</style>\n",
              "<table border=\"1\" class=\"dataframe\">\n",
              "  <thead>\n",
              "    <tr style=\"text-align: right;\">\n",
              "      <th></th>\n",
              "      <th></th>\n",
              "      <th>0</th>\n",
              "      <th>1</th>\n",
              "      <th>Error</th>\n",
              "      <th>Rate</th>\n",
              "    </tr>\n",
              "  </thead>\n",
              "  <tbody>\n",
              "    <tr>\n",
              "      <th>0</th>\n",
              "      <td>0</td>\n",
              "      <td>3089.0</td>\n",
              "      <td>1610.0</td>\n",
              "      <td>0.3426</td>\n",
              "      <td>(1610.0/4699.0)</td>\n",
              "    </tr>\n",
              "    <tr>\n",
              "      <th>1</th>\n",
              "      <td>1</td>\n",
              "      <td>599.0</td>\n",
              "      <td>11801.0</td>\n",
              "      <td>0.0483</td>\n",
              "      <td>(599.0/12400.0)</td>\n",
              "    </tr>\n",
              "    <tr>\n",
              "      <th>2</th>\n",
              "      <td>Total</td>\n",
              "      <td>3688.0</td>\n",
              "      <td>13411.0</td>\n",
              "      <td>0.1292</td>\n",
              "      <td>(2209.0/17099.0)</td>\n",
              "    </tr>\n",
              "  </tbody>\n",
              "</table>\n",
              "</div>"
            ],
            "text/plain": [
              "               0        1   Error               Rate\n",
              "0      0  3089.0   1610.0  0.3426    (1610.0/4699.0)\n",
              "1      1   599.0  11801.0  0.0483    (599.0/12400.0)\n",
              "2  Total  3688.0  13411.0  0.1292   (2209.0/17099.0)"
            ]
          },
          "metadata": {
            "tags": []
          }
        },
        {
          "output_type": "execute_result",
          "data": {
            "text/plain": [
              ""
            ]
          },
          "metadata": {
            "tags": []
          },
          "execution_count": 50
        }
      ]
    },
    {
      "cell_type": "code",
      "metadata": {
        "id": "5yp7rw6OgLuz",
        "colab_type": "code",
        "colab": {
          "base_uri": "https://localhost:8080/",
          "height": 362
        },
        "outputId": "ec75629e-26c6-4155-da73-83693fccc475"
      },
      "source": [
        "gbm_two_cols.score_history()"
      ],
      "execution_count": 51,
      "outputs": [
        {
          "output_type": "execute_result",
          "data": {
            "text/html": [
              "<div>\n",
              "<style scoped>\n",
              "    .dataframe tbody tr th:only-of-type {\n",
              "        vertical-align: middle;\n",
              "    }\n",
              "\n",
              "    .dataframe tbody tr th {\n",
              "        vertical-align: top;\n",
              "    }\n",
              "\n",
              "    .dataframe thead th {\n",
              "        text-align: right;\n",
              "    }\n",
              "</style>\n",
              "<table border=\"1\" class=\"dataframe\">\n",
              "  <thead>\n",
              "    <tr style=\"text-align: right;\">\n",
              "      <th></th>\n",
              "      <th></th>\n",
              "      <th>timestamp</th>\n",
              "      <th>duration</th>\n",
              "      <th>number_of_trees</th>\n",
              "      <th>training_rmse</th>\n",
              "      <th>training_logloss</th>\n",
              "      <th>training_auc</th>\n",
              "      <th>training_pr_auc</th>\n",
              "      <th>training_lift</th>\n",
              "      <th>training_classification_error</th>\n",
              "      <th>validation_rmse</th>\n",
              "      <th>validation_logloss</th>\n",
              "      <th>validation_auc</th>\n",
              "      <th>validation_pr_auc</th>\n",
              "      <th>validation_lift</th>\n",
              "      <th>validation_classification_error</th>\n",
              "    </tr>\n",
              "  </thead>\n",
              "  <tbody>\n",
              "    <tr>\n",
              "      <th>0</th>\n",
              "      <td></td>\n",
              "      <td>2020-09-02 02:57:13</td>\n",
              "      <td>0.010 sec</td>\n",
              "      <td>0.0</td>\n",
              "      <td>0.444931</td>\n",
              "      <td>0.585125</td>\n",
              "      <td>0.500000</td>\n",
              "      <td>0.728115</td>\n",
              "      <td>1.000000</td>\n",
              "      <td>0.271885</td>\n",
              "      <td>0.446429</td>\n",
              "      <td>0.588007</td>\n",
              "      <td>0.500000</td>\n",
              "      <td>0.725189</td>\n",
              "      <td>1.000000</td>\n",
              "      <td>0.274811</td>\n",
              "    </tr>\n",
              "    <tr>\n",
              "      <th>1</th>\n",
              "      <td></td>\n",
              "      <td>2020-09-02 02:57:21</td>\n",
              "      <td>8.936 sec</td>\n",
              "      <td>10.0</td>\n",
              "      <td>0.364413</td>\n",
              "      <td>0.427808</td>\n",
              "      <td>0.891475</td>\n",
              "      <td>0.953400</td>\n",
              "      <td>0.000000</td>\n",
              "      <td>0.159432</td>\n",
              "      <td>0.366506</td>\n",
              "      <td>0.431124</td>\n",
              "      <td>0.889144</td>\n",
              "      <td>0.951628</td>\n",
              "      <td>1.376511</td>\n",
              "      <td>0.162349</td>\n",
              "    </tr>\n",
              "    <tr>\n",
              "      <th>2</th>\n",
              "      <td></td>\n",
              "      <td>2020-09-02 02:57:30</td>\n",
              "      <td>16.993 sec</td>\n",
              "      <td>20.0</td>\n",
              "      <td>0.333513</td>\n",
              "      <td>0.367425</td>\n",
              "      <td>0.913309</td>\n",
              "      <td>0.963329</td>\n",
              "      <td>1.371544</td>\n",
              "      <td>0.141459</td>\n",
              "      <td>0.337703</td>\n",
              "      <td>0.373976</td>\n",
              "      <td>0.907856</td>\n",
              "      <td>0.960351</td>\n",
              "      <td>1.378952</td>\n",
              "      <td>0.146383</td>\n",
              "    </tr>\n",
              "    <tr>\n",
              "      <th>3</th>\n",
              "      <td></td>\n",
              "      <td>2020-09-02 02:57:38</td>\n",
              "      <td>25.053 sec</td>\n",
              "      <td>30.0</td>\n",
              "      <td>0.317207</td>\n",
              "      <td>0.334753</td>\n",
              "      <td>0.924189</td>\n",
              "      <td>0.968236</td>\n",
              "      <td>1.373410</td>\n",
              "      <td>0.130818</td>\n",
              "      <td>0.323279</td>\n",
              "      <td>0.344184</td>\n",
              "      <td>0.916923</td>\n",
              "      <td>0.964596</td>\n",
              "      <td>1.378952</td>\n",
              "      <td>0.137435</td>\n",
              "    </tr>\n",
              "    <tr>\n",
              "      <th>4</th>\n",
              "      <td></td>\n",
              "      <td>2020-09-02 02:57:46</td>\n",
              "      <td>33.155 sec</td>\n",
              "      <td>40.0</td>\n",
              "      <td>0.306265</td>\n",
              "      <td>0.312548</td>\n",
              "      <td>0.931688</td>\n",
              "      <td>0.971593</td>\n",
              "      <td>1.373410</td>\n",
              "      <td>0.122833</td>\n",
              "      <td>0.314587</td>\n",
              "      <td>0.325556</td>\n",
              "      <td>0.922296</td>\n",
              "      <td>0.966956</td>\n",
              "      <td>1.378952</td>\n",
              "      <td>0.134277</td>\n",
              "    </tr>\n",
              "    <tr>\n",
              "      <th>5</th>\n",
              "      <td></td>\n",
              "      <td>2020-09-02 02:57:54</td>\n",
              "      <td>41.134 sec</td>\n",
              "      <td>50.0</td>\n",
              "      <td>0.298369</td>\n",
              "      <td>0.297321</td>\n",
              "      <td>0.937207</td>\n",
              "      <td>0.973972</td>\n",
              "      <td>1.373410</td>\n",
              "      <td>0.117767</td>\n",
              "      <td>0.308599</td>\n",
              "      <td>0.313270</td>\n",
              "      <td>0.926328</td>\n",
              "      <td>0.968650</td>\n",
              "      <td>1.378952</td>\n",
              "      <td>0.129189</td>\n",
              "    </tr>\n",
              "  </tbody>\n",
              "</table>\n",
              "</div>"
            ],
            "text/plain": [
              "               timestamp  ... validation_lift  validation_classification_error\n",
              "0    2020-09-02 02:57:13  ...        1.000000                         0.274811\n",
              "1    2020-09-02 02:57:21  ...        1.376511                         0.162349\n",
              "2    2020-09-02 02:57:30  ...        1.378952                         0.146383\n",
              "3    2020-09-02 02:57:38  ...        1.378952                         0.137435\n",
              "4    2020-09-02 02:57:46  ...        1.378952                         0.134277\n",
              "5    2020-09-02 02:57:54  ...        1.378952                         0.129189\n",
              "\n",
              "[6 rows x 16 columns]"
            ]
          },
          "metadata": {
            "tags": []
          },
          "execution_count": 51
        }
      ]
    },
    {
      "cell_type": "code",
      "metadata": {
        "id": "Sf7_pg-0gWun",
        "colab_type": "code",
        "colab": {
          "base_uri": "https://localhost:8080/",
          "height": 612
        },
        "outputId": "ae6b4a78-38bd-4c44-9f71-e35cbbee0edc"
      },
      "source": [
        "gbm_two_cols.varimp_plot()"
      ],
      "execution_count": 52,
      "outputs": [
        {
          "output_type": "display_data",
          "data": {
            "image/png": "[encoded data removed]",
            "text/plain": [
              "<Figure size 1008x720 with 1 Axes>"
            ]
          },
          "metadata": {
            "tags": [],
            "needs_background": "light"
          }
        }
      ]
    },
    {
      "cell_type": "code",
      "metadata": {
        "id": "-c8utHx_akpg",
        "colab_type": "code",
        "colab": {}
      },
      "source": [
        "ntrees_opt = [100, 200, 250, 300]\n",
        "max_depth_opt = [6, 7, 8]\n",
        "learn_rate_opt = [0.01, 0.1]\n",
        "\n",
        "hyper_parameters = {\"ntrees\": ntrees_opt,\"max_depth\":max_depth_opt, \"learn_rate\":learn_rate_opt}\n",
        "search_criteria = {\"strategy\":\"RandomDiscrete\",\"max_models\":4}"
      ],
      "execution_count": 53,
      "outputs": []
    },
    {
      "cell_type": "code",
      "metadata": {
        "id": "q1A4M44Ba9SL",
        "colab_type": "code",
        "colab": {}
      },
      "source": [
        "from h2o.grid.grid_search import H2OGridSearch\n",
        "gs = H2OGridSearch(H2OGradientBoostingEstimator,hyper_params=hyper_parameters, search_criteria=search_criteria)"
      ],
      "execution_count": 54,
      "outputs": []
    },
    {
      "cell_type": "code",
      "metadata": {
        "id": "DEQESxxha-wN",
        "colab_type": "code",
        "colab": {
          "base_uri": "https://localhost:8080/",
          "height": 35
        },
        "outputId": "abfe0c03-77a1-4ee1-cac3-a0546f472158"
      },
      "source": [
        "gs.train(x=review_vecs.names+headline_vecs.names, y='target', training_frame = h2o_train, validation_frame=h2o_valid)"
      ],
      "execution_count": 55,
      "outputs": [
        {
          "output_type": "stream",
          "text": [
            "gbm Grid Build progress: |████████████████████████████████████████████████| 100%\n"
          ],
          "name": "stdout"
        }
      ]
    },
    {
      "cell_type": "code",
      "metadata": {
        "id": "SSz_O9UXZfGF",
        "colab_type": "code",
        "colab": {
          "base_uri": "https://localhost:8080/",
          "height": 164
        },
        "outputId": "e370e492-fa53-4fe1-9ec5-23ffeb9d0f86"
      },
      "source": [
        "print(gs.get_grid(sort_by='auc', decreasing=True))"
      ],
      "execution_count": 56,
      "outputs": [
        {
          "output_type": "stream",
          "text": [
            "     ...                 auc\n",
            "0    ...  0.9427601359932449\n",
            "1    ...  0.9426497230021487\n",
            "2    ...  0.9277013983757698\n",
            "3    ...  0.9160468682423852\n",
            "\n",
            "[4 rows x 6 columns]\n",
            "\n"
          ],
          "name": "stdout"
        }
      ]
    },
    {
      "cell_type": "markdown",
      "metadata": {
        "id": "wbT2m_AIeme5",
        "colab_type": "text"
      },
      "source": [
        "Maximum AUC score using our hyperparameter range resulted in 94%."
      ]
    },
    {
      "cell_type": "code",
      "metadata": {
        "id": "zLZnWf7knXtP",
        "colab_type": "code",
        "colab": {
          "base_uri": "https://localhost:8080/",
          "height": 1000
        },
        "outputId": "69d641d0-e22d-46ce-f5dd-331946d3d995"
      },
      "source": [
        "# Grab the top GBM model, chosen by validation AUC\n",
        "best_gbm = gs.models[0]\n",
        "print(best_gbm)"
      ],
      "execution_count": 57,
      "outputs": [
        {
          "output_type": "stream",
          "text": [
            "Model Details\n",
            "=============\n",
            "H2OGradientBoostingEstimator :  Gradient Boosting Machine\n",
            "Model Key:  Grid_GBM_py_389_sid_a9c8_model_python_1599014842879_40_model_4\n",
            "\n",
            "\n",
            "Model Summary: \n"
          ],
          "name": "stdout"
        },
        {
          "output_type": "display_data",
          "data": {
            "text/html": [
              "<div>\n",
              "<style scoped>\n",
              "    .dataframe tbody tr th:only-of-type {\n",
              "        vertical-align: middle;\n",
              "    }\n",
              "\n",
              "    .dataframe tbody tr th {\n",
              "        vertical-align: top;\n",
              "    }\n",
              "\n",
              "    .dataframe thead th {\n",
              "        text-align: right;\n",
              "    }\n",
              "</style>\n",
              "<table border=\"1\" class=\"dataframe\">\n",
              "  <thead>\n",
              "    <tr style=\"text-align: right;\">\n",
              "      <th></th>\n",
              "      <th></th>\n",
              "      <th>number_of_trees</th>\n",
              "      <th>number_of_internal_trees</th>\n",
              "      <th>model_size_in_bytes</th>\n",
              "      <th>min_depth</th>\n",
              "      <th>max_depth</th>\n",
              "      <th>mean_depth</th>\n",
              "      <th>min_leaves</th>\n",
              "      <th>max_leaves</th>\n",
              "      <th>mean_leaves</th>\n",
              "    </tr>\n",
              "  </thead>\n",
              "  <tbody>\n",
              "    <tr>\n",
              "      <th>0</th>\n",
              "      <td></td>\n",
              "      <td>250.0</td>\n",
              "      <td>250.0</td>\n",
              "      <td>196047.0</td>\n",
              "      <td>6.0</td>\n",
              "      <td>6.0</td>\n",
              "      <td>6.0</td>\n",
              "      <td>36.0</td>\n",
              "      <td>64.0</td>\n",
              "      <td>57.744</td>\n",
              "    </tr>\n",
              "  </tbody>\n",
              "</table>\n",
              "</div>"
            ],
            "text/plain": [
              "     number_of_trees  ...  max_leaves  mean_leaves\n",
              "0              250.0  ...        64.0       57.744\n",
              "\n",
              "[1 rows x 10 columns]"
            ]
          },
          "metadata": {
            "tags": []
          }
        },
        {
          "output_type": "stream",
          "text": [
            "\n",
            "\n",
            "ModelMetricsBinomial: gbm\n",
            "** Reported on train data. **\n",
            "\n",
            "MSE: 0.03947896819714963\n",
            "RMSE: 0.1986931508561622\n",
            "LogLoss: 0.14962693896146947\n",
            "Mean Per-Class Error: 0.052774676337759674\n",
            "AUC: 0.9884940974068132\n",
            "AUCPR: 0.9953956867737456\n",
            "Gini: 0.9769881948136263\n",
            "\n",
            "Confusion Matrix (Act/Pred) for max f1 @ threshold = 0.538575091145393: \n"
          ],
          "name": "stdout"
        },
        {
          "output_type": "display_data",
          "data": {
            "text/html": [
              "<div>\n",
              "<style scoped>\n",
              "    .dataframe tbody tr th:only-of-type {\n",
              "        vertical-align: middle;\n",
              "    }\n",
              "\n",
              "    .dataframe tbody tr th {\n",
              "        vertical-align: top;\n",
              "    }\n",
              "\n",
              "    .dataframe thead th {\n",
              "        text-align: right;\n",
              "    }\n",
              "</style>\n",
              "<table border=\"1\" class=\"dataframe\">\n",
              "  <thead>\n",
              "    <tr style=\"text-align: right;\">\n",
              "      <th></th>\n",
              "      <th></th>\n",
              "      <th>0</th>\n",
              "      <th>1</th>\n",
              "      <th>Error</th>\n",
              "      <th>Rate</th>\n",
              "    </tr>\n",
              "  </thead>\n",
              "  <tbody>\n",
              "    <tr>\n",
              "      <th>0</th>\n",
              "      <td>0</td>\n",
              "      <td>16761.0</td>\n",
              "      <td>1967.0</td>\n",
              "      <td>0.105</td>\n",
              "      <td>(1967.0/18728.0)</td>\n",
              "    </tr>\n",
              "    <tr>\n",
              "      <th>1</th>\n",
              "      <td>1</td>\n",
              "      <td>1043.0</td>\n",
              "      <td>49111.0</td>\n",
              "      <td>0.0208</td>\n",
              "      <td>(1043.0/50154.0)</td>\n",
              "    </tr>\n",
              "    <tr>\n",
              "      <th>2</th>\n",
              "      <td>Total</td>\n",
              "      <td>17804.0</td>\n",
              "      <td>51078.0</td>\n",
              "      <td>0.0437</td>\n",
              "      <td>(3010.0/68882.0)</td>\n",
              "    </tr>\n",
              "  </tbody>\n",
              "</table>\n",
              "</div>"
            ],
            "text/plain": [
              "                0        1   Error               Rate\n",
              "0      0  16761.0   1967.0   0.105   (1967.0/18728.0)\n",
              "1      1   1043.0  49111.0  0.0208   (1043.0/50154.0)\n",
              "2  Total  17804.0  51078.0  0.0437   (3010.0/68882.0)"
            ]
          },
          "metadata": {
            "tags": []
          }
        },
        {
          "output_type": "stream",
          "text": [
            "\n",
            "Maximum Metrics: Maximum metrics at their respective thresholds\n"
          ],
          "name": "stdout"
        },
        {
          "output_type": "display_data",
          "data": {
            "text/html": [
              "<div>\n",
              "<style scoped>\n",
              "    .dataframe tbody tr th:only-of-type {\n",
              "        vertical-align: middle;\n",
              "    }\n",
              "\n",
              "    .dataframe tbody tr th {\n",
              "        vertical-align: top;\n",
              "    }\n",
              "\n",
              "    .dataframe thead th {\n",
              "        text-align: right;\n",
              "    }\n",
              "</style>\n",
              "<table border=\"1\" class=\"dataframe\">\n",
              "  <thead>\n",
              "    <tr style=\"text-align: right;\">\n",
              "      <th></th>\n",
              "      <th>metric</th>\n",
              "      <th>threshold</th>\n",
              "      <th>value</th>\n",
              "      <th>idx</th>\n",
              "    </tr>\n",
              "  </thead>\n",
              "  <tbody>\n",
              "    <tr>\n",
              "      <th>0</th>\n",
              "      <td>max f1</td>\n",
              "      <td>0.538575</td>\n",
              "      <td>0.970266</td>\n",
              "      <td>215.0</td>\n",
              "    </tr>\n",
              "    <tr>\n",
              "      <th>1</th>\n",
              "      <td>max f2</td>\n",
              "      <td>0.400595</td>\n",
              "      <td>0.979820</td>\n",
              "      <td>256.0</td>\n",
              "    </tr>\n",
              "    <tr>\n",
              "      <th>2</th>\n",
              "      <td>max f0point5</td>\n",
              "      <td>0.712600</td>\n",
              "      <td>0.973413</td>\n",
              "      <td>161.0</td>\n",
              "    </tr>\n",
              "    <tr>\n",
              "      <th>3</th>\n",
              "      <td>max accuracy</td>\n",
              "      <td>0.568583</td>\n",
              "      <td>0.956433</td>\n",
              "      <td>207.0</td>\n",
              "    </tr>\n",
              "    <tr>\n",
              "      <th>4</th>\n",
              "      <td>max precision</td>\n",
              "      <td>0.998499</td>\n",
              "      <td>1.000000</td>\n",
              "      <td>0.0</td>\n",
              "    </tr>\n",
              "    <tr>\n",
              "      <th>5</th>\n",
              "      <td>max recall</td>\n",
              "      <td>0.017316</td>\n",
              "      <td>1.000000</td>\n",
              "      <td>388.0</td>\n",
              "    </tr>\n",
              "    <tr>\n",
              "      <th>6</th>\n",
              "      <td>max specificity</td>\n",
              "      <td>0.998499</td>\n",
              "      <td>1.000000</td>\n",
              "      <td>0.0</td>\n",
              "    </tr>\n",
              "    <tr>\n",
              "      <th>7</th>\n",
              "      <td>max absolute_mcc</td>\n",
              "      <td>0.568583</td>\n",
              "      <td>0.889230</td>\n",
              "      <td>207.0</td>\n",
              "    </tr>\n",
              "    <tr>\n",
              "      <th>8</th>\n",
              "      <td>max min_per_class_accuracy</td>\n",
              "      <td>0.687022</td>\n",
              "      <td>0.946565</td>\n",
              "      <td>169.0</td>\n",
              "    </tr>\n",
              "    <tr>\n",
              "      <th>9</th>\n",
              "      <td>max mean_per_class_accuracy</td>\n",
              "      <td>0.667940</td>\n",
              "      <td>0.947225</td>\n",
              "      <td>176.0</td>\n",
              "    </tr>\n",
              "    <tr>\n",
              "      <th>10</th>\n",
              "      <td>max tns</td>\n",
              "      <td>0.998499</td>\n",
              "      <td>18728.000000</td>\n",
              "      <td>0.0</td>\n",
              "    </tr>\n",
              "    <tr>\n",
              "      <th>11</th>\n",
              "      <td>max fns</td>\n",
              "      <td>0.998499</td>\n",
              "      <td>48459.000000</td>\n",
              "      <td>0.0</td>\n",
              "    </tr>\n",
              "    <tr>\n",
              "      <th>12</th>\n",
              "      <td>max fps</td>\n",
              "      <td>0.001339</td>\n",
              "      <td>18728.000000</td>\n",
              "      <td>399.0</td>\n",
              "    </tr>\n",
              "    <tr>\n",
              "      <th>13</th>\n",
              "      <td>max tps</td>\n",
              "      <td>0.017316</td>\n",
              "      <td>50154.000000</td>\n",
              "      <td>388.0</td>\n",
              "    </tr>\n",
              "    <tr>\n",
              "      <th>14</th>\n",
              "      <td>max tnr</td>\n",
              "      <td>0.998499</td>\n",
              "      <td>1.000000</td>\n",
              "      <td>0.0</td>\n",
              "    </tr>\n",
              "    <tr>\n",
              "      <th>15</th>\n",
              "      <td>max fnr</td>\n",
              "      <td>0.998499</td>\n",
              "      <td>0.966204</td>\n",
              "      <td>0.0</td>\n",
              "    </tr>\n",
              "    <tr>\n",
              "      <th>16</th>\n",
              "      <td>max fpr</td>\n",
              "      <td>0.001339</td>\n",
              "      <td>1.000000</td>\n",
              "      <td>399.0</td>\n",
              "    </tr>\n",
              "    <tr>\n",
              "      <th>17</th>\n",
              "      <td>max tpr</td>\n",
              "      <td>0.017316</td>\n",
              "      <td>1.000000</td>\n",
              "      <td>388.0</td>\n",
              "    </tr>\n",
              "  </tbody>\n",
              "</table>\n",
              "</div>"
            ],
            "text/plain": [
              "                         metric  threshold         value    idx\n",
              "0                        max f1   0.538575      0.970266  215.0\n",
              "1                        max f2   0.400595      0.979820  256.0\n",
              "2                  max f0point5   0.712600      0.973413  161.0\n",
              "3                  max accuracy   0.568583      0.956433  207.0\n",
              "4                 max precision   0.998499      1.000000    0.0\n",
              "5                    max recall   0.017316      1.000000  388.0\n",
              "6               max specificity   0.998499      1.000000    0.0\n",
              "7              max absolute_mcc   0.568583      0.889230  207.0\n",
              "8    max min_per_class_accuracy   0.687022      0.946565  169.0\n",
              "9   max mean_per_class_accuracy   0.667940      0.947225  176.0\n",
              "10                      max tns   0.998499  18728.000000    0.0\n",
              "11                      max fns   0.998499  48459.000000    0.0\n",
              "12                      max fps   0.001339  18728.000000  399.0\n",
              "13                      max tps   0.017316  50154.000000  388.0\n",
              "14                      max tnr   0.998499      1.000000    0.0\n",
              "15                      max fnr   0.998499      0.966204    0.0\n",
              "16                      max fpr   0.001339      1.000000  399.0\n",
              "17                      max tpr   0.017316      1.000000  388.0"
            ]
          },
          "metadata": {
            "tags": []
          }
        },
        {
          "output_type": "stream",
          "text": [
            "\n",
            "Gains/Lift Table: Avg response rate: 72.81 %, avg score: 72.81 %\n"
          ],
          "name": "stdout"
        },
        {
          "output_type": "display_data",
          "data": {
            "text/html": [
              "<div>\n",
              "<style scoped>\n",
              "    .dataframe tbody tr th:only-of-type {\n",
              "        vertical-align: middle;\n",
              "    }\n",
              "\n",
              "    .dataframe tbody tr th {\n",
              "        vertical-align: top;\n",
              "    }\n",
              "\n",
              "    .dataframe thead th {\n",
              "        text-align: right;\n",
              "    }\n",
              "</style>\n",
              "<table border=\"1\" class=\"dataframe\">\n",
              "  <thead>\n",
              "    <tr style=\"text-align: right;\">\n",
              "      <th></th>\n",
              "      <th>group</th>\n",
              "      <th>cumulative_data_fraction</th>\n",
              "      <th>lower_threshold</th>\n",
              "      <th>lift</th>\n",
              "      <th>cumulative_lift</th>\n",
              "      <th>response_rate</th>\n",
              "      <th>score</th>\n",
              "      <th>cumulative_response_rate</th>\n",
              "      <th>cumulative_score</th>\n",
              "      <th>capture_rate</th>\n",
              "      <th>cumulative_capture_rate</th>\n",
              "      <th>gain</th>\n",
              "      <th>cumulative_gain</th>\n",
              "      <th>kolmogorov_smirnov</th>\n",
              "    </tr>\n",
              "  </thead>\n",
              "  <tbody>\n",
              "    <tr>\n",
              "      <th>0</th>\n",
              "      <td>1</td>\n",
              "      <td>0.010003</td>\n",
              "      <td>0.998555</td>\n",
              "      <td>1.373410</td>\n",
              "      <td>1.373410</td>\n",
              "      <td>1.000000</td>\n",
              "      <td>0.998793</td>\n",
              "      <td>1.000000</td>\n",
              "      <td>0.998793</td>\n",
              "      <td>0.013738</td>\n",
              "      <td>0.013738</td>\n",
              "      <td>37.340990</td>\n",
              "      <td>37.340990</td>\n",
              "      <td>0.013738</td>\n",
              "    </tr>\n",
              "    <tr>\n",
              "      <th>1</th>\n",
              "      <td>2</td>\n",
              "      <td>0.020005</td>\n",
              "      <td>0.998282</td>\n",
              "      <td>1.373410</td>\n",
              "      <td>1.373410</td>\n",
              "      <td>1.000000</td>\n",
              "      <td>0.998435</td>\n",
              "      <td>1.000000</td>\n",
              "      <td>0.998614</td>\n",
              "      <td>0.013738</td>\n",
              "      <td>0.027475</td>\n",
              "      <td>37.340990</td>\n",
              "      <td>37.340990</td>\n",
              "      <td>0.027475</td>\n",
              "    </tr>\n",
              "    <tr>\n",
              "      <th>2</th>\n",
              "      <td>3</td>\n",
              "      <td>0.030051</td>\n",
              "      <td>0.997994</td>\n",
              "      <td>1.373410</td>\n",
              "      <td>1.373410</td>\n",
              "      <td>1.000000</td>\n",
              "      <td>0.998128</td>\n",
              "      <td>1.000000</td>\n",
              "      <td>0.998451</td>\n",
              "      <td>0.013798</td>\n",
              "      <td>0.041273</td>\n",
              "      <td>37.340990</td>\n",
              "      <td>37.340990</td>\n",
              "      <td>0.041273</td>\n",
              "    </tr>\n",
              "    <tr>\n",
              "      <th>3</th>\n",
              "      <td>4</td>\n",
              "      <td>0.040010</td>\n",
              "      <td>0.997648</td>\n",
              "      <td>1.373410</td>\n",
              "      <td>1.373410</td>\n",
              "      <td>1.000000</td>\n",
              "      <td>0.997818</td>\n",
              "      <td>1.000000</td>\n",
              "      <td>0.998294</td>\n",
              "      <td>0.013678</td>\n",
              "      <td>0.054951</td>\n",
              "      <td>37.340990</td>\n",
              "      <td>37.340990</td>\n",
              "      <td>0.054951</td>\n",
              "    </tr>\n",
              "    <tr>\n",
              "      <th>4</th>\n",
              "      <td>5</td>\n",
              "      <td>0.050013</td>\n",
              "      <td>0.997278</td>\n",
              "      <td>1.373410</td>\n",
              "      <td>1.373410</td>\n",
              "      <td>1.000000</td>\n",
              "      <td>0.997454</td>\n",
              "      <td>1.000000</td>\n",
              "      <td>0.998126</td>\n",
              "      <td>0.013738</td>\n",
              "      <td>0.068688</td>\n",
              "      <td>37.340990</td>\n",
              "      <td>37.340990</td>\n",
              "      <td>0.068688</td>\n",
              "    </tr>\n",
              "    <tr>\n",
              "      <th>5</th>\n",
              "      <td>6</td>\n",
              "      <td>0.100084</td>\n",
              "      <td>0.995280</td>\n",
              "      <td>1.373410</td>\n",
              "      <td>1.373410</td>\n",
              "      <td>1.000000</td>\n",
              "      <td>0.996332</td>\n",
              "      <td>1.000000</td>\n",
              "      <td>0.997228</td>\n",
              "      <td>0.068768</td>\n",
              "      <td>0.137457</td>\n",
              "      <td>37.340990</td>\n",
              "      <td>37.340990</td>\n",
              "      <td>0.137457</td>\n",
              "    </tr>\n",
              "    <tr>\n",
              "      <th>6</th>\n",
              "      <td>7</td>\n",
              "      <td>0.150010</td>\n",
              "      <td>0.992548</td>\n",
              "      <td>1.372611</td>\n",
              "      <td>1.373144</td>\n",
              "      <td>0.999418</td>\n",
              "      <td>0.993962</td>\n",
              "      <td>0.999806</td>\n",
              "      <td>0.996141</td>\n",
              "      <td>0.068529</td>\n",
              "      <td>0.205986</td>\n",
              "      <td>37.261117</td>\n",
              "      <td>37.314407</td>\n",
              "      <td>0.205879</td>\n",
              "    </tr>\n",
              "    <tr>\n",
              "      <th>7</th>\n",
              "      <td>8</td>\n",
              "      <td>0.200009</td>\n",
              "      <td>0.989099</td>\n",
              "      <td>1.372612</td>\n",
              "      <td>1.373011</td>\n",
              "      <td>0.999419</td>\n",
              "      <td>0.990923</td>\n",
              "      <td>0.999710</td>\n",
              "      <td>0.994837</td>\n",
              "      <td>0.068629</td>\n",
              "      <td>0.274614</td>\n",
              "      <td>37.261233</td>\n",
              "      <td>37.301114</td>\n",
              "      <td>0.274401</td>\n",
              "    </tr>\n",
              "    <tr>\n",
              "      <th>8</th>\n",
              "      <td>9</td>\n",
              "      <td>0.300006</td>\n",
              "      <td>0.979168</td>\n",
              "      <td>1.371815</td>\n",
              "      <td>1.372612</td>\n",
              "      <td>0.998839</td>\n",
              "      <td>0.984555</td>\n",
              "      <td>0.999419</td>\n",
              "      <td>0.991410</td>\n",
              "      <td>0.137177</td>\n",
              "      <td>0.411792</td>\n",
              "      <td>37.181476</td>\n",
              "      <td>37.261237</td>\n",
              "      <td>0.411151</td>\n",
              "    </tr>\n",
              "    <tr>\n",
              "      <th>9</th>\n",
              "      <td>10</td>\n",
              "      <td>0.400003</td>\n",
              "      <td>0.962221</td>\n",
              "      <td>1.369821</td>\n",
              "      <td>1.371915</td>\n",
              "      <td>0.997387</td>\n",
              "      <td>0.971483</td>\n",
              "      <td>0.998911</td>\n",
              "      <td>0.986428</td>\n",
              "      <td>0.136978</td>\n",
              "      <td>0.548770</td>\n",
              "      <td>36.982085</td>\n",
              "      <td>37.191451</td>\n",
              "      <td>0.547168</td>\n",
              "    </tr>\n",
              "    <tr>\n",
              "      <th>10</th>\n",
              "      <td>11</td>\n",
              "      <td>0.500000</td>\n",
              "      <td>0.931493</td>\n",
              "      <td>1.364038</td>\n",
              "      <td>1.370339</td>\n",
              "      <td>0.993177</td>\n",
              "      <td>0.948483</td>\n",
              "      <td>0.997764</td>\n",
              "      <td>0.978839</td>\n",
              "      <td>0.136400</td>\n",
              "      <td>0.685170</td>\n",
              "      <td>36.403849</td>\n",
              "      <td>37.033935</td>\n",
              "      <td>0.681058</td>\n",
              "    </tr>\n",
              "    <tr>\n",
              "      <th>11</th>\n",
              "      <td>12</td>\n",
              "      <td>0.599997</td>\n",
              "      <td>0.869803</td>\n",
              "      <td>1.341108</td>\n",
              "      <td>1.365468</td>\n",
              "      <td>0.976481</td>\n",
              "      <td>0.904571</td>\n",
              "      <td>0.994217</td>\n",
              "      <td>0.966462</td>\n",
              "      <td>0.134107</td>\n",
              "      <td>0.819277</td>\n",
              "      <td>34.110845</td>\n",
              "      <td>36.546765</td>\n",
              "      <td>0.806515</td>\n",
              "    </tr>\n",
              "    <tr>\n",
              "      <th>12</th>\n",
              "      <td>13</td>\n",
              "      <td>0.699994</td>\n",
              "      <td>0.697210</td>\n",
              "      <td>1.237026</td>\n",
              "      <td>1.347119</td>\n",
              "      <td>0.900697</td>\n",
              "      <td>0.801697</td>\n",
              "      <td>0.980857</td>\n",
              "      <td>0.942924</td>\n",
              "      <td>0.123699</td>\n",
              "      <td>0.942976</td>\n",
              "      <td>23.702599</td>\n",
              "      <td>34.711923</td>\n",
              "      <td>0.893691</td>\n",
              "    </tr>\n",
              "    <tr>\n",
              "      <th>13</th>\n",
              "      <td>14</td>\n",
              "      <td>0.799991</td>\n",
              "      <td>0.292202</td>\n",
              "      <td>0.532575</td>\n",
              "      <td>1.245303</td>\n",
              "      <td>0.387776</td>\n",
              "      <td>0.496136</td>\n",
              "      <td>0.906724</td>\n",
              "      <td>0.887077</td>\n",
              "      <td>0.053256</td>\n",
              "      <td>0.996232</td>\n",
              "      <td>-46.742482</td>\n",
              "      <td>24.530307</td>\n",
              "      <td>0.721776</td>\n",
              "    </tr>\n",
              "    <tr>\n",
              "      <th>14</th>\n",
              "      <td>15</td>\n",
              "      <td>0.899988</td>\n",
              "      <td>0.063945</td>\n",
              "      <td>0.034694</td>\n",
              "      <td>1.110793</td>\n",
              "      <td>0.025261</td>\n",
              "      <td>0.161197</td>\n",
              "      <td>0.808785</td>\n",
              "      <td>0.806425</td>\n",
              "      <td>0.003469</td>\n",
              "      <td>0.999701</td>\n",
              "      <td>-96.530585</td>\n",
              "      <td>11.079314</td>\n",
              "      <td>0.366745</td>\n",
              "    </tr>\n",
              "    <tr>\n",
              "      <th>15</th>\n",
              "      <td>16</td>\n",
              "      <td>1.000000</td>\n",
              "      <td>0.000319</td>\n",
              "      <td>0.002990</td>\n",
              "      <td>1.000000</td>\n",
              "      <td>0.002177</td>\n",
              "      <td>0.023123</td>\n",
              "      <td>0.728115</td>\n",
              "      <td>0.728085</td>\n",
              "      <td>0.000299</td>\n",
              "      <td>1.000000</td>\n",
              "      <td>-99.700956</td>\n",
              "      <td>0.000000</td>\n",
              "      <td>0.000000</td>\n",
              "    </tr>\n",
              "  </tbody>\n",
              "</table>\n",
              "</div>"
            ],
            "text/plain": [
              "    group  cumulative_data_fraction  ...  cumulative_gain  kolmogorov_smirnov\n",
              "0       1                  0.010003  ...        37.340990            0.013738\n",
              "1       2                  0.020005  ...        37.340990            0.027475\n",
              "2       3                  0.030051  ...        37.340990            0.041273\n",
              "3       4                  0.040010  ...        37.340990            0.054951\n",
              "4       5                  0.050013  ...        37.340990            0.068688\n",
              "5       6                  0.100084  ...        37.340990            0.137457\n",
              "6       7                  0.150010  ...        37.314407            0.205879\n",
              "7       8                  0.200009  ...        37.301114            0.274401\n",
              "8       9                  0.300006  ...        37.261237            0.411151\n",
              "9      10                  0.400003  ...        37.191451            0.547168\n",
              "10     11                  0.500000  ...        37.033935            0.681058\n",
              "11     12                  0.599997  ...        36.546765            0.806515\n",
              "12     13                  0.699994  ...        34.711923            0.893691\n",
              "13     14                  0.799991  ...        24.530307            0.721776\n",
              "14     15                  0.899988  ...        11.079314            0.366745\n",
              "15     16                  1.000000  ...         0.000000            0.000000\n",
              "\n",
              "[16 rows x 14 columns]"
            ]
          },
          "metadata": {
            "tags": []
          }
        },
        {
          "output_type": "stream",
          "text": [
            "\n",
            "\n",
            "ModelMetricsBinomial: gbm\n",
            "** Reported on validation data. **\n",
            "\n",
            "MSE: 0.08159571068690549\n",
            "RMSE: 0.28564962924342385\n",
            "LogLoss: 0.26459965303095434\n",
            "Mean Per-Class Error: 0.13356230563812477\n",
            "AUC: 0.9426497230021487\n",
            "AUCPR: 0.9759527182339955\n",
            "Gini: 0.8852994460042973\n",
            "\n",
            "Confusion Matrix (Act/Pred) for max f1 @ threshold = 0.46358379959658635: \n"
          ],
          "name": "stdout"
        },
        {
          "output_type": "display_data",
          "data": {
            "text/html": [
              "<div>\n",
              "<style scoped>\n",
              "    .dataframe tbody tr th:only-of-type {\n",
              "        vertical-align: middle;\n",
              "    }\n",
              "\n",
              "    .dataframe tbody tr th {\n",
              "        vertical-align: top;\n",
              "    }\n",
              "\n",
              "    .dataframe thead th {\n",
              "        text-align: right;\n",
              "    }\n",
              "</style>\n",
              "<table border=\"1\" class=\"dataframe\">\n",
              "  <thead>\n",
              "    <tr style=\"text-align: right;\">\n",
              "      <th></th>\n",
              "      <th></th>\n",
              "      <th>0</th>\n",
              "      <th>1</th>\n",
              "      <th>Error</th>\n",
              "      <th>Rate</th>\n",
              "    </tr>\n",
              "  </thead>\n",
              "  <tbody>\n",
              "    <tr>\n",
              "      <th>0</th>\n",
              "      <td>0</td>\n",
              "      <td>3262.0</td>\n",
              "      <td>1437.0</td>\n",
              "      <td>0.3058</td>\n",
              "      <td>(1437.0/4699.0)</td>\n",
              "    </tr>\n",
              "    <tr>\n",
              "      <th>1</th>\n",
              "      <td>1</td>\n",
              "      <td>526.0</td>\n",
              "      <td>11874.0</td>\n",
              "      <td>0.0424</td>\n",
              "      <td>(526.0/12400.0)</td>\n",
              "    </tr>\n",
              "    <tr>\n",
              "      <th>2</th>\n",
              "      <td>Total</td>\n",
              "      <td>3788.0</td>\n",
              "      <td>13311.0</td>\n",
              "      <td>0.1148</td>\n",
              "      <td>(1963.0/17099.0)</td>\n",
              "    </tr>\n",
              "  </tbody>\n",
              "</table>\n",
              "</div>"
            ],
            "text/plain": [
              "               0        1   Error               Rate\n",
              "0      0  3262.0   1437.0  0.3058    (1437.0/4699.0)\n",
              "1      1   526.0  11874.0  0.0424    (526.0/12400.0)\n",
              "2  Total  3788.0  13311.0  0.1148   (1963.0/17099.0)"
            ]
          },
          "metadata": {
            "tags": []
          }
        },
        {
          "output_type": "stream",
          "text": [
            "\n",
            "Maximum Metrics: Maximum metrics at their respective thresholds\n"
          ],
          "name": "stdout"
        },
        {
          "output_type": "display_data",
          "data": {
            "text/html": [
              "<div>\n",
              "<style scoped>\n",
              "    .dataframe tbody tr th:only-of-type {\n",
              "        vertical-align: middle;\n",
              "    }\n",
              "\n",
              "    .dataframe tbody tr th {\n",
              "        vertical-align: top;\n",
              "    }\n",
              "\n",
              "    .dataframe thead th {\n",
              "        text-align: right;\n",
              "    }\n",
              "</style>\n",
              "<table border=\"1\" class=\"dataframe\">\n",
              "  <thead>\n",
              "    <tr style=\"text-align: right;\">\n",
              "      <th></th>\n",
              "      <th>metric</th>\n",
              "      <th>threshold</th>\n",
              "      <th>value</th>\n",
              "      <th>idx</th>\n",
              "    </tr>\n",
              "  </thead>\n",
              "  <tbody>\n",
              "    <tr>\n",
              "      <th>0</th>\n",
              "      <td>max f1</td>\n",
              "      <td>0.463584</td>\n",
              "      <td>0.923651</td>\n",
              "      <td>238.0</td>\n",
              "    </tr>\n",
              "    <tr>\n",
              "      <th>1</th>\n",
              "      <td>max f2</td>\n",
              "      <td>0.158610</td>\n",
              "      <td>0.955458</td>\n",
              "      <td>333.0</td>\n",
              "    </tr>\n",
              "    <tr>\n",
              "      <th>2</th>\n",
              "      <td>max f0point5</td>\n",
              "      <td>0.792980</td>\n",
              "      <td>0.928516</td>\n",
              "      <td>131.0</td>\n",
              "    </tr>\n",
              "    <tr>\n",
              "      <th>3</th>\n",
              "      <td>max accuracy</td>\n",
              "      <td>0.576706</td>\n",
              "      <td>0.886660</td>\n",
              "      <td>203.0</td>\n",
              "    </tr>\n",
              "    <tr>\n",
              "      <th>4</th>\n",
              "      <td>max precision</td>\n",
              "      <td>0.998541</td>\n",
              "      <td>1.000000</td>\n",
              "      <td>0.0</td>\n",
              "    </tr>\n",
              "    <tr>\n",
              "      <th>5</th>\n",
              "      <td>max recall</td>\n",
              "      <td>0.009990</td>\n",
              "      <td>1.000000</td>\n",
              "      <td>392.0</td>\n",
              "    </tr>\n",
              "    <tr>\n",
              "      <th>6</th>\n",
              "      <td>max specificity</td>\n",
              "      <td>0.998541</td>\n",
              "      <td>1.000000</td>\n",
              "      <td>0.0</td>\n",
              "    </tr>\n",
              "    <tr>\n",
              "      <th>7</th>\n",
              "      <td>max absolute_mcc</td>\n",
              "      <td>0.637297</td>\n",
              "      <td>0.712082</td>\n",
              "      <td>184.0</td>\n",
              "    </tr>\n",
              "    <tr>\n",
              "      <th>8</th>\n",
              "      <td>max min_per_class_accuracy</td>\n",
              "      <td>0.759496</td>\n",
              "      <td>0.866355</td>\n",
              "      <td>143.0</td>\n",
              "    </tr>\n",
              "    <tr>\n",
              "      <th>9</th>\n",
              "      <td>max mean_per_class_accuracy</td>\n",
              "      <td>0.790381</td>\n",
              "      <td>0.866438</td>\n",
              "      <td>132.0</td>\n",
              "    </tr>\n",
              "    <tr>\n",
              "      <th>10</th>\n",
              "      <td>max tns</td>\n",
              "      <td>0.998541</td>\n",
              "      <td>4699.000000</td>\n",
              "      <td>0.0</td>\n",
              "    </tr>\n",
              "    <tr>\n",
              "      <th>11</th>\n",
              "      <td>max fns</td>\n",
              "      <td>0.998541</td>\n",
              "      <td>12060.000000</td>\n",
              "      <td>0.0</td>\n",
              "    </tr>\n",
              "    <tr>\n",
              "      <th>12</th>\n",
              "      <td>max fps</td>\n",
              "      <td>0.001119</td>\n",
              "      <td>4699.000000</td>\n",
              "      <td>399.0</td>\n",
              "    </tr>\n",
              "    <tr>\n",
              "      <th>13</th>\n",
              "      <td>max tps</td>\n",
              "      <td>0.009990</td>\n",
              "      <td>12400.000000</td>\n",
              "      <td>392.0</td>\n",
              "    </tr>\n",
              "    <tr>\n",
              "      <th>14</th>\n",
              "      <td>max tnr</td>\n",
              "      <td>0.998541</td>\n",
              "      <td>1.000000</td>\n",
              "      <td>0.0</td>\n",
              "    </tr>\n",
              "    <tr>\n",
              "      <th>15</th>\n",
              "      <td>max fnr</td>\n",
              "      <td>0.998541</td>\n",
              "      <td>0.972581</td>\n",
              "      <td>0.0</td>\n",
              "    </tr>\n",
              "    <tr>\n",
              "      <th>16</th>\n",
              "      <td>max fpr</td>\n",
              "      <td>0.001119</td>\n",
              "      <td>1.000000</td>\n",
              "      <td>399.0</td>\n",
              "    </tr>\n",
              "    <tr>\n",
              "      <th>17</th>\n",
              "      <td>max tpr</td>\n",
              "      <td>0.009990</td>\n",
              "      <td>1.000000</td>\n",
              "      <td>392.0</td>\n",
              "    </tr>\n",
              "  </tbody>\n",
              "</table>\n",
              "</div>"
            ],
            "text/plain": [
              "                         metric  threshold         value    idx\n",
              "0                        max f1   0.463584      0.923651  238.0\n",
              "1                        max f2   0.158610      0.955458  333.0\n",
              "2                  max f0point5   0.792980      0.928516  131.0\n",
              "3                  max accuracy   0.576706      0.886660  203.0\n",
              "4                 max precision   0.998541      1.000000    0.0\n",
              "5                    max recall   0.009990      1.000000  392.0\n",
              "6               max specificity   0.998541      1.000000    0.0\n",
              "7              max absolute_mcc   0.637297      0.712082  184.0\n",
              "8    max min_per_class_accuracy   0.759496      0.866355  143.0\n",
              "9   max mean_per_class_accuracy   0.790381      0.866438  132.0\n",
              "10                      max tns   0.998541   4699.000000    0.0\n",
              "11                      max fns   0.998541  12060.000000    0.0\n",
              "12                      max fps   0.001119   4699.000000  399.0\n",
              "13                      max tps   0.009990  12400.000000  392.0\n",
              "14                      max tnr   0.998541      1.000000    0.0\n",
              "15                      max fnr   0.998541      0.972581    0.0\n",
              "16                      max fpr   0.001119      1.000000  399.0\n",
              "17                      max tpr   0.009990      1.000000  392.0"
            ]
          },
          "metadata": {
            "tags": []
          }
        },
        {
          "output_type": "stream",
          "text": [
            "\n",
            "Gains/Lift Table: Avg response rate: 72.52 %, avg score: 73.38 %\n"
          ],
          "name": "stdout"
        },
        {
          "output_type": "display_data",
          "data": {
            "text/html": [
              "<div>\n",
              "<style scoped>\n",
              "    .dataframe tbody tr th:only-of-type {\n",
              "        vertical-align: middle;\n",
              "    }\n",
              "\n",
              "    .dataframe tbody tr th {\n",
              "        vertical-align: top;\n",
              "    }\n",
              "\n",
              "    .dataframe thead th {\n",
              "        text-align: right;\n",
              "    }\n",
              "</style>\n",
              "<table border=\"1\" class=\"dataframe\">\n",
              "  <thead>\n",
              "    <tr style=\"text-align: right;\">\n",
              "      <th></th>\n",
              "      <th>group</th>\n",
              "      <th>cumulative_data_fraction</th>\n",
              "      <th>lower_threshold</th>\n",
              "      <th>lift</th>\n",
              "      <th>cumulative_lift</th>\n",
              "      <th>response_rate</th>\n",
              "      <th>score</th>\n",
              "      <th>cumulative_response_rate</th>\n",
              "      <th>cumulative_score</th>\n",
              "      <th>capture_rate</th>\n",
              "      <th>cumulative_capture_rate</th>\n",
              "      <th>gain</th>\n",
              "      <th>cumulative_gain</th>\n",
              "      <th>kolmogorov_smirnov</th>\n",
              "    </tr>\n",
              "  </thead>\n",
              "  <tbody>\n",
              "    <tr>\n",
              "      <th>0</th>\n",
              "      <td>1</td>\n",
              "      <td>0.010001</td>\n",
              "      <td>0.998512</td>\n",
              "      <td>1.378952</td>\n",
              "      <td>1.378952</td>\n",
              "      <td>1.000000</td>\n",
              "      <td>0.998748</td>\n",
              "      <td>1.000000</td>\n",
              "      <td>0.998748</td>\n",
              "      <td>0.013790</td>\n",
              "      <td>0.013790</td>\n",
              "      <td>37.895161</td>\n",
              "      <td>37.895161</td>\n",
              "      <td>0.013790</td>\n",
              "    </tr>\n",
              "    <tr>\n",
              "      <th>1</th>\n",
              "      <td>2</td>\n",
              "      <td>0.020001</td>\n",
              "      <td>0.998223</td>\n",
              "      <td>1.378952</td>\n",
              "      <td>1.378952</td>\n",
              "      <td>1.000000</td>\n",
              "      <td>0.998406</td>\n",
              "      <td>1.000000</td>\n",
              "      <td>0.998577</td>\n",
              "      <td>0.013790</td>\n",
              "      <td>0.027581</td>\n",
              "      <td>37.895161</td>\n",
              "      <td>37.895161</td>\n",
              "      <td>0.027581</td>\n",
              "    </tr>\n",
              "    <tr>\n",
              "      <th>2</th>\n",
              "      <td>3</td>\n",
              "      <td>0.030002</td>\n",
              "      <td>0.997992</td>\n",
              "      <td>1.378952</td>\n",
              "      <td>1.378952</td>\n",
              "      <td>1.000000</td>\n",
              "      <td>0.998117</td>\n",
              "      <td>1.000000</td>\n",
              "      <td>0.998424</td>\n",
              "      <td>0.013790</td>\n",
              "      <td>0.041371</td>\n",
              "      <td>37.895161</td>\n",
              "      <td>37.895161</td>\n",
              "      <td>0.041371</td>\n",
              "    </tr>\n",
              "    <tr>\n",
              "      <th>3</th>\n",
              "      <td>4</td>\n",
              "      <td>0.040002</td>\n",
              "      <td>0.997679</td>\n",
              "      <td>1.378952</td>\n",
              "      <td>1.378952</td>\n",
              "      <td>1.000000</td>\n",
              "      <td>0.997840</td>\n",
              "      <td>1.000000</td>\n",
              "      <td>0.998278</td>\n",
              "      <td>0.013790</td>\n",
              "      <td>0.055161</td>\n",
              "      <td>37.895161</td>\n",
              "      <td>37.895161</td>\n",
              "      <td>0.055161</td>\n",
              "    </tr>\n",
              "    <tr>\n",
              "      <th>4</th>\n",
              "      <td>5</td>\n",
              "      <td>0.050003</td>\n",
              "      <td>0.997344</td>\n",
              "      <td>1.370888</td>\n",
              "      <td>1.377339</td>\n",
              "      <td>0.994152</td>\n",
              "      <td>0.997502</td>\n",
              "      <td>0.998830</td>\n",
              "      <td>0.998123</td>\n",
              "      <td>0.013710</td>\n",
              "      <td>0.068871</td>\n",
              "      <td>37.088757</td>\n",
              "      <td>37.733880</td>\n",
              "      <td>0.068658</td>\n",
              "    </tr>\n",
              "    <tr>\n",
              "      <th>5</th>\n",
              "      <td>6</td>\n",
              "      <td>0.100006</td>\n",
              "      <td>0.995395</td>\n",
              "      <td>1.375726</td>\n",
              "      <td>1.376532</td>\n",
              "      <td>0.997661</td>\n",
              "      <td>0.996451</td>\n",
              "      <td>0.998246</td>\n",
              "      <td>0.997287</td>\n",
              "      <td>0.068790</td>\n",
              "      <td>0.137661</td>\n",
              "      <td>37.572600</td>\n",
              "      <td>37.653240</td>\n",
              "      <td>0.137023</td>\n",
              "    </tr>\n",
              "    <tr>\n",
              "      <th>6</th>\n",
              "      <td>7</td>\n",
              "      <td>0.150009</td>\n",
              "      <td>0.992498</td>\n",
              "      <td>1.375726</td>\n",
              "      <td>1.376264</td>\n",
              "      <td>0.997661</td>\n",
              "      <td>0.994084</td>\n",
              "      <td>0.998051</td>\n",
              "      <td>0.996219</td>\n",
              "      <td>0.068790</td>\n",
              "      <td>0.206452</td>\n",
              "      <td>37.572600</td>\n",
              "      <td>37.626360</td>\n",
              "      <td>0.205388</td>\n",
              "    </tr>\n",
              "    <tr>\n",
              "      <th>7</th>\n",
              "      <td>8</td>\n",
              "      <td>0.200012</td>\n",
              "      <td>0.988958</td>\n",
              "      <td>1.370888</td>\n",
              "      <td>1.374920</td>\n",
              "      <td>0.994152</td>\n",
              "      <td>0.990765</td>\n",
              "      <td>0.997076</td>\n",
              "      <td>0.994856</td>\n",
              "      <td>0.068548</td>\n",
              "      <td>0.275000</td>\n",
              "      <td>37.088757</td>\n",
              "      <td>37.491959</td>\n",
              "      <td>0.272872</td>\n",
              "    </tr>\n",
              "    <tr>\n",
              "      <th>8</th>\n",
              "      <td>9</td>\n",
              "      <td>0.300018</td>\n",
              "      <td>0.977864</td>\n",
              "      <td>1.362824</td>\n",
              "      <td>1.370888</td>\n",
              "      <td>0.988304</td>\n",
              "      <td>0.983870</td>\n",
              "      <td>0.994152</td>\n",
              "      <td>0.991194</td>\n",
              "      <td>0.136290</td>\n",
              "      <td>0.411290</td>\n",
              "      <td>36.282352</td>\n",
              "      <td>37.088757</td>\n",
              "      <td>0.404906</td>\n",
              "    </tr>\n",
              "    <tr>\n",
              "      <th>9</th>\n",
              "      <td>10</td>\n",
              "      <td>0.400023</td>\n",
              "      <td>0.958296</td>\n",
              "      <td>1.337825</td>\n",
              "      <td>1.362622</td>\n",
              "      <td>0.970175</td>\n",
              "      <td>0.968766</td>\n",
              "      <td>0.988158</td>\n",
              "      <td>0.985587</td>\n",
              "      <td>0.133790</td>\n",
              "      <td>0.545081</td>\n",
              "      <td>33.782499</td>\n",
              "      <td>36.262192</td>\n",
              "      <td>0.527843</td>\n",
              "    </tr>\n",
              "    <tr>\n",
              "      <th>10</th>\n",
              "      <td>11</td>\n",
              "      <td>0.500029</td>\n",
              "      <td>0.921376</td>\n",
              "      <td>1.297505</td>\n",
              "      <td>1.349598</td>\n",
              "      <td>0.940936</td>\n",
              "      <td>0.941835</td>\n",
              "      <td>0.978713</td>\n",
              "      <td>0.976836</td>\n",
              "      <td>0.129758</td>\n",
              "      <td>0.674839</td>\n",
              "      <td>29.750476</td>\n",
              "      <td>34.959849</td>\n",
              "      <td>0.636107</td>\n",
              "    </tr>\n",
              "    <tr>\n",
              "      <th>11</th>\n",
              "      <td>12</td>\n",
              "      <td>0.599977</td>\n",
              "      <td>0.845965</td>\n",
              "      <td>1.212735</td>\n",
              "      <td>1.326799</td>\n",
              "      <td>0.879462</td>\n",
              "      <td>0.888062</td>\n",
              "      <td>0.962180</td>\n",
              "      <td>0.962048</td>\n",
              "      <td>0.121210</td>\n",
              "      <td>0.796048</td>\n",
              "      <td>21.273509</td>\n",
              "      <td>32.679904</td>\n",
              "      <td>0.713478</td>\n",
              "    </tr>\n",
              "    <tr>\n",
              "      <th>12</th>\n",
              "      <td>13</td>\n",
              "      <td>0.699982</td>\n",
              "      <td>0.694226</td>\n",
              "      <td>1.033811</td>\n",
              "      <td>1.284940</td>\n",
              "      <td>0.749708</td>\n",
              "      <td>0.778888</td>\n",
              "      <td>0.931824</td>\n",
              "      <td>0.935880</td>\n",
              "      <td>0.103387</td>\n",
              "      <td>0.899435</td>\n",
              "      <td>3.381051</td>\n",
              "      <td>28.494004</td>\n",
              "      <td>0.725782</td>\n",
              "    </tr>\n",
              "    <tr>\n",
              "      <th>13</th>\n",
              "      <td>14</td>\n",
              "      <td>0.799988</td>\n",
              "      <td>0.380188</td>\n",
              "      <td>0.695121</td>\n",
              "      <td>1.211207</td>\n",
              "      <td>0.504094</td>\n",
              "      <td>0.551157</td>\n",
              "      <td>0.878354</td>\n",
              "      <td>0.887786</td>\n",
              "      <td>0.069516</td>\n",
              "      <td>0.968952</td>\n",
              "      <td>-30.487936</td>\n",
              "      <td>21.120722</td>\n",
              "      <td>0.614834</td>\n",
              "    </tr>\n",
              "    <tr>\n",
              "      <th>14</th>\n",
              "      <td>15</td>\n",
              "      <td>0.899994</td>\n",
              "      <td>0.079648</td>\n",
              "      <td>0.283854</td>\n",
              "      <td>1.108161</td>\n",
              "      <td>0.205848</td>\n",
              "      <td>0.210749</td>\n",
              "      <td>0.803626</td>\n",
              "      <td>0.812555</td>\n",
              "      <td>0.028387</td>\n",
              "      <td>0.997339</td>\n",
              "      <td>-71.614563</td>\n",
              "      <td>10.816132</td>\n",
              "      <td>0.354223</td>\n",
              "    </tr>\n",
              "    <tr>\n",
              "      <th>15</th>\n",
              "      <td>16</td>\n",
              "      <td>1.000000</td>\n",
              "      <td>0.000358</td>\n",
              "      <td>0.026611</td>\n",
              "      <td>1.000000</td>\n",
              "      <td>0.019298</td>\n",
              "      <td>0.025161</td>\n",
              "      <td>0.725189</td>\n",
              "      <td>0.733811</td>\n",
              "      <td>0.002661</td>\n",
              "      <td>1.000000</td>\n",
              "      <td>-97.338865</td>\n",
              "      <td>0.000000</td>\n",
              "      <td>0.000000</td>\n",
              "    </tr>\n",
              "  </tbody>\n",
              "</table>\n",
              "</div>"
            ],
            "text/plain": [
              "    group  cumulative_data_fraction  ...  cumulative_gain  kolmogorov_smirnov\n",
              "0       1                  0.010001  ...        37.895161            0.013790\n",
              "1       2                  0.020001  ...        37.895161            0.027581\n",
              "2       3                  0.030002  ...        37.895161            0.041371\n",
              "3       4                  0.040002  ...        37.895161            0.055161\n",
              "4       5                  0.050003  ...        37.733880            0.068658\n",
              "5       6                  0.100006  ...        37.653240            0.137023\n",
              "6       7                  0.150009  ...        37.626360            0.205388\n",
              "7       8                  0.200012  ...        37.491959            0.272872\n",
              "8       9                  0.300018  ...        37.088757            0.404906\n",
              "9      10                  0.400023  ...        36.262192            0.527843\n",
              "10     11                  0.500029  ...        34.959849            0.636107\n",
              "11     12                  0.599977  ...        32.679904            0.713478\n",
              "12     13                  0.699982  ...        28.494004            0.725782\n",
              "13     14                  0.799988  ...        21.120722            0.614834\n",
              "14     15                  0.899994  ...        10.816132            0.354223\n",
              "15     16                  1.000000  ...         0.000000            0.000000\n",
              "\n",
              "[16 rows x 14 columns]"
            ]
          },
          "metadata": {
            "tags": []
          }
        },
        {
          "output_type": "stream",
          "text": [
            "\n",
            "\n",
            "Scoring History: \n"
          ],
          "name": "stdout"
        },
        {
          "output_type": "display_data",
          "data": {
            "text/html": [
              "<div>\n",
              "<style scoped>\n",
              "    .dataframe tbody tr th:only-of-type {\n",
              "        vertical-align: middle;\n",
              "    }\n",
              "\n",
              "    .dataframe tbody tr th {\n",
              "        vertical-align: top;\n",
              "    }\n",
              "\n",
              "    .dataframe thead th {\n",
              "        text-align: right;\n",
              "    }\n",
              "</style>\n",
              "<table border=\"1\" class=\"dataframe\">\n",
              "  <thead>\n",
              "    <tr style=\"text-align: right;\">\n",
              "      <th></th>\n",
              "      <th></th>\n",
              "      <th>timestamp</th>\n",
              "      <th>duration</th>\n",
              "      <th>number_of_trees</th>\n",
              "      <th>training_rmse</th>\n",
              "      <th>training_logloss</th>\n",
              "      <th>training_auc</th>\n",
              "      <th>training_pr_auc</th>\n",
              "      <th>training_lift</th>\n",
              "      <th>training_classification_error</th>\n",
              "      <th>validation_rmse</th>\n",
              "      <th>validation_logloss</th>\n",
              "      <th>validation_auc</th>\n",
              "      <th>validation_pr_auc</th>\n",
              "      <th>validation_lift</th>\n",
              "      <th>validation_classification_error</th>\n",
              "    </tr>\n",
              "  </thead>\n",
              "  <tbody>\n",
              "    <tr>\n",
              "      <th>0</th>\n",
              "      <td></td>\n",
              "      <td>2020-09-02 03:10:40</td>\n",
              "      <td>12 min 45.784 sec</td>\n",
              "      <td>0.0</td>\n",
              "      <td>0.444931</td>\n",
              "      <td>0.585125</td>\n",
              "      <td>0.500000</td>\n",
              "      <td>0.728115</td>\n",
              "      <td>1.000000</td>\n",
              "      <td>0.271885</td>\n",
              "      <td>0.446429</td>\n",
              "      <td>0.588007</td>\n",
              "      <td>0.500000</td>\n",
              "      <td>0.725189</td>\n",
              "      <td>1.000000</td>\n",
              "      <td>0.274811</td>\n",
              "    </tr>\n",
              "    <tr>\n",
              "      <th>1</th>\n",
              "      <td></td>\n",
              "      <td>2020-09-02 03:10:42</td>\n",
              "      <td>12 min 46.893 sec</td>\n",
              "      <td>1.0</td>\n",
              "      <td>0.429862</td>\n",
              "      <td>0.552970</td>\n",
              "      <td>0.841734</td>\n",
              "      <td>0.928277</td>\n",
              "      <td>1.360520</td>\n",
              "      <td>0.184097</td>\n",
              "      <td>0.431633</td>\n",
              "      <td>0.556334</td>\n",
              "      <td>0.834532</td>\n",
              "      <td>0.923603</td>\n",
              "      <td>1.363162</td>\n",
              "      <td>0.187321</td>\n",
              "    </tr>\n",
              "    <tr>\n",
              "      <th>2</th>\n",
              "      <td></td>\n",
              "      <td>2020-09-02 03:10:43</td>\n",
              "      <td>12 min 47.851 sec</td>\n",
              "      <td>2.0</td>\n",
              "      <td>0.417234</td>\n",
              "      <td>0.527898</td>\n",
              "      <td>0.856608</td>\n",
              "      <td>0.935723</td>\n",
              "      <td>1.362945</td>\n",
              "      <td>0.177521</td>\n",
              "      <td>0.419350</td>\n",
              "      <td>0.531838</td>\n",
              "      <td>0.848690</td>\n",
              "      <td>0.931238</td>\n",
              "      <td>1.368054</td>\n",
              "      <td>0.183110</td>\n",
              "    </tr>\n",
              "    <tr>\n",
              "      <th>3</th>\n",
              "      <td></td>\n",
              "      <td>2020-09-02 03:10:44</td>\n",
              "      <td>12 min 48.815 sec</td>\n",
              "      <td>3.0</td>\n",
              "      <td>0.406035</td>\n",
              "      <td>0.506448</td>\n",
              "      <td>0.870305</td>\n",
              "      <td>0.943199</td>\n",
              "      <td>1.368932</td>\n",
              "      <td>0.171249</td>\n",
              "      <td>0.408281</td>\n",
              "      <td>0.510477</td>\n",
              "      <td>0.864604</td>\n",
              "      <td>0.940101</td>\n",
              "      <td>1.375743</td>\n",
              "      <td>0.175683</td>\n",
              "    </tr>\n",
              "    <tr>\n",
              "      <th>4</th>\n",
              "      <td></td>\n",
              "      <td>2020-09-02 03:10:48</td>\n",
              "      <td>12 min 53.471 sec</td>\n",
              "      <td>8.0</td>\n",
              "      <td>0.366748</td>\n",
              "      <td>0.433067</td>\n",
              "      <td>0.897740</td>\n",
              "      <td>0.955974</td>\n",
              "      <td>1.371909</td>\n",
              "      <td>0.155048</td>\n",
              "      <td>0.370491</td>\n",
              "      <td>0.439203</td>\n",
              "      <td>0.890797</td>\n",
              "      <td>0.952444</td>\n",
              "      <td>1.374560</td>\n",
              "      <td>0.161939</td>\n",
              "    </tr>\n",
              "    <tr>\n",
              "      <th>5</th>\n",
              "      <td></td>\n",
              "      <td>2020-09-02 03:10:53</td>\n",
              "      <td>12 min 57.957 sec</td>\n",
              "      <td>13.0</td>\n",
              "      <td>0.343187</td>\n",
              "      <td>0.388630</td>\n",
              "      <td>0.912674</td>\n",
              "      <td>0.962785</td>\n",
              "      <td>1.371743</td>\n",
              "      <td>0.140922</td>\n",
              "      <td>0.348871</td>\n",
              "      <td>0.397658</td>\n",
              "      <td>0.903395</td>\n",
              "      <td>0.958122</td>\n",
              "      <td>0.000000</td>\n",
              "      <td>0.149775</td>\n",
              "    </tr>\n",
              "    <tr>\n",
              "      <th>6</th>\n",
              "      <td></td>\n",
              "      <td>2020-09-02 03:10:57</td>\n",
              "      <td>13 min  2.398 sec</td>\n",
              "      <td>18.0</td>\n",
              "      <td>0.327416</td>\n",
              "      <td>0.357742</td>\n",
              "      <td>0.921727</td>\n",
              "      <td>0.966914</td>\n",
              "      <td>1.371729</td>\n",
              "      <td>0.132633</td>\n",
              "      <td>0.335389</td>\n",
              "      <td>0.370039</td>\n",
              "      <td>0.910495</td>\n",
              "      <td>0.961589</td>\n",
              "      <td>1.378952</td>\n",
              "      <td>0.144745</td>\n",
              "    </tr>\n",
              "    <tr>\n",
              "      <th>7</th>\n",
              "      <td></td>\n",
              "      <td>2020-09-02 03:11:02</td>\n",
              "      <td>13 min  6.822 sec</td>\n",
              "      <td>23.0</td>\n",
              "      <td>0.316127</td>\n",
              "      <td>0.335791</td>\n",
              "      <td>0.929235</td>\n",
              "      <td>0.970361</td>\n",
              "      <td>1.371622</td>\n",
              "      <td>0.125693</td>\n",
              "      <td>0.326314</td>\n",
              "      <td>0.351486</td>\n",
              "      <td>0.915984</td>\n",
              "      <td>0.964033</td>\n",
              "      <td>1.378952</td>\n",
              "      <td>0.138195</td>\n",
              "    </tr>\n",
              "    <tr>\n",
              "      <th>8</th>\n",
              "      <td></td>\n",
              "      <td>2020-09-02 03:11:06</td>\n",
              "      <td>13 min 11.332 sec</td>\n",
              "      <td>28.0</td>\n",
              "      <td>0.307277</td>\n",
              "      <td>0.318249</td>\n",
              "      <td>0.934841</td>\n",
              "      <td>0.972909</td>\n",
              "      <td>1.373410</td>\n",
              "      <td>0.120235</td>\n",
              "      <td>0.319345</td>\n",
              "      <td>0.336732</td>\n",
              "      <td>0.920264</td>\n",
              "      <td>0.965950</td>\n",
              "      <td>1.378952</td>\n",
              "      <td>0.135037</td>\n",
              "    </tr>\n",
              "    <tr>\n",
              "      <th>9</th>\n",
              "      <td></td>\n",
              "      <td>2020-09-02 03:11:11</td>\n",
              "      <td>13 min 15.884 sec</td>\n",
              "      <td>33.0</td>\n",
              "      <td>0.300034</td>\n",
              "      <td>0.304196</td>\n",
              "      <td>0.939392</td>\n",
              "      <td>0.974875</td>\n",
              "      <td>1.373410</td>\n",
              "      <td>0.116126</td>\n",
              "      <td>0.314366</td>\n",
              "      <td>0.326114</td>\n",
              "      <td>0.922908</td>\n",
              "      <td>0.967008</td>\n",
              "      <td>1.378952</td>\n",
              "      <td>0.132932</td>\n",
              "    </tr>\n",
              "    <tr>\n",
              "      <th>10</th>\n",
              "      <td></td>\n",
              "      <td>2020-09-02 03:11:15</td>\n",
              "      <td>13 min 20.351 sec</td>\n",
              "      <td>38.0</td>\n",
              "      <td>0.293971</td>\n",
              "      <td>0.292792</td>\n",
              "      <td>0.943373</td>\n",
              "      <td>0.976642</td>\n",
              "      <td>1.373410</td>\n",
              "      <td>0.110929</td>\n",
              "      <td>0.310381</td>\n",
              "      <td>0.317793</td>\n",
              "      <td>0.925511</td>\n",
              "      <td>0.968181</td>\n",
              "      <td>1.378952</td>\n",
              "      <td>0.129013</td>\n",
              "    </tr>\n",
              "    <tr>\n",
              "      <th>11</th>\n",
              "      <td></td>\n",
              "      <td>2020-09-02 03:11:19</td>\n",
              "      <td>13 min 24.784 sec</td>\n",
              "      <td>43.0</td>\n",
              "      <td>0.288755</td>\n",
              "      <td>0.282905</td>\n",
              "      <td>0.946631</td>\n",
              "      <td>0.978042</td>\n",
              "      <td>1.373410</td>\n",
              "      <td>0.108011</td>\n",
              "      <td>0.306922</td>\n",
              "      <td>0.310530</td>\n",
              "      <td>0.927666</td>\n",
              "      <td>0.969081</td>\n",
              "      <td>1.378952</td>\n",
              "      <td>0.128312</td>\n",
              "    </tr>\n",
              "    <tr>\n",
              "      <th>12</th>\n",
              "      <td></td>\n",
              "      <td>2020-09-02 03:11:24</td>\n",
              "      <td>13 min 29.266 sec</td>\n",
              "      <td>48.0</td>\n",
              "      <td>0.284238</td>\n",
              "      <td>0.274627</td>\n",
              "      <td>0.949269</td>\n",
              "      <td>0.979140</td>\n",
              "      <td>1.373410</td>\n",
              "      <td>0.104396</td>\n",
              "      <td>0.304317</td>\n",
              "      <td>0.304986</td>\n",
              "      <td>0.929347</td>\n",
              "      <td>0.969835</td>\n",
              "      <td>1.378952</td>\n",
              "      <td>0.126850</td>\n",
              "    </tr>\n",
              "    <tr>\n",
              "      <th>13</th>\n",
              "      <td></td>\n",
              "      <td>2020-09-02 03:11:28</td>\n",
              "      <td>13 min 33.668 sec</td>\n",
              "      <td>53.0</td>\n",
              "      <td>0.279768</td>\n",
              "      <td>0.266771</td>\n",
              "      <td>0.952068</td>\n",
              "      <td>0.980307</td>\n",
              "      <td>1.373410</td>\n",
              "      <td>0.101942</td>\n",
              "      <td>0.302175</td>\n",
              "      <td>0.300437</td>\n",
              "      <td>0.930694</td>\n",
              "      <td>0.970355</td>\n",
              "      <td>1.378952</td>\n",
              "      <td>0.124978</td>\n",
              "    </tr>\n",
              "    <tr>\n",
              "      <th>14</th>\n",
              "      <td></td>\n",
              "      <td>2020-09-02 03:11:33</td>\n",
              "      <td>13 min 38.048 sec</td>\n",
              "      <td>58.0</td>\n",
              "      <td>0.275921</td>\n",
              "      <td>0.260004</td>\n",
              "      <td>0.954491</td>\n",
              "      <td>0.981339</td>\n",
              "      <td>1.373410</td>\n",
              "      <td>0.098908</td>\n",
              "      <td>0.300264</td>\n",
              "      <td>0.296381</td>\n",
              "      <td>0.932043</td>\n",
              "      <td>0.970985</td>\n",
              "      <td>1.378952</td>\n",
              "      <td>0.122814</td>\n",
              "    </tr>\n",
              "    <tr>\n",
              "      <th>15</th>\n",
              "      <td></td>\n",
              "      <td>2020-09-02 03:11:37</td>\n",
              "      <td>13 min 42.450 sec</td>\n",
              "      <td>63.0</td>\n",
              "      <td>0.272651</td>\n",
              "      <td>0.254261</td>\n",
              "      <td>0.956436</td>\n",
              "      <td>0.982176</td>\n",
              "      <td>1.373410</td>\n",
              "      <td>0.096644</td>\n",
              "      <td>0.298833</td>\n",
              "      <td>0.293183</td>\n",
              "      <td>0.933072</td>\n",
              "      <td>0.971515</td>\n",
              "      <td>1.378952</td>\n",
              "      <td>0.121878</td>\n",
              "    </tr>\n",
              "    <tr>\n",
              "      <th>16</th>\n",
              "      <td></td>\n",
              "      <td>2020-09-02 03:11:42</td>\n",
              "      <td>13 min 46.869 sec</td>\n",
              "      <td>68.0</td>\n",
              "      <td>0.269300</td>\n",
              "      <td>0.248486</td>\n",
              "      <td>0.958363</td>\n",
              "      <td>0.983023</td>\n",
              "      <td>1.373410</td>\n",
              "      <td>0.093246</td>\n",
              "      <td>0.297442</td>\n",
              "      <td>0.290112</td>\n",
              "      <td>0.933988</td>\n",
              "      <td>0.971936</td>\n",
              "      <td>1.378952</td>\n",
              "      <td>0.120709</td>\n",
              "    </tr>\n",
              "    <tr>\n",
              "      <th>17</th>\n",
              "      <td></td>\n",
              "      <td>2020-09-02 03:11:46</td>\n",
              "      <td>13 min 51.307 sec</td>\n",
              "      <td>73.0</td>\n",
              "      <td>0.266177</td>\n",
              "      <td>0.243319</td>\n",
              "      <td>0.960154</td>\n",
              "      <td>0.983770</td>\n",
              "      <td>1.373410</td>\n",
              "      <td>0.090677</td>\n",
              "      <td>0.296211</td>\n",
              "      <td>0.287543</td>\n",
              "      <td>0.934835</td>\n",
              "      <td>0.972321</td>\n",
              "      <td>1.378952</td>\n",
              "      <td>0.120007</td>\n",
              "    </tr>\n",
              "    <tr>\n",
              "      <th>18</th>\n",
              "      <td></td>\n",
              "      <td>2020-09-02 03:11:50</td>\n",
              "      <td>13 min 55.713 sec</td>\n",
              "      <td>78.0</td>\n",
              "      <td>0.263485</td>\n",
              "      <td>0.238941</td>\n",
              "      <td>0.961588</td>\n",
              "      <td>0.984351</td>\n",
              "      <td>1.373410</td>\n",
              "      <td>0.088949</td>\n",
              "      <td>0.295258</td>\n",
              "      <td>0.285469</td>\n",
              "      <td>0.935582</td>\n",
              "      <td>0.972682</td>\n",
              "      <td>1.378952</td>\n",
              "      <td>0.119832</td>\n",
              "    </tr>\n",
              "    <tr>\n",
              "      <th>19</th>\n",
              "      <td></td>\n",
              "      <td>2020-09-02 03:11:54</td>\n",
              "      <td>13 min 59.785 sec</td>\n",
              "      <td>81.0</td>\n",
              "      <td>0.261768</td>\n",
              "      <td>0.236112</td>\n",
              "      <td>0.962583</td>\n",
              "      <td>0.984769</td>\n",
              "      <td>1.373410</td>\n",
              "      <td>0.087396</td>\n",
              "      <td>0.294768</td>\n",
              "      <td>0.284295</td>\n",
              "      <td>0.936008</td>\n",
              "      <td>0.972899</td>\n",
              "      <td>1.378952</td>\n",
              "      <td>0.118603</td>\n",
              "    </tr>\n",
              "  </tbody>\n",
              "</table>\n",
              "</div>"
            ],
            "text/plain": [
              "                timestamp  ... validation_lift  validation_classification_error\n",
              "0     2020-09-02 03:10:40  ...        1.000000                         0.274811\n",
              "1     2020-09-02 03:10:42  ...        1.363162                         0.187321\n",
              "2     2020-09-02 03:10:43  ...        1.368054                         0.183110\n",
              "3     2020-09-02 03:10:44  ...        1.375743                         0.175683\n",
              "4     2020-09-02 03:10:48  ...        1.374560                         0.161939\n",
              "5     2020-09-02 03:10:53  ...        0.000000                         0.149775\n",
              "6     2020-09-02 03:10:57  ...        1.378952                         0.144745\n",
              "7     2020-09-02 03:11:02  ...        1.378952                         0.138195\n",
              "8     2020-09-02 03:11:06  ...        1.378952                         0.135037\n",
              "9     2020-09-02 03:11:11  ...        1.378952                         0.132932\n",
              "10    2020-09-02 03:11:15  ...        1.378952                         0.129013\n",
              "11    2020-09-02 03:11:19  ...        1.378952                         0.128312\n",
              "12    2020-09-02 03:11:24  ...        1.378952                         0.126850\n",
              "13    2020-09-02 03:11:28  ...        1.378952                         0.124978\n",
              "14    2020-09-02 03:11:33  ...        1.378952                         0.122814\n",
              "15    2020-09-02 03:11:37  ...        1.378952                         0.121878\n",
              "16    2020-09-02 03:11:42  ...        1.378952                         0.120709\n",
              "17    2020-09-02 03:11:46  ...        1.378952                         0.120007\n",
              "18    2020-09-02 03:11:50  ...        1.378952                         0.119832\n",
              "19    2020-09-02 03:11:54  ...        1.378952                         0.118603\n",
              "\n",
              "[20 rows x 16 columns]"
            ]
          },
          "metadata": {
            "tags": []
          }
        },
        {
          "output_type": "stream",
          "text": [
            "\n",
            "See the whole table with table.as_data_frame()\n",
            "\n",
            "Variable Importances: \n"
          ],
          "name": "stdout"
        },
        {
          "output_type": "display_data",
          "data": {
            "text/html": [
              "<div>\n",
              "<style scoped>\n",
              "    .dataframe tbody tr th:only-of-type {\n",
              "        vertical-align: middle;\n",
              "    }\n",
              "\n",
              "    .dataframe tbody tr th {\n",
              "        vertical-align: top;\n",
              "    }\n",
              "\n",
              "    .dataframe thead th {\n",
              "        text-align: right;\n",
              "    }\n",
              "</style>\n",
              "<table border=\"1\" class=\"dataframe\">\n",
              "  <thead>\n",
              "    <tr style=\"text-align: right;\">\n",
              "      <th></th>\n",
              "      <th>variable</th>\n",
              "      <th>relative_importance</th>\n",
              "      <th>scaled_importance</th>\n",
              "      <th>percentage</th>\n",
              "    </tr>\n",
              "  </thead>\n",
              "  <tbody>\n",
              "    <tr>\n",
              "      <th>0</th>\n",
              "      <td>headline_C78</td>\n",
              "      <td>5631.046387</td>\n",
              "      <td>1.000000</td>\n",
              "      <td>0.109806</td>\n",
              "    </tr>\n",
              "    <tr>\n",
              "      <th>1</th>\n",
              "      <td>headline_C76</td>\n",
              "      <td>3445.910889</td>\n",
              "      <td>0.611949</td>\n",
              "      <td>0.067196</td>\n",
              "    </tr>\n",
              "    <tr>\n",
              "      <th>2</th>\n",
              "      <td>C78</td>\n",
              "      <td>2806.593750</td>\n",
              "      <td>0.498414</td>\n",
              "      <td>0.054729</td>\n",
              "    </tr>\n",
              "    <tr>\n",
              "      <th>3</th>\n",
              "      <td>C76</td>\n",
              "      <td>2395.405273</td>\n",
              "      <td>0.425393</td>\n",
              "      <td>0.046711</td>\n",
              "    </tr>\n",
              "    <tr>\n",
              "      <th>4</th>\n",
              "      <td>C50</td>\n",
              "      <td>1690.873901</td>\n",
              "      <td>0.300277</td>\n",
              "      <td>0.032972</td>\n",
              "    </tr>\n",
              "    <tr>\n",
              "      <th>5</th>\n",
              "      <td>C71</td>\n",
              "      <td>1489.962036</td>\n",
              "      <td>0.264598</td>\n",
              "      <td>0.029055</td>\n",
              "    </tr>\n",
              "    <tr>\n",
              "      <th>6</th>\n",
              "      <td>headline_C50</td>\n",
              "      <td>1489.601807</td>\n",
              "      <td>0.264534</td>\n",
              "      <td>0.029048</td>\n",
              "    </tr>\n",
              "    <tr>\n",
              "      <th>7</th>\n",
              "      <td>headline_C66</td>\n",
              "      <td>1228.479370</td>\n",
              "      <td>0.218162</td>\n",
              "      <td>0.023956</td>\n",
              "    </tr>\n",
              "    <tr>\n",
              "      <th>8</th>\n",
              "      <td>C47</td>\n",
              "      <td>1177.160156</td>\n",
              "      <td>0.209048</td>\n",
              "      <td>0.022955</td>\n",
              "    </tr>\n",
              "    <tr>\n",
              "      <th>9</th>\n",
              "      <td>headline_C71</td>\n",
              "      <td>1115.834717</td>\n",
              "      <td>0.198158</td>\n",
              "      <td>0.021759</td>\n",
              "    </tr>\n",
              "    <tr>\n",
              "      <th>10</th>\n",
              "      <td>headline_C30</td>\n",
              "      <td>1079.838867</td>\n",
              "      <td>0.191765</td>\n",
              "      <td>0.021057</td>\n",
              "    </tr>\n",
              "    <tr>\n",
              "      <th>11</th>\n",
              "      <td>headline_C28</td>\n",
              "      <td>990.883118</td>\n",
              "      <td>0.175968</td>\n",
              "      <td>0.019322</td>\n",
              "    </tr>\n",
              "    <tr>\n",
              "      <th>12</th>\n",
              "      <td>headline_C47</td>\n",
              "      <td>892.785828</td>\n",
              "      <td>0.158547</td>\n",
              "      <td>0.017409</td>\n",
              "    </tr>\n",
              "    <tr>\n",
              "      <th>13</th>\n",
              "      <td>headline_C23</td>\n",
              "      <td>885.536011</td>\n",
              "      <td>0.157260</td>\n",
              "      <td>0.017268</td>\n",
              "    </tr>\n",
              "    <tr>\n",
              "      <th>14</th>\n",
              "      <td>C35</td>\n",
              "      <td>765.133606</td>\n",
              "      <td>0.135878</td>\n",
              "      <td>0.014920</td>\n",
              "    </tr>\n",
              "    <tr>\n",
              "      <th>15</th>\n",
              "      <td>headline_C52</td>\n",
              "      <td>750.739014</td>\n",
              "      <td>0.133321</td>\n",
              "      <td>0.014640</td>\n",
              "    </tr>\n",
              "    <tr>\n",
              "      <th>16</th>\n",
              "      <td>headline_C35</td>\n",
              "      <td>727.575562</td>\n",
              "      <td>0.129208</td>\n",
              "      <td>0.014188</td>\n",
              "    </tr>\n",
              "    <tr>\n",
              "      <th>17</th>\n",
              "      <td>headline_C89</td>\n",
              "      <td>719.180115</td>\n",
              "      <td>0.127717</td>\n",
              "      <td>0.014024</td>\n",
              "    </tr>\n",
              "    <tr>\n",
              "      <th>18</th>\n",
              "      <td>headline_C97</td>\n",
              "      <td>695.696899</td>\n",
              "      <td>0.123547</td>\n",
              "      <td>0.013566</td>\n",
              "    </tr>\n",
              "    <tr>\n",
              "      <th>19</th>\n",
              "      <td>C66</td>\n",
              "      <td>688.161194</td>\n",
              "      <td>0.122208</td>\n",
              "      <td>0.013419</td>\n",
              "    </tr>\n",
              "  </tbody>\n",
              "</table>\n",
              "</div>"
            ],
            "text/plain": [
              "        variable  relative_importance  scaled_importance  percentage\n",
              "0   headline_C78          5631.046387           1.000000    0.109806\n",
              "1   headline_C76          3445.910889           0.611949    0.067196\n",
              "2            C78          2806.593750           0.498414    0.054729\n",
              "3            C76          2395.405273           0.425393    0.046711\n",
              "4            C50          1690.873901           0.300277    0.032972\n",
              "5            C71          1489.962036           0.264598    0.029055\n",
              "6   headline_C50          1489.601807           0.264534    0.029048\n",
              "7   headline_C66          1228.479370           0.218162    0.023956\n",
              "8            C47          1177.160156           0.209048    0.022955\n",
              "9   headline_C71          1115.834717           0.198158    0.021759\n",
              "10  headline_C30          1079.838867           0.191765    0.021057\n",
              "11  headline_C28           990.883118           0.175968    0.019322\n",
              "12  headline_C47           892.785828           0.158547    0.017409\n",
              "13  headline_C23           885.536011           0.157260    0.017268\n",
              "14           C35           765.133606           0.135878    0.014920\n",
              "15  headline_C52           750.739014           0.133321    0.014640\n",
              "16  headline_C35           727.575562           0.129208    0.014188\n",
              "17  headline_C89           719.180115           0.127717    0.014024\n",
              "18  headline_C97           695.696899           0.123547    0.013566\n",
              "19           C66           688.161194           0.122208    0.013419"
            ]
          },
          "metadata": {
            "tags": []
          }
        },
        {
          "output_type": "stream",
          "text": [
            "\n",
            "See the whole table with table.as_data_frame()\n",
            "\n"
          ],
          "name": "stdout"
        }
      ]
    },
    {
      "cell_type": "markdown",
      "metadata": {
        "id": "c6AHHTmTseLi",
        "colab_type": "text"
      },
      "source": [
        "Saving Trained model:"
      ]
    },
    {
      "cell_type": "code",
      "metadata": {
        "id": "YxJB5ecVs3Qb",
        "colab_type": "code",
        "colab": {
          "base_uri": "https://localhost:8080/",
          "height": 36
        },
        "outputId": "51d20e70-d9e7-459c-f268-c93f98f3fdf5"
      },
      "source": [
        "h2o.save_model(gbm_two_cols)"
      ],
      "execution_count": 63,
      "outputs": [
        {
          "output_type": "execute_result",
          "data": {
            "application/vnd.google.colaboratory.intrinsic+json": {
              "type": "string"
            },
            "text/plain": [
              "'/content/GBM_model_python_1599014842879_27'"
            ]
          },
          "metadata": {
            "tags": []
          },
          "execution_count": 63
        }
      ]
    },
    {
      "cell_type": "markdown",
      "metadata": {
        "id": "6QSt1AwF4qV1",
        "colab_type": "text"
      },
      "source": [
        "Model Interpretation"
      ]
    },
    {
      "cell_type": "markdown",
      "metadata": {
        "id": "QMM-hTOnCFs9",
        "colab_type": "text"
      },
      "source": [
        "Headline_C78 vector contributes more in Star Rating"
      ]
    },
    {
      "cell_type": "code",
      "metadata": {
        "id": "fbZxbaYp3QsC",
        "colab_type": "code",
        "colab": {
          "base_uri": "https://localhost:8080/",
          "height": 1000
        },
        "outputId": "df6fae4b-74ce-4d78-9188-c5dcfae343a9"
      },
      "source": [
        "gbm_two_cols.partial_plot(data=h2o_df_ext, cols =['headline_C78'])"
      ],
      "execution_count": 66,
      "outputs": [
        {
          "output_type": "stream",
          "text": [
            "PartialDependencePlot progress: |█████████████████████████████████████████| 100%\n"
          ],
          "name": "stdout"
        },
        {
          "output_type": "stream",
          "text": [
            "/usr/local/lib/python3.6/dist-packages/h2o/model/model_base.py:1365: MatplotlibDeprecationWarning: The parameter where must have the same size as x in fill_between(). This will become an error in future versions of Matplotlib.\n",
            "  axs.fill_between(x, lower, upper, where=lower < upper, alpha=0.1, interpolate=False)\n"
          ],
          "name": "stderr"
        },
        {
          "output_type": "stream",
          "text": [
            "\n",
            "PartialDependence: Partial Dependence Plot of model GBM_model_python_1599014842879_27 on column 'headline_C78'.\n"
          ],
          "name": "stdout"
        },
        {
          "output_type": "display_data",
          "data": {
            "text/html": [
              "<div>\n",
              "<style scoped>\n",
              "    .dataframe tbody tr th:only-of-type {\n",
              "        vertical-align: middle;\n",
              "    }\n",
              "\n",
              "    .dataframe tbody tr th {\n",
              "        vertical-align: top;\n",
              "    }\n",
              "\n",
              "    .dataframe thead th {\n",
              "        text-align: right;\n",
              "    }\n",
              "</style>\n",
              "<table border=\"1\" class=\"dataframe\">\n",
              "  <thead>\n",
              "    <tr style=\"text-align: right;\">\n",
              "      <th></th>\n",
              "      <th>headline_c78</th>\n",
              "      <th>mean_response</th>\n",
              "      <th>stddev_response</th>\n",
              "      <th>std_error_mean_response</th>\n",
              "    </tr>\n",
              "  </thead>\n",
              "  <tbody>\n",
              "    <tr>\n",
              "      <th>0</th>\n",
              "      <td>-0.993536</td>\n",
              "      <td>0.667687</td>\n",
              "      <td>0.274901</td>\n",
              "      <td>0.000938</td>\n",
              "    </tr>\n",
              "    <tr>\n",
              "      <th>1</th>\n",
              "      <td>-0.878862</td>\n",
              "      <td>0.667687</td>\n",
              "      <td>0.274901</td>\n",
              "      <td>0.000938</td>\n",
              "    </tr>\n",
              "    <tr>\n",
              "      <th>2</th>\n",
              "      <td>-0.764188</td>\n",
              "      <td>0.667687</td>\n",
              "      <td>0.274901</td>\n",
              "      <td>0.000938</td>\n",
              "    </tr>\n",
              "    <tr>\n",
              "      <th>3</th>\n",
              "      <td>-0.649514</td>\n",
              "      <td>0.667687</td>\n",
              "      <td>0.274901</td>\n",
              "      <td>0.000938</td>\n",
              "    </tr>\n",
              "    <tr>\n",
              "      <th>4</th>\n",
              "      <td>-0.534840</td>\n",
              "      <td>0.667687</td>\n",
              "      <td>0.274901</td>\n",
              "      <td>0.000938</td>\n",
              "    </tr>\n",
              "    <tr>\n",
              "      <th>5</th>\n",
              "      <td>-0.420166</td>\n",
              "      <td>0.667687</td>\n",
              "      <td>0.274901</td>\n",
              "      <td>0.000938</td>\n",
              "    </tr>\n",
              "    <tr>\n",
              "      <th>6</th>\n",
              "      <td>-0.305492</td>\n",
              "      <td>0.667687</td>\n",
              "      <td>0.274901</td>\n",
              "      <td>0.000938</td>\n",
              "    </tr>\n",
              "    <tr>\n",
              "      <th>7</th>\n",
              "      <td>-0.190818</td>\n",
              "      <td>0.668525</td>\n",
              "      <td>0.275116</td>\n",
              "      <td>0.000938</td>\n",
              "    </tr>\n",
              "    <tr>\n",
              "      <th>8</th>\n",
              "      <td>-0.076144</td>\n",
              "      <td>0.674342</td>\n",
              "      <td>0.275871</td>\n",
              "      <td>0.000941</td>\n",
              "    </tr>\n",
              "    <tr>\n",
              "      <th>9</th>\n",
              "      <td>0.038529</td>\n",
              "      <td>0.741518</td>\n",
              "      <td>0.260157</td>\n",
              "      <td>0.000887</td>\n",
              "    </tr>\n",
              "    <tr>\n",
              "      <th>10</th>\n",
              "      <td>0.153203</td>\n",
              "      <td>0.752720</td>\n",
              "      <td>0.251499</td>\n",
              "      <td>0.000858</td>\n",
              "    </tr>\n",
              "    <tr>\n",
              "      <th>11</th>\n",
              "      <td>0.267877</td>\n",
              "      <td>0.754097</td>\n",
              "      <td>0.250199</td>\n",
              "      <td>0.000853</td>\n",
              "    </tr>\n",
              "    <tr>\n",
              "      <th>12</th>\n",
              "      <td>0.382551</td>\n",
              "      <td>0.754097</td>\n",
              "      <td>0.250199</td>\n",
              "      <td>0.000853</td>\n",
              "    </tr>\n",
              "    <tr>\n",
              "      <th>13</th>\n",
              "      <td>0.497225</td>\n",
              "      <td>0.754097</td>\n",
              "      <td>0.250199</td>\n",
              "      <td>0.000853</td>\n",
              "    </tr>\n",
              "    <tr>\n",
              "      <th>14</th>\n",
              "      <td>0.611899</td>\n",
              "      <td>0.754097</td>\n",
              "      <td>0.250199</td>\n",
              "      <td>0.000853</td>\n",
              "    </tr>\n",
              "    <tr>\n",
              "      <th>15</th>\n",
              "      <td>0.726573</td>\n",
              "      <td>0.754097</td>\n",
              "      <td>0.250199</td>\n",
              "      <td>0.000853</td>\n",
              "    </tr>\n",
              "    <tr>\n",
              "      <th>16</th>\n",
              "      <td>0.841247</td>\n",
              "      <td>0.754097</td>\n",
              "      <td>0.250199</td>\n",
              "      <td>0.000853</td>\n",
              "    </tr>\n",
              "    <tr>\n",
              "      <th>17</th>\n",
              "      <td>0.955921</td>\n",
              "      <td>0.754097</td>\n",
              "      <td>0.250199</td>\n",
              "      <td>0.000853</td>\n",
              "    </tr>\n",
              "    <tr>\n",
              "      <th>18</th>\n",
              "      <td>1.070595</td>\n",
              "      <td>0.754097</td>\n",
              "      <td>0.250199</td>\n",
              "      <td>0.000853</td>\n",
              "    </tr>\n",
              "    <tr>\n",
              "      <th>19</th>\n",
              "      <td>1.185269</td>\n",
              "      <td>0.754097</td>\n",
              "      <td>0.250199</td>\n",
              "      <td>0.000853</td>\n",
              "    </tr>\n",
              "  </tbody>\n",
              "</table>\n",
              "</div>"
            ],
            "text/plain": [
              "    headline_c78  mean_response  stddev_response  std_error_mean_response\n",
              "0      -0.993536       0.667687         0.274901                 0.000938\n",
              "1      -0.878862       0.667687         0.274901                 0.000938\n",
              "2      -0.764188       0.667687         0.274901                 0.000938\n",
              "3      -0.649514       0.667687         0.274901                 0.000938\n",
              "4      -0.534840       0.667687         0.274901                 0.000938\n",
              "5      -0.420166       0.667687         0.274901                 0.000938\n",
              "6      -0.305492       0.667687         0.274901                 0.000938\n",
              "7      -0.190818       0.668525         0.275116                 0.000938\n",
              "8      -0.076144       0.674342         0.275871                 0.000941\n",
              "9       0.038529       0.741518         0.260157                 0.000887\n",
              "10      0.153203       0.752720         0.251499                 0.000858\n",
              "11      0.267877       0.754097         0.250199                 0.000853\n",
              "12      0.382551       0.754097         0.250199                 0.000853\n",
              "13      0.497225       0.754097         0.250199                 0.000853\n",
              "14      0.611899       0.754097         0.250199                 0.000853\n",
              "15      0.726573       0.754097         0.250199                 0.000853\n",
              "16      0.841247       0.754097         0.250199                 0.000853\n",
              "17      0.955921       0.754097         0.250199                 0.000853\n",
              "18      1.070595       0.754097         0.250199                 0.000853\n",
              "19      1.185269       0.754097         0.250199                 0.000853"
            ]
          },
          "metadata": {
            "tags": []
          }
        },
        {
          "output_type": "execute_result",
          "data": {
            "text/plain": [
              "[]"
            ]
          },
          "metadata": {
            "tags": []
          },
          "execution_count": 66
        },
        {
          "output_type": "display_data",
          "data": {
            "image/png": "[encoded data removed]",
            "text/plain": [
              "<Figure size 504x720 with 1 Axes>"
            ]
          },
          "metadata": {
            "tags": [],
            "needs_background": "light"
          }
        }
      ]
    },
    {
      "cell_type": "markdown",
      "metadata": {
        "id": "nhyxZdUYCcid",
        "colab_type": "text"
      },
      "source": [
        "Partial Plot tells probaility of each words contributes to target classes. As you see vectors representation starting from -0.75 till 0.25 contributes to low rating and it shifts to high rating when word vec represenation more than 0.05"
      ]
    },
    {
      "cell_type": "markdown",
      "metadata": {
        "id": "hwrYsBT1DN5o",
        "colab_type": "text"
      },
      "source": [
        "We will find what are the words in Headline_C78."
      ]
    },
    {
      "cell_type": "code",
      "metadata": {
        "id": "2zPH2mAq5lhQ",
        "colab_type": "code",
        "colab": {}
      },
      "source": [
        "unique_words= words_headline.asfactor().unique().ascharacter()"
      ],
      "execution_count": 68,
      "outputs": []
    },
    {
      "cell_type": "code",
      "metadata": {
        "id": "lyxMWMiS55ko",
        "colab_type": "code",
        "colab": {}
      },
      "source": [
        "unique_words.col_names= ['word']\n",
        "word_embeddings = vec_model.transform(unique_words, aggregate_method=\"NONE\")\n",
        "word_embeddings = unique_words.cbind(word_embeddings)\n",
        "word_embeddings = word_embeddings[~(word_embeddings['C1'].isna())]"
      ],
      "execution_count": 81,
      "outputs": []
    },
    {
      "cell_type": "code",
      "metadata": {
        "id": "idC1Qv1h8VJJ",
        "colab_type": "code",
        "colab": {
          "base_uri": "https://localhost:8080/",
          "height": 274
        },
        "outputId": "10ae9f8b-fb7c-4fb0-f996-3cba1952b861"
      },
      "source": [
        "word_embeddings"
      ],
      "execution_count": 82,
      "outputs": [
        {
          "output_type": "display_data",
          "data": {
            "text/html": [
              "<table>\n",
              "<thead>\n",
              "<tr><th style=\"text-align: right;\">  word</th><th style=\"text-align: right;\">        C1</th><th style=\"text-align: right;\">        C2</th><th style=\"text-align: right;\">        C3</th><th style=\"text-align: right;\">         C4</th><th style=\"text-align: right;\">       C5</th><th style=\"text-align: right;\">        C6</th><th style=\"text-align: right;\">        C7</th><th style=\"text-align: right;\">       C8</th><th style=\"text-align: right;\">        C9</th><th style=\"text-align: right;\">        C10</th><th style=\"text-align: right;\">       C11</th><th style=\"text-align: right;\">       C12</th><th style=\"text-align: right;\">       C13</th><th style=\"text-align: right;\">       C14</th><th style=\"text-align: right;\">       C15</th><th style=\"text-align: right;\">         C16</th><th style=\"text-align: right;\">       C17</th><th style=\"text-align: right;\">       C18</th><th style=\"text-align: right;\">       C19</th><th style=\"text-align: right;\">       C20</th><th style=\"text-align: right;\">        C21</th><th style=\"text-align: right;\">        C22</th><th style=\"text-align: right;\">       C23</th><th style=\"text-align: right;\">       C24</th><th style=\"text-align: right;\">       C25</th><th style=\"text-align: right;\">       C26</th><th style=\"text-align: right;\">       C27</th><th style=\"text-align: right;\">      C28</th><th style=\"text-align: right;\">       C29</th><th style=\"text-align: right;\">       C30</th><th style=\"text-align: right;\">       C31</th><th style=\"text-align: right;\">       C32</th><th style=\"text-align: right;\">       C33</th><th style=\"text-align: right;\">       C34</th><th style=\"text-align: right;\">       C35</th><th style=\"text-align: right;\">         C36</th><th style=\"text-align: right;\">       C37</th><th style=\"text-align: right;\">       C38</th><th style=\"text-align: right;\">       C39</th><th style=\"text-align: right;\">       C40</th><th style=\"text-align: right;\">       C41</th><th style=\"text-align: right;\">       C42</th><th style=\"text-align: right;\">       C43</th><th style=\"text-align: right;\">       C44</th><th style=\"text-align: right;\">       C45</th><th style=\"text-align: right;\">        C46</th><th style=\"text-align: right;\">       C47</th><th style=\"text-align: right;\">       C48</th><th style=\"text-align: right;\">       C49</th><th style=\"text-align: right;\">         C50</th><th style=\"text-align: right;\">       C51</th><th style=\"text-align: right;\">       C52</th><th style=\"text-align: right;\">       C53</th><th style=\"text-align: right;\">       C54</th><th style=\"text-align: right;\">         C55</th><th style=\"text-align: right;\">       C56</th><th style=\"text-align: right;\">        C57</th><th style=\"text-align: right;\">       C58</th><th style=\"text-align: right;\">      C59</th><th style=\"text-align: right;\">        C60</th><th style=\"text-align: right;\">       C61</th><th style=\"text-align: right;\">       C62</th><th style=\"text-align: right;\">        C63</th><th style=\"text-align: right;\">     C64</th><th style=\"text-align: right;\">        C65</th><th style=\"text-align: right;\">        C66</th><th style=\"text-align: right;\">        C67</th><th style=\"text-align: right;\">       C68</th><th style=\"text-align: right;\">       C69</th><th style=\"text-align: right;\">         C70</th><th style=\"text-align: right;\">       C71</th><th style=\"text-align: right;\">       C72</th><th style=\"text-align: right;\">        C73</th><th style=\"text-align: right;\">       C74</th><th style=\"text-align: right;\">       C75</th><th style=\"text-align: right;\">       C76</th><th style=\"text-align: right;\">        C77</th><th style=\"text-align: right;\">       C78</th><th style=\"text-align: right;\">       C79</th><th style=\"text-align: right;\">       C80</th><th style=\"text-align: right;\">       C81</th><th style=\"text-align: right;\">        C82</th><th style=\"text-align: right;\">       C83</th><th style=\"text-align: right;\">       C84</th><th style=\"text-align: right;\">       C85</th><th style=\"text-align: right;\">       C86</th><th style=\"text-align: right;\">        C87</th><th style=\"text-align: right;\">        C88</th><th style=\"text-align: right;\">        C89</th><th style=\"text-align: right;\">        C90</th><th style=\"text-align: right;\">       C91</th><th style=\"text-align: right;\">        C92</th><th style=\"text-align: right;\">     C93</th><th style=\"text-align: right;\">        C94</th><th style=\"text-align: right;\">       C95</th><th style=\"text-align: right;\">       C96</th><th style=\"text-align: right;\">       C97</th><th style=\"text-align: right;\">        C98</th><th style=\"text-align: right;\">        C99</th><th style=\"text-align: right;\">      C100</th></tr>\n",
              "</thead>\n",
              "<tbody>\n",
              "<tr><td style=\"text-align: right;\">    00</td><td style=\"text-align: right;\"> 0.228108 </td><td style=\"text-align: right;\"> 0.280236 </td><td style=\"text-align: right;\">-0.187545 </td><td style=\"text-align: right;\">-0.473983  </td><td style=\"text-align: right;\">-0.593945</td><td style=\"text-align: right;\">-0.657005 </td><td style=\"text-align: right;\"> 0.102566 </td><td style=\"text-align: right;\">0.169631 </td><td style=\"text-align: right;\">-0.257797 </td><td style=\"text-align: right;\"> 0.116306  </td><td style=\"text-align: right;\"> 0.13064  </td><td style=\"text-align: right;\">-0.326737 </td><td style=\"text-align: right;\">-0.0515613</td><td style=\"text-align: right;\"> 0.332201 </td><td style=\"text-align: right;\">-0.286425 </td><td style=\"text-align: right;\">-0.284229   </td><td style=\"text-align: right;\">0.147689  </td><td style=\"text-align: right;\">-0.0229232</td><td style=\"text-align: right;\">-0.110106 </td><td style=\"text-align: right;\">-0.192198 </td><td style=\"text-align: right;\"> 0.038177  </td><td style=\"text-align: right;\">-0.0757505 </td><td style=\"text-align: right;\">-0.507836 </td><td style=\"text-align: right;\">-0.122989 </td><td style=\"text-align: right;\"> 0.269008 </td><td style=\"text-align: right;\">-0.234565 </td><td style=\"text-align: right;\">-0.0793573</td><td style=\"text-align: right;\">-0.207649</td><td style=\"text-align: right;\"> 0.0728796</td><td style=\"text-align: right;\">-0.0919833</td><td style=\"text-align: right;\"> 0.159451 </td><td style=\"text-align: right;\"> 0.182034 </td><td style=\"text-align: right;\">-0.237844 </td><td style=\"text-align: right;\"> 0.10786  </td><td style=\"text-align: right;\">-0.16736  </td><td style=\"text-align: right;\"> 0.119918   </td><td style=\"text-align: right;\"> 0.164523 </td><td style=\"text-align: right;\">-0.444617 </td><td style=\"text-align: right;\">-0.399994 </td><td style=\"text-align: right;\"> 0.0783868</td><td style=\"text-align: right;\"> 0.271767 </td><td style=\"text-align: right;\">-0.011722 </td><td style=\"text-align: right;\">-0.258863 </td><td style=\"text-align: right;\">-0.195919 </td><td style=\"text-align: right;\"> 0.063584 </td><td style=\"text-align: right;\"> 0.316834  </td><td style=\"text-align: right;\">-0.135511 </td><td style=\"text-align: right;\"> 0.001328 </td><td style=\"text-align: right;\"> 0.117926 </td><td style=\"text-align: right;\"> 0.612688   </td><td style=\"text-align: right;\"> 0.307583 </td><td style=\"text-align: right;\"> 0.21117  </td><td style=\"text-align: right;\">-0.106617 </td><td style=\"text-align: right;\"> 0.322562 </td><td style=\"text-align: right;\"> 0.0185709  </td><td style=\"text-align: right;\">-0.192732 </td><td style=\"text-align: right;\">-0.371523  </td><td style=\"text-align: right;\">-0.269065 </td><td style=\"text-align: right;\">0.397731 </td><td style=\"text-align: right;\"> 0.533817  </td><td style=\"text-align: right;\">-0.115797 </td><td style=\"text-align: right;\">-0.380443 </td><td style=\"text-align: right;\">-0.423546  </td><td style=\"text-align: right;\">0.339727</td><td style=\"text-align: right;\">-0.0738275 </td><td style=\"text-align: right;\"> 0.303186  </td><td style=\"text-align: right;\"> 0.375744  </td><td style=\"text-align: right;\">-0.150689 </td><td style=\"text-align: right;\">-0.135577 </td><td style=\"text-align: right;\">-0.616332   </td><td style=\"text-align: right;\">-0.231145 </td><td style=\"text-align: right;\"> 0.234142 </td><td style=\"text-align: right;\"> 0.00965952</td><td style=\"text-align: right;\"> 0.245908 </td><td style=\"text-align: right;\"> 0.129079 </td><td style=\"text-align: right;\">-0.255771 </td><td style=\"text-align: right;\">-0.302407  </td><td style=\"text-align: right;\"> 0.221862 </td><td style=\"text-align: right;\">-0.334731 </td><td style=\"text-align: right;\"> 0.0242169</td><td style=\"text-align: right;\">-0.24048  </td><td style=\"text-align: right;\">-0.164635  </td><td style=\"text-align: right;\">-0.359329 </td><td style=\"text-align: right;\">-0.177743 </td><td style=\"text-align: right;\">-0.0391219</td><td style=\"text-align: right;\">-0.283926 </td><td style=\"text-align: right;\"> 0.0609729 </td><td style=\"text-align: right;\">-0.175668  </td><td style=\"text-align: right;\">-0.118541  </td><td style=\"text-align: right;\"> 0.159854  </td><td style=\"text-align: right;\">-0.55822  </td><td style=\"text-align: right;\">-0.239945  </td><td style=\"text-align: right;\">0.120845</td><td style=\"text-align: right;\"> 0.0834161 </td><td style=\"text-align: right;\">-0.565533 </td><td style=\"text-align: right;\">-0.355692 </td><td style=\"text-align: right;\">-0.101306 </td><td style=\"text-align: right;\">-0.335033  </td><td style=\"text-align: right;\">-0.101173  </td><td style=\"text-align: right;\"> 0.199193 </td></tr>\n",
              "<tr><td style=\"text-align: right;\">   000</td><td style=\"text-align: right;\"> 0.444951 </td><td style=\"text-align: right;\"> 0.306018 </td><td style=\"text-align: right;\"> 0.479745 </td><td style=\"text-align: right;\">-0.727633  </td><td style=\"text-align: right;\">-0.334895</td><td style=\"text-align: right;\">-0.955278 </td><td style=\"text-align: right;\"> 0.206703 </td><td style=\"text-align: right;\">0.425563 </td><td style=\"text-align: right;\"> 0.625683 </td><td style=\"text-align: right;\">-0.165027  </td><td style=\"text-align: right;\"> 0.404669 </td><td style=\"text-align: right;\"> 0.0459202</td><td style=\"text-align: right;\"> 0.116714 </td><td style=\"text-align: right;\"> 0.448959 </td><td style=\"text-align: right;\">-0.11611  </td><td style=\"text-align: right;\">-0.615901   </td><td style=\"text-align: right;\">0.275895  </td><td style=\"text-align: right;\">-0.136055 </td><td style=\"text-align: right;\">-0.0789144</td><td style=\"text-align: right;\"> 0.0309904</td><td style=\"text-align: right;\"> 0.0494764 </td><td style=\"text-align: right;\"> 0.0095834 </td><td style=\"text-align: right;\">-0.389096 </td><td style=\"text-align: right;\"> 0.194455 </td><td style=\"text-align: right;\">-0.156858 </td><td style=\"text-align: right;\">-0.138754 </td><td style=\"text-align: right;\"> 0.228649 </td><td style=\"text-align: right;\"> 0.231437</td><td style=\"text-align: right;\"> 0.224076 </td><td style=\"text-align: right;\">-0.384917 </td><td style=\"text-align: right;\">-0.0679765</td><td style=\"text-align: right;\">-0.0365912</td><td style=\"text-align: right;\">-0.0332806</td><td style=\"text-align: right;\">-0.0352074</td><td style=\"text-align: right;\">-0.369581 </td><td style=\"text-align: right;\"> 0.355189   </td><td style=\"text-align: right;\">-0.145959 </td><td style=\"text-align: right;\">-0.0604531</td><td style=\"text-align: right;\">-0.269245 </td><td style=\"text-align: right;\"> 0.526398 </td><td style=\"text-align: right;\"> 0.548953 </td><td style=\"text-align: right;\"> 0.373084 </td><td style=\"text-align: right;\">-0.452929 </td><td style=\"text-align: right;\">-0.367661 </td><td style=\"text-align: right;\">-0.132109 </td><td style=\"text-align: right;\"> 0.470162  </td><td style=\"text-align: right;\"> 0.0351797</td><td style=\"text-align: right;\"> 0.313618 </td><td style=\"text-align: right;\">-0.239419 </td><td style=\"text-align: right;\">-0.00507376 </td><td style=\"text-align: right;\"> 0.0132168</td><td style=\"text-align: right;\">-0.0337314</td><td style=\"text-align: right;\"> 0.218951 </td><td style=\"text-align: right;\"> 0.166355 </td><td style=\"text-align: right;\"> 0.378417   </td><td style=\"text-align: right;\">-0.0117439</td><td style=\"text-align: right;\">-0.158465  </td><td style=\"text-align: right;\">-0.235514 </td><td style=\"text-align: right;\">0.183785 </td><td style=\"text-align: right;\">-0.241501  </td><td style=\"text-align: right;\"> 0.448582 </td><td style=\"text-align: right;\">-0.630025 </td><td style=\"text-align: right;\">-0.00450026</td><td style=\"text-align: right;\">0.075912</td><td style=\"text-align: right;\"> 0.445202  </td><td style=\"text-align: right;\"> 0.00216235</td><td style=\"text-align: right;\"> 0.269447  </td><td style=\"text-align: right;\">-0.251406 </td><td style=\"text-align: right;\"> 0.220386 </td><td style=\"text-align: right;\">-0.399479   </td><td style=\"text-align: right;\">-0.640778 </td><td style=\"text-align: right;\">-0.32016  </td><td style=\"text-align: right;\"> 0.197862  </td><td style=\"text-align: right;\">-0.495609 </td><td style=\"text-align: right;\">-0.135508 </td><td style=\"text-align: right;\">-0.120383 </td><td style=\"text-align: right;\"> 0.110772  </td><td style=\"text-align: right;\"> 0.537926 </td><td style=\"text-align: right;\">-0.623687 </td><td style=\"text-align: right;\"> 0.18628  </td><td style=\"text-align: right;\">-0.468816 </td><td style=\"text-align: right;\"> 0.379953  </td><td style=\"text-align: right;\">-0.197165 </td><td style=\"text-align: right;\"> 0.0160017</td><td style=\"text-align: right;\">-0.333685 </td><td style=\"text-align: right;\">-0.450341 </td><td style=\"text-align: right;\"> 0.0257832 </td><td style=\"text-align: right;\"> 0.159899  </td><td style=\"text-align: right;\"> 0.0148275 </td><td style=\"text-align: right;\">-0.00662263</td><td style=\"text-align: right;\">-1.0198   </td><td style=\"text-align: right;\"> 0.118669  </td><td style=\"text-align: right;\">0.426325</td><td style=\"text-align: right;\"> 0.186952  </td><td style=\"text-align: right;\">-0.0956334</td><td style=\"text-align: right;\"> 0.0902557</td><td style=\"text-align: right;\">-0.369636 </td><td style=\"text-align: right;\"> 0.162015  </td><td style=\"text-align: right;\">-0.162656  </td><td style=\"text-align: right;\">-0.0177045</td></tr>\n",
              "<tr><td style=\"text-align: right;\">  0000</td><td style=\"text-align: right;\">-0.115138 </td><td style=\"text-align: right;\">-0.0902881</td><td style=\"text-align: right;\"> 0.330887 </td><td style=\"text-align: right;\"> 0.0125297 </td><td style=\"text-align: right;\">-0.102106</td><td style=\"text-align: right;\">-0.164122 </td><td style=\"text-align: right;\">-0.0307625</td><td style=\"text-align: right;\">0.140332 </td><td style=\"text-align: right;\"> 0.308897 </td><td style=\"text-align: right;\">-0.245852  </td><td style=\"text-align: right;\"> 0.0200833</td><td style=\"text-align: right;\">-0.169629 </td><td style=\"text-align: right;\">-0.135666 </td><td style=\"text-align: right;\">-0.445892 </td><td style=\"text-align: right;\">-0.0289442</td><td style=\"text-align: right;\">-0.181879   </td><td style=\"text-align: right;\">0.232176  </td><td style=\"text-align: right;\"> 0.171703 </td><td style=\"text-align: right;\"> 0.103521 </td><td style=\"text-align: right;\"> 0.146014 </td><td style=\"text-align: right;\"> 0.0760192 </td><td style=\"text-align: right;\">-0.087012  </td><td style=\"text-align: right;\"> 0.0451134</td><td style=\"text-align: right;\"> 0.0229753</td><td style=\"text-align: right;\">-0.105686 </td><td style=\"text-align: right;\">-0.217651 </td><td style=\"text-align: right;\">-0.160657 </td><td style=\"text-align: right;\">-0.110604</td><td style=\"text-align: right;\">-0.134259 </td><td style=\"text-align: right;\"> 0.0754665</td><td style=\"text-align: right;\"> 0.0546637</td><td style=\"text-align: right;\"> 0.073512 </td><td style=\"text-align: right;\"> 0.147277 </td><td style=\"text-align: right;\"> 0.012574 </td><td style=\"text-align: right;\">-0.146582 </td><td style=\"text-align: right;\">-0.111499   </td><td style=\"text-align: right;\"> 0.231272 </td><td style=\"text-align: right;\"> 0.116778 </td><td style=\"text-align: right;\"> 0.282267 </td><td style=\"text-align: right;\">-0.0471306</td><td style=\"text-align: right;\"> 0.0498835</td><td style=\"text-align: right;\">-0.0209659</td><td style=\"text-align: right;\">-0.113995 </td><td style=\"text-align: right;\">-0.0373253</td><td style=\"text-align: right;\"> 0.04341  </td><td style=\"text-align: right;\"> 0.0155511 </td><td style=\"text-align: right;\">-0.0836324</td><td style=\"text-align: right;\">-0.0128487</td><td style=\"text-align: right;\">-0.104623 </td><td style=\"text-align: right;\"> 0.0603952  </td><td style=\"text-align: right;\">-0.105218 </td><td style=\"text-align: right;\">-0.185698 </td><td style=\"text-align: right;\">-0.0445347</td><td style=\"text-align: right;\">-0.0615145</td><td style=\"text-align: right;\"> 0.000103771</td><td style=\"text-align: right;\"> 0.0179205</td><td style=\"text-align: right;\">-0.0542813 </td><td style=\"text-align: right;\"> 0.0405108</td><td style=\"text-align: right;\">0.0301752</td><td style=\"text-align: right;\">-0.00952967</td><td style=\"text-align: right;\"> 0.211112 </td><td style=\"text-align: right;\">-0.0602791</td><td style=\"text-align: right;\"> 0.0782948 </td><td style=\"text-align: right;\">0.197161</td><td style=\"text-align: right;\">-0.110785  </td><td style=\"text-align: right;\"> 0.0867301 </td><td style=\"text-align: right;\">-0.00608915</td><td style=\"text-align: right;\">-0.161531 </td><td style=\"text-align: right;\"> 0.105438 </td><td style=\"text-align: right;\">-0.0908302  </td><td style=\"text-align: right;\">-0.140836 </td><td style=\"text-align: right;\"> 0.186149 </td><td style=\"text-align: right;\">-0.0790493 </td><td style=\"text-align: right;\"> 0.203731 </td><td style=\"text-align: right;\"> 0.0836422</td><td style=\"text-align: right;\">-0.0440243</td><td style=\"text-align: right;\"> 0.168811  </td><td style=\"text-align: right;\">-0.0822381</td><td style=\"text-align: right;\">-0.131844 </td><td style=\"text-align: right;\"> 0.0199233</td><td style=\"text-align: right;\"> 0.0341202</td><td style=\"text-align: right;\"> 0.0433514 </td><td style=\"text-align: right;\"> 0.0453021</td><td style=\"text-align: right;\"> 0.0821945</td><td style=\"text-align: right;\">-0.098026 </td><td style=\"text-align: right;\">-0.0689528</td><td style=\"text-align: right;\">-0.0561958 </td><td style=\"text-align: right;\"> 0.191757  </td><td style=\"text-align: right;\">-0.00572217</td><td style=\"text-align: right;\"> 0.130927  </td><td style=\"text-align: right;\">-0.194222 </td><td style=\"text-align: right;\">-0.0942235 </td><td style=\"text-align: right;\">0.121696</td><td style=\"text-align: right;\">-0.019105  </td><td style=\"text-align: right;\"> 0.134095 </td><td style=\"text-align: right;\"> 0.0372598</td><td style=\"text-align: right;\"> 0.211938 </td><td style=\"text-align: right;\">-0.00811557</td><td style=\"text-align: right;\">-0.00111202</td><td style=\"text-align: right;\"> 0.143214 </td></tr>\n",
              "<tr><td style=\"text-align: right;\">   007</td><td style=\"text-align: right;\">-0.240234 </td><td style=\"text-align: right;\">-0.102658 </td><td style=\"text-align: right;\"> 0.176662 </td><td style=\"text-align: right;\"> 0.0469465 </td><td style=\"text-align: right;\">-0.200186</td><td style=\"text-align: right;\">-0.0827779</td><td style=\"text-align: right;\"> 0.227972 </td><td style=\"text-align: right;\">0.237899 </td><td style=\"text-align: right;\"> 0.324358 </td><td style=\"text-align: right;\">-0.0301489 </td><td style=\"text-align: right;\"> 0.0245937</td><td style=\"text-align: right;\"> 0.0297424</td><td style=\"text-align: right;\">-0.339289 </td><td style=\"text-align: right;\">-0.191153 </td><td style=\"text-align: right;\"> 0.108929 </td><td style=\"text-align: right;\"> 0.011065   </td><td style=\"text-align: right;\">0.0537095 </td><td style=\"text-align: right;\"> 0.082185 </td><td style=\"text-align: right;\"> 0.194906 </td><td style=\"text-align: right;\"> 0.102493 </td><td style=\"text-align: right;\"> 0.0344396 </td><td style=\"text-align: right;\">-0.12142   </td><td style=\"text-align: right;\"> 0.289237 </td><td style=\"text-align: right;\"> 0.134372 </td><td style=\"text-align: right;\">-0.183324 </td><td style=\"text-align: right;\">-0.29375  </td><td style=\"text-align: right;\">-0.059795 </td><td style=\"text-align: right;\">-0.449529</td><td style=\"text-align: right;\"> 0.0112553</td><td style=\"text-align: right;\"> 0.0545205</td><td style=\"text-align: right;\">-0.0989176</td><td style=\"text-align: right;\"> 0.250433 </td><td style=\"text-align: right;\"> 0.0240258</td><td style=\"text-align: right;\"> 0.150031 </td><td style=\"text-align: right;\"> 0.0592772</td><td style=\"text-align: right;\">-0.0509844  </td><td style=\"text-align: right;\"> 0.225687 </td><td style=\"text-align: right;\"> 0.211115 </td><td style=\"text-align: right;\"> 0.0230838</td><td style=\"text-align: right;\">-0.162944 </td><td style=\"text-align: right;\">-0.0345161</td><td style=\"text-align: right;\"> 0.175732 </td><td style=\"text-align: right;\"> 0.0146216</td><td style=\"text-align: right;\">-0.117697 </td><td style=\"text-align: right;\"> 0.13044  </td><td style=\"text-align: right;\">-0.0222307 </td><td style=\"text-align: right;\"> 0.0862981</td><td style=\"text-align: right;\">-0.0382992</td><td style=\"text-align: right;\">-0.0612486</td><td style=\"text-align: right;\"> 0.000959669</td><td style=\"text-align: right;\">-0.184163 </td><td style=\"text-align: right;\">-0.0955336</td><td style=\"text-align: right;\">-0.192362 </td><td style=\"text-align: right;\">-0.173378 </td><td style=\"text-align: right;\"> 0.193603   </td><td style=\"text-align: right;\"> 0.125975 </td><td style=\"text-align: right;\">-0.00203947</td><td style=\"text-align: right;\">-0.0521423</td><td style=\"text-align: right;\">0.302949 </td><td style=\"text-align: right;\">-0.0702397 </td><td style=\"text-align: right;\"> 0.136133 </td><td style=\"text-align: right;\">-0.122275 </td><td style=\"text-align: right;\"> 0.168848  </td><td style=\"text-align: right;\">0.232309</td><td style=\"text-align: right;\">-0.0288806 </td><td style=\"text-align: right;\">-0.0833368 </td><td style=\"text-align: right;\"> 0.138356  </td><td style=\"text-align: right;\">-0.340085 </td><td style=\"text-align: right;\">-0.097233 </td><td style=\"text-align: right;\">-0.0399756  </td><td style=\"text-align: right;\">-0.314968 </td><td style=\"text-align: right;\"> 0.0571658</td><td style=\"text-align: right;\"> 0.0390069 </td><td style=\"text-align: right;\"> 0.049773 </td><td style=\"text-align: right;\"> 0.259486 </td><td style=\"text-align: right;\">-0.185528 </td><td style=\"text-align: right;\"> 0.00603079</td><td style=\"text-align: right;\"> 0.182249 </td><td style=\"text-align: right;\">-0.265508 </td><td style=\"text-align: right;\">-0.0243681</td><td style=\"text-align: right;\">-0.0490911</td><td style=\"text-align: right;\"> 0.0637946 </td><td style=\"text-align: right;\">-0.0997108</td><td style=\"text-align: right;\">-0.0215075</td><td style=\"text-align: right;\">-0.190186 </td><td style=\"text-align: right;\">-0.167536 </td><td style=\"text-align: right;\">-0.0651921 </td><td style=\"text-align: right;\">-0.0421857 </td><td style=\"text-align: right;\">-0.193901  </td><td style=\"text-align: right;\"> 0.13056   </td><td style=\"text-align: right;\">-0.147523 </td><td style=\"text-align: right;\"> 0.130285  </td><td style=\"text-align: right;\">0.190039</td><td style=\"text-align: right;\">-0.443177  </td><td style=\"text-align: right;\"> 0.143841 </td><td style=\"text-align: right;\"> 0.162355 </td><td style=\"text-align: right;\"> 0.341972 </td><td style=\"text-align: right;\">-0.108585  </td><td style=\"text-align: right;\"> 0.00344449</td><td style=\"text-align: right;\">-0.0322271</td></tr>\n",
              "<tr><td style=\"text-align: right;\"> 01500</td><td style=\"text-align: right;\"> 0.0234113</td><td style=\"text-align: right;\">-0.0662251</td><td style=\"text-align: right;\">-0.0530788</td><td style=\"text-align: right;\"> 0.35245   </td><td style=\"text-align: right;\">-0.295111</td><td style=\"text-align: right;\">-0.191203 </td><td style=\"text-align: right;\"> 0.0704538</td><td style=\"text-align: right;\">0.0284022</td><td style=\"text-align: right;\">-0.0749572</td><td style=\"text-align: right;\"> 0.115756  </td><td style=\"text-align: right;\"> 0.382792 </td><td style=\"text-align: right;\"> 0.17764  </td><td style=\"text-align: right;\">-0.526805 </td><td style=\"text-align: right;\">-0.397826 </td><td style=\"text-align: right;\">-0.0233572</td><td style=\"text-align: right;\"> 0.0848228  </td><td style=\"text-align: right;\">0.07343   </td><td style=\"text-align: right;\"> 0.309951 </td><td style=\"text-align: right;\"> 0.199401 </td><td style=\"text-align: right;\"> 0.0941161</td><td style=\"text-align: right;\"> 0.212215  </td><td style=\"text-align: right;\">-0.218329  </td><td style=\"text-align: right;\"> 0.312769 </td><td style=\"text-align: right;\">-0.173514 </td><td style=\"text-align: right;\"> 0.0511408</td><td style=\"text-align: right;\">-0.159207 </td><td style=\"text-align: right;\">-0.167555 </td><td style=\"text-align: right;\">-0.446997</td><td style=\"text-align: right;\"> 0.32968  </td><td style=\"text-align: right;\">-0.187839 </td><td style=\"text-align: right;\"> 0.0319718</td><td style=\"text-align: right;\"> 0.193509 </td><td style=\"text-align: right;\"> 0.114902 </td><td style=\"text-align: right;\">-0.0918451</td><td style=\"text-align: right;\"> 0.0510037</td><td style=\"text-align: right;\"> 0.134881   </td><td style=\"text-align: right;\">-0.057893 </td><td style=\"text-align: right;\"> 0.0156729</td><td style=\"text-align: right;\">-0.0684053</td><td style=\"text-align: right;\">-0.095756 </td><td style=\"text-align: right;\"> 0.0643973</td><td style=\"text-align: right;\">-0.0411585</td><td style=\"text-align: right;\"> 0.0660399</td><td style=\"text-align: right;\"> 0.109011 </td><td style=\"text-align: right;\">-0.0128113</td><td style=\"text-align: right;\">-0.107744  </td><td style=\"text-align: right;\"> 0.0858166</td><td style=\"text-align: right;\">-0.0890023</td><td style=\"text-align: right;\">-0.298411 </td><td style=\"text-align: right;\">-0.0252226  </td><td style=\"text-align: right;\">-0.107126 </td><td style=\"text-align: right;\"> 0.189305 </td><td style=\"text-align: right;\"> 0.140012 </td><td style=\"text-align: right;\">-0.236473 </td><td style=\"text-align: right;\"> 0.0458716  </td><td style=\"text-align: right;\"> 0.056259 </td><td style=\"text-align: right;\"> 0.166701  </td><td style=\"text-align: right;\"> 0.0202905</td><td style=\"text-align: right;\">0.0468436</td><td style=\"text-align: right;\">-0.0195514 </td><td style=\"text-align: right;\"> 0.23628  </td><td style=\"text-align: right;\"> 0.126916 </td><td style=\"text-align: right;\"> 0.276153  </td><td style=\"text-align: right;\">0.2612  </td><td style=\"text-align: right;\">-0.00136924</td><td style=\"text-align: right;\">-0.0019112 </td><td style=\"text-align: right;\">-0.170206  </td><td style=\"text-align: right;\">-0.202372 </td><td style=\"text-align: right;\">-0.0182587</td><td style=\"text-align: right;\"> 8.74149e-05</td><td style=\"text-align: right;\"> 0.0181186</td><td style=\"text-align: right;\">-0.335781 </td><td style=\"text-align: right;\">-0.00368198</td><td style=\"text-align: right;\">-0.646639 </td><td style=\"text-align: right;\">-0.465242 </td><td style=\"text-align: right;\">-0.0939761</td><td style=\"text-align: right;\">-0.036926  </td><td style=\"text-align: right;\"> 0.119856 </td><td style=\"text-align: right;\"> 0.0587435</td><td style=\"text-align: right;\">-0.0169946</td><td style=\"text-align: right;\">-0.204952 </td><td style=\"text-align: right;\"> 0.272434  </td><td style=\"text-align: right;\">-0.0908767</td><td style=\"text-align: right;\">-0.0129252</td><td style=\"text-align: right;\">-0.104402 </td><td style=\"text-align: right;\"> 0.206836 </td><td style=\"text-align: right;\"> 0.262588  </td><td style=\"text-align: right;\"> 0.00869864</td><td style=\"text-align: right;\"> 0.0738417 </td><td style=\"text-align: right;\"> 0.0801487 </td><td style=\"text-align: right;\"> 0.0260887</td><td style=\"text-align: right;\"> 0.267647  </td><td style=\"text-align: right;\">0.431317</td><td style=\"text-align: right;\">-0.0128043 </td><td style=\"text-align: right;\">-0.125005 </td><td style=\"text-align: right;\"> 0.306947 </td><td style=\"text-align: right;\"> 0.140908 </td><td style=\"text-align: right;\">-0.190823  </td><td style=\"text-align: right;\">-0.0990888 </td><td style=\"text-align: right;\">-0.304169 </td></tr>\n",
              "<tr><td style=\"text-align: right;\">    02</td><td style=\"text-align: right;\">-0.10746  </td><td style=\"text-align: right;\"> 0.012761 </td><td style=\"text-align: right;\"> 0.550084 </td><td style=\"text-align: right;\">-0.0480572 </td><td style=\"text-align: right;\">-0.448488</td><td style=\"text-align: right;\">-0.136357 </td><td style=\"text-align: right;\"> 0.17904  </td><td style=\"text-align: right;\">0.116183 </td><td style=\"text-align: right;\">-0.47759  </td><td style=\"text-align: right;\"> 0.107267  </td><td style=\"text-align: right;\">-0.366774 </td><td style=\"text-align: right;\">-0.195086 </td><td style=\"text-align: right;\">-0.0226665</td><td style=\"text-align: right;\">-0.217006 </td><td style=\"text-align: right;\">-0.529098 </td><td style=\"text-align: right;\"> 0.0618775  </td><td style=\"text-align: right;\">0.46159   </td><td style=\"text-align: right;\"> 0.233509 </td><td style=\"text-align: right;\"> 0.191297 </td><td style=\"text-align: right;\">-0.335951 </td><td style=\"text-align: right;\">-0.00256824</td><td style=\"text-align: right;\">-0.00990876</td><td style=\"text-align: right;\">-0.168413 </td><td style=\"text-align: right;\">-0.133399 </td><td style=\"text-align: right;\"> 0.376706 </td><td style=\"text-align: right;\"> 0.0759127</td><td style=\"text-align: right;\"> 0.299332 </td><td style=\"text-align: right;\">-0.434296</td><td style=\"text-align: right;\"> 0.0222366</td><td style=\"text-align: right;\">-0.144086 </td><td style=\"text-align: right;\"> 0.187399 </td><td style=\"text-align: right;\"> 0.363905 </td><td style=\"text-align: right;\">-0.216852 </td><td style=\"text-align: right;\">-0.0765206</td><td style=\"text-align: right;\">-0.33723  </td><td style=\"text-align: right;\"> 0.155393   </td><td style=\"text-align: right;\"> 0.1175   </td><td style=\"text-align: right;\">-0.083067 </td><td style=\"text-align: right;\">-0.224708 </td><td style=\"text-align: right;\">-0.0179558</td><td style=\"text-align: right;\">-0.164307 </td><td style=\"text-align: right;\"> 0.318916 </td><td style=\"text-align: right;\">-0.244952 </td><td style=\"text-align: right;\"> 0.067158 </td><td style=\"text-align: right;\">-0.0282969</td><td style=\"text-align: right;\"> 0.252243  </td><td style=\"text-align: right;\">-0.224558 </td><td style=\"text-align: right;\"> 0.354495 </td><td style=\"text-align: right;\"> 0.137817 </td><td style=\"text-align: right;\"> 0.522475   </td><td style=\"text-align: right;\">-0.169808 </td><td style=\"text-align: right;\">-0.0542984</td><td style=\"text-align: right;\"> 0.0823949</td><td style=\"text-align: right;\">-0.221802 </td><td style=\"text-align: right;\"> 0.0776879  </td><td style=\"text-align: right;\">-0.199619 </td><td style=\"text-align: right;\">-0.0498639 </td><td style=\"text-align: right;\"> 0.0457953</td><td style=\"text-align: right;\">0.273169 </td><td style=\"text-align: right;\"> 0.131263  </td><td style=\"text-align: right;\"> 0.19674  </td><td style=\"text-align: right;\"> 0.015867 </td><td style=\"text-align: right;\"> 0.0426795 </td><td style=\"text-align: right;\">0.537642</td><td style=\"text-align: right;\"> 0.162183  </td><td style=\"text-align: right;\"> 0.177822  </td><td style=\"text-align: right;\">-0.102708  </td><td style=\"text-align: right;\">-0.0134677</td><td style=\"text-align: right;\">-0.264929 </td><td style=\"text-align: right;\">-0.372318   </td><td style=\"text-align: right;\"> 0.0904947</td><td style=\"text-align: right;\"> 0.216934 </td><td style=\"text-align: right;\"> 0.0919579 </td><td style=\"text-align: right;\"> 0.10869  </td><td style=\"text-align: right;\"> 0.0830025</td><td style=\"text-align: right;\">-0.0167203</td><td style=\"text-align: right;\">-0.188027  </td><td style=\"text-align: right;\"> 0.104046 </td><td style=\"text-align: right;\">-0.231514 </td><td style=\"text-align: right;\">-0.255604 </td><td style=\"text-align: right;\"> 0.0714966</td><td style=\"text-align: right;\">-0.358502  </td><td style=\"text-align: right;\">-0.18331  </td><td style=\"text-align: right;\">-0.0963066</td><td style=\"text-align: right;\">-0.522022 </td><td style=\"text-align: right;\">-0.407701 </td><td style=\"text-align: right;\"> 0.04864   </td><td style=\"text-align: right;\"> 0.181672  </td><td style=\"text-align: right;\">-0.265956  </td><td style=\"text-align: right;\"> 0.0242835 </td><td style=\"text-align: right;\">-0.240887 </td><td style=\"text-align: right;\"> 0.00268357</td><td style=\"text-align: right;\">0.257857</td><td style=\"text-align: right;\">-0.121414  </td><td style=\"text-align: right;\">-0.165217 </td><td style=\"text-align: right;\">-0.225278 </td><td style=\"text-align: right;\"> 0.0306345</td><td style=\"text-align: right;\"> 0.173478  </td><td style=\"text-align: right;\">-0.109804  </td><td style=\"text-align: right;\"> 0.493272 </td></tr>\n",
              "<tr><td style=\"text-align: right;\">    03</td><td style=\"text-align: right;\"> 0.255334 </td><td style=\"text-align: right;\"> 0.5762   </td><td style=\"text-align: right;\"> 0.332814 </td><td style=\"text-align: right;\">-0.130928  </td><td style=\"text-align: right;\">-0.445801</td><td style=\"text-align: right;\">-0.115547 </td><td style=\"text-align: right;\"> 0.317847 </td><td style=\"text-align: right;\">0.255699 </td><td style=\"text-align: right;\"> 0.0258948</td><td style=\"text-align: right;\"> 0.133787  </td><td style=\"text-align: right;\">-0.150306 </td><td style=\"text-align: right;\">-0.378327 </td><td style=\"text-align: right;\"> 0.230846 </td><td style=\"text-align: right;\"> 0.0782043</td><td style=\"text-align: right;\">-0.210524 </td><td style=\"text-align: right;\">-0.292899   </td><td style=\"text-align: right;\">0.00432447</td><td style=\"text-align: right;\"> 0.558281 </td><td style=\"text-align: right;\"> 0.0830074</td><td style=\"text-align: right;\">-0.38646  </td><td style=\"text-align: right;\">-0.320537  </td><td style=\"text-align: right;\"> 0.0116589 </td><td style=\"text-align: right;\">-0.421994 </td><td style=\"text-align: right;\">-0.481682 </td><td style=\"text-align: right;\">-0.0589185</td><td style=\"text-align: right;\"> 0.207044 </td><td style=\"text-align: right;\">-0.293767 </td><td style=\"text-align: right;\">-0.438905</td><td style=\"text-align: right;\"> 0.294239 </td><td style=\"text-align: right;\">-0.179448 </td><td style=\"text-align: right;\"> 0.30491  </td><td style=\"text-align: right;\"> 0.363427 </td><td style=\"text-align: right;\"> 0.0684047</td><td style=\"text-align: right;\"> 0.411021 </td><td style=\"text-align: right;\">-0.104188 </td><td style=\"text-align: right;\">-0.101938   </td><td style=\"text-align: right;\">-0.359411 </td><td style=\"text-align: right;\">-0.0919008</td><td style=\"text-align: right;\">-0.277285 </td><td style=\"text-align: right;\"> 0.136678 </td><td style=\"text-align: right;\">-0.211257 </td><td style=\"text-align: right;\"> 0.445701 </td><td style=\"text-align: right;\">-0.401129 </td><td style=\"text-align: right;\">-0.0255066</td><td style=\"text-align: right;\"> 0.269233 </td><td style=\"text-align: right;\"> 0.0239897 </td><td style=\"text-align: right;\">-0.13563  </td><td style=\"text-align: right;\"> 0.417105 </td><td style=\"text-align: right;\"> 0.116036 </td><td style=\"text-align: right;\"> 0.245885   </td><td style=\"text-align: right;\">-0.290135 </td><td style=\"text-align: right;\"> 0.0555885</td><td style=\"text-align: right;\"> 0.161101 </td><td style=\"text-align: right;\"> 0.124475 </td><td style=\"text-align: right;\">-0.092037   </td><td style=\"text-align: right;\">-0.161117 </td><td style=\"text-align: right;\"> 0.0215839 </td><td style=\"text-align: right;\"> 0.0420664</td><td style=\"text-align: right;\">0.40286  </td><td style=\"text-align: right;\">-0.0592582 </td><td style=\"text-align: right;\"> 0.266229 </td><td style=\"text-align: right;\">-0.149889 </td><td style=\"text-align: right;\">-0.189339  </td><td style=\"text-align: right;\">0.671521</td><td style=\"text-align: right;\"> 0.191258  </td><td style=\"text-align: right;\">-0.0631863 </td><td style=\"text-align: right;\">-0.254842  </td><td style=\"text-align: right;\"> 0.0390493</td><td style=\"text-align: right;\"> 0.152848 </td><td style=\"text-align: right;\">-0.299011   </td><td style=\"text-align: right;\">-0.288618 </td><td style=\"text-align: right;\"> 0.0414586</td><td style=\"text-align: right;\"> 0.260816  </td><td style=\"text-align: right;\"> 0.0157699</td><td style=\"text-align: right;\"> 0.290379 </td><td style=\"text-align: right;\"> 0.141448 </td><td style=\"text-align: right;\">-0.0849414 </td><td style=\"text-align: right;\">-0.139226 </td><td style=\"text-align: right;\">-0.577171 </td><td style=\"text-align: right;\">-0.360998 </td><td style=\"text-align: right;\">-0.34234  </td><td style=\"text-align: right;\"> 0.00328047</td><td style=\"text-align: right;\">-0.242261 </td><td style=\"text-align: right;\">-0.113852 </td><td style=\"text-align: right;\">-0.570615 </td><td style=\"text-align: right;\">-0.338973 </td><td style=\"text-align: right;\"> 0.00164186</td><td style=\"text-align: right;\"> 0.139571  </td><td style=\"text-align: right;\">-0.156792  </td><td style=\"text-align: right;\"> 0.323669  </td><td style=\"text-align: right;\">-0.602356 </td><td style=\"text-align: right;\">-0.188834  </td><td style=\"text-align: right;\">0.450358</td><td style=\"text-align: right;\">-0.410089  </td><td style=\"text-align: right;\">-0.0477804</td><td style=\"text-align: right;\">-0.036837 </td><td style=\"text-align: right;\">-0.130367 </td><td style=\"text-align: right;\"> 0.387414  </td><td style=\"text-align: right;\">-0.176668  </td><td style=\"text-align: right;\"> 0.733067 </td></tr>\n",
              "<tr><td style=\"text-align: right;\">    04</td><td style=\"text-align: right;\"> 0.0845264</td><td style=\"text-align: right;\"> 0.447686 </td><td style=\"text-align: right;\"> 0.334168 </td><td style=\"text-align: right;\">-0.00389196</td><td style=\"text-align: right;\">-0.27546 </td><td style=\"text-align: right;\">-0.140152 </td><td style=\"text-align: right;\">-0.148037 </td><td style=\"text-align: right;\">0.343417 </td><td style=\"text-align: right;\">-0.0805746</td><td style=\"text-align: right;\"> 0.00877394</td><td style=\"text-align: right;\">-0.276391 </td><td style=\"text-align: right;\">-0.169088 </td><td style=\"text-align: right;\"> 0.0124359</td><td style=\"text-align: right;\"> 0.0410302</td><td style=\"text-align: right;\">-0.165184 </td><td style=\"text-align: right;\">-0.125466   </td><td style=\"text-align: right;\">0.253752  </td><td style=\"text-align: right;\"> 0.32392  </td><td style=\"text-align: right;\"> 0.0351587</td><td style=\"text-align: right;\">-0.334732 </td><td style=\"text-align: right;\">-0.111387  </td><td style=\"text-align: right;\">-0.127693  </td><td style=\"text-align: right;\">-0.203599 </td><td style=\"text-align: right;\">-0.393862 </td><td style=\"text-align: right;\"> 0.259549 </td><td style=\"text-align: right;\">-0.0599775</td><td style=\"text-align: right;\">-0.0415495</td><td style=\"text-align: right;\">-0.449711</td><td style=\"text-align: right;\"> 0.395497 </td><td style=\"text-align: right;\">-0.188391 </td><td style=\"text-align: right;\">-0.0406796</td><td style=\"text-align: right;\"> 0.449794 </td><td style=\"text-align: right;\"> 0.0171923</td><td style=\"text-align: right;\"> 0.64097  </td><td style=\"text-align: right;\">-0.0101044</td><td style=\"text-align: right;\">-0.000892648</td><td style=\"text-align: right;\"> 0.0117495</td><td style=\"text-align: right;\">-0.376221 </td><td style=\"text-align: right;\">-0.377285 </td><td style=\"text-align: right;\"> 0.131013 </td><td style=\"text-align: right;\">-0.298985 </td><td style=\"text-align: right;\"> 0.409527 </td><td style=\"text-align: right;\">-0.246495 </td><td style=\"text-align: right;\">-0.0987778</td><td style=\"text-align: right;\"> 0.263563 </td><td style=\"text-align: right;\"> 0.0646134 </td><td style=\"text-align: right;\"> 0.0290408</td><td style=\"text-align: right;\"> 0.390771 </td><td style=\"text-align: right;\">-0.0369217</td><td style=\"text-align: right;\"> 0.159125   </td><td style=\"text-align: right;\">-0.147453 </td><td style=\"text-align: right;\">-0.102002 </td><td style=\"text-align: right;\"> 0.119182 </td><td style=\"text-align: right;\">-0.0437818</td><td style=\"text-align: right;\"> 0.172361   </td><td style=\"text-align: right;\">-0.134312 </td><td style=\"text-align: right;\">-0.0962124 </td><td style=\"text-align: right;\"> 0.130868 </td><td style=\"text-align: right;\">0.456459 </td><td style=\"text-align: right;\"> 0.00691134</td><td style=\"text-align: right;\"> 0.247327 </td><td style=\"text-align: right;\"> 0.230773 </td><td style=\"text-align: right;\"> 0.100647  </td><td style=\"text-align: right;\">0.385093</td><td style=\"text-align: right;\"> 0.0471641 </td><td style=\"text-align: right;\"> 0.202507  </td><td style=\"text-align: right;\">-0.109014  </td><td style=\"text-align: right;\">-0.084187 </td><td style=\"text-align: right;\"> 0.0490639</td><td style=\"text-align: right;\">-0.350551   </td><td style=\"text-align: right;\">-0.360629 </td><td style=\"text-align: right;\"> 0.266596 </td><td style=\"text-align: right;\"> 0.0963969 </td><td style=\"text-align: right;\"> 0.14236  </td><td style=\"text-align: right;\"> 0.474206 </td><td style=\"text-align: right;\"> 0.0184571</td><td style=\"text-align: right;\">-0.277768  </td><td style=\"text-align: right;\"> 0.090317 </td><td style=\"text-align: right;\">-0.336331 </td><td style=\"text-align: right;\">-0.167021 </td><td style=\"text-align: right;\">-0.154615 </td><td style=\"text-align: right;\">-0.275475  </td><td style=\"text-align: right;\">-0.14754  </td><td style=\"text-align: right;\">-0.163659 </td><td style=\"text-align: right;\">-0.350402 </td><td style=\"text-align: right;\">-0.299358 </td><td style=\"text-align: right;\">-0.022863  </td><td style=\"text-align: right;\"> 0.458703  </td><td style=\"text-align: right;\">-0.19387   </td><td style=\"text-align: right;\"> 0.0472576 </td><td style=\"text-align: right;\">-0.346128 </td><td style=\"text-align: right;\"> 0.0326323 </td><td style=\"text-align: right;\">0.386228</td><td style=\"text-align: right;\">-0.280692  </td><td style=\"text-align: right;\">-0.131176 </td><td style=\"text-align: right;\">-0.043845 </td><td style=\"text-align: right;\">-0.144199 </td><td style=\"text-align: right;\"> 0.164922  </td><td style=\"text-align: right;\">-0.366595  </td><td style=\"text-align: right;\"> 0.570015 </td></tr>\n",
              "<tr><td style=\"text-align: right;\">    05</td><td style=\"text-align: right;\"> 0.0137178</td><td style=\"text-align: right;\"> 0.506194 </td><td style=\"text-align: right;\"> 0.49387  </td><td style=\"text-align: right;\">-0.13467   </td><td style=\"text-align: right;\">-0.527143</td><td style=\"text-align: right;\">-0.239991 </td><td style=\"text-align: right;\">-0.0730598</td><td style=\"text-align: right;\">0.173982 </td><td style=\"text-align: right;\">-0.113428 </td><td style=\"text-align: right;\"> 0.205568  </td><td style=\"text-align: right;\">-0.286095 </td><td style=\"text-align: right;\">-0.326319 </td><td style=\"text-align: right;\"> 0.26721  </td><td style=\"text-align: right;\">-0.121754 </td><td style=\"text-align: right;\">-0.310672 </td><td style=\"text-align: right;\">-0.0369923  </td><td style=\"text-align: right;\">0.266915  </td><td style=\"text-align: right;\"> 0.341165 </td><td style=\"text-align: right;\"> 0.190912 </td><td style=\"text-align: right;\">-0.381408 </td><td style=\"text-align: right;\"> 0.113003  </td><td style=\"text-align: right;\"> 0.0739388 </td><td style=\"text-align: right;\">-0.174662 </td><td style=\"text-align: right;\">-0.426197 </td><td style=\"text-align: right;\"> 0.0140409</td><td style=\"text-align: right;\"> 0.113587 </td><td style=\"text-align: right;\">-0.182173 </td><td style=\"text-align: right;\">-0.49561 </td><td style=\"text-align: right;\"> 0.231922 </td><td style=\"text-align: right;\">-0.143913 </td><td style=\"text-align: right;\"> 0.373261 </td><td style=\"text-align: right;\"> 0.350518 </td><td style=\"text-align: right;\">-0.191741 </td><td style=\"text-align: right;\"> 0.43269  </td><td style=\"text-align: right;\">-0.400574 </td><td style=\"text-align: right;\"> 0.0312598  </td><td style=\"text-align: right;\">-0.0509759</td><td style=\"text-align: right;\">-0.143643 </td><td style=\"text-align: right;\">-0.18317  </td><td style=\"text-align: right;\"> 0.0352686</td><td style=\"text-align: right;\">-0.209839 </td><td style=\"text-align: right;\"> 0.371022 </td><td style=\"text-align: right;\">-0.111976 </td><td style=\"text-align: right;\">-0.173875 </td><td style=\"text-align: right;\"> 0.178428 </td><td style=\"text-align: right;\"> 0.00254022</td><td style=\"text-align: right;\">-0.334733 </td><td style=\"text-align: right;\"> 0.224199 </td><td style=\"text-align: right;\"> 0.140528 </td><td style=\"text-align: right;\"> 0.33745    </td><td style=\"text-align: right;\">-0.352824 </td><td style=\"text-align: right;\">-0.0407187</td><td style=\"text-align: right;\"> 0.253893 </td><td style=\"text-align: right;\"> 0.0215566</td><td style=\"text-align: right;\"> 0.0875578  </td><td style=\"text-align: right;\"> 0.0940625</td><td style=\"text-align: right;\">-0.0775198 </td><td style=\"text-align: right;\">-0.0412153</td><td style=\"text-align: right;\">0.287628 </td><td style=\"text-align: right;\">-0.175759  </td><td style=\"text-align: right;\">-0.0431923</td><td style=\"text-align: right;\">-0.0340829</td><td style=\"text-align: right;\">-0.0946529 </td><td style=\"text-align: right;\">0.625802</td><td style=\"text-align: right;\"> 0.157747  </td><td style=\"text-align: right;\"> 0.173603  </td><td style=\"text-align: right;\">-0.302124  </td><td style=\"text-align: right;\">-0.154129 </td><td style=\"text-align: right;\">-0.0413515</td><td style=\"text-align: right;\">-0.207957   </td><td style=\"text-align: right;\">-0.430538 </td><td style=\"text-align: right;\"> 0.221535 </td><td style=\"text-align: right;\"> 0.110375  </td><td style=\"text-align: right;\"> 0.127469 </td><td style=\"text-align: right;\"> 0.0547057</td><td style=\"text-align: right;\">-0.106381 </td><td style=\"text-align: right;\">-0.49323   </td><td style=\"text-align: right;\">-0.290045 </td><td style=\"text-align: right;\">-0.513674 </td><td style=\"text-align: right;\">-0.306687 </td><td style=\"text-align: right;\"> 0.0464397</td><td style=\"text-align: right;\">-0.126912  </td><td style=\"text-align: right;\">-0.429154 </td><td style=\"text-align: right;\"> 0.146639 </td><td style=\"text-align: right;\">-0.235889 </td><td style=\"text-align: right;\">-0.336913 </td><td style=\"text-align: right;\"> 0.198513  </td><td style=\"text-align: right;\"> 0.132699  </td><td style=\"text-align: right;\">-0.265438  </td><td style=\"text-align: right;\"> 0.0218821 </td><td style=\"text-align: right;\">-0.355563 </td><td style=\"text-align: right;\">-0.0954062 </td><td style=\"text-align: right;\">0.621025</td><td style=\"text-align: right;\">-0.00388455</td><td style=\"text-align: right;\">-0.13954  </td><td style=\"text-align: right;\">-0.167202 </td><td style=\"text-align: right;\">-0.180501 </td><td style=\"text-align: right;\"> 0.457761  </td><td style=\"text-align: right;\">-0.175386  </td><td style=\"text-align: right;\"> 0.435238 </td></tr>\n",
              "<tr><td style=\"text-align: right;\">    08</td><td style=\"text-align: right;\"> 0.325663 </td><td style=\"text-align: right;\"> 0.324456 </td><td style=\"text-align: right;\"> 0.230347 </td><td style=\"text-align: right;\"> 0.186192  </td><td style=\"text-align: right;\">-0.3886  </td><td style=\"text-align: right;\">-0.13949  </td><td style=\"text-align: right;\">-0.200935 </td><td style=\"text-align: right;\">0.393806 </td><td style=\"text-align: right;\">-0.32013  </td><td style=\"text-align: right;\"> 0.245405  </td><td style=\"text-align: right;\">-0.279125 </td><td style=\"text-align: right;\">-0.261854 </td><td style=\"text-align: right;\"> 0.0634165</td><td style=\"text-align: right;\"> 0.136867 </td><td style=\"text-align: right;\">-0.293777 </td><td style=\"text-align: right;\"> 0.000411094</td><td style=\"text-align: right;\">0.164749  </td><td style=\"text-align: right;\"> 0.315333 </td><td style=\"text-align: right;\"> 0.402096 </td><td style=\"text-align: right;\">-0.360847 </td><td style=\"text-align: right;\">-0.00353349</td><td style=\"text-align: right;\"> 0.151305  </td><td style=\"text-align: right;\">-0.114953 </td><td style=\"text-align: right;\">-0.444845 </td><td style=\"text-align: right;\">-0.0182234</td><td style=\"text-align: right;\">-0.118186 </td><td style=\"text-align: right;\"> 0.0258266</td><td style=\"text-align: right;\">-0.379834</td><td style=\"text-align: right;\"> 0.293456 </td><td style=\"text-align: right;\">-0.350288 </td><td style=\"text-align: right;\"> 0.212064 </td><td style=\"text-align: right;\"> 0.382019 </td><td style=\"text-align: right;\">-0.0778894</td><td style=\"text-align: right;\"> 0.521422 </td><td style=\"text-align: right;\">-0.333373 </td><td style=\"text-align: right;\">-0.0352392  </td><td style=\"text-align: right;\">-0.235968 </td><td style=\"text-align: right;\">-0.339804 </td><td style=\"text-align: right;\"> 0.0027551</td><td style=\"text-align: right;\">-0.164009 </td><td style=\"text-align: right;\">-0.0651869</td><td style=\"text-align: right;\"> 0.490045 </td><td style=\"text-align: right;\">-0.159574 </td><td style=\"text-align: right;\">-0.137704 </td><td style=\"text-align: right;\"> 0.23876  </td><td style=\"text-align: right;\">-0.0132225 </td><td style=\"text-align: right;\">-0.121676 </td><td style=\"text-align: right;\"> 0.296473 </td><td style=\"text-align: right;\"> 0.0513201</td><td style=\"text-align: right;\"> 0.398208   </td><td style=\"text-align: right;\">-0.39613  </td><td style=\"text-align: right;\"> 0.0107778</td><td style=\"text-align: right;\">-0.152714 </td><td style=\"text-align: right;\">-0.262069 </td><td style=\"text-align: right;\">-0.00686364 </td><td style=\"text-align: right;\"> 0.13436  </td><td style=\"text-align: right;\">-0.0127211 </td><td style=\"text-align: right;\">-0.0187477</td><td style=\"text-align: right;\">0.276633 </td><td style=\"text-align: right;\">-0.0595782 </td><td style=\"text-align: right;\"> 0.0492022</td><td style=\"text-align: right;\">-0.073731 </td><td style=\"text-align: right;\">-0.211817  </td><td style=\"text-align: right;\">0.555227</td><td style=\"text-align: right;\"> 0.263878  </td><td style=\"text-align: right;\">-0.165639  </td><td style=\"text-align: right;\">-0.479364  </td><td style=\"text-align: right;\">-0.0403582</td><td style=\"text-align: right;\"> 0.0963527</td><td style=\"text-align: right;\">-0.324562   </td><td style=\"text-align: right;\">-0.256962 </td><td style=\"text-align: right;\"> 0.309745 </td><td style=\"text-align: right;\"> 0.11782   </td><td style=\"text-align: right;\"> 0.0905327</td><td style=\"text-align: right;\"> 0.250977 </td><td style=\"text-align: right;\"> 0.162317 </td><td style=\"text-align: right;\">-0.146047  </td><td style=\"text-align: right;\">-0.158572 </td><td style=\"text-align: right;\">-0.797782 </td><td style=\"text-align: right;\">-0.116002 </td><td style=\"text-align: right;\">-0.20454  </td><td style=\"text-align: right;\"> 0.256409  </td><td style=\"text-align: right;\">-0.13847  </td><td style=\"text-align: right;\">-0.0514097</td><td style=\"text-align: right;\">-0.317932 </td><td style=\"text-align: right;\">-0.272581 </td><td style=\"text-align: right;\"> 0.0866174 </td><td style=\"text-align: right;\"> 0.246421  </td><td style=\"text-align: right;\">-0.289847  </td><td style=\"text-align: right;\"> 0.178379  </td><td style=\"text-align: right;\">-0.416469 </td><td style=\"text-align: right;\">-0.108304  </td><td style=\"text-align: right;\">0.514883</td><td style=\"text-align: right;\">-0.276529  </td><td style=\"text-align: right;\">-0.0930825</td><td style=\"text-align: right;\">-0.070958 </td><td style=\"text-align: right;\">-0.401543 </td><td style=\"text-align: right;\"> 0.183345  </td><td style=\"text-align: right;\">-0.254603  </td><td style=\"text-align: right;\"> 0.628973 </td></tr>\n",
              "</tbody>\n",
              "</table>"
            ]
          },
          "metadata": {
            "tags": []
          }
        },
        {
          "output_type": "execute_result",
          "data": {
            "text/plain": [
              ""
            ]
          },
          "metadata": {
            "tags": []
          },
          "execution_count": 82
        }
      ]
    },
    {
      "cell_type": "code",
      "metadata": {
        "id": "o2X2TRrS9Zvu",
        "colab_type": "code",
        "colab": {
          "base_uri": "https://localhost:8080/",
          "height": 295
        },
        "outputId": "11540370-ae2d-4e8e-dfb9-a0f554007df8"
      },
      "source": [
        "word_embeddings['C78'].hist()"
      ],
      "execution_count": 83,
      "outputs": [
        {
          "output_type": "display_data",
          "data": {
            "image/png": "[encoded data removed]",
            "text/plain": [
              "<Figure size 432x288 with 1 Axes>"
            ]
          },
          "metadata": {
            "tags": [],
            "needs_background": "light"
          }
        }
      ]
    },
    {
      "cell_type": "markdown",
      "metadata": {
        "id": "h-EuJ7Q5DZ6O",
        "colab_type": "text"
      },
      "source": [
        "History shows distribution of word vectors in Headline_C78."
      ]
    },
    {
      "cell_type": "code",
      "metadata": {
        "id": "32FO0sNb9nts",
        "colab_type": "code",
        "colab": {
          "base_uri": "https://localhost:8080/",
          "height": 468
        },
        "outputId": "22503441-4282-4d1f-9f85-652f0c479acf"
      },
      "source": [
        "low_c78_words= word_embeddings[word_embeddings['C78'] < -0.25]\n",
        "low_c78_words[['word', 'C78']].head(20)"
      ],
      "execution_count": 86,
      "outputs": [
        {
          "output_type": "display_data",
          "data": {
            "text/html": [
              "<table>\n",
              "<thead>\n",
              "<tr><th>word        </th><th style=\"text-align: right;\">      C78</th></tr>\n",
              "</thead>\n",
              "<tbody>\n",
              "<tr><td>05          </td><td style=\"text-align: right;\">-0.290045</td></tr>\n",
              "<tr><td>1000l       </td><td style=\"text-align: right;\">-0.298752</td></tr>\n",
              "<tr><td>2008        </td><td style=\"text-align: right;\">-0.305591</td></tr>\n",
              "<tr><td>2009        </td><td style=\"text-align: right;\">-0.487267</td></tr>\n",
              "<tr><td>2010        </td><td style=\"text-align: right;\">-0.428902</td></tr>\n",
              "<tr><td>2012        </td><td style=\"text-align: right;\">-0.593047</td></tr>\n",
              "<tr><td>2013        </td><td style=\"text-align: right;\">-0.588508</td></tr>\n",
              "<tr><td>2014        </td><td style=\"text-align: right;\">-0.412608</td></tr>\n",
              "<tr><td>2015        </td><td style=\"text-align: right;\">-0.278185</td></tr>\n",
              "<tr><td>3m          </td><td style=\"text-align: right;\">-0.320499</td></tr>\n",
              "<tr><td>absolute    </td><td style=\"text-align: right;\">-0.358004</td></tr>\n",
              "<tr><td>accept      </td><td style=\"text-align: right;\">-0.268687</td></tr>\n",
              "<tr><td>accupressure</td><td style=\"text-align: right;\">-0.322658</td></tr>\n",
              "<tr><td>ace         </td><td style=\"text-align: right;\">-0.308481</td></tr>\n",
              "<tr><td>achilles    </td><td style=\"text-align: right;\">-0.784163</td></tr>\n",
              "<tr><td>achy        </td><td style=\"text-align: right;\">-0.337197</td></tr>\n",
              "<tr><td>acl         </td><td style=\"text-align: right;\">-0.290883</td></tr>\n",
              "<tr><td>acrylic     </td><td style=\"text-align: right;\">-0.481549</td></tr>\n",
              "<tr><td>ad          </td><td style=\"text-align: right;\">-0.329481</td></tr>\n",
              "<tr><td>addressed   </td><td style=\"text-align: right;\">-0.306146</td></tr>\n",
              "</tbody>\n",
              "</table>"
            ]
          },
          "metadata": {
            "tags": []
          }
        },
        {
          "output_type": "execute_result",
          "data": {
            "text/plain": [
              ""
            ]
          },
          "metadata": {
            "tags": []
          },
          "execution_count": 86
        }
      ]
    },
    {
      "cell_type": "code",
      "metadata": {
        "id": "s92cAt4JDzS9",
        "colab_type": "code",
        "colab": {
          "base_uri": "https://localhost:8080/",
          "height": 468
        },
        "outputId": "59682c78-a92e-47a0-b593-22fe3eb42231"
      },
      "source": [
        "low_c78_words= word_embeddings[word_embeddings['C78'] > 0.05]\n",
        "low_c78_words[['word', 'C78']].head(20)"
      ],
      "execution_count": 87,
      "outputs": [
        {
          "output_type": "display_data",
          "data": {
            "text/html": [
              "<table>\n",
              "<thead>\n",
              "<tr><th>word  </th><th style=\"text-align: right;\">      C78</th></tr>\n",
              "</thead>\n",
              "<tbody>\n",
              "<tr><td>00    </td><td style=\"text-align: right;\">0.221862 </td></tr>\n",
              "<tr><td>000   </td><td style=\"text-align: right;\">0.537926 </td></tr>\n",
              "<tr><td>007   </td><td style=\"text-align: right;\">0.182249 </td></tr>\n",
              "<tr><td>01500 </td><td style=\"text-align: right;\">0.119856 </td></tr>\n",
              "<tr><td>02    </td><td style=\"text-align: right;\">0.104046 </td></tr>\n",
              "<tr><td>04    </td><td style=\"text-align: right;\">0.090317 </td></tr>\n",
              "<tr><td>10    </td><td style=\"text-align: right;\">0.233827 </td></tr>\n",
              "<tr><td>100   </td><td style=\"text-align: right;\">0.2778   </td></tr>\n",
              "<tr><td>100mm </td><td style=\"text-align: right;\">0.243878 </td></tr>\n",
              "<tr><td>100s  </td><td style=\"text-align: right;\">0.0978326</td></tr>\n",
              "<tr><td>100th </td><td style=\"text-align: right;\">0.220285 </td></tr>\n",
              "<tr><td>101   </td><td style=\"text-align: right;\">0.268804 </td></tr>\n",
              "<tr><td>102   </td><td style=\"text-align: right;\">0.290662 </td></tr>\n",
              "<tr><td>104   </td><td style=\"text-align: right;\">0.484111 </td></tr>\n",
              "<tr><td>105   </td><td style=\"text-align: right;\">0.353626 </td></tr>\n",
              "<tr><td>106   </td><td style=\"text-align: right;\">0.327109 </td></tr>\n",
              "<tr><td>110v  </td><td style=\"text-align: right;\">0.187524 </td></tr>\n",
              "<tr><td>111   </td><td style=\"text-align: right;\">0.196262 </td></tr>\n",
              "<tr><td>112   </td><td style=\"text-align: right;\">0.502415 </td></tr>\n",
              "<tr><td>113   </td><td style=\"text-align: right;\">0.287031 </td></tr>\n",
              "</tbody>\n",
              "</table>"
            ]
          },
          "metadata": {
            "tags": []
          }
        },
        {
          "output_type": "execute_result",
          "data": {
            "text/plain": [
              ""
            ]
          },
          "metadata": {
            "tags": []
          },
          "execution_count": 87
        }
      ]
    }
  ]
}