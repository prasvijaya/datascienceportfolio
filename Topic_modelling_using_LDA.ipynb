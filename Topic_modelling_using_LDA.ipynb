{
  "nbformat": 4,
  "nbformat_minor": 0,
  "metadata": {
    "colab": {
      "name": "Topic modelling using LDA",
      "provenance": [],
      "collapsed_sections": [],
      "authorship_tag": "ABX9TyMUJbSUEHCm3t4D8D/PET6P",
      "include_colab_link": true
    },
    "kernelspec": {
      "name": "python3",
      "display_name": "Python 3"
    }
  },
  "cells": [
    {
      "cell_type": "markdown",
      "metadata": {
        "id": "view-in-github",
        "colab_type": "text"
      },
      "source": [
        "<a href=\"https://colab.research.google.com/github/prasvijaya/datascienceportfolio/blob/master/Topic_modelling_using_LDA.ipynb\" target=\"_parent\"><img src=\"https://colab.research.google.com/assets/colab-badge.svg\" alt=\"Open In Colab\"/></a>"
      ]
    },
    {
      "cell_type": "markdown",
      "metadata": {
        "id": "y3IDgso_V4X9",
        "colab_type": "text"
      },
      "source": [
        "Topic modeling is a type of statistical modeling for discovering the abstract “topics” that occur in a collection of documents. Latent Dirichlet Allocation (LDA) is an example of topic model and is used to classify text in a document to a particular topic. It builds a topic per document model and words per topic model, modeled as Dirichlet distributions."
      ]
    },
    {
      "cell_type": "code",
      "metadata": {
        "id": "3dUIbiftVI6b",
        "colab_type": "code",
        "colab": {}
      },
      "source": [
        "import pandas as pd\n",
        "import numpy as np\n",
        "import re\n",
        "import nltk\n",
        "from nltk.tokenize import word_tokenize, sent_tokenize\n",
        "from nltk.stem.porter import PorterStemmer\n",
        "from sklearn.model_selection import train_test_split\n",
        "from sklearn.feature_extraction.text import TfidfVectorizer, CountVectorizer\n",
        "from sklearn import decomposition"
      ],
      "execution_count": 1,
      "outputs": []
    },
    {
      "cell_type": "code",
      "metadata": {
        "id": "ro0oaThOV2cf",
        "colab_type": "code",
        "colab": {
          "base_uri": "https://localhost:8080/",
          "height": 72
        },
        "outputId": "9ec23ab9-02db-4649-d926-def61a16cbe5"
      },
      "source": [
        "nltk.download('punkt')"
      ],
      "execution_count": 2,
      "outputs": [
        {
          "output_type": "stream",
          "text": [
            "[nltk_data] Downloading package punkt to /root/nltk_data...\n",
            "[nltk_data]   Package punkt is already up-to-date!\n"
          ],
          "name": "stdout"
        },
        {
          "output_type": "execute_result",
          "data": {
            "text/plain": [
              "True"
            ]
          },
          "metadata": {
            "tags": []
          },
          "execution_count": 2
        }
      ]
    },
    {
      "cell_type": "code",
      "metadata": {
        "id": "EvZF2A0ZW6IR",
        "colab_type": "code",
        "colab": {}
      },
      "source": [
        "df= pd.read_csv('https://github.com/srivatsan88/YouTubeLI/blob/master/dataset/consumer_compliants.zip?raw=true', compression='zip', delimiter=',', quotechar='\"')"
      ],
      "execution_count": 3,
      "outputs": []
    },
    {
      "cell_type": "code",
      "metadata": {
        "id": "4TkG6N-WXcsn",
        "colab_type": "code",
        "colab": {
          "base_uri": "https://localhost:8080/",
          "height": 571
        },
        "outputId": "a9129ab7-549f-400f-e92a-c637a3ebed00"
      },
      "source": [
        "df.head()"
      ],
      "execution_count": 4,
      "outputs": [
        {
          "output_type": "execute_result",
          "data": {
            "text/html": [
              "<div>\n",
              "<style scoped>\n",
              "    .dataframe tbody tr th:only-of-type {\n",
              "        vertical-align: middle;\n",
              "    }\n",
              "\n",
              "    .dataframe tbody tr th {\n",
              "        vertical-align: top;\n",
              "    }\n",
              "\n",
              "    .dataframe thead th {\n",
              "        text-align: right;\n",
              "    }\n",
              "</style>\n",
              "<table border=\"1\" class=\"dataframe\">\n",
              "  <thead>\n",
              "    <tr style=\"text-align: right;\">\n",
              "      <th></th>\n",
              "      <th>Date received</th>\n",
              "      <th>Product</th>\n",
              "      <th>Sub-product</th>\n",
              "      <th>Issue</th>\n",
              "      <th>Sub-issue</th>\n",
              "      <th>Consumer complaint narrative</th>\n",
              "      <th>Company public response</th>\n",
              "      <th>Company</th>\n",
              "      <th>State</th>\n",
              "      <th>ZIP code</th>\n",
              "      <th>Tags</th>\n",
              "      <th>Consumer consent provided?</th>\n",
              "      <th>Submitted via</th>\n",
              "      <th>Date sent to company</th>\n",
              "      <th>Company response to consumer</th>\n",
              "      <th>Timely response?</th>\n",
              "      <th>Consumer disputed?</th>\n",
              "      <th>Complaint ID</th>\n",
              "    </tr>\n",
              "  </thead>\n",
              "  <tbody>\n",
              "    <tr>\n",
              "      <th>0</th>\n",
              "      <td>4/3/2020</td>\n",
              "      <td>Vehicle loan or lease</td>\n",
              "      <td>Loan</td>\n",
              "      <td>Getting a loan or lease</td>\n",
              "      <td>Fraudulent loan</td>\n",
              "      <td>This auto loan was opened on XX/XX/2020 in XXX...</td>\n",
              "      <td>Company has responded to the consumer and the ...</td>\n",
              "      <td>TRUIST FINANCIAL CORPORATION</td>\n",
              "      <td>PA</td>\n",
              "      <td>None</td>\n",
              "      <td>None</td>\n",
              "      <td>Consent provided</td>\n",
              "      <td>Web</td>\n",
              "      <td>4/3/2020</td>\n",
              "      <td>Closed with explanation</td>\n",
              "      <td>Yes</td>\n",
              "      <td>NaN</td>\n",
              "      <td>3591341</td>\n",
              "    </tr>\n",
              "    <tr>\n",
              "      <th>1</th>\n",
              "      <td>3/12/2020</td>\n",
              "      <td>Debt collection</td>\n",
              "      <td>Payday loan debt</td>\n",
              "      <td>Attempts to collect debt not owed</td>\n",
              "      <td>Debt is not yours</td>\n",
              "      <td>In XXXX of 2019 I noticed a debt for {$620.00}...</td>\n",
              "      <td>None</td>\n",
              "      <td>CURO Intermediate Holdings</td>\n",
              "      <td>CO</td>\n",
              "      <td>806XX</td>\n",
              "      <td>None</td>\n",
              "      <td>Consent provided</td>\n",
              "      <td>Web</td>\n",
              "      <td>3/12/2020</td>\n",
              "      <td>Closed with explanation</td>\n",
              "      <td>Yes</td>\n",
              "      <td>NaN</td>\n",
              "      <td>3564184</td>\n",
              "    </tr>\n",
              "    <tr>\n",
              "      <th>2</th>\n",
              "      <td>2/6/2020</td>\n",
              "      <td>Vehicle loan or lease</td>\n",
              "      <td>Loan</td>\n",
              "      <td>Getting a loan or lease</td>\n",
              "      <td>Credit denial</td>\n",
              "      <td>As stated from Capital One, XXXX XX/XX/XXXX an...</td>\n",
              "      <td>None</td>\n",
              "      <td>CAPITAL ONE FINANCIAL CORPORATION</td>\n",
              "      <td>OH</td>\n",
              "      <td>430XX</td>\n",
              "      <td>None</td>\n",
              "      <td>Consent provided</td>\n",
              "      <td>Web</td>\n",
              "      <td>2/6/2020</td>\n",
              "      <td>Closed with explanation</td>\n",
              "      <td>Yes</td>\n",
              "      <td>NaN</td>\n",
              "      <td>3521949</td>\n",
              "    </tr>\n",
              "    <tr>\n",
              "      <th>3</th>\n",
              "      <td>3/6/2020</td>\n",
              "      <td>Checking or savings account</td>\n",
              "      <td>Savings account</td>\n",
              "      <td>Managing an account</td>\n",
              "      <td>Banking errors</td>\n",
              "      <td>Please see CFPB case XXXX. \\n\\nCapital One, in...</td>\n",
              "      <td>None</td>\n",
              "      <td>CAPITAL ONE FINANCIAL CORPORATION</td>\n",
              "      <td>CA</td>\n",
              "      <td>None</td>\n",
              "      <td>None</td>\n",
              "      <td>Consent provided</td>\n",
              "      <td>Web</td>\n",
              "      <td>3/6/2020</td>\n",
              "      <td>Closed with explanation</td>\n",
              "      <td>Yes</td>\n",
              "      <td>NaN</td>\n",
              "      <td>3556237</td>\n",
              "    </tr>\n",
              "    <tr>\n",
              "      <th>4</th>\n",
              "      <td>2/14/2020</td>\n",
              "      <td>Debt collection</td>\n",
              "      <td>Medical debt</td>\n",
              "      <td>Attempts to collect debt not owed</td>\n",
              "      <td>Debt is not yours</td>\n",
              "      <td>This debt was incurred due to medical malpract...</td>\n",
              "      <td>Company believes it acted appropriately as aut...</td>\n",
              "      <td>Merchants and Professional Bureau, Inc.</td>\n",
              "      <td>OH</td>\n",
              "      <td>432XX</td>\n",
              "      <td>None</td>\n",
              "      <td>Consent provided</td>\n",
              "      <td>Web</td>\n",
              "      <td>2/14/2020</td>\n",
              "      <td>Closed with explanation</td>\n",
              "      <td>Yes</td>\n",
              "      <td>NaN</td>\n",
              "      <td>3531704</td>\n",
              "    </tr>\n",
              "  </tbody>\n",
              "</table>\n",
              "</div>"
            ],
            "text/plain": [
              "  Date received                      Product  ... Consumer disputed? Complaint ID\n",
              "0      4/3/2020        Vehicle loan or lease  ...                NaN      3591341\n",
              "1     3/12/2020              Debt collection  ...                NaN      3564184\n",
              "2      2/6/2020        Vehicle loan or lease  ...                NaN      3521949\n",
              "3      3/6/2020  Checking or savings account  ...                NaN      3556237\n",
              "4     2/14/2020              Debt collection  ...                NaN      3531704\n",
              "\n",
              "[5 rows x 18 columns]"
            ]
          },
          "metadata": {
            "tags": []
          },
          "execution_count": 4
        }
      ]
    },
    {
      "cell_type": "code",
      "metadata": {
        "id": "e_7s151HXlW0",
        "colab_type": "code",
        "colab": {
          "base_uri": "https://localhost:8080/",
          "height": 35
        },
        "outputId": "d2944182-a63e-4348-e9d9-287df9e4abf1"
      },
      "source": [
        "df.shape"
      ],
      "execution_count": 5,
      "outputs": [
        {
          "output_type": "execute_result",
          "data": {
            "text/plain": [
              "(57453, 18)"
            ]
          },
          "metadata": {
            "tags": []
          },
          "execution_count": 5
        }
      ]
    },
    {
      "cell_type": "code",
      "metadata": {
        "id": "3OscJrl-Xnw3",
        "colab_type": "code",
        "colab": {
          "base_uri": "https://localhost:8080/",
          "height": 479
        },
        "outputId": "04ca7534-cbfb-42ce-8dc0-6053e3985342"
      },
      "source": [
        "df.info()"
      ],
      "execution_count": 6,
      "outputs": [
        {
          "output_type": "stream",
          "text": [
            "<class 'pandas.core.frame.DataFrame'>\n",
            "RangeIndex: 57453 entries, 0 to 57452\n",
            "Data columns (total 18 columns):\n",
            " #   Column                        Non-Null Count  Dtype  \n",
            "---  ------                        --------------  -----  \n",
            " 0   Date received                 57453 non-null  object \n",
            " 1   Product                       57453 non-null  object \n",
            " 2   Sub-product                   57453 non-null  object \n",
            " 3   Issue                         57453 non-null  object \n",
            " 4   Sub-issue                     57453 non-null  object \n",
            " 5   Consumer complaint narrative  57453 non-null  object \n",
            " 6   Company public response       57453 non-null  object \n",
            " 7   Company                       57453 non-null  object \n",
            " 8   State                         57453 non-null  object \n",
            " 9   ZIP code                      57453 non-null  object \n",
            " 10  Tags                          57453 non-null  object \n",
            " 11  Consumer consent provided?    57453 non-null  object \n",
            " 12  Submitted via                 57453 non-null  object \n",
            " 13  Date sent to company          57453 non-null  object \n",
            " 14  Company response to consumer  57453 non-null  object \n",
            " 15  Timely response?              57453 non-null  object \n",
            " 16  Consumer disputed?            0 non-null      float64\n",
            " 17  Complaint ID                  57453 non-null  int64  \n",
            "dtypes: float64(1), int64(1), object(16)\n",
            "memory usage: 7.9+ MB\n"
          ],
          "name": "stdout"
        }
      ]
    },
    {
      "cell_type": "code",
      "metadata": {
        "id": "4BU6zqUtX3Th",
        "colab_type": "code",
        "colab": {
          "base_uri": "https://localhost:8080/",
          "height": 368
        },
        "outputId": "5f46b204-dbe6-400d-d99a-d760256025f4"
      },
      "source": [
        "df.nunique()"
      ],
      "execution_count": 7,
      "outputs": [
        {
          "output_type": "execute_result",
          "data": {
            "text/plain": [
              "Date received                     354\n",
              "Product                             6\n",
              "Sub-product                        32\n",
              "Issue                              44\n",
              "Sub-issue                         160\n",
              "Consumer complaint narrative    55390\n",
              "Company public response            11\n",
              "Company                          2197\n",
              "State                              60\n",
              "ZIP code                         2874\n",
              "Tags                                4\n",
              "Consumer consent provided?          1\n",
              "Submitted via                       1\n",
              "Date sent to company              359\n",
              "Company response to consumer        5\n",
              "Timely response?                    2\n",
              "Consumer disputed?                  0\n",
              "Complaint ID                    57453\n",
              "dtype: int64"
            ]
          },
          "metadata": {
            "tags": []
          },
          "execution_count": 7
        }
      ]
    },
    {
      "cell_type": "markdown",
      "metadata": {
        "id": "YuMgumo5YFPf",
        "colab_type": "text"
      },
      "source": [
        "Consumer compliants narrative are filed under 6 different products. We need to review our complaints and determine under which product category the compliants are filed under. Number of Topics given are 6 topics. "
      ]
    },
    {
      "cell_type": "code",
      "metadata": {
        "id": "67fBapSnYEPw",
        "colab_type": "code",
        "colab": {
          "base_uri": "https://localhost:8080/",
          "height": 146
        },
        "outputId": "5ee11e64-443d-416b-da8b-bbdc9b3745ce"
      },
      "source": [
        "df['Product'].value_counts()"
      ],
      "execution_count": 8,
      "outputs": [
        {
          "output_type": "execute_result",
          "data": {
            "text/plain": [
              "Debt collection                21772\n",
              "Credit card or prepaid card    13193\n",
              "Mortgage                        9799\n",
              "Checking or savings account     7003\n",
              "Student loan                    2950\n",
              "Vehicle loan or lease           2736\n",
              "Name: Product, dtype: int64"
            ]
          },
          "metadata": {
            "tags": []
          },
          "execution_count": 8
        }
      ]
    },
    {
      "cell_type": "markdown",
      "metadata": {
        "id": "1BTBW2FWY1Kz",
        "colab_type": "text"
      },
      "source": [
        "As you see, Consumer Complaints are filed under 6 products category."
      ]
    },
    {
      "cell_type": "code",
      "metadata": {
        "id": "8hyAAqUdYttZ",
        "colab_type": "code",
        "colab": {
          "base_uri": "https://localhost:8080/",
          "height": 239
        },
        "outputId": "70fe026c-44e2-4156-fe02-6c0b074e1fac"
      },
      "source": [
        "df['Company'].value_counts()"
      ],
      "execution_count": 9,
      "outputs": [
        {
          "output_type": "execute_result",
          "data": {
            "text/plain": [
              "CITIBANK, N.A.                           3226\n",
              "CAPITAL ONE FINANCIAL CORPORATION        2711\n",
              "BANK OF AMERICA, NATIONAL ASSOCIATION    2580\n",
              "JPMORGAN CHASE & CO.                     2409\n",
              "WELLS FARGO & COMPANY                    2001\n",
              "                                         ... \n",
              "Veristone Mortgage, LLC                     1\n",
              "Lefkoff, Rubin, Gleason & Russo, P.C.       1\n",
              "EMG ACQUISITION GROUP, LLC                  1\n",
              "Tormey Bewley Corporation                   1\n",
              "MORTGAGE INVESTORS GROUP                    1\n",
              "Name: Company, Length: 2197, dtype: int64"
            ]
          },
          "metadata": {
            "tags": []
          },
          "execution_count": 9
        }
      ]
    },
    {
      "cell_type": "markdown",
      "metadata": {
        "id": "odnGcGoBY_Ke",
        "colab_type": "text"
      },
      "source": [
        "Company column contains against the company which the complaints are filed under. Most Complaints are filed against CITIBANK following CAPITAL ONE FINANCIAL CORPORATION, BANK OF AMERICA, NATIONAL ASSOCIATION."
      ]
    },
    {
      "cell_type": "markdown",
      "metadata": {
        "id": "XKYhcSWzZT7n",
        "colab_type": "text"
      },
      "source": [
        "Though we have many columns present in Dataset, we will pick 3 most important informative features for Topic Modelling."
      ]
    },
    {
      "cell_type": "code",
      "metadata": {
        "id": "ySorpOLjY-oC",
        "colab_type": "code",
        "colab": {}
      },
      "source": [
        "complaints_df= df[['Product', 'Company', 'Consumer complaint narrative']].rename(columns={'Consumer complaint narrative':'Complaints'})"
      ],
      "execution_count": 10,
      "outputs": []
    },
    {
      "cell_type": "code",
      "metadata": {
        "id": "n13VLCSSagAK",
        "colab_type": "code",
        "colab": {
          "base_uri": "https://localhost:8080/",
          "height": 1000
        },
        "outputId": "95e7a7df-70fc-42db-aaa4-1a068f9b884c"
      },
      "source": [
        "pd.set_option('display.max_colwidth', -1)\n",
        "complaints_df"
      ],
      "execution_count": 11,
      "outputs": [
        {
          "output_type": "stream",
          "text": [
            "/usr/local/lib/python3.6/dist-packages/ipykernel_launcher.py:1: FutureWarning: Passing a negative integer is deprecated in version 1.0 and will not be supported in future version. Instead, use None to not limit the column width.\n",
            "  \"\"\"Entry point for launching an IPython kernel.\n"
          ],
          "name": "stderr"
        },
        {
          "output_type": "execute_result",
          "data": {
            "text/html": [
              "<div>\n",
              "<style scoped>\n",
              "    .dataframe tbody tr th:only-of-type {\n",
              "        vertical-align: middle;\n",
              "    }\n",
              "\n",
              "    .dataframe tbody tr th {\n",
              "        vertical-align: top;\n",
              "    }\n",
              "\n",
              "    .dataframe thead th {\n",
              "        text-align: right;\n",
              "    }\n",
              "</style>\n",
              "<table border=\"1\" class=\"dataframe\">\n",
              "  <thead>\n",
              "    <tr style=\"text-align: right;\">\n",
              "      <th></th>\n",
              "      <th>Product</th>\n",
              "      <th>Company</th>\n",
              "      <th>Complaints</th>\n",
              "    </tr>\n",
              "  </thead>\n",
              "  <tbody>\n",
              "    <tr>\n",
              "      <th>0</th>\n",
              "      <td>Vehicle loan or lease</td>\n",
              "      <td>TRUIST FINANCIAL CORPORATION</td>\n",
              "      <td>This auto loan was opened on XX/XX/2020 in XXXX, NC with BB &amp; T in my name. I have NEVER been to North Carolina and I have NEVER been a resident. I have filed a dispute twice through my credit bureaus but both times BB &amp; T has claimed that this is an accurate loan. Which I wasn't aware of until today. I have tried to contact BB &amp; T multiple times but I have never gotten through to a live person. I do n't drive and I have never owned a car before. I didn't have any knowledge of this account until I checked XXXXXXXX XXXX  and noticed it. I've tried twice to dispute it. Additionally I never received any bills or information about this account. This is my last resort in trying to remove this fraudulent loan off of my account.</td>\n",
              "    </tr>\n",
              "    <tr>\n",
              "      <th>1</th>\n",
              "      <td>Debt collection</td>\n",
              "      <td>CURO Intermediate Holdings</td>\n",
              "      <td>In XXXX of 2019 I noticed a debt for {$620.00} on my credit which i believed was mine I thought speedy cash had bought one of my old debts and sold it to XXXX XXXX XXXX XXXX. I contacted XXXX XXXX XXXX XXXX and after several attempts of giving my full name, nothing came up in their system. I gave my social and the rep said the account popped up but DID NOT tell me that the account was under someone elses name and continued to let me make a payment. The payment was for {$120.00}. Confirmation number-XXXX. After realizing it was not my account, I called back to get my money back and inform them of the mistake. I was told i needed to mail them an FTC report and dispute letter to get my money back. I completed all of this and when i called again they said they transferred the account back to speedy cash for fraud review and I would need to contact them. After contacting them i was again told that i can not get my money back. The issue im having is this representative at XXXX XXXX played blind to obvious fraud and let an innocent person make a payment on someone elses debt and i want my money back.</td>\n",
              "    </tr>\n",
              "    <tr>\n",
              "      <th>2</th>\n",
              "      <td>Vehicle loan or lease</td>\n",
              "      <td>CAPITAL ONE FINANCIAL CORPORATION</td>\n",
              "      <td>As stated from Capital One, XXXX XX/XX/XXXX and XXXX 2018, My wife and I went to several car dealerships to request for a car loan to get a used car. However, according to their credit requirements unfortunately my credit score was insufficient for the car loan approval at that time. It seemed as though they pulled my credit report multiple times.</td>\n",
              "    </tr>\n",
              "    <tr>\n",
              "      <th>3</th>\n",
              "      <td>Checking or savings account</td>\n",
              "      <td>CAPITAL ONE FINANCIAL CORPORATION</td>\n",
              "      <td>Please see CFPB case XXXX. \\n\\nCapital One, in the letter they provided ( and attached to that case as their response ) said this : \" The funds were reversed and sent back to XXXX XXXX XXXX  on XX/XX/XXXX ''. \\n\\nXXXX XXXX XXXX  ( now XXXX XXXX  ) has not received these funds. Staff at XXXX XXXX  - and also staff at the account-holder 's business - have looked for return of my money ( {$650.00} ) and find nothing. \\n\\nCapital One needs to document - actually prove - they returned the funds, as stated in their letter. Capital One must provide electronic information, if the return was made that way, or document the paper check they sent back to XXXX XXXX. \\n\\nI've left 3 messages about this problem for the person who signed the letter ( XXXX ) from Capital One. I have received no call-backs. \\n\\nSummary : Capital One said they returned my money on XX/XX/XXXX : they did not. If they continue claim they did, then they need to prove that.</td>\n",
              "    </tr>\n",
              "    <tr>\n",
              "      <th>4</th>\n",
              "      <td>Debt collection</td>\n",
              "      <td>Merchants and Professional Bureau, Inc.</td>\n",
              "      <td>This debt was incurred due to medical malpractice ( XXXX XXXX XXXX, XXXX, TX ). I asked the doctor to turn over my claim to his malpractice insurance company. This has cost me thousands of dollars to XXXX XXXX XXXX. I am still trying to collect damages from this doctor. He never responded and turned over me to collections Merchants and Professional Collection Bureau , Inc. I sent them a letter describing exactly this issue and instead of not contacting me and verifying my debt they start reporting this debt to the credit reporting agencies. They never verified the debt, like I asked and they never stopped it from being reported when I specifically told them not to, due to the circumstances above.</td>\n",
              "    </tr>\n",
              "    <tr>\n",
              "      <th>...</th>\n",
              "      <td>...</td>\n",
              "      <td>...</td>\n",
              "      <td>...</td>\n",
              "    </tr>\n",
              "    <tr>\n",
              "      <th>57448</th>\n",
              "      <td>Student loan</td>\n",
              "      <td>Nelnet, Inc.</td>\n",
              "      <td>I am attempting to make a payment toward my student loans on the Nelnet website today, XX/XX/20, and Nelnet will not allow me to post the payment sooner than XX/XX/20. By the time the payment posts, 2-3 days of additional interest will have accrued and my payments will apply more to interest than is due today, the day that I'm attempting to pay. My understanding was that I could make a payment at any time but this does not appear to be true. The funds are available in my bank account today regardless of whether Nelnet can collect over the weekend. I should not be penalized for this. \\n\\nI submitted complaint XXXX in XXXX for other deceptive practices with Nelnet. They have not yet resolved the issue identified in that complaint or contacted me as they said they would in their response. I believe this new issue is just one more deceptive practice by this company that causes financial harm to borrowers.</td>\n",
              "    </tr>\n",
              "    <tr>\n",
              "      <th>57449</th>\n",
              "      <td>Debt collection</td>\n",
              "      <td>The Receivable Management Services LLC, New York, NY Branch</td>\n",
              "      <td>Received letter for {$480.00}. Original creditor didnt contact me until past statute of limitations for insurance company recoupment per Arizona law. Debt collection is illegal for phantom debt. Additionally they are phoning my office excessively.</td>\n",
              "    </tr>\n",
              "    <tr>\n",
              "      <th>57450</th>\n",
              "      <td>Debt collection</td>\n",
              "      <td>Convergent Resources, Inc.</td>\n",
              "      <td>entire time 10 years until XX/XX/2020. XXXX makes my blood boil. I have called and was lied to told to provide my checking account information over the phone in order to turn my cell phone back on. i called at XXXX them at XXXX {$300.00} was added to my bill. \\n\\nScam scam scam I was told I can not call the office of the President just to write to XXXX XXXX XXXX XXXX XXXX XXXX XXXX, NM XXXX. I did three thousand times. the last letter I mailed on XX/XX/2020. Two collection agencies later. \\n\\nI chose to leave XXXX XXXX every time I called the XXXX supervisor would threaten me on a recorded line. I need peace of mind and a good Heart to beat inside of me. Im on a XXXX XXXX due to the stress at XXXX XXXX   taking all my money 4 10 years.</td>\n",
              "    </tr>\n",
              "    <tr>\n",
              "      <th>57451</th>\n",
              "      <td>Checking or savings account</td>\n",
              "      <td>WELLS FARGO &amp; COMPANY</td>\n",
              "      <td>I am a customer with Wells Fargo Bank. Recently money was withdrawn on a couple of occasions without my permission or consent to pay for a timeshare account that was never used by me nor anyone connected to me because of unfair policies pertaining to the fees of the said timeshare. I tried cancelling the said timeshare account several times because of these fees that were never mentioned at the initiation. My account was debited to pay for the timeshare fees without my knowledge or consent several times. I tried correcting this with Wells Fargo bank with no avail. I would appreciate it if you can look into this matter for me. I was left with no funds in my account and as such I could not take care of the basic necessities of my day to day life. \\nThanks in advance,</td>\n",
              "    </tr>\n",
              "    <tr>\n",
              "      <th>57452</th>\n",
              "      <td>Debt collection</td>\n",
              "      <td>Exeter Finance Corp.</td>\n",
              "      <td>I spoken with them several times in a year. An in XXXX they informed me yes they sold my information to a third party without my knowledge. Also, I told them that I dont owe them anything because my car was paid off by insurance XXXX an Gap an they said no. I also informed them that constantly calling me an telling me that my credit score would be damage was inappropriate. But on my credit they written several negative things. An I didnt give Exeter financial Corp no authority to sell my information to XXXX XXXX</td>\n",
              "    </tr>\n",
              "  </tbody>\n",
              "</table>\n",
              "<p>57453 rows × 3 columns</p>\n",
              "</div>"
            ],
            "text/plain": [
              "                           Product  ...                                                                                                                                                                                                                                                                                                                                                                                                                                                                                                                                                                                                                                                                                                                                                                                                                                                                                                                                                                                                                                                                                                                                              Complaints\n",
              "0      Vehicle loan or lease        ...  This auto loan was opened on XX/XX/2020 in XXXX, NC with BB & T in my name. I have NEVER been to North Carolina and I have NEVER been a resident. I have filed a dispute twice through my credit bureaus but both times BB & T has claimed that this is an accurate loan. Which I wasn't aware of until today. I have tried to contact BB & T multiple times but I have never gotten through to a live person. I do n't drive and I have never owned a car before. I didn't have any knowledge of this account until I checked XXXXXXXX XXXX  and noticed it. I've tried twice to dispute it. Additionally I never received any bills or information about this account. This is my last resort in trying to remove this fraudulent loan off of my account.                                                                                                                                                                                                                                                                                                                                                                                           \n",
              "1      Debt collection              ...  In XXXX of 2019 I noticed a debt for {$620.00} on my credit which i believed was mine I thought speedy cash had bought one of my old debts and sold it to XXXX XXXX XXXX XXXX. I contacted XXXX XXXX XXXX XXXX and after several attempts of giving my full name, nothing came up in their system. I gave my social and the rep said the account popped up but DID NOT tell me that the account was under someone elses name and continued to let me make a payment. The payment was for {$120.00}. Confirmation number-XXXX. After realizing it was not my account, I called back to get my money back and inform them of the mistake. I was told i needed to mail them an FTC report and dispute letter to get my money back. I completed all of this and when i called again they said they transferred the account back to speedy cash for fraud review and I would need to contact them. After contacting them i was again told that i can not get my money back. The issue im having is this representative at XXXX XXXX played blind to obvious fraud and let an innocent person make a payment on someone elses debt and i want my money back.\n",
              "2      Vehicle loan or lease        ...  As stated from Capital One, XXXX XX/XX/XXXX and XXXX 2018, My wife and I went to several car dealerships to request for a car loan to get a used car. However, according to their credit requirements unfortunately my credit score was insufficient for the car loan approval at that time. It seemed as though they pulled my credit report multiple times.                                                                                                                                                                                                                                                                                                                                                                                                                                                                                                                                                                                                                                                                                                                                                                                         \n",
              "3      Checking or savings account  ...  Please see CFPB case XXXX. \\n\\nCapital One, in the letter they provided ( and attached to that case as their response ) said this : \" The funds were reversed and sent back to XXXX XXXX XXXX  on XX/XX/XXXX ''. \\n\\nXXXX XXXX XXXX  ( now XXXX XXXX  ) has not received these funds. Staff at XXXX XXXX  - and also staff at the account-holder 's business - have looked for return of my money ( {$650.00} ) and find nothing. \\n\\nCapital One needs to document - actually prove - they returned the funds, as stated in their letter. Capital One must provide electronic information, if the return was made that way, or document the paper check they sent back to XXXX XXXX. \\n\\nI've left 3 messages about this problem for the person who signed the letter ( XXXX ) from Capital One. I have received no call-backs. \\n\\nSummary : Capital One said they returned my money on XX/XX/XXXX : they did not. If they continue claim they did, then they need to prove that.                                                                                                                                                                   \n",
              "4      Debt collection              ...  This debt was incurred due to medical malpractice ( XXXX XXXX XXXX, XXXX, TX ). I asked the doctor to turn over my claim to his malpractice insurance company. This has cost me thousands of dollars to XXXX XXXX XXXX. I am still trying to collect damages from this doctor. He never responded and turned over me to collections Merchants and Professional Collection Bureau , Inc. I sent them a letter describing exactly this issue and instead of not contacting me and verifying my debt they start reporting this debt to the credit reporting agencies. They never verified the debt, like I asked and they never stopped it from being reported when I specifically told them not to, due to the circumstances above.                                                                                                                                                                                                                                                                                                                                                                                                                     \n",
              "...                ...              ...                                                                                                                                                                                                                                                                                                                                                                                                                                                                                                                                                                                                                                                                                                                                ...                                                                                                                                                                                                                                                                                                                                                                                                                     \n",
              "57448  Student loan                 ...  I am attempting to make a payment toward my student loans on the Nelnet website today, XX/XX/20, and Nelnet will not allow me to post the payment sooner than XX/XX/20. By the time the payment posts, 2-3 days of additional interest will have accrued and my payments will apply more to interest than is due today, the day that I'm attempting to pay. My understanding was that I could make a payment at any time but this does not appear to be true. The funds are available in my bank account today regardless of whether Nelnet can collect over the weekend. I should not be penalized for this. \\n\\nI submitted complaint XXXX in XXXX for other deceptive practices with Nelnet. They have not yet resolved the issue identified in that complaint or contacted me as they said they would in their response. I believe this new issue is just one more deceptive practice by this company that causes financial harm to borrowers.                                                                                                                                                                                                    \n",
              "57449  Debt collection              ...  Received letter for {$480.00}. Original creditor didnt contact me until past statute of limitations for insurance company recoupment per Arizona law. Debt collection is illegal for phantom debt. Additionally they are phoning my office excessively.                                                                                                                                                                                                                                                                                                                                                                                                                                                                                                                                                                                                                                                                                                                                                                                                                                                                                               \n",
              "57450  Debt collection              ...  entire time 10 years until XX/XX/2020. XXXX makes my blood boil. I have called and was lied to told to provide my checking account information over the phone in order to turn my cell phone back on. i called at XXXX them at XXXX {$300.00} was added to my bill. \\n\\nScam scam scam I was told I can not call the office of the President just to write to XXXX XXXX XXXX XXXX XXXX XXXX XXXX, NM XXXX. I did three thousand times. the last letter I mailed on XX/XX/2020. Two collection agencies later. \\n\\nI chose to leave XXXX XXXX every time I called the XXXX supervisor would threaten me on a recorded line. I need peace of mind and a good Heart to beat inside of me. Im on a XXXX XXXX due to the stress at XXXX XXXX   taking all my money 4 10 years.                                                                                                                                                                                                                                                                                                                                                                             \n",
              "57451  Checking or savings account  ...  I am a customer with Wells Fargo Bank. Recently money was withdrawn on a couple of occasions without my permission or consent to pay for a timeshare account that was never used by me nor anyone connected to me because of unfair policies pertaining to the fees of the said timeshare. I tried cancelling the said timeshare account several times because of these fees that were never mentioned at the initiation. My account was debited to pay for the timeshare fees without my knowledge or consent several times. I tried correcting this with Wells Fargo bank with no avail. I would appreciate it if you can look into this matter for me. I was left with no funds in my account and as such I could not take care of the basic necessities of my day to day life. \\nThanks in advance,                                                                                                                                                                                                                                                                                                                                               \n",
              "57452  Debt collection              ...  I spoken with them several times in a year. An in XXXX they informed me yes they sold my information to a third party without my knowledge. Also, I told them that I dont owe them anything because my car was paid off by insurance XXXX an Gap an they said no. I also informed them that constantly calling me an telling me that my credit score would be damage was inappropriate. But on my credit they written several negative things. An I didnt give Exeter financial Corp no authority to sell my information to XXXX XXXX                                                                                                                                                                                                                                                                                                                                                                                                                                                                                                                                                                                                                 \n",
              "\n",
              "[57453 rows x 3 columns]"
            ]
          },
          "metadata": {
            "tags": []
          },
          "execution_count": 11
        }
      ]
    },
    {
      "cell_type": "markdown",
      "metadata": {
        "id": "8DLz90Eyaq_V",
        "colab_type": "text"
      },
      "source": [
        "When you are reviewing dataset columns using head() method pandas normally wrapped the text column and display only first three lines. By using, set_option() we can unwrap the text column."
      ]
    },
    {
      "cell_type": "code",
      "metadata": {
        "id": "CrZ5GXzpbLCn",
        "colab_type": "code",
        "colab": {}
      },
      "source": [
        "#Split the dataframe into Training and Hold out set\n",
        "X_train, X_hold = train_test_split(complaints_df, test_size=0.6, random_state=999)"
      ],
      "execution_count": 12,
      "outputs": []
    },
    {
      "cell_type": "code",
      "metadata": {
        "id": "Qh8Lbd_IbhyM",
        "colab_type": "code",
        "colab": {
          "base_uri": "https://localhost:8080/",
          "height": 146
        },
        "outputId": "f0135b83-3030-488c-f3e2-f0d726fb517e"
      },
      "source": [
        "X_train['Product'].value_counts()"
      ],
      "execution_count": 13,
      "outputs": [
        {
          "output_type": "execute_result",
          "data": {
            "text/plain": [
              "Debt collection                8676\n",
              "Credit card or prepaid card    5254\n",
              "Mortgage                       3939\n",
              "Checking or savings account    2819\n",
              "Student loan                   1210\n",
              "Vehicle loan or lease          1083\n",
              "Name: Product, dtype: int64"
            ]
          },
          "metadata": {
            "tags": []
          },
          "execution_count": 13
        }
      ]
    },
    {
      "cell_type": "markdown",
      "metadata": {
        "id": "UMkwoI2cb1lQ",
        "colab_type": "text"
      },
      "source": [
        "Since we dont have target label and model we are building is unsupervised learning, we dont have worry about slightly imbalanced data distribution on Product Column. We are only going to classify the topics based on text available in Complaints column."
      ]
    },
    {
      "cell_type": "markdown",
      "metadata": {
        "id": "siEGTbJFc-Hw",
        "colab_type": "text"
      },
      "source": [
        "**Text Preprocessing **\n",
        "\n",
        "  Features needs to be in numerical form to train our model. Texts needs to be vectorized before training. Before appling vectorizer, we need to clean up the texts and tokenize our words"
      ]
    },
    {
      "cell_type": "code",
      "metadata": {
        "id": "lNQJX0DNb08C",
        "colab_type": "code",
        "colab": {}
      },
      "source": [
        "stemmer= PorterStemmer()"
      ],
      "execution_count": 14,
      "outputs": []
    },
    {
      "cell_type": "code",
      "metadata": {
        "id": "EqV-0hGWeKkz",
        "colab_type": "code",
        "colab": {}
      },
      "source": [
        "def tokenize(text):\n",
        "  tokens= [word for word in nltk.word_tokenize(text) if (len(word) > 3 and len(word.strip('Xx/')) > 2) ]\n",
        "  stems= [stemmer.stem for items in tokens]\n",
        "  return tokens"
      ],
      "execution_count": 15,
      "outputs": []
    },
    {
      "cell_type": "markdown",
      "metadata": {
        "id": "UpI9xVc1f-11",
        "colab_type": "text"
      },
      "source": [
        "We can use default tokenize pattern available in vectorizer but we do few more customization for better training. Sensitive,Privacy details are masked using XXXX... we cannot consider for training our model.So we will strip the characters containing more than 2 'Xx's and picked tokens. Also, words with less than 3characters doesnt add much value so we will ignore that too."
      ]
    },
    {
      "cell_type": "markdown",
      "metadata": {
        "id": "FOh72PWqeFk8",
        "colab_type": "text"
      },
      "source": [
        "CountVectorizer, Tfidf Vectorizer are two methods to apply on Text data based on Bow. We are going to LDA algorithm to train our model. This model need count of words in the document and doesnt need normalized form. We can use either Count Vectorizer or TFidf Vectorizer with use_idf-False and norm=None. By Default the norm will be l2 norm."
      ]
    },
    {
      "cell_type": "code",
      "metadata": {
        "id": "11R3A3ejhLMQ",
        "colab_type": "code",
        "colab": {
          "base_uri": "https://localhost:8080/",
          "height": 35
        },
        "outputId": "5b64cf38-534f-45a4-cb26-5ab9948aef0c"
      },
      "source": [
        "#instantiate TfidfVectorizer\n",
        "tf_vectorizer= TfidfVectorizer(tokenizer=tokenize, stop_words='english', max_features=10000, max_df=0.75, use_idf=False, min_df=50,norm=None)\n",
        "tf_vectors= tf_vectorizer.fit_transform(X_train.Complaints)\n",
        "tf_vectors.shape"
      ],
      "execution_count": 16,
      "outputs": [
        {
          "output_type": "execute_result",
          "data": {
            "text/plain": [
              "(22981, 2999)"
            ]
          },
          "metadata": {
            "tags": []
          },
          "execution_count": 16
        }
      ]
    },
    {
      "cell_type": "markdown",
      "metadata": {
        "id": "iQVxDTQnhy8Q",
        "colab_type": "text"
      },
      "source": [
        "max_df, min_df is given to streamline the frequent and rare words. max_df=0.75 so the words should be available in maximum of 75% of documents. min_df=50, so the words should be present in atleast 50 documents."
      ]
    },
    {
      "cell_type": "code",
      "metadata": {
        "id": "3DWhe7WOhyba",
        "colab_type": "code",
        "colab": {
          "base_uri": "https://localhost:8080/",
          "height": 146
        },
        "outputId": "fc2f1379-7a14-4137-d732-25f07795d6cb"
      },
      "source": [
        "tf_vectors.A[:10]"
      ],
      "execution_count": 17,
      "outputs": [
        {
          "output_type": "execute_result",
          "data": {
            "text/plain": [
              "array([[0., 0., 0., ..., 0., 0., 0.],\n",
              "       [0., 0., 0., ..., 0., 0., 0.],\n",
              "       [0., 0., 0., ..., 0., 0., 0.],\n",
              "       ...,\n",
              "       [0., 0., 0., ..., 0., 0., 0.],\n",
              "       [0., 0., 0., ..., 0., 0., 0.],\n",
              "       [0., 0., 0., ..., 0., 0., 0.]])"
            ]
          },
          "metadata": {
            "tags": []
          },
          "execution_count": 17
        }
      ]
    },
    {
      "cell_type": "code",
      "metadata": {
        "id": "e4dqjO_ikg9S",
        "colab_type": "code",
        "colab": {
          "base_uri": "https://localhost:8080/",
          "height": 1000
        },
        "outputId": "16ab4f3f-a18f-4793-9739-de21f71b9b79"
      },
      "source": [
        "tf_vectorizer.get_feature_names()"
      ],
      "execution_count": 18,
      "outputs": [
        {
          "output_type": "execute_result",
          "data": {
            "text/plain": [
              "['0.00',\n",
              " '1.00',\n",
              " '10.00',\n",
              " '100.00',\n",
              " '1000.00',\n",
              " '10000.00',\n",
              " '100000.00',\n",
              " '110.00',\n",
              " '1100.00',\n",
              " '11000.00',\n",
              " '12.00',\n",
              " '120.00',\n",
              " '1200.00',\n",
              " '12000.00',\n",
              " '130.00',\n",
              " '1300.00',\n",
              " '13000.00',\n",
              " '140.00',\n",
              " '1400.00',\n",
              " '14000.00',\n",
              " '15.00',\n",
              " '150.00',\n",
              " '1500.00',\n",
              " '15000.00',\n",
              " '160.00',\n",
              " '1600.00',\n",
              " '16000.00',\n",
              " '1681c-2',\n",
              " '1681m',\n",
              " '1692',\n",
              " '1692g',\n",
              " '170.00',\n",
              " '1700.00',\n",
              " '180.00',\n",
              " '1800.00',\n",
              " '190.00',\n",
              " '1900.00',\n",
              " '2.00',\n",
              " '20.00',\n",
              " '200.00',\n",
              " '2000.00',\n",
              " '20000.00',\n",
              " '2015',\n",
              " '2016',\n",
              " '2017',\n",
              " '2018',\n",
              " '2019',\n",
              " '2019.',\n",
              " '2020',\n",
              " '210.00',\n",
              " '2100.00',\n",
              " '220.00',\n",
              " '2200.00',\n",
              " '230.00',\n",
              " '2300.00',\n",
              " '240.00',\n",
              " '2400.00',\n",
              " '25.00',\n",
              " '250.00',\n",
              " '2500.00',\n",
              " '25000.00',\n",
              " '260.00',\n",
              " '2600.00',\n",
              " '27.00',\n",
              " '270.00',\n",
              " '2700.00',\n",
              " '28.00',\n",
              " '280.00',\n",
              " '2800.00',\n",
              " '29.00',\n",
              " '290.00',\n",
              " '2900.00',\n",
              " '3.00',\n",
              " '30.00',\n",
              " '300.00',\n",
              " '3000.00',\n",
              " '30000.00',\n",
              " '310.00',\n",
              " '320.00',\n",
              " '3200.00',\n",
              " '330.00',\n",
              " '3300.00',\n",
              " '340.00',\n",
              " '3400.00',\n",
              " '35.00',\n",
              " '350.00',\n",
              " '3500.00',\n",
              " '36.00',\n",
              " '360.00',\n",
              " '3600.00',\n",
              " '370.00',\n",
              " '38.00',\n",
              " '380.00',\n",
              " '39.00',\n",
              " '390.00',\n",
              " '4.00',\n",
              " '40.00',\n",
              " '400.00',\n",
              " '4000.00',\n",
              " '410.00',\n",
              " '430.00',\n",
              " '440.00',\n",
              " '450.00',\n",
              " '4500.00',\n",
              " '460.00',\n",
              " '470.00',\n",
              " '480.00',\n",
              " '490.00',\n",
              " '5.00',\n",
              " '50.00',\n",
              " '500.00',\n",
              " '5000.00',\n",
              " '50000.00',\n",
              " '510.00',\n",
              " '520.00',\n",
              " '550.00',\n",
              " '580.00',\n",
              " '590.00',\n",
              " '60.00',\n",
              " '600.00',\n",
              " '6000.00',\n",
              " '650.00',\n",
              " '7-10',\n",
              " '700.00',\n",
              " '7000.00',\n",
              " '720.00',\n",
              " '75.00',\n",
              " '750.00',\n",
              " '8.00',\n",
              " '80.00',\n",
              " '800.00',\n",
              " '8000.00',\n",
              " '850.00',\n",
              " '900.00',\n",
              " '9000.00',\n",
              " '99.00',\n",
              " 'ability',\n",
              " 'able',\n",
              " 'absolute',\n",
              " 'absolutely',\n",
              " 'absurd',\n",
              " 'abuse',\n",
              " 'abusive',\n",
              " 'accept',\n",
              " 'acceptable',\n",
              " 'acceptance',\n",
              " 'accepted',\n",
              " 'accepting',\n",
              " 'access',\n",
              " 'accessed',\n",
              " 'accessing',\n",
              " 'accident',\n",
              " 'accordance',\n",
              " 'according',\n",
              " 'accordingly',\n",
              " 'account',\n",
              " 'accountability',\n",
              " 'accountable',\n",
              " 'accounting',\n",
              " 'accounts',\n",
              " 'accrue',\n",
              " 'accrued',\n",
              " 'accruing',\n",
              " 'acct',\n",
              " 'accumulated',\n",
              " 'accuracy',\n",
              " 'accurate',\n",
              " 'accurately',\n",
              " 'accused',\n",
              " 'acknowledge',\n",
              " 'acknowledged',\n",
              " 'acknowledgement',\n",
              " 'acknowledging',\n",
              " 'acquired',\n",
              " 'acquisition',\n",
              " 'acted',\n",
              " 'acting',\n",
              " 'action',\n",
              " 'actions',\n",
              " 'activate',\n",
              " 'activated',\n",
              " 'active',\n",
              " 'activities',\n",
              " 'activity',\n",
              " 'acts',\n",
              " 'actual',\n",
              " 'actually',\n",
              " 'added',\n",
              " 'adding',\n",
              " 'addition',\n",
              " 'additional',\n",
              " 'additionally',\n",
              " 'address',\n",
              " 'addressed',\n",
              " 'addresses',\n",
              " 'addressing',\n",
              " 'adequate',\n",
              " 'adjust',\n",
              " 'adjusted',\n",
              " 'adjustment',\n",
              " 'adjustments',\n",
              " 'administration',\n",
              " 'administrative',\n",
              " 'admit',\n",
              " 'admitted',\n",
              " 'advance',\n",
              " 'advantage',\n",
              " 'adverse',\n",
              " 'adversely',\n",
              " 'advertised',\n",
              " 'advertisement',\n",
              " 'advertising',\n",
              " 'advice',\n",
              " 'advise',\n",
              " 'advised',\n",
              " 'advising',\n",
              " 'affairs',\n",
              " 'affect',\n",
              " 'affected',\n",
              " 'affecting',\n",
              " 'affects',\n",
              " 'affidavit',\n",
              " 'affiliated',\n",
              " 'afford',\n",
              " 'affordable',\n",
              " 'aforementioned',\n",
              " 'aforesaid',\n",
              " 'afraid',\n",
              " 'afternoon',\n",
              " 'agencies',\n",
              " 'agency',\n",
              " 'agent',\n",
              " 'agents',\n",
              " 'aggressive',\n",
              " 'agree',\n",
              " 'agreed',\n",
              " 'agreeing',\n",
              " 'agreement',\n",
              " 'agreements',\n",
              " 'ahead',\n",
              " 'ahold',\n",
              " 'airline',\n",
              " 'alert',\n",
              " 'alerted',\n",
              " 'alerts',\n",
              " 'allegations',\n",
              " 'alleged',\n",
              " 'allegedly',\n",
              " 'allow',\n",
              " 'allowed',\n",
              " 'allowing',\n",
              " 'allows',\n",
              " 'ally',\n",
              " 'alternative',\n",
              " 'amazon',\n",
              " 'america',\n",
              " 'american',\n",
              " 'americans',\n",
              " 'amex',\n",
              " 'amounts',\n",
              " 'analysis',\n",
              " 'and/or',\n",
              " 'angry',\n",
              " 'annual',\n",
              " 'answer',\n",
              " 'answered',\n",
              " 'answering',\n",
              " 'answers',\n",
              " 'anxiety',\n",
              " 'anybody',\n",
              " 'anymore',\n",
              " 'anytime',\n",
              " 'anyways',\n",
              " 'apart',\n",
              " 'apartment',\n",
              " 'apologize',\n",
              " 'apologized',\n",
              " 'apparent',\n",
              " 'apparently',\n",
              " 'appeal',\n",
              " 'appear',\n",
              " 'appeared',\n",
              " 'appearing',\n",
              " 'appears',\n",
              " 'applicability',\n",
              " 'applicable',\n",
              " 'application',\n",
              " 'applications',\n",
              " 'applied',\n",
              " 'applies',\n",
              " 'apply',\n",
              " 'applying',\n",
              " 'appointment',\n",
              " 'appraisal',\n",
              " 'appraised',\n",
              " 'appraiser',\n",
              " 'appreciate',\n",
              " 'appreciated',\n",
              " 'appropriate',\n",
              " 'approval',\n",
              " 'approve',\n",
              " 'approved',\n",
              " 'approx',\n",
              " 'approximately',\n",
              " 'arbitration',\n",
              " 'area',\n",
              " 'arent',\n",
              " 'argue',\n",
              " 'argued',\n",
              " 'arizona',\n",
              " 'arrangement',\n",
              " 'arrangements',\n",
              " 'arrears',\n",
              " 'arrive',\n",
              " 'arrived',\n",
              " 'asap',\n",
              " 'aside',\n",
              " 'asked',\n",
              " 'asking',\n",
              " 'asks',\n",
              " 'assessed',\n",
              " 'assessment',\n",
              " 'asset',\n",
              " 'assets',\n",
              " 'assigned',\n",
              " 'assignee',\n",
              " 'assignment',\n",
              " 'assist',\n",
              " 'assistance',\n",
              " 'assistant',\n",
              " 'assisted',\n",
              " 'assisting',\n",
              " 'associate',\n",
              " 'associated',\n",
              " 'associates',\n",
              " 'association',\n",
              " 'assume',\n",
              " 'assumed',\n",
              " 'assuming',\n",
              " 'assumption',\n",
              " 'assure',\n",
              " 'assured',\n",
              " 'attach',\n",
              " 'attached',\n",
              " 'attaching',\n",
              " 'attachment',\n",
              " 'attachments',\n",
              " 'attatched',\n",
              " 'attempt',\n",
              " 'attempted',\n",
              " 'attempting',\n",
              " 'attempts',\n",
              " 'attend',\n",
              " 'attended',\n",
              " 'attending',\n",
              " 'attention',\n",
              " 'attitude',\n",
              " 'attorney',\n",
              " 'attorneys',\n",
              " 'auction',\n",
              " 'audit',\n",
              " 'authorities',\n",
              " 'authority',\n",
              " 'authorization',\n",
              " 'authorize',\n",
              " 'authorized',\n",
              " 'auto',\n",
              " 'automated',\n",
              " 'automatic',\n",
              " 'automatically',\n",
              " 'autopay',\n",
              " 'avail',\n",
              " 'availability',\n",
              " 'available',\n",
              " 'average',\n",
              " 'avoid',\n",
              " 'awaiting',\n",
              " 'awarded',\n",
              " 'aware',\n",
              " 'away',\n",
              " 'awful',\n",
              " 'backed',\n",
              " 'background',\n",
              " 'badly',\n",
              " 'bait',\n",
              " 'balance',\n",
              " 'balances',\n",
              " 'balloon',\n",
              " 'bank',\n",
              " 'banker',\n",
              " 'bankers',\n",
              " 'banking',\n",
              " 'bankruptcy',\n",
              " 'banks',\n",
              " 'barclay',\n",
              " 'barclays',\n",
              " 'barely',\n",
              " 'base',\n",
              " 'based',\n",
              " 'basic',\n",
              " 'basically',\n",
              " 'basis',\n",
              " 'bbva',\n",
              " 'bearing',\n",
              " 'began',\n",
              " 'begin',\n",
              " 'beginning',\n",
              " 'begun',\n",
              " 'behalf',\n",
              " 'behavior',\n",
              " 'belief',\n",
              " 'believe',\n",
              " 'believed',\n",
              " 'believing',\n",
              " 'belong',\n",
              " 'belongs',\n",
              " 'benefit',\n",
              " 'benefits',\n",
              " 'best',\n",
              " 'better',\n",
              " 'billed',\n",
              " 'billing',\n",
              " 'bills',\n",
              " 'binding',\n",
              " 'birth',\n",
              " 'blame',\n",
              " 'blank',\n",
              " 'blatant',\n",
              " 'blatantly',\n",
              " 'block',\n",
              " 'blocked',\n",
              " 'blocking',\n",
              " 'blue',\n",
              " 'bluebird',\n",
              " 'board',\n",
              " 'bofa',\n",
              " 'bogus',\n",
              " 'bonus',\n",
              " 'book',\n",
              " 'booked',\n",
              " 'booking',\n",
              " 'borrow',\n",
              " 'borrowed',\n",
              " 'borrower',\n",
              " 'borrowers',\n",
              " 'borrowing',\n",
              " 'boss',\n",
              " 'bother',\n",
              " 'bought',\n",
              " 'bounced',\n",
              " 'branch',\n",
              " 'branches',\n",
              " 'brand',\n",
              " 'breach',\n",
              " 'break',\n",
              " 'breakdown',\n",
              " 'breaking',\n",
              " 'brief',\n",
              " 'bring',\n",
              " 'bringing',\n",
              " 'broke',\n",
              " 'broken',\n",
              " 'broker',\n",
              " 'brother',\n",
              " 'brought',\n",
              " 'budget',\n",
              " 'build',\n",
              " 'building',\n",
              " 'bunch',\n",
              " 'burden',\n",
              " 'bureau',\n",
              " 'bureaus',\n",
              " 'business',\n",
              " 'businesses',\n",
              " 'busy',\n",
              " 'buyer',\n",
              " 'buyers',\n",
              " 'buying',\n",
              " 'cable',\n",
              " 'calculate',\n",
              " 'calculated',\n",
              " 'calculation',\n",
              " 'calculations',\n",
              " 'calendar',\n",
              " 'caliber',\n",
              " 'california',\n",
              " 'called',\n",
              " 'caller',\n",
              " 'calling',\n",
              " 'calls',\n",
              " 'came',\n",
              " 'cancel',\n",
              " 'canceled',\n",
              " 'cancellation',\n",
              " 'cancelled',\n",
              " 'cancelling',\n",
              " 'capital',\n",
              " 'capitol',\n",
              " 'card',\n",
              " 'cardholder',\n",
              " 'cards',\n",
              " 'care',\n",
              " 'careful',\n",
              " 'cares',\n",
              " 'carolina',\n",
              " 'carried',\n",
              " 'carrier',\n",
              " 'carry',\n",
              " 'cars',\n",
              " 'case',\n",
              " 'cases',\n",
              " 'cash',\n",
              " 'cashed',\n",
              " 'cashier',\n",
              " 'cashiers',\n",
              " 'catch',\n",
              " 'caught',\n",
              " 'cause',\n",
              " 'caused',\n",
              " 'causes',\n",
              " 'causing',\n",
              " 'cease',\n",
              " 'ceased',\n",
              " 'cell',\n",
              " 'center',\n",
              " 'central',\n",
              " 'cents',\n",
              " 'certain',\n",
              " 'certainly',\n",
              " 'certificate',\n",
              " 'certification',\n",
              " 'certified',\n",
              " 'cfpb',\n",
              " 'chain',\n",
              " 'challenge',\n",
              " 'chance',\n",
              " 'change',\n",
              " 'changed',\n",
              " 'changes',\n",
              " 'changing',\n",
              " 'chapter',\n",
              " 'character',\n",
              " 'charge',\n",
              " 'chargeback',\n",
              " 'charged',\n",
              " 'charges',\n",
              " 'charging',\n",
              " 'chase',\n",
              " 'chat',\n",
              " 'check',\n",
              " 'checked',\n",
              " 'checking',\n",
              " 'checks',\n",
              " 'child',\n",
              " 'children',\n",
              " 'chip',\n",
              " 'choice',\n",
              " 'choose',\n",
              " 'chose',\n",
              " 'chosen',\n",
              " 'circumstances',\n",
              " 'citi',\n",
              " 'citibank',\n",
              " 'citing',\n",
              " 'citizen',\n",
              " 'citizens',\n",
              " 'city',\n",
              " 'civil',\n",
              " 'claim',\n",
              " 'claimed',\n",
              " 'claiming',\n",
              " 'claims',\n",
              " 'clarification',\n",
              " 'clarify',\n",
              " 'class',\n",
              " 'clause',\n",
              " 'clean',\n",
              " 'clear',\n",
              " 'cleared',\n",
              " 'clearly',\n",
              " 'clerk',\n",
              " 'click',\n",
              " 'clicked',\n",
              " 'client',\n",
              " 'clients',\n",
              " 'close',\n",
              " 'closed',\n",
              " 'closer',\n",
              " 'closing',\n",
              " 'closure',\n",
              " 'club',\n",
              " 'clue',\n",
              " 'co-signer',\n",
              " 'code',\n",
              " 'codes',\n",
              " 'collateral',\n",
              " 'collect',\n",
              " 'collected',\n",
              " 'collecting',\n",
              " 'collection',\n",
              " 'collections',\n",
              " 'collector',\n",
              " 'collectors',\n",
              " 'college',\n",
              " 'colorado',\n",
              " 'combined',\n",
              " 'come',\n",
              " 'comenity',\n",
              " 'comes',\n",
              " 'comfortable',\n",
              " 'coming',\n",
              " 'comment',\n",
              " 'comments',\n",
              " 'commercial',\n",
              " 'commission',\n",
              " 'commit',\n",
              " 'commitment',\n",
              " 'committed',\n",
              " 'committing',\n",
              " 'common',\n",
              " 'communicate',\n",
              " 'communicated',\n",
              " 'communicating',\n",
              " 'communication',\n",
              " 'communications',\n",
              " 'community',\n",
              " 'companies',\n",
              " 'company',\n",
              " 'companys',\n",
              " 'compared',\n",
              " 'compensation',\n",
              " 'competent',\n",
              " 'complain',\n",
              " 'complained',\n",
              " 'complaining',\n",
              " 'complaint',\n",
              " 'complaints',\n",
              " 'complete',\n",
              " 'completed',\n",
              " 'completely',\n",
              " 'completing',\n",
              " 'completion',\n",
              " 'complex',\n",
              " 'compliance',\n",
              " 'compliant',\n",
              " 'complied',\n",
              " 'comply',\n",
              " 'compromised',\n",
              " 'computer',\n",
              " 'concern',\n",
              " 'concerned',\n",
              " 'concerning',\n",
              " 'concerns',\n",
              " 'concluded',\n",
              " 'conclusion',\n",
              " 'condescending',\n",
              " 'condition',\n",
              " 'conditions',\n",
              " 'conduct',\n",
              " 'conducted',\n",
              " 'conference',\n",
              " 'confident',\n",
              " 'confidential',\n",
              " 'confirm',\n",
              " 'confirmation',\n",
              " 'confirmed',\n",
              " 'confirming',\n",
              " 'confirms',\n",
              " 'conflicting',\n",
              " 'confused',\n",
              " 'confusing',\n",
              " 'confusion',\n",
              " 'connect',\n",
              " 'connected',\n",
              " 'connection',\n",
              " 'consecutive',\n",
              " 'consent',\n",
              " 'consequences',\n",
              " 'consider',\n",
              " 'consideration',\n",
              " 'considered',\n",
              " 'considering',\n",
              " 'consistent',\n",
              " 'consistently',\n",
              " 'consolidate',\n",
              " 'consolidated',\n",
              " 'consolidation',\n",
              " 'constant',\n",
              " 'constantly',\n",
              " 'constitute',\n",
              " 'constitutes',\n",
              " 'construction',\n",
              " 'construed',\n",
              " 'consult',\n",
              " 'consumer',\n",
              " 'consumerfinance.gov',\n",
              " 'consumers',\n",
              " 'contact',\n",
              " 'contacted',\n",
              " 'contacting',\n",
              " 'contacts',\n",
              " 'contain',\n",
              " 'contained',\n",
              " 'containing',\n",
              " 'contains',\n",
              " 'continually',\n",
              " 'continue',\n",
              " 'continued',\n",
              " 'continues',\n",
              " 'continuing',\n",
              " 'continuously',\n",
              " 'contract',\n",
              " 'contracted',\n",
              " 'contractor',\n",
              " 'contracts',\n",
              " 'contractual',\n",
              " 'contrary',\n",
              " 'control',\n",
              " 'convenience',\n",
              " 'conventional',\n",
              " 'convergent',\n",
              " 'conversation',\n",
              " 'conversations',\n",
              " 'cooper',\n",
              " 'cooperate',\n",
              " 'copied',\n",
              " 'copies',\n",
              " 'copy',\n",
              " 'corona',\n",
              " 'coronavirus',\n",
              " 'corp',\n",
              " 'corporate',\n",
              " 'corporation',\n",
              " 'correct',\n",
              " 'corrected',\n",
              " 'correcting',\n",
              " 'correction',\n",
              " 'correctly',\n",
              " 'correspondence',\n",
              " 'corresponding',\n",
              " 'cost',\n",
              " 'costing',\n",
              " 'costs',\n",
              " 'counsel',\n",
              " 'counselor',\n",
              " 'count',\n",
              " 'counted',\n",
              " 'counter',\n",
              " 'countless',\n",
              " 'country',\n",
              " 'county',\n",
              " 'couple',\n",
              " 'course',\n",
              " 'court',\n",
              " 'courtesy',\n",
              " 'courts',\n",
              " 'cover',\n",
              " 'coverage',\n",
              " 'covered',\n",
              " 'covid',\n",
              " 'covid-19',\n",
              " 'covid19',\n",
              " 'crazy',\n",
              " 'create',\n",
              " 'created',\n",
              " 'creating',\n",
              " 'credence',\n",
              " 'credit',\n",
              " 'credited',\n",
              " 'crediting',\n",
              " 'creditor',\n",
              " 'creditor/company',\n",
              " 'creditors',\n",
              " 'credits',\n",
              " 'crime',\n",
              " 'criminal',\n",
              " 'crisis',\n",
              " 'criteria',\n",
              " 'current',\n",
              " 'currently',\n",
              " 'customer',\n",
              " 'customers',\n",
              " 'cycle',\n",
              " 'cycles',\n",
              " 'daily',\n",
              " 'damage',\n",
              " 'damaged',\n",
              " 'damages',\n",
              " 'damaging',\n",
              " 'data',\n",
              " 'date',\n",
              " 'dated',\n",
              " 'dates',\n",
              " 'dating',\n",
              " 'daughter',\n",
              " 'daughters',\n",
              " 'days',\n",
              " 'days/120',\n",
              " 'days/60',\n",
              " 'dead',\n",
              " 'deadline',\n",
              " 'deal',\n",
              " 'dealer',\n",
              " 'dealership',\n",
              " 'dealing',\n",
              " 'dealt',\n",
              " 'dear',\n",
              " 'death',\n",
              " 'debit',\n",
              " 'debited',\n",
              " 'debits',\n",
              " 'debt',\n",
              " 'debtor',\n",
              " 'debts',\n",
              " 'deceased',\n",
              " 'deception',\n",
              " 'deceptive',\n",
              " 'decide',\n",
              " 'decided',\n",
              " 'decision',\n",
              " 'decisions',\n",
              " 'declaration',\n",
              " 'declared',\n",
              " 'decline',\n",
              " 'declined',\n",
              " 'decrease',\n",
              " 'decreased',\n",
              " 'deducted',\n",
              " 'deed',\n",
              " 'deemed',\n",
              " 'defamation',\n",
              " 'default',\n",
              " 'defaulted',\n",
              " 'defer',\n",
              " 'deferment',\n",
              " 'deferral',\n",
              " 'deferred',\n",
              " 'definitely',\n",
              " 'definition',\n",
              " 'defraud',\n",
              " 'degree',\n",
              " 'delaware',\n",
              " 'delay',\n",
              " 'delayed',\n",
              " 'delaying',\n",
              " 'delays',\n",
              " 'delete',\n",
              " 'deleted',\n",
              " 'deletion',\n",
              " 'deliberately',\n",
              " 'delinquency',\n",
              " 'delinquent',\n",
              " 'deliver',\n",
              " 'delivered',\n",
              " 'delivery',\n",
              " 'demand',\n",
              " 'demanded',\n",
              " 'demanding',\n",
              " 'demands',\n",
              " 'denial',\n",
              " 'denied',\n",
              " 'deny',\n",
              " 'denying',\n",
              " 'department',\n",
              " 'departments',\n",
              " 'depending',\n",
              " 'deposit',\n",
              " 'deposited',\n",
              " 'depositing',\n",
              " 'deposits',\n",
              " 'depot',\n",
              " 'dept',\n",
              " 'derogatory',\n",
              " 'described',\n",
              " 'description',\n",
              " 'deserve',\n",
              " 'designed',\n",
              " 'desist',\n",
              " 'desk',\n",
              " 'despite',\n",
              " 'destroy',\n",
              " 'destroyed',\n",
              " 'detailed',\n",
              " 'detailing',\n",
              " 'details',\n",
              " 'detailsper',\n",
              " 'determination',\n",
              " 'determine',\n",
              " 'determined',\n",
              " 'detrimental',\n",
              " 'device',\n",
              " 'didnt',\n",
              " 'died',\n",
              " 'difference',\n",
              " 'different',\n",
              " 'difficult',\n",
              " 'difficulties',\n",
              " 'difficulty',\n",
              " 'digits',\n",
              " 'diligence',\n",
              " 'direct',\n",
              " 'directed',\n",
              " 'direction',\n",
              " 'directly',\n",
              " 'director',\n",
              " 'disagree',\n",
              " 'disappeared',\n",
              " 'disappointed',\n",
              " 'disaster',\n",
              " 'disbursement',\n",
              " 'discharge',\n",
              " 'discharged',\n",
              " 'disclose',\n",
              " 'disclosed',\n",
              " 'disclosure',\n",
              " 'disclosures',\n",
              " 'disconnected',\n",
              " 'discount',\n",
              " 'discover',\n",
              " 'discovered',\n",
              " 'discrepancies',\n",
              " 'discrepancy',\n",
              " 'discriminated',\n",
              " 'discrimination',\n",
              " 'discriminatory',\n",
              " 'discuss',\n",
              " 'discussed',\n",
              " 'discussing',\n",
              " 'discussion',\n",
              " 'dishonest',\n",
              " 'dismissed',\n",
              " 'displayed',\n",
              " 'displaying',\n",
              " 'dispute',\n",
              " 'disputed',\n",
              " 'disputes',\n",
              " 'disputing',\n",
              " 'disregard',\n",
              " 'disrespectful',\n",
              " 'distress',\n",
              " 'district',\n",
              " 'ditech',\n",
              " 'diversified',\n",
              " 'division',\n",
              " 'divorce',\n",
              " 'docs',\n",
              " 'doctor',\n",
              " 'doctors',\n",
              " 'document',\n",
              " 'documentation',\n",
              " 'documented',\n",
              " 'documents',\n",
              " 'does',\n",
              " 'doesnt',\n",
              " 'doing',\n",
              " 'dollar',\n",
              " 'dollars',\n",
              " 'dont',\n",
              " 'door',\n",
              " 'double',\n",
              " 'doubled',\n",
              " 'doubt',\n",
              " 'draft',\n",
              " 'drafted',\n",
              " 'drawn',\n",
              " 'drive',\n",
              " 'driven',\n",
              " 'driver',\n",
              " 'drivers',\n",
              " 'driving',\n",
              " 'drop',\n",
              " 'dropped',\n",
              " 'dropping',\n",
              " 'drove',\n",
              " 'duplicate',\n",
              " 'duty',\n",
              " 'e-mail',\n",
              " 'earlier',\n",
              " 'early',\n",
              " 'earn',\n",
              " 'earned',\n",
              " 'easily',\n",
              " 'easy',\n",
              " 'economic',\n",
              " 'education',\n",
              " 'effect',\n",
              " 'effected',\n",
              " 'effective',\n",
              " 'effectively',\n",
              " 'effort',\n",
              " 'efforts',\n",
              " 'egregious',\n",
              " 'elderly',\n",
              " 'electronic',\n",
              " 'electronically',\n",
              " 'eligibility',\n",
              " 'eligible',\n",
              " 'email',\n",
              " 'emailed',\n",
              " 'emailing',\n",
              " ...]"
            ]
          },
          "metadata": {
            "tags": []
          },
          "execution_count": 18
        }
      ]
    },
    {
      "cell_type": "markdown",
      "metadata": {
        "id": "PPJhi2wmlXxw",
        "colab_type": "text"
      },
      "source": [
        "LDA is statistical model that allows set of observation to be explained by a group or unobserved groups. It’s a way of automatically discovering topics that are a part of the given documents and compare the relevance of two documents."
      ]
    },
    {
      "cell_type": "code",
      "metadata": {
        "id": "DjOJ_1-0rRUR",
        "colab_type": "code",
        "colab": {}
      },
      "source": [
        "lda= decomposition.LatentDirichletAllocation(n_components=6, max_iter=3, learning_method='online',learning_offset=50, n_jobs=-1, random_state=999)\n",
        "\n",
        "W1= lda.fit_transform(tf_vectors)\n",
        "H1= lda.components_"
      ],
      "execution_count": 19,
      "outputs": []
    },
    {
      "cell_type": "markdown",
      "metadata": {
        "id": "-47W7PUdr2P8",
        "colab_type": "text"
      },
      "source": [
        "Some points:\n",
        "max_iter= 3. Use maximum iterations so that it will predict better. batch uses all the data and replaces the data in earlier iterations. "
      ]
    },
    {
      "cell_type": "code",
      "metadata": {
        "id": "IP-8i2JnsTQf",
        "colab_type": "code",
        "colab": {
          "base_uri": "https://localhost:8080/",
          "height": 257
        },
        "outputId": "c9e44457-465b-4e0e-8918-7422b3849337"
      },
      "source": [
        "W1"
      ],
      "execution_count": 20,
      "outputs": [
        {
          "output_type": "execute_result",
          "data": {
            "text/plain": [
              "array([[0.00186464, 0.15979967, 0.67155152, 0.00187166, 0.00186016,\n",
              "        0.16305235],\n",
              "       [0.00258768, 0.15863537, 0.00258615, 0.08545595, 0.0730474 ,\n",
              "        0.67768744],\n",
              "       [0.01669148, 0.01684215, 0.16728716, 0.01675262, 0.01669063,\n",
              "        0.76573596],\n",
              "       ...,\n",
              "       [0.16144692, 0.23236704, 0.00311287, 0.25677815, 0.00309927,\n",
              "        0.34319575],\n",
              "       [0.39332018, 0.00322877, 0.00324677, 0.44599193, 0.15096622,\n",
              "        0.00324613],\n",
              "       [0.00086729, 0.00722452, 0.00086671, 0.29171994, 0.6984547 ,\n",
              "        0.00086683]])"
            ]
          },
          "metadata": {
            "tags": []
          },
          "execution_count": 20
        }
      ]
    },
    {
      "cell_type": "markdown",
      "metadata": {
        "id": "YK0GAtzksZEN",
        "colab_type": "text"
      },
      "source": [
        "W1 are the probabilities of each topic likely to be in Document. If you see the probability figure, first document likely to belong Topic 2 as the probability is higher(argmax)= 0.67 in Topic3. Second document belongs to Topic6 and so on."
      ]
    },
    {
      "cell_type": "code",
      "metadata": {
        "id": "aSo8l029sWud",
        "colab_type": "code",
        "colab": {
          "base_uri": "https://localhost:8080/",
          "height": 239
        },
        "outputId": "773afd08-3af1-42c2-e466-d087e84581e4"
      },
      "source": [
        "H1"
      ],
      "execution_count": 21,
      "outputs": [
        {
          "output_type": "execute_result",
          "data": {
            "text/plain": [
              "array([[8.31719468e+00, 1.83980041e-01, 6.79037827e+00, ...,\n",
              "        3.40813574e-01, 5.45858565e+01, 8.15750002e+01],\n",
              "       [2.90825422e+02, 6.43232866e+01, 5.95123852e+01, ...,\n",
              "        1.69051612e-01, 1.90870288e-01, 4.46956143e+01],\n",
              "       [2.86433286e+01, 1.33166222e+01, 4.04199868e+01, ...,\n",
              "        5.27186560e+01, 3.59085550e-01, 2.48575664e+01],\n",
              "       [5.10845617e+01, 1.09407386e+01, 4.92871699e-01, ...,\n",
              "        1.00141495e+01, 2.16783633e+01, 5.77226199e+01],\n",
              "       [2.39466764e-01, 1.69564599e-01, 1.68148616e-01, ...,\n",
              "        6.75662173e+01, 1.72722441e-01, 1.69229866e-01],\n",
              "       [1.05245058e+02, 1.03106686e+02, 1.01615900e+02, ...,\n",
              "        4.60829419e+01, 3.82913919e+01, 1.28363738e+02]])"
            ]
          },
          "metadata": {
            "tags": []
          },
          "execution_count": 21
        }
      ]
    },
    {
      "cell_type": "code",
      "metadata": {
        "id": "-gt-TRF0ta2H",
        "colab_type": "code",
        "colab": {}
      },
      "source": [
        "num_words=15\n",
        "\n",
        "vocab = np.array(tf_vectorizer.get_feature_names())\n",
        "\n",
        "top_words = lambda t: [vocab[i] for i in np.argsort(t)[:-num_words-1:-1]]\n",
        "topic_words = ([top_words(t) for t in H1])\n",
        "topics = [' '.join(t) for t in topic_words]"
      ],
      "execution_count": 22,
      "outputs": []
    },
    {
      "cell_type": "code",
      "metadata": {
        "id": "IJcGBQJVu-bz",
        "colab_type": "code",
        "colab": {
          "base_uri": "https://localhost:8080/",
          "height": 128
        },
        "outputId": "6c3b694b-022f-4056-c74c-2618ce3d2830"
      },
      "source": [
        "topics"
      ],
      "execution_count": 23,
      "outputs": [
        {
          "output_type": "execute_result",
          "data": {
            "text/plain": [
              "['loan mortgage told time home payments loans company years said make called help asked received',\n",
              " 'payment payments late account balance credit paid month statement mortgage received date fees monthly days',\n",
              " 'insurance wells fargo escrow paid property xx/xx/2019 company received vehicle taxes fees offer refund months',\n",
              " 'credit debt account report company collection letter information received sent dispute reporting agency reported removed',\n",
              " 'debt information provide identity court consumer theft legal request company state contract federal violation reporting',\n",
              " 'account card bank told called credit said money number phone received check time chase asked']"
            ]
          },
          "metadata": {
            "tags": []
          },
          "execution_count": 23
        }
      ]
    },
    {
      "cell_type": "markdown",
      "metadata": {
        "id": "30OF-KwUvNov",
        "colab_type": "text"
      },
      "source": [
        "Topics tells the top 15 words contributing to Each Topic. Run it for more iteratiions we will get better classification."
      ]
    },
    {
      "cell_type": "markdown",
      "metadata": {
        "id": "ydibgZ5uwOuj",
        "colab_type": "text"
      },
      "source": [
        "Topics Interpretation:\n",
        "\n",
        "First Topic consists of Loan mortgage, loans, payments words etc.so, Topic1 will be about Loans\n",
        "Likewise, second topic might be about payments\n",
        "Third Topic might be about insurance or its payment\n",
        "4th Topic about Credit Debt account payment\n",
        "5th Topic might be abount Theft, Legal complaints against Debts\n",
        "6th Topic might be about Account related complaints as words like card, number, phone number, time are among the top words"
      ]
    },
    {
      "cell_type": "markdown",
      "metadata": {
        "id": "g2IZmGr3xtyG",
        "colab_type": "text"
      },
      "source": [
        "Note: Topic interpretation based on Domain Expertise. Get help from domain expertise to classify what topic components."
      ]
    },
    {
      "cell_type": "code",
      "metadata": {
        "id": "UK8HeUCovNFM",
        "colab_type": "code",
        "colab": {}
      },
      "source": [
        "colnames = [\"Topic\" + str(i) for i in range(lda.n_components)]\n",
        "docnames = [\"Doc\" + str(i) for i in range(len(X_train.Complaints))]\n",
        "df_doc_topic = pd.DataFrame(np.round(W1, 2), columns=colnames, index=docnames)\n",
        "significant_topic = np.argmax(df_doc_topic.values, axis=1)\n",
        "df_doc_topic['dominant_topic'] = significant_topic"
      ],
      "execution_count": 24,
      "outputs": []
    },
    {
      "cell_type": "code",
      "metadata": {
        "id": "IeEJuP3ox-WG",
        "colab_type": "code",
        "colab": {
          "base_uri": "https://localhost:8080/",
          "height": 424
        },
        "outputId": "31c6bfdf-8378-4367-8a1b-75369d1f26e8"
      },
      "source": [
        "df_doc_topic"
      ],
      "execution_count": 25,
      "outputs": [
        {
          "output_type": "execute_result",
          "data": {
            "text/html": [
              "<div>\n",
              "<style scoped>\n",
              "    .dataframe tbody tr th:only-of-type {\n",
              "        vertical-align: middle;\n",
              "    }\n",
              "\n",
              "    .dataframe tbody tr th {\n",
              "        vertical-align: top;\n",
              "    }\n",
              "\n",
              "    .dataframe thead th {\n",
              "        text-align: right;\n",
              "    }\n",
              "</style>\n",
              "<table border=\"1\" class=\"dataframe\">\n",
              "  <thead>\n",
              "    <tr style=\"text-align: right;\">\n",
              "      <th></th>\n",
              "      <th>Topic0</th>\n",
              "      <th>Topic1</th>\n",
              "      <th>Topic2</th>\n",
              "      <th>Topic3</th>\n",
              "      <th>Topic4</th>\n",
              "      <th>Topic5</th>\n",
              "      <th>dominant_topic</th>\n",
              "    </tr>\n",
              "  </thead>\n",
              "  <tbody>\n",
              "    <tr>\n",
              "      <th>Doc0</th>\n",
              "      <td>0.00</td>\n",
              "      <td>0.16</td>\n",
              "      <td>0.67</td>\n",
              "      <td>0.00</td>\n",
              "      <td>0.00</td>\n",
              "      <td>0.16</td>\n",
              "      <td>2</td>\n",
              "    </tr>\n",
              "    <tr>\n",
              "      <th>Doc1</th>\n",
              "      <td>0.00</td>\n",
              "      <td>0.16</td>\n",
              "      <td>0.00</td>\n",
              "      <td>0.09</td>\n",
              "      <td>0.07</td>\n",
              "      <td>0.68</td>\n",
              "      <td>5</td>\n",
              "    </tr>\n",
              "    <tr>\n",
              "      <th>Doc2</th>\n",
              "      <td>0.02</td>\n",
              "      <td>0.02</td>\n",
              "      <td>0.17</td>\n",
              "      <td>0.02</td>\n",
              "      <td>0.02</td>\n",
              "      <td>0.77</td>\n",
              "      <td>5</td>\n",
              "    </tr>\n",
              "    <tr>\n",
              "      <th>Doc3</th>\n",
              "      <td>0.15</td>\n",
              "      <td>0.01</td>\n",
              "      <td>0.01</td>\n",
              "      <td>0.72</td>\n",
              "      <td>0.01</td>\n",
              "      <td>0.12</td>\n",
              "      <td>3</td>\n",
              "    </tr>\n",
              "    <tr>\n",
              "      <th>Doc4</th>\n",
              "      <td>0.01</td>\n",
              "      <td>0.27</td>\n",
              "      <td>0.01</td>\n",
              "      <td>0.01</td>\n",
              "      <td>0.01</td>\n",
              "      <td>0.71</td>\n",
              "      <td>5</td>\n",
              "    </tr>\n",
              "    <tr>\n",
              "      <th>...</th>\n",
              "      <td>...</td>\n",
              "      <td>...</td>\n",
              "      <td>...</td>\n",
              "      <td>...</td>\n",
              "      <td>...</td>\n",
              "      <td>...</td>\n",
              "      <td>...</td>\n",
              "    </tr>\n",
              "    <tr>\n",
              "      <th>Doc22976</th>\n",
              "      <td>0.02</td>\n",
              "      <td>0.02</td>\n",
              "      <td>0.34</td>\n",
              "      <td>0.59</td>\n",
              "      <td>0.02</td>\n",
              "      <td>0.02</td>\n",
              "      <td>3</td>\n",
              "    </tr>\n",
              "    <tr>\n",
              "      <th>Doc22977</th>\n",
              "      <td>0.20</td>\n",
              "      <td>0.01</td>\n",
              "      <td>0.01</td>\n",
              "      <td>0.62</td>\n",
              "      <td>0.01</td>\n",
              "      <td>0.14</td>\n",
              "      <td>3</td>\n",
              "    </tr>\n",
              "    <tr>\n",
              "      <th>Doc22978</th>\n",
              "      <td>0.16</td>\n",
              "      <td>0.23</td>\n",
              "      <td>0.00</td>\n",
              "      <td>0.26</td>\n",
              "      <td>0.00</td>\n",
              "      <td>0.34</td>\n",
              "      <td>5</td>\n",
              "    </tr>\n",
              "    <tr>\n",
              "      <th>Doc22979</th>\n",
              "      <td>0.39</td>\n",
              "      <td>0.00</td>\n",
              "      <td>0.00</td>\n",
              "      <td>0.45</td>\n",
              "      <td>0.15</td>\n",
              "      <td>0.00</td>\n",
              "      <td>3</td>\n",
              "    </tr>\n",
              "    <tr>\n",
              "      <th>Doc22980</th>\n",
              "      <td>0.00</td>\n",
              "      <td>0.01</td>\n",
              "      <td>0.00</td>\n",
              "      <td>0.29</td>\n",
              "      <td>0.70</td>\n",
              "      <td>0.00</td>\n",
              "      <td>4</td>\n",
              "    </tr>\n",
              "  </tbody>\n",
              "</table>\n",
              "<p>22981 rows × 7 columns</p>\n",
              "</div>"
            ],
            "text/plain": [
              "          Topic0  Topic1  Topic2  Topic3  Topic4  Topic5  dominant_topic\n",
              "Doc0      0.00    0.16    0.67    0.00    0.00    0.16    2             \n",
              "Doc1      0.00    0.16    0.00    0.09    0.07    0.68    5             \n",
              "Doc2      0.02    0.02    0.17    0.02    0.02    0.77    5             \n",
              "Doc3      0.15    0.01    0.01    0.72    0.01    0.12    3             \n",
              "Doc4      0.01    0.27    0.01    0.01    0.01    0.71    5             \n",
              "...        ...     ...     ...     ...     ...     ...   ..             \n",
              "Doc22976  0.02    0.02    0.34    0.59    0.02    0.02    3             \n",
              "Doc22977  0.20    0.01    0.01    0.62    0.01    0.14    3             \n",
              "Doc22978  0.16    0.23    0.00    0.26    0.00    0.34    5             \n",
              "Doc22979  0.39    0.00    0.00    0.45    0.15    0.00    3             \n",
              "Doc22980  0.00    0.01    0.00    0.29    0.70    0.00    4             \n",
              "\n",
              "[22981 rows x 7 columns]"
            ]
          },
          "metadata": {
            "tags": []
          },
          "execution_count": 25
        }
      ]
    },
    {
      "cell_type": "code",
      "metadata": {
        "id": "ghLSegvByD2v",
        "colab_type": "code",
        "colab": {
          "base_uri": "https://localhost:8080/",
          "height": 519
        },
        "outputId": "125deb55-b0ce-4d61-eaea-8b866a62ea98"
      },
      "source": [
        "X_train.head()"
      ],
      "execution_count": 26,
      "outputs": [
        {
          "output_type": "execute_result",
          "data": {
            "text/html": [
              "<div>\n",
              "<style scoped>\n",
              "    .dataframe tbody tr th:only-of-type {\n",
              "        vertical-align: middle;\n",
              "    }\n",
              "\n",
              "    .dataframe tbody tr th {\n",
              "        vertical-align: top;\n",
              "    }\n",
              "\n",
              "    .dataframe thead th {\n",
              "        text-align: right;\n",
              "    }\n",
              "</style>\n",
              "<table border=\"1\" class=\"dataframe\">\n",
              "  <thead>\n",
              "    <tr style=\"text-align: right;\">\n",
              "      <th></th>\n",
              "      <th>Product</th>\n",
              "      <th>Company</th>\n",
              "      <th>Complaints</th>\n",
              "    </tr>\n",
              "  </thead>\n",
              "  <tbody>\n",
              "    <tr>\n",
              "      <th>33209</th>\n",
              "      <td>Mortgage</td>\n",
              "      <td>TCF FINANCIAL CORPORATION</td>\n",
              "      <td>Chemical Bank sent a check from my escrow account to the wrong Homeowner 's Insurance provider, and my escrow account has not been credited for the mistaken transaction. \\n\\nXX/XX/2019 : Chemical Bank issues a payment of {$1500.00} to XXXX XX/XX/2019 : I switch Homeowner 's Insurance providers, from XXXX to XXXX XX/XX/2019 : XXXX issues a refund check for {$1300.00} for the cancelled homeowner 's policy. \\nXX/XX/2019 : Chemical Bank issues a payment of {$1600.00} to XXXX ( the old Homeowner 's Insurance provider who no longer services me ) XX/XX/2019 : I deposit the refund check of {$1300.00} into my escrow account. \\nXX/XX/2019 : I receive a letter from XXXX stating they have not received payment for my homeowner 's policy from my bank. I call Chemical Bank and the discover the original payment for {$1600.00} was sent to the wrong insurance company, XXXX. The issue a payment to XXXX for {$1600.00}. I am told to contact XXXX to about getting my money back. XXXX have no record of the payment associated to me, stating that the money would've come over in a larger check, associated with many policies, and have no record of anything for my account. I call Chemical Bank back, and they tell me they'll look into it and call me back. They never return my call.</td>\n",
              "    </tr>\n",
              "    <tr>\n",
              "      <th>23268</th>\n",
              "      <td>Credit card or prepaid card</td>\n",
              "      <td>CITIBANK, N.A.</td>\n",
              "      <td>Please refer to case number : XXXX for background. \\n\\nI was assaulted and had my wallet stolen. One of the thieves ran up charges on my Best Buy Citi Visa card. \\n\\nThis is the worst credit card I've ever owned in my life, and I can not wait to dump it once this gets resolved. \\n\\nThat month, I paid off more than my entire interest bearing balance less the fraudulent charges. \\n\\nI was assessed {$15.00} in interest that month, because the citi had not removed the fraudulent charges from my account. Because of that, I was carrying an interest bearing balance for the month. However, if you reduced the interest bearing amount by the fraudulent amount, then I actually paid more than what I owed for interest bearing purchases. \\n\\nFast forward to today, I received a letter stating that they determined the charges were fraudulent and they refunded the fraudulent amount ; however, they never refunded the interest. \\n\\nThe assault happened on XX/XX/XXXX. It is now XX/XX/XXXX, and after repeated calls and time wasted, the money is still not refunded.</td>\n",
              "    </tr>\n",
              "    <tr>\n",
              "      <th>41868</th>\n",
              "      <td>Checking or savings account</td>\n",
              "      <td>U.S. BANCORP</td>\n",
              "      <td>XX/XX/2020, I received forgery check from USBank amount {$2400.00}. It was counter withdraw from my checking account, but never been deposit.</td>\n",
              "    </tr>\n",
              "    <tr>\n",
              "      <th>3024</th>\n",
              "      <td>Debt collection</td>\n",
              "      <td>Security Credit Services, LLC</td>\n",
              "      <td>XX/XX/XXXX I received a letter from the lender saying the account is paid and satisfied. XX/XX/XXXX on my credit report it says the exact same account, has a XXXX  amount paid towards the balance owed which is incorrect, I contacted the lender explain to them, customer service person told me the account was deleted from their system and I didn't owe them anything, they would not and could not do anything about it being on my credit report.</td>\n",
              "    </tr>\n",
              "    <tr>\n",
              "      <th>34302</th>\n",
              "      <td>Checking or savings account</td>\n",
              "      <td>BANK OF AMERICA, NATIONAL ASSOCIATION</td>\n",
              "      <td>XXXX2019 I have been BOAs branch in XXXX of XXXX, and I have take cash from ATM in this branch for {$100.00} dollars by twice, because the first time didnt work, then, when I check my bank app for transaction history, my account be charged twice, and the second day, all the account history be fixed, only appears once money out, and account still be charged twice, because balance never change.</td>\n",
              "    </tr>\n",
              "  </tbody>\n",
              "</table>\n",
              "</div>"
            ],
            "text/plain": [
              "                           Product  ...                                                                                                                                                                                                                                                                                                                                                                                                                                                                                                                                                                                                                                                                                                                                                                                                                                                                                                                                                                                                                                                                                                                                                                                                                                                                                                                Complaints\n",
              "33209  Mortgage                     ...  Chemical Bank sent a check from my escrow account to the wrong Homeowner 's Insurance provider, and my escrow account has not been credited for the mistaken transaction. \\n\\nXX/XX/2019 : Chemical Bank issues a payment of {$1500.00} to XXXX XX/XX/2019 : I switch Homeowner 's Insurance providers, from XXXX to XXXX XX/XX/2019 : XXXX issues a refund check for {$1300.00} for the cancelled homeowner 's policy. \\nXX/XX/2019 : Chemical Bank issues a payment of {$1600.00} to XXXX ( the old Homeowner 's Insurance provider who no longer services me ) XX/XX/2019 : I deposit the refund check of {$1300.00} into my escrow account. \\nXX/XX/2019 : I receive a letter from XXXX stating they have not received payment for my homeowner 's policy from my bank. I call Chemical Bank and the discover the original payment for {$1600.00} was sent to the wrong insurance company, XXXX. The issue a payment to XXXX for {$1600.00}. I am told to contact XXXX to about getting my money back. XXXX have no record of the payment associated to me, stating that the money would've come over in a larger check, associated with many policies, and have no record of anything for my account. I call Chemical Bank back, and they tell me they'll look into it and call me back. They never return my call.\n",
              "23268  Credit card or prepaid card  ...  Please refer to case number : XXXX for background. \\n\\nI was assaulted and had my wallet stolen. One of the thieves ran up charges on my Best Buy Citi Visa card. \\n\\nThis is the worst credit card I've ever owned in my life, and I can not wait to dump it once this gets resolved. \\n\\nThat month, I paid off more than my entire interest bearing balance less the fraudulent charges. \\n\\nI was assessed {$15.00} in interest that month, because the citi had not removed the fraudulent charges from my account. Because of that, I was carrying an interest bearing balance for the month. However, if you reduced the interest bearing amount by the fraudulent amount, then I actually paid more than what I owed for interest bearing purchases. \\n\\nFast forward to today, I received a letter stating that they determined the charges were fraudulent and they refunded the fraudulent amount ; however, they never refunded the interest. \\n\\nThe assault happened on XX/XX/XXXX. It is now XX/XX/XXXX, and after repeated calls and time wasted, the money is still not refunded.                                                                                                                                                                                                                      \n",
              "41868  Checking or savings account  ...  XX/XX/2020, I received forgery check from USBank amount {$2400.00}. It was counter withdraw from my checking account, but never been deposit.                                                                                                                                                                                                                                                                                                                                                                                                                                                                                                                                                                                                                                                                                                                                                                                                                                                                                                                                                                                                                                                                                                                                                                           \n",
              "3024   Debt collection              ...  XX/XX/XXXX I received a letter from the lender saying the account is paid and satisfied. XX/XX/XXXX on my credit report it says the exact same account, has a XXXX  amount paid towards the balance owed which is incorrect, I contacted the lender explain to them, customer service person told me the account was deleted from their system and I didn't owe them anything, they would not and could not do anything about it being on my credit report.                                                                                                                                                                                                                                                                                                                                                                                                                                                                                                                                                                                                                                                                                                                                                                                                                                                             \n",
              "34302  Checking or savings account  ...  XXXX2019 I have been BOAs branch in XXXX of XXXX, and I have take cash from ATM in this branch for {$100.00} dollars by twice, because the first time didnt work, then, when I check my bank app for transaction history, my account be charged twice, and the second day, all the account history be fixed, only appears once money out, and account still be charged twice, because balance never change.                                                                                                                                                                                                                                                                                                                                                                                                                                                                                                                                                                                                                                                                                                                                                                                                                                                                                                             \n",
              "\n",
              "[5 rows x 3 columns]"
            ]
          },
          "metadata": {
            "tags": []
          },
          "execution_count": 26
        }
      ]
    },
    {
      "cell_type": "code",
      "metadata": {
        "id": "DOgeOtPo9SyL",
        "colab_type": "code",
        "colab": {}
      },
      "source": [
        "WHold= lda.transform(tf_vectorizer.transform(X_hold.Complaints[:10]))"
      ],
      "execution_count": 27,
      "outputs": []
    },
    {
      "cell_type": "code",
      "metadata": {
        "id": "DSWvLpk99rKo",
        "colab_type": "code",
        "colab": {}
      },
      "source": [
        "colnames_hold = [\"Topic\" + str(i) for i in range(lda.n_components)]\n",
        "docnames_hold = [\"Doc\" + str(i) for i in range(len(X_hold.Complaints[:10]))]\n",
        "df_doc_topic_hold = pd.DataFrame(np.round(WHold, 2), columns=colnames_hold, index=docnames_hold)\n",
        "significant_topic_hold = np.argmax(df_doc_topic_hold.values, axis=1)\n",
        "df_doc_topic_hold['dominant_topic'] = significant_topic_hold"
      ],
      "execution_count": 28,
      "outputs": []
    },
    {
      "cell_type": "code",
      "metadata": {
        "id": "Ij13rlox_ODy",
        "colab_type": "code",
        "colab": {
          "base_uri": "https://localhost:8080/",
          "height": 363
        },
        "outputId": "a260388b-8fdd-41ef-97a8-1dfa2172b05d"
      },
      "source": [
        "df_doc_topic_hold.head(10)"
      ],
      "execution_count": 29,
      "outputs": [
        {
          "output_type": "execute_result",
          "data": {
            "text/html": [
              "<div>\n",
              "<style scoped>\n",
              "    .dataframe tbody tr th:only-of-type {\n",
              "        vertical-align: middle;\n",
              "    }\n",
              "\n",
              "    .dataframe tbody tr th {\n",
              "        vertical-align: top;\n",
              "    }\n",
              "\n",
              "    .dataframe thead th {\n",
              "        text-align: right;\n",
              "    }\n",
              "</style>\n",
              "<table border=\"1\" class=\"dataframe\">\n",
              "  <thead>\n",
              "    <tr style=\"text-align: right;\">\n",
              "      <th></th>\n",
              "      <th>Topic0</th>\n",
              "      <th>Topic1</th>\n",
              "      <th>Topic2</th>\n",
              "      <th>Topic3</th>\n",
              "      <th>Topic4</th>\n",
              "      <th>Topic5</th>\n",
              "      <th>dominant_topic</th>\n",
              "    </tr>\n",
              "  </thead>\n",
              "  <tbody>\n",
              "    <tr>\n",
              "      <th>Doc0</th>\n",
              "      <td>0.01</td>\n",
              "      <td>0.01</td>\n",
              "      <td>0.01</td>\n",
              "      <td>0.12</td>\n",
              "      <td>0.01</td>\n",
              "      <td>0.86</td>\n",
              "      <td>5</td>\n",
              "    </tr>\n",
              "    <tr>\n",
              "      <th>Doc1</th>\n",
              "      <td>0.01</td>\n",
              "      <td>0.01</td>\n",
              "      <td>0.01</td>\n",
              "      <td>0.95</td>\n",
              "      <td>0.01</td>\n",
              "      <td>0.01</td>\n",
              "      <td>3</td>\n",
              "    </tr>\n",
              "    <tr>\n",
              "      <th>Doc2</th>\n",
              "      <td>0.00</td>\n",
              "      <td>0.35</td>\n",
              "      <td>0.00</td>\n",
              "      <td>0.16</td>\n",
              "      <td>0.06</td>\n",
              "      <td>0.42</td>\n",
              "      <td>5</td>\n",
              "    </tr>\n",
              "    <tr>\n",
              "      <th>Doc3</th>\n",
              "      <td>0.94</td>\n",
              "      <td>0.01</td>\n",
              "      <td>0.01</td>\n",
              "      <td>0.01</td>\n",
              "      <td>0.01</td>\n",
              "      <td>0.01</td>\n",
              "      <td>0</td>\n",
              "    </tr>\n",
              "    <tr>\n",
              "      <th>Doc4</th>\n",
              "      <td>0.00</td>\n",
              "      <td>0.00</td>\n",
              "      <td>0.00</td>\n",
              "      <td>0.48</td>\n",
              "      <td>0.51</td>\n",
              "      <td>0.00</td>\n",
              "      <td>4</td>\n",
              "    </tr>\n",
              "    <tr>\n",
              "      <th>Doc5</th>\n",
              "      <td>0.25</td>\n",
              "      <td>0.00</td>\n",
              "      <td>0.00</td>\n",
              "      <td>0.08</td>\n",
              "      <td>0.36</td>\n",
              "      <td>0.31</td>\n",
              "      <td>4</td>\n",
              "    </tr>\n",
              "    <tr>\n",
              "      <th>Doc6</th>\n",
              "      <td>0.92</td>\n",
              "      <td>0.01</td>\n",
              "      <td>0.05</td>\n",
              "      <td>0.01</td>\n",
              "      <td>0.01</td>\n",
              "      <td>0.01</td>\n",
              "      <td>0</td>\n",
              "    </tr>\n",
              "    <tr>\n",
              "      <th>Doc7</th>\n",
              "      <td>0.01</td>\n",
              "      <td>0.37</td>\n",
              "      <td>0.01</td>\n",
              "      <td>0.01</td>\n",
              "      <td>0.01</td>\n",
              "      <td>0.59</td>\n",
              "      <td>5</td>\n",
              "    </tr>\n",
              "    <tr>\n",
              "      <th>Doc8</th>\n",
              "      <td>0.13</td>\n",
              "      <td>0.29</td>\n",
              "      <td>0.00</td>\n",
              "      <td>0.58</td>\n",
              "      <td>0.00</td>\n",
              "      <td>0.00</td>\n",
              "      <td>3</td>\n",
              "    </tr>\n",
              "    <tr>\n",
              "      <th>Doc9</th>\n",
              "      <td>0.00</td>\n",
              "      <td>0.04</td>\n",
              "      <td>0.00</td>\n",
              "      <td>0.57</td>\n",
              "      <td>0.10</td>\n",
              "      <td>0.29</td>\n",
              "      <td>3</td>\n",
              "    </tr>\n",
              "  </tbody>\n",
              "</table>\n",
              "</div>"
            ],
            "text/plain": [
              "      Topic0  Topic1  Topic2  Topic3  Topic4  Topic5  dominant_topic\n",
              "Doc0  0.01    0.01    0.01    0.12    0.01    0.86    5             \n",
              "Doc1  0.01    0.01    0.01    0.95    0.01    0.01    3             \n",
              "Doc2  0.00    0.35    0.00    0.16    0.06    0.42    5             \n",
              "Doc3  0.94    0.01    0.01    0.01    0.01    0.01    0             \n",
              "Doc4  0.00    0.00    0.00    0.48    0.51    0.00    4             \n",
              "Doc5  0.25    0.00    0.00    0.08    0.36    0.31    4             \n",
              "Doc6  0.92    0.01    0.05    0.01    0.01    0.01    0             \n",
              "Doc7  0.01    0.37    0.01    0.01    0.01    0.59    5             \n",
              "Doc8  0.13    0.29    0.00    0.58    0.00    0.00    3             \n",
              "Doc9  0.00    0.04    0.00    0.57    0.10    0.29    3             "
            ]
          },
          "metadata": {
            "tags": []
          },
          "execution_count": 29
        }
      ]
    },
    {
      "cell_type": "code",
      "metadata": {
        "id": "wIkqYIUp_S6f",
        "colab_type": "code",
        "colab": {
          "base_uri": "https://localhost:8080/",
          "height": 240
        },
        "outputId": "f85337f1-101e-4b20-ee46-ca15a852bc87"
      },
      "source": [
        "X_hold.Complaints[:10]"
      ],
      "execution_count": 30,
      "outputs": [
        {
          "output_type": "execute_result",
          "data": {
            "text/plain": [
              "8546     On XX/XX/19 2 separate transactions were withdrawn from my account, {$1.00} and {$19.00}, I contacted my bank to inform them these were unauthorized transactions, I also had my debit card cancelled and reissued. I then contacted the company responsible for the transactions, they informed me that they had no record of my account. \\n\\nThen again on XX/XX/19 I had another charge of {$19.00} deducted from my account. I am contacting my bank to report this as another unauthorized transaction.                                                                                                                                                                                                                                                                                                                                                                                                                                                                                                                                                                                                                                                                                                                                                                                                                                                                                                                                                                                                                                                                                                                                                                                                                                                                                                                                                                \n",
              "53120    Company never sent me collection letter to address, was not able to verify the account was a valid account and has agreed to remove the negative information from report.                                                                                                                                                                                                                                                                                                                                                                                                                                                                                                                                                                                                                                                                                                                                                                                                                                                                                                                                                                                                                                                                                                                                                                                                                                                                                                                                                                                                                                                                                                                                                                                                                                                                                                   \n",
              "50874    On XX/XX/2020, I received a statement from the bank, dated XX/XX/XXXX-XX/XX/2020. This was surprising, because I have not used this card for a very long time, it has been in my possession but I have not made any charges at all, and the balance has been XXXX for all that time and I have not had any statements mailed out. The statement has two charges of {$3100.00} and {$120.00} which I did not make or recognize. In accordance with procedures, I immediately sent a letter in writing to the bank 's account servicing address stating this - on XX/XX/2020. A copy of the letter is enclosed. As of today, XX/XX/2020 I have no response from the bank.                                                                                                                                                                                                                                                                                                                                                                                                                                                                                                                                                                                                                                                                                                                                                                                                                                                                                                                                                                                                                                                                                                                                                                                                     \n",
              "38549    I have been trying to work with them and all they do in give me the run around. I recently uploaded a third party authorization as well for my counselor so he can help me save my home! They refused to speak to him over the phone.                                                                                                                                                                                                                                                                                                                                                                                                                                                                                                                                                                                                                                                                                                                                                                                                                                                                                                                                                                                                                                                                                                                                                                                                                                                                                                                                                                                                                                                                                                                                                                                                                                       \n",
              "10781    This company Enhanced Recovery is trying to collect {$250.00} from me for a bill they claim I owe. I have written them several letters demanding that they comply with the Fair Dept Collection Practices Act and the Fair Credit Reporting Act by ( 1 ) providing me a contract or bill from Enhanced Recovery with my signature on it as follows : \" I am requesting validation, made pursuant to the Fair Debt Collection Practices Act. Please note that I am requesting validation ; that is competent evidence bearing my signature, showing that I have ( or ever had ) some contractual obligation to pay Enhanced Recovery. '' They sent me a computer printout of a bill, but nothing with my signature on it showing a contractual relationship between myself and Enhanced Recovery. They are in violation of the Fair Dept Collection Practices Act and the Fair Credit Reporting Act by claiming I owe money to them and they have no document bearing my signature wherein I allegedly owe them any money or authorized these charges. They are reporting this fraudulent claim to the credit bureaus as a valid debt, yet they are unable to validate the debt.                                                                                                                                                                                                                                                                                                                                                                                                                                                                                                                                                                                                                                                                                             \n",
              "27999    Chase Bank filed a frivolous complaint against me ( Michigan XXXX XXXX XXXXXXXX ) after they generated an unethical low-ball appraisal utilizing irrelevant comparable sales, likely done by a person not licensed in the state of Michigan, which is a violation of federal law. I was cleared of any and all wrongdoing by the state of Michigan 's Licensing and Regulatory Authority ( LARA ). \\nUpon being cleared by LARA, Chase refused to accept LARA 's decision and repeatedly denied my appeals to be removed from their banned list, stating that nothing had been resolved. I remained on Chase 's Ineligible Appraiser List for two years after being cleared by LARA. After I submitted a complaint to the FCPB, Chase replied to both the FCPB and me that I had been removed me from their list ( apparently before my complaint, which I was never notified of ) and declared I was on their Eligible Appraisers List ; however, they never sent me another appraisal order, so they either falsely stated I was removed from the ineligible list, or they prevented me from doing appraisals by blacklisting me another way.\\n\\nI would like to obtain the name and license number of their appraiser so I may pursue legal action against him or her, and, if my accusations are found to be valid, I would like your department to investigate and prosecute Chase Bank for knowingly ordering appraisals from unlicensed appraisers, and having them develop appraisals in violation of USPAP. Based on the most recent letter I received from Chase dated XX/XX/2020, they still refer to my appraisal as \" deficient, '' even though I was cleared by the state of Michigan, with LARA stating \" No violation of the Occupational Code, ... Board Rules, .. or Uniform Standards of Professional Appraisal Practice '' were present in my appraisal.\n",
              "24524    We did a refinance through quicken loans and now just found out it was put as a second on our home we have tried to get the paperwork on this harp they did for us and we cant get any paperwork to find put exactly what they did to us they never told us it was a second mortahe on our home and we are trying to get a line of credit for a hvac unit we desperatly need and wete told we have to have this paperwork and quicken loans wont give us the paperwork.                                                                                                                                                                                                                                                                                                                                                                                                                                                                                                                                                                                                                                                                                                                                                                                                                                                                                                                                                                                                                                                                                                                                                                                                                                                                                                                                                                                                     \n",
              "44891    I saw interest charge {$10.00} on my credit card at XX/XX/15. I don't quite understand why it occurs in my account as the autopay was enabled to pay full statement balance every month. The customer service is unable to do the refund.                                                                                                                                                                                                                                                                                                                                                                                                                                                                                                                                                                                                                                                                                                                                                                                                                                                                                                                                                                                                                                                                                                                                                                                                                                                                                                                                                                                                                                                                                                                                                                                                                                   \n",
              "36174    Exeter Finance has made incorrect reports on the status of my account to the credit bureaus on. On XX/XX/XXXX I received XXXX and XXXX notices that my Exeter account was reported delinquent, when that was incorrect as I set up autopay on my account in XXXX and it was in a current state then. I was notified that my EF account was incorrectly reported 30 days past due on XX/XX/XXXX, not only was it not past due, but the false report caused my credit score to drop by 100 pts, which is unreal. I have not had a missed or late payment on this account and it was very discouraging to have this reported incorrectly and affect my credit in such a way. \\n\\nI have not had such an experience with any other creditor and consider EF as a contributing factor in helping me to improve my credit over the years. Following the this incident, I just went ahead and paid off the {$13000.00} on the loan to be done with them altogether. I tried to file a dispute through the company, but the representatives kept giving me incorrect email addresses to sent my evidence to, all which bounced back.                                                                                                                                                                                                                                                                                                                                                                                                                                                                                                                                                                                                                                                                                                                                                \n",
              "57013    ( USAA MASTER PLAN TO COLLECT CANCELLATIONS OF DEBT ) USAA OPENS ( 2 ) Two DELIQUENT ACCOUNTS** This MUST be in Violation of Fair Credit. See attatched Mastercard statement XX/XX/XXXX *bal {$100.00} & Visa end XXXX. XXXX {$470.00} ) attatched were opened by USAA I DID NOT AUTHORIZE OR APPLY BOTH OPENED XX/XX/XXXX. See attatched USAA 1099-C. Visa/MSTR DEBT Account XXXX CANCELLATION DEBT {$9.00}, XXXX Box 5 Borrower ( * WAS ) personally liable Box 1 Date of Event XX/XX/XXXX. USAA COLLECTS USING FRAUDULENT DELIQUENT ACCOUNTS THEY CREATED. SEE ATTATCHED XX/XX/XXXX USAA ( DID NOT SETTLE UNTIL XX/XX/XXXX ** claiming to be deliquent selling account for collection. AND THE NEXT MONTH TWO CARDS XX/XX/XXXX USAA OPENED ) They opened 2 creditcards of member they claimed HAD A PAST DELIQUENT ACCOUNT??? See attatched XX/XX/XXXX CREDIT CARD FRAUD CLAIM claim date XX/XX/XXXX {$470.00} ( UNAUTHORIZED TRANSACTIONS DID OCCURRED. ) see attatched XX/XX/XXXX CFPB RESPONSE. XXXX XXXX of USAA staff CONFIRMED USAA *HELD ME LIABLE FOR THESE UNAUTHORIZED TRANSACTIONS {$470.00}. See attatched USAA REVIEW OF CLAIM. XX/XX/XXXX. USAA DETERMINED *NO FRADULENT ACTIVITY TO GET THE {$9.00}, XXXX BACK BY OPENING TWO FRAUDULENT ACCOUNTS Using my private ID data from MC XXXX USSA DID NOT CLOSE ... .AND then MADE A PAYMENT FOR ID THEFT I DID NOT AUTHORIZE STEALING SOCIAL SECURITY XX/XX/XXXX TO COLLECT THIS IDENINITY THEFT case XXXX. USAA ARE THE CRIMINALS IN MY HUMBLE OPINION.                                                                                                                                                                                                                                                                                                                                                      \n",
              "Name: Complaints, dtype: object"
            ]
          },
          "metadata": {
            "tags": []
          },
          "execution_count": 30
        }
      ]
    },
    {
      "cell_type": "markdown",
      "metadata": {
        "id": "cROyOWi7_yXa",
        "colab_type": "text"
      },
      "source": [
        "Notice 4th and 7th Document have words like loans, paperwork, home and it will classified to belong to Doc0 which is about loan and mortgage.\n",
        "Statements, Transaction, address, interest are some of the words belong to Topic 6 is about Account related information"
      ]
    }
  ]
}
