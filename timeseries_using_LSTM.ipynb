{
  "nbformat": 4,
  "nbformat_minor": 0,
  "metadata": {
    "colab": {
      "name": "timeseries using LSTM.ipynb",
      "provenance": [],
      "collapsed_sections": [],
      "authorship_tag": "ABX9TyM1wpUrYhbX3kRIRrGY7o93",
      "include_colab_link": true
    },
    "kernelspec": {
      "name": "python3",
      "display_name": "Python 3"
    }
  },
  "cells": [
    {
      "cell_type": "markdown",
      "metadata": {
        "id": "view-in-github",
        "colab_type": "text"
      },
      "source": [
        "<a href=\"https://colab.research.google.com/github/prasvijaya/datascienceportfolio/blob/master/timeseries_using_LSTM.ipynb\" target=\"_parent\"><img src=\"https://colab.research.google.com/assets/colab-badge.svg\" alt=\"Open In Colab\"/></a>"
      ]
    },
    {
      "cell_type": "code",
      "metadata": {
        "colab": {
          "base_uri": "https://localhost:8080/"
        },
        "id": "LfbRWSIiIidm",
        "outputId": "2c539b75-f421-4c36-b11c-204c41902620"
      },
      "source": [
        "from platform import python_version\r\n",
        "print(python_version())"
      ],
      "execution_count": 1,
      "outputs": [
        {
          "output_type": "stream",
          "text": [
            "3.6.9\n"
          ],
          "name": "stdout"
        }
      ]
    },
    {
      "cell_type": "code",
      "metadata": {
        "colab": {
          "resources": {
            "http://localhost:8080/nbextensions/google.colab/files.js": {
              "data": "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",
              "ok": true,
              "headers": [
                [
                  "content-type",
                  "application/javascript"
                ]
              ],
              "status": 200,
              "status_text": "OK"
            }
          },
          "base_uri": "https://localhost:8080/",
          "height": 75
        },
        "id": "8zP36rtsI-xO",
        "outputId": "76d70268-ca2f-4bd4-9043-e06327182b08"
      },
      "source": [
        "from google.colab import files\r\n",
        "uploaded = files.upload()"
      ],
      "execution_count": 2,
      "outputs": [
        {
          "output_type": "display_data",
          "data": {
            "text/html": [
              "\n",
              "     <input type=\"file\" id=\"files-b1ef4c12-7774-4aaa-8f65-b8b2b983a6e6\" name=\"files[]\" multiple disabled\n",
              "        style=\"border:none\" />\n",
              "     <output id=\"result-b1ef4c12-7774-4aaa-8f65-b8b2b983a6e6\">\n",
              "      Upload widget is only available when the cell has been executed in the\n",
              "      current browser session. Please rerun this cell to enable.\n",
              "      </output>\n",
              "      <script src=\"/nbextensions/google.colab/files.js\"></script> "
            ],
            "text/plain": [
              "<IPython.core.display.HTML object>"
            ]
          },
          "metadata": {
            "tags": []
          }
        },
        {
          "output_type": "stream",
          "text": [
            "Saving hotel_bookings.csv to hotel_bookings.csv\n"
          ],
          "name": "stdout"
        }
      ]
    },
    {
      "cell_type": "code",
      "metadata": {
        "id": "eVMUg35lLAgR"
      },
      "source": [
        "dtypes = {\r\n",
        "        'is_canceled':'float64',\r\n",
        "        'lead_time':'float64',\r\n",
        "        'stays_in_weekend_nights':'float64',\r\n",
        "        'stays_in_week_nights':'float64',\r\n",
        "        'adults':'float64',\r\n",
        "        'children':'float64',\r\n",
        "        'babies':'float64',\r\n",
        "        'meal':'category',\r\n",
        "        'country':'category',\r\n",
        "        'market_segment':'category',\r\n",
        "        'distribution_channel':'category',\r\n",
        "        'is_repeated_guest':'float64',\r\n",
        "        'previous_cancellations':'float64',\r\n",
        "        'previous_bookings_not_canceled':'float64',\r\n",
        "        'reserved_room_type':'category',\r\n",
        "        'assigned_room_type':'category',\r\n",
        "        'booking_changes':'float64',\r\n",
        "        'deposit_type':'category',\r\n",
        "        'agent':'category',\r\n",
        "        'company':'category',\r\n",
        "        'days_in_waiting_list':'float64',\r\n",
        "        'customer_type':'category',\r\n",
        "        'adr':'float64',\r\n",
        "        'required_car_parking_spaces':'float64',\r\n",
        "        'total_of_special_requests':'float64',\r\n",
        "        'reservation_status':'category'\r\n",
        "        }"
      ],
      "execution_count": 60,
      "outputs": []
    },
    {
      "cell_type": "code",
      "metadata": {
        "colab": {
          "base_uri": "https://localhost:8080/",
          "height": 617
        },
        "id": "qpWusDO-KV6t",
        "outputId": "3ee72e27-4fd2-4414-f98d-2b4ab73b3e60"
      },
      "source": [
        "import pandas as pd\r\n",
        "import numpy as np\r\n",
        "from pandas import DataFrame\r\n",
        "import matplotlib.pyplot as plt\r\n",
        "from sklearn.metrics import mean_squared_error\r\n",
        "from sklearn.model_selection import train_test_split\r\n",
        "from sklearn.preprocessing import MinMaxScaler\r\n",
        "from statsmodels.tsa.stattools import adfuller\r\n",
        "from tensorflow.keras.layers import Dense\r\n",
        "from tensorflow.keras import layers\r\n",
        "from tensorflow.keras.layers import LSTM\r\n",
        "\r\n",
        "train_df = pd.read_csv(\"hotel_bookings.csv\", dtype=dtypes, converters={'arrival_date_week_number': '{:0>2}'.format})\r\n",
        "train_df"
      ],
      "execution_count": 61,
      "outputs": [
        {
          "output_type": "execute_result",
          "data": {
            "text/html": [
              "<div>\n",
              "<style scoped>\n",
              "    .dataframe tbody tr th:only-of-type {\n",
              "        vertical-align: middle;\n",
              "    }\n",
              "\n",
              "    .dataframe tbody tr th {\n",
              "        vertical-align: top;\n",
              "    }\n",
              "\n",
              "    .dataframe thead th {\n",
              "        text-align: right;\n",
              "    }\n",
              "</style>\n",
              "<table border=\"1\" class=\"dataframe\">\n",
              "  <thead>\n",
              "    <tr style=\"text-align: right;\">\n",
              "      <th></th>\n",
              "      <th>hotel</th>\n",
              "      <th>is_canceled</th>\n",
              "      <th>lead_time</th>\n",
              "      <th>arrival_date_year</th>\n",
              "      <th>arrival_date_month</th>\n",
              "      <th>arrival_date_week_number</th>\n",
              "      <th>arrival_date_day_of_month</th>\n",
              "      <th>stays_in_weekend_nights</th>\n",
              "      <th>stays_in_week_nights</th>\n",
              "      <th>adults</th>\n",
              "      <th>children</th>\n",
              "      <th>babies</th>\n",
              "      <th>meal</th>\n",
              "      <th>country</th>\n",
              "      <th>market_segment</th>\n",
              "      <th>distribution_channel</th>\n",
              "      <th>is_repeated_guest</th>\n",
              "      <th>previous_cancellations</th>\n",
              "      <th>previous_bookings_not_canceled</th>\n",
              "      <th>reserved_room_type</th>\n",
              "      <th>assigned_room_type</th>\n",
              "      <th>booking_changes</th>\n",
              "      <th>deposit_type</th>\n",
              "      <th>agent</th>\n",
              "      <th>company</th>\n",
              "      <th>days_in_waiting_list</th>\n",
              "      <th>customer_type</th>\n",
              "      <th>adr</th>\n",
              "      <th>required_car_parking_spaces</th>\n",
              "      <th>total_of_special_requests</th>\n",
              "      <th>reservation_status</th>\n",
              "      <th>reservation_status_date</th>\n",
              "    </tr>\n",
              "  </thead>\n",
              "  <tbody>\n",
              "    <tr>\n",
              "      <th>0</th>\n",
              "      <td>Resort Hotel</td>\n",
              "      <td>0.0</td>\n",
              "      <td>342.0</td>\n",
              "      <td>2015</td>\n",
              "      <td>July</td>\n",
              "      <td>27</td>\n",
              "      <td>1</td>\n",
              "      <td>0.0</td>\n",
              "      <td>0.0</td>\n",
              "      <td>2.0</td>\n",
              "      <td>0.0</td>\n",
              "      <td>0.0</td>\n",
              "      <td>BB</td>\n",
              "      <td>PRT</td>\n",
              "      <td>Direct</td>\n",
              "      <td>Direct</td>\n",
              "      <td>0.0</td>\n",
              "      <td>0.0</td>\n",
              "      <td>0.0</td>\n",
              "      <td>C</td>\n",
              "      <td>C</td>\n",
              "      <td>3.0</td>\n",
              "      <td>No Deposit</td>\n",
              "      <td>NaN</td>\n",
              "      <td>NaN</td>\n",
              "      <td>0.0</td>\n",
              "      <td>Transient</td>\n",
              "      <td>0.00</td>\n",
              "      <td>0.0</td>\n",
              "      <td>0.0</td>\n",
              "      <td>Check-Out</td>\n",
              "      <td>2015-07-01</td>\n",
              "    </tr>\n",
              "    <tr>\n",
              "      <th>1</th>\n",
              "      <td>Resort Hotel</td>\n",
              "      <td>0.0</td>\n",
              "      <td>737.0</td>\n",
              "      <td>2015</td>\n",
              "      <td>July</td>\n",
              "      <td>27</td>\n",
              "      <td>1</td>\n",
              "      <td>0.0</td>\n",
              "      <td>0.0</td>\n",
              "      <td>2.0</td>\n",
              "      <td>0.0</td>\n",
              "      <td>0.0</td>\n",
              "      <td>BB</td>\n",
              "      <td>PRT</td>\n",
              "      <td>Direct</td>\n",
              "      <td>Direct</td>\n",
              "      <td>0.0</td>\n",
              "      <td>0.0</td>\n",
              "      <td>0.0</td>\n",
              "      <td>C</td>\n",
              "      <td>C</td>\n",
              "      <td>4.0</td>\n",
              "      <td>No Deposit</td>\n",
              "      <td>NaN</td>\n",
              "      <td>NaN</td>\n",
              "      <td>0.0</td>\n",
              "      <td>Transient</td>\n",
              "      <td>0.00</td>\n",
              "      <td>0.0</td>\n",
              "      <td>0.0</td>\n",
              "      <td>Check-Out</td>\n",
              "      <td>2015-07-01</td>\n",
              "    </tr>\n",
              "    <tr>\n",
              "      <th>2</th>\n",
              "      <td>Resort Hotel</td>\n",
              "      <td>0.0</td>\n",
              "      <td>7.0</td>\n",
              "      <td>2015</td>\n",
              "      <td>July</td>\n",
              "      <td>27</td>\n",
              "      <td>1</td>\n",
              "      <td>0.0</td>\n",
              "      <td>1.0</td>\n",
              "      <td>1.0</td>\n",
              "      <td>0.0</td>\n",
              "      <td>0.0</td>\n",
              "      <td>BB</td>\n",
              "      <td>GBR</td>\n",
              "      <td>Direct</td>\n",
              "      <td>Direct</td>\n",
              "      <td>0.0</td>\n",
              "      <td>0.0</td>\n",
              "      <td>0.0</td>\n",
              "      <td>A</td>\n",
              "      <td>C</td>\n",
              "      <td>0.0</td>\n",
              "      <td>No Deposit</td>\n",
              "      <td>NaN</td>\n",
              "      <td>NaN</td>\n",
              "      <td>0.0</td>\n",
              "      <td>Transient</td>\n",
              "      <td>75.00</td>\n",
              "      <td>0.0</td>\n",
              "      <td>0.0</td>\n",
              "      <td>Check-Out</td>\n",
              "      <td>2015-07-02</td>\n",
              "    </tr>\n",
              "    <tr>\n",
              "      <th>3</th>\n",
              "      <td>Resort Hotel</td>\n",
              "      <td>0.0</td>\n",
              "      <td>13.0</td>\n",
              "      <td>2015</td>\n",
              "      <td>July</td>\n",
              "      <td>27</td>\n",
              "      <td>1</td>\n",
              "      <td>0.0</td>\n",
              "      <td>1.0</td>\n",
              "      <td>1.0</td>\n",
              "      <td>0.0</td>\n",
              "      <td>0.0</td>\n",
              "      <td>BB</td>\n",
              "      <td>GBR</td>\n",
              "      <td>Corporate</td>\n",
              "      <td>Corporate</td>\n",
              "      <td>0.0</td>\n",
              "      <td>0.0</td>\n",
              "      <td>0.0</td>\n",
              "      <td>A</td>\n",
              "      <td>A</td>\n",
              "      <td>0.0</td>\n",
              "      <td>No Deposit</td>\n",
              "      <td>304</td>\n",
              "      <td>NaN</td>\n",
              "      <td>0.0</td>\n",
              "      <td>Transient</td>\n",
              "      <td>75.00</td>\n",
              "      <td>0.0</td>\n",
              "      <td>0.0</td>\n",
              "      <td>Check-Out</td>\n",
              "      <td>2015-07-02</td>\n",
              "    </tr>\n",
              "    <tr>\n",
              "      <th>4</th>\n",
              "      <td>Resort Hotel</td>\n",
              "      <td>0.0</td>\n",
              "      <td>14.0</td>\n",
              "      <td>2015</td>\n",
              "      <td>July</td>\n",
              "      <td>27</td>\n",
              "      <td>1</td>\n",
              "      <td>0.0</td>\n",
              "      <td>2.0</td>\n",
              "      <td>2.0</td>\n",
              "      <td>0.0</td>\n",
              "      <td>0.0</td>\n",
              "      <td>BB</td>\n",
              "      <td>GBR</td>\n",
              "      <td>Online TA</td>\n",
              "      <td>TA/TO</td>\n",
              "      <td>0.0</td>\n",
              "      <td>0.0</td>\n",
              "      <td>0.0</td>\n",
              "      <td>A</td>\n",
              "      <td>A</td>\n",
              "      <td>0.0</td>\n",
              "      <td>No Deposit</td>\n",
              "      <td>240</td>\n",
              "      <td>NaN</td>\n",
              "      <td>0.0</td>\n",
              "      <td>Transient</td>\n",
              "      <td>98.00</td>\n",
              "      <td>0.0</td>\n",
              "      <td>1.0</td>\n",
              "      <td>Check-Out</td>\n",
              "      <td>2015-07-03</td>\n",
              "    </tr>\n",
              "    <tr>\n",
              "      <th>...</th>\n",
              "      <td>...</td>\n",
              "      <td>...</td>\n",
              "      <td>...</td>\n",
              "      <td>...</td>\n",
              "      <td>...</td>\n",
              "      <td>...</td>\n",
              "      <td>...</td>\n",
              "      <td>...</td>\n",
              "      <td>...</td>\n",
              "      <td>...</td>\n",
              "      <td>...</td>\n",
              "      <td>...</td>\n",
              "      <td>...</td>\n",
              "      <td>...</td>\n",
              "      <td>...</td>\n",
              "      <td>...</td>\n",
              "      <td>...</td>\n",
              "      <td>...</td>\n",
              "      <td>...</td>\n",
              "      <td>...</td>\n",
              "      <td>...</td>\n",
              "      <td>...</td>\n",
              "      <td>...</td>\n",
              "      <td>...</td>\n",
              "      <td>...</td>\n",
              "      <td>...</td>\n",
              "      <td>...</td>\n",
              "      <td>...</td>\n",
              "      <td>...</td>\n",
              "      <td>...</td>\n",
              "      <td>...</td>\n",
              "      <td>...</td>\n",
              "    </tr>\n",
              "    <tr>\n",
              "      <th>119385</th>\n",
              "      <td>City Hotel</td>\n",
              "      <td>0.0</td>\n",
              "      <td>23.0</td>\n",
              "      <td>2017</td>\n",
              "      <td>August</td>\n",
              "      <td>35</td>\n",
              "      <td>30</td>\n",
              "      <td>2.0</td>\n",
              "      <td>5.0</td>\n",
              "      <td>2.0</td>\n",
              "      <td>0.0</td>\n",
              "      <td>0.0</td>\n",
              "      <td>BB</td>\n",
              "      <td>BEL</td>\n",
              "      <td>Offline TA/TO</td>\n",
              "      <td>TA/TO</td>\n",
              "      <td>0.0</td>\n",
              "      <td>0.0</td>\n",
              "      <td>0.0</td>\n",
              "      <td>A</td>\n",
              "      <td>A</td>\n",
              "      <td>0.0</td>\n",
              "      <td>No Deposit</td>\n",
              "      <td>394</td>\n",
              "      <td>NaN</td>\n",
              "      <td>0.0</td>\n",
              "      <td>Transient</td>\n",
              "      <td>96.14</td>\n",
              "      <td>0.0</td>\n",
              "      <td>0.0</td>\n",
              "      <td>Check-Out</td>\n",
              "      <td>2017-09-06</td>\n",
              "    </tr>\n",
              "    <tr>\n",
              "      <th>119386</th>\n",
              "      <td>City Hotel</td>\n",
              "      <td>0.0</td>\n",
              "      <td>102.0</td>\n",
              "      <td>2017</td>\n",
              "      <td>August</td>\n",
              "      <td>35</td>\n",
              "      <td>31</td>\n",
              "      <td>2.0</td>\n",
              "      <td>5.0</td>\n",
              "      <td>3.0</td>\n",
              "      <td>0.0</td>\n",
              "      <td>0.0</td>\n",
              "      <td>BB</td>\n",
              "      <td>FRA</td>\n",
              "      <td>Online TA</td>\n",
              "      <td>TA/TO</td>\n",
              "      <td>0.0</td>\n",
              "      <td>0.0</td>\n",
              "      <td>0.0</td>\n",
              "      <td>E</td>\n",
              "      <td>E</td>\n",
              "      <td>0.0</td>\n",
              "      <td>No Deposit</td>\n",
              "      <td>9</td>\n",
              "      <td>NaN</td>\n",
              "      <td>0.0</td>\n",
              "      <td>Transient</td>\n",
              "      <td>225.43</td>\n",
              "      <td>0.0</td>\n",
              "      <td>2.0</td>\n",
              "      <td>Check-Out</td>\n",
              "      <td>2017-09-07</td>\n",
              "    </tr>\n",
              "    <tr>\n",
              "      <th>119387</th>\n",
              "      <td>City Hotel</td>\n",
              "      <td>0.0</td>\n",
              "      <td>34.0</td>\n",
              "      <td>2017</td>\n",
              "      <td>August</td>\n",
              "      <td>35</td>\n",
              "      <td>31</td>\n",
              "      <td>2.0</td>\n",
              "      <td>5.0</td>\n",
              "      <td>2.0</td>\n",
              "      <td>0.0</td>\n",
              "      <td>0.0</td>\n",
              "      <td>BB</td>\n",
              "      <td>DEU</td>\n",
              "      <td>Online TA</td>\n",
              "      <td>TA/TO</td>\n",
              "      <td>0.0</td>\n",
              "      <td>0.0</td>\n",
              "      <td>0.0</td>\n",
              "      <td>D</td>\n",
              "      <td>D</td>\n",
              "      <td>0.0</td>\n",
              "      <td>No Deposit</td>\n",
              "      <td>9</td>\n",
              "      <td>NaN</td>\n",
              "      <td>0.0</td>\n",
              "      <td>Transient</td>\n",
              "      <td>157.71</td>\n",
              "      <td>0.0</td>\n",
              "      <td>4.0</td>\n",
              "      <td>Check-Out</td>\n",
              "      <td>2017-09-07</td>\n",
              "    </tr>\n",
              "    <tr>\n",
              "      <th>119388</th>\n",
              "      <td>City Hotel</td>\n",
              "      <td>0.0</td>\n",
              "      <td>109.0</td>\n",
              "      <td>2017</td>\n",
              "      <td>August</td>\n",
              "      <td>35</td>\n",
              "      <td>31</td>\n",
              "      <td>2.0</td>\n",
              "      <td>5.0</td>\n",
              "      <td>2.0</td>\n",
              "      <td>0.0</td>\n",
              "      <td>0.0</td>\n",
              "      <td>BB</td>\n",
              "      <td>GBR</td>\n",
              "      <td>Online TA</td>\n",
              "      <td>TA/TO</td>\n",
              "      <td>0.0</td>\n",
              "      <td>0.0</td>\n",
              "      <td>0.0</td>\n",
              "      <td>A</td>\n",
              "      <td>A</td>\n",
              "      <td>0.0</td>\n",
              "      <td>No Deposit</td>\n",
              "      <td>89</td>\n",
              "      <td>NaN</td>\n",
              "      <td>0.0</td>\n",
              "      <td>Transient</td>\n",
              "      <td>104.40</td>\n",
              "      <td>0.0</td>\n",
              "      <td>0.0</td>\n",
              "      <td>Check-Out</td>\n",
              "      <td>2017-09-07</td>\n",
              "    </tr>\n",
              "    <tr>\n",
              "      <th>119389</th>\n",
              "      <td>City Hotel</td>\n",
              "      <td>0.0</td>\n",
              "      <td>205.0</td>\n",
              "      <td>2017</td>\n",
              "      <td>August</td>\n",
              "      <td>35</td>\n",
              "      <td>29</td>\n",
              "      <td>2.0</td>\n",
              "      <td>7.0</td>\n",
              "      <td>2.0</td>\n",
              "      <td>0.0</td>\n",
              "      <td>0.0</td>\n",
              "      <td>HB</td>\n",
              "      <td>DEU</td>\n",
              "      <td>Online TA</td>\n",
              "      <td>TA/TO</td>\n",
              "      <td>0.0</td>\n",
              "      <td>0.0</td>\n",
              "      <td>0.0</td>\n",
              "      <td>A</td>\n",
              "      <td>A</td>\n",
              "      <td>0.0</td>\n",
              "      <td>No Deposit</td>\n",
              "      <td>9</td>\n",
              "      <td>NaN</td>\n",
              "      <td>0.0</td>\n",
              "      <td>Transient</td>\n",
              "      <td>151.20</td>\n",
              "      <td>0.0</td>\n",
              "      <td>2.0</td>\n",
              "      <td>Check-Out</td>\n",
              "      <td>2017-09-07</td>\n",
              "    </tr>\n",
              "  </tbody>\n",
              "</table>\n",
              "<p>119390 rows × 32 columns</p>\n",
              "</div>"
            ],
            "text/plain": [
              "               hotel  is_canceled  ...  reservation_status  reservation_status_date\n",
              "0       Resort Hotel          0.0  ...           Check-Out               2015-07-01\n",
              "1       Resort Hotel          0.0  ...           Check-Out               2015-07-01\n",
              "2       Resort Hotel          0.0  ...           Check-Out               2015-07-02\n",
              "3       Resort Hotel          0.0  ...           Check-Out               2015-07-02\n",
              "4       Resort Hotel          0.0  ...           Check-Out               2015-07-03\n",
              "...              ...          ...  ...                 ...                      ...\n",
              "119385    City Hotel          0.0  ...           Check-Out               2017-09-06\n",
              "119386    City Hotel          0.0  ...           Check-Out               2017-09-07\n",
              "119387    City Hotel          0.0  ...           Check-Out               2017-09-07\n",
              "119388    City Hotel          0.0  ...           Check-Out               2017-09-07\n",
              "119389    City Hotel          0.0  ...           Check-Out               2017-09-07\n",
              "\n",
              "[119390 rows x 32 columns]"
            ]
          },
          "metadata": {
            "tags": []
          },
          "execution_count": 61
        }
      ]
    },
    {
      "cell_type": "code",
      "metadata": {
        "colab": {
          "base_uri": "https://localhost:8080/"
        },
        "id": "_XPgYzIpL8MW",
        "outputId": "bd0d3239-17ae-4dbe-e327-d6c00120658b"
      },
      "source": [
        "train_df.shape"
      ],
      "execution_count": 62,
      "outputs": [
        {
          "output_type": "execute_result",
          "data": {
            "text/plain": [
              "(119390, 32)"
            ]
          },
          "metadata": {
            "tags": []
          },
          "execution_count": 62
        }
      ]
    },
    {
      "cell_type": "code",
      "metadata": {
        "colab": {
          "base_uri": "https://localhost:8080/"
        },
        "id": "jzdixa-LxKJQ",
        "outputId": "986f531a-6cfb-4031-91e3-3d37aef0feea"
      },
      "source": [
        "train_df.isna().sum()"
      ],
      "execution_count": 149,
      "outputs": [
        {
          "output_type": "execute_result",
          "data": {
            "text/plain": [
              "hotel                                  0\n",
              "is_canceled                            0\n",
              "lead_time                              0\n",
              "arrival_date_year                      0\n",
              "arrival_date_month                     0\n",
              "arrival_date_week_number               0\n",
              "arrival_date_day_of_month              0\n",
              "stays_in_weekend_nights                0\n",
              "stays_in_week_nights                   0\n",
              "adults                                 0\n",
              "children                               4\n",
              "babies                                 0\n",
              "meal                                   0\n",
              "country                              488\n",
              "market_segment                         0\n",
              "distribution_channel                   0\n",
              "is_repeated_guest                      0\n",
              "previous_cancellations                 0\n",
              "previous_bookings_not_canceled         0\n",
              "reserved_room_type                     0\n",
              "assigned_room_type                     0\n",
              "booking_changes                        0\n",
              "deposit_type                           0\n",
              "agent                              16340\n",
              "company                           112593\n",
              "days_in_waiting_list                   0\n",
              "customer_type                          0\n",
              "adr                                    0\n",
              "required_car_parking_spaces            0\n",
              "total_of_special_requests              0\n",
              "reservation_status                     0\n",
              "reservation_status_date                0\n",
              "dtype: int64"
            ]
          },
          "metadata": {
            "tags": []
          },
          "execution_count": 149
        }
      ]
    },
    {
      "cell_type": "code",
      "metadata": {
        "colab": {
          "base_uri": "https://localhost:8080/"
        },
        "id": "FtxCfwuISzK7",
        "outputId": "a670971b-c861-4bd4-fd8e-52d2477797b9"
      },
      "source": [
        "train_df.info()"
      ],
      "execution_count": 63,
      "outputs": [
        {
          "output_type": "stream",
          "text": [
            "<class 'pandas.core.frame.DataFrame'>\n",
            "RangeIndex: 119390 entries, 0 to 119389\n",
            "Data columns (total 32 columns):\n",
            " #   Column                          Non-Null Count   Dtype   \n",
            "---  ------                          --------------   -----   \n",
            " 0   hotel                           119390 non-null  object  \n",
            " 1   is_canceled                     119390 non-null  float64 \n",
            " 2   lead_time                       119390 non-null  float64 \n",
            " 3   arrival_date_year               119390 non-null  int64   \n",
            " 4   arrival_date_month              119390 non-null  object  \n",
            " 5   arrival_date_week_number        119390 non-null  object  \n",
            " 6   arrival_date_day_of_month       119390 non-null  int64   \n",
            " 7   stays_in_weekend_nights         119390 non-null  float64 \n",
            " 8   stays_in_week_nights            119390 non-null  float64 \n",
            " 9   adults                          119390 non-null  float64 \n",
            " 10  children                        119386 non-null  float64 \n",
            " 11  babies                          119390 non-null  float64 \n",
            " 12  meal                            119390 non-null  category\n",
            " 13  country                         118902 non-null  category\n",
            " 14  market_segment                  119390 non-null  category\n",
            " 15  distribution_channel            119390 non-null  category\n",
            " 16  is_repeated_guest               119390 non-null  float64 \n",
            " 17  previous_cancellations          119390 non-null  float64 \n",
            " 18  previous_bookings_not_canceled  119390 non-null  float64 \n",
            " 19  reserved_room_type              119390 non-null  category\n",
            " 20  assigned_room_type              119390 non-null  category\n",
            " 21  booking_changes                 119390 non-null  float64 \n",
            " 22  deposit_type                    119390 non-null  category\n",
            " 23  agent                           103050 non-null  category\n",
            " 24  company                         6797 non-null    category\n",
            " 25  days_in_waiting_list            119390 non-null  float64 \n",
            " 26  customer_type                   119390 non-null  category\n",
            " 27  adr                             119390 non-null  float64 \n",
            " 28  required_car_parking_spaces     119390 non-null  float64 \n",
            " 29  total_of_special_requests       119390 non-null  float64 \n",
            " 30  reservation_status              119390 non-null  category\n",
            " 31  reservation_status_date         119390 non-null  object  \n",
            "dtypes: category(11), float64(15), int64(2), object(4)\n",
            "memory usage: 20.8+ MB\n"
          ],
          "name": "stdout"
        }
      ]
    },
    {
      "cell_type": "code",
      "metadata": {
        "colab": {
          "base_uri": "https://localhost:8080/",
          "height": 617
        },
        "id": "_aUkYRNATDfh",
        "outputId": "cf23c2ba-e380-4293-99f9-ace8126cf9f7"
      },
      "source": [
        "a=train_df.head()\r\n",
        "b=train_df\r\n",
        "b"
      ],
      "execution_count": 64,
      "outputs": [
        {
          "output_type": "execute_result",
          "data": {
            "text/html": [
              "<div>\n",
              "<style scoped>\n",
              "    .dataframe tbody tr th:only-of-type {\n",
              "        vertical-align: middle;\n",
              "    }\n",
              "\n",
              "    .dataframe tbody tr th {\n",
              "        vertical-align: top;\n",
              "    }\n",
              "\n",
              "    .dataframe thead th {\n",
              "        text-align: right;\n",
              "    }\n",
              "</style>\n",
              "<table border=\"1\" class=\"dataframe\">\n",
              "  <thead>\n",
              "    <tr style=\"text-align: right;\">\n",
              "      <th></th>\n",
              "      <th>hotel</th>\n",
              "      <th>is_canceled</th>\n",
              "      <th>lead_time</th>\n",
              "      <th>arrival_date_year</th>\n",
              "      <th>arrival_date_month</th>\n",
              "      <th>arrival_date_week_number</th>\n",
              "      <th>arrival_date_day_of_month</th>\n",
              "      <th>stays_in_weekend_nights</th>\n",
              "      <th>stays_in_week_nights</th>\n",
              "      <th>adults</th>\n",
              "      <th>children</th>\n",
              "      <th>babies</th>\n",
              "      <th>meal</th>\n",
              "      <th>country</th>\n",
              "      <th>market_segment</th>\n",
              "      <th>distribution_channel</th>\n",
              "      <th>is_repeated_guest</th>\n",
              "      <th>previous_cancellations</th>\n",
              "      <th>previous_bookings_not_canceled</th>\n",
              "      <th>reserved_room_type</th>\n",
              "      <th>assigned_room_type</th>\n",
              "      <th>booking_changes</th>\n",
              "      <th>deposit_type</th>\n",
              "      <th>agent</th>\n",
              "      <th>company</th>\n",
              "      <th>days_in_waiting_list</th>\n",
              "      <th>customer_type</th>\n",
              "      <th>adr</th>\n",
              "      <th>required_car_parking_spaces</th>\n",
              "      <th>total_of_special_requests</th>\n",
              "      <th>reservation_status</th>\n",
              "      <th>reservation_status_date</th>\n",
              "    </tr>\n",
              "  </thead>\n",
              "  <tbody>\n",
              "    <tr>\n",
              "      <th>0</th>\n",
              "      <td>Resort Hotel</td>\n",
              "      <td>0.0</td>\n",
              "      <td>342.0</td>\n",
              "      <td>2015</td>\n",
              "      <td>July</td>\n",
              "      <td>27</td>\n",
              "      <td>1</td>\n",
              "      <td>0.0</td>\n",
              "      <td>0.0</td>\n",
              "      <td>2.0</td>\n",
              "      <td>0.0</td>\n",
              "      <td>0.0</td>\n",
              "      <td>BB</td>\n",
              "      <td>PRT</td>\n",
              "      <td>Direct</td>\n",
              "      <td>Direct</td>\n",
              "      <td>0.0</td>\n",
              "      <td>0.0</td>\n",
              "      <td>0.0</td>\n",
              "      <td>C</td>\n",
              "      <td>C</td>\n",
              "      <td>3.0</td>\n",
              "      <td>No Deposit</td>\n",
              "      <td>NaN</td>\n",
              "      <td>NaN</td>\n",
              "      <td>0.0</td>\n",
              "      <td>Transient</td>\n",
              "      <td>0.00</td>\n",
              "      <td>0.0</td>\n",
              "      <td>0.0</td>\n",
              "      <td>Check-Out</td>\n",
              "      <td>2015-07-01</td>\n",
              "    </tr>\n",
              "    <tr>\n",
              "      <th>1</th>\n",
              "      <td>Resort Hotel</td>\n",
              "      <td>0.0</td>\n",
              "      <td>737.0</td>\n",
              "      <td>2015</td>\n",
              "      <td>July</td>\n",
              "      <td>27</td>\n",
              "      <td>1</td>\n",
              "      <td>0.0</td>\n",
              "      <td>0.0</td>\n",
              "      <td>2.0</td>\n",
              "      <td>0.0</td>\n",
              "      <td>0.0</td>\n",
              "      <td>BB</td>\n",
              "      <td>PRT</td>\n",
              "      <td>Direct</td>\n",
              "      <td>Direct</td>\n",
              "      <td>0.0</td>\n",
              "      <td>0.0</td>\n",
              "      <td>0.0</td>\n",
              "      <td>C</td>\n",
              "      <td>C</td>\n",
              "      <td>4.0</td>\n",
              "      <td>No Deposit</td>\n",
              "      <td>NaN</td>\n",
              "      <td>NaN</td>\n",
              "      <td>0.0</td>\n",
              "      <td>Transient</td>\n",
              "      <td>0.00</td>\n",
              "      <td>0.0</td>\n",
              "      <td>0.0</td>\n",
              "      <td>Check-Out</td>\n",
              "      <td>2015-07-01</td>\n",
              "    </tr>\n",
              "    <tr>\n",
              "      <th>2</th>\n",
              "      <td>Resort Hotel</td>\n",
              "      <td>0.0</td>\n",
              "      <td>7.0</td>\n",
              "      <td>2015</td>\n",
              "      <td>July</td>\n",
              "      <td>27</td>\n",
              "      <td>1</td>\n",
              "      <td>0.0</td>\n",
              "      <td>1.0</td>\n",
              "      <td>1.0</td>\n",
              "      <td>0.0</td>\n",
              "      <td>0.0</td>\n",
              "      <td>BB</td>\n",
              "      <td>GBR</td>\n",
              "      <td>Direct</td>\n",
              "      <td>Direct</td>\n",
              "      <td>0.0</td>\n",
              "      <td>0.0</td>\n",
              "      <td>0.0</td>\n",
              "      <td>A</td>\n",
              "      <td>C</td>\n",
              "      <td>0.0</td>\n",
              "      <td>No Deposit</td>\n",
              "      <td>NaN</td>\n",
              "      <td>NaN</td>\n",
              "      <td>0.0</td>\n",
              "      <td>Transient</td>\n",
              "      <td>75.00</td>\n",
              "      <td>0.0</td>\n",
              "      <td>0.0</td>\n",
              "      <td>Check-Out</td>\n",
              "      <td>2015-07-02</td>\n",
              "    </tr>\n",
              "    <tr>\n",
              "      <th>3</th>\n",
              "      <td>Resort Hotel</td>\n",
              "      <td>0.0</td>\n",
              "      <td>13.0</td>\n",
              "      <td>2015</td>\n",
              "      <td>July</td>\n",
              "      <td>27</td>\n",
              "      <td>1</td>\n",
              "      <td>0.0</td>\n",
              "      <td>1.0</td>\n",
              "      <td>1.0</td>\n",
              "      <td>0.0</td>\n",
              "      <td>0.0</td>\n",
              "      <td>BB</td>\n",
              "      <td>GBR</td>\n",
              "      <td>Corporate</td>\n",
              "      <td>Corporate</td>\n",
              "      <td>0.0</td>\n",
              "      <td>0.0</td>\n",
              "      <td>0.0</td>\n",
              "      <td>A</td>\n",
              "      <td>A</td>\n",
              "      <td>0.0</td>\n",
              "      <td>No Deposit</td>\n",
              "      <td>304</td>\n",
              "      <td>NaN</td>\n",
              "      <td>0.0</td>\n",
              "      <td>Transient</td>\n",
              "      <td>75.00</td>\n",
              "      <td>0.0</td>\n",
              "      <td>0.0</td>\n",
              "      <td>Check-Out</td>\n",
              "      <td>2015-07-02</td>\n",
              "    </tr>\n",
              "    <tr>\n",
              "      <th>4</th>\n",
              "      <td>Resort Hotel</td>\n",
              "      <td>0.0</td>\n",
              "      <td>14.0</td>\n",
              "      <td>2015</td>\n",
              "      <td>July</td>\n",
              "      <td>27</td>\n",
              "      <td>1</td>\n",
              "      <td>0.0</td>\n",
              "      <td>2.0</td>\n",
              "      <td>2.0</td>\n",
              "      <td>0.0</td>\n",
              "      <td>0.0</td>\n",
              "      <td>BB</td>\n",
              "      <td>GBR</td>\n",
              "      <td>Online TA</td>\n",
              "      <td>TA/TO</td>\n",
              "      <td>0.0</td>\n",
              "      <td>0.0</td>\n",
              "      <td>0.0</td>\n",
              "      <td>A</td>\n",
              "      <td>A</td>\n",
              "      <td>0.0</td>\n",
              "      <td>No Deposit</td>\n",
              "      <td>240</td>\n",
              "      <td>NaN</td>\n",
              "      <td>0.0</td>\n",
              "      <td>Transient</td>\n",
              "      <td>98.00</td>\n",
              "      <td>0.0</td>\n",
              "      <td>1.0</td>\n",
              "      <td>Check-Out</td>\n",
              "      <td>2015-07-03</td>\n",
              "    </tr>\n",
              "    <tr>\n",
              "      <th>...</th>\n",
              "      <td>...</td>\n",
              "      <td>...</td>\n",
              "      <td>...</td>\n",
              "      <td>...</td>\n",
              "      <td>...</td>\n",
              "      <td>...</td>\n",
              "      <td>...</td>\n",
              "      <td>...</td>\n",
              "      <td>...</td>\n",
              "      <td>...</td>\n",
              "      <td>...</td>\n",
              "      <td>...</td>\n",
              "      <td>...</td>\n",
              "      <td>...</td>\n",
              "      <td>...</td>\n",
              "      <td>...</td>\n",
              "      <td>...</td>\n",
              "      <td>...</td>\n",
              "      <td>...</td>\n",
              "      <td>...</td>\n",
              "      <td>...</td>\n",
              "      <td>...</td>\n",
              "      <td>...</td>\n",
              "      <td>...</td>\n",
              "      <td>...</td>\n",
              "      <td>...</td>\n",
              "      <td>...</td>\n",
              "      <td>...</td>\n",
              "      <td>...</td>\n",
              "      <td>...</td>\n",
              "      <td>...</td>\n",
              "      <td>...</td>\n",
              "    </tr>\n",
              "    <tr>\n",
              "      <th>119385</th>\n",
              "      <td>City Hotel</td>\n",
              "      <td>0.0</td>\n",
              "      <td>23.0</td>\n",
              "      <td>2017</td>\n",
              "      <td>August</td>\n",
              "      <td>35</td>\n",
              "      <td>30</td>\n",
              "      <td>2.0</td>\n",
              "      <td>5.0</td>\n",
              "      <td>2.0</td>\n",
              "      <td>0.0</td>\n",
              "      <td>0.0</td>\n",
              "      <td>BB</td>\n",
              "      <td>BEL</td>\n",
              "      <td>Offline TA/TO</td>\n",
              "      <td>TA/TO</td>\n",
              "      <td>0.0</td>\n",
              "      <td>0.0</td>\n",
              "      <td>0.0</td>\n",
              "      <td>A</td>\n",
              "      <td>A</td>\n",
              "      <td>0.0</td>\n",
              "      <td>No Deposit</td>\n",
              "      <td>394</td>\n",
              "      <td>NaN</td>\n",
              "      <td>0.0</td>\n",
              "      <td>Transient</td>\n",
              "      <td>96.14</td>\n",
              "      <td>0.0</td>\n",
              "      <td>0.0</td>\n",
              "      <td>Check-Out</td>\n",
              "      <td>2017-09-06</td>\n",
              "    </tr>\n",
              "    <tr>\n",
              "      <th>119386</th>\n",
              "      <td>City Hotel</td>\n",
              "      <td>0.0</td>\n",
              "      <td>102.0</td>\n",
              "      <td>2017</td>\n",
              "      <td>August</td>\n",
              "      <td>35</td>\n",
              "      <td>31</td>\n",
              "      <td>2.0</td>\n",
              "      <td>5.0</td>\n",
              "      <td>3.0</td>\n",
              "      <td>0.0</td>\n",
              "      <td>0.0</td>\n",
              "      <td>BB</td>\n",
              "      <td>FRA</td>\n",
              "      <td>Online TA</td>\n",
              "      <td>TA/TO</td>\n",
              "      <td>0.0</td>\n",
              "      <td>0.0</td>\n",
              "      <td>0.0</td>\n",
              "      <td>E</td>\n",
              "      <td>E</td>\n",
              "      <td>0.0</td>\n",
              "      <td>No Deposit</td>\n",
              "      <td>9</td>\n",
              "      <td>NaN</td>\n",
              "      <td>0.0</td>\n",
              "      <td>Transient</td>\n",
              "      <td>225.43</td>\n",
              "      <td>0.0</td>\n",
              "      <td>2.0</td>\n",
              "      <td>Check-Out</td>\n",
              "      <td>2017-09-07</td>\n",
              "    </tr>\n",
              "    <tr>\n",
              "      <th>119387</th>\n",
              "      <td>City Hotel</td>\n",
              "      <td>0.0</td>\n",
              "      <td>34.0</td>\n",
              "      <td>2017</td>\n",
              "      <td>August</td>\n",
              "      <td>35</td>\n",
              "      <td>31</td>\n",
              "      <td>2.0</td>\n",
              "      <td>5.0</td>\n",
              "      <td>2.0</td>\n",
              "      <td>0.0</td>\n",
              "      <td>0.0</td>\n",
              "      <td>BB</td>\n",
              "      <td>DEU</td>\n",
              "      <td>Online TA</td>\n",
              "      <td>TA/TO</td>\n",
              "      <td>0.0</td>\n",
              "      <td>0.0</td>\n",
              "      <td>0.0</td>\n",
              "      <td>D</td>\n",
              "      <td>D</td>\n",
              "      <td>0.0</td>\n",
              "      <td>No Deposit</td>\n",
              "      <td>9</td>\n",
              "      <td>NaN</td>\n",
              "      <td>0.0</td>\n",
              "      <td>Transient</td>\n",
              "      <td>157.71</td>\n",
              "      <td>0.0</td>\n",
              "      <td>4.0</td>\n",
              "      <td>Check-Out</td>\n",
              "      <td>2017-09-07</td>\n",
              "    </tr>\n",
              "    <tr>\n",
              "      <th>119388</th>\n",
              "      <td>City Hotel</td>\n",
              "      <td>0.0</td>\n",
              "      <td>109.0</td>\n",
              "      <td>2017</td>\n",
              "      <td>August</td>\n",
              "      <td>35</td>\n",
              "      <td>31</td>\n",
              "      <td>2.0</td>\n",
              "      <td>5.0</td>\n",
              "      <td>2.0</td>\n",
              "      <td>0.0</td>\n",
              "      <td>0.0</td>\n",
              "      <td>BB</td>\n",
              "      <td>GBR</td>\n",
              "      <td>Online TA</td>\n",
              "      <td>TA/TO</td>\n",
              "      <td>0.0</td>\n",
              "      <td>0.0</td>\n",
              "      <td>0.0</td>\n",
              "      <td>A</td>\n",
              "      <td>A</td>\n",
              "      <td>0.0</td>\n",
              "      <td>No Deposit</td>\n",
              "      <td>89</td>\n",
              "      <td>NaN</td>\n",
              "      <td>0.0</td>\n",
              "      <td>Transient</td>\n",
              "      <td>104.40</td>\n",
              "      <td>0.0</td>\n",
              "      <td>0.0</td>\n",
              "      <td>Check-Out</td>\n",
              "      <td>2017-09-07</td>\n",
              "    </tr>\n",
              "    <tr>\n",
              "      <th>119389</th>\n",
              "      <td>City Hotel</td>\n",
              "      <td>0.0</td>\n",
              "      <td>205.0</td>\n",
              "      <td>2017</td>\n",
              "      <td>August</td>\n",
              "      <td>35</td>\n",
              "      <td>29</td>\n",
              "      <td>2.0</td>\n",
              "      <td>7.0</td>\n",
              "      <td>2.0</td>\n",
              "      <td>0.0</td>\n",
              "      <td>0.0</td>\n",
              "      <td>HB</td>\n",
              "      <td>DEU</td>\n",
              "      <td>Online TA</td>\n",
              "      <td>TA/TO</td>\n",
              "      <td>0.0</td>\n",
              "      <td>0.0</td>\n",
              "      <td>0.0</td>\n",
              "      <td>A</td>\n",
              "      <td>A</td>\n",
              "      <td>0.0</td>\n",
              "      <td>No Deposit</td>\n",
              "      <td>9</td>\n",
              "      <td>NaN</td>\n",
              "      <td>0.0</td>\n",
              "      <td>Transient</td>\n",
              "      <td>151.20</td>\n",
              "      <td>0.0</td>\n",
              "      <td>2.0</td>\n",
              "      <td>Check-Out</td>\n",
              "      <td>2017-09-07</td>\n",
              "    </tr>\n",
              "  </tbody>\n",
              "</table>\n",
              "<p>119390 rows × 32 columns</p>\n",
              "</div>"
            ],
            "text/plain": [
              "               hotel  is_canceled  ...  reservation_status  reservation_status_date\n",
              "0       Resort Hotel          0.0  ...           Check-Out               2015-07-01\n",
              "1       Resort Hotel          0.0  ...           Check-Out               2015-07-01\n",
              "2       Resort Hotel          0.0  ...           Check-Out               2015-07-02\n",
              "3       Resort Hotel          0.0  ...           Check-Out               2015-07-02\n",
              "4       Resort Hotel          0.0  ...           Check-Out               2015-07-03\n",
              "...              ...          ...  ...                 ...                      ...\n",
              "119385    City Hotel          0.0  ...           Check-Out               2017-09-06\n",
              "119386    City Hotel          0.0  ...           Check-Out               2017-09-07\n",
              "119387    City Hotel          0.0  ...           Check-Out               2017-09-07\n",
              "119388    City Hotel          0.0  ...           Check-Out               2017-09-07\n",
              "119389    City Hotel          0.0  ...           Check-Out               2017-09-07\n",
              "\n",
              "[119390 rows x 32 columns]"
            ]
          },
          "metadata": {
            "tags": []
          },
          "execution_count": 64
        }
      ]
    },
    {
      "cell_type": "code",
      "metadata": {
        "colab": {
          "base_uri": "https://localhost:8080/"
        },
        "id": "yG2p2Rb8TZ4A",
        "outputId": "bcbb9478-e8a9-49ac-91e3-17508f6541ce"
      },
      "source": [
        "c=b.sort_values(['arrival_date_year','arrival_date_week_number'], ascending=True)\r\n",
        "c=pd.DataFrame(c)\r\n",
        "c\r\n",
        "type(c)"
      ],
      "execution_count": 65,
      "outputs": [
        {
          "output_type": "execute_result",
          "data": {
            "text/plain": [
              "pandas.core.frame.DataFrame"
            ]
          },
          "metadata": {
            "tags": []
          },
          "execution_count": 65
        }
      ]
    },
    {
      "cell_type": "code",
      "metadata": {
        "colab": {
          "base_uri": "https://localhost:8080/",
          "height": 424
        },
        "id": "BO9j-uioTzxg",
        "outputId": "d17f2af1-a838-4c41-ff16-3003ab1740b5"
      },
      "source": [
        "df = DataFrame(c, columns= ['arrival_date_year', 'arrival_date_week_number']) \r\n",
        "df"
      ],
      "execution_count": 66,
      "outputs": [
        {
          "output_type": "execute_result",
          "data": {
            "text/html": [
              "<div>\n",
              "<style scoped>\n",
              "    .dataframe tbody tr th:only-of-type {\n",
              "        vertical-align: middle;\n",
              "    }\n",
              "\n",
              "    .dataframe tbody tr th {\n",
              "        vertical-align: top;\n",
              "    }\n",
              "\n",
              "    .dataframe thead th {\n",
              "        text-align: right;\n",
              "    }\n",
              "</style>\n",
              "<table border=\"1\" class=\"dataframe\">\n",
              "  <thead>\n",
              "    <tr style=\"text-align: right;\">\n",
              "      <th></th>\n",
              "      <th>arrival_date_year</th>\n",
              "      <th>arrival_date_week_number</th>\n",
              "    </tr>\n",
              "  </thead>\n",
              "  <tbody>\n",
              "    <tr>\n",
              "      <th>0</th>\n",
              "      <td>2015</td>\n",
              "      <td>27</td>\n",
              "    </tr>\n",
              "    <tr>\n",
              "      <th>1</th>\n",
              "      <td>2015</td>\n",
              "      <td>27</td>\n",
              "    </tr>\n",
              "    <tr>\n",
              "      <th>2</th>\n",
              "      <td>2015</td>\n",
              "      <td>27</td>\n",
              "    </tr>\n",
              "    <tr>\n",
              "      <th>3</th>\n",
              "      <td>2015</td>\n",
              "      <td>27</td>\n",
              "    </tr>\n",
              "    <tr>\n",
              "      <th>4</th>\n",
              "      <td>2015</td>\n",
              "      <td>27</td>\n",
              "    </tr>\n",
              "    <tr>\n",
              "      <th>...</th>\n",
              "      <td>...</td>\n",
              "      <td>...</td>\n",
              "    </tr>\n",
              "    <tr>\n",
              "      <th>119385</th>\n",
              "      <td>2017</td>\n",
              "      <td>35</td>\n",
              "    </tr>\n",
              "    <tr>\n",
              "      <th>119386</th>\n",
              "      <td>2017</td>\n",
              "      <td>35</td>\n",
              "    </tr>\n",
              "    <tr>\n",
              "      <th>119387</th>\n",
              "      <td>2017</td>\n",
              "      <td>35</td>\n",
              "    </tr>\n",
              "    <tr>\n",
              "      <th>119388</th>\n",
              "      <td>2017</td>\n",
              "      <td>35</td>\n",
              "    </tr>\n",
              "    <tr>\n",
              "      <th>119389</th>\n",
              "      <td>2017</td>\n",
              "      <td>35</td>\n",
              "    </tr>\n",
              "  </tbody>\n",
              "</table>\n",
              "<p>119390 rows × 2 columns</p>\n",
              "</div>"
            ],
            "text/plain": [
              "        arrival_date_year arrival_date_week_number\n",
              "0                    2015                       27\n",
              "1                    2015                       27\n",
              "2                    2015                       27\n",
              "3                    2015                       27\n",
              "4                    2015                       27\n",
              "...                   ...                      ...\n",
              "119385               2017                       35\n",
              "119386               2017                       35\n",
              "119387               2017                       35\n",
              "119388               2017                       35\n",
              "119389               2017                       35\n",
              "\n",
              "[119390 rows x 2 columns]"
            ]
          },
          "metadata": {
            "tags": []
          },
          "execution_count": 66
        }
      ]
    },
    {
      "cell_type": "code",
      "metadata": {
        "colab": {
          "base_uri": "https://localhost:8080/"
        },
        "id": "rzYi4EbLUvuC",
        "outputId": "fcb6944b-fd96-4dce-e4ee-db520b0bf671"
      },
      "source": [
        "# https://datatofish.com/concatenate-values-python/\r\n",
        "\r\n",
        "df1 = df['arrival_date_year'].map(str) + df['arrival_date_week_number'].map(str)\r\n",
        "print (df1)\r\n",
        "df1=pd.DataFrame(df1)"
      ],
      "execution_count": 67,
      "outputs": [
        {
          "output_type": "stream",
          "text": [
            "0         201527\n",
            "1         201527\n",
            "2         201527\n",
            "3         201527\n",
            "4         201527\n",
            "           ...  \n",
            "119385    201735\n",
            "119386    201735\n",
            "119387    201735\n",
            "119388    201735\n",
            "119389    201735\n",
            "Length: 119390, dtype: object\n"
          ],
          "name": "stdout"
        }
      ]
    },
    {
      "cell_type": "code",
      "metadata": {
        "colab": {
          "base_uri": "https://localhost:8080/"
        },
        "id": "s9d9eErxJ_i6",
        "outputId": "59d9c95d-f9da-477a-9aba-6a7888ae3bca"
      },
      "source": [
        "df2= c['is_canceled']\r\n",
        "df2"
      ],
      "execution_count": 68,
      "outputs": [
        {
          "output_type": "execute_result",
          "data": {
            "text/plain": [
              "0         0.0\n",
              "1         0.0\n",
              "2         0.0\n",
              "3         0.0\n",
              "4         0.0\n",
              "         ... \n",
              "119385    0.0\n",
              "119386    0.0\n",
              "119387    0.0\n",
              "119388    0.0\n",
              "119389    0.0\n",
              "Name: is_canceled, Length: 119390, dtype: float64"
            ]
          },
          "metadata": {
            "tags": []
          },
          "execution_count": 68
        }
      ]
    },
    {
      "cell_type": "code",
      "metadata": {
        "colab": {
          "base_uri": "https://localhost:8080/"
        },
        "id": "_B2zXerDKU5P",
        "outputId": "3c7e902e-94d6-4779-ad23-4d3f5e123b7c"
      },
      "source": [
        "type(df1)"
      ],
      "execution_count": 69,
      "outputs": [
        {
          "output_type": "execute_result",
          "data": {
            "text/plain": [
              "pandas.core.frame.DataFrame"
            ]
          },
          "metadata": {
            "tags": []
          },
          "execution_count": 69
        }
      ]
    },
    {
      "cell_type": "code",
      "metadata": {
        "colab": {
          "base_uri": "https://localhost:8080/",
          "height": 424
        },
        "id": "sAdvu_bQKb5K",
        "outputId": "b15f9e69-268b-4e4a-a2df-0108e1abc323"
      },
      "source": [
        "df3=pd.concat([df1, df2], axis = 1)\r\n",
        "df3.columns = ['FullDate', 'IsCanceled']\r\n",
        "df3"
      ],
      "execution_count": 70,
      "outputs": [
        {
          "output_type": "execute_result",
          "data": {
            "text/html": [
              "<div>\n",
              "<style scoped>\n",
              "    .dataframe tbody tr th:only-of-type {\n",
              "        vertical-align: middle;\n",
              "    }\n",
              "\n",
              "    .dataframe tbody tr th {\n",
              "        vertical-align: top;\n",
              "    }\n",
              "\n",
              "    .dataframe thead th {\n",
              "        text-align: right;\n",
              "    }\n",
              "</style>\n",
              "<table border=\"1\" class=\"dataframe\">\n",
              "  <thead>\n",
              "    <tr style=\"text-align: right;\">\n",
              "      <th></th>\n",
              "      <th>FullDate</th>\n",
              "      <th>IsCanceled</th>\n",
              "    </tr>\n",
              "  </thead>\n",
              "  <tbody>\n",
              "    <tr>\n",
              "      <th>0</th>\n",
              "      <td>201527</td>\n",
              "      <td>0.0</td>\n",
              "    </tr>\n",
              "    <tr>\n",
              "      <th>1</th>\n",
              "      <td>201527</td>\n",
              "      <td>0.0</td>\n",
              "    </tr>\n",
              "    <tr>\n",
              "      <th>2</th>\n",
              "      <td>201527</td>\n",
              "      <td>0.0</td>\n",
              "    </tr>\n",
              "    <tr>\n",
              "      <th>3</th>\n",
              "      <td>201527</td>\n",
              "      <td>0.0</td>\n",
              "    </tr>\n",
              "    <tr>\n",
              "      <th>4</th>\n",
              "      <td>201527</td>\n",
              "      <td>0.0</td>\n",
              "    </tr>\n",
              "    <tr>\n",
              "      <th>...</th>\n",
              "      <td>...</td>\n",
              "      <td>...</td>\n",
              "    </tr>\n",
              "    <tr>\n",
              "      <th>119385</th>\n",
              "      <td>201735</td>\n",
              "      <td>0.0</td>\n",
              "    </tr>\n",
              "    <tr>\n",
              "      <th>119386</th>\n",
              "      <td>201735</td>\n",
              "      <td>0.0</td>\n",
              "    </tr>\n",
              "    <tr>\n",
              "      <th>119387</th>\n",
              "      <td>201735</td>\n",
              "      <td>0.0</td>\n",
              "    </tr>\n",
              "    <tr>\n",
              "      <th>119388</th>\n",
              "      <td>201735</td>\n",
              "      <td>0.0</td>\n",
              "    </tr>\n",
              "    <tr>\n",
              "      <th>119389</th>\n",
              "      <td>201735</td>\n",
              "      <td>0.0</td>\n",
              "    </tr>\n",
              "  </tbody>\n",
              "</table>\n",
              "<p>119390 rows × 2 columns</p>\n",
              "</div>"
            ],
            "text/plain": [
              "       FullDate  IsCanceled\n",
              "0        201527         0.0\n",
              "1        201527         0.0\n",
              "2        201527         0.0\n",
              "3        201527         0.0\n",
              "4        201527         0.0\n",
              "...         ...         ...\n",
              "119385   201735         0.0\n",
              "119386   201735         0.0\n",
              "119387   201735         0.0\n",
              "119388   201735         0.0\n",
              "119389   201735         0.0\n",
              "\n",
              "[119390 rows x 2 columns]"
            ]
          },
          "metadata": {
            "tags": []
          },
          "execution_count": 70
        }
      ]
    },
    {
      "cell_type": "code",
      "metadata": {
        "colab": {
          "base_uri": "https://localhost:8080/",
          "height": 424
        },
        "id": "evLg7U-eKvvW",
        "outputId": "cc042c70-5a5d-40a5-b4b9-194f3198f4c8"
      },
      "source": [
        "df3.sort_values(['FullDate','IsCanceled'], ascending=True)"
      ],
      "execution_count": 71,
      "outputs": [
        {
          "output_type": "execute_result",
          "data": {
            "text/html": [
              "<div>\n",
              "<style scoped>\n",
              "    .dataframe tbody tr th:only-of-type {\n",
              "        vertical-align: middle;\n",
              "    }\n",
              "\n",
              "    .dataframe tbody tr th {\n",
              "        vertical-align: top;\n",
              "    }\n",
              "\n",
              "    .dataframe thead th {\n",
              "        text-align: right;\n",
              "    }\n",
              "</style>\n",
              "<table border=\"1\" class=\"dataframe\">\n",
              "  <thead>\n",
              "    <tr style=\"text-align: right;\">\n",
              "      <th></th>\n",
              "      <th>FullDate</th>\n",
              "      <th>IsCanceled</th>\n",
              "    </tr>\n",
              "  </thead>\n",
              "  <tbody>\n",
              "    <tr>\n",
              "      <th>0</th>\n",
              "      <td>201527</td>\n",
              "      <td>0.0</td>\n",
              "    </tr>\n",
              "    <tr>\n",
              "      <th>1</th>\n",
              "      <td>201527</td>\n",
              "      <td>0.0</td>\n",
              "    </tr>\n",
              "    <tr>\n",
              "      <th>2</th>\n",
              "      <td>201527</td>\n",
              "      <td>0.0</td>\n",
              "    </tr>\n",
              "    <tr>\n",
              "      <th>3</th>\n",
              "      <td>201527</td>\n",
              "      <td>0.0</td>\n",
              "    </tr>\n",
              "    <tr>\n",
              "      <th>4</th>\n",
              "      <td>201527</td>\n",
              "      <td>0.0</td>\n",
              "    </tr>\n",
              "    <tr>\n",
              "      <th>...</th>\n",
              "      <td>...</td>\n",
              "      <td>...</td>\n",
              "    </tr>\n",
              "    <tr>\n",
              "      <th>73710</th>\n",
              "      <td>201735</td>\n",
              "      <td>1.0</td>\n",
              "    </tr>\n",
              "    <tr>\n",
              "      <th>73711</th>\n",
              "      <td>201735</td>\n",
              "      <td>1.0</td>\n",
              "    </tr>\n",
              "    <tr>\n",
              "      <th>73712</th>\n",
              "      <td>201735</td>\n",
              "      <td>1.0</td>\n",
              "    </tr>\n",
              "    <tr>\n",
              "      <th>73713</th>\n",
              "      <td>201735</td>\n",
              "      <td>1.0</td>\n",
              "    </tr>\n",
              "    <tr>\n",
              "      <th>85647</th>\n",
              "      <td>201735</td>\n",
              "      <td>1.0</td>\n",
              "    </tr>\n",
              "  </tbody>\n",
              "</table>\n",
              "<p>119390 rows × 2 columns</p>\n",
              "</div>"
            ],
            "text/plain": [
              "      FullDate  IsCanceled\n",
              "0       201527         0.0\n",
              "1       201527         0.0\n",
              "2       201527         0.0\n",
              "3       201527         0.0\n",
              "4       201527         0.0\n",
              "...        ...         ...\n",
              "73710   201735         1.0\n",
              "73711   201735         1.0\n",
              "73712   201735         1.0\n",
              "73713   201735         1.0\n",
              "85647   201735         1.0\n",
              "\n",
              "[119390 rows x 2 columns]"
            ]
          },
          "metadata": {
            "tags": []
          },
          "execution_count": 71
        }
      ]
    },
    {
      "cell_type": "code",
      "metadata": {
        "colab": {
          "base_uri": "https://localhost:8080/",
          "height": 455
        },
        "id": "4xcGf8t_OLIo",
        "outputId": "af239619-6c26-4baa-8165-a860ffb68703"
      },
      "source": [
        "df4 = df3.groupby('FullDate').agg(sum)\r\n",
        "df4.sort_values(['FullDate'], ascending=True)\r\n",
        "df4"
      ],
      "execution_count": 72,
      "outputs": [
        {
          "output_type": "execute_result",
          "data": {
            "text/html": [
              "<div>\n",
              "<style scoped>\n",
              "    .dataframe tbody tr th:only-of-type {\n",
              "        vertical-align: middle;\n",
              "    }\n",
              "\n",
              "    .dataframe tbody tr th {\n",
              "        vertical-align: top;\n",
              "    }\n",
              "\n",
              "    .dataframe thead th {\n",
              "        text-align: right;\n",
              "    }\n",
              "</style>\n",
              "<table border=\"1\" class=\"dataframe\">\n",
              "  <thead>\n",
              "    <tr style=\"text-align: right;\">\n",
              "      <th></th>\n",
              "      <th>IsCanceled</th>\n",
              "    </tr>\n",
              "    <tr>\n",
              "      <th>FullDate</th>\n",
              "      <th></th>\n",
              "    </tr>\n",
              "  </thead>\n",
              "  <tbody>\n",
              "    <tr>\n",
              "      <th>201527</th>\n",
              "      <td>138.0</td>\n",
              "    </tr>\n",
              "    <tr>\n",
              "      <th>201528</th>\n",
              "      <td>201.0</td>\n",
              "    </tr>\n",
              "    <tr>\n",
              "      <th>201529</th>\n",
              "      <td>315.0</td>\n",
              "    </tr>\n",
              "    <tr>\n",
              "      <th>201530</th>\n",
              "      <td>395.0</td>\n",
              "    </tr>\n",
              "    <tr>\n",
              "      <th>201531</th>\n",
              "      <td>260.0</td>\n",
              "    </tr>\n",
              "    <tr>\n",
              "      <th>...</th>\n",
              "      <td>...</td>\n",
              "    </tr>\n",
              "    <tr>\n",
              "      <th>201731</th>\n",
              "      <td>426.0</td>\n",
              "    </tr>\n",
              "    <tr>\n",
              "      <th>201732</th>\n",
              "      <td>409.0</td>\n",
              "    </tr>\n",
              "    <tr>\n",
              "      <th>201733</th>\n",
              "      <td>523.0</td>\n",
              "    </tr>\n",
              "    <tr>\n",
              "      <th>201734</th>\n",
              "      <td>344.0</td>\n",
              "    </tr>\n",
              "    <tr>\n",
              "      <th>201735</th>\n",
              "      <td>229.0</td>\n",
              "    </tr>\n",
              "  </tbody>\n",
              "</table>\n",
              "<p>115 rows × 1 columns</p>\n",
              "</div>"
            ],
            "text/plain": [
              "          IsCanceled\n",
              "FullDate            \n",
              "201527         138.0\n",
              "201528         201.0\n",
              "201529         315.0\n",
              "201530         395.0\n",
              "201531         260.0\n",
              "...              ...\n",
              "201731         426.0\n",
              "201732         409.0\n",
              "201733         523.0\n",
              "201734         344.0\n",
              "201735         229.0\n",
              "\n",
              "[115 rows x 1 columns]"
            ]
          },
          "metadata": {
            "tags": []
          },
          "execution_count": 72
        }
      ]
    },
    {
      "cell_type": "code",
      "metadata": {
        "colab": {
          "base_uri": "https://localhost:8080/"
        },
        "id": "2ptdxESrOuGU",
        "outputId": "ef7cbe8b-1540-4568-d152-04451d1e6f34"
      },
      "source": [
        "tseries=df4['IsCanceled']\r\n",
        "tseries"
      ],
      "execution_count": 73,
      "outputs": [
        {
          "output_type": "execute_result",
          "data": {
            "text/plain": [
              "FullDate\n",
              "201527    138.0\n",
              "201528    201.0\n",
              "201529    315.0\n",
              "201530    395.0\n",
              "201531    260.0\n",
              "          ...  \n",
              "201731    426.0\n",
              "201732    409.0\n",
              "201733    523.0\n",
              "201734    344.0\n",
              "201735    229.0\n",
              "Name: IsCanceled, Length: 115, dtype: float64"
            ]
          },
          "metadata": {
            "tags": []
          },
          "execution_count": 73
        }
      ]
    },
    {
      "cell_type": "markdown",
      "metadata": {
        "id": "H1FLD_fNQgpC"
      },
      "source": [
        "Visualize the Timeseries and understand TimeSeries Pattern"
      ]
    },
    {
      "cell_type": "code",
      "metadata": {
        "colab": {
          "base_uri": "https://localhost:8080/",
          "height": 264
        },
        "id": "yEjNE0eUQO3L",
        "outputId": "decbb726-339b-4fb5-e5b0-3f101bbcbc8e"
      },
      "source": [
        "plt.plot(tseries)\r\n",
        "plt.tick_params(\r\n",
        "    axis='x',          # changes apply to the x-axis\r\n",
        "    which='both',      # both major and minor ticks are affected\r\n",
        "    bottom=False,      # ticks along the bottom edge are off\r\n",
        "    top=False,         # ticks along the top edge are off\r\n",
        "    labelbottom=False) # labels along the bottom edge are off\r\n",
        "plt.ylabel('Cancellations')\r\n",
        "plt.title(\"Cancellations Per Week\")\r\n",
        "plt.show()"
      ],
      "execution_count": 74,
      "outputs": [
        {
          "output_type": "display_data",
          "data": {
            "image/png": "[encoded data removed]",
            "text/plain": [
              "<Figure size 432x288 with 1 Axes>"
            ]
          },
          "metadata": {
            "tags": [],
            "needs_background": "light"
          }
        }
      ]
    },
    {
      "cell_type": "markdown",
      "metadata": {
        "id": "ajFDCrvWQpSy"
      },
      "source": [
        "**There is a seasonality present in Cancellations**"
      ]
    },
    {
      "cell_type": "markdown",
      "metadata": {
        "id": "nLXsRbzMP6sO"
      },
      "source": [
        "##### Run Augmented Dickey Fuller Test to confirm if the timeseries are Stationary or not"
      ]
    },
    {
      "cell_type": "code",
      "metadata": {
        "id": "Euq36b7xPDUR"
      },
      "source": [
        "import statsmodels.api as sm\r\n",
        "import statsmodels.formula.api as smf\r\n",
        "from statsmodels.tsa.stattools import adfuller"
      ],
      "execution_count": 75,
      "outputs": []
    },
    {
      "cell_type": "code",
      "metadata": {
        "colab": {
          "base_uri": "https://localhost:8080/"
        },
        "id": "V8ZJkXD3Rk3j",
        "outputId": "898e9021-9abe-4e16-875c-51b427c748f3"
      },
      "source": [
        "# Run the ADF test on the series and print out the results\r\n",
        "results = adfuller(tseries)\r\n",
        "print(results)"
      ],
      "execution_count": 76,
      "outputs": [
        {
          "output_type": "stream",
          "text": [
            "(-2.957580251555882, 0.03905028280956615, 10, 104, {'1%': -3.4948504603223145, '5%': -2.889758398668639, '10%': -2.5818220155325444}, 1239.419112291575)\n"
          ],
          "name": "stdout"
        }
      ]
    },
    {
      "cell_type": "code",
      "metadata": {
        "colab": {
          "base_uri": "https://localhost:8080/"
        },
        "id": "A5xEJQoJRxCD",
        "outputId": "9e99aafb-f626-4a1a-935c-09dde979fb88"
      },
      "source": [
        "print('ADF Statistic: %f' % results[0])\r\n",
        "print('p-value: %f' % results[1])\r\n",
        "print('Critical Values:')\r\n",
        "for key, value in results[4].items():\r\n",
        "    print('\\t%s: %.3f' % (key, value))"
      ],
      "execution_count": 77,
      "outputs": [
        {
          "output_type": "stream",
          "text": [
            "ADF Statistic: -2.957580\n",
            "p-value: 0.039050\n",
            "Critical Values:\n",
            "\t1%: -3.495\n",
            "\t5%: -2.890\n",
            "\t10%: -2.582\n"
          ],
          "name": "stdout"
        }
      ]
    },
    {
      "cell_type": "markdown",
      "metadata": {
        "id": "NoFIub6cSE6f"
      },
      "source": [
        "p-value < 0.05, so we can accept the Null Hypothesis that the timeseries is Stationary. Hence, the Dicky Fuller test says Time series is stationary"
      ]
    },
    {
      "cell_type": "code",
      "metadata": {
        "colab": {
          "base_uri": "https://localhost:8080/",
          "height": 455
        },
        "id": "wFY2LnRXUg0h",
        "outputId": "aa75a63a-0e44-4701-9316-2d38b8037e55"
      },
      "source": [
        "df=pd.DataFrame(tseries)\r\n",
        "df"
      ],
      "execution_count": 78,
      "outputs": [
        {
          "output_type": "execute_result",
          "data": {
            "text/html": [
              "<div>\n",
              "<style scoped>\n",
              "    .dataframe tbody tr th:only-of-type {\n",
              "        vertical-align: middle;\n",
              "    }\n",
              "\n",
              "    .dataframe tbody tr th {\n",
              "        vertical-align: top;\n",
              "    }\n",
              "\n",
              "    .dataframe thead th {\n",
              "        text-align: right;\n",
              "    }\n",
              "</style>\n",
              "<table border=\"1\" class=\"dataframe\">\n",
              "  <thead>\n",
              "    <tr style=\"text-align: right;\">\n",
              "      <th></th>\n",
              "      <th>IsCanceled</th>\n",
              "    </tr>\n",
              "    <tr>\n",
              "      <th>FullDate</th>\n",
              "      <th></th>\n",
              "    </tr>\n",
              "  </thead>\n",
              "  <tbody>\n",
              "    <tr>\n",
              "      <th>201527</th>\n",
              "      <td>138.0</td>\n",
              "    </tr>\n",
              "    <tr>\n",
              "      <th>201528</th>\n",
              "      <td>201.0</td>\n",
              "    </tr>\n",
              "    <tr>\n",
              "      <th>201529</th>\n",
              "      <td>315.0</td>\n",
              "    </tr>\n",
              "    <tr>\n",
              "      <th>201530</th>\n",
              "      <td>395.0</td>\n",
              "    </tr>\n",
              "    <tr>\n",
              "      <th>201531</th>\n",
              "      <td>260.0</td>\n",
              "    </tr>\n",
              "    <tr>\n",
              "      <th>...</th>\n",
              "      <td>...</td>\n",
              "    </tr>\n",
              "    <tr>\n",
              "      <th>201731</th>\n",
              "      <td>426.0</td>\n",
              "    </tr>\n",
              "    <tr>\n",
              "      <th>201732</th>\n",
              "      <td>409.0</td>\n",
              "    </tr>\n",
              "    <tr>\n",
              "      <th>201733</th>\n",
              "      <td>523.0</td>\n",
              "    </tr>\n",
              "    <tr>\n",
              "      <th>201734</th>\n",
              "      <td>344.0</td>\n",
              "    </tr>\n",
              "    <tr>\n",
              "      <th>201735</th>\n",
              "      <td>229.0</td>\n",
              "    </tr>\n",
              "  </tbody>\n",
              "</table>\n",
              "<p>115 rows × 1 columns</p>\n",
              "</div>"
            ],
            "text/plain": [
              "          IsCanceled\n",
              "FullDate            \n",
              "201527         138.0\n",
              "201528         201.0\n",
              "201529         315.0\n",
              "201530         395.0\n",
              "201531         260.0\n",
              "...              ...\n",
              "201731         426.0\n",
              "201732         409.0\n",
              "201733         523.0\n",
              "201734         344.0\n",
              "201735         229.0\n",
              "\n",
              "[115 rows x 1 columns]"
            ]
          },
          "metadata": {
            "tags": []
          },
          "execution_count": 78
        }
      ]
    },
    {
      "cell_type": "code",
      "metadata": {
        "id": "MgnV0HHKUrGG"
      },
      "source": [
        "df=np.array(df)"
      ],
      "execution_count": 79,
      "outputs": []
    },
    {
      "cell_type": "markdown",
      "metadata": {
        "id": "pOdlQwZRU3Zv"
      },
      "source": [
        "**Training and Validation data partition**"
      ]
    },
    {
      "cell_type": "code",
      "metadata": {
        "id": "NeTQ-v4YU7QO"
      },
      "source": [
        "train_size = int(len(df) * 0.8)\r\n",
        "val_size = len(df) - train_size\r\n",
        "train, val = df[0:train_size,:], df[train_size:len(df),:]"
      ],
      "execution_count": 80,
      "outputs": []
    },
    {
      "cell_type": "markdown",
      "metadata": {
        "id": "aGsqut18VBJg"
      },
      "source": [
        "**Form dataset matrix**"
      ]
    },
    {
      "cell_type": "code",
      "metadata": {
        "id": "L8CHGC8-VDGZ"
      },
      "source": [
        "def create_dataset(df, previous=1):\r\n",
        "    dataX, dataY = [], []\r\n",
        "    for i in range(len(df)-previous-1):\r\n",
        "        a = df[i:(i+previous), 0]\r\n",
        "        dataX.append(a)\r\n",
        "        dataY.append(df[i + previous, 0])\r\n",
        "    return np.array(dataX), np.array(dataY)"
      ],
      "execution_count": 81,
      "outputs": []
    },
    {
      "cell_type": "code",
      "metadata": {
        "colab": {
          "base_uri": "https://localhost:8080/"
        },
        "id": "SeOuPWMBVKRZ",
        "outputId": "f2b4fbf2-ea9a-412f-bbcd-c4077a20a50f"
      },
      "source": [
        "df"
      ],
      "execution_count": 82,
      "outputs": [
        {
          "output_type": "execute_result",
          "data": {
            "text/plain": [
              "array([[138.],\n",
              "       [201.],\n",
              "       [315.],\n",
              "       [395.],\n",
              "       [260.],\n",
              "       [376.],\n",
              "       [524.],\n",
              "       [260.],\n",
              "       [300.],\n",
              "       [414.],\n",
              "       [407.],\n",
              "       [615.],\n",
              "       [537.],\n",
              "       [415.],\n",
              "       [589.],\n",
              "       [450.],\n",
              "       [244.],\n",
              "       [243.],\n",
              "       [112.],\n",
              "       [135.],\n",
              "       [104.],\n",
              "       [121.],\n",
              "       [296.],\n",
              "       [287.],\n",
              "       [ 58.],\n",
              "       [122.],\n",
              "       [224.],\n",
              "       [ 75.],\n",
              "       [ 75.],\n",
              "       [ 79.],\n",
              "       [162.],\n",
              "       [163.],\n",
              "       [146.],\n",
              "       [293.],\n",
              "       [388.],\n",
              "       [346.],\n",
              "       [382.],\n",
              "       [182.],\n",
              "       [298.],\n",
              "       [551.],\n",
              "       [291.],\n",
              "       [421.],\n",
              "       [455.],\n",
              "       [510.],\n",
              "       [615.],\n",
              "       [372.],\n",
              "       [473.],\n",
              "       [523.],\n",
              "       [351.],\n",
              "       [497.],\n",
              "       [464.],\n",
              "       [736.],\n",
              "       [309.],\n",
              "       [418.],\n",
              "       [358.],\n",
              "       [329.],\n",
              "       [340.],\n",
              "       [309.],\n",
              "       [381.],\n",
              "       [458.],\n",
              "       [440.],\n",
              "       [394.],\n",
              "       [399.],\n",
              "       [469.],\n",
              "       [424.],\n",
              "       [450.],\n",
              "       [584.],\n",
              "       [497.],\n",
              "       [625.],\n",
              "       [655.],\n",
              "       [502.],\n",
              "       [649.],\n",
              "       [454.],\n",
              "       [272.],\n",
              "       [254.],\n",
              "       [369.],\n",
              "       [310.],\n",
              "       [188.],\n",
              "       [232.],\n",
              "       [420.],\n",
              "       [278.],\n",
              "       [320.],\n",
              "       [256.],\n",
              "       [344.],\n",
              "       [262.],\n",
              "       [239.],\n",
              "       [391.],\n",
              "       [405.],\n",
              "       [378.],\n",
              "       [355.],\n",
              "       [436.],\n",
              "       [332.],\n",
              "       [331.],\n",
              "       [541.],\n",
              "       [626.],\n",
              "       [521.],\n",
              "       [674.],\n",
              "       [699.],\n",
              "       [491.],\n",
              "       [745.],\n",
              "       [537.],\n",
              "       [665.],\n",
              "       [573.],\n",
              "       [559.],\n",
              "       [505.],\n",
              "       [552.],\n",
              "       [429.],\n",
              "       [490.],\n",
              "       [372.],\n",
              "       [508.],\n",
              "       [426.],\n",
              "       [409.],\n",
              "       [523.],\n",
              "       [344.],\n",
              "       [229.]])"
            ]
          },
          "metadata": {
            "tags": []
          },
          "execution_count": 82
        }
      ]
    },
    {
      "cell_type": "markdown",
      "metadata": {
        "id": "hZWFTNhjVRlH"
      },
      "source": [
        "**Normalize dataset with MinMaxScaler**"
      ]
    },
    {
      "cell_type": "code",
      "metadata": {
        "colab": {
          "base_uri": "https://localhost:8080/"
        },
        "id": "Ny_KMWzFVTCo",
        "outputId": "71280df7-3cde-4cfb-cb67-90ea49f7a248"
      },
      "source": [
        "scaler = MinMaxScaler(feature_range=(0, 1))\r\n",
        "train = scaler.fit_transform(train)\r\n",
        "train"
      ],
      "execution_count": 83,
      "outputs": [
        {
          "output_type": "execute_result",
          "data": {
            "text/plain": [
              "array([[0.1179941 ],\n",
              "       [0.21091445],\n",
              "       [0.37905605],\n",
              "       [0.49705015],\n",
              "       [0.2979351 ],\n",
              "       [0.46902655],\n",
              "       [0.68731563],\n",
              "       [0.2979351 ],\n",
              "       [0.35693215],\n",
              "       [0.52507375],\n",
              "       [0.51474926],\n",
              "       [0.82153392],\n",
              "       [0.70648968],\n",
              "       [0.52654867],\n",
              "       [0.78318584],\n",
              "       [0.57817109],\n",
              "       [0.27433628],\n",
              "       [0.27286136],\n",
              "       [0.07964602],\n",
              "       [0.11356932],\n",
              "       [0.06784661],\n",
              "       [0.09292035],\n",
              "       [0.35103245],\n",
              "       [0.33775811],\n",
              "       [0.        ],\n",
              "       [0.09439528],\n",
              "       [0.24483776],\n",
              "       [0.02507375],\n",
              "       [0.02507375],\n",
              "       [0.03097345],\n",
              "       [0.15339233],\n",
              "       [0.15486726],\n",
              "       [0.12979351],\n",
              "       [0.34660767],\n",
              "       [0.48672566],\n",
              "       [0.42477876],\n",
              "       [0.47787611],\n",
              "       [0.18289086],\n",
              "       [0.3539823 ],\n",
              "       [0.72713864],\n",
              "       [0.34365782],\n",
              "       [0.53539823],\n",
              "       [0.58554572],\n",
              "       [0.66666667],\n",
              "       [0.82153392],\n",
              "       [0.46312684],\n",
              "       [0.6120944 ],\n",
              "       [0.68584071],\n",
              "       [0.43215339],\n",
              "       [0.64749263],\n",
              "       [0.59882006],\n",
              "       [1.        ],\n",
              "       [0.37020649],\n",
              "       [0.53097345],\n",
              "       [0.44247788],\n",
              "       [0.39970501],\n",
              "       [0.4159292 ],\n",
              "       [0.37020649],\n",
              "       [0.47640118],\n",
              "       [0.5899705 ],\n",
              "       [0.56342183],\n",
              "       [0.49557522],\n",
              "       [0.50294985],\n",
              "       [0.60619469],\n",
              "       [0.53982301],\n",
              "       [0.57817109],\n",
              "       [0.77581121],\n",
              "       [0.64749263],\n",
              "       [0.83628319],\n",
              "       [0.88053097],\n",
              "       [0.65486726],\n",
              "       [0.87168142],\n",
              "       [0.5840708 ],\n",
              "       [0.31563422],\n",
              "       [0.28908555],\n",
              "       [0.45870206],\n",
              "       [0.37168142],\n",
              "       [0.19174041],\n",
              "       [0.25663717],\n",
              "       [0.5339233 ],\n",
              "       [0.32448378],\n",
              "       [0.38643068],\n",
              "       [0.2920354 ],\n",
              "       [0.42182891],\n",
              "       [0.30088496],\n",
              "       [0.26696165],\n",
              "       [0.49115044],\n",
              "       [0.51179941],\n",
              "       [0.4719764 ],\n",
              "       [0.4380531 ],\n",
              "       [0.55752212],\n",
              "       [0.40412979]])"
            ]
          },
          "metadata": {
            "tags": []
          },
          "execution_count": 83
        }
      ]
    },
    {
      "cell_type": "code",
      "metadata": {
        "colab": {
          "base_uri": "https://localhost:8080/"
        },
        "id": "Nq-KYMLlVmXN",
        "outputId": "3c304b94-315b-42ff-c537-e36d65e5d569"
      },
      "source": [
        "val = scaler.fit_transform(val)\r\n",
        "val"
      ],
      "execution_count": 84,
      "outputs": [
        {
          "output_type": "execute_result",
          "data": {
            "text/plain": [
              "array([[0.19767442],\n",
              "       [0.60465116],\n",
              "       [0.76937984],\n",
              "       [0.56589147],\n",
              "       [0.8624031 ],\n",
              "       [0.91085271],\n",
              "       [0.50775194],\n",
              "       [1.        ],\n",
              "       [0.59689922],\n",
              "       [0.84496124],\n",
              "       [0.66666667],\n",
              "       [0.63953488],\n",
              "       [0.53488372],\n",
              "       [0.62596899],\n",
              "       [0.3875969 ],\n",
              "       [0.50581395],\n",
              "       [0.27713178],\n",
              "       [0.54069767],\n",
              "       [0.38178295],\n",
              "       [0.34883721],\n",
              "       [0.56976744],\n",
              "       [0.22286822],\n",
              "       [0.        ]])"
            ]
          },
          "metadata": {
            "tags": []
          },
          "execution_count": 84
        }
      ]
    },
    {
      "cell_type": "code",
      "metadata": {
        "id": "HIQ6mVRSVqrL"
      },
      "source": [
        "# Lookback period\r\n",
        "lookback = 5\r\n",
        "X_train, y_train = create_dataset(train, lookback)\r\n",
        "X_val, y_val = create_dataset(val, lookback)"
      ],
      "execution_count": 85,
      "outputs": []
    },
    {
      "cell_type": "code",
      "metadata": {
        "colab": {
          "base_uri": "https://localhost:8080/"
        },
        "id": "lzWZTnx-Vu0M",
        "outputId": "7c14e8ae-a113-4c9a-8766-2255b35505f3"
      },
      "source": [
        "X_train"
      ],
      "execution_count": 86,
      "outputs": [
        {
          "output_type": "execute_result",
          "data": {
            "text/plain": [
              "array([[0.1179941 , 0.21091445, 0.37905605, 0.49705015, 0.2979351 ],\n",
              "       [0.21091445, 0.37905605, 0.49705015, 0.2979351 , 0.46902655],\n",
              "       [0.37905605, 0.49705015, 0.2979351 , 0.46902655, 0.68731563],\n",
              "       [0.49705015, 0.2979351 , 0.46902655, 0.68731563, 0.2979351 ],\n",
              "       [0.2979351 , 0.46902655, 0.68731563, 0.2979351 , 0.35693215],\n",
              "       [0.46902655, 0.68731563, 0.2979351 , 0.35693215, 0.52507375],\n",
              "       [0.68731563, 0.2979351 , 0.35693215, 0.52507375, 0.51474926],\n",
              "       [0.2979351 , 0.35693215, 0.52507375, 0.51474926, 0.82153392],\n",
              "       [0.35693215, 0.52507375, 0.51474926, 0.82153392, 0.70648968],\n",
              "       [0.52507375, 0.51474926, 0.82153392, 0.70648968, 0.52654867],\n",
              "       [0.51474926, 0.82153392, 0.70648968, 0.52654867, 0.78318584],\n",
              "       [0.82153392, 0.70648968, 0.52654867, 0.78318584, 0.57817109],\n",
              "       [0.70648968, 0.52654867, 0.78318584, 0.57817109, 0.27433628],\n",
              "       [0.52654867, 0.78318584, 0.57817109, 0.27433628, 0.27286136],\n",
              "       [0.78318584, 0.57817109, 0.27433628, 0.27286136, 0.07964602],\n",
              "       [0.57817109, 0.27433628, 0.27286136, 0.07964602, 0.11356932],\n",
              "       [0.27433628, 0.27286136, 0.07964602, 0.11356932, 0.06784661],\n",
              "       [0.27286136, 0.07964602, 0.11356932, 0.06784661, 0.09292035],\n",
              "       [0.07964602, 0.11356932, 0.06784661, 0.09292035, 0.35103245],\n",
              "       [0.11356932, 0.06784661, 0.09292035, 0.35103245, 0.33775811],\n",
              "       [0.06784661, 0.09292035, 0.35103245, 0.33775811, 0.        ],\n",
              "       [0.09292035, 0.35103245, 0.33775811, 0.        , 0.09439528],\n",
              "       [0.35103245, 0.33775811, 0.        , 0.09439528, 0.24483776],\n",
              "       [0.33775811, 0.        , 0.09439528, 0.24483776, 0.02507375],\n",
              "       [0.        , 0.09439528, 0.24483776, 0.02507375, 0.02507375],\n",
              "       [0.09439528, 0.24483776, 0.02507375, 0.02507375, 0.03097345],\n",
              "       [0.24483776, 0.02507375, 0.02507375, 0.03097345, 0.15339233],\n",
              "       [0.02507375, 0.02507375, 0.03097345, 0.15339233, 0.15486726],\n",
              "       [0.02507375, 0.03097345, 0.15339233, 0.15486726, 0.12979351],\n",
              "       [0.03097345, 0.15339233, 0.15486726, 0.12979351, 0.34660767],\n",
              "       [0.15339233, 0.15486726, 0.12979351, 0.34660767, 0.48672566],\n",
              "       [0.15486726, 0.12979351, 0.34660767, 0.48672566, 0.42477876],\n",
              "       [0.12979351, 0.34660767, 0.48672566, 0.42477876, 0.47787611],\n",
              "       [0.34660767, 0.48672566, 0.42477876, 0.47787611, 0.18289086],\n",
              "       [0.48672566, 0.42477876, 0.47787611, 0.18289086, 0.3539823 ],\n",
              "       [0.42477876, 0.47787611, 0.18289086, 0.3539823 , 0.72713864],\n",
              "       [0.47787611, 0.18289086, 0.3539823 , 0.72713864, 0.34365782],\n",
              "       [0.18289086, 0.3539823 , 0.72713864, 0.34365782, 0.53539823],\n",
              "       [0.3539823 , 0.72713864, 0.34365782, 0.53539823, 0.58554572],\n",
              "       [0.72713864, 0.34365782, 0.53539823, 0.58554572, 0.66666667],\n",
              "       [0.34365782, 0.53539823, 0.58554572, 0.66666667, 0.82153392],\n",
              "       [0.53539823, 0.58554572, 0.66666667, 0.82153392, 0.46312684],\n",
              "       [0.58554572, 0.66666667, 0.82153392, 0.46312684, 0.6120944 ],\n",
              "       [0.66666667, 0.82153392, 0.46312684, 0.6120944 , 0.68584071],\n",
              "       [0.82153392, 0.46312684, 0.6120944 , 0.68584071, 0.43215339],\n",
              "       [0.46312684, 0.6120944 , 0.68584071, 0.43215339, 0.64749263],\n",
              "       [0.6120944 , 0.68584071, 0.43215339, 0.64749263, 0.59882006],\n",
              "       [0.68584071, 0.43215339, 0.64749263, 0.59882006, 1.        ],\n",
              "       [0.43215339, 0.64749263, 0.59882006, 1.        , 0.37020649],\n",
              "       [0.64749263, 0.59882006, 1.        , 0.37020649, 0.53097345],\n",
              "       [0.59882006, 1.        , 0.37020649, 0.53097345, 0.44247788],\n",
              "       [1.        , 0.37020649, 0.53097345, 0.44247788, 0.39970501],\n",
              "       [0.37020649, 0.53097345, 0.44247788, 0.39970501, 0.4159292 ],\n",
              "       [0.53097345, 0.44247788, 0.39970501, 0.4159292 , 0.37020649],\n",
              "       [0.44247788, 0.39970501, 0.4159292 , 0.37020649, 0.47640118],\n",
              "       [0.39970501, 0.4159292 , 0.37020649, 0.47640118, 0.5899705 ],\n",
              "       [0.4159292 , 0.37020649, 0.47640118, 0.5899705 , 0.56342183],\n",
              "       [0.37020649, 0.47640118, 0.5899705 , 0.56342183, 0.49557522],\n",
              "       [0.47640118, 0.5899705 , 0.56342183, 0.49557522, 0.50294985],\n",
              "       [0.5899705 , 0.56342183, 0.49557522, 0.50294985, 0.60619469],\n",
              "       [0.56342183, 0.49557522, 0.50294985, 0.60619469, 0.53982301],\n",
              "       [0.49557522, 0.50294985, 0.60619469, 0.53982301, 0.57817109],\n",
              "       [0.50294985, 0.60619469, 0.53982301, 0.57817109, 0.77581121],\n",
              "       [0.60619469, 0.53982301, 0.57817109, 0.77581121, 0.64749263],\n",
              "       [0.53982301, 0.57817109, 0.77581121, 0.64749263, 0.83628319],\n",
              "       [0.57817109, 0.77581121, 0.64749263, 0.83628319, 0.88053097],\n",
              "       [0.77581121, 0.64749263, 0.83628319, 0.88053097, 0.65486726],\n",
              "       [0.64749263, 0.83628319, 0.88053097, 0.65486726, 0.87168142],\n",
              "       [0.83628319, 0.88053097, 0.65486726, 0.87168142, 0.5840708 ],\n",
              "       [0.88053097, 0.65486726, 0.87168142, 0.5840708 , 0.31563422],\n",
              "       [0.65486726, 0.87168142, 0.5840708 , 0.31563422, 0.28908555],\n",
              "       [0.87168142, 0.5840708 , 0.31563422, 0.28908555, 0.45870206],\n",
              "       [0.5840708 , 0.31563422, 0.28908555, 0.45870206, 0.37168142],\n",
              "       [0.31563422, 0.28908555, 0.45870206, 0.37168142, 0.19174041],\n",
              "       [0.28908555, 0.45870206, 0.37168142, 0.19174041, 0.25663717],\n",
              "       [0.45870206, 0.37168142, 0.19174041, 0.25663717, 0.5339233 ],\n",
              "       [0.37168142, 0.19174041, 0.25663717, 0.5339233 , 0.32448378],\n",
              "       [0.19174041, 0.25663717, 0.5339233 , 0.32448378, 0.38643068],\n",
              "       [0.25663717, 0.5339233 , 0.32448378, 0.38643068, 0.2920354 ],\n",
              "       [0.5339233 , 0.32448378, 0.38643068, 0.2920354 , 0.42182891],\n",
              "       [0.32448378, 0.38643068, 0.2920354 , 0.42182891, 0.30088496],\n",
              "       [0.38643068, 0.2920354 , 0.42182891, 0.30088496, 0.26696165],\n",
              "       [0.2920354 , 0.42182891, 0.30088496, 0.26696165, 0.49115044],\n",
              "       [0.42182891, 0.30088496, 0.26696165, 0.49115044, 0.51179941],\n",
              "       [0.30088496, 0.26696165, 0.49115044, 0.51179941, 0.4719764 ],\n",
              "       [0.26696165, 0.49115044, 0.51179941, 0.4719764 , 0.4380531 ]])"
            ]
          },
          "metadata": {
            "tags": []
          },
          "execution_count": 86
        }
      ]
    },
    {
      "cell_type": "code",
      "metadata": {
        "colab": {
          "base_uri": "https://localhost:8080/"
        },
        "id": "I3zN7AIgV0ZL",
        "outputId": "b1e93b38-a55a-458d-a310-5fc4e6e5ae4c"
      },
      "source": [
        "y_train"
      ],
      "execution_count": 87,
      "outputs": [
        {
          "output_type": "execute_result",
          "data": {
            "text/plain": [
              "array([0.46902655, 0.68731563, 0.2979351 , 0.35693215, 0.52507375,\n",
              "       0.51474926, 0.82153392, 0.70648968, 0.52654867, 0.78318584,\n",
              "       0.57817109, 0.27433628, 0.27286136, 0.07964602, 0.11356932,\n",
              "       0.06784661, 0.09292035, 0.35103245, 0.33775811, 0.        ,\n",
              "       0.09439528, 0.24483776, 0.02507375, 0.02507375, 0.03097345,\n",
              "       0.15339233, 0.15486726, 0.12979351, 0.34660767, 0.48672566,\n",
              "       0.42477876, 0.47787611, 0.18289086, 0.3539823 , 0.72713864,\n",
              "       0.34365782, 0.53539823, 0.58554572, 0.66666667, 0.82153392,\n",
              "       0.46312684, 0.6120944 , 0.68584071, 0.43215339, 0.64749263,\n",
              "       0.59882006, 1.        , 0.37020649, 0.53097345, 0.44247788,\n",
              "       0.39970501, 0.4159292 , 0.37020649, 0.47640118, 0.5899705 ,\n",
              "       0.56342183, 0.49557522, 0.50294985, 0.60619469, 0.53982301,\n",
              "       0.57817109, 0.77581121, 0.64749263, 0.83628319, 0.88053097,\n",
              "       0.65486726, 0.87168142, 0.5840708 , 0.31563422, 0.28908555,\n",
              "       0.45870206, 0.37168142, 0.19174041, 0.25663717, 0.5339233 ,\n",
              "       0.32448378, 0.38643068, 0.2920354 , 0.42182891, 0.30088496,\n",
              "       0.26696165, 0.49115044, 0.51179941, 0.4719764 , 0.4380531 ,\n",
              "       0.55752212])"
            ]
          },
          "metadata": {
            "tags": []
          },
          "execution_count": 87
        }
      ]
    },
    {
      "cell_type": "markdown",
      "metadata": {
        "id": "XloJAVBwV_I5"
      },
      "source": [
        "**Configure LSTM model**"
      ]
    },
    {
      "cell_type": "code",
      "metadata": {
        "colab": {
          "base_uri": "https://localhost:8080/"
        },
        "id": "MOHB5oy-V98E",
        "outputId": "6bdf6d92-7a3b-4046-f7db-b9c301b26b54"
      },
      "source": [
        "# reshape input to be [samples, time steps, features]\r\n",
        "X_train = np.reshape(X_train, (X_train.shape[0], 1, X_train.shape[1]))\r\n",
        "X_val = np.reshape(X_val, (X_val.shape[0], 1, X_val.shape[1]))\r\n",
        "\r\n",
        "X_train"
      ],
      "execution_count": 88,
      "outputs": [
        {
          "output_type": "execute_result",
          "data": {
            "text/plain": [
              "array([[[0.1179941 , 0.21091445, 0.37905605, 0.49705015, 0.2979351 ]],\n",
              "\n",
              "       [[0.21091445, 0.37905605, 0.49705015, 0.2979351 , 0.46902655]],\n",
              "\n",
              "       [[0.37905605, 0.49705015, 0.2979351 , 0.46902655, 0.68731563]],\n",
              "\n",
              "       [[0.49705015, 0.2979351 , 0.46902655, 0.68731563, 0.2979351 ]],\n",
              "\n",
              "       [[0.2979351 , 0.46902655, 0.68731563, 0.2979351 , 0.35693215]],\n",
              "\n",
              "       [[0.46902655, 0.68731563, 0.2979351 , 0.35693215, 0.52507375]],\n",
              "\n",
              "       [[0.68731563, 0.2979351 , 0.35693215, 0.52507375, 0.51474926]],\n",
              "\n",
              "       [[0.2979351 , 0.35693215, 0.52507375, 0.51474926, 0.82153392]],\n",
              "\n",
              "       [[0.35693215, 0.52507375, 0.51474926, 0.82153392, 0.70648968]],\n",
              "\n",
              "       [[0.52507375, 0.51474926, 0.82153392, 0.70648968, 0.52654867]],\n",
              "\n",
              "       [[0.51474926, 0.82153392, 0.70648968, 0.52654867, 0.78318584]],\n",
              "\n",
              "       [[0.82153392, 0.70648968, 0.52654867, 0.78318584, 0.57817109]],\n",
              "\n",
              "       [[0.70648968, 0.52654867, 0.78318584, 0.57817109, 0.27433628]],\n",
              "\n",
              "       [[0.52654867, 0.78318584, 0.57817109, 0.27433628, 0.27286136]],\n",
              "\n",
              "       [[0.78318584, 0.57817109, 0.27433628, 0.27286136, 0.07964602]],\n",
              "\n",
              "       [[0.57817109, 0.27433628, 0.27286136, 0.07964602, 0.11356932]],\n",
              "\n",
              "       [[0.27433628, 0.27286136, 0.07964602, 0.11356932, 0.06784661]],\n",
              "\n",
              "       [[0.27286136, 0.07964602, 0.11356932, 0.06784661, 0.09292035]],\n",
              "\n",
              "       [[0.07964602, 0.11356932, 0.06784661, 0.09292035, 0.35103245]],\n",
              "\n",
              "       [[0.11356932, 0.06784661, 0.09292035, 0.35103245, 0.33775811]],\n",
              "\n",
              "       [[0.06784661, 0.09292035, 0.35103245, 0.33775811, 0.        ]],\n",
              "\n",
              "       [[0.09292035, 0.35103245, 0.33775811, 0.        , 0.09439528]],\n",
              "\n",
              "       [[0.35103245, 0.33775811, 0.        , 0.09439528, 0.24483776]],\n",
              "\n",
              "       [[0.33775811, 0.        , 0.09439528, 0.24483776, 0.02507375]],\n",
              "\n",
              "       [[0.        , 0.09439528, 0.24483776, 0.02507375, 0.02507375]],\n",
              "\n",
              "       [[0.09439528, 0.24483776, 0.02507375, 0.02507375, 0.03097345]],\n",
              "\n",
              "       [[0.24483776, 0.02507375, 0.02507375, 0.03097345, 0.15339233]],\n",
              "\n",
              "       [[0.02507375, 0.02507375, 0.03097345, 0.15339233, 0.15486726]],\n",
              "\n",
              "       [[0.02507375, 0.03097345, 0.15339233, 0.15486726, 0.12979351]],\n",
              "\n",
              "       [[0.03097345, 0.15339233, 0.15486726, 0.12979351, 0.34660767]],\n",
              "\n",
              "       [[0.15339233, 0.15486726, 0.12979351, 0.34660767, 0.48672566]],\n",
              "\n",
              "       [[0.15486726, 0.12979351, 0.34660767, 0.48672566, 0.42477876]],\n",
              "\n",
              "       [[0.12979351, 0.34660767, 0.48672566, 0.42477876, 0.47787611]],\n",
              "\n",
              "       [[0.34660767, 0.48672566, 0.42477876, 0.47787611, 0.18289086]],\n",
              "\n",
              "       [[0.48672566, 0.42477876, 0.47787611, 0.18289086, 0.3539823 ]],\n",
              "\n",
              "       [[0.42477876, 0.47787611, 0.18289086, 0.3539823 , 0.72713864]],\n",
              "\n",
              "       [[0.47787611, 0.18289086, 0.3539823 , 0.72713864, 0.34365782]],\n",
              "\n",
              "       [[0.18289086, 0.3539823 , 0.72713864, 0.34365782, 0.53539823]],\n",
              "\n",
              "       [[0.3539823 , 0.72713864, 0.34365782, 0.53539823, 0.58554572]],\n",
              "\n",
              "       [[0.72713864, 0.34365782, 0.53539823, 0.58554572, 0.66666667]],\n",
              "\n",
              "       [[0.34365782, 0.53539823, 0.58554572, 0.66666667, 0.82153392]],\n",
              "\n",
              "       [[0.53539823, 0.58554572, 0.66666667, 0.82153392, 0.46312684]],\n",
              "\n",
              "       [[0.58554572, 0.66666667, 0.82153392, 0.46312684, 0.6120944 ]],\n",
              "\n",
              "       [[0.66666667, 0.82153392, 0.46312684, 0.6120944 , 0.68584071]],\n",
              "\n",
              "       [[0.82153392, 0.46312684, 0.6120944 , 0.68584071, 0.43215339]],\n",
              "\n",
              "       [[0.46312684, 0.6120944 , 0.68584071, 0.43215339, 0.64749263]],\n",
              "\n",
              "       [[0.6120944 , 0.68584071, 0.43215339, 0.64749263, 0.59882006]],\n",
              "\n",
              "       [[0.68584071, 0.43215339, 0.64749263, 0.59882006, 1.        ]],\n",
              "\n",
              "       [[0.43215339, 0.64749263, 0.59882006, 1.        , 0.37020649]],\n",
              "\n",
              "       [[0.64749263, 0.59882006, 1.        , 0.37020649, 0.53097345]],\n",
              "\n",
              "       [[0.59882006, 1.        , 0.37020649, 0.53097345, 0.44247788]],\n",
              "\n",
              "       [[1.        , 0.37020649, 0.53097345, 0.44247788, 0.39970501]],\n",
              "\n",
              "       [[0.37020649, 0.53097345, 0.44247788, 0.39970501, 0.4159292 ]],\n",
              "\n",
              "       [[0.53097345, 0.44247788, 0.39970501, 0.4159292 , 0.37020649]],\n",
              "\n",
              "       [[0.44247788, 0.39970501, 0.4159292 , 0.37020649, 0.47640118]],\n",
              "\n",
              "       [[0.39970501, 0.4159292 , 0.37020649, 0.47640118, 0.5899705 ]],\n",
              "\n",
              "       [[0.4159292 , 0.37020649, 0.47640118, 0.5899705 , 0.56342183]],\n",
              "\n",
              "       [[0.37020649, 0.47640118, 0.5899705 , 0.56342183, 0.49557522]],\n",
              "\n",
              "       [[0.47640118, 0.5899705 , 0.56342183, 0.49557522, 0.50294985]],\n",
              "\n",
              "       [[0.5899705 , 0.56342183, 0.49557522, 0.50294985, 0.60619469]],\n",
              "\n",
              "       [[0.56342183, 0.49557522, 0.50294985, 0.60619469, 0.53982301]],\n",
              "\n",
              "       [[0.49557522, 0.50294985, 0.60619469, 0.53982301, 0.57817109]],\n",
              "\n",
              "       [[0.50294985, 0.60619469, 0.53982301, 0.57817109, 0.77581121]],\n",
              "\n",
              "       [[0.60619469, 0.53982301, 0.57817109, 0.77581121, 0.64749263]],\n",
              "\n",
              "       [[0.53982301, 0.57817109, 0.77581121, 0.64749263, 0.83628319]],\n",
              "\n",
              "       [[0.57817109, 0.77581121, 0.64749263, 0.83628319, 0.88053097]],\n",
              "\n",
              "       [[0.77581121, 0.64749263, 0.83628319, 0.88053097, 0.65486726]],\n",
              "\n",
              "       [[0.64749263, 0.83628319, 0.88053097, 0.65486726, 0.87168142]],\n",
              "\n",
              "       [[0.83628319, 0.88053097, 0.65486726, 0.87168142, 0.5840708 ]],\n",
              "\n",
              "       [[0.88053097, 0.65486726, 0.87168142, 0.5840708 , 0.31563422]],\n",
              "\n",
              "       [[0.65486726, 0.87168142, 0.5840708 , 0.31563422, 0.28908555]],\n",
              "\n",
              "       [[0.87168142, 0.5840708 , 0.31563422, 0.28908555, 0.45870206]],\n",
              "\n",
              "       [[0.5840708 , 0.31563422, 0.28908555, 0.45870206, 0.37168142]],\n",
              "\n",
              "       [[0.31563422, 0.28908555, 0.45870206, 0.37168142, 0.19174041]],\n",
              "\n",
              "       [[0.28908555, 0.45870206, 0.37168142, 0.19174041, 0.25663717]],\n",
              "\n",
              "       [[0.45870206, 0.37168142, 0.19174041, 0.25663717, 0.5339233 ]],\n",
              "\n",
              "       [[0.37168142, 0.19174041, 0.25663717, 0.5339233 , 0.32448378]],\n",
              "\n",
              "       [[0.19174041, 0.25663717, 0.5339233 , 0.32448378, 0.38643068]],\n",
              "\n",
              "       [[0.25663717, 0.5339233 , 0.32448378, 0.38643068, 0.2920354 ]],\n",
              "\n",
              "       [[0.5339233 , 0.32448378, 0.38643068, 0.2920354 , 0.42182891]],\n",
              "\n",
              "       [[0.32448378, 0.38643068, 0.2920354 , 0.42182891, 0.30088496]],\n",
              "\n",
              "       [[0.38643068, 0.2920354 , 0.42182891, 0.30088496, 0.26696165]],\n",
              "\n",
              "       [[0.2920354 , 0.42182891, 0.30088496, 0.26696165, 0.49115044]],\n",
              "\n",
              "       [[0.42182891, 0.30088496, 0.26696165, 0.49115044, 0.51179941]],\n",
              "\n",
              "       [[0.30088496, 0.26696165, 0.49115044, 0.51179941, 0.4719764 ]],\n",
              "\n",
              "       [[0.26696165, 0.49115044, 0.51179941, 0.4719764 , 0.4380531 ]]])"
            ]
          },
          "metadata": {
            "tags": []
          },
          "execution_count": 88
        }
      ]
    },
    {
      "cell_type": "code",
      "metadata": {
        "colab": {
          "base_uri": "https://localhost:8080/"
        },
        "id": "tpL4OtvAWLGy",
        "outputId": "db7a44b3-7c2c-4a59-df4c-69a51153c135"
      },
      "source": [
        "X_val"
      ],
      "execution_count": 89,
      "outputs": [
        {
          "output_type": "execute_result",
          "data": {
            "text/plain": [
              "array([[[0.19767442, 0.60465116, 0.76937984, 0.56589147, 0.8624031 ]],\n",
              "\n",
              "       [[0.60465116, 0.76937984, 0.56589147, 0.8624031 , 0.91085271]],\n",
              "\n",
              "       [[0.76937984, 0.56589147, 0.8624031 , 0.91085271, 0.50775194]],\n",
              "\n",
              "       [[0.56589147, 0.8624031 , 0.91085271, 0.50775194, 1.        ]],\n",
              "\n",
              "       [[0.8624031 , 0.91085271, 0.50775194, 1.        , 0.59689922]],\n",
              "\n",
              "       [[0.91085271, 0.50775194, 1.        , 0.59689922, 0.84496124]],\n",
              "\n",
              "       [[0.50775194, 1.        , 0.59689922, 0.84496124, 0.66666667]],\n",
              "\n",
              "       [[1.        , 0.59689922, 0.84496124, 0.66666667, 0.63953488]],\n",
              "\n",
              "       [[0.59689922, 0.84496124, 0.66666667, 0.63953488, 0.53488372]],\n",
              "\n",
              "       [[0.84496124, 0.66666667, 0.63953488, 0.53488372, 0.62596899]],\n",
              "\n",
              "       [[0.66666667, 0.63953488, 0.53488372, 0.62596899, 0.3875969 ]],\n",
              "\n",
              "       [[0.63953488, 0.53488372, 0.62596899, 0.3875969 , 0.50581395]],\n",
              "\n",
              "       [[0.53488372, 0.62596899, 0.3875969 , 0.50581395, 0.27713178]],\n",
              "\n",
              "       [[0.62596899, 0.3875969 , 0.50581395, 0.27713178, 0.54069767]],\n",
              "\n",
              "       [[0.3875969 , 0.50581395, 0.27713178, 0.54069767, 0.38178295]],\n",
              "\n",
              "       [[0.50581395, 0.27713178, 0.54069767, 0.38178295, 0.34883721]],\n",
              "\n",
              "       [[0.27713178, 0.54069767, 0.38178295, 0.34883721, 0.56976744]]])"
            ]
          },
          "metadata": {
            "tags": []
          },
          "execution_count": 89
        }
      ]
    },
    {
      "cell_type": "code",
      "metadata": {
        "id": "ER0wLN_nWmK1"
      },
      "source": [
        "import tensorflow as tf\r\n",
        "from tensorflow import keras\r\n",
        "from tensorflow.keras.models import Sequential\r\n",
        "from tensorflow.keras.layers import Activation, Dense, LSTM\r\n",
        "from tensorflow.keras.optimizers import Adam\r\n",
        "from tensorflow.keras.metrics import categorical_crossentropy, mean_squared_error"
      ],
      "execution_count": 90,
      "outputs": []
    },
    {
      "cell_type": "code",
      "metadata": {
        "id": "uvhIR9gdW1Fn"
      },
      "source": [
        "# Generate LSTM network\r\n",
        "model= Sequential([\r\n",
        "    LSTM(4, input_shape=(1, lookback)),\r\n",
        "    Dense(1),\r\n",
        "])"
      ],
      "execution_count": 91,
      "outputs": []
    },
    {
      "cell_type": "code",
      "metadata": {
        "colab": {
          "base_uri": "https://localhost:8080/"
        },
        "id": "TZAzCZ_lXNZi",
        "outputId": "33adbed2-36f9-4058-fdd3-bbd952f0cb1d"
      },
      "source": [
        "model.summary()"
      ],
      "execution_count": 92,
      "outputs": [
        {
          "output_type": "stream",
          "text": [
            "Model: \"sequential_1\"\n",
            "_________________________________________________________________\n",
            "Layer (type)                 Output Shape              Param #   \n",
            "=================================================================\n",
            "lstm_1 (LSTM)                (None, 4)                 160       \n",
            "_________________________________________________________________\n",
            "dense_1 (Dense)              (None, 1)                 5         \n",
            "=================================================================\n",
            "Total params: 165\n",
            "Trainable params: 165\n",
            "Non-trainable params: 0\n",
            "_________________________________________________________________\n"
          ],
          "name": "stdout"
        }
      ]
    },
    {
      "cell_type": "code",
      "metadata": {
        "id": "oDVAoKevWWQz"
      },
      "source": [
        "model.compile(optimizer='adam', loss='mean_squared_error')"
      ],
      "execution_count": 93,
      "outputs": []
    },
    {
      "cell_type": "code",
      "metadata": {
        "colab": {
          "base_uri": "https://localhost:8080/"
        },
        "id": "BvIFe-MfXhi6",
        "outputId": "f88aacfb-febc-43ac-f84f-d017832478fd"
      },
      "source": [
        "history=model.fit(X_train, y_train, validation_split=0.2, epochs=20, batch_size=1, verbose=2)"
      ],
      "execution_count": 94,
      "outputs": [
        {
          "output_type": "stream",
          "text": [
            "Epoch 1/20\n",
            "68/68 - 1s - loss: 0.3303 - val_loss: 0.1399\n",
            "Epoch 2/20\n",
            "68/68 - 0s - loss: 0.2103 - val_loss: 0.0696\n",
            "Epoch 3/20\n",
            "68/68 - 0s - loss: 0.1246 - val_loss: 0.0239\n",
            "Epoch 4/20\n",
            "68/68 - 0s - loss: 0.0688 - val_loss: 0.0125\n",
            "Epoch 5/20\n",
            "68/68 - 0s - loss: 0.0466 - val_loss: 0.0160\n",
            "Epoch 6/20\n",
            "68/68 - 0s - loss: 0.0412 - val_loss: 0.0210\n",
            "Epoch 7/20\n",
            "68/68 - 0s - loss: 0.0404 - val_loss: 0.0231\n",
            "Epoch 8/20\n",
            "68/68 - 0s - loss: 0.0397 - val_loss: 0.0210\n",
            "Epoch 9/20\n",
            "68/68 - 0s - loss: 0.0392 - val_loss: 0.0211\n",
            "Epoch 10/20\n",
            "68/68 - 0s - loss: 0.0386 - val_loss: 0.0224\n",
            "Epoch 11/20\n",
            "68/68 - 0s - loss: 0.0377 - val_loss: 0.0216\n",
            "Epoch 12/20\n",
            "68/68 - 0s - loss: 0.0373 - val_loss: 0.0222\n",
            "Epoch 13/20\n",
            "68/68 - 0s - loss: 0.0370 - val_loss: 0.0233\n",
            "Epoch 14/20\n",
            "68/68 - 0s - loss: 0.0372 - val_loss: 0.0235\n",
            "Epoch 15/20\n",
            "68/68 - 0s - loss: 0.0361 - val_loss: 0.0231\n",
            "Epoch 16/20\n",
            "68/68 - 0s - loss: 0.0355 - val_loss: 0.0216\n",
            "Epoch 17/20\n",
            "68/68 - 0s - loss: 0.0355 - val_loss: 0.0219\n",
            "Epoch 18/20\n",
            "68/68 - 0s - loss: 0.0348 - val_loss: 0.0223\n",
            "Epoch 19/20\n",
            "68/68 - 0s - loss: 0.0346 - val_loss: 0.0236\n",
            "Epoch 20/20\n",
            "68/68 - 0s - loss: 0.0344 - val_loss: 0.0214\n"
          ],
          "name": "stdout"
        }
      ]
    },
    {
      "cell_type": "markdown",
      "metadata": {
        "id": "DIbm2ws5X2AP"
      },
      "source": [
        "Loss History Graph"
      ]
    },
    {
      "cell_type": "code",
      "metadata": {
        "colab": {
          "base_uri": "https://localhost:8080/",
          "height": 513
        },
        "id": "f5ZppMm-X3kT",
        "outputId": "c41e2264-43fe-4e1e-fb56-411634dba783"
      },
      "source": [
        "def plot_loss(loss, val_loss):\r\n",
        "  plt.figure(figsize=(12,8))\r\n",
        "  plt.plot(loss)\r\n",
        "  plt.plot(val_loss)\r\n",
        "  plt.title('Model loss')\r\n",
        "  plt.ylabel('Loss')\r\n",
        "  plt.xlabel('Epoch')\r\n",
        "  plt.legend(['Train', 'Test'], loc='upper right')\r\n",
        "  plt.show()\r\n",
        "\r\n",
        "\r\n",
        "# Plot train vs test loss during training\r\n",
        "plot_loss(history.history['loss'], history.history['val_loss'])"
      ],
      "execution_count": 95,
      "outputs": [
        {
          "output_type": "display_data",
          "data": {
            "image/png": "[encoded data removed]",
            "text/plain": [
              "<Figure size 864x576 with 1 Axes>"
            ]
          },
          "metadata": {
            "tags": [],
            "needs_background": "light"
          }
        }
      ]
    },
    {
      "cell_type": "code",
      "metadata": {
        "id": "UUeGmfNGYNer"
      },
      "source": [
        "# Generate predictions\r\n",
        "trainpred = model.predict(X_train)\r\n",
        "valpred = model.predict(X_val)"
      ],
      "execution_count": 96,
      "outputs": []
    },
    {
      "cell_type": "code",
      "metadata": {
        "colab": {
          "base_uri": "https://localhost:8080/"
        },
        "id": "qgQDZ95bYRPt",
        "outputId": "0fdbd510-61dc-46f8-f343-e39d94d5ac82"
      },
      "source": [
        "trainpred"
      ],
      "execution_count": 97,
      "outputs": [
        {
          "output_type": "execute_result",
          "data": {
            "text/plain": [
              "array([[0.34049192],\n",
              "       [0.4444182 ],\n",
              "       [0.5204859 ],\n",
              "       [0.40915358],\n",
              "       [0.46104455],\n",
              "       [0.5222825 ],\n",
              "       [0.47998342],\n",
              "       [0.5395541 ],\n",
              "       [0.555447  ],\n",
              "       [0.5483272 ],\n",
              "       [0.6382109 ],\n",
              "       [0.60054696],\n",
              "       [0.50101906],\n",
              "       [0.51226497],\n",
              "       [0.42720288],\n",
              "       [0.35206902],\n",
              "       [0.28977242],\n",
              "       [0.25785667],\n",
              "       [0.30377096],\n",
              "       [0.29450694],\n",
              "       [0.22689593],\n",
              "       [0.31680736],\n",
              "       [0.3481698 ],\n",
              "       [0.2234292 ],\n",
              "       [0.22778037],\n",
              "       [0.25326937],\n",
              "       [0.25167194],\n",
              "       [0.22743386],\n",
              "       [0.23185739],\n",
              "       [0.3133862 ],\n",
              "       [0.3609115 ],\n",
              "       [0.3586809 ],\n",
              "       [0.4309176 ],\n",
              "       [0.40092182],\n",
              "       [0.45221034],\n",
              "       [0.51525575],\n",
              "       [0.38295954],\n",
              "       [0.47384107],\n",
              "       [0.54037243],\n",
              "       [0.54624784],\n",
              "       [0.584244  ],\n",
              "       [0.53603077],\n",
              "       [0.5965158 ],\n",
              "       [0.61582553],\n",
              "       [0.5275395 ],\n",
              "       [0.57266134],\n",
              "       [0.572165  ],\n",
              "       [0.6374529 ],\n",
              "       [0.50770956],\n",
              "       [0.5857108 ],\n",
              "       [0.57564664],\n",
              "       [0.51076305],\n",
              "       [0.47453675],\n",
              "       [0.45918396],\n",
              "       [0.46877342],\n",
              "       [0.49240386],\n",
              "       [0.48972246],\n",
              "       [0.4983633 ],\n",
              "       [0.52921176],\n",
              "       [0.55329394],\n",
              "       [0.5260005 ],\n",
              "       [0.53739953],\n",
              "       [0.5940973 ],\n",
              "       [0.57266486],\n",
              "       [0.62621033],\n",
              "       [0.6625709 ],\n",
              "       [0.6279184 ],\n",
              "       [0.68367666],\n",
              "       [0.6409173 ],\n",
              "       [0.5593449 ],\n",
              "       [0.543287  ],\n",
              "       [0.52884567],\n",
              "       [0.42915055],\n",
              "       [0.36016095],\n",
              "       [0.40384415],\n",
              "       [0.45536372],\n",
              "       [0.3615107 ],\n",
              "       [0.39881688],\n",
              "       [0.4208597 ],\n",
              "       [0.44645092],\n",
              "       [0.39713863],\n",
              "       [0.3867561 ],\n",
              "       [0.44801405],\n",
              "       [0.44304234],\n",
              "       [0.43222663],\n",
              "       [0.46816543]], dtype=float32)"
            ]
          },
          "metadata": {
            "tags": []
          },
          "execution_count": 97
        }
      ]
    },
    {
      "cell_type": "code",
      "metadata": {
        "colab": {
          "base_uri": "https://localhost:8080/"
        },
        "id": "wVGsc4U5YfZy",
        "outputId": "a6c1b88d-e868-404f-ddc5-7ac0e11438a6"
      },
      "source": [
        "valpred"
      ],
      "execution_count": 98,
      "outputs": [
        {
          "output_type": "execute_result",
          "data": {
            "text/plain": [
              "array([[0.6019783 ],\n",
              "       [0.6643417 ],\n",
              "       [0.5795676 ],\n",
              "       [0.6971958 ],\n",
              "       [0.6427329 ],\n",
              "       [0.6614267 ],\n",
              "       [0.64223295],\n",
              "       [0.6316823 ],\n",
              "       [0.6007161 ],\n",
              "       [0.6088482 ],\n",
              "       [0.5287053 ],\n",
              "       [0.53938377],\n",
              "       [0.4717536 ],\n",
              "       [0.5071765 ],\n",
              "       [0.44939142],\n",
              "       [0.42872325],\n",
              "       [0.49600083]], dtype=float32)"
            ]
          },
          "metadata": {
            "tags": []
          },
          "execution_count": 98
        }
      ]
    },
    {
      "cell_type": "code",
      "metadata": {
        "id": "PhDOMx9JYnKS"
      },
      "source": [
        "# Convert predictions back to normal values\r\n",
        "trainpred = scaler.inverse_transform(trainpred)\r\n",
        "y_train = scaler.inverse_transform([y_train])\r\n",
        "valpred = scaler.inverse_transform(valpred)\r\n",
        "y_val = scaler.inverse_transform([y_val])\r\n",
        "predictions = valpred"
      ],
      "execution_count": 99,
      "outputs": []
    },
    {
      "cell_type": "code",
      "metadata": {
        "colab": {
          "base_uri": "https://localhost:8080/"
        },
        "id": "TGMdU6itlMvh",
        "outputId": "9cec66d2-bb7c-4653-8424-466123f1556f"
      },
      "source": [
        "type(predictions)"
      ],
      "execution_count": 100,
      "outputs": [
        {
          "output_type": "execute_result",
          "data": {
            "text/plain": [
              "numpy.ndarray"
            ]
          },
          "metadata": {
            "tags": []
          },
          "execution_count": 100
        }
      ]
    },
    {
      "cell_type": "code",
      "metadata": {
        "colab": {
          "base_uri": "https://localhost:8080/"
        },
        "id": "yxH6DntZYxwV",
        "outputId": "a66ee4fb-8b1e-4082-af20-848708a09a28"
      },
      "source": [
        "X_train.shape, X_val.shape, y_train.shape, y_val.shape"
      ],
      "execution_count": 101,
      "outputs": [
        {
          "output_type": "execute_result",
          "data": {
            "text/plain": [
              "((86, 1, 5), (17, 1, 5), (1, 86), (1, 17))"
            ]
          },
          "metadata": {
            "tags": []
          },
          "execution_count": 101
        }
      ]
    },
    {
      "cell_type": "code",
      "metadata": {
        "colab": {
          "base_uri": "https://localhost:8080/"
        },
        "id": "FQBYfzSnY9-M",
        "outputId": "85cda2c6-89a7-41c1-d76a-46c0fb585178"
      },
      "source": [
        "np.mean(y_val)"
      ],
      "execution_count": 102,
      "outputs": [
        {
          "output_type": "execute_result",
          "data": {
            "text/plain": [
              "519.2352941176471"
            ]
          },
          "metadata": {
            "tags": []
          },
          "execution_count": 102
        }
      ]
    },
    {
      "cell_type": "code",
      "metadata": {
        "colab": {
          "base_uri": "https://localhost:8080/"
        },
        "id": "xuaXQiWRZSJJ",
        "outputId": "f89e8055-4e4f-4ca6-d98d-31cc5d8e1679"
      },
      "source": [
        "X_train[:10]"
      ],
      "execution_count": 103,
      "outputs": [
        {
          "output_type": "execute_result",
          "data": {
            "text/plain": [
              "array([[[0.1179941 , 0.21091445, 0.37905605, 0.49705015, 0.2979351 ]],\n",
              "\n",
              "       [[0.21091445, 0.37905605, 0.49705015, 0.2979351 , 0.46902655]],\n",
              "\n",
              "       [[0.37905605, 0.49705015, 0.2979351 , 0.46902655, 0.68731563]],\n",
              "\n",
              "       [[0.49705015, 0.2979351 , 0.46902655, 0.68731563, 0.2979351 ]],\n",
              "\n",
              "       [[0.2979351 , 0.46902655, 0.68731563, 0.2979351 , 0.35693215]],\n",
              "\n",
              "       [[0.46902655, 0.68731563, 0.2979351 , 0.35693215, 0.52507375]],\n",
              "\n",
              "       [[0.68731563, 0.2979351 , 0.35693215, 0.52507375, 0.51474926]],\n",
              "\n",
              "       [[0.2979351 , 0.35693215, 0.52507375, 0.51474926, 0.82153392]],\n",
              "\n",
              "       [[0.35693215, 0.52507375, 0.51474926, 0.82153392, 0.70648968]],\n",
              "\n",
              "       [[0.52507375, 0.51474926, 0.82153392, 0.70648968, 0.52654867]]])"
            ]
          },
          "metadata": {
            "tags": []
          },
          "execution_count": 103
        }
      ]
    },
    {
      "cell_type": "code",
      "metadata": {
        "colab": {
          "base_uri": "https://localhost:8080/"
        },
        "id": "JkVm5EgkZZXl",
        "outputId": "212cd566-160e-4737-e00e-73dd3b59c576"
      },
      "source": [
        "X_val[:10]"
      ],
      "execution_count": 104,
      "outputs": [
        {
          "output_type": "execute_result",
          "data": {
            "text/plain": [
              "array([[[0.19767442, 0.60465116, 0.76937984, 0.56589147, 0.8624031 ]],\n",
              "\n",
              "       [[0.60465116, 0.76937984, 0.56589147, 0.8624031 , 0.91085271]],\n",
              "\n",
              "       [[0.76937984, 0.56589147, 0.8624031 , 0.91085271, 0.50775194]],\n",
              "\n",
              "       [[0.56589147, 0.8624031 , 0.91085271, 0.50775194, 1.        ]],\n",
              "\n",
              "       [[0.8624031 , 0.91085271, 0.50775194, 1.        , 0.59689922]],\n",
              "\n",
              "       [[0.91085271, 0.50775194, 1.        , 0.59689922, 0.84496124]],\n",
              "\n",
              "       [[0.50775194, 1.        , 0.59689922, 0.84496124, 0.66666667]],\n",
              "\n",
              "       [[1.        , 0.59689922, 0.84496124, 0.66666667, 0.63953488]],\n",
              "\n",
              "       [[0.59689922, 0.84496124, 0.66666667, 0.63953488, 0.53488372]],\n",
              "\n",
              "       [[0.84496124, 0.66666667, 0.63953488, 0.53488372, 0.62596899]]])"
            ]
          },
          "metadata": {
            "tags": []
          },
          "execution_count": 104
        }
      ]
    },
    {
      "cell_type": "code",
      "metadata": {
        "colab": {
          "base_uri": "https://localhost:8080/"
        },
        "id": "IeKE8G-aZiMv",
        "outputId": "824b754f-3fbd-4807-e3a7-ba7604e77fcb"
      },
      "source": [
        "import math\r\n",
        "from math import sqrt\r\n",
        "\r\n",
        "# calculate RMSE\r\n",
        "trainScore = math.sqrt(mean_squared_error(y_train[0], trainpred[:,0]))\r\n",
        "print('Train Score: %.2f RMSE' % (trainScore))\r\n",
        "valScore = math.sqrt(mean_squared_error(y_val[0], valpred[:,0]))\r\n",
        "print('Validation Score: %.2f RMSE' % (valScore))"
      ],
      "execution_count": 105,
      "outputs": [
        {
          "output_type": "stream",
          "text": [
            "Train Score: 90.91 RMSE\n",
            "Validation Score: 97.02 RMSE\n"
          ],
          "name": "stdout"
        }
      ]
    },
    {
      "cell_type": "code",
      "metadata": {
        "id": "IhVCVpoLaNDW"
      },
      "source": [
        "# Train predictions\r\n",
        "trainpredPlot = np.empty_like(df)\r\n",
        "trainpredPlot[:, :] = np.nan\r\n",
        "trainpredPlot[lookback:len(trainpred)+lookback, :] = trainpred"
      ],
      "execution_count": 106,
      "outputs": []
    },
    {
      "cell_type": "code",
      "metadata": {
        "id": "qFXRwtvDaQtG"
      },
      "source": [
        "# Validation predictions\r\n",
        "valpredPlot = np.empty_like(df)\r\n",
        "valpredPlot[:, :] = np.nan\r\n",
        "valpredPlot[len(trainpred)+(lookback*2)+1:len(df)-1, :] = valpred"
      ],
      "execution_count": 107,
      "outputs": []
    },
    {
      "cell_type": "code",
      "metadata": {
        "colab": {
          "base_uri": "https://localhost:8080/",
          "height": 295
        },
        "id": "ulV1aOg2aUCa",
        "outputId": "1cca3de8-0b70-4b89-958d-ec618200a607"
      },
      "source": [
        "# Plot all predictions\r\n",
        "inversetransform, =plt.plot(scaler.inverse_transform(df))\r\n",
        "trainpred, =plt.plot(scaler.inverse_transform(trainpredPlot))\r\n",
        "valpred, =plt.plot(scaler.inverse_transform(valpredPlot))\r\n",
        "plt.xlabel('Number of weeks')\r\n",
        "plt.ylabel('Cancellations')\r\n",
        "plt.title(\"Predicted vs. Actual Cancellations Per Week\")\r\n",
        "plt.show()"
      ],
      "execution_count": 108,
      "outputs": [
        {
          "output_type": "display_data",
          "data": {
            "image/png": "[encoded data removed]",
            "text/plain": [
              "<Figure size 432x288 with 1 Axes>"
            ]
          },
          "metadata": {
            "tags": [],
            "needs_background": "light"
          }
        }
      ]
    },
    {
      "cell_type": "code",
      "metadata": {
        "colab": {
          "base_uri": "https://localhost:8080/"
        },
        "id": "fhwvxAZ_jbIq",
        "outputId": "82e43838-9a7d-4a46-da0e-0cfdc7b48204"
      },
      "source": [
        "y_val=y_val.reshape(-1)\r\n",
        "y_val.shape\r\n",
        "y_val=pd.Series(y_val)\r\n",
        "y_val[:10]"
      ],
      "execution_count": 109,
      "outputs": [
        {
          "output_type": "execute_result",
          "data": {
            "text/plain": [
              "0    699.0\n",
              "1    491.0\n",
              "2    745.0\n",
              "3    537.0\n",
              "4    665.0\n",
              "5    573.0\n",
              "6    559.0\n",
              "7    505.0\n",
              "8    552.0\n",
              "9    429.0\n",
              "dtype: float64"
            ]
          },
          "metadata": {
            "tags": []
          },
          "execution_count": 109
        }
      ]
    },
    {
      "cell_type": "code",
      "metadata": {
        "colab": {
          "base_uri": "https://localhost:8080/"
        },
        "id": "_e7CKn3ykXs7",
        "outputId": "4ca40923-c286-43b3-94b9-115c31607a91"
      },
      "source": [
        "np.mean(y_val)"
      ],
      "execution_count": 110,
      "outputs": [
        {
          "output_type": "execute_result",
          "data": {
            "text/plain": [
              "519.2352941176471"
            ]
          },
          "metadata": {
            "tags": []
          },
          "execution_count": 110
        }
      ]
    },
    {
      "cell_type": "code",
      "metadata": {
        "id": "2X7Y-uIclZ0T"
      },
      "source": [
        "predictions=predictions.reshape(-1)"
      ],
      "execution_count": 111,
      "outputs": []
    },
    {
      "cell_type": "code",
      "metadata": {
        "colab": {
          "base_uri": "https://localhost:8080/"
        },
        "id": "4u-FzMn3lw9b",
        "outputId": "d82ad602-4894-4c29-95c0-e4b9c6807594"
      },
      "source": [
        "predictions.shape"
      ],
      "execution_count": 112,
      "outputs": [
        {
          "output_type": "execute_result",
          "data": {
            "text/plain": [
              "(17,)"
            ]
          },
          "metadata": {
            "tags": []
          },
          "execution_count": 112
        }
      ]
    },
    {
      "cell_type": "code",
      "metadata": {
        "colab": {
          "base_uri": "https://localhost:8080/"
        },
        "id": "6DR7OoBIl0U2",
        "outputId": "bb6d7239-d76c-4385-ce22-cc4c8c76dfe8"
      },
      "source": [
        "predictions=pd.Series(predictions)\r\n",
        "predictions"
      ],
      "execution_count": 113,
      "outputs": [
        {
          "output_type": "execute_result",
          "data": {
            "text/plain": [
              "0     539.620789\n",
              "1     571.800293\n",
              "2     528.056885\n",
              "3     588.753052\n",
              "4     560.650208\n",
              "5     570.296204\n",
              "6     560.392212\n",
              "7     554.948059\n",
              "8     538.969482\n",
              "9     543.165649\n",
              "10    501.811920\n",
              "11    507.322021\n",
              "12    472.424835\n",
              "13    490.703064\n",
              "14    460.885956\n",
              "15    450.221191\n",
              "16    484.936401\n",
              "dtype: float32"
            ]
          },
          "metadata": {
            "tags": []
          },
          "execution_count": 113
        }
      ]
    },
    {
      "cell_type": "code",
      "metadata": {
        "id": "CoWuqxU2mCcX"
      },
      "source": [
        "def mda(actual: np.ndarray, predicted: np.ndarray):\r\n",
        "    \"\"\" Mean Directional Accuracy \"\"\"\r\n",
        "    return np.mean((np.sign(actual[1:] - actual[:-1]) == np.sign(predicted[1:] - predicted[:-1])).astype(int))"
      ],
      "execution_count": 115,
      "outputs": []
    },
    {
      "cell_type": "code",
      "metadata": {
        "colab": {
          "base_uri": "https://localhost:8080/"
        },
        "id": "cITzbpeHmLPb",
        "outputId": "afc85df7-7113-4681-ab80-b4d4b0572dff"
      },
      "source": [
        "mda(y_val, predictions)"
      ],
      "execution_count": 116,
      "outputs": [
        {
          "output_type": "execute_result",
          "data": {
            "text/plain": [
              "0.8823529411764706"
            ]
          },
          "metadata": {
            "tags": []
          },
          "execution_count": 116
        }
      ]
    },
    {
      "cell_type": "code",
      "metadata": {
        "colab": {
          "base_uri": "https://localhost:8080/"
        },
        "id": "q6JbH1OimQe_",
        "outputId": "1acd091f-6032-46f7-c31c-8d714624e789"
      },
      "source": [
        "# https://machinelearningmastery.com/time-series-forecasting-performance-measures-with-python/\r\n",
        "\r\n",
        "mse = mean_squared_error(y_val, predictions)\r\n",
        "rmse = sqrt(mse)\r\n",
        "print('RMSE: %f' % rmse)"
      ],
      "execution_count": 117,
      "outputs": [
        {
          "output_type": "stream",
          "text": [
            "RMSE: 97.021905\n"
          ],
          "name": "stdout"
        }
      ]
    },
    {
      "cell_type": "code",
      "metadata": {
        "colab": {
          "base_uri": "https://localhost:8080/"
        },
        "id": "JFlKVUycmUkN",
        "outputId": "689b709c-5d01-4e6a-d491-d65727fc4f1c"
      },
      "source": [
        "forecast_error = (predictions-y_val)\r\n",
        "forecast_error"
      ],
      "execution_count": 118,
      "outputs": [
        {
          "output_type": "execute_result",
          "data": {
            "text/plain": [
              "0    -159.379211\n",
              "1      80.800293\n",
              "2    -216.943115\n",
              "3      51.753052\n",
              "4    -104.349792\n",
              "5      -2.703796\n",
              "6       1.392212\n",
              "7      49.948059\n",
              "8     -13.030518\n",
              "9     114.165649\n",
              "10     11.811920\n",
              "11    135.322021\n",
              "12    -35.575165\n",
              "13     64.703064\n",
              "14     51.885956\n",
              "15    -72.778809\n",
              "16    140.936401\n",
              "dtype: float64"
            ]
          },
          "metadata": {
            "tags": []
          },
          "execution_count": 118
        }
      ]
    },
    {
      "cell_type": "code",
      "metadata": {
        "colab": {
          "base_uri": "https://localhost:8080/"
        },
        "id": "FMD9R5irmaS0",
        "outputId": "e6ad8389-70af-431b-b220-b31c05150d8c"
      },
      "source": [
        "mean_forecast_error = np.mean(forecast_error)\r\n",
        "mean_forecast_error"
      ],
      "execution_count": 119,
      "outputs": [
        {
          "output_type": "execute_result",
          "data": {
            "text/plain": [
              "5.762248319738052"
            ]
          },
          "metadata": {
            "tags": []
          },
          "execution_count": 119
        }
      ]
    },
    {
      "cell_type": "code",
      "metadata": {
        "colab": {
          "base_uri": "https://localhost:8080/"
        },
        "id": "WLoHeISysvUi",
        "outputId": "cc075210-5545-45d9-b86f-6bee28468fb6"
      },
      "source": [
        "X_train[:10]"
      ],
      "execution_count": 121,
      "outputs": [
        {
          "output_type": "execute_result",
          "data": {
            "text/plain": [
              "array([[[0.1179941 , 0.21091445, 0.37905605, 0.49705015, 0.2979351 ]],\n",
              "\n",
              "       [[0.21091445, 0.37905605, 0.49705015, 0.2979351 , 0.46902655]],\n",
              "\n",
              "       [[0.37905605, 0.49705015, 0.2979351 , 0.46902655, 0.68731563]],\n",
              "\n",
              "       [[0.49705015, 0.2979351 , 0.46902655, 0.68731563, 0.2979351 ]],\n",
              "\n",
              "       [[0.2979351 , 0.46902655, 0.68731563, 0.2979351 , 0.35693215]],\n",
              "\n",
              "       [[0.46902655, 0.68731563, 0.2979351 , 0.35693215, 0.52507375]],\n",
              "\n",
              "       [[0.68731563, 0.2979351 , 0.35693215, 0.52507375, 0.51474926]],\n",
              "\n",
              "       [[0.2979351 , 0.35693215, 0.52507375, 0.51474926, 0.82153392]],\n",
              "\n",
              "       [[0.35693215, 0.52507375, 0.51474926, 0.82153392, 0.70648968]],\n",
              "\n",
              "       [[0.52507375, 0.51474926, 0.82153392, 0.70648968, 0.52654867]]])"
            ]
          },
          "metadata": {
            "tags": []
          },
          "execution_count": 121
        }
      ]
    },
    {
      "cell_type": "code",
      "metadata": {
        "colab": {
          "base_uri": "https://localhost:8080/"
        },
        "id": "xgOvR9Xps2Fd",
        "outputId": "3d4085b6-7812-4e05-c045-a919660a6a22"
      },
      "source": [
        "X_train.shape"
      ],
      "execution_count": 122,
      "outputs": [
        {
          "output_type": "execute_result",
          "data": {
            "text/plain": [
              "(86, 1, 5)"
            ]
          },
          "metadata": {
            "tags": []
          },
          "execution_count": 122
        }
      ]
    },
    {
      "cell_type": "markdown",
      "metadata": {
        "id": "r_Zupxvos_eB"
      },
      "source": [
        "**Validate Predictions on Test Data**"
      ]
    },
    {
      "cell_type": "code",
      "metadata": {
        "id": "Dp7GP86ztFFH"
      },
      "source": [
        "# Test (unseen) predictions\r\n",
        "# (t) and (t-5)\r\n",
        "Xnew = np.array([tseries.iloc[95:100],tseries.iloc[96:101],tseries.iloc[97:102],tseries.iloc[98:103],tseries.iloc[99:104],tseries.iloc[100:105],tseries.iloc[101:106],tseries.iloc[102:107],tseries.iloc[103:108],tseries.iloc[104:109],tseries.iloc[105:110],tseries.iloc[106:111],tseries.iloc[107:112],tseries.iloc[108:113],tseries.iloc[109:114]])"
      ],
      "execution_count": 123,
      "outputs": []
    },
    {
      "cell_type": "code",
      "metadata": {
        "colab": {
          "base_uri": "https://localhost:8080/"
        },
        "id": "je4-iUl0tLiq",
        "outputId": "3db0fc78-12cd-4f2a-dbd2-7b424e6b0835"
      },
      "source": [
        "Xnew[:10]"
      ],
      "execution_count": 124,
      "outputs": [
        {
          "output_type": "execute_result",
          "data": {
            "text/plain": [
              "array([[521., 674., 699., 491., 745.],\n",
              "       [674., 699., 491., 745., 537.],\n",
              "       [699., 491., 745., 537., 665.],\n",
              "       [491., 745., 537., 665., 573.],\n",
              "       [745., 537., 665., 573., 559.],\n",
              "       [537., 665., 573., 559., 505.],\n",
              "       [665., 573., 559., 505., 552.],\n",
              "       [573., 559., 505., 552., 429.],\n",
              "       [559., 505., 552., 429., 490.],\n",
              "       [505., 552., 429., 490., 372.]])"
            ]
          },
          "metadata": {
            "tags": []
          },
          "execution_count": 124
        }
      ]
    },
    {
      "cell_type": "code",
      "metadata": {
        "id": "v8y5uBj2tYWL"
      },
      "source": [
        "Xnew = scaler.fit_transform(Xnew)\r\n",
        "Xnew\r\n",
        "Xnewformat = np.reshape(Xnew, (Xnew.shape[0], 1, Xnew.shape[1]))\r\n",
        "ynew=model.predict(Xnewformat)"
      ],
      "execution_count": 125,
      "outputs": []
    },
    {
      "cell_type": "code",
      "metadata": {
        "colab": {
          "base_uri": "https://localhost:8080/"
        },
        "id": "TDQ7SBwLtceH",
        "outputId": "e370b0e9-9386-4779-8d86-3b581ff027de"
      },
      "source": [
        "Xnew.shape"
      ],
      "execution_count": 126,
      "outputs": [
        {
          "output_type": "execute_result",
          "data": {
            "text/plain": [
              "(15, 5)"
            ]
          },
          "metadata": {
            "tags": []
          },
          "execution_count": 126
        }
      ]
    },
    {
      "cell_type": "code",
      "metadata": {
        "colab": {
          "base_uri": "https://localhost:8080/"
        },
        "id": "vTCo5N6CthUf",
        "outputId": "682f2b62-2a72-44b0-843e-7646af13ae9f"
      },
      "source": [
        "ynew"
      ],
      "execution_count": 127,
      "outputs": [
        {
          "output_type": "execute_result",
          "data": {
            "text/plain": [
              "array([[0.6681395 ],\n",
              "       [0.59384775],\n",
              "       [0.61742085],\n",
              "       [0.59222245],\n",
              "       [0.5772679 ],\n",
              "       [0.5342542 ],\n",
              "       [0.54507774],\n",
              "       [0.42718765],\n",
              "       [0.4430006 ],\n",
              "       [0.34797847],\n",
              "       [0.39350033],\n",
              "       [0.31088328],\n",
              "       [0.28188685],\n",
              "       [0.3760996 ],\n",
              "       [0.24783318]], dtype=float32)"
            ]
          },
          "metadata": {
            "tags": []
          },
          "execution_count": 127
        }
      ]
    },
    {
      "cell_type": "code",
      "metadata": {
        "colab": {
          "base_uri": "https://localhost:8080/"
        },
        "id": "AIzqk0nvtnP8",
        "outputId": "ba707a4b-c389-46a1-fd0b-bc7def5a9763"
      },
      "source": [
        "type(ynew)"
      ],
      "execution_count": 129,
      "outputs": [
        {
          "output_type": "execute_result",
          "data": {
            "text/plain": [
              "numpy.ndarray"
            ]
          },
          "metadata": {
            "tags": []
          },
          "execution_count": 129
        }
      ]
    },
    {
      "cell_type": "code",
      "metadata": {
        "colab": {
          "base_uri": "https://localhost:8080/"
        },
        "id": "dVv5DY8Otvca",
        "outputId": "97c3b29f-158b-4899-9a48-54764eedc2fd"
      },
      "source": [
        "print(ynew.shape)"
      ],
      "execution_count": 130,
      "outputs": [
        {
          "output_type": "stream",
          "text": [
            "(15, 1)\n"
          ],
          "name": "stdout"
        }
      ]
    },
    {
      "cell_type": "code",
      "metadata": {
        "colab": {
          "base_uri": "https://localhost:8080/"
        },
        "id": "xXOmE4lCtzWD",
        "outputId": "0ab356f6-e386-469b-a74b-f6bf07e4fa9a"
      },
      "source": [
        "actual = tseries.iloc[100:115]\r\n",
        "actual"
      ],
      "execution_count": 131,
      "outputs": [
        {
          "output_type": "execute_result",
          "data": {
            "text/plain": [
              "FullDate\n",
              "201721    537.0\n",
              "201722    665.0\n",
              "201723    573.0\n",
              "201724    559.0\n",
              "201725    505.0\n",
              "201726    552.0\n",
              "201727    429.0\n",
              "201728    490.0\n",
              "201729    372.0\n",
              "201730    508.0\n",
              "201731    426.0\n",
              "201732    409.0\n",
              "201733    523.0\n",
              "201734    344.0\n",
              "201735    229.0\n",
              "Name: IsCanceled, dtype: float64"
            ]
          },
          "metadata": {
            "tags": []
          },
          "execution_count": 131
        }
      ]
    },
    {
      "cell_type": "code",
      "metadata": {
        "colab": {
          "base_uri": "https://localhost:8080/"
        },
        "id": "XAZE4pQNuAzI",
        "outputId": "714a5161-e6a4-4ff9-b431-4d00dff4f4e4"
      },
      "source": [
        "actual = np.array(actual)\r\n",
        "actual"
      ],
      "execution_count": 132,
      "outputs": [
        {
          "output_type": "execute_result",
          "data": {
            "text/plain": [
              "array([537., 665., 573., 559., 505., 552., 429., 490., 372., 508., 426.,\n",
              "       409., 523., 344., 229.])"
            ]
          },
          "metadata": {
            "tags": []
          },
          "execution_count": 132
        }
      ]
    },
    {
      "cell_type": "code",
      "metadata": {
        "colab": {
          "base_uri": "https://localhost:8080/"
        },
        "id": "tJlUl1wtuFEF",
        "outputId": "4bb04d47-0e14-4174-ef93-e9fcaa660b75"
      },
      "source": [
        "actual=actual.reshape(15,-1)\r\n",
        "actual.shape"
      ],
      "execution_count": 133,
      "outputs": [
        {
          "output_type": "execute_result",
          "data": {
            "text/plain": [
              "(15, 1)"
            ]
          },
          "metadata": {
            "tags": []
          },
          "execution_count": 133
        }
      ]
    },
    {
      "cell_type": "code",
      "metadata": {
        "colab": {
          "base_uri": "https://localhost:8080/"
        },
        "id": "OlUs8TBxuJwJ",
        "outputId": "64ba318c-8d2a-4a99-e5e2-985915e5194a"
      },
      "source": [
        "actual"
      ],
      "execution_count": 134,
      "outputs": [
        {
          "output_type": "execute_result",
          "data": {
            "text/plain": [
              "array([[537.],\n",
              "       [665.],\n",
              "       [573.],\n",
              "       [559.],\n",
              "       [505.],\n",
              "       [552.],\n",
              "       [429.],\n",
              "       [490.],\n",
              "       [372.],\n",
              "       [508.],\n",
              "       [426.],\n",
              "       [409.],\n",
              "       [523.],\n",
              "       [344.],\n",
              "       [229.]])"
            ]
          },
          "metadata": {
            "tags": []
          },
          "execution_count": 134
        }
      ]
    },
    {
      "cell_type": "code",
      "metadata": {
        "id": "pAoSXB-_uftN"
      },
      "source": [
        "ynew=ynew.reshape(-1)\r\n",
        "actual=actual.reshape(-1)\r\n",
        "actualpd=pd.Series(actual)"
      ],
      "execution_count": 135,
      "outputs": []
    },
    {
      "cell_type": "code",
      "metadata": {
        "colab": {
          "base_uri": "https://localhost:8080/"
        },
        "id": "lMsIKJOfujMR",
        "outputId": "43585541-f909-4703-a751-80d489769e60"
      },
      "source": [
        "np.min(df)"
      ],
      "execution_count": 136,
      "outputs": [
        {
          "output_type": "execute_result",
          "data": {
            "text/plain": [
              "58.0"
            ]
          },
          "metadata": {
            "tags": []
          },
          "execution_count": 136
        }
      ]
    },
    {
      "cell_type": "code",
      "metadata": {
        "colab": {
          "base_uri": "https://localhost:8080/"
        },
        "id": "0rtlNd8iulvz",
        "outputId": "f06d859f-b93e-4b4b-ced8-c675aed30d25"
      },
      "source": [
        "ynew"
      ],
      "execution_count": 137,
      "outputs": [
        {
          "output_type": "execute_result",
          "data": {
            "text/plain": [
              "array([0.6681395 , 0.59384775, 0.61742085, 0.59222245, 0.5772679 ,\n",
              "       0.5342542 , 0.54507774, 0.42718765, 0.4430006 , 0.34797847,\n",
              "       0.39350033, 0.31088328, 0.28188685, 0.3760996 , 0.24783318],\n",
              "      dtype=float32)"
            ]
          },
          "metadata": {
            "tags": []
          },
          "execution_count": 137
        }
      ]
    },
    {
      "cell_type": "code",
      "metadata": {
        "id": "Tnc7ACCsupW_"
      },
      "source": [
        "maxcancel=np.max(tseries)"
      ],
      "execution_count": 138,
      "outputs": []
    },
    {
      "cell_type": "code",
      "metadata": {
        "id": "Zxa3ec18upQz"
      },
      "source": [
        "mincancel=np.min(tseries)"
      ],
      "execution_count": 139,
      "outputs": []
    },
    {
      "cell_type": "code",
      "metadata": {
        "id": "x4O_xGHguzBk"
      },
      "source": [
        "ynew = ynew * np.abs(maxcancel-mincancel) + np.min(tseries)\r\n",
        "ynewpd=pd.Series(ynew)"
      ],
      "execution_count": 140,
      "outputs": []
    },
    {
      "cell_type": "code",
      "metadata": {
        "colab": {
          "base_uri": "https://localhost:8080/"
        },
        "id": "a4ulTTA0u2NH",
        "outputId": "e79df2e8-2d8a-43d9-ef1c-39e22aff56b9"
      },
      "source": [
        "actualpd"
      ],
      "execution_count": 141,
      "outputs": [
        {
          "output_type": "execute_result",
          "data": {
            "text/plain": [
              "0     537.0\n",
              "1     665.0\n",
              "2     573.0\n",
              "3     559.0\n",
              "4     505.0\n",
              "5     552.0\n",
              "6     429.0\n",
              "7     490.0\n",
              "8     372.0\n",
              "9     508.0\n",
              "10    426.0\n",
              "11    409.0\n",
              "12    523.0\n",
              "13    344.0\n",
              "14    229.0\n",
              "dtype: float64"
            ]
          },
          "metadata": {
            "tags": []
          },
          "execution_count": 141
        }
      ]
    },
    {
      "cell_type": "code",
      "metadata": {
        "colab": {
          "base_uri": "https://localhost:8080/"
        },
        "id": "p4NVoxJKu6-U",
        "outputId": "1623886d-de30-4237-ac1d-ffd945b68636"
      },
      "source": [
        "ynewpd"
      ],
      "execution_count": 142,
      "outputs": [
        {
          "output_type": "execute_result",
          "data": {
            "text/plain": [
              "0     517.011841\n",
              "1     465.973419\n",
              "2     482.168121\n",
              "3     464.856812\n",
              "4     454.583038\n",
              "5     425.032623\n",
              "6     432.468414\n",
              "7     351.477905\n",
              "8     362.341431\n",
              "9     297.061218\n",
              "10    328.334717\n",
              "11    271.576813\n",
              "12    251.656265\n",
              "13    316.380402\n",
              "14    228.261398\n",
              "dtype: float32"
            ]
          },
          "metadata": {
            "tags": []
          },
          "execution_count": 142
        }
      ]
    },
    {
      "cell_type": "code",
      "metadata": {
        "colab": {
          "base_uri": "https://localhost:8080/"
        },
        "id": "H02yqQMavCQV",
        "outputId": "2d87edb7-3e9e-4f54-e3e4-fbc543973e05"
      },
      "source": [
        "mda(actualpd, ynewpd)"
      ],
      "execution_count": 143,
      "outputs": [
        {
          "output_type": "execute_result",
          "data": {
            "text/plain": [
              "0.8666666666666667"
            ]
          },
          "metadata": {
            "tags": []
          },
          "execution_count": 143
        }
      ]
    },
    {
      "cell_type": "code",
      "metadata": {
        "colab": {
          "base_uri": "https://localhost:8080/"
        },
        "id": "kozMhMAEvE3c",
        "outputId": "1aafb0a4-b1c3-4ba2-9255-a6e94c891ef5"
      },
      "source": [
        "mse = mean_squared_error(actualpd, ynewpd)\r\n",
        "rmse = sqrt(mse)\r\n",
        "print('RMSE: %f' % rmse)"
      ],
      "execution_count": 144,
      "outputs": [
        {
          "output_type": "stream",
          "text": [
            "RMSE: 127.119465\n"
          ],
          "name": "stdout"
        }
      ]
    },
    {
      "cell_type": "code",
      "metadata": {
        "colab": {
          "base_uri": "https://localhost:8080/"
        },
        "id": "khDrqtDavJSn",
        "outputId": "074dab40-ea5c-4ca5-b54d-fa0917b88837"
      },
      "source": [
        "forecast_error = (ynewpd-actualpd)\r\n",
        "forecast_error"
      ],
      "execution_count": 145,
      "outputs": [
        {
          "output_type": "execute_result",
          "data": {
            "text/plain": [
              "0     -19.988159\n",
              "1    -199.026581\n",
              "2     -90.831879\n",
              "3     -94.143188\n",
              "4     -50.416962\n",
              "5    -126.967377\n",
              "6       3.468414\n",
              "7    -138.522095\n",
              "8      -9.658569\n",
              "9    -210.938782\n",
              "10    -97.665283\n",
              "11   -137.423187\n",
              "12   -271.343735\n",
              "13    -27.619598\n",
              "14     -0.738602\n",
              "dtype: float64"
            ]
          },
          "metadata": {
            "tags": []
          },
          "execution_count": 145
        }
      ]
    },
    {
      "cell_type": "code",
      "metadata": {
        "colab": {
          "base_uri": "https://localhost:8080/"
        },
        "id": "vXFQM3RyvPA2",
        "outputId": "cd63dcce-a26b-480a-fa61-0ecf2e449c2e"
      },
      "source": [
        "mean_forecast_error = np.mean(forecast_error)\r\n",
        "mean_forecast_error"
      ],
      "execution_count": 146,
      "outputs": [
        {
          "output_type": "execute_result",
          "data": {
            "text/plain": [
              "-98.12103881835938"
            ]
          },
          "metadata": {
            "tags": []
          },
          "execution_count": 146
        }
      ]
    },
    {
      "cell_type": "code",
      "metadata": {
        "colab": {
          "base_uri": "https://localhost:8080/",
          "height": 295
        },
        "id": "HjbPDQXgvSVz",
        "outputId": "5aa26228-26fb-4ac6-8402-73b5681f9d88"
      },
      "source": [
        "predictons, =plt.plot(ynewpd, label='Predictions')\r\n",
        "actual, =plt.plot(actualpd, label='Actual')\r\n",
        "plt.xlabel('Number of weeks')\r\n",
        "plt.ylabel('Cancellations')\r\n",
        "plt.title(\"Predicted vs. Actual Cancellations Per Week\")\r\n",
        "plt.legend(loc = 'upper center')\r\n",
        "plt.show()"
      ],
      "execution_count": 147,
      "outputs": [
        {
          "output_type": "display_data",
          "data": {
            "image/png": "[encoded data removed]",
            "text/plain": [
              "<Figure size 432x288 with 1 Axes>"
            ]
          },
          "metadata": {
            "tags": [],
            "needs_background": "light"
          }
        }
      ]
    },
    {
      "cell_type": "code",
      "metadata": {
        "colab": {
          "base_uri": "https://localhost:8080/"
        },
        "id": "oksRzYLhvYKg",
        "outputId": "aa17d682-0e6f-4956-c9b5-975ee56c3d35"
      },
      "source": [
        "np.mean(ynewpd)"
      ],
      "execution_count": 148,
      "outputs": [
        {
          "output_type": "execute_result",
          "data": {
            "text/plain": [
              "376.6122741699219"
            ]
          },
          "metadata": {
            "tags": []
          },
          "execution_count": 148
        }
      ]
    }
  ]
}