{
  "nbformat": 4,
  "nbformat_minor": 0,
  "metadata": {
    "colab": {
      "name": "Topic Modelling using LDA_gensim library",
      "provenance": [],
      "authorship_tag": "ABX9TyNr+l+SnieTbXF7giR9RYo1",
      "include_colab_link": true
    },
    "kernelspec": {
      "name": "python3",
      "display_name": "Python 3"
    }
  },
  "cells": [
    {
      "cell_type": "markdown",
      "metadata": {
        "id": "view-in-github",
        "colab_type": "text"
      },
      "source": [
        "<a href=\"https://colab.research.google.com/github/prasvijaya/datascienceportfolio/blob/master/Topic_Modelling_using_LDA_gensim_library.ipynb\" target=\"_parent\"><img src=\"https://colab.research.google.com/assets/colab-badge.svg\" alt=\"Open In Colab\"/></a>"
      ]
    },
    {
      "cell_type": "code",
      "metadata": {
        "id": "Q-Bd71C_ARlX",
        "colab_type": "code",
        "colab": {}
      },
      "source": [
        "import pandas as pd\n",
        "import numpy as np\n",
        "import re\n",
        "import spacy"
      ],
      "execution_count": 1,
      "outputs": []
    },
    {
      "cell_type": "code",
      "metadata": {
        "id": "PaHjxXX2Ab_R",
        "colab_type": "code",
        "colab": {
          "base_uri": "https://localhost:8080/",
          "height": 128
        },
        "outputId": "71e32382-254c-45d1-db0c-b8ec10d380ec"
      },
      "source": [
        "data= pd.read_csv('https://github.com/srivatsan88/YouTubeLI/blob/master/dataset/consumer_compliants.zip?raw=true', compression='zip', delimiter=',', quotechar='\"')\n",
        "data_text= data[['Consumer complaint narrative']]\n",
        "data_text['index']= data_text.index\n",
        "documents= data_text"
      ],
      "execution_count": 2,
      "outputs": [
        {
          "output_type": "stream",
          "text": [
            "/usr/local/lib/python3.6/dist-packages/ipykernel_launcher.py:3: SettingWithCopyWarning: \n",
            "A value is trying to be set on a copy of a slice from a DataFrame.\n",
            "Try using .loc[row_indexer,col_indexer] = value instead\n",
            "\n",
            "See the caveats in the documentation: https://pandas.pydata.org/pandas-docs/stable/user_guide/indexing.html#returning-a-view-versus-a-copy\n",
            "  This is separate from the ipykernel package so we can avoid doing imports until\n"
          ],
          "name": "stderr"
        }
      ]
    },
    {
      "cell_type": "code",
      "metadata": {
        "id": "lnBqUASbAXVr",
        "colab_type": "code",
        "colab": {
          "base_uri": "https://localhost:8080/",
          "height": 35
        },
        "outputId": "64676767-8652-4b86-d590-2fd78b0ec518"
      },
      "source": [
        "#Shape of dataset\n",
        "print(len(documents))"
      ],
      "execution_count": 3,
      "outputs": [
        {
          "output_type": "stream",
          "text": [
            "57453\n"
          ],
          "name": "stdout"
        }
      ]
    },
    {
      "cell_type": "code",
      "metadata": {
        "id": "lg82032EhK3E",
        "colab_type": "code",
        "colab": {
          "base_uri": "https://localhost:8080/",
          "height": 489
        },
        "outputId": "53564c47-e227-44e1-9e4b-16b01838afdb"
      },
      "source": [
        "pd.set_option('display.max_colwidth', -1)\n",
        "documents.head()"
      ],
      "execution_count": 4,
      "outputs": [
        {
          "output_type": "stream",
          "text": [
            "/usr/local/lib/python3.6/dist-packages/ipykernel_launcher.py:1: FutureWarning: Passing a negative integer is deprecated in version 1.0 and will not be supported in future version. Instead, use None to not limit the column width.\n",
            "  \"\"\"Entry point for launching an IPython kernel.\n"
          ],
          "name": "stderr"
        },
        {
          "output_type": "execute_result",
          "data": {
            "text/html": [
              "<div>\n",
              "<style scoped>\n",
              "    .dataframe tbody tr th:only-of-type {\n",
              "        vertical-align: middle;\n",
              "    }\n",
              "\n",
              "    .dataframe tbody tr th {\n",
              "        vertical-align: top;\n",
              "    }\n",
              "\n",
              "    .dataframe thead th {\n",
              "        text-align: right;\n",
              "    }\n",
              "</style>\n",
              "<table border=\"1\" class=\"dataframe\">\n",
              "  <thead>\n",
              "    <tr style=\"text-align: right;\">\n",
              "      <th></th>\n",
              "      <th>Consumer complaint narrative</th>\n",
              "      <th>index</th>\n",
              "    </tr>\n",
              "  </thead>\n",
              "  <tbody>\n",
              "    <tr>\n",
              "      <th>0</th>\n",
              "      <td>This auto loan was opened on XX/XX/2020 in XXXX, NC with BB &amp; T in my name. I have NEVER been to North Carolina and I have NEVER been a resident. I have filed a dispute twice through my credit bureaus but both times BB &amp; T has claimed that this is an accurate loan. Which I wasn't aware of until today. I have tried to contact BB &amp; T multiple times but I have never gotten through to a live person. I do n't drive and I have never owned a car before. I didn't have any knowledge of this account until I checked XXXXXXXX XXXX  and noticed it. I've tried twice to dispute it. Additionally I never received any bills or information about this account. This is my last resort in trying to remove this fraudulent loan off of my account.</td>\n",
              "      <td>0</td>\n",
              "    </tr>\n",
              "    <tr>\n",
              "      <th>1</th>\n",
              "      <td>In XXXX of 2019 I noticed a debt for {$620.00} on my credit which i believed was mine I thought speedy cash had bought one of my old debts and sold it to XXXX XXXX XXXX XXXX. I contacted XXXX XXXX XXXX XXXX and after several attempts of giving my full name, nothing came up in their system. I gave my social and the rep said the account popped up but DID NOT tell me that the account was under someone elses name and continued to let me make a payment. The payment was for {$120.00}. Confirmation number-XXXX. After realizing it was not my account, I called back to get my money back and inform them of the mistake. I was told i needed to mail them an FTC report and dispute letter to get my money back. I completed all of this and when i called again they said they transferred the account back to speedy cash for fraud review and I would need to contact them. After contacting them i was again told that i can not get my money back. The issue im having is this representative at XXXX XXXX played blind to obvious fraud and let an innocent person make a payment on someone elses debt and i want my money back.</td>\n",
              "      <td>1</td>\n",
              "    </tr>\n",
              "    <tr>\n",
              "      <th>2</th>\n",
              "      <td>As stated from Capital One, XXXX XX/XX/XXXX and XXXX 2018, My wife and I went to several car dealerships to request for a car loan to get a used car. However, according to their credit requirements unfortunately my credit score was insufficient for the car loan approval at that time. It seemed as though they pulled my credit report multiple times.</td>\n",
              "      <td>2</td>\n",
              "    </tr>\n",
              "    <tr>\n",
              "      <th>3</th>\n",
              "      <td>Please see CFPB case XXXX. \\n\\nCapital One, in the letter they provided ( and attached to that case as their response ) said this : \" The funds were reversed and sent back to XXXX XXXX XXXX  on XX/XX/XXXX ''. \\n\\nXXXX XXXX XXXX  ( now XXXX XXXX  ) has not received these funds. Staff at XXXX XXXX  - and also staff at the account-holder 's business - have looked for return of my money ( {$650.00} ) and find nothing. \\n\\nCapital One needs to document - actually prove - they returned the funds, as stated in their letter. Capital One must provide electronic information, if the return was made that way, or document the paper check they sent back to XXXX XXXX. \\n\\nI've left 3 messages about this problem for the person who signed the letter ( XXXX ) from Capital One. I have received no call-backs. \\n\\nSummary : Capital One said they returned my money on XX/XX/XXXX : they did not. If they continue claim they did, then they need to prove that.</td>\n",
              "      <td>3</td>\n",
              "    </tr>\n",
              "    <tr>\n",
              "      <th>4</th>\n",
              "      <td>This debt was incurred due to medical malpractice ( XXXX XXXX XXXX, XXXX, TX ). I asked the doctor to turn over my claim to his malpractice insurance company. This has cost me thousands of dollars to XXXX XXXX XXXX. I am still trying to collect damages from this doctor. He never responded and turned over me to collections Merchants and Professional Collection Bureau , Inc. I sent them a letter describing exactly this issue and instead of not contacting me and verifying my debt they start reporting this debt to the credit reporting agencies. They never verified the debt, like I asked and they never stopped it from being reported when I specifically told them not to, due to the circumstances above.</td>\n",
              "      <td>4</td>\n",
              "    </tr>\n",
              "  </tbody>\n",
              "</table>\n",
              "</div>"
            ],
            "text/plain": [
              "                                                                                                                                                                                                                                                                                                                                                                                                                                                                                                                                                                                                                                                                                                                                                                                                                                                                                                                                                                                                                                                                                                                             Consumer complaint narrative  index\n",
              "0  This auto loan was opened on XX/XX/2020 in XXXX, NC with BB & T in my name. I have NEVER been to North Carolina and I have NEVER been a resident. I have filed a dispute twice through my credit bureaus but both times BB & T has claimed that this is an accurate loan. Which I wasn't aware of until today. I have tried to contact BB & T multiple times but I have never gotten through to a live person. I do n't drive and I have never owned a car before. I didn't have any knowledge of this account until I checked XXXXXXXX XXXX  and noticed it. I've tried twice to dispute it. Additionally I never received any bills or information about this account. This is my last resort in trying to remove this fraudulent loan off of my account.                                                                                                                                                                                                                                                                                                                                                                                             0    \n",
              "1  In XXXX of 2019 I noticed a debt for {$620.00} on my credit which i believed was mine I thought speedy cash had bought one of my old debts and sold it to XXXX XXXX XXXX XXXX. I contacted XXXX XXXX XXXX XXXX and after several attempts of giving my full name, nothing came up in their system. I gave my social and the rep said the account popped up but DID NOT tell me that the account was under someone elses name and continued to let me make a payment. The payment was for {$120.00}. Confirmation number-XXXX. After realizing it was not my account, I called back to get my money back and inform them of the mistake. I was told i needed to mail them an FTC report and dispute letter to get my money back. I completed all of this and when i called again they said they transferred the account back to speedy cash for fraud review and I would need to contact them. After contacting them i was again told that i can not get my money back. The issue im having is this representative at XXXX XXXX played blind to obvious fraud and let an innocent person make a payment on someone elses debt and i want my money back.  1    \n",
              "2  As stated from Capital One, XXXX XX/XX/XXXX and XXXX 2018, My wife and I went to several car dealerships to request for a car loan to get a used car. However, according to their credit requirements unfortunately my credit score was insufficient for the car loan approval at that time. It seemed as though they pulled my credit report multiple times.                                                                                                                                                                                                                                                                                                                                                                                                                                                                                                                                                                                                                                                                                                                                                                                           2    \n",
              "3  Please see CFPB case XXXX. \\n\\nCapital One, in the letter they provided ( and attached to that case as their response ) said this : \" The funds were reversed and sent back to XXXX XXXX XXXX  on XX/XX/XXXX ''. \\n\\nXXXX XXXX XXXX  ( now XXXX XXXX  ) has not received these funds. Staff at XXXX XXXX  - and also staff at the account-holder 's business - have looked for return of my money ( {$650.00} ) and find nothing. \\n\\nCapital One needs to document - actually prove - they returned the funds, as stated in their letter. Capital One must provide electronic information, if the return was made that way, or document the paper check they sent back to XXXX XXXX. \\n\\nI've left 3 messages about this problem for the person who signed the letter ( XXXX ) from Capital One. I have received no call-backs. \\n\\nSummary : Capital One said they returned my money on XX/XX/XXXX : they did not. If they continue claim they did, then they need to prove that.                                                                                                                                                                     3    \n",
              "4  This debt was incurred due to medical malpractice ( XXXX XXXX XXXX, XXXX, TX ). I asked the doctor to turn over my claim to his malpractice insurance company. This has cost me thousands of dollars to XXXX XXXX XXXX. I am still trying to collect damages from this doctor. He never responded and turned over me to collections Merchants and Professional Collection Bureau , Inc. I sent them a letter describing exactly this issue and instead of not contacting me and verifying my debt they start reporting this debt to the credit reporting agencies. They never verified the debt, like I asked and they never stopped it from being reported when I specifically told them not to, due to the circumstances above.                                                                                                                                                                                                                                                                                                                                                                                                                       4    "
            ]
          },
          "metadata": {
            "tags": []
          },
          "execution_count": 4
        }
      ]
    },
    {
      "cell_type": "code",
      "metadata": {
        "id": "algX0uh4hV26",
        "colab_type": "code",
        "colab": {
          "base_uri": "https://localhost:8080/",
          "height": 72
        },
        "outputId": "a5a4e9e9-c6b0-40cf-f05c-50e633bd3535"
      },
      "source": [
        "#Importing gensim and nltk libraries\n",
        "import gensim\n",
        "from gensim.utils import simple_preprocess\n",
        "from gensim.parsing.preprocessing import STOPWORDS\n",
        "from nltk.stem import WordNetLemmatizer, SnowballStemmer\n",
        "from nltk.stem.porter import *\n",
        "import numpy as np\n",
        "\n",
        "import nltk\n",
        "nltk.download('wordnet')"
      ],
      "execution_count": 5,
      "outputs": [
        {
          "output_type": "stream",
          "text": [
            "[nltk_data] Downloading package wordnet to /root/nltk_data...\n",
            "[nltk_data]   Package wordnet is already up-to-date!\n"
          ],
          "name": "stdout"
        },
        {
          "output_type": "execute_result",
          "data": {
            "text/plain": [
              "True"
            ]
          },
          "metadata": {
            "tags": []
          },
          "execution_count": 5
        }
      ]
    },
    {
      "cell_type": "code",
      "metadata": {
        "id": "4GvoLWUEhr_0",
        "colab_type": "code",
        "colab": {}
      },
      "source": [
        "stemmer= SnowballStemmer('english')\n",
        "\n",
        "#function to perform lemmatize and stem preprocessing steps on the data set.\n",
        "def lemmatize_stemming(text):\n",
        "    return stemmer.stem(WordNetLemmatizer().lemmatize(text, pos='v'))\n",
        "\n",
        "def preprocess(text):\n",
        "    result = []\n",
        "    for token in gensim.utils.simple_preprocess(text):\n",
        "      if token not in gensim.parsing.preprocessing.STOPWORDS:\n",
        "        if len(word) > 3 and len(word.strip('Xx/')) > 2:\n",
        "            result.append(lemmatize_stemming(token))\n",
        "    return result"
      ],
      "execution_count": 6,
      "outputs": []
    },
    {
      "cell_type": "code",
      "metadata": {
        "id": "5dkl64RxiheU",
        "colab_type": "code",
        "colab": {
          "base_uri": "https://localhost:8080/",
          "height": 148
        },
        "outputId": "032274f0-ec21-4f3f-aef5-e1d93fd9672d"
      },
      "source": [
        "#preview the document\n",
        "doc_sample = documents[documents['index'] == 4310].values[0][0]\n",
        "\n",
        "print('original document: ')\n",
        "words = []\n",
        "for word in doc_sample.split(' '):\n",
        "    words.append(word)\n",
        "print(words)\n",
        "print('\\n\\n tokenized and lemmatized document: ')\n",
        "print(preprocess(doc_sample))"
      ],
      "execution_count": 7,
      "outputs": [
        {
          "output_type": "stream",
          "text": [
            "original document: \n",
            "['On', 'XX/XX/2019', 'i', 'received', 'an', 'summons.', 'i', 'was', 'being', 'sued', 'by', 'medical', 'recovery', 'services.', 'On', 'XX/XX/2019', 'i', 'personal', 'went', 'to', 'the', 'office', 'of', 'XXXX', 'XXXX', 'XXXX', 'XXXX', 'XXXX', 'XXXX,', 'pllc.', 'They', 'explained', 'the', 'debt', 'i', 'owed', 'and', 'the', 'fact', 'that', 'I', 'now', 'owe', 'filing', 'fees,', 'attorneys', 'fees,', 'and', 'legal', 'interest.', 'I', 'paid', '{$630.00}', 'for', 'everything.', 'On', 'XX/XX/2019', 'my', 'wife', 'filed', 'chapter', 'XXXX', 'bankruptcy.', '\\nOn', 'XX/XX/2019', 'i', 'received', 'an', 'email', 'from', 'XXXX', '', 'saying', 'a', 'new', 'collection', 'account', 'was', 'added', 'to', 'my', 'credit.', 'After', 'reading', 'the', 'email', 'and', 'looking', 'at', 'my', 'credit', 'report.', 'I', 'already', 'paid', 'this', 'account.', 'On', 'XX/XX/2019', 'I', 'called', 'medical', 'recovery', 'services', 'and', 'they', 'refused', 'to', 'give', 'me', 'information', 'on', 'a', 'collection', 'i', 'already', 'paid.', 'I', 'then', 'filled', '2', 'desputes', 'with', 'XXXX', 'and', 'they', 'keep', 'telling', 'me', 'i', 'owe', 'the', 'debt.', 'This', 'debt', 'is', 'causing', 'a', 'negative', 'impact', 'on', 'my', 'credit', 'for', 'every', 'month', 'that', 'goes', 'by', 'its', 'saying', 'i', \"haven't\", 'made', 'any', 'payments.']\n",
            "\n",
            "\n",
            " tokenized and lemmatized document: \n",
            "['xx', 'xx', 'receiv', 'summon', 'sue', 'medic', 'recoveri', 'servic', 'xx', 'xx', 'person', 'go', 'offic', 'xxxx', 'xxxx', 'xxxx', 'xxxx', 'xxxx', 'xxxx', 'pllc', 'explain', 'debt', 'owe', 'fact', 'owe', 'file', 'fee', 'attorney', 'fee', 'legal', 'pay', 'xx', 'xx', 'wife', 'file', 'chapter', 'xxxx', 'bankruptci', 'xx', 'xx', 'receiv', 'email', 'xxxx', 'say', 'new', 'collect', 'account', 'add', 'credit', 'read', 'email', 'look', 'credit', 'report', 'pay', 'account', 'xx', 'xx', 'call', 'medic', 'recoveri', 'servic', 'refus', 'inform', 'collect', 'pay', 'fill', 'desput', 'xxxx', 'tell', 'owe', 'debt', 'debt', 'caus', 'negat', 'impact', 'credit', 'month', 'go', 'say', 'haven', 'payment']\n"
          ],
          "name": "stdout"
        }
      ]
    },
    {
      "cell_type": "code",
      "metadata": {
        "id": "ErMLAYXTRBhc",
        "colab_type": "code",
        "colab": {
          "base_uri": "https://localhost:8080/",
          "height": 240
        },
        "outputId": "505d7984-48fb-4bb8-e2f4-74ffa3b65649"
      },
      "source": [
        "processed_docs = documents['Consumer complaint narrative'].map(preprocess)\n",
        "processed_docs[:10]"
      ],
      "execution_count": 8,
      "outputs": [
        {
          "output_type": "execute_result",
          "data": {
            "text/plain": [
              "0    [auto, loan, open, xx, xx, xxxx, nc, bb, north, carolina, resid, file, disput, twice, credit, bureaus, time, bb, claim, accur, loan, wasn, awar, today, tri, contact, bb, multipl, time, get, live, person, drive, own, car, knowledg, account, check, xxxxxxxx, xxxx, notic, ve, tri, twice, disput, addit, receiv, bill, inform, account, resort, tri, remov, fraudul, loan, account]                                                                                                                                                                                                                                                                                                                                                                 \n",
              "1    [xxxx, notic, debt, credit, believ, think, speedi, cash, buy, old, debt, sell, xxxx, xxxx, xxxx, xxxx, contact, xxxx, xxxx, xxxx, xxxx, attempt, give, come, give, social, rep, say, account, pop, tell, account, els, continu, let, payment, payment, confirm, number, xxxx, realiz, account, call, money, inform, mistak, tell, need, mail, ftc, report, disput, letter, money, complet, call, say, transfer, account, speedi, cash, fraud, review, need, contact, contact, tell, money, issu, im, have, repres, xxxx, xxxx, play, blind, obvious, fraud, let, innoc, person, payment, els, debt, want, money]                                                                                                                                        \n",
              "2    [state, capit, xxxx, xx, xx, xxxx, xxxx, wife, go, car, dealership, request, car, loan, car, accord, credit, requir, unfortun, credit, score, insuffici, car, loan, approv, time, pull, credit, report, multipl, time]                                                                                                                                                                                                                                                                                                                                                                                                                                                                                                                                  \n",
              "3    [cfpb, case, xxxx, capit, letter, provid, attach, case, respons, say, fund, revers, send, xxxx, xxxx, xxxx, xx, xx, xxxx, xxxx, xxxx, xxxx, xxxx, xxxx, receiv, fund, staff, xxxx, xxxx, staff, account, holder, busi, look, return, money, capit, need, document, actual, prove, return, fund, state, letter, capit, provid, electron, inform, return, way, document, paper, check, send, xxxx, xxxx, ve, leav, messag, problem, person, sign, letter, xxxx, capit, receiv, back, summari, capit, say, return, money, xx, xx, xxxx, continu, claim, need, prove]                                                                                                                                                                                       \n",
              "4    [debt, incur, medic, malpractic, xxxx, xxxx, xxxx, xxxx, tx, ask, doctor, turn, claim, malpractic, insur, compani, cost, thousand, dollar, xxxx, xxxx, xxxx, tri, collect, damag, doctor, respond, turn, collect, merchant, profession, collect, bureau, send, letter, describ, exact, issu, instead, contact, verifi, debt, start, report, debt, credit, report, agenc, verifi, debt, like, ask, stop, report, specif, tell, circumst]                                                                                                                                                                                                                                                                                                                 \n",
              "5    [good, morn, streamlin, xxxx, xxxx, guarante, rat, reason, refi, like, xxxx, xxxx, contact, xxxx, say, deal, xxxx, xxxx, loan, transfer, bank, justgot, letter, mail, week, guess, xxxx, xxxx, couldof, get, streamlin, loan, xxxx, time, lower, rate, money, xxxx, know, compani, take, advantag, spend, money, wind, lender, begin, want, sue, compani, xxxx, xxxx, xxxx, xxxx]                                                                                                                                                                                                                                                                                                                                                                       \n",
              "6    [fals, negat, claim, credit, report, ident, theft, xx, xx, xxxx, fals, claim, prevent, purchas, hous, good, rat, famili, claim, xxxx, xxxx, xxxx, state, account, xx, xx, xxxx, busi, xxxx, xxxx, xxxx, life, xxxx, xxxx, xxxx, state, charg, xxxx, account, pay, balanc, usd, time, ident, theft, bank, xxxx, xxxx, xxxx, xxxx, notifi, matter, xxxx, xxxx, xxxx, xxxx, inform, sign, polic, affidavit, state, case, ident, theft, sign, polic, affidavit, submit, xxxx, xxxx, xxxx, xxxx, think, issu, money, charg, account, xxxx, xxxx, xxxx, xxxx, xxxx, xxxx, bank, start, make, harass, call, send, threaten, letter, say, pay, balanc, gon, na, send, debt, collect, agenc, ...]                                                                \n",
              "7    [middl, refin, month, open, new, credit, receiv, email, state, late, payment, credit, ppc, account, open, account, speak, paypal, middl, refin, hous, credit, score, drop, know, miss, payment, account, open, singl, person, speak, oh, good, moon, frustrat, right, report, agenc, report, derogatori, status, account, answer, phone, call, legal, shame, paypal, sincer, hope, fix, late, payment, year, ugh, item, number, credit, report, page]                                                                                                                                                                                                                                                                                                   \n",
              "8    [xx, xx, xxxx, receiv, letter, date, xx, xx, xxxx, debt, collect, compani, call, transworld, system, letter, state, thirti, day, disput, pay, debt, failur, communic, thirti, day, result, admitt, debt, debt, obtain, creditor, name, xxxx, xxxx, xxxx, xxxx, xxxx, xxxx, xxxx, xxxx, state, formal, hold, debt, compani, call, xxxx, xxxx, xxxx, action, notifi, credit, bureau, place, temporari, fraud, alert, protect, ident, notifi, transworld, system, disput, debt, live, xxxx, util, xxxx, xxxx, xxxx, power, compani, xx, xx, xxxx, xx, xx, xxxx, delinqu, account, pay, final, xx, xx, xxxx, move, xxxx, xxxx, xxxx, end, xx, xx, xxxx, time, thirteen, year, ve, notifi, type, ...]                                                        \n",
              "9    [morn, receiv, email, citi, tell, close, credit, card, account, prior, warn, prior, communic, kind, card, yrs, spotless, record, pay, charg, time, fashion, call, citi, inform, happen, ask, explan, custom, servic, employe, tell, letter, send, explain, situat, couldn, inform, privaci, right, ask, speak, supervisor, supervisor, pull, letter, send, tell, account, close, non, usag, explain, card, yrs, counter, probabl, true, card, accord, scenario, sure, care, look, yr, period, past, yrs, citi, card, ask, sign, agreement, inform, citi, use, lose, polici, supervisor, tell, simpli, right, close, account, time, reason, know, affect, credit, rat, negat, inform, supervisor, think, patent, unfair, credit, rat, affect, futur, ...]\n",
              "Name: Consumer complaint narrative, dtype: object"
            ]
          },
          "metadata": {
            "tags": []
          },
          "execution_count": 8
        }
      ]
    },
    {
      "cell_type": "markdown",
      "metadata": {
        "id": "3r6-AGOEWSTO",
        "colab_type": "text"
      },
      "source": [
        "Bag of Words on the Data set\n",
        "\n",
        "Create a dictionary from ‘processed_docs’ containing the number of times a word appears in the training set."
      ]
    },
    {
      "cell_type": "code",
      "metadata": {
        "id": "1axYhX1hWQpQ",
        "colab_type": "code",
        "colab": {
          "base_uri": "https://localhost:8080/",
          "height": 220
        },
        "outputId": "e8485c26-6258-4465-bfed-a12202f99a31"
      },
      "source": [
        "dictionary = gensim.corpora.Dictionary(processed_docs)\n",
        "\n",
        "count = 0\n",
        "for k, v in dictionary.iteritems():\n",
        "    print(k, v)\n",
        "    count += 1\n",
        "    if count > 10:\n",
        "        break"
      ],
      "execution_count": 9,
      "outputs": [
        {
          "output_type": "stream",
          "text": [
            "0 account\n",
            "1 accur\n",
            "2 addit\n",
            "3 auto\n",
            "4 awar\n",
            "5 bb\n",
            "6 bill\n",
            "7 bureaus\n",
            "8 car\n",
            "9 carolina\n",
            "10 check\n"
          ],
          "name": "stdout"
        }
      ]
    },
    {
      "cell_type": "markdown",
      "metadata": {
        "id": "RGG4SQ91XBK4",
        "colab_type": "text"
      },
      "source": [
        "Gensim filter_extremes\n",
        "\n",
        "Filter out tokens that appear in\n",
        "\n",
        "    less than 15 documents (absolute number) or\n",
        "    more than 0.5 documents (fraction of total corpus size, not absolute number).\n",
        "    after the above two steps, keep only the first 100000 most frequent tokens."
      ]
    },
    {
      "cell_type": "code",
      "metadata": {
        "id": "9jK_z8TnW5mo",
        "colab_type": "code",
        "colab": {}
      },
      "source": [
        "dictionary.filter_extremes(no_below=15, no_above=0.5, keep_n=100000)"
      ],
      "execution_count": 10,
      "outputs": []
    },
    {
      "cell_type": "markdown",
      "metadata": {
        "id": "aiWGzGl0XPcX",
        "colab_type": "text"
      },
      "source": [
        "Gensim doc2bow\n",
        "\n",
        "For each document we create a dictionary reporting how many\n",
        "words and how many times those words appear. Save this to ‘bow_corpus’, then check our selected document earlier."
      ]
    },
    {
      "cell_type": "code",
      "metadata": {
        "id": "xvlbrh3OXO83",
        "colab_type": "code",
        "colab": {
          "base_uri": "https://localhost:8080/",
          "height": 775
        },
        "outputId": "cf701788-0261-4509-ab41-996eeeab8ba2"
      },
      "source": [
        "bow_corpus = [dictionary.doc2bow(doc) for doc in processed_docs]\n",
        "bow_corpus[4310]"
      ],
      "execution_count": 11,
      "outputs": [
        {
          "output_type": "execute_result",
          "data": {
            "text/plain": [
              "[(12, 3),\n",
              " (15, 2),\n",
              " (18, 1),\n",
              " (28, 1),\n",
              " (29, 2),\n",
              " (44, 1),\n",
              " (50, 3),\n",
              " (68, 1),\n",
              " (73, 1),\n",
              " (76, 2),\n",
              " (80, 1),\n",
              " (88, 2),\n",
              " (96, 1),\n",
              " (108, 1),\n",
              " (126, 2),\n",
              " (139, 2),\n",
              " (167, 1),\n",
              " (173, 1),\n",
              " (179, 1),\n",
              " (180, 1),\n",
              " (197, 1),\n",
              " (200, 3),\n",
              " (209, 1),\n",
              " (223, 2),\n",
              " (229, 1),\n",
              " (232, 1),\n",
              " (233, 1),\n",
              " (303, 2),\n",
              " (317, 1),\n",
              " (360, 3),\n",
              " (406, 2),\n",
              " (506, 1),\n",
              " (521, 1),\n",
              " (527, 2),\n",
              " (568, 1),\n",
              " (622, 1),\n",
              " (881, 1),\n",
              " (1259, 1),\n",
              " (1272, 1),\n",
              " (1365, 1),\n",
              " (1366, 1)]"
            ]
          },
          "metadata": {
            "tags": []
          },
          "execution_count": 11
        }
      ]
    },
    {
      "cell_type": "code",
      "metadata": {
        "id": "Yjvu9yubX5Gg",
        "colab_type": "code",
        "colab": {
          "base_uri": "https://localhost:8080/",
          "height": 775
        },
        "outputId": "4d62b1bc-45d8-4a71-8451-a8c2da2dd4c7"
      },
      "source": [
        "#Preview Bag Of Words for our sample preprocessed document.\n",
        "\n",
        "bow_doc_4310 = bow_corpus[4310]\n",
        "\n",
        "for i in range(len(bow_doc_4310)):\n",
        "    print(\"Word {} (\\\"{}\\\") appears {} time.\".format(bow_doc_4310[i][0], \n",
        "                                               dictionary[bow_doc_4310[i][0]], \n",
        "bow_doc_4310[i][1]))"
      ],
      "execution_count": 12,
      "outputs": [
        {
          "output_type": "stream",
          "text": [
            "Word 12 (\"credit\") appears 3 time.\n",
            "Word 15 (\"file\") appears 2 time.\n",
            "Word 18 (\"inform\") appears 1 time.\n",
            "Word 28 (\"person\") appears 1 time.\n",
            "Word 29 (\"receiv\") appears 2 time.\n",
            "Word 44 (\"call\") appears 1 time.\n",
            "Word 50 (\"debt\") appears 3 time.\n",
            "Word 68 (\"payment\") appears 1 time.\n",
            "Word 73 (\"report\") appears 1 time.\n",
            "Word 76 (\"say\") appears 2 time.\n",
            "Word 80 (\"tell\") appears 1 time.\n",
            "Word 88 (\"go\") appears 2 time.\n",
            "Word 96 (\"wife\") appears 1 time.\n",
            "Word 108 (\"look\") appears 1 time.\n",
            "Word 126 (\"collect\") appears 2 time.\n",
            "Word 139 (\"medic\") appears 2 time.\n",
            "Word 167 (\"sue\") appears 1 time.\n",
            "Word 173 (\"attorney\") appears 1 time.\n",
            "Word 179 (\"explain\") appears 1 time.\n",
            "Word 180 (\"fact\") appears 1 time.\n",
            "Word 197 (\"negat\") appears 1 time.\n",
            "Word 200 (\"pay\") appears 3 time.\n",
            "Word 209 (\"refus\") appears 1 time.\n",
            "Word 223 (\"email\") appears 2 time.\n",
            "Word 229 (\"legal\") appears 1 time.\n",
            "Word 232 (\"month\") appears 1 time.\n",
            "Word 233 (\"new\") appears 1 time.\n",
            "Word 303 (\"servic\") appears 2 time.\n",
            "Word 317 (\"add\") appears 1 time.\n",
            "Word 360 (\"owe\") appears 3 time.\n",
            "Word 406 (\"fee\") appears 2 time.\n",
            "Word 506 (\"impact\") appears 1 time.\n",
            "Word 521 (\"offic\") appears 1 time.\n",
            "Word 527 (\"recoveri\") appears 2 time.\n",
            "Word 568 (\"fill\") appears 1 time.\n",
            "Word 622 (\"caus\") appears 1 time.\n",
            "Word 881 (\"read\") appears 1 time.\n",
            "Word 1259 (\"haven\") appears 1 time.\n",
            "Word 1272 (\"summon\") appears 1 time.\n",
            "Word 1365 (\"bankruptci\") appears 1 time.\n",
            "Word 1366 (\"chapter\") appears 1 time.\n"
          ],
          "name": "stdout"
        }
      ]
    },
    {
      "cell_type": "markdown",
      "metadata": {
        "id": "jQgQONeyYVu9",
        "colab_type": "text"
      },
      "source": [
        "**TF-IDF**\n",
        "\n",
        "Create tf-idf model object using models.TfidfModel on ‘bow_corpus’ and save it to ‘tfidf’, then apply transformation to the entire corpus and call it ‘corpus_tfidf’. Finally we preview TF-IDF scores for our first document."
      ]
    },
    {
      "cell_type": "code",
      "metadata": {
        "id": "ijr47EWaYr5c",
        "colab_type": "code",
        "colab": {
          "base_uri": "https://localhost:8080/",
          "height": 756
        },
        "outputId": "f0234f1a-7a2c-4282-9cb1-83bccf48feb9"
      },
      "source": [
        "from gensim import corpora, models\n",
        "\n",
        "tfidf = models.TfidfModel(bow_corpus)\n",
        "corpus_tfidf = tfidf[bow_corpus]\n",
        "\n",
        "from pprint import pprint\n",
        "\n",
        "for doc in corpus_tfidf:\n",
        "    pprint(doc)\n",
        "    break"
      ],
      "execution_count": 13,
      "outputs": [
        {
          "output_type": "stream",
          "text": [
            "[(0, 0.1263036629400697),\n",
            " (1, 0.08319183242243383),\n",
            " (2, 0.12229072314338907),\n",
            " (3, 0.1140015099475341),\n",
            " (4, 0.6442175089443114),\n",
            " (5, 0.08620082937914617),\n",
            " (6, 0.10224996425531692),\n",
            " (7, 0.11106267186406815),\n",
            " (8, 0.20548421419430446),\n",
            " (9, 0.058814551754840204),\n",
            " (10, 0.06867579820506955),\n",
            " (11, 0.04686450890959886),\n",
            " (12, 0.024698708808834447),\n",
            " (13, 0.12866918414699552),\n",
            " (14, 0.15201369480963434),\n",
            " (15, 0.0587400331454837),\n",
            " (16, 0.08714056814003608),\n",
            " (17, 0.06267965356558183),\n",
            " (18, 0.040262718087121015),\n",
            " (19, 0.12063719697547882),\n",
            " (20, 0.10569431379086351),\n",
            " (21, 0.15923358739598298),\n",
            " (22, 0.09329427211226869),\n",
            " (23, 0.19933125655617578),\n",
            " (24, 0.20758129637213243),\n",
            " (25, 0.07094928454072937),\n",
            " (26, 0.06898561131515528),\n",
            " (27, 0.14598426654660096),\n",
            " (28, 0.06744225220474716),\n",
            " (29, 0.03181707219623938),\n",
            " (30, 0.06934615126162556),\n",
            " (31, 0.14417072506009934),\n",
            " (32, 0.2172025020862819),\n",
            " (33, 0.0646219358060793),\n",
            " (34, 0.08085079972949236),\n",
            " (35, 0.15661786542993206),\n",
            " (36, 0.23980420238674421),\n",
            " (37, 0.10004355451605795),\n",
            " (38, 0.12615146115937617),\n",
            " (39, 0.15414758032043807)]\n"
          ],
          "name": "stdout"
        }
      ]
    },
    {
      "cell_type": "markdown",
      "metadata": {
        "id": "KEGtpLwmZhRk",
        "colab_type": "text"
      },
      "source": [
        "**Running LDA using Bag of Words**\n",
        "\n",
        "Train our lda model using gensim.models.LdaMulticore and save it to ‘lda_model’"
      ]
    },
    {
      "cell_type": "code",
      "metadata": {
        "id": "vUcCGcYOZpST",
        "colab_type": "code",
        "colab": {}
      },
      "source": [
        "lda_model = gensim.models.LdaMulticore(bow_corpus, num_topics=6, id2word=dictionary, passes=2, workers=2)"
      ],
      "execution_count": 14,
      "outputs": []
    },
    {
      "cell_type": "markdown",
      "metadata": {
        "id": "B506Y7Wea0XN",
        "colab_type": "text"
      },
      "source": [
        "For each topic, we will explore the words occuring in that topic and its relative weight."
      ]
    },
    {
      "cell_type": "code",
      "metadata": {
        "id": "lYhnKKzIa-oi",
        "colab_type": "code",
        "colab": {
          "base_uri": "https://localhost:8080/",
          "height": 239
        },
        "outputId": "3e924b8a-1162-4806-d931-5a0a0d7de0b5"
      },
      "source": [
        "for idx, topic in lda_model.print_topics(-1):\n",
        "    print('Topic: {} \\nWords: {}'.format(idx, topic))"
      ],
      "execution_count": 15,
      "outputs": [
        {
          "output_type": "stream",
          "text": [
            "Topic: 0 \n",
            "Words: 0.032*\"card\" + 0.030*\"charg\" + 0.018*\"disput\" + 0.018*\"credit\" + 0.014*\"receiv\" + 0.012*\"transact\" + 0.011*\"fraud\" + 0.011*\"purchas\" + 0.010*\"claim\" + 0.009*\"refund\"\n",
            "Topic: 1 \n",
            "Words: 0.036*\"bank\" + 0.022*\"check\" + 0.020*\"call\" + 0.017*\"tell\" + 0.013*\"number\" + 0.013*\"say\" + 0.013*\"money\" + 0.011*\"phone\" + 0.011*\"day\" + 0.010*\"time\"\n",
            "Topic: 2 \n",
            "Words: 0.041*\"credit\" + 0.036*\"card\" + 0.020*\"fee\" + 0.016*\"balanc\" + 0.016*\"bank\" + 0.015*\"payment\" + 0.013*\"charg\" + 0.012*\"well\" + 0.012*\"month\" + 0.012*\"fargo\"\n",
            "Topic: 3 \n",
            "Words: 0.042*\"loan\" + 0.023*\"mortgag\" + 0.012*\"servic\" + 0.011*\"payment\" + 0.010*\"home\" + 0.009*\"time\" + 0.008*\"receiv\" + 0.008*\"document\" + 0.008*\"request\" + 0.008*\"inform\"\n",
            "Topic: 4 \n",
            "Words: 0.041*\"debt\" + 0.036*\"report\" + 0.034*\"credit\" + 0.026*\"collect\" + 0.016*\"inform\" + 0.015*\"compani\" + 0.011*\"letter\" + 0.011*\"provid\" + 0.010*\"request\" + 0.010*\"send\"\n",
            "Topic: 5 \n",
            "Words: 0.057*\"payment\" + 0.036*\"pay\" + 0.019*\"call\" + 0.019*\"month\" + 0.016*\"tell\" + 0.015*\"time\" + 0.013*\"compani\" + 0.013*\"say\" + 0.011*\"receiv\" + 0.009*\"credit\"\n"
          ],
          "name": "stdout"
        }
      ]
    },
    {
      "cell_type": "markdown",
      "metadata": {
        "id": "GBNhiliHc3sM",
        "colab_type": "text"
      },
      "source": [
        "**Running LDA using TF-IDF**"
      ]
    },
    {
      "cell_type": "code",
      "metadata": {
        "id": "MIoPKPjLc2FY",
        "colab_type": "code",
        "colab": {
          "base_uri": "https://localhost:8080/",
          "height": 128
        },
        "outputId": "977d2cc1-1e51-4de4-8c32-63c5fb21f331"
      },
      "source": [
        "lda_model_tfidf = gensim.models.LdaMulticore(corpus_tfidf, num_topics=6, id2word=dictionary, passes=2, workers=4)\n",
        "\n",
        "for idx, topic in lda_model_tfidf.print_topics(-1):\n",
        "    print('Topic: {} Word: {}'.format(idx, topic))"
      ],
      "execution_count": 16,
      "outputs": [
        {
          "output_type": "stream",
          "text": [
            "Topic: 0 Word: 0.009*\"mortgag\" + 0.009*\"loan\" + 0.005*\"properti\" + 0.005*\"report\" + 0.005*\"home\" + 0.004*\"modif\" + 0.004*\"payment\" + 0.004*\"tax\" + 0.004*\"credit\" + 0.004*\"servic\"\n",
            "Topic: 1 Word: 0.009*\"bonus\" + 0.008*\"promot\" + 0.007*\"card\" + 0.007*\"car\" + 0.007*\"balanc\" + 0.007*\"credit\" + 0.006*\"charg\" + 0.006*\"offer\" + 0.005*\"open\" + 0.005*\"pay\"\n",
            "Topic: 2 Word: 0.018*\"ident\" + 0.018*\"theft\" + 0.009*\"report\" + 0.008*\"victim\" + 0.008*\"belong\" + 0.006*\"number\" + 0.006*\"loan\" + 0.006*\"card\" + 0.006*\"debt\" + 0.006*\"call\"\n",
            "Topic: 3 Word: 0.010*\"bank\" + 0.009*\"check\" + 0.009*\"fargo\" + 0.009*\"well\" + 0.008*\"card\" + 0.006*\"money\" + 0.006*\"close\" + 0.005*\"deposit\" + 0.005*\"tell\" + 0.005*\"charg\"\n",
            "Topic: 4 Word: 0.012*\"payment\" + 0.008*\"card\" + 0.008*\"late\" + 0.007*\"fee\" + 0.006*\"charg\" + 0.006*\"credit\" + 0.006*\"month\" + 0.006*\"pay\" + 0.006*\"loan\" + 0.005*\"bank\"\n",
            "Topic: 5 Word: 0.019*\"debt\" + 0.013*\"collect\" + 0.011*\"report\" + 0.008*\"compani\" + 0.008*\"credit\" + 0.007*\"owe\" + 0.007*\"valid\" + 0.007*\"letter\" + 0.006*\"creditor\" + 0.006*\"disput\"\n"
          ],
          "name": "stdout"
        }
      ]
    },
    {
      "cell_type": "markdown",
      "metadata": {
        "id": "0eQXfpe6eSE6",
        "colab_type": "text"
      },
      "source": [
        "**Performance evaluation by classifying sample document using LDA Bag of Words model**"
      ]
    },
    {
      "cell_type": "code",
      "metadata": {
        "id": "-BxC6rpQeXGA",
        "colab_type": "code",
        "colab": {
          "base_uri": "https://localhost:8080/",
          "height": 1000
        },
        "outputId": "1b19fb7c-3170-4c7a-e9a6-44ba77236b86"
      },
      "source": [
        "processed_docs[4310]"
      ],
      "execution_count": 17,
      "outputs": [
        {
          "output_type": "execute_result",
          "data": {
            "text/plain": [
              "['xx',\n",
              " 'xx',\n",
              " 'receiv',\n",
              " 'summon',\n",
              " 'sue',\n",
              " 'medic',\n",
              " 'recoveri',\n",
              " 'servic',\n",
              " 'xx',\n",
              " 'xx',\n",
              " 'person',\n",
              " 'go',\n",
              " 'offic',\n",
              " 'xxxx',\n",
              " 'xxxx',\n",
              " 'xxxx',\n",
              " 'xxxx',\n",
              " 'xxxx',\n",
              " 'xxxx',\n",
              " 'pllc',\n",
              " 'explain',\n",
              " 'debt',\n",
              " 'owe',\n",
              " 'fact',\n",
              " 'owe',\n",
              " 'file',\n",
              " 'fee',\n",
              " 'attorney',\n",
              " 'fee',\n",
              " 'legal',\n",
              " 'pay',\n",
              " 'xx',\n",
              " 'xx',\n",
              " 'wife',\n",
              " 'file',\n",
              " 'chapter',\n",
              " 'xxxx',\n",
              " 'bankruptci',\n",
              " 'xx',\n",
              " 'xx',\n",
              " 'receiv',\n",
              " 'email',\n",
              " 'xxxx',\n",
              " 'say',\n",
              " 'new',\n",
              " 'collect',\n",
              " 'account',\n",
              " 'add',\n",
              " 'credit',\n",
              " 'read',\n",
              " 'email',\n",
              " 'look',\n",
              " 'credit',\n",
              " 'report',\n",
              " 'pay',\n",
              " 'account',\n",
              " 'xx',\n",
              " 'xx',\n",
              " 'call',\n",
              " 'medic',\n",
              " 'recoveri',\n",
              " 'servic',\n",
              " 'refus',\n",
              " 'inform',\n",
              " 'collect',\n",
              " 'pay',\n",
              " 'fill',\n",
              " 'desput',\n",
              " 'xxxx',\n",
              " 'tell',\n",
              " 'owe',\n",
              " 'debt',\n",
              " 'debt',\n",
              " 'caus',\n",
              " 'negat',\n",
              " 'impact',\n",
              " 'credit',\n",
              " 'month',\n",
              " 'go',\n",
              " 'say',\n",
              " 'haven',\n",
              " 'payment']"
            ]
          },
          "metadata": {
            "tags": []
          },
          "execution_count": 17
        }
      ]
    },
    {
      "cell_type": "code",
      "metadata": {
        "id": "BVVxvokGeax6",
        "colab_type": "code",
        "colab": {
          "base_uri": "https://localhost:8080/",
          "height": 128
        },
        "outputId": "4ed0c5cc-0603-445d-9239-5c3acbeb0b65"
      },
      "source": [
        "for index, score in sorted(lda_model[bow_corpus[4310]], key=lambda tup: -1*tup[1]):\n",
        "    print(\"\\nScore: {}\\t \\nTopic: {}\".format(score, lda_model.print_topic(index, 10)))"
      ],
      "execution_count": 18,
      "outputs": [
        {
          "output_type": "stream",
          "text": [
            "\n",
            "Score: 0.5178062915802002\t \n",
            "Topic: 0.041*\"debt\" + 0.036*\"report\" + 0.034*\"credit\" + 0.026*\"collect\" + 0.016*\"inform\" + 0.015*\"compani\" + 0.011*\"letter\" + 0.011*\"provid\" + 0.010*\"request\" + 0.010*\"send\"\n",
            "\n",
            "Score: 0.47098323702812195\t \n",
            "Topic: 0.057*\"payment\" + 0.036*\"pay\" + 0.019*\"call\" + 0.019*\"month\" + 0.016*\"tell\" + 0.015*\"time\" + 0.013*\"compani\" + 0.013*\"say\" + 0.011*\"receiv\" + 0.009*\"credit\"\n"
          ],
          "name": "stdout"
        }
      ]
    },
    {
      "cell_type": "markdown",
      "metadata": {
        "id": "_mn-f3A4f9Fo",
        "colab_type": "text"
      },
      "source": [
        "Our test document has the highest probability to be part of the topic that our model assigned, which is the accurate classification."
      ]
    },
    {
      "cell_type": "markdown",
      "metadata": {
        "id": "05hXEZ5NgLup",
        "colab_type": "text"
      },
      "source": [
        "Performance evaluation by classifying sample document using LDA TF-IDF model"
      ]
    },
    {
      "cell_type": "code",
      "metadata": {
        "id": "Jp-sW7JngIJN",
        "colab_type": "code",
        "colab": {
          "base_uri": "https://localhost:8080/",
          "height": 72
        },
        "outputId": "b3b74a9c-caa6-4dec-bd6d-739ec9bab290"
      },
      "source": [
        "for index, score in sorted(lda_model_tfidf[bow_corpus[4310]], key=lambda tup: -1*tup[1]):\n",
        "    print(\"\\nScore: {}\\t \\nTopic: {}\".format(score, lda_model_tfidf.print_topic(index, 10)))"
      ],
      "execution_count": 19,
      "outputs": [
        {
          "output_type": "stream",
          "text": [
            "\n",
            "Score: 0.9859766960144043\t \n",
            "Topic: 0.019*\"debt\" + 0.013*\"collect\" + 0.011*\"report\" + 0.008*\"compani\" + 0.008*\"credit\" + 0.007*\"owe\" + 0.007*\"valid\" + 0.007*\"letter\" + 0.006*\"creditor\" + 0.006*\"disput\"\n"
          ],
          "name": "stdout"
        }
      ]
    },
    {
      "cell_type": "markdown",
      "metadata": {
        "id": "kNchH54Kgfv_",
        "colab_type": "text"
      },
      "source": [
        "**Testing model on unseen document**"
      ]
    },
    {
      "cell_type": "code",
      "metadata": {
        "id": "6BWc8L0ugmQ_",
        "colab_type": "code",
        "colab": {
          "base_uri": "https://localhost:8080/",
          "height": 128
        },
        "outputId": "86d98e2a-49e1-4ca2-897a-d2170c5b3fc0"
      },
      "source": [
        "unseen_document = 'They charged me interest on interest during moratorium period '\n",
        "bow_vector = dictionary.doc2bow(preprocess(unseen_document))\n",
        "\n",
        "for index, score in sorted(lda_model[bow_vector], key=lambda tup: -1*tup[1]):\n",
        "    print(\"Score: {}\\t Topic: {}\".format(score, lda_model.print_topic(index, 5)))"
      ],
      "execution_count": 20,
      "outputs": [
        {
          "output_type": "stream",
          "text": [
            "Score: 0.5382722616195679\t Topic: 0.042*\"loan\" + 0.023*\"mortgag\" + 0.012*\"servic\" + 0.011*\"payment\" + 0.010*\"home\"\n",
            "Score: 0.29415684938430786\t Topic: 0.032*\"card\" + 0.030*\"charg\" + 0.018*\"disput\" + 0.018*\"credit\" + 0.014*\"receiv\"\n",
            "Score: 0.04224187880754471\t Topic: 0.041*\"credit\" + 0.036*\"card\" + 0.020*\"fee\" + 0.016*\"balanc\" + 0.016*\"bank\"\n",
            "Score: 0.0418412871658802\t Topic: 0.057*\"payment\" + 0.036*\"pay\" + 0.019*\"call\" + 0.019*\"month\" + 0.016*\"tell\"\n",
            "Score: 0.04178597405552864\t Topic: 0.041*\"debt\" + 0.036*\"report\" + 0.034*\"credit\" + 0.026*\"collect\" + 0.016*\"inform\"\n",
            "Score: 0.04170180857181549\t Topic: 0.036*\"bank\" + 0.022*\"check\" + 0.020*\"call\" + 0.017*\"tell\" + 0.013*\"number\"\n"
          ],
          "name": "stdout"
        }
      ]
    },
    {
      "cell_type": "markdown",
      "metadata": {
        "id": "PZdQL0_xhuA6",
        "colab_type": "text"
      },
      "source": [
        "The text is correctly classified the topic as it belongs to Loan or Mortgage related concerns"
      ]
    }
  ]
}