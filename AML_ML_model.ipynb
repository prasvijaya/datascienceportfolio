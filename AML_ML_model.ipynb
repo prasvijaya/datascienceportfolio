{
  "cells": [
    {
      "cell_type": "markdown",
      "metadata": {
        "id": "view-in-github",
        "colab_type": "text"
      },
      "source": [
        "<a href=\"https://colab.research.google.com/github/prasvijaya/datascienceportfolio/blob/master/AML_ML_model.ipynb\" target=\"_parent\"><img src=\"https://colab.research.google.com/assets/colab-badge.svg\" alt=\"Open In Colab\"/></a>"
      ]
    },
    {
      "cell_type": "markdown",
      "id": "b9db8b37",
      "metadata": {
        "id": "b9db8b37"
      },
      "source": [
        "<h1 align=\"center\"> AML Detector </h1>\n",
        "\n",
        "<h2> AML </h2>\n",
        "\n",
        "In this kernel we will use various predictive models to see how accurate they  are in detecting whether a transaction is a normal payment or a fraud\n",
        "\n",
        "<h3> Summary: </h3>\n",
        "<ul>\n",
        "<li>Three Datasets are given to perform analysis. Accounts, Alerts, Transactions. \n",
        "<li> Accounts Dataset contains the information about the Basic Account information. </li>\n",
        " <li> Alerts Dataset contains the information about the detailed alert information with various Alert IDs. </li>   \n",
        "<li> Transactions Dataset contains information about each and every transaction originated from Sender Account ID over the period of time . </li>\n",
        "</ul>"
      ]
    },
    {
      "cell_type": "code",
      "execution_count": null,
      "id": "a6fce054",
      "metadata": {
        "id": "a6fce054"
      },
      "outputs": [],
      "source": [
        "#Import necessary modules\n",
        "\n",
        "#data processing package\n",
        "import pandas as pd\n",
        "\n",
        "#linear algebra package\n",
        "import numpy as np\n",
        "\n",
        "#visualisation packages\n",
        "import matplotlib.pyplot as plt\n",
        "import seaborn as sns\n",
        "\n",
        "sns.set()"
      ]
    },
    {
      "cell_type": "code",
      "execution_count": null,
      "id": "15ddf90e",
      "metadata": {
        "id": "15ddf90e"
      },
      "outputs": [],
      "source": [
        "#necessary Scikit-learn modules\n",
        "\n",
        "#necessary scikit learn libraries\n",
        "from sklearn.model_selection import train_test_split, cross_val_score, GridSearchCV\n",
        "from sklearn.preprocessing import LabelEncoder\n",
        "from sklearn.model_selection import StratifiedShuffleSplit, StratifiedKFold,ShuffleSplit\n",
        "from sklearn.ensemble import RandomForestClassifier\n",
        "from sklearn.metrics import confusion_matrix, classification_report, accuracy_score, recall_score\n",
        "from sklearn.linear_model import LogisticRegression\n",
        "from sklearn.pipeline import Pipeline"
      ]
    },
    {
      "cell_type": "markdown",
      "id": "45235dd1",
      "metadata": {
        "id": "45235dd1"
      },
      "source": [
        "### Read all the csv files"
      ]
    },
    {
      "cell_type": "code",
      "execution_count": null,
      "id": "101ae36b",
      "metadata": {
        "id": "101ae36b",
        "outputId": "74682175-12d6-428a-b0a2-6d897f0e2980"
      },
      "outputs": [
        {
          "data": {
            "text/html": [
              "<div>\n",
              "<style scoped>\n",
              "    .dataframe tbody tr th:only-of-type {\n",
              "        vertical-align: middle;\n",
              "    }\n",
              "\n",
              "    .dataframe tbody tr th {\n",
              "        vertical-align: top;\n",
              "    }\n",
              "\n",
              "    .dataframe thead th {\n",
              "        text-align: right;\n",
              "    }\n",
              "</style>\n",
              "<table border=\"1\" class=\"dataframe\">\n",
              "  <thead>\n",
              "    <tr style=\"text-align: right;\">\n",
              "      <th></th>\n",
              "      <th>ACCOUNT_ID</th>\n",
              "      <th>CUSTOMER_ID</th>\n",
              "      <th>INIT_BALANCE</th>\n",
              "      <th>COUNTRY</th>\n",
              "      <th>ACCOUNT_TYPE</th>\n",
              "      <th>IS_FRAUD</th>\n",
              "      <th>TX_BEHAVIOR_ID</th>\n",
              "    </tr>\n",
              "  </thead>\n",
              "  <tbody>\n",
              "    <tr>\n",
              "      <th>0</th>\n",
              "      <td>0</td>\n",
              "      <td>C_0</td>\n",
              "      <td>184.44</td>\n",
              "      <td>US</td>\n",
              "      <td>I</td>\n",
              "      <td>False</td>\n",
              "      <td>1</td>\n",
              "    </tr>\n",
              "    <tr>\n",
              "      <th>1</th>\n",
              "      <td>1</td>\n",
              "      <td>C_1</td>\n",
              "      <td>175.80</td>\n",
              "      <td>US</td>\n",
              "      <td>I</td>\n",
              "      <td>False</td>\n",
              "      <td>1</td>\n",
              "    </tr>\n",
              "    <tr>\n",
              "      <th>2</th>\n",
              "      <td>2</td>\n",
              "      <td>C_2</td>\n",
              "      <td>142.06</td>\n",
              "      <td>US</td>\n",
              "      <td>I</td>\n",
              "      <td>False</td>\n",
              "      <td>1</td>\n",
              "    </tr>\n",
              "    <tr>\n",
              "      <th>3</th>\n",
              "      <td>3</td>\n",
              "      <td>C_3</td>\n",
              "      <td>125.89</td>\n",
              "      <td>US</td>\n",
              "      <td>I</td>\n",
              "      <td>False</td>\n",
              "      <td>1</td>\n",
              "    </tr>\n",
              "    <tr>\n",
              "      <th>4</th>\n",
              "      <td>4</td>\n",
              "      <td>C_4</td>\n",
              "      <td>151.13</td>\n",
              "      <td>US</td>\n",
              "      <td>I</td>\n",
              "      <td>False</td>\n",
              "      <td>1</td>\n",
              "    </tr>\n",
              "  </tbody>\n",
              "</table>\n",
              "</div>"
            ],
            "text/plain": [
              "   ACCOUNT_ID CUSTOMER_ID  INIT_BALANCE COUNTRY ACCOUNT_TYPE  IS_FRAUD  \\\n",
              "0           0         C_0        184.44      US            I     False   \n",
              "1           1         C_1        175.80      US            I     False   \n",
              "2           2         C_2        142.06      US            I     False   \n",
              "3           3         C_3        125.89      US            I     False   \n",
              "4           4         C_4        151.13      US            I     False   \n",
              "\n",
              "   TX_BEHAVIOR_ID  \n",
              "0               1  \n",
              "1               1  \n",
              "2               1  \n",
              "3               1  \n",
              "4               1  "
            ]
          },
          "execution_count": 3,
          "metadata": {},
          "output_type": "execute_result"
        }
      ],
      "source": [
        "#import accounts dataset\n",
        "accounts= pd.read_csv(r'/Users/prasanna/Desktop/AML Data/accounts.csv')\n",
        "accounts.head()"
      ]
    },
    {
      "cell_type": "code",
      "execution_count": null,
      "id": "a423c0c6",
      "metadata": {
        "id": "a423c0c6",
        "outputId": "740a6686-2f99-443e-fc3a-7e942266a60a"
      },
      "outputs": [
        {
          "name": "stdout",
          "output_type": "stream",
          "text": [
            "(10000, 7)\n",
            "<class 'pandas.core.frame.DataFrame'>\n",
            "RangeIndex: 10000 entries, 0 to 9999\n",
            "Data columns (total 7 columns):\n",
            " #   Column          Non-Null Count  Dtype  \n",
            "---  ------          --------------  -----  \n",
            " 0   ACCOUNT_ID      10000 non-null  int64  \n",
            " 1   CUSTOMER_ID     10000 non-null  object \n",
            " 2   INIT_BALANCE    10000 non-null  float64\n",
            " 3   COUNTRY         10000 non-null  object \n",
            " 4   ACCOUNT_TYPE    10000 non-null  object \n",
            " 5   IS_FRAUD        10000 non-null  bool   \n",
            " 6   TX_BEHAVIOR_ID  10000 non-null  int64  \n",
            "dtypes: bool(1), float64(1), int64(2), object(3)\n",
            "memory usage: 478.6+ KB\n"
          ]
        }
      ],
      "source": [
        "#Understanding accounts dataset\n",
        "print(accounts.shape)\n",
        "\n",
        "accounts.info()"
      ]
    },
    {
      "cell_type": "markdown",
      "id": "01491054",
      "metadata": {
        "id": "01491054"
      },
      "source": [
        "Our initial understanding is that our accounts dataset have 10000 observation spread across in 7 features/columns. IS_FRAUD could be our target/known label to learn and predict using ML algorithm."
      ]
    },
    {
      "cell_type": "code",
      "execution_count": null,
      "id": "64e3cb9c",
      "metadata": {
        "id": "64e3cb9c",
        "outputId": "0d1cf8ef-584d-4b21-a3bd-359a3cee8b3d"
      },
      "outputs": [
        {
          "data": {
            "text/plain": [
              "{'ACCOUNT_ID': array([   0,    1,    2, ..., 9997, 9998, 9999]),\n",
              " 'CUSTOMER_ID': array(['C_0', 'C_1', 'C_2', ..., 'C_9997', 'C_9998', 'C_9999'],\n",
              "       dtype=object),\n",
              " 'INIT_BALANCE': array([184.44, 175.8 , 142.06, ..., 260.85, 323.79, 317.65]),\n",
              " 'COUNTRY': array(['US'], dtype=object),\n",
              " 'ACCOUNT_TYPE': array(['I'], dtype=object),\n",
              " 'IS_FRAUD': array([False,  True]),\n",
              " 'TX_BEHAVIOR_ID': array([1, 2, 3, 4, 5])}"
            ]
          },
          "execution_count": 5,
          "metadata": {},
          "output_type": "execute_result"
        }
      ],
      "source": [
        "# Let's get unique values for each category\n",
        "unique_vals = {\n",
        "    k: accounts[k].unique()\n",
        "    for k in accounts.columns\n",
        "}\n",
        "\n",
        "unique_vals"
      ]
    },
    {
      "cell_type": "markdown",
      "id": "9c0d1a42",
      "metadata": {
        "id": "9c0d1a42"
      },
      "source": [
        "    ACCOUNT_ID has unique account value given to Account Holders. CUSTOMER_ID is nothing but the ACCOUNT_ID prefixed with 'C_'.\n",
        "    INIT_BALANCE is a float type columns contains account balance in numericals\n",
        "    COUNTRY, ACCOUNT_TYPE holds only one value in entire dataset\n",
        "    IS_FRAUD column is of Bool datatype contains value of TRUE or FALSE\n",
        "    TX_BEHAVIOR_ID is integer column contains value of 1,2,3,4,5"
      ]
    },
    {
      "cell_type": "code",
      "execution_count": null,
      "id": "b60bc9fd",
      "metadata": {
        "scrolled": true,
        "id": "b60bc9fd",
        "outputId": "7f699369-e577-4653-8582-717076bb0181"
      },
      "outputs": [
        {
          "data": {
            "text/plain": [
              "False    8315\n",
              "True     1685\n",
              "Name: IS_FRAUD, dtype: int64"
            ]
          },
          "execution_count": 6,
          "metadata": {},
          "output_type": "execute_result"
        }
      ],
      "source": [
        "accounts['IS_FRAUD'].value_counts()"
      ]
    },
    {
      "cell_type": "markdown",
      "id": "6a32e921",
      "metadata": {
        "id": "6a32e921"
      },
      "source": [
        "IS_FRAUD is our target label to predict whether the said transaction is fraudulent or non-fraudulent is our objective. Since, we know our target label, we are implementing Supervised Learning ML algorithm to predict.\n",
        "Before all these, we need to explore other datasets as well"
      ]
    },
    {
      "cell_type": "code",
      "execution_count": null,
      "id": "19b838d5",
      "metadata": {
        "id": "19b838d5",
        "outputId": "ebf1cd41-dbd7-470b-d27b-812a69b81b01"
      },
      "outputs": [
        {
          "data": {
            "text/html": [
              "<div>\n",
              "<style scoped>\n",
              "    .dataframe tbody tr th:only-of-type {\n",
              "        vertical-align: middle;\n",
              "    }\n",
              "\n",
              "    .dataframe tbody tr th {\n",
              "        vertical-align: top;\n",
              "    }\n",
              "\n",
              "    .dataframe thead th {\n",
              "        text-align: right;\n",
              "    }\n",
              "</style>\n",
              "<table border=\"1\" class=\"dataframe\">\n",
              "  <thead>\n",
              "    <tr style=\"text-align: right;\">\n",
              "      <th></th>\n",
              "      <th>ALERT_ID</th>\n",
              "      <th>ALERT_TYPE</th>\n",
              "      <th>IS_FRAUD</th>\n",
              "      <th>TX_ID</th>\n",
              "      <th>SENDER_ACCOUNT_ID</th>\n",
              "      <th>RECEIVER_ACCOUNT_ID</th>\n",
              "      <th>TX_TYPE</th>\n",
              "      <th>TX_AMOUNT</th>\n",
              "      <th>TIMESTAMP</th>\n",
              "    </tr>\n",
              "  </thead>\n",
              "  <tbody>\n",
              "    <tr>\n",
              "      <th>0</th>\n",
              "      <td>193</td>\n",
              "      <td>fan_in</td>\n",
              "      <td>True</td>\n",
              "      <td>82</td>\n",
              "      <td>6976</td>\n",
              "      <td>9739</td>\n",
              "      <td>TRANSFER</td>\n",
              "      <td>4.85</td>\n",
              "      <td>0</td>\n",
              "    </tr>\n",
              "    <tr>\n",
              "      <th>1</th>\n",
              "      <td>377</td>\n",
              "      <td>cycle</td>\n",
              "      <td>True</td>\n",
              "      <td>949</td>\n",
              "      <td>5776</td>\n",
              "      <td>2570</td>\n",
              "      <td>TRANSFER</td>\n",
              "      <td>10.27</td>\n",
              "      <td>0</td>\n",
              "    </tr>\n",
              "    <tr>\n",
              "      <th>2</th>\n",
              "      <td>189</td>\n",
              "      <td>fan_in</td>\n",
              "      <td>True</td>\n",
              "      <td>6280</td>\n",
              "      <td>9999</td>\n",
              "      <td>9530</td>\n",
              "      <td>TRANSFER</td>\n",
              "      <td>2.74</td>\n",
              "      <td>1</td>\n",
              "    </tr>\n",
              "    <tr>\n",
              "      <th>3</th>\n",
              "      <td>377</td>\n",
              "      <td>cycle</td>\n",
              "      <td>True</td>\n",
              "      <td>7999</td>\n",
              "      <td>1089</td>\n",
              "      <td>7352</td>\n",
              "      <td>TRANSFER</td>\n",
              "      <td>10.27</td>\n",
              "      <td>1</td>\n",
              "    </tr>\n",
              "    <tr>\n",
              "      <th>4</th>\n",
              "      <td>130</td>\n",
              "      <td>fan_in</td>\n",
              "      <td>True</td>\n",
              "      <td>12975</td>\n",
              "      <td>7025</td>\n",
              "      <td>9708</td>\n",
              "      <td>TRANSFER</td>\n",
              "      <td>3.53</td>\n",
              "      <td>2</td>\n",
              "    </tr>\n",
              "  </tbody>\n",
              "</table>\n",
              "</div>"
            ],
            "text/plain": [
              "   ALERT_ID ALERT_TYPE  IS_FRAUD  TX_ID  SENDER_ACCOUNT_ID  \\\n",
              "0       193     fan_in      True     82               6976   \n",
              "1       377      cycle      True    949               5776   \n",
              "2       189     fan_in      True   6280               9999   \n",
              "3       377      cycle      True   7999               1089   \n",
              "4       130     fan_in      True  12975               7025   \n",
              "\n",
              "   RECEIVER_ACCOUNT_ID   TX_TYPE  TX_AMOUNT  TIMESTAMP  \n",
              "0                 9739  TRANSFER       4.85          0  \n",
              "1                 2570  TRANSFER      10.27          0  \n",
              "2                 9530  TRANSFER       2.74          1  \n",
              "3                 7352  TRANSFER      10.27          1  \n",
              "4                 9708  TRANSFER       3.53          2  "
            ]
          },
          "execution_count": 7,
          "metadata": {},
          "output_type": "execute_result"
        }
      ],
      "source": [
        "#import alerts dataset\n",
        "alerts= pd.read_csv(r'/Users/prasanna/Desktop/AML Data/alerts.csv')\n",
        "alerts.head()"
      ]
    },
    {
      "cell_type": "code",
      "execution_count": null,
      "id": "0fcb084b",
      "metadata": {
        "id": "0fcb084b",
        "outputId": "6cad9540-5696-4066-ca49-165a817c3c82"
      },
      "outputs": [
        {
          "name": "stdout",
          "output_type": "stream",
          "text": [
            "(1719, 9)\n",
            "<class 'pandas.core.frame.DataFrame'>\n",
            "RangeIndex: 1719 entries, 0 to 1718\n",
            "Data columns (total 9 columns):\n",
            " #   Column               Non-Null Count  Dtype  \n",
            "---  ------               --------------  -----  \n",
            " 0   ALERT_ID             1719 non-null   int64  \n",
            " 1   ALERT_TYPE           1719 non-null   object \n",
            " 2   IS_FRAUD             1719 non-null   bool   \n",
            " 3   TX_ID                1719 non-null   int64  \n",
            " 4   SENDER_ACCOUNT_ID    1719 non-null   int64  \n",
            " 5   RECEIVER_ACCOUNT_ID  1719 non-null   int64  \n",
            " 6   TX_TYPE              1719 non-null   object \n",
            " 7   TX_AMOUNT            1719 non-null   float64\n",
            " 8   TIMESTAMP            1719 non-null   int64  \n",
            "dtypes: bool(1), float64(1), int64(5), object(2)\n",
            "memory usage: 109.2+ KB\n"
          ]
        }
      ],
      "source": [
        "#Understanding alerts dataset\n",
        "print(alerts.shape)\n",
        "\n",
        "alerts.info()"
      ]
    },
    {
      "cell_type": "markdown",
      "id": "8a5fb92e",
      "metadata": {
        "id": "8a5fb92e"
      },
      "source": [
        "Our initial understanding is that our alerts dataset have 1719 observation spread across in 8 features/columns. IS_FRAUD could be our target/known label to learn and predict using ML algorithm."
      ]
    },
    {
      "cell_type": "code",
      "execution_count": null,
      "id": "3eedfe1f",
      "metadata": {
        "id": "3eedfe1f",
        "outputId": "533d30d6-6320-46f9-a00b-7db703c42d4a"
      },
      "outputs": [
        {
          "data": {
            "text/plain": [
              "{'ALERT_ID': array([193, 377, 189, 130, 183, 267, 176, 170,   8, 202, 260, 346, 115,\n",
              "        374, 317,  41, 179,  39,  61,  32,  14, 323, 174, 166, 356, 100,\n",
              "        242,  88, 363,  68, 138, 145, 330, 302, 387, 351,  79, 322, 134,\n",
              "        326, 342,  66, 339, 258,  82,  75, 192, 241, 350, 284, 268, 369,\n",
              "        150, 239, 380, 257, 123,  25, 252,  59, 190, 282, 313, 151,  87,\n",
              "        365, 329, 214,  73,   1, 230, 210, 386,  54, 299, 102, 160, 114,\n",
              "         20,  43, 295,  24, 185, 249, 296,  37, 218, 235, 216, 291, 336,\n",
              "        196, 245,  97, 237, 389, 248,  91,  42, 318, 273, 304, 111, 355,\n",
              "        132, 398, 104, 259, 379, 213, 340, 327,  52, 315,  40, 225, 122,\n",
              "         58, 357,  30, 343, 233, 352, 382, 121, 359, 226, 393, 238, 141,\n",
              "        396, 286,  10, 376, 178, 362, 131,  51, 246,  12, 142, 287, 147,\n",
              "         48,  78, 103, 109, 278, 305,  96, 149,  55, 154,  83, 310,  29,\n",
              "        269, 117, 277, 112,  89, 227,  22, 275,  81,  57, 345, 129, 152,\n",
              "        319, 181, 347, 146,  84, 331, 271,   7, 110, 392, 324,  70, 349,\n",
              "        308, 274, 194,  17,  46, 200,  85, 270,  11, 165,  31, 328,  34,\n",
              "         56,  99,  33,  71, 198, 203, 229, 301, 128, 397,  62, 255,  28,\n",
              "        364, 263, 265, 169, 254, 378, 370,  13, 262,  45, 101, 236, 383,\n",
              "        279,  80, 118, 332,   9, 211, 205, 375, 161, 289, 140, 182, 105,\n",
              "         60, 303, 119, 366,  26, 228, 224, 167,   4, 113, 371, 172, 155,\n",
              "        157, 208, 360, 173, 288, 209, 197, 372, 388, 325,  94,  77, 290,\n",
              "         76, 312, 116, 220, 333, 127, 206, 298, 395, 244, 107,   5, 137,\n",
              "         95, 292,  36, 126, 283,  23, 188, 186, 337,  64, 293,  19, 361,\n",
              "        334, 136, 212, 120, 307,  65,  67, 280,  47, 300, 390, 253,  18,\n",
              "        199, 135, 266, 297,  63, 367, 276, 399, 311, 306, 171, 373,   0,\n",
              "        108,  27, 250, 139,  92, 106,  72, 125, 217, 159, 204, 391, 175,\n",
              "        243, 201, 180, 191, 385, 309, 264, 148, 232, 335, 156, 354, 195,\n",
              "        353, 124,  15, 133,  50, 368, 247, 168, 285, 187,  49, 256, 177,\n",
              "        221,  35, 162,  98, 251,   6,  38, 358,   2, 158, 219, 223,  93,\n",
              "        320, 163, 215, 281, 184, 143, 316, 240,  16,   3, 153,  69,  74,\n",
              "        164,  21, 222,  86, 381, 348, 321, 207,  53, 144, 294, 231, 272,\n",
              "         44]),\n",
              " 'ALERT_TYPE': array(['fan_in', 'cycle'], dtype=object),\n",
              " 'IS_FRAUD': array([ True]),\n",
              " 'TX_ID': array([     82,     949,    6280, ..., 1317852, 1322020, 1322711]),\n",
              " 'SENDER_ACCOUNT_ID': array([6976, 5776, 9999, ..., 9446, 6969, 8908]),\n",
              " 'RECEIVER_ACCOUNT_ID': array([9739, 2570, 9530, ..., 8709,  790, 3629]),\n",
              " 'TX_TYPE': array(['TRANSFER'], dtype=object),\n",
              " 'TX_AMOUNT': array([ 4.85, 10.27,  2.74,  3.53,  3.87, 16.8 ,  2.72,  3.28,  3.96,\n",
              "         3.63, 12.93, 11.85, 10.39,  3.88,  3.02, 10.6 , 15.86,  2.71,\n",
              "         4.45,  3.18,  3.47,  4.49,  3.59,  3.55,  3.74,  3.94,  4.38,\n",
              "         4.33,  4.57, 17.04,  3.38,  4.69,  4.02,  4.94,  2.94,  4.09,\n",
              "         2.76, 18.53,  3.14, 12.56,  4.03,  4.31, 18.98,  4.39,  3.62,\n",
              "         4.84,  3.45,  4.78,  4.28,  4.25,  3.09,  3.19,  2.99,  3.97,\n",
              "         4.46, 19.34,  3.51,  3.4 ,  3.  ,  3.99,  4.7 , 11.75,  3.76,\n",
              "         3.11,  2.75, 19.62,  4.6 ,  3.08,  4.36, 14.52,  2.86,  3.33,\n",
              "         3.64,  3.46,  3.17, 19.29,  3.26,  4.12,  2.87,  3.25,  3.24,\n",
              "         3.13, 17.59,  2.83, 16.45,  2.73, 17.75, 11.72,  3.27,  4.58,\n",
              "         2.62, 10.14, 15.42,  4.54, 17.01, 16.64,  2.95, 14.39,  4.48,\n",
              "         3.57, 11.71, 15.93, 16.44,  4.59,  2.77,  3.54,  4.47, 19.92,\n",
              "        10.53, 12.6 ,  4.1 , 15.82, 13.56,  4.22,  3.07, 12.48,  3.78,\n",
              "         3.34, 14.31,  4.44, 16.88, 13.47,  3.79,  3.3 , 11.93,  3.95,\n",
              "         3.41,  4.01,  3.9 ,  4.82,  3.65, 10.13,  4.05,  3.68,  3.5 ,\n",
              "        16.21, 16.51,  3.35,  4.  , 14.13, 18.29,  4.42, 16.7 , 14.  ,\n",
              "         4.2 , 16.29,  4.53, 10.69,  3.71,  3.84, 12.81,  4.3 , 14.22,\n",
              "        12.25,  3.75,  4.89, 16.09,  3.52,  3.89, 11.52, 15.02,  3.29,\n",
              "         2.68, 19.14,  4.06, 12.15,  3.61, 13.22,  2.66, 19.6 ,  4.15,\n",
              "         2.67,  4.17, 11.02, 16.04, 15.43,  4.16, 19.47,  2.69, 16.36,\n",
              "         3.43, 17.54,  4.21,  3.04, 14.96, 18.56,  3.36, 10.92, 15.32,\n",
              "         4.24, 10.1 , 17.36,  4.14,  4.18, 13.15, 17.2 ,  2.6 ,  3.16,\n",
              "         4.35, 10.3 , 13.42,  4.4 ,  3.98,  3.6 , 15.6 ,  3.39,  4.04,\n",
              "         4.62,  4.34, 12.64,  4.86, 12.39,  3.03,  3.23,  3.7 ,  3.82,\n",
              "         3.49,  3.69,  2.85, 14.17,  3.66, 10.06,  3.48,  4.52,  2.93,\n",
              "         3.91,  3.22, 11.4 ,  2.92,  3.06, 14.44,  3.81,  4.61,  3.32,\n",
              "        15.81,  2.98, 14.09,  4.29, 16.62, 19.22, 19.02,  3.21, 12.84,\n",
              "         4.51, 14.78, 10.73,  4.75,  2.91,  2.89, 15.36, 11.3 ,  3.44,\n",
              "         2.8 ,  4.27, 17.32,  3.01,  4.19,  4.73, 17.17,  4.32, 11.25,\n",
              "         4.26,  4.74,  4.63,  2.97,  3.12,  4.71, 17.64, 18.54, 17.29,\n",
              "         4.5 , 11.5 , 13.43, 16.85, 17.85, 16.79,  3.86, 16.61, 14.48,\n",
              "        15.15,  3.42,  2.84, 15.  , 14.1 , 13.1 ,  3.58, 15.31, 10.44,\n",
              "         3.83, 12.75, 13.5 ,  3.67,  3.37, 14.63,  4.64, 18.78, 19.18,\n",
              "         3.92,  4.87,  3.31, 19.  , 15.64,  4.68, 14.27,  4.13,  3.8 ,\n",
              "        11.1 ,  3.2 , 13.02,  4.43, 16.77, 10.18, 17.62,  3.77, 11.68,\n",
              "         4.83,  4.37, 16.71, 16.27,  4.41,  4.08, 11.27,  4.81, 10.43,\n",
              "        18.79, 10.36, 14.77, 19.12,  4.65,  4.56, 14.55, 10.94, 16.42,\n",
              "        18.65,  4.67,  3.85, 16.07,  4.98,  3.1 ,  3.15, 15.3 , 10.81,\n",
              "        12.02, 13.75,  3.56, 18.64, 14.81, 14.59, 13.63, 15.27,  2.61,\n",
              "        10.64, 13.09, 18.68,  4.8 , 18.5 , 19.03,  2.63,  2.96, 15.03,\n",
              "        10.51, 11.43, 19.54, 13.68, 13.76,  2.54, 16.6 , 10.48, 19.23,\n",
              "         3.73, 13.14,  2.7 , 18.61,  4.96,  4.77, 13.93,  3.93, 11.64,\n",
              "         3.05, 10.35, 18.51, 13.52, 19.45, 16.9 , 17.63, 18.06, 14.85,\n",
              "         2.78, 10.98, 12.14, 16.31,  2.81]),\n",
              " 'TIMESTAMP': array([  0,   1,   2,   3,   4,   5,   6,   7,   8,   9,  10,  11,  12,\n",
              "         13,  14,  15,  16,  17,  18,  19,  20,  21,  22,  23,  24,  25,\n",
              "         26,  27,  28,  29,  30,  31,  32,  33,  34,  35,  36,  37,  38,\n",
              "         39,  40,  41,  42,  43,  44,  45,  46,  47,  48,  49,  50,  51,\n",
              "         52,  53,  54,  55,  56,  57,  58,  59,  60,  61,  62,  63,  64,\n",
              "         65,  66,  67,  68,  69,  70,  71,  72,  73,  74,  75,  76,  77,\n",
              "         78,  79,  80,  81,  82,  83,  84,  85,  86,  87,  88,  89,  90,\n",
              "         91,  92,  93,  94,  95,  96,  97,  98,  99, 100, 101, 102, 103,\n",
              "        104, 105, 106, 107, 108, 109, 110, 111, 112, 113, 114, 115, 116,\n",
              "        117, 118, 119, 120, 121, 122, 123, 124, 125, 126, 127, 128, 129,\n",
              "        130, 131, 132, 133, 134, 135, 136, 137, 138, 139, 140, 141, 142,\n",
              "        143, 144, 145, 146, 147, 148, 149, 150, 151, 152, 153, 154, 155,\n",
              "        156, 157, 158, 159, 160, 161, 162, 163, 164, 165, 166, 167, 168,\n",
              "        169, 170, 171, 172, 173, 174, 175, 176, 177, 178, 179, 180, 181,\n",
              "        182, 183, 184, 185, 186, 187, 188, 189, 190, 191, 192, 193, 194,\n",
              "        195, 196, 197, 198, 199])}"
            ]
          },
          "execution_count": 9,
          "metadata": {},
          "output_type": "execute_result"
        }
      ],
      "source": [
        "# Let's get unique values for each category\n",
        "unique_vals = {\n",
        "    k: alerts[k].unique()\n",
        "    for k in alerts.columns\n",
        "}\n",
        "\n",
        "unique_vals"
      ]
    },
    {
      "cell_type": "markdown",
      "id": "3cf8ec1b",
      "metadata": {
        "id": "3cf8ec1b"
      },
      "source": [
        "    ALERT_ID contains the alert code generated on each transaction to Account Holders. \n",
        "    ALERT_TYPE contains two values fan_in and cycle.\n",
        "    IS_FRAUD contains only TRUE value in alerts dataset\n",
        "    TX_ID is the unique id generated on each transactions\n",
        "    SENDER_ACCOUNT_ID is account id where the transaction is initiated. account id are in the range from 0-9999\n",
        "    RECEIVER_ACCOUNT_ID is account id to which the transaction is made. account id are in the range from 0-9999\n",
        "    TX_TYPE holds only one value in entire dataset\n",
        "    TX_AMOUNT is a float type column about the amount in numericals\n",
        "    TIMESTAMP holds the value of date that the transaction is made."
      ]
    },
    {
      "cell_type": "code",
      "execution_count": null,
      "id": "98874ebe",
      "metadata": {
        "scrolled": true,
        "id": "98874ebe",
        "outputId": "8586bb4f-60bc-47a1-9249-c8499a37c1be"
      },
      "outputs": [
        {
          "data": {
            "text/plain": [
              "True    1719\n",
              "Name: IS_FRAUD, dtype: int64"
            ]
          },
          "execution_count": 10,
          "metadata": {},
          "output_type": "execute_result"
        }
      ],
      "source": [
        "alerts['IS_FRAUD'].value_counts()"
      ]
    },
    {
      "cell_type": "markdown",
      "id": "a7e40cf1",
      "metadata": {
        "scrolled": false,
        "id": "a7e40cf1"
      },
      "source": [
        "IS_FRAUD our target column only contains TRUE value in alerts dataset"
      ]
    },
    {
      "cell_type": "code",
      "execution_count": null,
      "id": "164a961d",
      "metadata": {
        "scrolled": false,
        "id": "164a961d",
        "outputId": "80ff985d-c6e9-4c99-9d88-8325e3f95c76"
      },
      "outputs": [
        {
          "data": {
            "text/html": [
              "<div>\n",
              "<style scoped>\n",
              "    .dataframe tbody tr th:only-of-type {\n",
              "        vertical-align: middle;\n",
              "    }\n",
              "\n",
              "    .dataframe tbody tr th {\n",
              "        vertical-align: top;\n",
              "    }\n",
              "\n",
              "    .dataframe thead th {\n",
              "        text-align: right;\n",
              "    }\n",
              "</style>\n",
              "<table border=\"1\" class=\"dataframe\">\n",
              "  <thead>\n",
              "    <tr style=\"text-align: right;\">\n",
              "      <th></th>\n",
              "      <th>TX_ID</th>\n",
              "      <th>SENDER_ACCOUNT_ID</th>\n",
              "      <th>RECEIVER_ACCOUNT_ID</th>\n",
              "      <th>TX_TYPE</th>\n",
              "      <th>TX_AMOUNT</th>\n",
              "      <th>TIMESTAMP</th>\n",
              "      <th>IS_FRAUD</th>\n",
              "      <th>ALERT_ID</th>\n",
              "    </tr>\n",
              "  </thead>\n",
              "  <tbody>\n",
              "    <tr>\n",
              "      <th>0</th>\n",
              "      <td>1</td>\n",
              "      <td>6456</td>\n",
              "      <td>9069</td>\n",
              "      <td>TRANSFER</td>\n",
              "      <td>465.05</td>\n",
              "      <td>0</td>\n",
              "      <td>False</td>\n",
              "      <td>-1</td>\n",
              "    </tr>\n",
              "    <tr>\n",
              "      <th>1</th>\n",
              "      <td>2</td>\n",
              "      <td>7516</td>\n",
              "      <td>9543</td>\n",
              "      <td>TRANSFER</td>\n",
              "      <td>564.64</td>\n",
              "      <td>0</td>\n",
              "      <td>False</td>\n",
              "      <td>-1</td>\n",
              "    </tr>\n",
              "    <tr>\n",
              "      <th>2</th>\n",
              "      <td>3</td>\n",
              "      <td>2445</td>\n",
              "      <td>9356</td>\n",
              "      <td>TRANSFER</td>\n",
              "      <td>598.94</td>\n",
              "      <td>0</td>\n",
              "      <td>False</td>\n",
              "      <td>-1</td>\n",
              "    </tr>\n",
              "    <tr>\n",
              "      <th>3</th>\n",
              "      <td>4</td>\n",
              "      <td>2576</td>\n",
              "      <td>4617</td>\n",
              "      <td>TRANSFER</td>\n",
              "      <td>466.07</td>\n",
              "      <td>0</td>\n",
              "      <td>False</td>\n",
              "      <td>-1</td>\n",
              "    </tr>\n",
              "    <tr>\n",
              "      <th>4</th>\n",
              "      <td>5</td>\n",
              "      <td>3524</td>\n",
              "      <td>1773</td>\n",
              "      <td>TRANSFER</td>\n",
              "      <td>405.63</td>\n",
              "      <td>0</td>\n",
              "      <td>False</td>\n",
              "      <td>-1</td>\n",
              "    </tr>\n",
              "  </tbody>\n",
              "</table>\n",
              "</div>"
            ],
            "text/plain": [
              "   TX_ID  SENDER_ACCOUNT_ID  RECEIVER_ACCOUNT_ID   TX_TYPE  TX_AMOUNT  \\\n",
              "0      1               6456                 9069  TRANSFER     465.05   \n",
              "1      2               7516                 9543  TRANSFER     564.64   \n",
              "2      3               2445                 9356  TRANSFER     598.94   \n",
              "3      4               2576                 4617  TRANSFER     466.07   \n",
              "4      5               3524                 1773  TRANSFER     405.63   \n",
              "\n",
              "   TIMESTAMP  IS_FRAUD  ALERT_ID  \n",
              "0          0     False        -1  \n",
              "1          0     False        -1  \n",
              "2          0     False        -1  \n",
              "3          0     False        -1  \n",
              "4          0     False        -1  "
            ]
          },
          "execution_count": 11,
          "metadata": {},
          "output_type": "execute_result"
        }
      ],
      "source": [
        "#import transactions dataset\n",
        "transactions= pd.read_csv(r'/Users/prasanna/Desktop/AML Data/transactions.csv')\n",
        "transactions.head()"
      ]
    },
    {
      "cell_type": "code",
      "execution_count": null,
      "id": "6d810139",
      "metadata": {
        "id": "6d810139",
        "outputId": "b4210d9c-da14-4971-9b49-a6e2ffa1be19"
      },
      "outputs": [
        {
          "name": "stdout",
          "output_type": "stream",
          "text": [
            "(1323234, 8)\n",
            "<class 'pandas.core.frame.DataFrame'>\n",
            "RangeIndex: 1323234 entries, 0 to 1323233\n",
            "Data columns (total 8 columns):\n",
            " #   Column               Non-Null Count    Dtype  \n",
            "---  ------               --------------    -----  \n",
            " 0   TX_ID                1323234 non-null  int64  \n",
            " 1   SENDER_ACCOUNT_ID    1323234 non-null  int64  \n",
            " 2   RECEIVER_ACCOUNT_ID  1323234 non-null  int64  \n",
            " 3   TX_TYPE              1323234 non-null  object \n",
            " 4   TX_AMOUNT            1323234 non-null  float64\n",
            " 5   TIMESTAMP            1323234 non-null  int64  \n",
            " 6   IS_FRAUD             1323234 non-null  bool   \n",
            " 7   ALERT_ID             1323234 non-null  int64  \n",
            "dtypes: bool(1), float64(1), int64(5), object(1)\n",
            "memory usage: 71.9+ MB\n"
          ]
        }
      ],
      "source": [
        "#Understanding transactions dataset\n",
        "print(transactions.shape)\n",
        "\n",
        "transactions.info()"
      ]
    },
    {
      "cell_type": "code",
      "execution_count": null,
      "id": "70b70a87",
      "metadata": {
        "id": "70b70a87",
        "outputId": "d41f066d-4632-49e6-de33-2a82dd60964d"
      },
      "outputs": [
        {
          "data": {
            "text/plain": [
              "TX_ID                  1323234\n",
              "SENDER_ACCOUNT_ID         9999\n",
              "RECEIVER_ACCOUNT_ID       9926\n",
              "TX_TYPE                      1\n",
              "TX_AMOUNT                43748\n",
              "TIMESTAMP                  200\n",
              "IS_FRAUD                     2\n",
              "ALERT_ID                   392\n",
              "dtype: int64"
            ]
          },
          "execution_count": 13,
          "metadata": {},
          "output_type": "execute_result"
        }
      ],
      "source": [
        "transactions.nunique()"
      ]
    },
    {
      "cell_type": "code",
      "execution_count": null,
      "id": "90ee21b0",
      "metadata": {
        "scrolled": true,
        "id": "90ee21b0",
        "outputId": "c790d6bc-5ede-4d9f-ec22-853fcecdeacd"
      },
      "outputs": [
        {
          "data": {
            "text/plain": [
              "False    1321515\n",
              "True        1719\n",
              "Name: IS_FRAUD, dtype: int64"
            ]
          },
          "execution_count": 14,
          "metadata": {},
          "output_type": "execute_result"
        }
      ],
      "source": [
        "transactions['IS_FRAUD'].value_counts()"
      ]
    },
    {
      "cell_type": "markdown",
      "id": "2355a2f9",
      "metadata": {
        "scrolled": false,
        "id": "2355a2f9"
      },
      "source": [
        "    TX_ID is the unique id generated on each transactions\n",
        "    SENDER_ACCOUNT_ID is account id where the transaction is initiated. account id are in the range from 0-9999\n",
        "    RECEIVER_ACCOUNT_ID is account id to which the transaction is made. account id are in the range from 0-9999\n",
        "    TX_TYPE holds only one value in entire dataset\n",
        "    TX_AMOUNT is a float type column about the amount in numericals\n",
        "    TIMESTAMP holds the value of date that the transaction is made.\n",
        "    IS_FRAUD column is of Bool datatype contains value of TRUE or FALSE\n",
        "    ALERT_ID contains the alert code generated on each transaction to Account Holders."
      ]
    },
    {
      "cell_type": "code",
      "execution_count": null,
      "id": "66452037",
      "metadata": {
        "scrolled": true,
        "id": "66452037",
        "outputId": "6b34b4b0-589d-4899-c2f5-7a5d6ee40042"
      },
      "outputs": [
        {
          "name": "stdout",
          "output_type": "stream",
          "text": [
            "0 9999 1 9999\n"
          ]
        }
      ],
      "source": [
        "#lets understand the ACCOUNT_ID and SENDER_ACCOUNT_ID\n",
        "print(accounts.ACCOUNT_ID.min(), accounts.ACCOUNT_ID.max(), transactions.SENDER_ACCOUNT_ID.min(), transactions.SENDER_ACCOUNT_ID.max())"
      ]
    },
    {
      "cell_type": "markdown",
      "id": "51e9e8c2",
      "metadata": {
        "id": "51e9e8c2"
      },
      "source": [
        "##### Account_ID column in Accounts Dataframe and Sender_Account_ID, Receiver_Account_ID will almost have same range of Values. So, it is understood that Sender is transfering the amount within 9999 accounts. so, We use Account_ID and SENDER_ACCOUNT_ID as matching column to merge the accounts and transactions dataframe."
      ]
    },
    {
      "cell_type": "code",
      "execution_count": null,
      "id": "484ff186",
      "metadata": {
        "id": "484ff186",
        "outputId": "cfc8c470-db7a-42c5-f788-1a8bdcc82cf9"
      },
      "outputs": [
        {
          "data": {
            "text/html": [
              "<div>\n",
              "<style scoped>\n",
              "    .dataframe tbody tr th:only-of-type {\n",
              "        vertical-align: middle;\n",
              "    }\n",
              "\n",
              "    .dataframe tbody tr th {\n",
              "        vertical-align: top;\n",
              "    }\n",
              "\n",
              "    .dataframe thead th {\n",
              "        text-align: right;\n",
              "    }\n",
              "</style>\n",
              "<table border=\"1\" class=\"dataframe\">\n",
              "  <thead>\n",
              "    <tr style=\"text-align: right;\">\n",
              "      <th></th>\n",
              "      <th>ACCOUNT_ID</th>\n",
              "      <th>CUSTOMER_ID</th>\n",
              "      <th>INIT_BALANCE</th>\n",
              "      <th>COUNTRY</th>\n",
              "      <th>ACCOUNT_TYPE</th>\n",
              "      <th>IS_FRAUD</th>\n",
              "      <th>TX_BEHAVIOR_ID</th>\n",
              "      <th>TX_ID</th>\n",
              "      <th>SENDER_ACCOUNT_ID</th>\n",
              "      <th>RECEIVER_ACCOUNT_ID</th>\n",
              "      <th>TX_TYPE</th>\n",
              "      <th>TX_AMOUNT</th>\n",
              "      <th>TIMESTAMP</th>\n",
              "      <th>ALERT_ID</th>\n",
              "    </tr>\n",
              "  </thead>\n",
              "  <tbody>\n",
              "    <tr>\n",
              "      <th>0</th>\n",
              "      <td>0.0</td>\n",
              "      <td>C_0</td>\n",
              "      <td>184.44</td>\n",
              "      <td>US</td>\n",
              "      <td>I</td>\n",
              "      <td>False</td>\n",
              "      <td>1.0</td>\n",
              "      <td>NaN</td>\n",
              "      <td>NaN</td>\n",
              "      <td>NaN</td>\n",
              "      <td>NaN</td>\n",
              "      <td>NaN</td>\n",
              "      <td>NaN</td>\n",
              "      <td>NaN</td>\n",
              "    </tr>\n",
              "    <tr>\n",
              "      <th>1</th>\n",
              "      <td>1.0</td>\n",
              "      <td>C_1</td>\n",
              "      <td>175.80</td>\n",
              "      <td>US</td>\n",
              "      <td>I</td>\n",
              "      <td>False</td>\n",
              "      <td>1.0</td>\n",
              "      <td>40545.0</td>\n",
              "      <td>1.0</td>\n",
              "      <td>884.0</td>\n",
              "      <td>TRANSFER</td>\n",
              "      <td>175.8</td>\n",
              "      <td>6.0</td>\n",
              "      <td>-1.0</td>\n",
              "    </tr>\n",
              "    <tr>\n",
              "      <th>2</th>\n",
              "      <td>1.0</td>\n",
              "      <td>C_1</td>\n",
              "      <td>175.80</td>\n",
              "      <td>US</td>\n",
              "      <td>I</td>\n",
              "      <td>False</td>\n",
              "      <td>1.0</td>\n",
              "      <td>120410.0</td>\n",
              "      <td>1.0</td>\n",
              "      <td>884.0</td>\n",
              "      <td>TRANSFER</td>\n",
              "      <td>175.8</td>\n",
              "      <td>19.0</td>\n",
              "      <td>-1.0</td>\n",
              "    </tr>\n",
              "    <tr>\n",
              "      <th>3</th>\n",
              "      <td>1.0</td>\n",
              "      <td>C_1</td>\n",
              "      <td>175.80</td>\n",
              "      <td>US</td>\n",
              "      <td>I</td>\n",
              "      <td>False</td>\n",
              "      <td>1.0</td>\n",
              "      <td>252101.0</td>\n",
              "      <td>1.0</td>\n",
              "      <td>884.0</td>\n",
              "      <td>TRANSFER</td>\n",
              "      <td>175.8</td>\n",
              "      <td>38.0</td>\n",
              "      <td>-1.0</td>\n",
              "    </tr>\n",
              "    <tr>\n",
              "      <th>4</th>\n",
              "      <td>1.0</td>\n",
              "      <td>C_1</td>\n",
              "      <td>175.80</td>\n",
              "      <td>US</td>\n",
              "      <td>I</td>\n",
              "      <td>False</td>\n",
              "      <td>1.0</td>\n",
              "      <td>315679.0</td>\n",
              "      <td>1.0</td>\n",
              "      <td>884.0</td>\n",
              "      <td>TRANSFER</td>\n",
              "      <td>175.8</td>\n",
              "      <td>48.0</td>\n",
              "      <td>-1.0</td>\n",
              "    </tr>\n",
              "  </tbody>\n",
              "</table>\n",
              "</div>"
            ],
            "text/plain": [
              "   ACCOUNT_ID CUSTOMER_ID  INIT_BALANCE COUNTRY ACCOUNT_TYPE  IS_FRAUD  \\\n",
              "0         0.0         C_0        184.44      US            I     False   \n",
              "1         1.0         C_1        175.80      US            I     False   \n",
              "2         1.0         C_1        175.80      US            I     False   \n",
              "3         1.0         C_1        175.80      US            I     False   \n",
              "4         1.0         C_1        175.80      US            I     False   \n",
              "\n",
              "   TX_BEHAVIOR_ID     TX_ID  SENDER_ACCOUNT_ID  RECEIVER_ACCOUNT_ID   TX_TYPE  \\\n",
              "0             1.0       NaN                NaN                  NaN       NaN   \n",
              "1             1.0   40545.0                1.0                884.0  TRANSFER   \n",
              "2             1.0  120410.0                1.0                884.0  TRANSFER   \n",
              "3             1.0  252101.0                1.0                884.0  TRANSFER   \n",
              "4             1.0  315679.0                1.0                884.0  TRANSFER   \n",
              "\n",
              "   TX_AMOUNT  TIMESTAMP  ALERT_ID  \n",
              "0        NaN        NaN       NaN  \n",
              "1      175.8        6.0      -1.0  \n",
              "2      175.8       19.0      -1.0  \n",
              "3      175.8       38.0      -1.0  \n",
              "4      175.8       48.0      -1.0  "
            ]
          },
          "execution_count": 16,
          "metadata": {},
          "output_type": "execute_result"
        }
      ],
      "source": [
        "merge1= accounts.merge(transactions, left_on= ['ACCOUNT_ID', 'IS_FRAUD'], right_on= ['SENDER_ACCOUNT_ID', 'IS_FRAUD'], how= 'outer')\n",
        "merge1.head()"
      ]
    },
    {
      "cell_type": "code",
      "execution_count": null,
      "id": "a39caa2d",
      "metadata": {
        "id": "a39caa2d",
        "outputId": "d5f01402-e81a-4262-a05a-6bb44e5ee5ac"
      },
      "outputs": [
        {
          "name": "stdout",
          "output_type": "stream",
          "text": [
            "(1323436, 14)\n",
            "<class 'pandas.core.frame.DataFrame'>\n",
            "Int64Index: 1323436 entries, 0 to 1323435\n",
            "Data columns (total 14 columns):\n",
            " #   Column               Non-Null Count    Dtype  \n",
            "---  ------               --------------    -----  \n",
            " 0   ACCOUNT_ID           1047129 non-null  float64\n",
            " 1   CUSTOMER_ID          1047129 non-null  object \n",
            " 2   INIT_BALANCE         1047129 non-null  float64\n",
            " 3   COUNTRY              1047129 non-null  object \n",
            " 4   ACCOUNT_TYPE         1047129 non-null  object \n",
            " 5   IS_FRAUD             1323436 non-null  bool   \n",
            " 6   TX_BEHAVIOR_ID       1047129 non-null  float64\n",
            " 7   TX_ID                1323234 non-null  float64\n",
            " 8   SENDER_ACCOUNT_ID    1323234 non-null  float64\n",
            " 9   RECEIVER_ACCOUNT_ID  1323234 non-null  float64\n",
            " 10  TX_TYPE              1323234 non-null  object \n",
            " 11  TX_AMOUNT            1323234 non-null  float64\n",
            " 12  TIMESTAMP            1323234 non-null  float64\n",
            " 13  ALERT_ID             1323234 non-null  float64\n",
            "dtypes: bool(1), float64(9), object(4)\n",
            "memory usage: 142.6+ MB\n"
          ]
        }
      ],
      "source": [
        "#Understanding alerts dataset\n",
        "print(merge1.shape)\n",
        "\n",
        "merge1.info()"
      ]
    },
    {
      "cell_type": "markdown",
      "id": "4309d86c",
      "metadata": {
        "id": "4309d86c"
      },
      "source": [
        "merge1 dataframe have 1323436 observation with 14 columns."
      ]
    },
    {
      "cell_type": "code",
      "execution_count": null,
      "id": "9a89434c",
      "metadata": {
        "scrolled": true,
        "id": "9a89434c",
        "outputId": "ab0dbd58-a9b5-41cc-c348-82d20c325128"
      },
      "outputs": [
        {
          "data": {
            "text/plain": [
              "IS_FRAUD  ALERT_ID\n",
              "False     -1.0        1321515\n",
              "True       200.0            5\n",
              "           201.0            5\n",
              "           202.0            5\n",
              "           203.0            5\n",
              "                       ...   \n",
              "           321.0            2\n",
              "           381.0            2\n",
              "           44.0             1\n",
              "           231.0            1\n",
              "           272.0            1\n",
              "Name: ALERT_ID, Length: 392, dtype: int64"
            ]
          },
          "execution_count": 18,
          "metadata": {},
          "output_type": "execute_result"
        }
      ],
      "source": [
        "merge1.groupby('IS_FRAUD')['ALERT_ID'].value_counts()"
      ]
    },
    {
      "cell_type": "markdown",
      "id": "70e1c814",
      "metadata": {
        "id": "70e1c814"
      },
      "source": [
        "Grouping the IS_FRAUD feature with ALERT_ID, we came to know that transactions with ALERT_ID not equal to -1 are marked as fraudulent transactions"
      ]
    },
    {
      "cell_type": "code",
      "execution_count": null,
      "id": "af21bb78",
      "metadata": {
        "scrolled": false,
        "id": "af21bb78",
        "outputId": "14c36c14-d6e1-478f-950d-3e019ed85708"
      },
      "outputs": [
        {
          "data": {
            "text/plain": [
              "ACCOUNT_ID             276307\n",
              "CUSTOMER_ID            276307\n",
              "INIT_BALANCE           276307\n",
              "COUNTRY                276307\n",
              "ACCOUNT_TYPE           276307\n",
              "IS_FRAUD                    0\n",
              "TX_BEHAVIOR_ID         276307\n",
              "TX_ID                     202\n",
              "SENDER_ACCOUNT_ID         202\n",
              "RECEIVER_ACCOUNT_ID       202\n",
              "TX_TYPE                   202\n",
              "TX_AMOUNT                 202\n",
              "TIMESTAMP                 202\n",
              "ALERT_ID                  202\n",
              "dtype: int64"
            ]
          },
          "execution_count": 19,
          "metadata": {},
          "output_type": "execute_result"
        }
      ],
      "source": [
        "#Checking the missing values in merge1 dataframe\n",
        "merge1.isnull().sum()"
      ]
    },
    {
      "cell_type": "code",
      "execution_count": null,
      "id": "ff14213a",
      "metadata": {
        "id": "ff14213a",
        "outputId": "e5cef728-b23e-4a07-9b2d-b5746c0ff00a"
      },
      "outputs": [
        {
          "data": {
            "text/plain": [
              "{'ACCOUNT_ID': array([0.000e+00, 1.000e+00, 2.000e+00, ..., 9.998e+03, 9.999e+03,\n",
              "              nan]),\n",
              " 'CUSTOMER_ID': array(['C_0', 'C_1', 'C_2', ..., 'C_9998', 'C_9999', nan], dtype=object),\n",
              " 'INIT_BALANCE': array([184.44, 175.8 , 142.06, ..., 323.79, 317.65,    nan]),\n",
              " 'COUNTRY': array(['US', nan], dtype=object),\n",
              " 'ACCOUNT_TYPE': array(['I', nan], dtype=object),\n",
              " 'IS_FRAUD': array([False,  True]),\n",
              " 'TX_BEHAVIOR_ID': array([ 1.,  2.,  3.,  4.,  5., nan]),\n",
              " 'TX_ID': array([     nan,   40545.,  120410., ..., 1131403., 1205770., 1259107.]),\n",
              " 'SENDER_ACCOUNT_ID': array([      nan, 1.000e+00, 2.000e+00, ..., 8.380e+03, 9.263e+03,\n",
              "        6.979e+03]),\n",
              " 'RECEIVER_ACCOUNT_ID': array([  nan,  884., 9356., ..., 2444.,  944., 1471.]),\n",
              " 'TX_TYPE': array([nan, 'TRANSFER'], dtype=object),\n",
              " 'TX_AMOUNT': array([           nan, 1.75800000e+02, 1.42050000e+02, ...,\n",
              "        1.10758112e+06, 4.35860600e+06, 1.37420560e+07]),\n",
              " 'TIMESTAMP': array([ nan,   6.,  19.,  38.,  48.,  55.,  66.,  67.,  76.,  98., 117.,\n",
              "        118., 135., 146., 148., 155., 156., 158., 159., 165., 175., 189.,\n",
              "        195., 198., 199.,  34.,  54.,  64.,  75., 104., 114., 137., 144.,\n",
              "        157., 168., 174., 185., 197.,  27.,  37.,  44.,  74.,  83.,  94.,\n",
              "        105., 126., 145., 147., 176., 186., 193.,  11.,  14.,  21.,  23.,\n",
              "         43.,  51.,  71.,  72.,  73.,  80., 102., 122., 130., 141., 163.,\n",
              "        182., 183., 184., 191., 194.,   5.,  28.,  29.,  39.,  49.,  88.,\n",
              "         99., 116., 129., 177.,  26.,  45.,  56.,  57.,  69.,  78.,  79.,\n",
              "        139., 178.,   1.,  20.,  40.,  52.,  63.,  70.,  82.,  89., 100.,\n",
              "        101., 142., 151., 180., 192.,  18.,  41.,  58.,  68.,  90.,  91.,\n",
              "        108., 112., 119., 120., 140., 152., 160.,   4.,  12.,  42.,  62.,\n",
              "         92., 121., 134., 143., 172.,   8.,  36.,  47.,  87.,  95., 127.,\n",
              "        154., 164.,  81., 128., 150.,  13.,  30.,  32.,  60.,  93., 103.,\n",
              "        113., 153., 171.,   2.,  22.,  31.,  84., 111., 133., 181.,   0.,\n",
              "        131., 179., 188.,  53., 106., 124., 136., 162.,  16.,  77.,  86.,\n",
              "        125., 196.,  97., 115., 123., 166., 173.,   3.,  35.,   7.,   9.,\n",
              "        109., 170.,  96.,  17., 107.,  10.,  61., 110., 132., 167., 169.,\n",
              "        187.,  50., 138., 190.,  85.,  25.,  65.,  24., 161., 149.,  59.,\n",
              "         46.,  15.,  33.]),\n",
              " 'ALERT_ID': array([ nan,  -1.,  84.,  18.,  58., 123., 152., 363.,  41., 216., 127.,\n",
              "        149., 374., 232., 151., 379., 383., 142.,  43., 365., 108., 310.,\n",
              "        140., 337., 311., 244., 188., 175., 157., 187., 204., 393., 202.,\n",
              "        167.,  48.,  51.,  77., 228., 267., 162., 356.,  71.,  95., 257.,\n",
              "        320., 321.,  25., 154., 334., 170., 249., 270., 281.,  86., 253.,\n",
              "         12., 166.,  92., 324., 150., 246., 120., 212.,  65.,  78.,   1.,\n",
              "        389.,  14.,  96., 277., 280., 317., 243., 290., 335., 190.,  93.,\n",
              "        377., 196.,  36., 391., 211.,  28., 160.,  23., 287., 194., 373.,\n",
              "        367., 347., 351., 129., 219.,  15., 182., 247., 195., 284., 265.,\n",
              "        328., 105., 135.,  68., 352., 303., 275., 318.,  73., 336.,  98.,\n",
              "        115., 276., 306.,  44., 301.,  88., 313., 361., 221.,  37., 137.,\n",
              "        113., 203., 398., 291., 227., 207., 200., 239., 312., 319., 185.,\n",
              "          9., 256., 179.,  87., 169., 282., 245.,  67., 139., 128., 184.,\n",
              "        293., 295., 364., 153., 124., 309., 193., 333., 224., 353., 242.,\n",
              "        332.,  24., 168., 240., 326.,  75.,  70., 350., 134.,  35., 107.,\n",
              "          2., 237., 308., 340.,  91., 357., 252., 362., 343., 163., 214.,\n",
              "         30.,  99.,  26., 198., 235., 329., 176., 302., 236., 226.,  31.,\n",
              "        296., 283., 272., 155.,  40., 215.,  97., 172., 325.,  89., 386.,\n",
              "        191., 307.,  47.,  32., 165.,  76., 322., 264., 251.,  62., 395.,\n",
              "        286., 220.,   7., 342., 138., 368., 359., 360.,  72., 241.,  81.,\n",
              "        392., 238.,   0.,  10., 102.,  45., 366., 189.,  50., 231.,  57.,\n",
              "        369.,  54., 119., 330., 376., 385., 397., 387., 258., 255., 186.,\n",
              "         20., 390., 378., 298., 126., 218.,  27., 156., 273., 158.,  94.,\n",
              "        346., 304., 260., 339., 147., 100., 118., 103., 183.,  16.,  21.,\n",
              "         53.,  33., 327., 268., 266., 159., 372., 299.,   8., 254., 381.,\n",
              "        349., 315., 180.,  17., 125., 217.,  61., 206., 208., 274., 259.,\n",
              "        278., 116.,  83.,  11.,  22., 117., 348.,  66., 371., 248.,  38.,\n",
              "        209.,  59., 323., 171., 132., 316., 262., 271., 292., 114., 230.,\n",
              "        213.,  19.,  55., 146., 380.,  56.,  39., 210., 173., 250., 144.,\n",
              "         74.,  63., 104., 143., 331., 288., 269., 305., 133., 112., 354.,\n",
              "        358., 164.,  46., 382., 225.,   6., 223., 233., 396., 181.,  34.,\n",
              "        399., 148., 300.,  64.,  79., 145., 297., 197., 279.,  82., 285.,\n",
              "        388., 355.,   4., 110., 121.,  85., 122., 370., 192.,  42.,   5.,\n",
              "        345.,  29., 130., 177.,   3., 201., 178.,  80., 263., 174., 199.,\n",
              "        131., 101., 109., 141.,  13., 136.,  60., 229., 205.,  52., 222.,\n",
              "        289., 111., 294., 161.,  49.,  69., 375., 106.])}"
            ]
          },
          "execution_count": 20,
          "metadata": {},
          "output_type": "execute_result"
        }
      ],
      "source": [
        "# Let's get unique values for each category\n",
        "unique_vals = {\n",
        "    k: merge1[k].unique()\n",
        "    for k in merge1.columns\n",
        "}\n",
        "\n",
        "unique_vals"
      ]
    },
    {
      "cell_type": "code",
      "execution_count": null,
      "id": "15c07197",
      "metadata": {
        "id": "15c07197",
        "outputId": "48ca5a35-24ce-4c1a-acfd-3e291b26942e"
      },
      "outputs": [
        {
          "name": "stdout",
          "output_type": "stream",
          "text": [
            "1.0 9999.0 3.0 9999.0\n"
          ]
        }
      ],
      "source": [
        "print(merge1.SENDER_ACCOUNT_ID.min(), merge1.SENDER_ACCOUNT_ID.max(), merge1.RECEIVER_ACCOUNT_ID.min(), merge1.RECEIVER_ACCOUNT_ID.max())"
      ]
    },
    {
      "cell_type": "markdown",
      "id": "0379d360",
      "metadata": {
        "id": "0379d360"
      },
      "source": [
        "We use Account_ID and SENDER_ACCOUNT_ID as matching column to merge the merge1 and Alerts dataframe."
      ]
    },
    {
      "cell_type": "code",
      "execution_count": null,
      "id": "b5b076d2",
      "metadata": {
        "scrolled": true,
        "id": "b5b076d2",
        "outputId": "e178a6e7-d8ad-4d0e-e29a-a14768a261ff"
      },
      "outputs": [
        {
          "data": {
            "text/html": [
              "<div>\n",
              "<style scoped>\n",
              "    .dataframe tbody tr th:only-of-type {\n",
              "        vertical-align: middle;\n",
              "    }\n",
              "\n",
              "    .dataframe tbody tr th {\n",
              "        vertical-align: top;\n",
              "    }\n",
              "\n",
              "    .dataframe thead th {\n",
              "        text-align: right;\n",
              "    }\n",
              "</style>\n",
              "<table border=\"1\" class=\"dataframe\">\n",
              "  <thead>\n",
              "    <tr style=\"text-align: right;\">\n",
              "      <th></th>\n",
              "      <th>ACCOUNT_ID</th>\n",
              "      <th>CUSTOMER_ID</th>\n",
              "      <th>INIT_BALANCE</th>\n",
              "      <th>COUNTRY</th>\n",
              "      <th>ACCOUNT_TYPE</th>\n",
              "      <th>IS_FRAUD</th>\n",
              "      <th>TX_BEHAVIOR_ID</th>\n",
              "      <th>TX_ID</th>\n",
              "      <th>SENDER_ACCOUNT_ID</th>\n",
              "      <th>RECEIVER_ACCOUNT_ID</th>\n",
              "      <th>TX_TYPE</th>\n",
              "      <th>TX_AMOUNT</th>\n",
              "      <th>TIMESTAMP</th>\n",
              "      <th>ALERT_ID</th>\n",
              "      <th>ALERT_TYPE</th>\n",
              "    </tr>\n",
              "  </thead>\n",
              "  <tbody>\n",
              "    <tr>\n",
              "      <th>0</th>\n",
              "      <td>0.0</td>\n",
              "      <td>C_0</td>\n",
              "      <td>184.44</td>\n",
              "      <td>US</td>\n",
              "      <td>I</td>\n",
              "      <td>False</td>\n",
              "      <td>1.0</td>\n",
              "      <td>NaN</td>\n",
              "      <td>NaN</td>\n",
              "      <td>NaN</td>\n",
              "      <td>NaN</td>\n",
              "      <td>NaN</td>\n",
              "      <td>NaN</td>\n",
              "      <td>NaN</td>\n",
              "      <td>NaN</td>\n",
              "    </tr>\n",
              "    <tr>\n",
              "      <th>1</th>\n",
              "      <td>1.0</td>\n",
              "      <td>C_1</td>\n",
              "      <td>175.80</td>\n",
              "      <td>US</td>\n",
              "      <td>I</td>\n",
              "      <td>False</td>\n",
              "      <td>1.0</td>\n",
              "      <td>40545.0</td>\n",
              "      <td>1.0</td>\n",
              "      <td>884.0</td>\n",
              "      <td>TRANSFER</td>\n",
              "      <td>175.8</td>\n",
              "      <td>6.0</td>\n",
              "      <td>-1.0</td>\n",
              "      <td>NaN</td>\n",
              "    </tr>\n",
              "    <tr>\n",
              "      <th>2</th>\n",
              "      <td>1.0</td>\n",
              "      <td>C_1</td>\n",
              "      <td>175.80</td>\n",
              "      <td>US</td>\n",
              "      <td>I</td>\n",
              "      <td>False</td>\n",
              "      <td>1.0</td>\n",
              "      <td>120410.0</td>\n",
              "      <td>1.0</td>\n",
              "      <td>884.0</td>\n",
              "      <td>TRANSFER</td>\n",
              "      <td>175.8</td>\n",
              "      <td>19.0</td>\n",
              "      <td>-1.0</td>\n",
              "      <td>NaN</td>\n",
              "    </tr>\n",
              "    <tr>\n",
              "      <th>3</th>\n",
              "      <td>1.0</td>\n",
              "      <td>C_1</td>\n",
              "      <td>175.80</td>\n",
              "      <td>US</td>\n",
              "      <td>I</td>\n",
              "      <td>False</td>\n",
              "      <td>1.0</td>\n",
              "      <td>252101.0</td>\n",
              "      <td>1.0</td>\n",
              "      <td>884.0</td>\n",
              "      <td>TRANSFER</td>\n",
              "      <td>175.8</td>\n",
              "      <td>38.0</td>\n",
              "      <td>-1.0</td>\n",
              "      <td>NaN</td>\n",
              "    </tr>\n",
              "    <tr>\n",
              "      <th>4</th>\n",
              "      <td>1.0</td>\n",
              "      <td>C_1</td>\n",
              "      <td>175.80</td>\n",
              "      <td>US</td>\n",
              "      <td>I</td>\n",
              "      <td>False</td>\n",
              "      <td>1.0</td>\n",
              "      <td>315679.0</td>\n",
              "      <td>1.0</td>\n",
              "      <td>884.0</td>\n",
              "      <td>TRANSFER</td>\n",
              "      <td>175.8</td>\n",
              "      <td>48.0</td>\n",
              "      <td>-1.0</td>\n",
              "      <td>NaN</td>\n",
              "    </tr>\n",
              "  </tbody>\n",
              "</table>\n",
              "</div>"
            ],
            "text/plain": [
              "   ACCOUNT_ID CUSTOMER_ID  INIT_BALANCE COUNTRY ACCOUNT_TYPE  IS_FRAUD  \\\n",
              "0         0.0         C_0        184.44      US            I     False   \n",
              "1         1.0         C_1        175.80      US            I     False   \n",
              "2         1.0         C_1        175.80      US            I     False   \n",
              "3         1.0         C_1        175.80      US            I     False   \n",
              "4         1.0         C_1        175.80      US            I     False   \n",
              "\n",
              "   TX_BEHAVIOR_ID     TX_ID  SENDER_ACCOUNT_ID  RECEIVER_ACCOUNT_ID   TX_TYPE  \\\n",
              "0             1.0       NaN                NaN                  NaN       NaN   \n",
              "1             1.0   40545.0                1.0                884.0  TRANSFER   \n",
              "2             1.0  120410.0                1.0                884.0  TRANSFER   \n",
              "3             1.0  252101.0                1.0                884.0  TRANSFER   \n",
              "4             1.0  315679.0                1.0                884.0  TRANSFER   \n",
              "\n",
              "   TX_AMOUNT  TIMESTAMP  ALERT_ID ALERT_TYPE  \n",
              "0        NaN        NaN       NaN        NaN  \n",
              "1      175.8        6.0      -1.0        NaN  \n",
              "2      175.8       19.0      -1.0        NaN  \n",
              "3      175.8       38.0      -1.0        NaN  \n",
              "4      175.8       48.0      -1.0        NaN  "
            ]
          },
          "execution_count": 22,
          "metadata": {},
          "output_type": "execute_result"
        }
      ],
      "source": [
        "final= merge1.merge(alerts, on= ['SENDER_ACCOUNT_ID', 'RECEIVER_ACCOUNT_ID', 'IS_FRAUD', 'ALERT_ID', 'TX_ID', 'TX_TYPE', \n",
        "                                'TX_AMOUNT', 'TIMESTAMP'], how= 'outer')\n",
        "\n",
        "final.head()"
      ]
    },
    {
      "cell_type": "code",
      "execution_count": null,
      "id": "d1d6a5e1",
      "metadata": {
        "scrolled": true,
        "id": "d1d6a5e1",
        "outputId": "642a63b8-b631-441a-9f6d-c7cec530e562"
      },
      "outputs": [
        {
          "name": "stdout",
          "output_type": "stream",
          "text": [
            "(1323436, 15)\n",
            "<class 'pandas.core.frame.DataFrame'>\n",
            "Int64Index: 1323436 entries, 0 to 1323435\n",
            "Data columns (total 15 columns):\n",
            " #   Column               Non-Null Count    Dtype  \n",
            "---  ------               --------------    -----  \n",
            " 0   ACCOUNT_ID           1047129 non-null  float64\n",
            " 1   CUSTOMER_ID          1047129 non-null  object \n",
            " 2   INIT_BALANCE         1047129 non-null  float64\n",
            " 3   COUNTRY              1047129 non-null  object \n",
            " 4   ACCOUNT_TYPE         1047129 non-null  object \n",
            " 5   IS_FRAUD             1323436 non-null  bool   \n",
            " 6   TX_BEHAVIOR_ID       1047129 non-null  float64\n",
            " 7   TX_ID                1323234 non-null  float64\n",
            " 8   SENDER_ACCOUNT_ID    1323234 non-null  float64\n",
            " 9   RECEIVER_ACCOUNT_ID  1323234 non-null  float64\n",
            " 10  TX_TYPE              1323234 non-null  object \n",
            " 11  TX_AMOUNT            1323234 non-null  float64\n",
            " 12  TIMESTAMP            1323234 non-null  float64\n",
            " 13  ALERT_ID             1323234 non-null  float64\n",
            " 14  ALERT_TYPE           1719 non-null     object \n",
            "dtypes: bool(1), float64(9), object(5)\n",
            "memory usage: 152.7+ MB\n"
          ]
        }
      ],
      "source": [
        "print(final.shape)\n",
        "\n",
        "final.info()"
      ]
    },
    {
      "cell_type": "code",
      "execution_count": null,
      "id": "1883e911",
      "metadata": {
        "id": "1883e911",
        "outputId": "ec01d288-c696-4654-fea6-313c34fed3f6"
      },
      "outputs": [
        {
          "data": {
            "text/plain": [
              "{'ACCOUNT_ID': array([0.000e+00, 1.000e+00, 2.000e+00, ..., 9.998e+03, 9.999e+03,\n",
              "              nan]),\n",
              " 'CUSTOMER_ID': array(['C_0', 'C_1', 'C_2', ..., 'C_9998', 'C_9999', nan], dtype=object),\n",
              " 'INIT_BALANCE': array([184.44, 175.8 , 142.06, ..., 323.79, 317.65,    nan]),\n",
              " 'COUNTRY': array(['US', nan], dtype=object),\n",
              " 'ACCOUNT_TYPE': array(['I', nan], dtype=object),\n",
              " 'IS_FRAUD': array([False,  True]),\n",
              " 'TX_BEHAVIOR_ID': array([ 1.,  3.,  4.,  5.,  2., nan]),\n",
              " 'TX_ID': array([     nan,   40545.,  120410., ..., 1131403., 1205770., 1259107.]),\n",
              " 'SENDER_ACCOUNT_ID': array([      nan, 1.000e+00, 2.000e+00, ..., 8.380e+03, 9.263e+03,\n",
              "        6.979e+03]),\n",
              " 'RECEIVER_ACCOUNT_ID': array([  nan,  884., 9356., ..., 2444.,  944., 1471.]),\n",
              " 'TX_TYPE': array([nan, 'TRANSFER'], dtype=object),\n",
              " 'TX_AMOUNT': array([           nan, 1.75800000e+02, 1.42050000e+02, ...,\n",
              "        1.10758112e+06, 4.35860600e+06, 1.37420560e+07]),\n",
              " 'TIMESTAMP': array([ nan,   6.,  19.,  38.,  48.,  55.,  66.,  67.,  76.,  98., 117.,\n",
              "        118., 135., 146., 148., 155., 156., 158., 159., 165., 175., 189.,\n",
              "        195., 198., 199.,  34.,  54.,  64.,  75., 104., 114., 137., 144.,\n",
              "        157., 168., 174., 185., 197.,  27.,  37.,  44.,  74.,  83.,  94.,\n",
              "        105., 126., 145., 147., 176., 186., 193.,  11.,  14.,  21.,  23.,\n",
              "         43.,  51.,  71.,  72.,  73.,  80., 102., 122., 130., 141., 163.,\n",
              "        182., 183., 184., 191., 194.,   5.,  28.,  29.,  39.,  49.,  88.,\n",
              "         99., 116., 129., 177.,  26.,  45.,  56.,  57.,  69.,  78.,  79.,\n",
              "        139., 178.,   1.,  20.,  40.,  52.,  63.,  70.,  82.,  89., 100.,\n",
              "        101., 142., 151., 180., 192.,  18.,  41.,  58.,  68.,  90.,  91.,\n",
              "        108., 112., 119., 120., 140., 152., 160.,   4.,  12.,  42.,  62.,\n",
              "         92., 121., 134., 143., 172.,   8.,  36.,  47.,  87.,  95., 127.,\n",
              "        154., 164.,  81., 128., 150.,  13.,  30.,  32.,  60.,  93., 103.,\n",
              "        113., 153., 171.,   2.,  22.,  31.,  84., 111., 133., 181.,   0.,\n",
              "        131., 179., 188.,  53., 106., 124., 136., 162.,  16.,  77.,  86.,\n",
              "        125., 196.,  97., 115., 123., 166., 173.,   3.,  35.,   7.,   9.,\n",
              "        109., 170.,  96.,  17., 107.,  10.,  61., 110., 132., 167., 169.,\n",
              "        187.,  50., 138., 190.,  85.,  25.,  65.,  24., 161., 149.,  59.,\n",
              "         46.,  15.,  33.]),\n",
              " 'ALERT_ID': array([ nan,  -1.,  84.,  18.,  58., 123., 152., 363.,  41., 216., 127.,\n",
              "        149., 374., 232., 151., 379., 383., 142.,  43., 365., 108., 310.,\n",
              "        140., 337., 311., 244., 188., 175., 157., 187., 204., 393., 202.,\n",
              "        167.,  48.,  51.,  77., 228., 267., 162., 356.,  71.,  95., 257.,\n",
              "        320., 321.,  25., 154., 334., 170., 249., 270., 281.,  86., 253.,\n",
              "         12., 166.,  92., 324., 150., 246., 120., 212.,  65.,  78.,   1.,\n",
              "        389.,  14.,  96., 277., 280., 317., 243., 290., 335., 190.,  93.,\n",
              "        377., 196.,  36., 391., 211.,  28., 160.,  23., 287., 194., 373.,\n",
              "        367., 347., 351., 129., 219.,  15., 182., 247., 195., 284., 265.,\n",
              "        328., 105., 135.,  68., 352., 303., 275., 318.,  73., 336.,  98.,\n",
              "        115., 276., 306.,  44., 301.,  88., 313., 361., 221.,  37., 137.,\n",
              "        113., 203., 398., 291., 227., 207., 200., 239., 312., 319., 185.,\n",
              "          9., 256., 179.,  87., 169., 282., 245.,  67., 139., 128., 184.,\n",
              "        293., 295., 364., 153., 124., 309., 193., 333., 224., 353., 242.,\n",
              "        332.,  24., 168., 240., 326.,  75.,  70., 350., 134.,  35., 107.,\n",
              "          2., 237., 308., 340.,  91., 357., 252., 362., 343., 163., 214.,\n",
              "         30.,  99.,  26., 198., 235., 329., 176., 302., 236., 226.,  31.,\n",
              "        296., 283., 272., 155.,  40., 215.,  97., 172., 325.,  89., 386.,\n",
              "        191., 307.,  47.,  32., 165.,  76., 322., 264., 251.,  62., 395.,\n",
              "        286., 220.,   7., 342., 138., 368., 359., 360.,  72., 241.,  81.,\n",
              "        392., 238.,   0.,  10., 102.,  45., 366., 189.,  50., 231.,  57.,\n",
              "        369.,  54., 119., 330., 376., 385., 397., 387., 258., 255., 186.,\n",
              "         20., 390., 378., 298., 126., 218.,  27., 156., 273., 158.,  94.,\n",
              "        346., 304., 260., 339., 147., 100., 118., 103., 183.,  16.,  21.,\n",
              "         53.,  33., 327., 268., 266., 159., 372., 299.,   8., 254., 381.,\n",
              "        349., 315., 180.,  17., 125., 217.,  61., 206., 208., 274., 259.,\n",
              "        278., 116.,  83.,  11.,  22., 117., 348.,  66., 371., 248.,  38.,\n",
              "        209.,  59., 323., 171., 132., 316., 262., 271., 292., 114., 230.,\n",
              "        213.,  19.,  55., 146., 380.,  56.,  39., 210., 173., 250., 144.,\n",
              "         74.,  63., 104., 143., 331., 288., 269., 305., 133., 112., 354.,\n",
              "        358., 164.,  46., 382., 225.,   6., 223., 233., 396., 181.,  34.,\n",
              "        399., 148., 300.,  64.,  79., 145., 297., 197., 279.,  82., 285.,\n",
              "        388., 355.,   4., 110., 121.,  85., 122., 370., 192.,  42.,   5.,\n",
              "        345.,  29., 130., 177.,   3., 201., 178.,  80., 263., 174., 199.,\n",
              "        131., 101., 109., 141.,  13., 136.,  60., 229., 205.,  52., 222.,\n",
              "        289., 111., 294., 161.,  49.,  69., 375., 106.]),\n",
              " 'ALERT_TYPE': array([nan, 'fan_in', 'cycle'], dtype=object)}"
            ]
          },
          "execution_count": 24,
          "metadata": {},
          "output_type": "execute_result"
        }
      ],
      "source": [
        "# Let's get unique values for each category\n",
        "unique_vals = {\n",
        "    k: final[k].unique()\n",
        "    for k in final.columns\n",
        "}\n",
        "\n",
        "unique_vals"
      ]
    },
    {
      "cell_type": "code",
      "execution_count": null,
      "id": "2a9df8ef",
      "metadata": {
        "id": "2a9df8ef",
        "outputId": "6cba83d0-b290-446c-c5b0-ff1e597fe815"
      },
      "outputs": [
        {
          "data": {
            "text/plain": [
              "IS_FRAUD  ALERT_ID\n",
              "False     -1.0        1321515\n",
              "True       200.0            5\n",
              "           201.0            5\n",
              "           202.0            5\n",
              "           203.0            5\n",
              "                       ...   \n",
              "           321.0            2\n",
              "           381.0            2\n",
              "           44.0             1\n",
              "           231.0            1\n",
              "           272.0            1\n",
              "Name: ALERT_ID, Length: 392, dtype: int64"
            ]
          },
          "execution_count": 25,
          "metadata": {},
          "output_type": "execute_result"
        }
      ],
      "source": [
        "final.groupby('IS_FRAUD')['ALERT_ID'].value_counts()"
      ]
    },
    {
      "cell_type": "code",
      "execution_count": null,
      "id": "8146d092",
      "metadata": {
        "id": "8146d092",
        "outputId": "4857564f-2091-407f-ad57-6182e47015f3"
      },
      "outputs": [
        {
          "data": {
            "text/plain": [
              "False    1321516\n",
              "True        1920\n",
              "Name: IS_FRAUD, dtype: int64"
            ]
          },
          "execution_count": 26,
          "metadata": {},
          "output_type": "execute_result"
        }
      ],
      "source": [
        "final['IS_FRAUD'].value_counts()"
      ]
    },
    {
      "cell_type": "markdown",
      "id": "688febdc",
      "metadata": {
        "id": "688febdc"
      },
      "source": [
        "Our Target Class is imbalanced distribution as Positive class is lesser than negative class"
      ]
    },
    {
      "cell_type": "markdown",
      "id": "422be345",
      "metadata": {
        "id": "422be345"
      },
      "source": [
        "## Data Preprocessing and Cleaning"
      ]
    },
    {
      "cell_type": "code",
      "execution_count": null,
      "id": "8a86f1e6",
      "metadata": {
        "scrolled": false,
        "id": "8a86f1e6",
        "outputId": "baa4ed93-2aa0-4a65-a692-f3d6aad2d694"
      },
      "outputs": [
        {
          "data": {
            "text/plain": [
              "ACCOUNT_ID              276307\n",
              "CUSTOMER_ID             276307\n",
              "INIT_BALANCE            276307\n",
              "COUNTRY                 276307\n",
              "ACCOUNT_TYPE            276307\n",
              "IS_FRAUD                     0\n",
              "TX_BEHAVIOR_ID          276307\n",
              "TX_ID                      202\n",
              "SENDER_ACCOUNT_ID          202\n",
              "RECEIVER_ACCOUNT_ID        202\n",
              "TX_TYPE                    202\n",
              "TX_AMOUNT                  202\n",
              "TIMESTAMP                  202\n",
              "ALERT_ID                   202\n",
              "ALERT_TYPE             1321717\n",
              "dtype: int64"
            ]
          },
          "execution_count": 27,
          "metadata": {},
          "output_type": "execute_result"
        }
      ],
      "source": [
        "#find our number of missing values in Dataframe\n",
        "final.isnull().sum()"
      ]
    },
    {
      "cell_type": "code",
      "execution_count": null,
      "id": "57c610fe",
      "metadata": {
        "id": "57c610fe",
        "outputId": "4277e244-a96d-4f2c-977b-0b770b5c0399"
      },
      "outputs": [
        {
          "data": {
            "text/html": [
              "<div>\n",
              "<style scoped>\n",
              "    .dataframe tbody tr th:only-of-type {\n",
              "        vertical-align: middle;\n",
              "    }\n",
              "\n",
              "    .dataframe tbody tr th {\n",
              "        vertical-align: top;\n",
              "    }\n",
              "\n",
              "    .dataframe thead th {\n",
              "        text-align: right;\n",
              "    }\n",
              "</style>\n",
              "<table border=\"1\" class=\"dataframe\">\n",
              "  <thead>\n",
              "    <tr style=\"text-align: right;\">\n",
              "      <th></th>\n",
              "      <th>ACCOUNT_ID</th>\n",
              "      <th>CUSTOMER_ID</th>\n",
              "      <th>INIT_BALANCE</th>\n",
              "      <th>COUNTRY</th>\n",
              "      <th>ACCOUNT_TYPE</th>\n",
              "      <th>IS_FRAUD</th>\n",
              "      <th>TX_BEHAVIOR_ID</th>\n",
              "      <th>TX_ID</th>\n",
              "      <th>SENDER_ACCOUNT_ID</th>\n",
              "      <th>RECEIVER_ACCOUNT_ID</th>\n",
              "      <th>TX_TYPE</th>\n",
              "      <th>TX_AMOUNT</th>\n",
              "      <th>TIMESTAMP</th>\n",
              "      <th>ALERT_ID</th>\n",
              "      <th>ALERT_TYPE</th>\n",
              "    </tr>\n",
              "  </thead>\n",
              "  <tbody>\n",
              "    <tr>\n",
              "      <th>0</th>\n",
              "      <td>0.0</td>\n",
              "      <td>C_0</td>\n",
              "      <td>184.44</td>\n",
              "      <td>US</td>\n",
              "      <td>I</td>\n",
              "      <td>False</td>\n",
              "      <td>1.0</td>\n",
              "      <td>NaN</td>\n",
              "      <td>NaN</td>\n",
              "      <td>NaN</td>\n",
              "      <td>NaN</td>\n",
              "      <td>NaN</td>\n",
              "      <td>NaN</td>\n",
              "      <td>NaN</td>\n",
              "      <td>NaN</td>\n",
              "    </tr>\n",
              "    <tr>\n",
              "      <th>1</th>\n",
              "      <td>1.0</td>\n",
              "      <td>C_1</td>\n",
              "      <td>175.80</td>\n",
              "      <td>US</td>\n",
              "      <td>I</td>\n",
              "      <td>False</td>\n",
              "      <td>1.0</td>\n",
              "      <td>40545.0</td>\n",
              "      <td>1.0</td>\n",
              "      <td>884.0</td>\n",
              "      <td>TRANSFER</td>\n",
              "      <td>175.80</td>\n",
              "      <td>6.0</td>\n",
              "      <td>-1.0</td>\n",
              "      <td>NaN</td>\n",
              "    </tr>\n",
              "    <tr>\n",
              "      <th>2</th>\n",
              "      <td>1.0</td>\n",
              "      <td>C_1</td>\n",
              "      <td>175.80</td>\n",
              "      <td>US</td>\n",
              "      <td>I</td>\n",
              "      <td>False</td>\n",
              "      <td>1.0</td>\n",
              "      <td>120410.0</td>\n",
              "      <td>1.0</td>\n",
              "      <td>884.0</td>\n",
              "      <td>TRANSFER</td>\n",
              "      <td>175.80</td>\n",
              "      <td>19.0</td>\n",
              "      <td>-1.0</td>\n",
              "      <td>NaN</td>\n",
              "    </tr>\n",
              "    <tr>\n",
              "      <th>3</th>\n",
              "      <td>1.0</td>\n",
              "      <td>C_1</td>\n",
              "      <td>175.80</td>\n",
              "      <td>US</td>\n",
              "      <td>I</td>\n",
              "      <td>False</td>\n",
              "      <td>1.0</td>\n",
              "      <td>252101.0</td>\n",
              "      <td>1.0</td>\n",
              "      <td>884.0</td>\n",
              "      <td>TRANSFER</td>\n",
              "      <td>175.80</td>\n",
              "      <td>38.0</td>\n",
              "      <td>-1.0</td>\n",
              "      <td>NaN</td>\n",
              "    </tr>\n",
              "    <tr>\n",
              "      <th>4</th>\n",
              "      <td>1.0</td>\n",
              "      <td>C_1</td>\n",
              "      <td>175.80</td>\n",
              "      <td>US</td>\n",
              "      <td>I</td>\n",
              "      <td>False</td>\n",
              "      <td>1.0</td>\n",
              "      <td>315679.0</td>\n",
              "      <td>1.0</td>\n",
              "      <td>884.0</td>\n",
              "      <td>TRANSFER</td>\n",
              "      <td>175.80</td>\n",
              "      <td>48.0</td>\n",
              "      <td>-1.0</td>\n",
              "      <td>NaN</td>\n",
              "    </tr>\n",
              "    <tr>\n",
              "      <th>...</th>\n",
              "      <td>...</td>\n",
              "      <td>...</td>\n",
              "      <td>...</td>\n",
              "      <td>...</td>\n",
              "      <td>...</td>\n",
              "      <td>...</td>\n",
              "      <td>...</td>\n",
              "      <td>...</td>\n",
              "      <td>...</td>\n",
              "      <td>...</td>\n",
              "      <td>...</td>\n",
              "      <td>...</td>\n",
              "      <td>...</td>\n",
              "      <td>...</td>\n",
              "      <td>...</td>\n",
              "    </tr>\n",
              "    <tr>\n",
              "      <th>1323431</th>\n",
              "      <td>NaN</td>\n",
              "      <td>NaN</td>\n",
              "      <td>NaN</td>\n",
              "      <td>NaN</td>\n",
              "      <td>NaN</td>\n",
              "      <td>False</td>\n",
              "      <td>NaN</td>\n",
              "      <td>790916.0</td>\n",
              "      <td>8252.0</td>\n",
              "      <td>9571.0</td>\n",
              "      <td>TRANSFER</td>\n",
              "      <td>1107581.12</td>\n",
              "      <td>120.0</td>\n",
              "      <td>-1.0</td>\n",
              "      <td>NaN</td>\n",
              "    </tr>\n",
              "    <tr>\n",
              "      <th>1323432</th>\n",
              "      <td>NaN</td>\n",
              "      <td>NaN</td>\n",
              "      <td>NaN</td>\n",
              "      <td>NaN</td>\n",
              "      <td>NaN</td>\n",
              "      <td>False</td>\n",
              "      <td>NaN</td>\n",
              "      <td>943847.0</td>\n",
              "      <td>8252.0</td>\n",
              "      <td>9186.0</td>\n",
              "      <td>TRANSFER</td>\n",
              "      <td>4358606.00</td>\n",
              "      <td>142.0</td>\n",
              "      <td>-1.0</td>\n",
              "      <td>NaN</td>\n",
              "    </tr>\n",
              "    <tr>\n",
              "      <th>1323433</th>\n",
              "      <td>NaN</td>\n",
              "      <td>NaN</td>\n",
              "      <td>NaN</td>\n",
              "      <td>NaN</td>\n",
              "      <td>NaN</td>\n",
              "      <td>False</td>\n",
              "      <td>NaN</td>\n",
              "      <td>1131403.0</td>\n",
              "      <td>8252.0</td>\n",
              "      <td>8087.0</td>\n",
              "      <td>TRANSFER</td>\n",
              "      <td>13742056.00</td>\n",
              "      <td>171.0</td>\n",
              "      <td>-1.0</td>\n",
              "      <td>NaN</td>\n",
              "    </tr>\n",
              "    <tr>\n",
              "      <th>1323434</th>\n",
              "      <td>NaN</td>\n",
              "      <td>NaN</td>\n",
              "      <td>NaN</td>\n",
              "      <td>NaN</td>\n",
              "      <td>NaN</td>\n",
              "      <td>False</td>\n",
              "      <td>NaN</td>\n",
              "      <td>1205770.0</td>\n",
              "      <td>8252.0</td>\n",
              "      <td>3904.0</td>\n",
              "      <td>TRANSFER</td>\n",
              "      <td>21474836.47</td>\n",
              "      <td>182.0</td>\n",
              "      <td>-1.0</td>\n",
              "      <td>NaN</td>\n",
              "    </tr>\n",
              "    <tr>\n",
              "      <th>1323435</th>\n",
              "      <td>NaN</td>\n",
              "      <td>NaN</td>\n",
              "      <td>NaN</td>\n",
              "      <td>NaN</td>\n",
              "      <td>NaN</td>\n",
              "      <td>False</td>\n",
              "      <td>NaN</td>\n",
              "      <td>1259107.0</td>\n",
              "      <td>8252.0</td>\n",
              "      <td>753.0</td>\n",
              "      <td>TRANSFER</td>\n",
              "      <td>21474836.47</td>\n",
              "      <td>190.0</td>\n",
              "      <td>-1.0</td>\n",
              "      <td>NaN</td>\n",
              "    </tr>\n",
              "  </tbody>\n",
              "</table>\n",
              "<p>1321717 rows × 15 columns</p>\n",
              "</div>"
            ],
            "text/plain": [
              "         ACCOUNT_ID CUSTOMER_ID  INIT_BALANCE COUNTRY ACCOUNT_TYPE  IS_FRAUD  \\\n",
              "0               0.0         C_0        184.44      US            I     False   \n",
              "1               1.0         C_1        175.80      US            I     False   \n",
              "2               1.0         C_1        175.80      US            I     False   \n",
              "3               1.0         C_1        175.80      US            I     False   \n",
              "4               1.0         C_1        175.80      US            I     False   \n",
              "...             ...         ...           ...     ...          ...       ...   \n",
              "1323431         NaN         NaN           NaN     NaN          NaN     False   \n",
              "1323432         NaN         NaN           NaN     NaN          NaN     False   \n",
              "1323433         NaN         NaN           NaN     NaN          NaN     False   \n",
              "1323434         NaN         NaN           NaN     NaN          NaN     False   \n",
              "1323435         NaN         NaN           NaN     NaN          NaN     False   \n",
              "\n",
              "         TX_BEHAVIOR_ID      TX_ID  SENDER_ACCOUNT_ID  RECEIVER_ACCOUNT_ID  \\\n",
              "0                   1.0        NaN                NaN                  NaN   \n",
              "1                   1.0    40545.0                1.0                884.0   \n",
              "2                   1.0   120410.0                1.0                884.0   \n",
              "3                   1.0   252101.0                1.0                884.0   \n",
              "4                   1.0   315679.0                1.0                884.0   \n",
              "...                 ...        ...                ...                  ...   \n",
              "1323431             NaN   790916.0             8252.0               9571.0   \n",
              "1323432             NaN   943847.0             8252.0               9186.0   \n",
              "1323433             NaN  1131403.0             8252.0               8087.0   \n",
              "1323434             NaN  1205770.0             8252.0               3904.0   \n",
              "1323435             NaN  1259107.0             8252.0                753.0   \n",
              "\n",
              "          TX_TYPE    TX_AMOUNT  TIMESTAMP  ALERT_ID ALERT_TYPE  \n",
              "0             NaN          NaN        NaN       NaN        NaN  \n",
              "1        TRANSFER       175.80        6.0      -1.0        NaN  \n",
              "2        TRANSFER       175.80       19.0      -1.0        NaN  \n",
              "3        TRANSFER       175.80       38.0      -1.0        NaN  \n",
              "4        TRANSFER       175.80       48.0      -1.0        NaN  \n",
              "...           ...          ...        ...       ...        ...  \n",
              "1323431  TRANSFER   1107581.12      120.0      -1.0        NaN  \n",
              "1323432  TRANSFER   4358606.00      142.0      -1.0        NaN  \n",
              "1323433  TRANSFER  13742056.00      171.0      -1.0        NaN  \n",
              "1323434  TRANSFER  21474836.47      182.0      -1.0        NaN  \n",
              "1323435  TRANSFER  21474836.47      190.0      -1.0        NaN  \n",
              "\n",
              "[1321717 rows x 15 columns]"
            ]
          },
          "execution_count": 28,
          "metadata": {},
          "output_type": "execute_result"
        }
      ],
      "source": [
        "#returns only those rows having missing data\n",
        "missing_values= final[final.isnull().any(axis=1)]\n",
        "missing_values"
      ]
    },
    {
      "cell_type": "markdown",
      "id": "81e74aaa",
      "metadata": {
        "id": "81e74aaa"
      },
      "source": [
        "    ACCOUNT_ID, CUSTOMER_ID, INIT_BALANCE, COUNTRY, ACCOUNT_TYPE, IX_BEHAVIOR_ID, ALERT_TYPE have lots of missing values present in the final dataset\n",
        "    TX-ID, SENDER_ACCOUNT_ID, RECEIVER_ACCOUNT_ID, TX_TYPE, TX_AMOUNT, TIMESTAMP, ALERT_ID have lesser of missing values.\n",
        "    \n",
        "    Filling these columns with statistical or most frequent values will create a bias while training our model"
      ]
    },
    {
      "cell_type": "markdown",
      "id": "42b88e8e",
      "metadata": {
        "id": "42b88e8e"
      },
      "source": [
        "### Observations for Data Cleaning\n",
        "\n",
        "   * ACCOUNT_ID and SENDER_ACCOUNT_ID contains similar values, we can remove one of the Column.\n",
        "   * CUSTOMER_ID is nothing but ACCOUNT_ID prefixed with C_. so, we can remove this column as well\n",
        "   * COUNTRY, ACCOUNT_TYPE contains only one unique value across entire dataset. Keeping these only will increase length of Feature columns. We will remove these columns.\n",
        "   * TX_TYPE also contains one unique value as 'TRANSFER'. So, we can remove these columns as well.\n",
        "   * TX_ID has unique value for each observation, so it is safe to drop from our analysis"
      ]
    },
    {
      "cell_type": "code",
      "execution_count": null,
      "id": "b977d9f1",
      "metadata": {
        "id": "b977d9f1"
      },
      "outputs": [],
      "source": [
        "##final= final.drop([['CUSTOMER_ID','COUNTRY', 'ACCOUNT_TYPE', 'TX_TYPE', 'TX_ID']], axis=1, inplace=True)\n",
        "\n",
        "#final.head()"
      ]
    },
    {
      "cell_type": "markdown",
      "id": "bdd089dc",
      "metadata": {
        "id": "bdd089dc"
      },
      "source": [
        "    We need to predict the given transaction is FRAUD(Value TRUE) or not FRAUD(value= False)\n",
        "    Since we know the target class, this is supervised learning, typical binary Classification modelling.\n",
        "    "
      ]
    },
    {
      "cell_type": "markdown",
      "id": "01f4bf89",
      "metadata": {
        "id": "01f4bf89"
      },
      "source": [
        "Transaction is happened from one account to multiple receiver accounts. so, we would group the dataset based on SENDER_ACCOUNT_ID and other necessary columns instead of dropping the fewer columns"
      ]
    },
    {
      "cell_type": "code",
      "execution_count": null,
      "id": "25d62066",
      "metadata": {
        "scrolled": true,
        "id": "25d62066",
        "outputId": "b72a479e-0c60-423d-9d31-389ac781a866"
      },
      "outputs": [
        {
          "data": {
            "text/html": [
              "<div>\n",
              "<style scoped>\n",
              "    .dataframe tbody tr th:only-of-type {\n",
              "        vertical-align: middle;\n",
              "    }\n",
              "\n",
              "    .dataframe tbody tr th {\n",
              "        vertical-align: top;\n",
              "    }\n",
              "\n",
              "    .dataframe thead th {\n",
              "        text-align: right;\n",
              "    }\n",
              "</style>\n",
              "<table border=\"1\" class=\"dataframe\">\n",
              "  <thead>\n",
              "    <tr style=\"text-align: right;\">\n",
              "      <th></th>\n",
              "      <th>SENDER_ACCOUNT_ID</th>\n",
              "      <th>RECEIVER_ACCOUNT_ID</th>\n",
              "      <th>INIT_BALANCE</th>\n",
              "      <th>TX_AMOUNT</th>\n",
              "      <th>TX_BEHAVIOR_ID</th>\n",
              "      <th>ALERT_ID</th>\n",
              "      <th>TIMESTAMP</th>\n",
              "      <th>IS_FRAUD</th>\n",
              "      <th>ACCOUNT_ID</th>\n",
              "      <th>count</th>\n",
              "    </tr>\n",
              "  </thead>\n",
              "  <tbody>\n",
              "    <tr>\n",
              "      <th>0</th>\n",
              "      <td>1.0</td>\n",
              "      <td>884.0</td>\n",
              "      <td>175.8</td>\n",
              "      <td>175.8</td>\n",
              "      <td>1.0</td>\n",
              "      <td>-1.0</td>\n",
              "      <td>6.0</td>\n",
              "      <td>False</td>\n",
              "      <td>1.0</td>\n",
              "      <td>1</td>\n",
              "    </tr>\n",
              "    <tr>\n",
              "      <th>1</th>\n",
              "      <td>1.0</td>\n",
              "      <td>884.0</td>\n",
              "      <td>175.8</td>\n",
              "      <td>175.8</td>\n",
              "      <td>1.0</td>\n",
              "      <td>-1.0</td>\n",
              "      <td>19.0</td>\n",
              "      <td>False</td>\n",
              "      <td>1.0</td>\n",
              "      <td>1</td>\n",
              "    </tr>\n",
              "    <tr>\n",
              "      <th>2</th>\n",
              "      <td>1.0</td>\n",
              "      <td>884.0</td>\n",
              "      <td>175.8</td>\n",
              "      <td>175.8</td>\n",
              "      <td>1.0</td>\n",
              "      <td>-1.0</td>\n",
              "      <td>38.0</td>\n",
              "      <td>False</td>\n",
              "      <td>1.0</td>\n",
              "      <td>1</td>\n",
              "    </tr>\n",
              "    <tr>\n",
              "      <th>3</th>\n",
              "      <td>1.0</td>\n",
              "      <td>884.0</td>\n",
              "      <td>175.8</td>\n",
              "      <td>175.8</td>\n",
              "      <td>1.0</td>\n",
              "      <td>-1.0</td>\n",
              "      <td>48.0</td>\n",
              "      <td>False</td>\n",
              "      <td>1.0</td>\n",
              "      <td>1</td>\n",
              "    </tr>\n",
              "    <tr>\n",
              "      <th>4</th>\n",
              "      <td>1.0</td>\n",
              "      <td>884.0</td>\n",
              "      <td>175.8</td>\n",
              "      <td>175.8</td>\n",
              "      <td>1.0</td>\n",
              "      <td>-1.0</td>\n",
              "      <td>55.0</td>\n",
              "      <td>False</td>\n",
              "      <td>1.0</td>\n",
              "      <td>1</td>\n",
              "    </tr>\n",
              "  </tbody>\n",
              "</table>\n",
              "</div>"
            ],
            "text/plain": [
              "   SENDER_ACCOUNT_ID  RECEIVER_ACCOUNT_ID  INIT_BALANCE  TX_AMOUNT  \\\n",
              "0                1.0                884.0         175.8      175.8   \n",
              "1                1.0                884.0         175.8      175.8   \n",
              "2                1.0                884.0         175.8      175.8   \n",
              "3                1.0                884.0         175.8      175.8   \n",
              "4                1.0                884.0         175.8      175.8   \n",
              "\n",
              "   TX_BEHAVIOR_ID  ALERT_ID  TIMESTAMP  IS_FRAUD  ACCOUNT_ID  count  \n",
              "0             1.0      -1.0        6.0     False         1.0      1  \n",
              "1             1.0      -1.0       19.0     False         1.0      1  \n",
              "2             1.0      -1.0       38.0     False         1.0      1  \n",
              "3             1.0      -1.0       48.0     False         1.0      1  \n",
              "4             1.0      -1.0       55.0     False         1.0      1  "
            ]
          },
          "execution_count": 30,
          "metadata": {},
          "output_type": "execute_result"
        }
      ],
      "source": [
        "df= final.groupby(['SENDER_ACCOUNT_ID', 'RECEIVER_ACCOUNT_ID', 'INIT_BALANCE', 'TX_AMOUNT', 'TX_BEHAVIOR_ID', 'ALERT_ID','TIMESTAMP','IS_FRAUD'], as_index=True)['ACCOUNT_ID'].value_counts().to_frame(name='count').reset_index()\n",
        "#grouped dataset converted to dataframe useful to our analysis\n",
        "\n",
        "df.head()"
      ]
    },
    {
      "cell_type": "code",
      "execution_count": null,
      "id": "a97dc8bc",
      "metadata": {
        "scrolled": true,
        "id": "a97dc8bc",
        "outputId": "00ae2c01-d67d-45d2-e873-80b8829328b2"
      },
      "outputs": [
        {
          "name": "stdout",
          "output_type": "stream",
          "text": [
            "(1046927, 10) <class 'pandas.core.frame.DataFrame'>\n",
            "<class 'pandas.core.frame.DataFrame'>\n",
            "RangeIndex: 1046927 entries, 0 to 1046926\n",
            "Data columns (total 10 columns):\n",
            " #   Column               Non-Null Count    Dtype  \n",
            "---  ------               --------------    -----  \n",
            " 0   SENDER_ACCOUNT_ID    1046927 non-null  float64\n",
            " 1   RECEIVER_ACCOUNT_ID  1046927 non-null  float64\n",
            " 2   INIT_BALANCE         1046927 non-null  float64\n",
            " 3   TX_AMOUNT            1046927 non-null  float64\n",
            " 4   TX_BEHAVIOR_ID       1046927 non-null  float64\n",
            " 5   ALERT_ID             1046927 non-null  float64\n",
            " 6   TIMESTAMP            1046927 non-null  float64\n",
            " 7   IS_FRAUD             1046927 non-null  bool   \n",
            " 8   ACCOUNT_ID           1046927 non-null  float64\n",
            " 9   count                1046927 non-null  int64  \n",
            "dtypes: bool(1), float64(8), int64(1)\n",
            "memory usage: 72.9 MB\n"
          ]
        }
      ],
      "source": [
        "print(df.shape, type(df))\n",
        "\n",
        "df.info()"
      ]
    },
    {
      "cell_type": "markdown",
      "id": "096a7d35",
      "metadata": {
        "id": "096a7d35"
      },
      "source": [
        "Resultant dataframe contains 1046927 transactions in 10 features/columns."
      ]
    },
    {
      "cell_type": "code",
      "execution_count": null,
      "id": "9ffdfc21",
      "metadata": {
        "scrolled": true,
        "id": "9ffdfc21",
        "outputId": "5a26708e-2d4a-4e9f-8874-f134376bfa76"
      },
      "outputs": [
        {
          "data": {
            "text/plain": [
              "False    1045208\n",
              "True        1719\n",
              "Name: IS_FRAUD, dtype: int64"
            ]
          },
          "execution_count": 32,
          "metadata": {},
          "output_type": "execute_result"
        }
      ],
      "source": [
        "df['IS_FRAUD'].value_counts()"
      ]
    },
    {
      "cell_type": "markdown",
      "id": "5005bdc8",
      "metadata": {
        "id": "5005bdc8"
      },
      "source": [
        "    Our target column IS_FRAUD is defined as boolean datatype. \n",
        "    SENDER_ACCOUNT_ID, RECEIVER_ACCOUNT_ID, TX_BEHAVIOR_ID, ALERT_ID, ACCOUNT_ID supposed to be integer defined as float columns. so, we will convert into desired datatypes."
      ]
    },
    {
      "cell_type": "code",
      "execution_count": null,
      "id": "de2103b3",
      "metadata": {
        "id": "de2103b3"
      },
      "outputs": [],
      "source": [
        "#convert target column into categorical column\n",
        "df['IS_FRAUD'] = df['IS_FRAUD'].astype(\"category\")\n",
        "\n",
        "#few of the float columns needs to be converted to integer datatype\n",
        "int_cols= ['SENDER_ACCOUNT_ID', 'RECEIVER_ACCOUNT_ID', 'TX_BEHAVIOR_ID', 'ALERT_ID', 'ACCOUNT_ID']\n",
        "\n",
        "df[int_cols] = df[int_cols].astype(\"int64\")"
      ]
    },
    {
      "cell_type": "markdown",
      "id": "db7e34a5",
      "metadata": {
        "id": "db7e34a5"
      },
      "source": [
        "    ACCOUNT_ID is duplicate column of SENDER_ACCOUNT_ID. \n",
        "    count is count of ACCOUNT_IDs\n",
        "These columns are unnecessary, so we will drop these columns"
      ]
    },
    {
      "cell_type": "code",
      "execution_count": null,
      "id": "d18d1f2c",
      "metadata": {
        "id": "d18d1f2c"
      },
      "outputs": [],
      "source": [
        "#drop the columns\n",
        "df= df.drop(['ACCOUNT_ID', 'count'], axis=1)"
      ]
    },
    {
      "cell_type": "markdown",
      "id": "23b40cdb",
      "metadata": {
        "id": "23b40cdb"
      },
      "source": [
        "#### Since, we know our target label, we are implementing Supervised Learning ML algorithm to predict. Before all these, we need to explore each feature of the dataset statistically or visually"
      ]
    },
    {
      "cell_type": "markdown",
      "id": "138dc52e",
      "metadata": {
        "id": "138dc52e"
      },
      "source": [
        "### Statistical EDA"
      ]
    },
    {
      "cell_type": "code",
      "execution_count": null,
      "id": "0d3a478c",
      "metadata": {
        "id": "0d3a478c",
        "outputId": "bd3bddb8-88fc-46d1-c37e-8078cd32a3bb"
      },
      "outputs": [
        {
          "data": {
            "text/html": [
              "<div>\n",
              "<style scoped>\n",
              "    .dataframe tbody tr th:only-of-type {\n",
              "        vertical-align: middle;\n",
              "    }\n",
              "\n",
              "    .dataframe tbody tr th {\n",
              "        vertical-align: top;\n",
              "    }\n",
              "\n",
              "    .dataframe thead th {\n",
              "        text-align: right;\n",
              "    }\n",
              "</style>\n",
              "<table border=\"1\" class=\"dataframe\">\n",
              "  <thead>\n",
              "    <tr style=\"text-align: right;\">\n",
              "      <th></th>\n",
              "      <th>SENDER_ACCOUNT_ID</th>\n",
              "      <th>RECEIVER_ACCOUNT_ID</th>\n",
              "      <th>INIT_BALANCE</th>\n",
              "      <th>TX_AMOUNT</th>\n",
              "      <th>TX_BEHAVIOR_ID</th>\n",
              "      <th>ALERT_ID</th>\n",
              "      <th>TIMESTAMP</th>\n",
              "    </tr>\n",
              "  </thead>\n",
              "  <tbody>\n",
              "    <tr>\n",
              "      <th>count</th>\n",
              "      <td>1.046927e+06</td>\n",
              "      <td>1.046927e+06</td>\n",
              "      <td>1.046927e+06</td>\n",
              "      <td>1.046927e+06</td>\n",
              "      <td>1.046927e+06</td>\n",
              "      <td>1.046927e+06</td>\n",
              "      <td>1.046927e+06</td>\n",
              "    </tr>\n",
              "    <tr>\n",
              "      <th>mean</th>\n",
              "      <td>5.705657e+03</td>\n",
              "      <td>6.784222e+03</td>\n",
              "      <td>2.606126e+02</td>\n",
              "      <td>1.230745e+05</td>\n",
              "      <td>2.788596e+00</td>\n",
              "      <td>-6.567191e-01</td>\n",
              "      <td>1.000320e+02</td>\n",
              "    </tr>\n",
              "    <tr>\n",
              "      <th>std</th>\n",
              "      <td>2.876908e+03</td>\n",
              "      <td>2.860069e+03</td>\n",
              "      <td>1.628514e+02</td>\n",
              "      <td>1.360970e+06</td>\n",
              "      <td>1.286686e+00</td>\n",
              "      <td>9.660501e+00</td>\n",
              "      <td>5.753842e+01</td>\n",
              "    </tr>\n",
              "    <tr>\n",
              "      <th>min</th>\n",
              "      <td>1.000000e+00</td>\n",
              "      <td>3.000000e+00</td>\n",
              "      <td>1.000000e+02</td>\n",
              "      <td>0.000000e+00</td>\n",
              "      <td>1.000000e+00</td>\n",
              "      <td>-1.000000e+00</td>\n",
              "      <td>0.000000e+00</td>\n",
              "    </tr>\n",
              "    <tr>\n",
              "      <th>25%</th>\n",
              "      <td>3.431000e+03</td>\n",
              "      <td>4.597000e+03</td>\n",
              "      <td>1.373700e+02</td>\n",
              "      <td>2.336000e+01</td>\n",
              "      <td>1.000000e+00</td>\n",
              "      <td>-1.000000e+00</td>\n",
              "      <td>5.000000e+01</td>\n",
              "    </tr>\n",
              "    <tr>\n",
              "      <th>50%</th>\n",
              "      <td>6.055000e+03</td>\n",
              "      <td>7.573000e+03</td>\n",
              "      <td>1.760800e+02</td>\n",
              "      <td>1.570700e+02</td>\n",
              "      <td>3.000000e+00</td>\n",
              "      <td>-1.000000e+00</td>\n",
              "      <td>1.000000e+02</td>\n",
              "    </tr>\n",
              "    <tr>\n",
              "      <th>75%</th>\n",
              "      <td>8.229000e+03</td>\n",
              "      <td>9.356000e+03</td>\n",
              "      <td>4.294500e+02</td>\n",
              "      <td>4.505500e+02</td>\n",
              "      <td>4.000000e+00</td>\n",
              "      <td>-1.000000e+00</td>\n",
              "      <td>1.500000e+02</td>\n",
              "    </tr>\n",
              "    <tr>\n",
              "      <th>max</th>\n",
              "      <td>9.999000e+03</td>\n",
              "      <td>9.999000e+03</td>\n",
              "      <td>5.996000e+02</td>\n",
              "      <td>2.147484e+07</td>\n",
              "      <td>5.000000e+00</td>\n",
              "      <td>3.990000e+02</td>\n",
              "      <td>1.990000e+02</td>\n",
              "    </tr>\n",
              "  </tbody>\n",
              "</table>\n",
              "</div>"
            ],
            "text/plain": [
              "       SENDER_ACCOUNT_ID  RECEIVER_ACCOUNT_ID  INIT_BALANCE     TX_AMOUNT  \\\n",
              "count       1.046927e+06         1.046927e+06  1.046927e+06  1.046927e+06   \n",
              "mean        5.705657e+03         6.784222e+03  2.606126e+02  1.230745e+05   \n",
              "std         2.876908e+03         2.860069e+03  1.628514e+02  1.360970e+06   \n",
              "min         1.000000e+00         3.000000e+00  1.000000e+02  0.000000e+00   \n",
              "25%         3.431000e+03         4.597000e+03  1.373700e+02  2.336000e+01   \n",
              "50%         6.055000e+03         7.573000e+03  1.760800e+02  1.570700e+02   \n",
              "75%         8.229000e+03         9.356000e+03  4.294500e+02  4.505500e+02   \n",
              "max         9.999000e+03         9.999000e+03  5.996000e+02  2.147484e+07   \n",
              "\n",
              "       TX_BEHAVIOR_ID      ALERT_ID     TIMESTAMP  \n",
              "count    1.046927e+06  1.046927e+06  1.046927e+06  \n",
              "mean     2.788596e+00 -6.567191e-01  1.000320e+02  \n",
              "std      1.286686e+00  9.660501e+00  5.753842e+01  \n",
              "min      1.000000e+00 -1.000000e+00  0.000000e+00  \n",
              "25%      1.000000e+00 -1.000000e+00  5.000000e+01  \n",
              "50%      3.000000e+00 -1.000000e+00  1.000000e+02  \n",
              "75%      4.000000e+00 -1.000000e+00  1.500000e+02  \n",
              "max      5.000000e+00  3.990000e+02  1.990000e+02  "
            ]
          },
          "execution_count": 35,
          "metadata": {},
          "output_type": "execute_result"
        }
      ],
      "source": [
        "#perform .describe() to understand summary statistics of dimensions. \n",
        "df.describe()"
      ]
    },
    {
      "cell_type": "markdown",
      "id": "de9eb299",
      "metadata": {
        "id": "de9eb299"
      },
      "source": [
        "Summary statistics always performed on numerical columns. Using .describe(exclude=’number)can be performed for non-numerical columns"
      ]
    },
    {
      "cell_type": "code",
      "execution_count": null,
      "id": "8421d683",
      "metadata": {
        "scrolled": false,
        "id": "8421d683",
        "outputId": "4415e345-0878-430e-d84f-466538bf297b"
      },
      "outputs": [
        {
          "data": {
            "text/html": [
              "<div>\n",
              "<style scoped>\n",
              "    .dataframe tbody tr th:only-of-type {\n",
              "        vertical-align: middle;\n",
              "    }\n",
              "\n",
              "    .dataframe tbody tr th {\n",
              "        vertical-align: top;\n",
              "    }\n",
              "\n",
              "    .dataframe thead th {\n",
              "        text-align: right;\n",
              "    }\n",
              "</style>\n",
              "<table border=\"1\" class=\"dataframe\">\n",
              "  <thead>\n",
              "    <tr style=\"text-align: right;\">\n",
              "      <th></th>\n",
              "      <th>IS_FRAUD</th>\n",
              "    </tr>\n",
              "  </thead>\n",
              "  <tbody>\n",
              "    <tr>\n",
              "      <th>count</th>\n",
              "      <td>1046927</td>\n",
              "    </tr>\n",
              "    <tr>\n",
              "      <th>unique</th>\n",
              "      <td>2</td>\n",
              "    </tr>\n",
              "    <tr>\n",
              "      <th>top</th>\n",
              "      <td>False</td>\n",
              "    </tr>\n",
              "    <tr>\n",
              "      <th>freq</th>\n",
              "      <td>1045208</td>\n",
              "    </tr>\n",
              "  </tbody>\n",
              "</table>\n",
              "</div>"
            ],
            "text/plain": [
              "       IS_FRAUD\n",
              "count   1046927\n",
              "unique        2\n",
              "top       False\n",
              "freq    1045208"
            ]
          },
          "execution_count": 36,
          "metadata": {},
          "output_type": "execute_result"
        }
      ],
      "source": [
        "#unique way to identify no.of unique values in categorical columns.\n",
        "df.describe(exclude='number')"
      ]
    },
    {
      "cell_type": "code",
      "execution_count": null,
      "id": "f499832f",
      "metadata": {
        "scrolled": true,
        "id": "f499832f",
        "outputId": "267cb04c-5456-4508-d9b3-15199253d05c"
      },
      "outputs": [
        {
          "name": "stderr",
          "output_type": "stream",
          "text": [
            "/tmp/ipykernel_51411/3540254206.py:1: FutureWarning: Dropping of nuisance columns in DataFrame reductions (with 'numeric_only=None') is deprecated; in a future version this will raise TypeError.  Select only valid columns before calling the reduction.\n",
            "  df.var().sort_values(ascending=True)\n"
          ]
        },
        {
          "data": {
            "text/plain": [
              "TX_BEHAVIOR_ID         1.655561e+00\n",
              "ALERT_ID               9.332527e+01\n",
              "TIMESTAMP              3.310670e+03\n",
              "INIT_BALANCE           2.652058e+04\n",
              "RECEIVER_ACCOUNT_ID    8.179992e+06\n",
              "SENDER_ACCOUNT_ID      8.276601e+06\n",
              "TX_AMOUNT              1.852240e+12\n",
              "dtype: float64"
            ]
          },
          "execution_count": 37,
          "metadata": {},
          "output_type": "execute_result"
        }
      ],
      "source": [
        "df.var().sort_values(ascending=True)"
      ]
    },
    {
      "cell_type": "markdown",
      "id": "6c1c9f45",
      "metadata": {
        "id": "6c1c9f45"
      },
      "source": [
        "Dataset features have high variances. so, we need to normalize the columns before training the model. If there is any column/s having low variance, we may consider them as non-required. "
      ]
    },
    {
      "cell_type": "code",
      "execution_count": null,
      "id": "9ea4ac0c",
      "metadata": {
        "id": "9ea4ac0c",
        "outputId": "3e876e4e-f231-4b0b-8e92-0ea8b7513d3f"
      },
      "outputs": [
        {
          "data": {
            "image/png": "[encoded data removed]",
            "text/plain": [
              "<Figure size 720x576 with 2 Axes>"
            ]
          },
          "metadata": {},
          "output_type": "display_data"
        }
      ],
      "source": [
        "# Create the correlation matrix\n",
        "corr = df.corr()\n",
        "# Generate a mask for the upper triangle\n",
        "mask = np.triu(np.ones_like(corr, dtype=bool))\n",
        "plt.figure(figsize= (10,8))\n",
        "# Add the mask to the heatmap\n",
        "sns.heatmap(corr, mask=mask, cmap='YlGnBu', center=0, linewidths=1, annot=True, fmt=\".2f\")\n",
        "plt.show()"
      ]
    },
    {
      "cell_type": "markdown",
      "id": "4dd6fbdd",
      "metadata": {
        "id": "4dd6fbdd"
      },
      "source": [
        "Features of correlation co-efficient of one or minus one bring no new information to a dataset but do add to the complexity. so naturally, we would want to drop one of the two features that hold the same information"
      ]
    },
    {
      "cell_type": "markdown",
      "id": "d22432ee",
      "metadata": {
        "id": "d22432ee"
      },
      "source": [
        "### Visual EDA"
      ]
    },
    {
      "cell_type": "code",
      "execution_count": null,
      "id": "7c1d9b7a",
      "metadata": {
        "id": "7c1d9b7a",
        "outputId": "b275e20b-b398-44f7-f125-6780b138bc99"
      },
      "outputs": [
        {
          "name": "stderr",
          "output_type": "stream",
          "text": [
            "/opt/miniconda3/lib/python3.8/site-packages/seaborn/_decorators.py:36: FutureWarning: Pass the following variable as a keyword arg: x. From version 0.12, the only valid positional argument will be `data`, and passing other arguments without an explicit keyword will result in an error or misinterpretation.\n",
            "  warnings.warn(\n"
          ]
        },
        {
          "data": {
            "image/png": "[encoded data removed]",
            "text/plain": [
              "<Figure size 864x720 with 1 Axes>"
            ]
          },
          "metadata": {},
          "output_type": "display_data"
        }
      ],
      "source": [
        "plt.figure(figsize= (12, 10))\n",
        "sns.countplot(df['IS_FRAUD'])\n",
        "plt.title(\"Distribution of FRAUDULENT transactions\", fontsize= 14)\n",
        "plt.xlabel('Type of Transactions', fontsize=13)\n",
        "plt.ylabel('Count', fontsize=13)\n",
        "plt.show()"
      ]
    },
    {
      "cell_type": "markdown",
      "id": "bfc6b462",
      "metadata": {
        "id": "bfc6b462"
      },
      "source": [
        "As we see in above count plot, False class is too high in IS_FRAUD distribution"
      ]
    },
    {
      "cell_type": "code",
      "execution_count": null,
      "id": "308a3218",
      "metadata": {
        "scrolled": true,
        "id": "308a3218",
        "outputId": "04d435ea-a87d-42f3-df7e-faa2f4dd7047"
      },
      "outputs": [
        {
          "data": {
            "image/png": "[encoded data removed]",
            "text/plain": [
              "<Figure size 432x288 with 1 Axes>"
            ]
          },
          "metadata": {},
          "output_type": "display_data"
        }
      ],
      "source": [
        "df['SENDER_ACCOUNT_ID'].hist()\n",
        "plt.show()"
      ]
    },
    {
      "cell_type": "code",
      "execution_count": null,
      "id": "05e14d1b",
      "metadata": {
        "id": "05e14d1b",
        "outputId": "5ec5857d-caee-415a-9071-556706953633"
      },
      "outputs": [
        {
          "data": {
            "image/png": "[encoded data removed]",
            "text/plain": [
              "<Figure size 432x288 with 1 Axes>"
            ]
          },
          "metadata": {},
          "output_type": "display_data"
        }
      ],
      "source": [
        "df['RECEIVER_ACCOUNT_ID'].hist()\n",
        "plt.show()"
      ]
    },
    {
      "cell_type": "markdown",
      "id": "56f9f84c",
      "metadata": {
        "id": "56f9f84c"
      },
      "source": [
        "It is understood from the SENDER_ACCOUNT_ID, RECEIVER_ACCOUNT_ID histograms that many transactions transferred from or transferred to ACCOUNT_IDs more than 9000"
      ]
    },
    {
      "cell_type": "code",
      "execution_count": null,
      "id": "7fbca026",
      "metadata": {
        "id": "7fbca026",
        "outputId": "0b2de8f4-41b1-486b-ce9e-790f23e226ee"
      },
      "outputs": [
        {
          "data": {
            "image/png": "[encoded data removed]",
            "text/plain": [
              "<Figure size 432x288 with 1 Axes>"
            ]
          },
          "metadata": {},
          "output_type": "display_data"
        }
      ],
      "source": [
        "df[['INIT_BALANCE']].boxplot()\n",
        "plt.show()"
      ]
    },
    {
      "cell_type": "code",
      "execution_count": null,
      "id": "306a116c",
      "metadata": {
        "id": "306a116c",
        "outputId": "07c74485-4629-4006-d3c2-b82f94702bd9"
      },
      "outputs": [
        {
          "data": {
            "image/png": "[encoded data removed]",
            "text/plain": [
              "<Figure size 432x288 with 1 Axes>"
            ]
          },
          "metadata": {},
          "output_type": "display_data"
        }
      ],
      "source": [
        "df[['TX_AMOUNT']].boxplot()\n",
        "plt.show()"
      ]
    },
    {
      "cell_type": "markdown",
      "id": "615d5c3d",
      "metadata": {
        "id": "615d5c3d"
      },
      "source": [
        "There are no outliers present in INIT_BALANCE, but TX_AMOUNT has outliers. Notice more outliers are present in TX_AMOUNT attribute. For now, we will do model building considering outlier values"
      ]
    },
    {
      "cell_type": "code",
      "execution_count": null,
      "id": "b3cdfee4",
      "metadata": {
        "id": "b3cdfee4",
        "outputId": "1870483f-ece7-4aba-a576-f40600ae658c"
      },
      "outputs": [
        {
          "data": {
            "image/png": "[encoded data removed]",
            "text/plain": [
              "<Figure size 720x1080 with 2 Axes>"
            ]
          },
          "metadata": {},
          "output_type": "display_data"
        }
      ],
      "source": [
        "fig, ax = plt.subplots(2, 1, figsize=(10,15))\n",
        "sns.boxplot(x='IS_FRAUD', y='TX_AMOUNT', data=df, ax=ax[0])\n",
        "ax[0].set_xlabel('Target', fontsize=12)\n",
        "ax[0].set_title('Target class distribution in Transaction Amount', fontsize=14)\n",
        "\n",
        "sns.boxplot(x='IS_FRAUD', y='INIT_BALANCE', data=df, ax=ax[1])\n",
        "ax[1].set_xlabel('Target', fontsize=12)\n",
        "ax[1].set_title('Target class distribution in Account Balance', fontsize=14)\n",
        "\n",
        "plt.show()"
      ]
    },
    {
      "cell_type": "code",
      "execution_count": null,
      "id": "5698616a",
      "metadata": {
        "id": "5698616a",
        "outputId": "d0ab3f83-c08a-4155-eb4e-153c20980c4f"
      },
      "outputs": [
        {
          "data": {
            "image/png": "[encoded data removed]",
            "text/plain": [
              "<Figure size 864x576 with 1 Axes>"
            ]
          },
          "metadata": {},
          "output_type": "display_data"
        }
      ],
      "source": [
        "plt.figure(figsize=(12,8))\n",
        "sns.countplot(x='SENDER_ACCOUNT_ID', data=df, hue= 'IS_FRAUD', palette='winter', order=df.SENDER_ACCOUNT_ID.value_counts().iloc[:15].index)\n",
        "plt.ylabel('Count', fontsize=12)\n",
        "plt.xlabel('SENDER ACCOUNT ID', fontsize=12)\n",
        "plt.title('Top 15 Sender Accounts', fontsize=14)\n",
        "plt.axis('tight')\n",
        "\n",
        "plt.show()"
      ]
    },
    {
      "cell_type": "code",
      "execution_count": null,
      "id": "b198c2a5",
      "metadata": {
        "scrolled": true,
        "id": "b198c2a5",
        "outputId": "ca5102ad-3a9f-4d3d-8203-159936d44d6f"
      },
      "outputs": [
        {
          "data": {
            "image/png": "[encoded data removed]",
            "text/plain": [
              "<Figure size 864x576 with 1 Axes>"
            ]
          },
          "metadata": {},
          "output_type": "display_data"
        }
      ],
      "source": [
        "plt.figure(figsize=(12,8))\n",
        "sns.countplot(x='SENDER_ACCOUNT_ID', data=df, hue= 'IS_FRAUD', palette='winter', order=df.RECEIVER_ACCOUNT_ID.value_counts().iloc[:15].index)\n",
        "plt.ylabel('Count', fontsize=12)\n",
        "plt.xlabel('SENDER ACCOUNT ID', fontsize=12)\n",
        "plt.title('Top 15 Sender Accounts ordered by Received Accounts', fontsize=14)\n",
        "plt.axis('tight')\n",
        "\n",
        "plt.show()"
      ]
    },
    {
      "cell_type": "markdown",
      "id": "528ba636",
      "metadata": {
        "id": "528ba636"
      },
      "source": [
        "From our graph, we understood that Most Transactions transferred to 9999 are flagged as Fradulent transactions"
      ]
    },
    {
      "cell_type": "code",
      "execution_count": null,
      "id": "26338d69",
      "metadata": {
        "scrolled": true,
        "id": "26338d69",
        "outputId": "14e963ff-3704-4d9b-98dc-1b50845a6a87"
      },
      "outputs": [
        {
          "data": {
            "image/png": "[encoded data removed]",
            "text/plain": [
              "<Figure size 864x576 with 1 Axes>"
            ]
          },
          "metadata": {},
          "output_type": "display_data"
        }
      ],
      "source": [
        "plt.figure(figsize=(12,8))\n",
        "sns.countplot(x='RECEIVER_ACCOUNT_ID', data=df, hue= 'IS_FRAUD', palette='winter', order=df.SENDER_ACCOUNT_ID.value_counts().iloc[:15].index)\n",
        "plt.xlabel('RECEIVER ACCOUNT ID',fontsize=12)\n",
        "plt.ylabel('Count',fontsize=12)\n",
        "plt.title('Top 15 Receiver Accounts', fontsize=14)\n",
        "plt.axis('tight')\n",
        "\n",
        "plt.show()"
      ]
    },
    {
      "cell_type": "markdown",
      "id": "b270abc5",
      "metadata": {
        "id": "b270abc5"
      },
      "source": [
        "    From the above plots, it is also confirmed that most of the fradulent transactions are either sent from or received in ACCOUNT_IDs more than 9000. So, SENDER_ACCOUNT_ID and RECEIVER_ACCOUNT_ID one of the important features to consider for our modelling"
      ]
    },
    {
      "cell_type": "markdown",
      "id": "df3ae56d",
      "metadata": {
        "id": "df3ae56d"
      },
      "source": [
        "## Feature Engineering"
      ]
    },
    {
      "cell_type": "markdown",
      "id": "77e8f701",
      "metadata": {
        "id": "77e8f701"
      },
      "source": [
        "    * SENDER_ACCOUNT_ID and RECEIVER_ACCOUNT_ID are important factors based on our EDA. but, the values are  unique numbers. we will try perform Feature Engineering to create new column based on these existing columns\n",
        "    * ALERT_ID have two -1 and all other IDs. we will do binarizing columns by keeping -1 as one category and all other IDs as another category."
      ]
    },
    {
      "cell_type": "markdown",
      "id": "cac4cedb",
      "metadata": {
        "id": "cac4cedb"
      },
      "source": [
        "#### 1. Binning values\n",
        "\n",
        "    For many continuous values we care less about the exact value of a numeric column, but instead care about the bucket it falls into. This can be useful when plotting values, or simplifying our machine learning models. It is mostly used on continuous variables where accuracy is not the biggest concern e.g. age, height, wages. Binning values actually convert the resultant column as category type."
      ]
    },
    {
      "cell_type": "code",
      "execution_count": null,
      "id": "6da0e9c8",
      "metadata": {
        "id": "6da0e9c8",
        "outputId": "0925cade-2ec8-47ed-ad10-c90c3dff822f"
      },
      "outputs": [
        {
          "name": "stdout",
          "output_type": "stream",
          "text": [
            "         SENDER_ACCOUNT_ID senderaccts_binned  RECEIVER_ACCOUNT_ID  \\\n",
            "1046917               9998                  9                 6603   \n",
            "1046918               9998                  9                 7126   \n",
            "1046919               9998                  9                 9698   \n",
            "1046920               9999                  9                  810   \n",
            "1046921               9999                  9                 4311   \n",
            "1046922               9999                  9                 5351   \n",
            "1046923               9999                  9                 6343   \n",
            "1046924               9999                  9                 7095   \n",
            "1046925               9999                  9                 8767   \n",
            "1046926               9999                  9                 9530   \n",
            "\n",
            "        receiveraccts_binned  \n",
            "1046917                    7  \n",
            "1046918                    8  \n",
            "1046919                    9  \n",
            "1046920                    1  \n",
            "1046921                    5  \n",
            "1046922                    6  \n",
            "1046923                    7  \n",
            "1046924                    8  \n",
            "1046925                    9  \n",
            "1046926                    9  \n"
          ]
        }
      ],
      "source": [
        "# Specify the boundaries of the bins\n",
        "bins = [-np.inf, 1000, 2000, 3000, 4000, 5000, 6000, 7000, 8000, np.inf]\n",
        "#we are binning account_id less than 1000 in ‘Very Low’ so in order to do this we are using -np.inf(i.e. from –ve infinity till 10000 is ‘Very low’)\n",
        "# Bin labels\n",
        "#labels = ['<1000', '>1000', '<3000', '<4000', '<5000', '<6000', '<7000', '<8000', '>8000']\n",
        "labels = ['1', '2', '3', '4', '5', '6', '7', '8', '9']\n",
        "\n",
        "# Bin the continuous variable ConvertedSalary using these boundaries\n",
        "df['senderaccts_binned'] = pd.cut(df['SENDER_ACCOUNT_ID'], \n",
        "                                         bins=bins, labels=labels)\n",
        "df['receiveraccts_binned'] = pd.cut(df['RECEIVER_ACCOUNT_ID'], \n",
        "                                         bins=bins, labels=labels)\n",
        "\n",
        "# Print the first 5 rows of the boundary_binned column\n",
        "print(df[['SENDER_ACCOUNT_ID', 'senderaccts_binned', 'RECEIVER_ACCOUNT_ID', 'receiveraccts_binned']].tail(10))\n"
      ]
    },
    {
      "cell_type": "markdown",
      "id": "3c5979be",
      "metadata": {
        "id": "3c5979be"
      },
      "source": [
        "#### 2. Binarizing columns\n",
        "    While numeric values can often be used without any feature engineering, there will be cases when some form of manipulation can be useful. For example on some occasions, you might not care about the magnitude of a value but only care about its direction, or if it exists at all."
      ]
    },
    {
      "cell_type": "code",
      "execution_count": null,
      "id": "3aa44a69",
      "metadata": {
        "id": "3aa44a69"
      },
      "outputs": [],
      "source": [
        "#ALERT_ID is the column which this transaction is involved in(i.e. If the transaction is not involved in any alerts, the value is -1)\n",
        "# if ALERT_ID is -1(FALSE) then 0 otherwise 1\n",
        "\n",
        "df['Alerts'] = 0 \n",
        "df.loc[df['ALERT_ID'] > -1, 'Alerts'] = 1"
      ]
    },
    {
      "cell_type": "code",
      "execution_count": null,
      "id": "b61a3976",
      "metadata": {
        "scrolled": false,
        "id": "b61a3976",
        "outputId": "411dd1ad-95b4-4745-f0f2-d003ef11e6ac"
      },
      "outputs": [
        {
          "data": {
            "text/html": [
              "<div>\n",
              "<style scoped>\n",
              "    .dataframe tbody tr th:only-of-type {\n",
              "        vertical-align: middle;\n",
              "    }\n",
              "\n",
              "    .dataframe tbody tr th {\n",
              "        vertical-align: top;\n",
              "    }\n",
              "\n",
              "    .dataframe thead th {\n",
              "        text-align: right;\n",
              "    }\n",
              "</style>\n",
              "<table border=\"1\" class=\"dataframe\">\n",
              "  <thead>\n",
              "    <tr style=\"text-align: right;\">\n",
              "      <th></th>\n",
              "      <th>SENDER_ACCOUNT_ID</th>\n",
              "      <th>RECEIVER_ACCOUNT_ID</th>\n",
              "      <th>INIT_BALANCE</th>\n",
              "      <th>TX_AMOUNT</th>\n",
              "      <th>TX_BEHAVIOR_ID</th>\n",
              "      <th>ALERT_ID</th>\n",
              "      <th>TIMESTAMP</th>\n",
              "      <th>IS_FRAUD</th>\n",
              "      <th>senderaccts_binned</th>\n",
              "      <th>receiveraccts_binned</th>\n",
              "      <th>Alerts</th>\n",
              "    </tr>\n",
              "  </thead>\n",
              "  <tbody>\n",
              "    <tr>\n",
              "      <th>0</th>\n",
              "      <td>1</td>\n",
              "      <td>884</td>\n",
              "      <td>175.8</td>\n",
              "      <td>175.8</td>\n",
              "      <td>1</td>\n",
              "      <td>-1</td>\n",
              "      <td>6.0</td>\n",
              "      <td>False</td>\n",
              "      <td>1</td>\n",
              "      <td>1</td>\n",
              "      <td>0</td>\n",
              "    </tr>\n",
              "    <tr>\n",
              "      <th>1</th>\n",
              "      <td>1</td>\n",
              "      <td>884</td>\n",
              "      <td>175.8</td>\n",
              "      <td>175.8</td>\n",
              "      <td>1</td>\n",
              "      <td>-1</td>\n",
              "      <td>19.0</td>\n",
              "      <td>False</td>\n",
              "      <td>1</td>\n",
              "      <td>1</td>\n",
              "      <td>0</td>\n",
              "    </tr>\n",
              "    <tr>\n",
              "      <th>2</th>\n",
              "      <td>1</td>\n",
              "      <td>884</td>\n",
              "      <td>175.8</td>\n",
              "      <td>175.8</td>\n",
              "      <td>1</td>\n",
              "      <td>-1</td>\n",
              "      <td>38.0</td>\n",
              "      <td>False</td>\n",
              "      <td>1</td>\n",
              "      <td>1</td>\n",
              "      <td>0</td>\n",
              "    </tr>\n",
              "    <tr>\n",
              "      <th>3</th>\n",
              "      <td>1</td>\n",
              "      <td>884</td>\n",
              "      <td>175.8</td>\n",
              "      <td>175.8</td>\n",
              "      <td>1</td>\n",
              "      <td>-1</td>\n",
              "      <td>48.0</td>\n",
              "      <td>False</td>\n",
              "      <td>1</td>\n",
              "      <td>1</td>\n",
              "      <td>0</td>\n",
              "    </tr>\n",
              "    <tr>\n",
              "      <th>4</th>\n",
              "      <td>1</td>\n",
              "      <td>884</td>\n",
              "      <td>175.8</td>\n",
              "      <td>175.8</td>\n",
              "      <td>1</td>\n",
              "      <td>-1</td>\n",
              "      <td>55.0</td>\n",
              "      <td>False</td>\n",
              "      <td>1</td>\n",
              "      <td>1</td>\n",
              "      <td>0</td>\n",
              "    </tr>\n",
              "  </tbody>\n",
              "</table>\n",
              "</div>"
            ],
            "text/plain": [
              "   SENDER_ACCOUNT_ID  RECEIVER_ACCOUNT_ID  INIT_BALANCE  TX_AMOUNT  \\\n",
              "0                  1                  884         175.8      175.8   \n",
              "1                  1                  884         175.8      175.8   \n",
              "2                  1                  884         175.8      175.8   \n",
              "3                  1                  884         175.8      175.8   \n",
              "4                  1                  884         175.8      175.8   \n",
              "\n",
              "   TX_BEHAVIOR_ID  ALERT_ID  TIMESTAMP IS_FRAUD senderaccts_binned  \\\n",
              "0               1        -1        6.0    False                  1   \n",
              "1               1        -1       19.0    False                  1   \n",
              "2               1        -1       38.0    False                  1   \n",
              "3               1        -1       48.0    False                  1   \n",
              "4               1        -1       55.0    False                  1   \n",
              "\n",
              "  receiveraccts_binned  Alerts  \n",
              "0                    1       0  \n",
              "1                    1       0  \n",
              "2                    1       0  \n",
              "3                    1       0  \n",
              "4                    1       0  "
            ]
          },
          "execution_count": 50,
          "metadata": {},
          "output_type": "execute_result"
        }
      ],
      "source": [
        "df.head()"
      ]
    },
    {
      "cell_type": "code",
      "execution_count": null,
      "id": "4eebf70a",
      "metadata": {
        "id": "4eebf70a"
      },
      "outputs": [],
      "source": [
        "#df['TIMESTAMP'].nunique()"
      ]
    },
    {
      "cell_type": "code",
      "execution_count": null,
      "id": "b1d250c1",
      "metadata": {
        "id": "b1d250c1",
        "outputId": "751d8cb8-8d48-4854-8e32-30cd126eda62"
      },
      "outputs": [
        {
          "data": {
            "text/plain": [
              "(1046927, 11)"
            ]
          },
          "execution_count": 52,
          "metadata": {},
          "output_type": "execute_result"
        }
      ],
      "source": [
        "df.shape"
      ]
    },
    {
      "cell_type": "code",
      "execution_count": null,
      "id": "58c79db2",
      "metadata": {
        "scrolled": true,
        "id": "58c79db2",
        "outputId": "8a266da5-869a-4856-e4a1-acf5c802c729"
      },
      "outputs": [
        {
          "data": {
            "image/png": "[encoded data removed]",
            "text/plain": [
              "<Figure size 864x576 with 1 Axes>"
            ]
          },
          "metadata": {},
          "output_type": "display_data"
        }
      ],
      "source": [
        "plt.figure(figsize=(12,8))\n",
        "sns.countplot(x='senderaccts_binned', data=df, hue= 'IS_FRAUD', palette='winter', order=df.senderaccts_binned.value_counts().iloc[:15].index)\n",
        "\n",
        "plt.show()"
      ]
    },
    {
      "cell_type": "code",
      "execution_count": null,
      "id": "d8ec2563",
      "metadata": {
        "id": "d8ec2563",
        "outputId": "564752f3-1ef4-4b56-d911-111d25c4a980"
      },
      "outputs": [
        {
          "data": {
            "image/png": "[encoded data removed]",
            "text/plain": [
              "<Figure size 864x576 with 1 Axes>"
            ]
          },
          "metadata": {},
          "output_type": "display_data"
        }
      ],
      "source": [
        "plt.figure(figsize=(12,8))\n",
        "sns.countplot(x='receiveraccts_binned', data=df, hue= 'IS_FRAUD', palette='winter', order=df.receiveraccts_binned.value_counts().iloc[:15].index)\n",
        "\n",
        "plt.show()"
      ]
    },
    {
      "cell_type": "markdown",
      "id": "eaedd5cf",
      "metadata": {
        "id": "eaedd5cf"
      },
      "source": [
        "## Feature Extraction\n",
        "\n",
        "Creating new features as a combination of existing features thereby losing very less information from the dataset compared to Feature selection"
      ]
    },
    {
      "cell_type": "code",
      "execution_count": null,
      "id": "c57b13e9",
      "metadata": {
        "id": "c57b13e9",
        "outputId": "f37911b3-567d-4983-d245-426ea1043c31"
      },
      "outputs": [
        {
          "data": {
            "text/html": [
              "<div>\n",
              "<style scoped>\n",
              "    .dataframe tbody tr th:only-of-type {\n",
              "        vertical-align: middle;\n",
              "    }\n",
              "\n",
              "    .dataframe tbody tr th {\n",
              "        vertical-align: top;\n",
              "    }\n",
              "\n",
              "    .dataframe thead th {\n",
              "        text-align: right;\n",
              "    }\n",
              "</style>\n",
              "<table border=\"1\" class=\"dataframe\">\n",
              "  <thead>\n",
              "    <tr style=\"text-align: right;\">\n",
              "      <th></th>\n",
              "      <th>INIT_BALANCE</th>\n",
              "      <th>TX_AMOUNT</th>\n",
              "      <th>perc_spendings</th>\n",
              "    </tr>\n",
              "  </thead>\n",
              "  <tbody>\n",
              "    <tr>\n",
              "      <th>0</th>\n",
              "      <td>175.8</td>\n",
              "      <td>175.8</td>\n",
              "      <td>0.0</td>\n",
              "    </tr>\n",
              "    <tr>\n",
              "      <th>1</th>\n",
              "      <td>175.8</td>\n",
              "      <td>175.8</td>\n",
              "      <td>0.0</td>\n",
              "    </tr>\n",
              "    <tr>\n",
              "      <th>2</th>\n",
              "      <td>175.8</td>\n",
              "      <td>175.8</td>\n",
              "      <td>0.0</td>\n",
              "    </tr>\n",
              "    <tr>\n",
              "      <th>3</th>\n",
              "      <td>175.8</td>\n",
              "      <td>175.8</td>\n",
              "      <td>0.0</td>\n",
              "    </tr>\n",
              "    <tr>\n",
              "      <th>4</th>\n",
              "      <td>175.8</td>\n",
              "      <td>175.8</td>\n",
              "      <td>0.0</td>\n",
              "    </tr>\n",
              "  </tbody>\n",
              "</table>\n",
              "</div>"
            ],
            "text/plain": [
              "   INIT_BALANCE  TX_AMOUNT  perc_spendings\n",
              "0         175.8      175.8             0.0\n",
              "1         175.8      175.8             0.0\n",
              "2         175.8      175.8             0.0\n",
              "3         175.8      175.8             0.0\n",
              "4         175.8      175.8             0.0"
            ]
          },
          "execution_count": 55,
          "metadata": {},
          "output_type": "execute_result"
        }
      ],
      "source": [
        "df['perc_spendings']= round(((df['INIT_BALANCE'] - df['TX_AMOUNT']) / df['INIT_BALANCE']) * 100,2)\n",
        "\n",
        "df[['INIT_BALANCE','TX_AMOUNT','perc_spendings']].head()"
      ]
    },
    {
      "cell_type": "code",
      "execution_count": null,
      "id": "5f9b516c",
      "metadata": {
        "scrolled": true,
        "id": "5f9b516c",
        "outputId": "49136f35-df85-4d88-e44c-648212dd0f29"
      },
      "outputs": [
        {
          "name": "stdout",
          "output_type": "stream",
          "text": [
            "32381\n"
          ]
        },
        {
          "data": {
            "text/plain": [
              "array([0.000e+00, 1.000e-02, 5.000e+01, ..., 9.493e+01, 9.836e+01,\n",
              "       9.388e+01])"
            ]
          },
          "execution_count": 56,
          "metadata": {},
          "output_type": "execute_result"
        }
      ],
      "source": [
        "print(df['perc_spendings'].nunique())\n",
        "df['perc_spendings'].unique()"
      ]
    },
    {
      "cell_type": "code",
      "execution_count": null,
      "id": "cfd17b5f",
      "metadata": {
        "id": "cfd17b5f",
        "outputId": "e5728fbd-b7c6-4515-8d35-ea0df6874e3c"
      },
      "outputs": [
        {
          "data": {
            "text/plain": [
              "count    1.046927e+06\n",
              "mean    -4.230457e+04\n",
              "std      4.789978e+05\n",
              "min     -1.071856e+07\n",
              "25%      0.000000e+00\n",
              "50%      0.000000e+00\n",
              "75%      8.571000e+01\n",
              "max      1.000000e+02\n",
              "Name: perc_spendings, dtype: float64"
            ]
          },
          "execution_count": 57,
          "metadata": {},
          "output_type": "execute_result"
        }
      ],
      "source": [
        "df['perc_spendings'].describe()"
      ]
    },
    {
      "cell_type": "code",
      "execution_count": null,
      "id": "a88cc5c4",
      "metadata": {
        "id": "a88cc5c4",
        "outputId": "d4e38cdd-d03e-49be-b88f-1080118a4732"
      },
      "outputs": [
        {
          "data": {
            "text/html": [
              "<div>\n",
              "<style scoped>\n",
              "    .dataframe tbody tr th:only-of-type {\n",
              "        vertical-align: middle;\n",
              "    }\n",
              "\n",
              "    .dataframe tbody tr th {\n",
              "        vertical-align: top;\n",
              "    }\n",
              "\n",
              "    .dataframe thead th {\n",
              "        text-align: right;\n",
              "    }\n",
              "</style>\n",
              "<table border=\"1\" class=\"dataframe\">\n",
              "  <thead>\n",
              "    <tr style=\"text-align: right;\">\n",
              "      <th></th>\n",
              "      <th>SENDER_ACCOUNT_ID</th>\n",
              "      <th>RECEIVER_ACCOUNT_ID</th>\n",
              "      <th>INIT_BALANCE</th>\n",
              "      <th>TX_AMOUNT</th>\n",
              "      <th>TX_BEHAVIOR_ID</th>\n",
              "      <th>ALERT_ID</th>\n",
              "      <th>TIMESTAMP</th>\n",
              "      <th>IS_FRAUD</th>\n",
              "      <th>senderaccts_binned</th>\n",
              "      <th>receiveraccts_binned</th>\n",
              "      <th>Alerts</th>\n",
              "      <th>perc_spendings</th>\n",
              "    </tr>\n",
              "  </thead>\n",
              "  <tbody>\n",
              "    <tr>\n",
              "      <th>1906</th>\n",
              "      <td>49</td>\n",
              "      <td>2910</td>\n",
              "      <td>196.75</td>\n",
              "      <td>4.21</td>\n",
              "      <td>1</td>\n",
              "      <td>84</td>\n",
              "      <td>84.0</td>\n",
              "      <td>True</td>\n",
              "      <td>1</td>\n",
              "      <td>3</td>\n",
              "      <td>1</td>\n",
              "      <td>97.86</td>\n",
              "    </tr>\n",
              "    <tr>\n",
              "      <th>2813</th>\n",
              "      <td>67</td>\n",
              "      <td>7824</td>\n",
              "      <td>138.49</td>\n",
              "      <td>3.08</td>\n",
              "      <td>1</td>\n",
              "      <td>18</td>\n",
              "      <td>155.0</td>\n",
              "      <td>True</td>\n",
              "      <td>1</td>\n",
              "      <td>8</td>\n",
              "      <td>1</td>\n",
              "      <td>97.78</td>\n",
              "    </tr>\n",
              "    <tr>\n",
              "      <th>3891</th>\n",
              "      <td>86</td>\n",
              "      <td>5933</td>\n",
              "      <td>181.16</td>\n",
              "      <td>4.18</td>\n",
              "      <td>1</td>\n",
              "      <td>58</td>\n",
              "      <td>61.0</td>\n",
              "      <td>True</td>\n",
              "      <td>1</td>\n",
              "      <td>6</td>\n",
              "      <td>1</td>\n",
              "      <td>97.69</td>\n",
              "    </tr>\n",
              "    <tr>\n",
              "      <th>6895</th>\n",
              "      <td>138</td>\n",
              "      <td>9197</td>\n",
              "      <td>135.03</td>\n",
              "      <td>4.59</td>\n",
              "      <td>1</td>\n",
              "      <td>123</td>\n",
              "      <td>28.0</td>\n",
              "      <td>True</td>\n",
              "      <td>1</td>\n",
              "      <td>9</td>\n",
              "      <td>1</td>\n",
              "      <td>96.60</td>\n",
              "    </tr>\n",
              "    <tr>\n",
              "      <th>7742</th>\n",
              "      <td>153</td>\n",
              "      <td>9984</td>\n",
              "      <td>167.62</td>\n",
              "      <td>3.06</td>\n",
              "      <td>1</td>\n",
              "      <td>152</td>\n",
              "      <td>87.0</td>\n",
              "      <td>True</td>\n",
              "      <td>1</td>\n",
              "      <td>9</td>\n",
              "      <td>1</td>\n",
              "      <td>98.17</td>\n",
              "    </tr>\n",
              "    <tr>\n",
              "      <th>...</th>\n",
              "      <td>...</td>\n",
              "      <td>...</td>\n",
              "      <td>...</td>\n",
              "      <td>...</td>\n",
              "      <td>...</td>\n",
              "      <td>...</td>\n",
              "      <td>...</td>\n",
              "      <td>...</td>\n",
              "      <td>...</td>\n",
              "      <td>...</td>\n",
              "      <td>...</td>\n",
              "      <td>...</td>\n",
              "    </tr>\n",
              "    <tr>\n",
              "      <th>1046922</th>\n",
              "      <td>9999</td>\n",
              "      <td>5351</td>\n",
              "      <td>317.65</td>\n",
              "      <td>10.35</td>\n",
              "      <td>5</td>\n",
              "      <td>223</td>\n",
              "      <td>186.0</td>\n",
              "      <td>True</td>\n",
              "      <td>9</td>\n",
              "      <td>6</td>\n",
              "      <td>1</td>\n",
              "      <td>96.74</td>\n",
              "    </tr>\n",
              "    <tr>\n",
              "      <th>1046923</th>\n",
              "      <td>9999</td>\n",
              "      <td>6343</td>\n",
              "      <td>317.65</td>\n",
              "      <td>19.23</td>\n",
              "      <td>5</td>\n",
              "      <td>285</td>\n",
              "      <td>186.0</td>\n",
              "      <td>True</td>\n",
              "      <td>9</td>\n",
              "      <td>7</td>\n",
              "      <td>1</td>\n",
              "      <td>93.95</td>\n",
              "    </tr>\n",
              "    <tr>\n",
              "      <th>1046924</th>\n",
              "      <td>9999</td>\n",
              "      <td>7095</td>\n",
              "      <td>317.65</td>\n",
              "      <td>11.85</td>\n",
              "      <td>5</td>\n",
              "      <td>260</td>\n",
              "      <td>13.0</td>\n",
              "      <td>True</td>\n",
              "      <td>9</td>\n",
              "      <td>8</td>\n",
              "      <td>1</td>\n",
              "      <td>96.27</td>\n",
              "    </tr>\n",
              "    <tr>\n",
              "      <th>1046925</th>\n",
              "      <td>9999</td>\n",
              "      <td>8767</td>\n",
              "      <td>317.65</td>\n",
              "      <td>4.28</td>\n",
              "      <td>5</td>\n",
              "      <td>154</td>\n",
              "      <td>74.0</td>\n",
              "      <td>True</td>\n",
              "      <td>9</td>\n",
              "      <td>9</td>\n",
              "      <td>1</td>\n",
              "      <td>98.65</td>\n",
              "    </tr>\n",
              "    <tr>\n",
              "      <th>1046926</th>\n",
              "      <td>9999</td>\n",
              "      <td>9530</td>\n",
              "      <td>317.65</td>\n",
              "      <td>2.74</td>\n",
              "      <td>5</td>\n",
              "      <td>189</td>\n",
              "      <td>1.0</td>\n",
              "      <td>True</td>\n",
              "      <td>9</td>\n",
              "      <td>9</td>\n",
              "      <td>1</td>\n",
              "      <td>99.14</td>\n",
              "    </tr>\n",
              "  </tbody>\n",
              "</table>\n",
              "<p>289173 rows × 12 columns</p>\n",
              "</div>"
            ],
            "text/plain": [
              "         SENDER_ACCOUNT_ID  RECEIVER_ACCOUNT_ID  INIT_BALANCE  TX_AMOUNT  \\\n",
              "1906                    49                 2910        196.75       4.21   \n",
              "2813                    67                 7824        138.49       3.08   \n",
              "3891                    86                 5933        181.16       4.18   \n",
              "6895                   138                 9197        135.03       4.59   \n",
              "7742                   153                 9984        167.62       3.06   \n",
              "...                    ...                  ...           ...        ...   \n",
              "1046922               9999                 5351        317.65      10.35   \n",
              "1046923               9999                 6343        317.65      19.23   \n",
              "1046924               9999                 7095        317.65      11.85   \n",
              "1046925               9999                 8767        317.65       4.28   \n",
              "1046926               9999                 9530        317.65       2.74   \n",
              "\n",
              "         TX_BEHAVIOR_ID  ALERT_ID  TIMESTAMP IS_FRAUD senderaccts_binned  \\\n",
              "1906                  1        84       84.0     True                  1   \n",
              "2813                  1        18      155.0     True                  1   \n",
              "3891                  1        58       61.0     True                  1   \n",
              "6895                  1       123       28.0     True                  1   \n",
              "7742                  1       152       87.0     True                  1   \n",
              "...                 ...       ...        ...      ...                ...   \n",
              "1046922               5       223      186.0     True                  9   \n",
              "1046923               5       285      186.0     True                  9   \n",
              "1046924               5       260       13.0     True                  9   \n",
              "1046925               5       154       74.0     True                  9   \n",
              "1046926               5       189        1.0     True                  9   \n",
              "\n",
              "        receiveraccts_binned  Alerts  perc_spendings  \n",
              "1906                       3       1           97.86  \n",
              "2813                       8       1           97.78  \n",
              "3891                       6       1           97.69  \n",
              "6895                       9       1           96.60  \n",
              "7742                       9       1           98.17  \n",
              "...                      ...     ...             ...  \n",
              "1046922                    6       1           96.74  \n",
              "1046923                    7       1           93.95  \n",
              "1046924                    8       1           96.27  \n",
              "1046925                    9       1           98.65  \n",
              "1046926                    9       1           99.14  \n",
              "\n",
              "[289173 rows x 12 columns]"
            ]
          },
          "execution_count": 58,
          "metadata": {},
          "output_type": "execute_result"
        }
      ],
      "source": [
        "df[(df[\"perc_spendings\"] > 80.00)]"
      ]
    },
    {
      "cell_type": "markdown",
      "id": "83cdceca",
      "metadata": {
        "id": "83cdceca"
      },
      "source": [
        "Looks like most of transactions with spending more than 80% of their INIT_BALANCE are given more attention to detect fraudulent. prec_spendings is another important feature to be considered for our modelling"
      ]
    },
    {
      "cell_type": "code",
      "execution_count": null,
      "id": "e2dc9f69",
      "metadata": {
        "scrolled": false,
        "id": "e2dc9f69",
        "outputId": "12ecbd21-b157-4e8a-9117-6cf1eb6e2521"
      },
      "outputs": [
        {
          "name": "stdout",
          "output_type": "stream",
          "text": [
            "<class 'pandas.core.frame.DataFrame'>\n",
            "RangeIndex: 1046927 entries, 0 to 1046926\n",
            "Data columns (total 12 columns):\n",
            " #   Column                Non-Null Count    Dtype   \n",
            "---  ------                --------------    -----   \n",
            " 0   SENDER_ACCOUNT_ID     1046927 non-null  int64   \n",
            " 1   RECEIVER_ACCOUNT_ID   1046927 non-null  int64   \n",
            " 2   INIT_BALANCE          1046927 non-null  float64 \n",
            " 3   TX_AMOUNT             1046927 non-null  float64 \n",
            " 4   TX_BEHAVIOR_ID        1046927 non-null  int64   \n",
            " 5   ALERT_ID              1046927 non-null  int64   \n",
            " 6   TIMESTAMP             1046927 non-null  float64 \n",
            " 7   IS_FRAUD              1046927 non-null  category\n",
            " 8   senderaccts_binned    1046927 non-null  category\n",
            " 9   receiveraccts_binned  1046927 non-null  category\n",
            " 10  Alerts                1046927 non-null  int64   \n",
            " 11  perc_spendings        1046927 non-null  float64 \n",
            "dtypes: category(3), float64(4), int64(5)\n",
            "memory usage: 74.9 MB\n"
          ]
        }
      ],
      "source": [
        "df.info()"
      ]
    },
    {
      "cell_type": "code",
      "execution_count": null,
      "id": "95924a19",
      "metadata": {
        "scrolled": true,
        "id": "95924a19"
      },
      "outputs": [],
      "source": [
        "#sns.pairplot(df, hue='IS_FRAUD', diag_kind='hist')\n",
        "#plt.show()"
      ]
    },
    {
      "cell_type": "markdown",
      "id": "ec5c1648",
      "metadata": {
        "id": "ec5c1648"
      },
      "source": [
        "#### Correlation is performed again on columns post Feature Engineering"
      ]
    },
    {
      "cell_type": "code",
      "execution_count": null,
      "id": "311cce32",
      "metadata": {
        "id": "311cce32",
        "outputId": "827ad4b2-3fb9-4e83-8a28-c3a693314b34"
      },
      "outputs": [
        {
          "data": {
            "image/png": "[encoded data removed]",
            "text/plain": [
              "<Figure size 720x576 with 2 Axes>"
            ]
          },
          "metadata": {},
          "output_type": "display_data"
        }
      ],
      "source": [
        "# Create the correlation matrix\n",
        "corr = df.corr()\n",
        "# Generate a mask for the upper triangle\n",
        "mask = np.triu(np.ones_like(corr, dtype=bool))\n",
        "plt.figure(figsize= (10,8))\n",
        "# Add the mask to the heatmap\n",
        "sns.heatmap(corr, mask=mask, cmap='YlGnBu', center=0, linewidths=1, annot=True, fmt=\".2f\")\n",
        "plt.show()"
      ]
    },
    {
      "cell_type": "code",
      "execution_count": null,
      "id": "b15b3d1f",
      "metadata": {
        "id": "b15b3d1f",
        "outputId": "1921940e-90fa-4c41-c198-f466823a093a"
      },
      "outputs": [
        {
          "name": "stdout",
          "output_type": "stream",
          "text": [
            "['TX_BEHAVIOR_ID', 'senderaccts_binned', 'receiveraccts_binned', 'Alerts', 'INIT_BALANCE', 'TIMESTAMP', 'perc_spendings', 'IS_FRAUD'] 8\n"
          ]
        }
      ],
      "source": [
        "#split the dataset into independent and dependent variable\n",
        "\n",
        "#cols_to_model = ['INIT_BALANCE', 'TX_AMOUNT','TX_BEHAVIOR_ID', 'senderaccts_binned','receiveraccts_binned', 'Alerts','IS_FRAUD']\n",
        "cols_to_model = ['TX_BEHAVIOR_ID', 'senderaccts_binned', 'receiveraccts_binned','Alerts', 'INIT_BALANCE','TIMESTAMP','perc_spendings','IS_FRAUD']\n",
        "\n",
        "print(cols_to_model, len(cols_to_model))\n",
        "\n",
        "df1= df[cols_to_model]"
      ]
    },
    {
      "cell_type": "code",
      "execution_count": null,
      "id": "df9d7daf",
      "metadata": {
        "id": "df9d7daf",
        "outputId": "d74c4474-4d48-4e96-af93-ba329ff37442"
      },
      "outputs": [
        {
          "data": {
            "text/html": [
              "<div>\n",
              "<style scoped>\n",
              "    .dataframe tbody tr th:only-of-type {\n",
              "        vertical-align: middle;\n",
              "    }\n",
              "\n",
              "    .dataframe tbody tr th {\n",
              "        vertical-align: top;\n",
              "    }\n",
              "\n",
              "    .dataframe thead th {\n",
              "        text-align: right;\n",
              "    }\n",
              "</style>\n",
              "<table border=\"1\" class=\"dataframe\">\n",
              "  <thead>\n",
              "    <tr style=\"text-align: right;\">\n",
              "      <th></th>\n",
              "      <th>TX_BEHAVIOR_ID</th>\n",
              "      <th>senderaccts_binned</th>\n",
              "      <th>receiveraccts_binned</th>\n",
              "      <th>Alerts</th>\n",
              "      <th>INIT_BALANCE</th>\n",
              "      <th>TIMESTAMP</th>\n",
              "      <th>perc_spendings</th>\n",
              "      <th>IS_FRAUD</th>\n",
              "    </tr>\n",
              "  </thead>\n",
              "  <tbody>\n",
              "    <tr>\n",
              "      <th>0</th>\n",
              "      <td>1</td>\n",
              "      <td>1</td>\n",
              "      <td>1</td>\n",
              "      <td>0</td>\n",
              "      <td>175.8</td>\n",
              "      <td>6.0</td>\n",
              "      <td>0.0</td>\n",
              "      <td>False</td>\n",
              "    </tr>\n",
              "    <tr>\n",
              "      <th>1</th>\n",
              "      <td>1</td>\n",
              "      <td>1</td>\n",
              "      <td>1</td>\n",
              "      <td>0</td>\n",
              "      <td>175.8</td>\n",
              "      <td>19.0</td>\n",
              "      <td>0.0</td>\n",
              "      <td>False</td>\n",
              "    </tr>\n",
              "    <tr>\n",
              "      <th>2</th>\n",
              "      <td>1</td>\n",
              "      <td>1</td>\n",
              "      <td>1</td>\n",
              "      <td>0</td>\n",
              "      <td>175.8</td>\n",
              "      <td>38.0</td>\n",
              "      <td>0.0</td>\n",
              "      <td>False</td>\n",
              "    </tr>\n",
              "    <tr>\n",
              "      <th>3</th>\n",
              "      <td>1</td>\n",
              "      <td>1</td>\n",
              "      <td>1</td>\n",
              "      <td>0</td>\n",
              "      <td>175.8</td>\n",
              "      <td>48.0</td>\n",
              "      <td>0.0</td>\n",
              "      <td>False</td>\n",
              "    </tr>\n",
              "    <tr>\n",
              "      <th>4</th>\n",
              "      <td>1</td>\n",
              "      <td>1</td>\n",
              "      <td>1</td>\n",
              "      <td>0</td>\n",
              "      <td>175.8</td>\n",
              "      <td>55.0</td>\n",
              "      <td>0.0</td>\n",
              "      <td>False</td>\n",
              "    </tr>\n",
              "  </tbody>\n",
              "</table>\n",
              "</div>"
            ],
            "text/plain": [
              "   TX_BEHAVIOR_ID senderaccts_binned receiveraccts_binned  Alerts  \\\n",
              "0               1                  1                    1       0   \n",
              "1               1                  1                    1       0   \n",
              "2               1                  1                    1       0   \n",
              "3               1                  1                    1       0   \n",
              "4               1                  1                    1       0   \n",
              "\n",
              "   INIT_BALANCE  TIMESTAMP  perc_spendings IS_FRAUD  \n",
              "0         175.8        6.0             0.0    False  \n",
              "1         175.8       19.0             0.0    False  \n",
              "2         175.8       38.0             0.0    False  \n",
              "3         175.8       48.0             0.0    False  \n",
              "4         175.8       55.0             0.0    False  "
            ]
          },
          "execution_count": 63,
          "metadata": {},
          "output_type": "execute_result"
        }
      ],
      "source": [
        "df1.head()"
      ]
    },
    {
      "cell_type": "code",
      "execution_count": null,
      "id": "af462ccf",
      "metadata": {
        "id": "af462ccf",
        "outputId": "d4e30108-63b9-4340-87ff-b7da138d2d9a"
      },
      "outputs": [
        {
          "name": "stderr",
          "output_type": "stream",
          "text": [
            "/tmp/ipykernel_51411/531704307.py:9: SettingWithCopyWarning: \n",
            "A value is trying to be set on a copy of a slice from a DataFrame.\n",
            "Try using .loc[row_indexer,col_indexer] = value instead\n",
            "\n",
            "See the caveats in the documentation: https://pandas.pydata.org/pandas-docs/stable/user_guide/indexing.html#returning-a-view-versus-a-copy\n",
            "  df1['scaled_balance'] = rob_scaler.fit_transform(df1['INIT_BALANCE'].values.reshape(-1,1))\n",
            "/tmp/ipykernel_51411/531704307.py:10: SettingWithCopyWarning: \n",
            "A value is trying to be set on a copy of a slice from a DataFrame.\n",
            "Try using .loc[row_indexer,col_indexer] = value instead\n",
            "\n",
            "See the caveats in the documentation: https://pandas.pydata.org/pandas-docs/stable/user_guide/indexing.html#returning-a-view-versus-a-copy\n",
            "  df1['scaled_ts'] = rob_scaler.fit_transform(df1['TIMESTAMP'].values.reshape(-1,1))\n",
            "/opt/miniconda3/lib/python3.8/site-packages/pandas/core/frame.py:4906: SettingWithCopyWarning: \n",
            "A value is trying to be set on a copy of a slice from a DataFrame\n",
            "\n",
            "See the caveats in the documentation: https://pandas.pydata.org/pandas-docs/stable/user_guide/indexing.html#returning-a-view-versus-a-copy\n",
            "  return super().drop(\n"
          ]
        }
      ],
      "source": [
        "# Since most of our data has already been scaled we should scale the columns that are left to scale\n",
        "from sklearn.preprocessing import StandardScaler, RobustScaler\n",
        "\n",
        "# RobustScaler is less prone to outliers.\n",
        "\n",
        "#std_scaler = StandardScaler()\n",
        "rob_scaler = RobustScaler()\n",
        "\n",
        "df1['scaled_balance'] = rob_scaler.fit_transform(df1['INIT_BALANCE'].values.reshape(-1,1))\n",
        "df1['scaled_ts'] = rob_scaler.fit_transform(df1['TIMESTAMP'].values.reshape(-1,1))\n",
        "\n",
        "df1.drop(['INIT_BALANCE','TIMESTAMP'], axis=1, inplace=True)"
      ]
    },
    {
      "cell_type": "code",
      "execution_count": null,
      "id": "b75ca96e",
      "metadata": {
        "scrolled": true,
        "id": "b75ca96e",
        "outputId": "ca088482-2074-4ec8-d468-88e7df303098"
      },
      "outputs": [
        {
          "data": {
            "text/html": [
              "<div>\n",
              "<style scoped>\n",
              "    .dataframe tbody tr th:only-of-type {\n",
              "        vertical-align: middle;\n",
              "    }\n",
              "\n",
              "    .dataframe tbody tr th {\n",
              "        vertical-align: top;\n",
              "    }\n",
              "\n",
              "    .dataframe thead th {\n",
              "        text-align: right;\n",
              "    }\n",
              "</style>\n",
              "<table border=\"1\" class=\"dataframe\">\n",
              "  <thead>\n",
              "    <tr style=\"text-align: right;\">\n",
              "      <th></th>\n",
              "      <th>scaled_balance</th>\n",
              "      <th>scaled_ts</th>\n",
              "      <th>TX_BEHAVIOR_ID</th>\n",
              "      <th>senderaccts_binned</th>\n",
              "      <th>receiveraccts_binned</th>\n",
              "      <th>Alerts</th>\n",
              "      <th>perc_spendings</th>\n",
              "      <th>IS_FRAUD</th>\n",
              "    </tr>\n",
              "  </thead>\n",
              "  <tbody>\n",
              "    <tr>\n",
              "      <th>0</th>\n",
              "      <td>-0.000959</td>\n",
              "      <td>-0.000959</td>\n",
              "      <td>1</td>\n",
              "      <td>1</td>\n",
              "      <td>1</td>\n",
              "      <td>0</td>\n",
              "      <td>0.0</td>\n",
              "      <td>False</td>\n",
              "    </tr>\n",
              "    <tr>\n",
              "      <th>1</th>\n",
              "      <td>-0.000959</td>\n",
              "      <td>-0.000959</td>\n",
              "      <td>1</td>\n",
              "      <td>1</td>\n",
              "      <td>1</td>\n",
              "      <td>0</td>\n",
              "      <td>0.0</td>\n",
              "      <td>False</td>\n",
              "    </tr>\n",
              "    <tr>\n",
              "      <th>2</th>\n",
              "      <td>-0.000959</td>\n",
              "      <td>-0.000959</td>\n",
              "      <td>1</td>\n",
              "      <td>1</td>\n",
              "      <td>1</td>\n",
              "      <td>0</td>\n",
              "      <td>0.0</td>\n",
              "      <td>False</td>\n",
              "    </tr>\n",
              "    <tr>\n",
              "      <th>3</th>\n",
              "      <td>-0.000959</td>\n",
              "      <td>-0.000959</td>\n",
              "      <td>1</td>\n",
              "      <td>1</td>\n",
              "      <td>1</td>\n",
              "      <td>0</td>\n",
              "      <td>0.0</td>\n",
              "      <td>False</td>\n",
              "    </tr>\n",
              "    <tr>\n",
              "      <th>4</th>\n",
              "      <td>-0.000959</td>\n",
              "      <td>-0.000959</td>\n",
              "      <td>1</td>\n",
              "      <td>1</td>\n",
              "      <td>1</td>\n",
              "      <td>0</td>\n",
              "      <td>0.0</td>\n",
              "      <td>False</td>\n",
              "    </tr>\n",
              "  </tbody>\n",
              "</table>\n",
              "</div>"
            ],
            "text/plain": [
              "   scaled_balance  scaled_ts  TX_BEHAVIOR_ID senderaccts_binned  \\\n",
              "0       -0.000959  -0.000959               1                  1   \n",
              "1       -0.000959  -0.000959               1                  1   \n",
              "2       -0.000959  -0.000959               1                  1   \n",
              "3       -0.000959  -0.000959               1                  1   \n",
              "4       -0.000959  -0.000959               1                  1   \n",
              "\n",
              "  receiveraccts_binned  Alerts  perc_spendings IS_FRAUD  \n",
              "0                    1       0             0.0    False  \n",
              "1                    1       0             0.0    False  \n",
              "2                    1       0             0.0    False  \n",
              "3                    1       0             0.0    False  \n",
              "4                    1       0             0.0    False  "
            ]
          },
          "execution_count": 65,
          "metadata": {},
          "output_type": "execute_result"
        }
      ],
      "source": [
        "scaled_balance = df1['scaled_balance']\n",
        "scaled_ts= df1['scaled_ts']\n",
        "\n",
        "df1.drop(['scaled_balance', 'scaled_ts'], axis=1, inplace=True)\n",
        "df1.insert(0, 'scaled_balance', scaled_balance)\n",
        "df1.insert(1, 'scaled_ts', scaled_balance)\n",
        "\n",
        "# Amount and Time are Scaled!\n",
        "\n",
        "df1.head()"
      ]
    },
    {
      "cell_type": "code",
      "execution_count": null,
      "id": "bd0064c9",
      "metadata": {
        "id": "bd0064c9",
        "outputId": "96338c26-d917-40ba-e2dc-56870a985db7"
      },
      "outputs": [
        {
          "data": {
            "text/plain": [
              "scaled_balance          0\n",
              "scaled_ts               0\n",
              "TX_BEHAVIOR_ID          0\n",
              "senderaccts_binned      0\n",
              "receiveraccts_binned    0\n",
              "Alerts                  0\n",
              "perc_spendings          0\n",
              "IS_FRAUD                0\n",
              "dtype: int64"
            ]
          },
          "execution_count": 66,
          "metadata": {},
          "output_type": "execute_result"
        }
      ],
      "source": [
        "df1.isnull().sum()"
      ]
    },
    {
      "cell_type": "markdown",
      "id": "15ff453a",
      "metadata": {
        "id": "15ff453a"
      },
      "source": [
        "## Model Building"
      ]
    },
    {
      "cell_type": "markdown",
      "id": "ee2aa665",
      "metadata": {
        "id": "ee2aa665"
      },
      "source": [
        "#### Extracting X as all columns except the IS_FRAUD column and Y as IS_FRAUD"
      ]
    },
    {
      "cell_type": "code",
      "execution_count": null,
      "id": "929e9a2c",
      "metadata": {
        "id": "929e9a2c",
        "outputId": "d3239536-4bfe-4474-8acf-a583fbf9ba21"
      },
      "outputs": [
        {
          "data": {
            "text/plain": [
              "0          False\n",
              "1          False\n",
              "2          False\n",
              "3          False\n",
              "4          False\n",
              "           ...  \n",
              "1046922     True\n",
              "1046923     True\n",
              "1046924     True\n",
              "1046925     True\n",
              "1046926     True\n",
              "Name: IS_FRAUD, Length: 1046927, dtype: category\n",
              "Categories (2, object): [False, True]"
            ]
          },
          "execution_count": 67,
          "metadata": {},
          "output_type": "execute_result"
        }
      ],
      "source": [
        "y=df1['IS_FRAUD']\n",
        "X= df1.drop('IS_FRAUD', axis=1)\n",
        "#y= df1.iloc[:,-1]\n",
        "#X= df1.iloc[:,0:8].values\n",
        "\n",
        "y"
      ]
    },
    {
      "cell_type": "code",
      "execution_count": null,
      "id": "e8f0e05b",
      "metadata": {
        "id": "e8f0e05b",
        "outputId": "da212e69-da48-4da2-af5b-9377eac50682"
      },
      "outputs": [
        {
          "data": {
            "text/plain": [
              "array([0, 0, 0, ..., 1, 1, 1])"
            ]
          },
          "execution_count": 68,
          "metadata": {},
          "output_type": "execute_result"
        }
      ],
      "source": [
        "#Encode target class into numerical values\n",
        "le= LabelEncoder()\n",
        "\n",
        "y= le.fit_transform(y)\n",
        "y"
      ]
    },
    {
      "cell_type": "markdown",
      "id": "c265b33f",
      "metadata": {
        "id": "c265b33f"
      },
      "source": [
        "### Train Test Split"
      ]
    },
    {
      "cell_type": "code",
      "execution_count": null,
      "id": "06f68b09",
      "metadata": {
        "id": "06f68b09",
        "outputId": "44a78690-52f8-462b-a8b0-ce034a029ee1"
      },
      "outputs": [
        {
          "name": "stdout",
          "output_type": "stream",
          "text": [
            "(785195, 7) (261732, 7) (785195,) (261732,)\n"
          ]
        }
      ],
      "source": [
        "X_train, X_test, y_train, y_test= train_test_split(X, y, test_size=0.25, random_state=1112)\n",
        "\n",
        "print(X_train.shape, X_test.shape, y_train.shape, y_test.shape)"
      ]
    },
    {
      "cell_type": "markdown",
      "id": "d708894f",
      "metadata": {
        "id": "d708894f"
      },
      "source": [
        "## Model 1: Logistic Regression"
      ]
    },
    {
      "cell_type": "code",
      "execution_count": null,
      "id": "145367c7",
      "metadata": {
        "id": "145367c7"
      },
      "outputs": [],
      "source": [
        "#instantiate LogisticRegression Classifier\n",
        "\n",
        "lr = LogisticRegression(C=0.01, solver='liblinear', random_state=99) \n",
        "# C= Regularization strength to avoid Overfitting. smaller values specify stronger regularization \n",
        "# Other solvers have failure to converge problem"
      ]
    },
    {
      "cell_type": "markdown",
      "id": "9a3f660f",
      "metadata": {
        "id": "9a3f660f"
      },
      "source": [
        "### Cross Validation"
      ]
    },
    {
      "cell_type": "code",
      "execution_count": null,
      "id": "79ac78ed",
      "metadata": {
        "id": "79ac78ed",
        "outputId": "6dc80b0a-2265-4292-c93c-41c34d00cd79"
      },
      "outputs": [
        {
          "name": "stdout",
          "output_type": "stream",
          "text": [
            "[0.9999809  0.9983571  0.99836187 0.99835709 0.99835709]\n",
            "Average 5-Fold CV Score: 0.9986828107667716\n"
          ]
        }
      ],
      "source": [
        "# Compute 5-fold cross-validation scores: cv_scores\n",
        "cv_scores= cross_val_score(lr, X, y, cv=5)\n",
        "\n",
        "# Print the 5-fold cross-validation scores\n",
        "print(cv_scores)\n",
        "print(\"Average 5-Fold CV Score: {}\".format(np.mean(cv_scores)))"
      ]
    },
    {
      "cell_type": "code",
      "execution_count": null,
      "id": "0197eb1f",
      "metadata": {
        "id": "0197eb1f",
        "outputId": "7c198105-8a1e-42cf-f182-d73525380906"
      },
      "outputs": [
        {
          "name": "stdout",
          "output_type": "stream",
          "text": [
            "Training Set accuracy = 0.999230764332427\n",
            "Test Set accuracy = 0.9992549630920178\n"
          ]
        }
      ],
      "source": [
        "#fit the training set to model\n",
        "lr.fit(X_train, y_train)\n",
        "\n",
        "#Check Training and Test Set Accuracy\n",
        "\n",
        "training_accuracy= lr.score(X_train, y_train)\n",
        "test_accuracy= lr.score(X_test, y_test)\n",
        "\n",
        "print(f\"Training Set accuracy = {training_accuracy}\")\n",
        "print(f\"Test Set accuracy = {test_accuracy}\")"
      ]
    },
    {
      "cell_type": "markdown",
      "id": "8a77215c",
      "metadata": {
        "id": "8a77215c"
      },
      "source": [
        "### Model Evaluation"
      ]
    },
    {
      "cell_type": "code",
      "execution_count": null,
      "id": "551e6b3b",
      "metadata": {
        "id": "551e6b3b",
        "outputId": "6a142079-7ca2-470c-de2b-13f2918fa302"
      },
      "outputs": [
        {
          "data": {
            "image/png": "[encoded data removed]",
            "text/plain": [
              "<Figure size 720x576 with 2 Axes>"
            ]
          },
          "metadata": {},
          "output_type": "display_data"
        }
      ],
      "source": [
        "# Confusion matrix\n",
        "cm= confusion_matrix(y_test, lr.predict(X_test))\n",
        "\n",
        "plt.figure(figsize= (10,8))\n",
        "sns.heatmap(cm, annot=True, cmap=plt.cm.Reds)\n",
        "plt.title(\"Logistic Regression \\n Confusion Matrix\", fontsize=14)\n",
        "plt.xticks(fontsize=14, rotation=0)\n",
        "plt.yticks(fontsize=14, rotation=360)\n",
        "\n",
        "plt.show()"
      ]
    },
    {
      "cell_type": "code",
      "execution_count": null,
      "id": "c8274043",
      "metadata": {
        "scrolled": true,
        "id": "c8274043",
        "outputId": "662578c3-9e25-4534-eecc-a3f840b1fe85"
      },
      "outputs": [
        {
          "name": "stdout",
          "output_type": "stream",
          "text": [
            "              precision    recall  f1-score   support\n",
            "\n",
            "    No Fraud       1.00      1.00      1.00    261315\n",
            "       Fraud       1.00      0.53      0.69       417\n",
            "\n",
            "    accuracy                           1.00    261732\n",
            "   macro avg       1.00      0.77      0.85    261732\n",
            "weighted avg       1.00      1.00      1.00    261732\n",
            "\n"
          ]
        }
      ],
      "source": [
        "labels = ['No Fraud', 'Fraud']\n",
        "\n",
        "# Complete classification report\n",
        "print(classification_report(y_test,lr.predict(X_test),target_names=labels))"
      ]
    },
    {
      "cell_type": "markdown",
      "id": "5b4b30eb",
      "metadata": {
        "id": "5b4b30eb"
      },
      "source": [
        "<li> In a dataset with highly unbalanced classes, the classifier will always “predicts” the most common class without performing any analysis of the features and it will have a high accuracy rate, obviously not the correct one. Our model have bias towards majority class as they tend to ignore the minority class. Our minority class has negligible or very lesser recall because we have imbalanced data distribution in our dataset </li>"
      ]
    },
    {
      "cell_type": "markdown",
      "id": "4ca1dd51",
      "metadata": {
        "id": "4ca1dd51"
      },
      "source": [
        "#### Recall is the proportion of actual positive cases which are correctly identified"
      ]
    },
    {
      "cell_type": "markdown",
      "id": "30b2d7a3",
      "metadata": {
        "id": "30b2d7a3"
      },
      "source": [
        "## Model 2: Logistic Regression with Stratified sampling\n",
        "\n",
        "    It is technique to be used of imbalance distribution of data"
      ]
    },
    {
      "cell_type": "code",
      "execution_count": null,
      "id": "617de997",
      "metadata": {
        "id": "617de997",
        "outputId": "53d3e3fa-c0fe-4a5d-bbf2-e9bc4b5c1c4a"
      },
      "outputs": [
        {
          "name": "stdout",
          "output_type": "stream",
          "text": [
            "(785195, 7) (261732, 7) (785195,) (261732,)\n"
          ]
        }
      ],
      "source": [
        "X_train_sf, X_test_sf, y_train_sf, y_test_sf= train_test_split(X, y, test_size=0.25, random_state= 1112, \n",
        "                                                               stratify= y)\n",
        "\n",
        "#stratify parameter makes sures that each set contains approximately the same percentage of samples of each target class as the complete set\n",
        "\n",
        "print(X_train_sf.shape, X_test_sf.shape, y_train_sf.shape, y_test_sf.shape)"
      ]
    },
    {
      "cell_type": "code",
      "execution_count": null,
      "id": "6621248e",
      "metadata": {
        "id": "6621248e",
        "outputId": "634d7e8f-59ce-4b18-81f1-ec5a1602c22a"
      },
      "outputs": [
        {
          "name": "stdout",
          "output_type": "stream",
          "text": [
            "Training Set accuracy = 0.999232037901413\n",
            "Test Set accuracy = 0.9992435009857411\n"
          ]
        }
      ],
      "source": [
        "lr = LogisticRegression(C=0.01, solver='liblinear', random_state=99) \n",
        "\n",
        "#fit the training set to model\n",
        "lr.fit(X_train_sf, y_train_sf)\n",
        "\n",
        "#Check Training and Test Set Accuracy\n",
        "\n",
        "training_accuracy_sf= lr.score(X_train_sf, y_train_sf)\n",
        "test_accuracy_sf= lr.score(X_test_sf, y_test_sf)\n",
        "\n",
        "print(f\"Training Set accuracy = {training_accuracy_sf}\")\n",
        "print(f\"Test Set accuracy = {test_accuracy_sf}\")"
      ]
    },
    {
      "cell_type": "code",
      "execution_count": null,
      "id": "8ce240f9",
      "metadata": {
        "scrolled": false,
        "id": "8ce240f9",
        "outputId": "ef4e4883-140c-448f-b100-bbb7c47d1b1c"
      },
      "outputs": [
        {
          "name": "stdout",
          "output_type": "stream",
          "text": [
            "              precision    recall  f1-score   support\n",
            "\n",
            "    No Fraud       1.00      1.00      1.00    261302\n",
            "       Fraud       1.00      0.54      0.70       430\n",
            "\n",
            "    accuracy                           1.00    261732\n",
            "   macro avg       1.00      0.77      0.85    261732\n",
            "weighted avg       1.00      1.00      1.00    261732\n",
            "\n"
          ]
        }
      ],
      "source": [
        "# Complete classification report\n",
        "labels = ['No Fraud', 'Fraud']\n",
        "\n",
        "print(classification_report(y_test_sf,lr.predict(X_test_sf),target_names=labels))"
      ]
    },
    {
      "cell_type": "markdown",
      "id": "7150c694",
      "metadata": {
        "id": "7150c694"
      },
      "source": [
        "### Model Evaluation"
      ]
    },
    {
      "cell_type": "code",
      "execution_count": null,
      "id": "b3a13a49",
      "metadata": {
        "id": "b3a13a49",
        "outputId": "60b3a833-36ea-4a9f-ead8-20f6a4af22f0"
      },
      "outputs": [
        {
          "data": {
            "image/png": "[encoded data removed]",
            "text/plain": [
              "<Figure size 720x576 with 2 Axes>"
            ]
          },
          "metadata": {},
          "output_type": "display_data"
        }
      ],
      "source": [
        "# Confusion matrix\n",
        "cm_sf= confusion_matrix(y_test_sf, lr.predict(X_test_sf))\n",
        "\n",
        "plt.figure(figsize= (10,8))\n",
        "sns.heatmap(cm_sf, annot=True, cmap=plt.cm.Reds)\n",
        "plt.title(\"Logistic Regression \\n Confusion Matrix\", fontsize=14)\n",
        "plt.xticks(fontsize=14, rotation=0)\n",
        "plt.yticks(fontsize=14, rotation=360)\n",
        "\n",
        "plt.show()"
      ]
    },
    {
      "cell_type": "markdown",
      "id": "dcf158fe",
      "metadata": {
        "id": "dcf158fe"
      },
      "source": [
        "##### This model is better than the first model because it classifies better and also the recall value of minority class is increased to 54 %"
      ]
    },
    {
      "cell_type": "markdown",
      "id": "9839200a",
      "metadata": {
        "id": "9839200a"
      },
      "source": [
        "## HyperParameter Tuning"
      ]
    },
    {
      "cell_type": "code",
      "execution_count": null,
      "id": "629df6b6",
      "metadata": {
        "id": "629df6b6"
      },
      "outputs": [],
      "source": [
        "from sklearn.model_selection import GridSearchCV\n",
        "\n",
        "param_lr= {'C': [0.01, 0.1, 1]}\n",
        "\n",
        "#Instantiate grid_lr\n",
        "grid_lr= GridSearchCV(lr, param_grid=param_lr, cv=5, scoring='recall')"
      ]
    },
    {
      "cell_type": "code",
      "execution_count": null,
      "id": "ab4fa5b4",
      "metadata": {
        "id": "ab4fa5b4",
        "outputId": "35e479cc-5b32-46f9-da53-622ce0b793a4"
      },
      "outputs": [
        {
          "data": {
            "text/plain": [
              "GridSearchCV(cv=5,\n",
              "             estimator=LogisticRegression(C=0.01, random_state=99,\n",
              "                                          solver='liblinear'),\n",
              "             param_grid={'C': [0.01, 0.1, 1]}, scoring='recall')"
            ]
          },
          "execution_count": 80,
          "metadata": {},
          "output_type": "execute_result"
        }
      ],
      "source": [
        "grid_lr.fit(X_train_sf, y_train_sf)"
      ]
    },
    {
      "cell_type": "code",
      "execution_count": null,
      "id": "6439791b",
      "metadata": {
        "id": "6439791b",
        "outputId": "96a92ed4-849f-4b08-d249-26d57e60225c"
      },
      "outputs": [
        {
          "name": "stdout",
          "output_type": "stream",
          "text": [
            "Best CV params {'C': 1}\n",
            "Best CV recall 0.8557656923958616\n",
            "Test Recall of best grid search hypers: 1.0\n"
          ]
        }
      ],
      "source": [
        "# Report the best parameters and the corresponding score\n",
        "print(\"Best CV params\", grid_lr.best_params_)\n",
        "print(\"Best CV recall\", grid_lr.best_score_)\n",
        "# Report the test accuracy using these best parameters\n",
        "print(\"Test Recall of best grid search hypers:\", grid_lr.score(X_test_sf,y_test_sf))"
      ]
    },
    {
      "cell_type": "code",
      "execution_count": null,
      "id": "45605fd0",
      "metadata": {
        "id": "45605fd0"
      },
      "outputs": [],
      "source": [
        "predictions_grid= grid_lr.predict(X_test_sf)"
      ]
    },
    {
      "cell_type": "markdown",
      "id": "97fdd762",
      "metadata": {
        "id": "97fdd762"
      },
      "source": [
        "### Model Evaluation"
      ]
    },
    {
      "cell_type": "code",
      "execution_count": null,
      "id": "8010746f",
      "metadata": {
        "scrolled": true,
        "id": "8010746f",
        "outputId": "d7098ec0-0726-463e-e66d-f9233eed780d"
      },
      "outputs": [
        {
          "name": "stdout",
          "output_type": "stream",
          "text": [
            "              precision    recall  f1-score   support\n",
            "\n",
            "    No Fraud       1.00      1.00      1.00    261302\n",
            "       Fraud       1.00      1.00      1.00       430\n",
            "\n",
            "    accuracy                           1.00    261732\n",
            "   macro avg       1.00      1.00      1.00    261732\n",
            "weighted avg       1.00      1.00      1.00    261732\n",
            "\n"
          ]
        }
      ],
      "source": [
        "labels = ['No Fraud', 'Fraud']\n",
        "\n",
        "print(classification_report(y_test_sf,predictions_grid,target_names=labels))"
      ]
    },
    {
      "cell_type": "code",
      "execution_count": null,
      "id": "9f1625ab",
      "metadata": {
        "scrolled": true,
        "id": "9f1625ab",
        "outputId": "6ed8e5cf-59b0-497b-c535-df062c466127"
      },
      "outputs": [
        {
          "data": {
            "image/png": "[encoded data removed]",
            "text/plain": [
              "<Figure size 720x576 with 2 Axes>"
            ]
          },
          "metadata": {},
          "output_type": "display_data"
        }
      ],
      "source": [
        "# Confusion matrix\n",
        "cm_gs= confusion_matrix(y_test_sf, predictions_grid, )\n",
        "\n",
        "plt.figure(figsize= (10,8))\n",
        "sns.heatmap(cm_gs, annot=True, cmap=plt.cm.Reds)\n",
        "plt.title(\"Logistic Regression \\n Confusion Matrix\", fontsize=14)\n",
        "plt.xticks(fontsize=14, rotation=0)\n",
        "plt.yticks(fontsize=14, rotation=360)\n",
        "\n",
        "plt.show()"
      ]
    },
    {
      "cell_type": "markdown",
      "id": "f4c89a7c",
      "metadata": {
        "id": "f4c89a7c"
      },
      "source": [
        "### Setting Parameter C=1 during fitting our training data to our Logistic regression model increases our recall score from 54% to 100%"
      ]
    },
    {
      "cell_type": "markdown",
      "id": "70d1c838",
      "metadata": {
        "id": "70d1c838"
      },
      "source": [
        "## Model Comparison"
      ]
    },
    {
      "cell_type": "markdown",
      "id": "eef6d177",
      "metadata": {
        "id": "eef6d177"
      },
      "source": [
        "    Fit our Training and Test set to other Classification models and Evaluating Model performance"
      ]
    },
    {
      "cell_type": "code",
      "execution_count": null,
      "id": "f27a9db9",
      "metadata": {
        "id": "f27a9db9"
      },
      "outputs": [],
      "source": [
        "from sklearn.tree import DecisionTreeClassifier\n",
        "from sklearn.ensemble import RandomForestClassifier\n",
        "from sklearn.ensemble import GradientBoostingClassifier\n",
        "from sklearn.neighbors import KNeighborsClassifier\n",
        "from sklearn.svm import SVC\n",
        "\n",
        "dt= DecisionTreeClassifier()\n",
        "rf= RandomForestClassifier(oob_score=True, n_estimators=100)\n",
        "#oob_score= True is to use out-of-bag samples to estimate the generalization score\n",
        "\n",
        "kn= KNeighborsClassifier()\n",
        "\n",
        "gbr= GradientBoostingClassifier()\n",
        "svm= SVC(kernel='linear')"
      ]
    },
    {
      "cell_type": "code",
      "execution_count": null,
      "id": "61ff52e9",
      "metadata": {
        "id": "61ff52e9",
        "outputId": "95442323-f6c8-400a-c526-22513395bcca"
      },
      "outputs": [
        {
          "data": {
            "text/plain": [
              "GradientBoostingClassifier()"
            ]
          },
          "execution_count": 86,
          "metadata": {},
          "output_type": "execute_result"
        }
      ],
      "source": [
        "# Other models fitted\n",
        "\n",
        "dt.fit(X_train_sf, y_train_sf)\n",
        "rf.fit(X_train_sf, y_train_sf)\n",
        "kn.fit(X_train_sf, y_train_sf)\n",
        "gbr.fit(X_train_sf, y_train_sf)\n",
        "#svm.fit(X_train_sf, y_train_sf)"
      ]
    },
    {
      "cell_type": "code",
      "execution_count": null,
      "id": "56c91bc6",
      "metadata": {
        "id": "56c91bc6"
      },
      "outputs": [],
      "source": [
        "# predicting Target labels\n",
        "y_pred_dt = dt.predict(X_test_sf)\n",
        "y_pred_rf = rf.predict(X_test_sf)\n",
        "y_pred_kn = kn.predict(X_test_sf)\n",
        "y_pred_gbr = gbr.predict(X_test_sf)\n",
        "#y_pred_svm = svm.predict(X_test_sf)"
      ]
    },
    {
      "cell_type": "markdown",
      "id": "6b417553",
      "metadata": {
        "id": "6b417553"
      },
      "source": [
        "### Model Evaluation"
      ]
    },
    {
      "cell_type": "code",
      "execution_count": null,
      "id": "cea93ae1",
      "metadata": {
        "scrolled": true,
        "id": "cea93ae1",
        "outputId": "b0b1589b-97d5-4fff-9aa3-bb618152e5b9"
      },
      "outputs": [
        {
          "name": "stdout",
          "output_type": "stream",
          "text": [
            "Decision Tree:\n",
            "              precision    recall  f1-score   support\n",
            "\n",
            "    No Fraud       1.00      1.00      1.00    261302\n",
            "       Fraud       1.00      1.00      1.00       430\n",
            "\n",
            "    accuracy                           1.00    261732\n",
            "   macro avg       1.00      1.00      1.00    261732\n",
            "weighted avg       1.00      1.00      1.00    261732\n",
            "\n",
            "KNears Neighbors:\n",
            "              precision    recall  f1-score   support\n",
            "\n",
            "    No Fraud       1.00      1.00      1.00    261302\n",
            "       Fraud       0.99      0.96      0.97       430\n",
            "\n",
            "    accuracy                           1.00    261732\n",
            "   macro avg       0.99      0.98      0.99    261732\n",
            "weighted avg       1.00      1.00      1.00    261732\n",
            "\n",
            "Random Forest Classifier:\n",
            "              precision    recall  f1-score   support\n",
            "\n",
            "    No Fraud       1.00      1.00      1.00    261302\n",
            "       Fraud       1.00      1.00      1.00       430\n",
            "\n",
            "    accuracy                           1.00    261732\n",
            "   macro avg       1.00      1.00      1.00    261732\n",
            "weighted avg       1.00      1.00      1.00    261732\n",
            "\n",
            "Gradient Boost Classifier:\n",
            "              precision    recall  f1-score   support\n",
            "\n",
            "    No Fraud       1.00      1.00      1.00    261302\n",
            "       Fraud       1.00      1.00      1.00       430\n",
            "\n",
            "    accuracy                           1.00    261732\n",
            "   macro avg       1.00      1.00      1.00    261732\n",
            "weighted avg       1.00      1.00      1.00    261732\n",
            "\n"
          ]
        }
      ],
      "source": [
        "labels = ['No Fraud', 'Fraud']\n",
        "\n",
        "print('Decision Tree:')\n",
        "print(classification_report(y_test_sf,y_pred_dt, target_names=labels))\n",
        "\n",
        "print('KNears Neighbors:')\n",
        "print(classification_report(y_test_sf, y_pred_kn, target_names=labels))\n",
        "\n",
        "print('Random Forest Classifier:')\n",
        "print(classification_report(y_test_sf, y_pred_rf, target_names=labels))\n",
        "\n",
        "print('Gradient Boost Classifier:')\n",
        "print(classification_report(y_test_sf, y_pred_gbr, target_names=labels))\n",
        "\n",
        "#print('Linear SVC:')\n",
        "#print(classification_report(y_test_sf, y_pred_svm, target_names=labels))"
      ]
    },
    {
      "cell_type": "markdown",
      "id": "fac0c484",
      "metadata": {
        "id": "fac0c484"
      },
      "source": [
        "## Conclusion:\n",
        "\n",
        "\n",
        "##### Different models perform better on given dataset. Tree Based model always performs better on imbalanced Dataset\n",
        "##### As we got imbalanced dataset, Metrics like Accuracy score is not effective evaluation parameter to our models. \n",
        "##### We started with traditional Logistic Regression and with little help from HyperParameter Tuning, we are able to achieve Acceptable Recall score. \n",
        "##### Now we can use any of Tree based model or Logistic Regression Model to predict upcoming new transactions."
      ]
    }
  ],
  "metadata": {
    "kernelspec": {
      "display_name": "Python 3 (ipykernel)",
      "language": "python",
      "name": "python3"
    },
    "language_info": {
      "codemirror_mode": {
        "name": "ipython",
        "version": 3
      },
      "file_extension": ".py",
      "mimetype": "text/x-python",
      "name": "python",
      "nbconvert_exporter": "python",
      "pygments_lexer": "ipython3",
      "version": "3.8.10"
    },
    "colab": {
      "name": "AML ML model.ipynb",
      "provenance": [],
      "collapsed_sections": [
        "42b88e8e",
        "23b40cdb",
        "138dc52e",
        "d22432ee",
        "cac4cedb",
        "3c5979be",
        "9a3f660f",
        "4ca1dd51",
        "f4c89a7c"
      ],
      "include_colab_link": true
    }
  },
  "nbformat": 4,
  "nbformat_minor": 5
}